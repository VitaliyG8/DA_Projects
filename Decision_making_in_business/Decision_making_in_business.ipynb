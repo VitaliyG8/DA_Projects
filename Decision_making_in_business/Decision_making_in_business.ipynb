{
 "cells": [
  {
   "cell_type": "markdown",
   "metadata": {},
   "source": [
    "Название проекта: Приоритизация гипотез и анализ A/B-теста в интернет-магазине.\n",
    "\n",
    "Описание проекта\n",
    "\n",
    "В крупном интернет-магазине подготовлен список гипотез для увеличения выручки.\n",
    "Необходимо приоритизировать гипотезы, запустить A/B-тест и проанализировать результаты\n",
    "\n",
    "Описание данных\n",
    "\n",
    "Часть 1\n",
    "Файл /datasets/hypothesis.csv. Скачать датасет\n",
    "\n",
    "Hypothesis — краткое описание гипотезы;\n",
    "Reach — охват пользователей по 10-балльной шкале;\n",
    "Impact — влияние на пользователей по 10-балльной шкале;\n",
    "Confidence — уверенность в гипотезе по 10-балльной шкале;\n",
    "Efforts — затраты ресурсов на проверку гипотезы по 10-балльной шкале. Чем больше значение Efforts, тем дороже проверка гипотезы.\n",
    "Часть 2\n",
    "Файл /datasets/orders.csv. Скачать датасет\n",
    "\n",
    "transactionId — идентификатор заказа;\n",
    "visitorId — идентификатор пользователя, совершившего заказ;\n",
    "date — дата, когда был совершён заказ;\n",
    "revenue — выручка заказа;\n",
    "group — группа A/B-теста, в которую попал заказ.\n",
    "Файл /datasets/visitors.csv. Скачать датасет\n",
    "\n",
    "date — дата;\n",
    "group — группа A/B-теста;\n",
    "visitors — количество пользователей в указанную дату в указанной группе A/B-тест\n",
    "\n",
    "Содержание\n",
    "\n",
    "1. Открыть файлы с данными и изучить общую информацию\n",
    "2. Предобработка данных\n",
    "3. Приоритизация гипотез\n",
    "4. Анализ A/B-теста\n",
    "5. Общий вывод"
   ]
  },
  {
   "cell_type": "markdown",
   "metadata": {},
   "source": [
    "## Открыть файлы с данными и изучить общую информацию"
   ]
  },
  {
   "cell_type": "code",
   "execution_count": 1,
   "metadata": {},
   "outputs": [],
   "source": [
    "#Импорт библиотек\n",
    "import pandas as pd\n",
    "import numpy as np\n",
    "import matplotlib.pyplot as plt\n",
    "from datetime import datetime, timedelta\n",
    "import seaborn as sns\n",
    "from pymystem3 import Mystem\n",
    "from collections import Counter\n",
    "from scipy import stats as st\n",
    "import datetime as dt"
   ]
  },
  {
   "cell_type": "code",
   "execution_count": 2,
   "metadata": {},
   "outputs": [],
   "source": [
    "pd.options.display.max_colwidth = 150"
   ]
  },
  {
   "cell_type": "markdown",
   "metadata": {},
   "source": [
    "Загружаем данные"
   ]
  },
  {
   "cell_type": "code",
   "execution_count": 3,
   "metadata": {},
   "outputs": [],
   "source": [
    "hypothesis = pd.read_csv('/datasets/hypothesis.csv')    "
   ]
  },
  {
   "cell_type": "code",
   "execution_count": 4,
   "metadata": {},
   "outputs": [],
   "source": [
    "orders = pd.read_csv('/datasets/orders.csv')"
   ]
  },
  {
   "cell_type": "code",
   "execution_count": 5,
   "metadata": {},
   "outputs": [],
   "source": [
    "visitors = pd.read_csv('/datasets/visitors.csv')"
   ]
  },
  {
   "cell_type": "markdown",
   "metadata": {},
   "source": [
    "Рассмотреть имеющиеся данные"
   ]
  },
  {
   "cell_type": "code",
   "execution_count": 6,
   "metadata": {},
   "outputs": [
    {
     "data": {
      "text/html": [
       "<div>\n",
       "<style scoped>\n",
       "    .dataframe tbody tr th:only-of-type {\n",
       "        vertical-align: middle;\n",
       "    }\n",
       "\n",
       "    .dataframe tbody tr th {\n",
       "        vertical-align: top;\n",
       "    }\n",
       "\n",
       "    .dataframe thead th {\n",
       "        text-align: right;\n",
       "    }\n",
       "</style>\n",
       "<table border=\"1\" class=\"dataframe\">\n",
       "  <thead>\n",
       "    <tr style=\"text-align: right;\">\n",
       "      <th></th>\n",
       "      <th>Hypothesis</th>\n",
       "      <th>Reach</th>\n",
       "      <th>Impact</th>\n",
       "      <th>Confidence</th>\n",
       "      <th>Efforts</th>\n",
       "    </tr>\n",
       "  </thead>\n",
       "  <tbody>\n",
       "    <tr>\n",
       "      <th>0</th>\n",
       "      <td>Добавить два новых канала привлечения трафика, что позволит привлекать на 30% больше пользователей</td>\n",
       "      <td>3</td>\n",
       "      <td>10</td>\n",
       "      <td>8</td>\n",
       "      <td>6</td>\n",
       "    </tr>\n",
       "    <tr>\n",
       "      <th>1</th>\n",
       "      <td>Запустить собственную службу доставки, что сократит срок доставки заказов</td>\n",
       "      <td>2</td>\n",
       "      <td>5</td>\n",
       "      <td>4</td>\n",
       "      <td>10</td>\n",
       "    </tr>\n",
       "    <tr>\n",
       "      <th>2</th>\n",
       "      <td>Добавить блоки рекомендаций товаров на сайт интернет магазина, чтобы повысить конверсию и средний чек заказа</td>\n",
       "      <td>8</td>\n",
       "      <td>3</td>\n",
       "      <td>7</td>\n",
       "      <td>3</td>\n",
       "    </tr>\n",
       "    <tr>\n",
       "      <th>3</th>\n",
       "      <td>Изменить структура категорий, что увеличит конверсию, т.к. пользователи быстрее найдут нужный товар</td>\n",
       "      <td>8</td>\n",
       "      <td>3</td>\n",
       "      <td>3</td>\n",
       "      <td>8</td>\n",
       "    </tr>\n",
       "    <tr>\n",
       "      <th>4</th>\n",
       "      <td>Изменить цвет фона главной страницы, чтобы увеличить вовлеченность пользователей</td>\n",
       "      <td>3</td>\n",
       "      <td>1</td>\n",
       "      <td>1</td>\n",
       "      <td>1</td>\n",
       "    </tr>\n",
       "  </tbody>\n",
       "</table>\n",
       "</div>"
      ],
      "text/plain": [
       "                                                                                                     Hypothesis  \\\n",
       "0            Добавить два новых канала привлечения трафика, что позволит привлекать на 30% больше пользователей   \n",
       "1                                     Запустить собственную службу доставки, что сократит срок доставки заказов   \n",
       "2  Добавить блоки рекомендаций товаров на сайт интернет магазина, чтобы повысить конверсию и средний чек заказа   \n",
       "3           Изменить структура категорий, что увеличит конверсию, т.к. пользователи быстрее найдут нужный товар   \n",
       "4                              Изменить цвет фона главной страницы, чтобы увеличить вовлеченность пользователей   \n",
       "\n",
       "   Reach  Impact  Confidence  Efforts  \n",
       "0      3      10           8        6  \n",
       "1      2       5           4       10  \n",
       "2      8       3           7        3  \n",
       "3      8       3           3        8  \n",
       "4      3       1           1        1  "
      ]
     },
     "execution_count": 6,
     "metadata": {},
     "output_type": "execute_result"
    }
   ],
   "source": [
    "hypothesis.head(5)"
   ]
  },
  {
   "cell_type": "code",
   "execution_count": 7,
   "metadata": {},
   "outputs": [
    {
     "data": {
      "text/html": [
       "<div>\n",
       "<style scoped>\n",
       "    .dataframe tbody tr th:only-of-type {\n",
       "        vertical-align: middle;\n",
       "    }\n",
       "\n",
       "    .dataframe tbody tr th {\n",
       "        vertical-align: top;\n",
       "    }\n",
       "\n",
       "    .dataframe thead th {\n",
       "        text-align: right;\n",
       "    }\n",
       "</style>\n",
       "<table border=\"1\" class=\"dataframe\">\n",
       "  <thead>\n",
       "    <tr style=\"text-align: right;\">\n",
       "      <th></th>\n",
       "      <th>transactionId</th>\n",
       "      <th>visitorId</th>\n",
       "      <th>date</th>\n",
       "      <th>revenue</th>\n",
       "      <th>group</th>\n",
       "    </tr>\n",
       "  </thead>\n",
       "  <tbody>\n",
       "    <tr>\n",
       "      <th>0</th>\n",
       "      <td>3667963787</td>\n",
       "      <td>3312258926</td>\n",
       "      <td>2019-08-15</td>\n",
       "      <td>1650</td>\n",
       "      <td>B</td>\n",
       "    </tr>\n",
       "    <tr>\n",
       "      <th>1</th>\n",
       "      <td>2804400009</td>\n",
       "      <td>3642806036</td>\n",
       "      <td>2019-08-15</td>\n",
       "      <td>730</td>\n",
       "      <td>B</td>\n",
       "    </tr>\n",
       "    <tr>\n",
       "      <th>2</th>\n",
       "      <td>2961555356</td>\n",
       "      <td>4069496402</td>\n",
       "      <td>2019-08-15</td>\n",
       "      <td>400</td>\n",
       "      <td>A</td>\n",
       "    </tr>\n",
       "    <tr>\n",
       "      <th>3</th>\n",
       "      <td>3797467345</td>\n",
       "      <td>1196621759</td>\n",
       "      <td>2019-08-15</td>\n",
       "      <td>9759</td>\n",
       "      <td>B</td>\n",
       "    </tr>\n",
       "    <tr>\n",
       "      <th>4</th>\n",
       "      <td>2282983706</td>\n",
       "      <td>2322279887</td>\n",
       "      <td>2019-08-15</td>\n",
       "      <td>2308</td>\n",
       "      <td>B</td>\n",
       "    </tr>\n",
       "  </tbody>\n",
       "</table>\n",
       "</div>"
      ],
      "text/plain": [
       "   transactionId   visitorId        date  revenue group\n",
       "0     3667963787  3312258926  2019-08-15     1650     B\n",
       "1     2804400009  3642806036  2019-08-15      730     B\n",
       "2     2961555356  4069496402  2019-08-15      400     A\n",
       "3     3797467345  1196621759  2019-08-15     9759     B\n",
       "4     2282983706  2322279887  2019-08-15     2308     B"
      ]
     },
     "execution_count": 7,
     "metadata": {},
     "output_type": "execute_result"
    }
   ],
   "source": [
    "orders.head(5)"
   ]
  },
  {
   "cell_type": "code",
   "execution_count": 8,
   "metadata": {},
   "outputs": [
    {
     "data": {
      "text/html": [
       "<div>\n",
       "<style scoped>\n",
       "    .dataframe tbody tr th:only-of-type {\n",
       "        vertical-align: middle;\n",
       "    }\n",
       "\n",
       "    .dataframe tbody tr th {\n",
       "        vertical-align: top;\n",
       "    }\n",
       "\n",
       "    .dataframe thead th {\n",
       "        text-align: right;\n",
       "    }\n",
       "</style>\n",
       "<table border=\"1\" class=\"dataframe\">\n",
       "  <thead>\n",
       "    <tr style=\"text-align: right;\">\n",
       "      <th></th>\n",
       "      <th>date</th>\n",
       "      <th>group</th>\n",
       "      <th>visitors</th>\n",
       "    </tr>\n",
       "  </thead>\n",
       "  <tbody>\n",
       "    <tr>\n",
       "      <th>0</th>\n",
       "      <td>2019-08-01</td>\n",
       "      <td>A</td>\n",
       "      <td>719</td>\n",
       "    </tr>\n",
       "    <tr>\n",
       "      <th>1</th>\n",
       "      <td>2019-08-02</td>\n",
       "      <td>A</td>\n",
       "      <td>619</td>\n",
       "    </tr>\n",
       "    <tr>\n",
       "      <th>2</th>\n",
       "      <td>2019-08-03</td>\n",
       "      <td>A</td>\n",
       "      <td>507</td>\n",
       "    </tr>\n",
       "    <tr>\n",
       "      <th>3</th>\n",
       "      <td>2019-08-04</td>\n",
       "      <td>A</td>\n",
       "      <td>717</td>\n",
       "    </tr>\n",
       "    <tr>\n",
       "      <th>4</th>\n",
       "      <td>2019-08-05</td>\n",
       "      <td>A</td>\n",
       "      <td>756</td>\n",
       "    </tr>\n",
       "  </tbody>\n",
       "</table>\n",
       "</div>"
      ],
      "text/plain": [
       "         date group  visitors\n",
       "0  2019-08-01     A       719\n",
       "1  2019-08-02     A       619\n",
       "2  2019-08-03     A       507\n",
       "3  2019-08-04     A       717\n",
       "4  2019-08-05     A       756"
      ]
     },
     "execution_count": 8,
     "metadata": {},
     "output_type": "execute_result"
    }
   ],
   "source": [
    "visitors.head(5)"
   ]
  },
  {
   "cell_type": "code",
   "execution_count": 9,
   "metadata": {},
   "outputs": [
    {
     "name": "stdout",
     "output_type": "stream",
     "text": [
      "<class 'pandas.core.frame.DataFrame'>\n",
      "RangeIndex: 9 entries, 0 to 8\n",
      "Data columns (total 5 columns):\n",
      " #   Column      Non-Null Count  Dtype \n",
      "---  ------      --------------  ----- \n",
      " 0   Hypothesis  9 non-null      object\n",
      " 1   Reach       9 non-null      int64 \n",
      " 2   Impact      9 non-null      int64 \n",
      " 3   Confidence  9 non-null      int64 \n",
      " 4   Efforts     9 non-null      int64 \n",
      "dtypes: int64(4), object(1)\n",
      "memory usage: 488.0+ bytes\n"
     ]
    }
   ],
   "source": [
    "hypothesis.info()"
   ]
  },
  {
   "cell_type": "code",
   "execution_count": 10,
   "metadata": {},
   "outputs": [
    {
     "name": "stdout",
     "output_type": "stream",
     "text": [
      "<class 'pandas.core.frame.DataFrame'>\n",
      "RangeIndex: 1197 entries, 0 to 1196\n",
      "Data columns (total 5 columns):\n",
      " #   Column         Non-Null Count  Dtype \n",
      "---  ------         --------------  ----- \n",
      " 0   transactionId  1197 non-null   int64 \n",
      " 1   visitorId      1197 non-null   int64 \n",
      " 2   date           1197 non-null   object\n",
      " 3   revenue        1197 non-null   int64 \n",
      " 4   group          1197 non-null   object\n",
      "dtypes: int64(3), object(2)\n",
      "memory usage: 46.9+ KB\n"
     ]
    }
   ],
   "source": [
    "orders.info()"
   ]
  },
  {
   "cell_type": "code",
   "execution_count": 11,
   "metadata": {},
   "outputs": [
    {
     "name": "stdout",
     "output_type": "stream",
     "text": [
      "<class 'pandas.core.frame.DataFrame'>\n",
      "RangeIndex: 62 entries, 0 to 61\n",
      "Data columns (total 3 columns):\n",
      " #   Column    Non-Null Count  Dtype \n",
      "---  ------    --------------  ----- \n",
      " 0   date      62 non-null     object\n",
      " 1   group     62 non-null     object\n",
      " 2   visitors  62 non-null     int64 \n",
      "dtypes: int64(1), object(2)\n",
      "memory usage: 1.6+ KB\n"
     ]
    }
   ],
   "source": [
    "visitors.info()"
   ]
  },
  {
   "cell_type": "markdown",
   "metadata": {},
   "source": [
    "## Предобработка данных"
   ]
  },
  {
   "cell_type": "markdown",
   "metadata": {},
   "source": [
    "Проверить данные на наличие явных дубликатов"
   ]
  },
  {
   "cell_type": "code",
   "execution_count": 12,
   "metadata": {},
   "outputs": [
    {
     "data": {
      "text/plain": [
       "0"
      ]
     },
     "execution_count": 12,
     "metadata": {},
     "output_type": "execute_result"
    }
   ],
   "source": [
    "hypothesis.duplicated().sum()"
   ]
  },
  {
   "cell_type": "code",
   "execution_count": 13,
   "metadata": {},
   "outputs": [
    {
     "data": {
      "text/plain": [
       "0"
      ]
     },
     "execution_count": 13,
     "metadata": {},
     "output_type": "execute_result"
    }
   ],
   "source": [
    "orders.duplicated().sum()"
   ]
  },
  {
   "cell_type": "code",
   "execution_count": 14,
   "metadata": {},
   "outputs": [
    {
     "data": {
      "text/plain": [
       "0"
      ]
     },
     "execution_count": 14,
     "metadata": {},
     "output_type": "execute_result"
    }
   ],
   "source": [
    "visitors.duplicated().sum()"
   ]
  },
  {
   "cell_type": "markdown",
   "metadata": {},
   "source": [
    "Привести к нижнему регистру название столбцов"
   ]
  },
  {
   "cell_type": "code",
   "execution_count": 15,
   "metadata": {},
   "outputs": [],
   "source": [
    "hypothesis.columns = map(str.lower, hypothesis.columns)"
   ]
  },
  {
   "cell_type": "code",
   "execution_count": 16,
   "metadata": {},
   "outputs": [
    {
     "data": {
      "text/plain": [
       "Index(['hypothesis', 'reach', 'impact', 'confidence', 'efforts'], dtype='object')"
      ]
     },
     "execution_count": 16,
     "metadata": {},
     "output_type": "execute_result"
    }
   ],
   "source": [
    "hypothesis.columns"
   ]
  },
  {
   "cell_type": "code",
   "execution_count": 17,
   "metadata": {},
   "outputs": [],
   "source": [
    "orders['date'] = orders['date'].map(\n",
    "    lambda x: dt.datetime.strptime(x, '%Y-%m-%d')\n",
    ")  "
   ]
  },
  {
   "cell_type": "code",
   "execution_count": 18,
   "metadata": {},
   "outputs": [],
   "source": [
    "visitors['date'] = visitors['date'].map(\n",
    "    lambda x: dt.datetime.strptime(x, '%Y-%m-%d')\n",
    ")"
   ]
  },
  {
   "cell_type": "code",
   "execution_count": 19,
   "metadata": {},
   "outputs": [
    {
     "name": "stdout",
     "output_type": "stream",
     "text": [
      "<class 'pandas.core.frame.DataFrame'>\n",
      "RangeIndex: 1197 entries, 0 to 1196\n",
      "Data columns (total 5 columns):\n",
      " #   Column         Non-Null Count  Dtype         \n",
      "---  ------         --------------  -----         \n",
      " 0   transactionId  1197 non-null   int64         \n",
      " 1   visitorId      1197 non-null   int64         \n",
      " 2   date           1197 non-null   datetime64[ns]\n",
      " 3   revenue        1197 non-null   int64         \n",
      " 4   group          1197 non-null   object        \n",
      "dtypes: datetime64[ns](1), int64(3), object(1)\n",
      "memory usage: 46.9+ KB\n"
     ]
    }
   ],
   "source": [
    "orders.info()"
   ]
  },
  {
   "cell_type": "code",
   "execution_count": 20,
   "metadata": {},
   "outputs": [
    {
     "name": "stdout",
     "output_type": "stream",
     "text": [
      "<class 'pandas.core.frame.DataFrame'>\n",
      "RangeIndex: 62 entries, 0 to 61\n",
      "Data columns (total 3 columns):\n",
      " #   Column    Non-Null Count  Dtype         \n",
      "---  ------    --------------  -----         \n",
      " 0   date      62 non-null     datetime64[ns]\n",
      " 1   group     62 non-null     object        \n",
      " 2   visitors  62 non-null     int64         \n",
      "dtypes: datetime64[ns](1), int64(1), object(1)\n",
      "memory usage: 1.6+ KB\n"
     ]
    }
   ],
   "source": [
    "visitors.info()"
   ]
  },
  {
   "cell_type": "code",
   "execution_count": null,
   "metadata": {},
   "outputs": [],
   "source": []
  },
  {
   "cell_type": "markdown",
   "metadata": {},
   "source": [
    "Вывод:\n",
    "    В данных были приведены к нижнему регистру названия колонок в датасете hypothesis. Приведены колонки date  датасета visitors и date в датасета orders к формату datetime64. Явные дубоикаты в трёх имеющихся датасетах обнаружены не были."
   ]
  },
  {
   "cell_type": "markdown",
   "metadata": {},
   "source": [
    "## Приоритизация гипотез"
   ]
  },
  {
   "cell_type": "markdown",
   "metadata": {},
   "source": [
    "### Примените фреймворк ICE для приоритизации гипотез. Отсортируйте их по убыванию приоритета."
   ]
  },
  {
   "cell_type": "code",
   "execution_count": 21,
   "metadata": {
    "scrolled": true
   },
   "outputs": [
    {
     "data": {
      "text/html": [
       "<div>\n",
       "<style scoped>\n",
       "    .dataframe tbody tr th:only-of-type {\n",
       "        vertical-align: middle;\n",
       "    }\n",
       "\n",
       "    .dataframe tbody tr th {\n",
       "        vertical-align: top;\n",
       "    }\n",
       "\n",
       "    .dataframe thead th {\n",
       "        text-align: right;\n",
       "    }\n",
       "</style>\n",
       "<table border=\"1\" class=\"dataframe\">\n",
       "  <thead>\n",
       "    <tr style=\"text-align: right;\">\n",
       "      <th></th>\n",
       "      <th>hypothesis</th>\n",
       "      <th>ICE</th>\n",
       "    </tr>\n",
       "  </thead>\n",
       "  <tbody>\n",
       "    <tr>\n",
       "      <th>8</th>\n",
       "      <td>Запустить акцию, дающую скидку на товар в день рождения</td>\n",
       "      <td>16.20</td>\n",
       "    </tr>\n",
       "    <tr>\n",
       "      <th>0</th>\n",
       "      <td>Добавить два новых канала привлечения трафика, что позволит привлекать на 30% больше пользователей</td>\n",
       "      <td>13.33</td>\n",
       "    </tr>\n",
       "    <tr>\n",
       "      <th>7</th>\n",
       "      <td>Добавить форму подписки на все основные страницы, чтобы собрать базу клиентов для email-рассылок</td>\n",
       "      <td>11.20</td>\n",
       "    </tr>\n",
       "    <tr>\n",
       "      <th>6</th>\n",
       "      <td>Показать на главной странице баннеры с актуальными акциями и распродажами, чтобы увеличить конверсию</td>\n",
       "      <td>8.00</td>\n",
       "    </tr>\n",
       "    <tr>\n",
       "      <th>2</th>\n",
       "      <td>Добавить блоки рекомендаций товаров на сайт интернет магазина, чтобы повысить конверсию и средний чек заказа</td>\n",
       "      <td>7.00</td>\n",
       "    </tr>\n",
       "    <tr>\n",
       "      <th>1</th>\n",
       "      <td>Запустить собственную службу доставки, что сократит срок доставки заказов</td>\n",
       "      <td>2.00</td>\n",
       "    </tr>\n",
       "    <tr>\n",
       "      <th>5</th>\n",
       "      <td>Добавить страницу отзывов клиентов о магазине, что позволит увеличить количество заказов</td>\n",
       "      <td>1.33</td>\n",
       "    </tr>\n",
       "    <tr>\n",
       "      <th>3</th>\n",
       "      <td>Изменить структура категорий, что увеличит конверсию, т.к. пользователи быстрее найдут нужный товар</td>\n",
       "      <td>1.12</td>\n",
       "    </tr>\n",
       "    <tr>\n",
       "      <th>4</th>\n",
       "      <td>Изменить цвет фона главной страницы, чтобы увеличить вовлеченность пользователей</td>\n",
       "      <td>1.00</td>\n",
       "    </tr>\n",
       "  </tbody>\n",
       "</table>\n",
       "</div>"
      ],
      "text/plain": [
       "                                                                                                     hypothesis  \\\n",
       "8                                                       Запустить акцию, дающую скидку на товар в день рождения   \n",
       "0            Добавить два новых канала привлечения трафика, что позволит привлекать на 30% больше пользователей   \n",
       "7              Добавить форму подписки на все основные страницы, чтобы собрать базу клиентов для email-рассылок   \n",
       "6          Показать на главной странице баннеры с актуальными акциями и распродажами, чтобы увеличить конверсию   \n",
       "2  Добавить блоки рекомендаций товаров на сайт интернет магазина, чтобы повысить конверсию и средний чек заказа   \n",
       "1                                     Запустить собственную службу доставки, что сократит срок доставки заказов   \n",
       "5                      Добавить страницу отзывов клиентов о магазине, что позволит увеличить количество заказов   \n",
       "3           Изменить структура категорий, что увеличит конверсию, т.к. пользователи быстрее найдут нужный товар   \n",
       "4                              Изменить цвет фона главной страницы, чтобы увеличить вовлеченность пользователей   \n",
       "\n",
       "     ICE  \n",
       "8  16.20  \n",
       "0  13.33  \n",
       "7  11.20  \n",
       "6   8.00  \n",
       "2   7.00  \n",
       "1   2.00  \n",
       "5   1.33  \n",
       "3   1.12  \n",
       "4   1.00  "
      ]
     },
     "execution_count": 21,
     "metadata": {},
     "output_type": "execute_result"
    }
   ],
   "source": [
    "# Посчитаем ICE для гипотез\n",
    "hypothesis['ICE'] = ( hypothesis['impact'] * hypothesis['confidence']) / hypothesis['efforts']\n",
    "hypothesis[['hypothesis', 'ICE']].sort_values(by='ICE', ascending=False).round(2)"
   ]
  },
  {
   "cell_type": "markdown",
   "metadata": {},
   "source": [
    "### Примените фреймворк RICE для приоритизации гипотез. Отсортируйте их по убыванию приоритета."
   ]
  },
  {
   "cell_type": "code",
   "execution_count": 22,
   "metadata": {},
   "outputs": [
    {
     "data": {
      "text/html": [
       "<div>\n",
       "<style scoped>\n",
       "    .dataframe tbody tr th:only-of-type {\n",
       "        vertical-align: middle;\n",
       "    }\n",
       "\n",
       "    .dataframe tbody tr th {\n",
       "        vertical-align: top;\n",
       "    }\n",
       "\n",
       "    .dataframe thead th {\n",
       "        text-align: right;\n",
       "    }\n",
       "</style>\n",
       "<table border=\"1\" class=\"dataframe\">\n",
       "  <thead>\n",
       "    <tr style=\"text-align: right;\">\n",
       "      <th></th>\n",
       "      <th>hypothesis</th>\n",
       "      <th>RICE</th>\n",
       "    </tr>\n",
       "  </thead>\n",
       "  <tbody>\n",
       "    <tr>\n",
       "      <th>7</th>\n",
       "      <td>Добавить форму подписки на все основные страницы, чтобы собрать базу клиентов для email-рассылок</td>\n",
       "      <td>112.0</td>\n",
       "    </tr>\n",
       "    <tr>\n",
       "      <th>2</th>\n",
       "      <td>Добавить блоки рекомендаций товаров на сайт интернет магазина, чтобы повысить конверсию и средний чек заказа</td>\n",
       "      <td>56.0</td>\n",
       "    </tr>\n",
       "    <tr>\n",
       "      <th>0</th>\n",
       "      <td>Добавить два новых канала привлечения трафика, что позволит привлекать на 30% больше пользователей</td>\n",
       "      <td>40.0</td>\n",
       "    </tr>\n",
       "    <tr>\n",
       "      <th>6</th>\n",
       "      <td>Показать на главной странице баннеры с актуальными акциями и распродажами, чтобы увеличить конверсию</td>\n",
       "      <td>40.0</td>\n",
       "    </tr>\n",
       "    <tr>\n",
       "      <th>8</th>\n",
       "      <td>Запустить акцию, дающую скидку на товар в день рождения</td>\n",
       "      <td>16.2</td>\n",
       "    </tr>\n",
       "    <tr>\n",
       "      <th>3</th>\n",
       "      <td>Изменить структура категорий, что увеличит конверсию, т.к. пользователи быстрее найдут нужный товар</td>\n",
       "      <td>9.0</td>\n",
       "    </tr>\n",
       "    <tr>\n",
       "      <th>1</th>\n",
       "      <td>Запустить собственную службу доставки, что сократит срок доставки заказов</td>\n",
       "      <td>4.0</td>\n",
       "    </tr>\n",
       "    <tr>\n",
       "      <th>5</th>\n",
       "      <td>Добавить страницу отзывов клиентов о магазине, что позволит увеличить количество заказов</td>\n",
       "      <td>4.0</td>\n",
       "    </tr>\n",
       "    <tr>\n",
       "      <th>4</th>\n",
       "      <td>Изменить цвет фона главной страницы, чтобы увеличить вовлеченность пользователей</td>\n",
       "      <td>3.0</td>\n",
       "    </tr>\n",
       "  </tbody>\n",
       "</table>\n",
       "</div>"
      ],
      "text/plain": [
       "                                                                                                     hypothesis  \\\n",
       "7              Добавить форму подписки на все основные страницы, чтобы собрать базу клиентов для email-рассылок   \n",
       "2  Добавить блоки рекомендаций товаров на сайт интернет магазина, чтобы повысить конверсию и средний чек заказа   \n",
       "0            Добавить два новых канала привлечения трафика, что позволит привлекать на 30% больше пользователей   \n",
       "6          Показать на главной странице баннеры с актуальными акциями и распродажами, чтобы увеличить конверсию   \n",
       "8                                                       Запустить акцию, дающую скидку на товар в день рождения   \n",
       "3           Изменить структура категорий, что увеличит конверсию, т.к. пользователи быстрее найдут нужный товар   \n",
       "1                                     Запустить собственную службу доставки, что сократит срок доставки заказов   \n",
       "5                      Добавить страницу отзывов клиентов о магазине, что позволит увеличить количество заказов   \n",
       "4                              Изменить цвет фона главной страницы, чтобы увеличить вовлеченность пользователей   \n",
       "\n",
       "    RICE  \n",
       "7  112.0  \n",
       "2   56.0  \n",
       "0   40.0  \n",
       "6   40.0  \n",
       "8   16.2  \n",
       "3    9.0  \n",
       "1    4.0  \n",
       "5    4.0  \n",
       "4    3.0  "
      ]
     },
     "execution_count": 22,
     "metadata": {},
     "output_type": "execute_result"
    }
   ],
   "source": [
    "# Посчитаем RICE для гипотез\n",
    "hypothesis['RICE'] = (hypothesis['reach'] *  hypothesis['impact'] * hypothesis['confidence']) / hypothesis['efforts']\n",
    "hypothesis[['hypothesis', 'RICE']].sort_values(by='RICE', ascending=False).round(2)"
   ]
  },
  {
   "cell_type": "markdown",
   "metadata": {},
   "source": [
    "### Укажите, как изменилась приоритизация гипотез при применении RICE вместо ICE. "
   ]
  },
  {
   "cell_type": "code",
   "execution_count": 23,
   "metadata": {},
   "outputs": [
    {
     "data": {
      "text/html": [
       "<div>\n",
       "<style scoped>\n",
       "    .dataframe tbody tr th:only-of-type {\n",
       "        vertical-align: middle;\n",
       "    }\n",
       "\n",
       "    .dataframe tbody tr th {\n",
       "        vertical-align: top;\n",
       "    }\n",
       "\n",
       "    .dataframe thead th {\n",
       "        text-align: right;\n",
       "    }\n",
       "</style>\n",
       "<table border=\"1\" class=\"dataframe\">\n",
       "  <thead>\n",
       "    <tr style=\"text-align: right;\">\n",
       "      <th></th>\n",
       "      <th>hypothesis</th>\n",
       "      <th>reach</th>\n",
       "      <th>impact</th>\n",
       "      <th>confidence</th>\n",
       "      <th>efforts</th>\n",
       "      <th>ICE</th>\n",
       "      <th>RICE</th>\n",
       "    </tr>\n",
       "  </thead>\n",
       "  <tbody>\n",
       "    <tr>\n",
       "      <th>0</th>\n",
       "      <td>Добавить два новых канала привлечения трафика, что позволит привлекать на 30% больше пользователей</td>\n",
       "      <td>3</td>\n",
       "      <td>10</td>\n",
       "      <td>8</td>\n",
       "      <td>6</td>\n",
       "      <td>13.333333</td>\n",
       "      <td>40.0</td>\n",
       "    </tr>\n",
       "    <tr>\n",
       "      <th>1</th>\n",
       "      <td>Запустить собственную службу доставки, что сократит срок доставки заказов</td>\n",
       "      <td>2</td>\n",
       "      <td>5</td>\n",
       "      <td>4</td>\n",
       "      <td>10</td>\n",
       "      <td>2.000000</td>\n",
       "      <td>4.0</td>\n",
       "    </tr>\n",
       "    <tr>\n",
       "      <th>2</th>\n",
       "      <td>Добавить блоки рекомендаций товаров на сайт интернет магазина, чтобы повысить конверсию и средний чек заказа</td>\n",
       "      <td>8</td>\n",
       "      <td>3</td>\n",
       "      <td>7</td>\n",
       "      <td>3</td>\n",
       "      <td>7.000000</td>\n",
       "      <td>56.0</td>\n",
       "    </tr>\n",
       "    <tr>\n",
       "      <th>3</th>\n",
       "      <td>Изменить структура категорий, что увеличит конверсию, т.к. пользователи быстрее найдут нужный товар</td>\n",
       "      <td>8</td>\n",
       "      <td>3</td>\n",
       "      <td>3</td>\n",
       "      <td>8</td>\n",
       "      <td>1.125000</td>\n",
       "      <td>9.0</td>\n",
       "    </tr>\n",
       "    <tr>\n",
       "      <th>4</th>\n",
       "      <td>Изменить цвет фона главной страницы, чтобы увеличить вовлеченность пользователей</td>\n",
       "      <td>3</td>\n",
       "      <td>1</td>\n",
       "      <td>1</td>\n",
       "      <td>1</td>\n",
       "      <td>1.000000</td>\n",
       "      <td>3.0</td>\n",
       "    </tr>\n",
       "    <tr>\n",
       "      <th>5</th>\n",
       "      <td>Добавить страницу отзывов клиентов о магазине, что позволит увеличить количество заказов</td>\n",
       "      <td>3</td>\n",
       "      <td>2</td>\n",
       "      <td>2</td>\n",
       "      <td>3</td>\n",
       "      <td>1.333333</td>\n",
       "      <td>4.0</td>\n",
       "    </tr>\n",
       "    <tr>\n",
       "      <th>6</th>\n",
       "      <td>Показать на главной странице баннеры с актуальными акциями и распродажами, чтобы увеличить конверсию</td>\n",
       "      <td>5</td>\n",
       "      <td>3</td>\n",
       "      <td>8</td>\n",
       "      <td>3</td>\n",
       "      <td>8.000000</td>\n",
       "      <td>40.0</td>\n",
       "    </tr>\n",
       "    <tr>\n",
       "      <th>7</th>\n",
       "      <td>Добавить форму подписки на все основные страницы, чтобы собрать базу клиентов для email-рассылок</td>\n",
       "      <td>10</td>\n",
       "      <td>7</td>\n",
       "      <td>8</td>\n",
       "      <td>5</td>\n",
       "      <td>11.200000</td>\n",
       "      <td>112.0</td>\n",
       "    </tr>\n",
       "    <tr>\n",
       "      <th>8</th>\n",
       "      <td>Запустить акцию, дающую скидку на товар в день рождения</td>\n",
       "      <td>1</td>\n",
       "      <td>9</td>\n",
       "      <td>9</td>\n",
       "      <td>5</td>\n",
       "      <td>16.200000</td>\n",
       "      <td>16.2</td>\n",
       "    </tr>\n",
       "  </tbody>\n",
       "</table>\n",
       "</div>"
      ],
      "text/plain": [
       "                                                                                                     hypothesis  \\\n",
       "0            Добавить два новых канала привлечения трафика, что позволит привлекать на 30% больше пользователей   \n",
       "1                                     Запустить собственную службу доставки, что сократит срок доставки заказов   \n",
       "2  Добавить блоки рекомендаций товаров на сайт интернет магазина, чтобы повысить конверсию и средний чек заказа   \n",
       "3           Изменить структура категорий, что увеличит конверсию, т.к. пользователи быстрее найдут нужный товар   \n",
       "4                              Изменить цвет фона главной страницы, чтобы увеличить вовлеченность пользователей   \n",
       "5                      Добавить страницу отзывов клиентов о магазине, что позволит увеличить количество заказов   \n",
       "6          Показать на главной странице баннеры с актуальными акциями и распродажами, чтобы увеличить конверсию   \n",
       "7              Добавить форму подписки на все основные страницы, чтобы собрать базу клиентов для email-рассылок   \n",
       "8                                                       Запустить акцию, дающую скидку на товар в день рождения   \n",
       "\n",
       "   reach  impact  confidence  efforts        ICE   RICE  \n",
       "0      3      10           8        6  13.333333   40.0  \n",
       "1      2       5           4       10   2.000000    4.0  \n",
       "2      8       3           7        3   7.000000   56.0  \n",
       "3      8       3           3        8   1.125000    9.0  \n",
       "4      3       1           1        1   1.000000    3.0  \n",
       "5      3       2           2        3   1.333333    4.0  \n",
       "6      5       3           8        3   8.000000   40.0  \n",
       "7     10       7           8        5  11.200000  112.0  \n",
       "8      1       9           9        5  16.200000   16.2  "
      ]
     },
     "execution_count": 23,
     "metadata": {},
     "output_type": "execute_result"
    }
   ],
   "source": [
    "# Посмотрим на таблицу и ответим на вопрос: почему же так произошло.\n",
    "hypothesis"
   ]
  },
  {
   "cell_type": "code",
   "execution_count": null,
   "metadata": {},
   "outputs": [],
   "source": []
  },
  {
   "cell_type": "markdown",
   "metadata": {},
   "source": [
    "### Вывод\n",
    "Параметр reach, то есть охват пользователей, который есть в методе RICE изменил приоретизацию гипотез. Как мы видим в пятерке лучших одни и те же гипотезы (0, 2, 6, 7, 8). Однако, если при ICE на первом месте гипотеза 8, то при расчёте RICE, на первое место вырвалась гипотеза под номером 7.\n",
    "Так получилось потому, что её (7) параметр reach равен 10, в то время как у остальных гипотез он меньше.\n",
    "Параметр охвата (Reach), использующийся в методе RICE изменил всю приоритетность, полученную по методу ICE.\n",
    "Но задача 4 в обоих методах осталась на последнем месте."
   ]
  },
  {
   "cell_type": "markdown",
   "metadata": {},
   "source": [
    "## Анализ A/B-теста"
   ]
  },
  {
   "cell_type": "markdown",
   "metadata": {},
   "source": [
    "### Построть график кумулятивной выручки по группам"
   ]
  },
  {
   "cell_type": "code",
   "execution_count": 24,
   "metadata": {},
   "outputs": [
    {
     "data": {
      "text/html": [
       "<div>\n",
       "<style scoped>\n",
       "    .dataframe tbody tr th:only-of-type {\n",
       "        vertical-align: middle;\n",
       "    }\n",
       "\n",
       "    .dataframe tbody tr th {\n",
       "        vertical-align: top;\n",
       "    }\n",
       "\n",
       "    .dataframe thead th {\n",
       "        text-align: right;\n",
       "    }\n",
       "</style>\n",
       "<table border=\"1\" class=\"dataframe\">\n",
       "  <thead>\n",
       "    <tr style=\"text-align: right;\">\n",
       "      <th></th>\n",
       "      <th>transactionId</th>\n",
       "      <th>visitorId</th>\n",
       "      <th>date</th>\n",
       "      <th>revenue</th>\n",
       "      <th>group</th>\n",
       "    </tr>\n",
       "  </thead>\n",
       "  <tbody>\n",
       "    <tr>\n",
       "      <th>0</th>\n",
       "      <td>3667963787</td>\n",
       "      <td>3312258926</td>\n",
       "      <td>2019-08-15</td>\n",
       "      <td>1650</td>\n",
       "      <td>B</td>\n",
       "    </tr>\n",
       "    <tr>\n",
       "      <th>1</th>\n",
       "      <td>2804400009</td>\n",
       "      <td>3642806036</td>\n",
       "      <td>2019-08-15</td>\n",
       "      <td>730</td>\n",
       "      <td>B</td>\n",
       "    </tr>\n",
       "    <tr>\n",
       "      <th>2</th>\n",
       "      <td>2961555356</td>\n",
       "      <td>4069496402</td>\n",
       "      <td>2019-08-15</td>\n",
       "      <td>400</td>\n",
       "      <td>A</td>\n",
       "    </tr>\n",
       "    <tr>\n",
       "      <th>3</th>\n",
       "      <td>3797467345</td>\n",
       "      <td>1196621759</td>\n",
       "      <td>2019-08-15</td>\n",
       "      <td>9759</td>\n",
       "      <td>B</td>\n",
       "    </tr>\n",
       "    <tr>\n",
       "      <th>4</th>\n",
       "      <td>2282983706</td>\n",
       "      <td>2322279887</td>\n",
       "      <td>2019-08-15</td>\n",
       "      <td>2308</td>\n",
       "      <td>B</td>\n",
       "    </tr>\n",
       "  </tbody>\n",
       "</table>\n",
       "</div>"
      ],
      "text/plain": [
       "   transactionId   visitorId       date  revenue group\n",
       "0     3667963787  3312258926 2019-08-15     1650     B\n",
       "1     2804400009  3642806036 2019-08-15      730     B\n",
       "2     2961555356  4069496402 2019-08-15      400     A\n",
       "3     3797467345  1196621759 2019-08-15     9759     B\n",
       "4     2282983706  2322279887 2019-08-15     2308     B"
      ]
     },
     "execution_count": 24,
     "metadata": {},
     "output_type": "execute_result"
    }
   ],
   "source": [
    "orders.head(5)"
   ]
  },
  {
   "cell_type": "code",
   "execution_count": 25,
   "metadata": {},
   "outputs": [
    {
     "data": {
      "text/html": [
       "<div>\n",
       "<style scoped>\n",
       "    .dataframe tbody tr th:only-of-type {\n",
       "        vertical-align: middle;\n",
       "    }\n",
       "\n",
       "    .dataframe tbody tr th {\n",
       "        vertical-align: top;\n",
       "    }\n",
       "\n",
       "    .dataframe thead th {\n",
       "        text-align: right;\n",
       "    }\n",
       "</style>\n",
       "<table border=\"1\" class=\"dataframe\">\n",
       "  <thead>\n",
       "    <tr style=\"text-align: right;\">\n",
       "      <th></th>\n",
       "      <th>date</th>\n",
       "      <th>group</th>\n",
       "      <th>visitors</th>\n",
       "    </tr>\n",
       "  </thead>\n",
       "  <tbody>\n",
       "    <tr>\n",
       "      <th>0</th>\n",
       "      <td>2019-08-01</td>\n",
       "      <td>A</td>\n",
       "      <td>719</td>\n",
       "    </tr>\n",
       "    <tr>\n",
       "      <th>1</th>\n",
       "      <td>2019-08-02</td>\n",
       "      <td>A</td>\n",
       "      <td>619</td>\n",
       "    </tr>\n",
       "    <tr>\n",
       "      <th>2</th>\n",
       "      <td>2019-08-03</td>\n",
       "      <td>A</td>\n",
       "      <td>507</td>\n",
       "    </tr>\n",
       "    <tr>\n",
       "      <th>3</th>\n",
       "      <td>2019-08-04</td>\n",
       "      <td>A</td>\n",
       "      <td>717</td>\n",
       "    </tr>\n",
       "    <tr>\n",
       "      <th>4</th>\n",
       "      <td>2019-08-05</td>\n",
       "      <td>A</td>\n",
       "      <td>756</td>\n",
       "    </tr>\n",
       "  </tbody>\n",
       "</table>\n",
       "</div>"
      ],
      "text/plain": [
       "        date group  visitors\n",
       "0 2019-08-01     A       719\n",
       "1 2019-08-02     A       619\n",
       "2 2019-08-03     A       507\n",
       "3 2019-08-04     A       717\n",
       "4 2019-08-05     A       756"
      ]
     },
     "execution_count": 25,
     "metadata": {},
     "output_type": "execute_result"
    }
   ],
   "source": [
    "visitors.head(5)"
   ]
  },
  {
   "cell_type": "markdown",
   "metadata": {},
   "source": [
    "Проверить, есть ли пользователи, которые попали в обе группы и есть ли заказы, которые так же могли быть в обеих группах."
   ]
  },
  {
   "cell_type": "code",
   "execution_count": 26,
   "metadata": {
    "scrolled": true
   },
   "outputs": [
    {
     "data": {
      "text/plain": [
       "array([   8300375,  199603092,  232979603,  237748145,  276558944,\n",
       "        351125977,  393266494,  457167155,  471551937,  477780734,\n",
       "        818047933,  963407295, 1230306981, 1294878855, 1316129916,\n",
       "       1333886533, 1404934699, 1602967004, 1614305549, 1648269707,\n",
       "       1668030113, 1738359350, 1801183820, 1959144690, 2038680547,\n",
       "       2044997962, 2378935119, 2458001652, 2579882178, 2587333274,\n",
       "       2600415354, 2654030115, 2686716486, 2712142231, 2716752286,\n",
       "       2780786433, 2927087541, 2949041841, 2954449915, 3062433592,\n",
       "       3202540741, 3234906277, 3656415546, 3717692402, 3766097110,\n",
       "       3803269165, 3891541246, 3941795274, 3951559397, 3957174400,\n",
       "       3963646447, 3972127743, 3984495233, 4069496402, 4120364173,\n",
       "       4186807279, 4256040402, 4266935830])"
      ]
     },
     "execution_count": 26,
     "metadata": {},
     "output_type": "execute_result"
    }
   ],
   "source": [
    "duplicates_users = np.intersect1d(\n",
    "    orders.query('group == \"A\"')['visitorId'].unique(),\n",
    "    orders.query('group == \"B\"')['visitorId'].unique()\n",
    ")\n",
    "duplicates_users"
   ]
  },
  {
   "cell_type": "code",
   "execution_count": 27,
   "metadata": {},
   "outputs": [
    {
     "data": {
      "text/plain": [
       "array([], dtype=int64)"
      ]
     },
     "execution_count": 27,
     "metadata": {},
     "output_type": "execute_result"
    }
   ],
   "source": [
    "duplicates_users = np.intersect1d(\n",
    "    orders.query('group == \"A\"')['transactionId'].unique(),\n",
    "    orders.query('group == \"B\"')['transactionId'].unique()\n",
    ")\n",
    "duplicates_users"
   ]
  },
  {
   "cell_type": "markdown",
   "metadata": {},
   "source": [
    "Заказов, которые оказались бы и в группе А и в группе В не обнаружено. "
   ]
  },
  {
   "cell_type": "code",
   "execution_count": 28,
   "metadata": {},
   "outputs": [
    {
     "data": {
      "text/plain": [
       "'Процент пересекающихся пользователей 0.0%'"
      ]
     },
     "metadata": {},
     "output_type": "display_data"
    }
   ],
   "source": [
    "display(f\"Процент пересекающихся пользователей {round(len(duplicates_users)/len(orders['visitorId'].unique())* 100,2)}%\")"
   ]
  },
  {
   "cell_type": "markdown",
   "metadata": {},
   "source": [
    "В данных есть дублирование пользовательских id в тестируемых группах. В реальном проекте, я бы обратился к человеку, который предоставил эти данные. Так быть не должно и это свидетельствует об ошибках на этапе сбора или обработки этих данных. Возможно - человеческий фактор. Эти данные можно удалить, так как количество задвоенных id не привышает 5-10%. И потому что сложно становится доверять этим данным. Но при этом, всегда лучше смотреть на каждую ситуацию исходя и из обсалютных чисел. Проверим, сколько всего у нас было заказов в предоставленных данных и сколько из них уникальных id посетителей. "
   ]
  },
  {
   "cell_type": "code",
   "execution_count": 29,
   "metadata": {},
   "outputs": [
    {
     "data": {
      "text/plain": [
       "'Всего 37652 заказов. Из них 1031 уникальных пользователей.'"
      ]
     },
     "metadata": {},
     "output_type": "display_data"
    }
   ],
   "source": [
    "display(\n",
    "    f\"Всего {sum(visitors['visitors'])} заказов. \" \n",
    "    f\"Из них {len(orders['visitorId'].unique())} уникальных пользователей.\"\n",
    ")"
   ]
  },
  {
   "cell_type": "markdown",
   "metadata": {},
   "source": [
    "Так как мы имеем значительное количество заказов и уникальных пользователей и количество данных, которые вызывают вопросы, не превышает 10%, можем такие удалить. Но обязательно поставить человека предоставившего данные в известность. "
   ]
  },
  {
   "cell_type": "code",
   "execution_count": 30,
   "metadata": {},
   "outputs": [],
   "source": [
    "orders = orders[~orders['visitorId'].isin(duplicates_users)]"
   ]
  },
  {
   "cell_type": "markdown",
   "metadata": {},
   "source": [
    "Убедиться, что данные были удадены"
   ]
  },
  {
   "cell_type": "code",
   "execution_count": 31,
   "metadata": {},
   "outputs": [
    {
     "data": {
      "text/plain": [
       "array([   8300375,  199603092,  232979603,  237748145,  276558944,\n",
       "        351125977,  393266494,  457167155,  471551937,  477780734,\n",
       "        818047933,  963407295, 1230306981, 1294878855, 1316129916,\n",
       "       1333886533, 1404934699, 1602967004, 1614305549, 1648269707,\n",
       "       1668030113, 1738359350, 1801183820, 1959144690, 2038680547,\n",
       "       2044997962, 2378935119, 2458001652, 2579882178, 2587333274,\n",
       "       2600415354, 2654030115, 2686716486, 2712142231, 2716752286,\n",
       "       2780786433, 2927087541, 2949041841, 2954449915, 3062433592,\n",
       "       3202540741, 3234906277, 3656415546, 3717692402, 3766097110,\n",
       "       3803269165, 3891541246, 3941795274, 3951559397, 3957174400,\n",
       "       3963646447, 3972127743, 3984495233, 4069496402, 4120364173,\n",
       "       4186807279, 4256040402, 4266935830])"
      ]
     },
     "execution_count": 31,
     "metadata": {},
     "output_type": "execute_result"
    }
   ],
   "source": [
    "np.intersect1d(orders.query('group == \"A\"')['visitorId'].unique(), orders.query('group == \"B\"')['visitorId'].unique())"
   ]
  },
  {
   "cell_type": "markdown",
   "metadata": {},
   "source": [
    "Создать массив уникальных пар значений дат и групп теста"
   ]
  },
  {
   "cell_type": "code",
   "execution_count": null,
   "metadata": {},
   "outputs": [],
   "source": []
  },
  {
   "cell_type": "code",
   "execution_count": 32,
   "metadata": {},
   "outputs": [],
   "source": [
    "datesGroups = orders[['date','group']].drop_duplicates()"
   ]
  },
  {
   "cell_type": "markdown",
   "metadata": {},
   "source": [
    "Получить агрегированные кумулятивные по дням данные о заказах "
   ]
  },
  {
   "cell_type": "code",
   "execution_count": 33,
   "metadata": {},
   "outputs": [],
   "source": [
    "ordersAggregated = datesGroups.apply(\n",
    "    lambda x: orders[np.logical_and(orders['date'] <= x['date'], orders['group'] == x['group'])]. \\\n",
    "                                     agg({'date' : 'max', \n",
    "                                          'group' : 'max', \n",
    "                                          'transactionId' : pd.Series.nunique, \n",
    "                                          'visitorId' : pd.Series.nunique, \n",
    "                                          'revenue' : 'sum'}), axis=1).sort_values(by=['date','group']\n",
    "                                                                                  )\n"
   ]
  },
  {
   "cell_type": "markdown",
   "metadata": {},
   "source": [
    "Получить агрегированные кумулятивные по дням данные о посетителях интернет-магазина "
   ]
  },
  {
   "cell_type": "code",
   "execution_count": 34,
   "metadata": {},
   "outputs": [],
   "source": [
    "visitorsAggregated = datesGroups.apply(\n",
    "    lambda x: visitors[np.logical_and(visitors['date'] <= x['date'], visitors['group'] == x['group'])]. \\\n",
    "                                       agg({'date' : 'max', \n",
    "                                            'group' : 'max', \n",
    "                                            'visitors' : 'sum'}), axis=1).sort_values(by=['date','group']\n",
    "                                                                                     )"
   ]
  },
  {
   "cell_type": "markdown",
   "metadata": {},
   "source": [
    "Объединить кумулятивные данные в одной таблице"
   ]
  },
  {
   "cell_type": "code",
   "execution_count": 35,
   "metadata": {},
   "outputs": [],
   "source": [
    "cumulativeData = ordersAggregated.merge(visitorsAggregated, left_on=['date', 'group'], right_on=['date', 'group'])"
   ]
  },
  {
   "cell_type": "markdown",
   "metadata": {},
   "source": [
    "Переименовать столбцы в более понятные и проверить получившийся результат"
   ]
  },
  {
   "cell_type": "code",
   "execution_count": 36,
   "metadata": {},
   "outputs": [],
   "source": [
    "cumulativeData.columns = ['date', 'group', 'orders', 'buyers', 'revenue', 'visitors']"
   ]
  },
  {
   "cell_type": "code",
   "execution_count": 37,
   "metadata": {},
   "outputs": [
    {
     "data": {
      "text/html": [
       "<div>\n",
       "<style scoped>\n",
       "    .dataframe tbody tr th:only-of-type {\n",
       "        vertical-align: middle;\n",
       "    }\n",
       "\n",
       "    .dataframe tbody tr th {\n",
       "        vertical-align: top;\n",
       "    }\n",
       "\n",
       "    .dataframe thead th {\n",
       "        text-align: right;\n",
       "    }\n",
       "</style>\n",
       "<table border=\"1\" class=\"dataframe\">\n",
       "  <thead>\n",
       "    <tr style=\"text-align: right;\">\n",
       "      <th></th>\n",
       "      <th>date</th>\n",
       "      <th>group</th>\n",
       "      <th>orders</th>\n",
       "      <th>buyers</th>\n",
       "      <th>revenue</th>\n",
       "      <th>visitors</th>\n",
       "    </tr>\n",
       "  </thead>\n",
       "  <tbody>\n",
       "    <tr>\n",
       "      <th>0</th>\n",
       "      <td>2019-08-01</td>\n",
       "      <td>A</td>\n",
       "      <td>24</td>\n",
       "      <td>20</td>\n",
       "      <td>148579</td>\n",
       "      <td>719</td>\n",
       "    </tr>\n",
       "    <tr>\n",
       "      <th>1</th>\n",
       "      <td>2019-08-01</td>\n",
       "      <td>B</td>\n",
       "      <td>21</td>\n",
       "      <td>20</td>\n",
       "      <td>101217</td>\n",
       "      <td>713</td>\n",
       "    </tr>\n",
       "    <tr>\n",
       "      <th>2</th>\n",
       "      <td>2019-08-02</td>\n",
       "      <td>A</td>\n",
       "      <td>44</td>\n",
       "      <td>38</td>\n",
       "      <td>242401</td>\n",
       "      <td>1338</td>\n",
       "    </tr>\n",
       "    <tr>\n",
       "      <th>3</th>\n",
       "      <td>2019-08-02</td>\n",
       "      <td>B</td>\n",
       "      <td>45</td>\n",
       "      <td>43</td>\n",
       "      <td>266748</td>\n",
       "      <td>1294</td>\n",
       "    </tr>\n",
       "    <tr>\n",
       "      <th>4</th>\n",
       "      <td>2019-08-03</td>\n",
       "      <td>A</td>\n",
       "      <td>68</td>\n",
       "      <td>62</td>\n",
       "      <td>354874</td>\n",
       "      <td>1845</td>\n",
       "    </tr>\n",
       "  </tbody>\n",
       "</table>\n",
       "</div>"
      ],
      "text/plain": [
       "        date group  orders  buyers  revenue  visitors\n",
       "0 2019-08-01     A      24      20   148579       719\n",
       "1 2019-08-01     B      21      20   101217       713\n",
       "2 2019-08-02     A      44      38   242401      1338\n",
       "3 2019-08-02     B      45      43   266748      1294\n",
       "4 2019-08-03     A      68      62   354874      1845"
      ]
     },
     "execution_count": 37,
     "metadata": {},
     "output_type": "execute_result"
    }
   ],
   "source": [
    "cumulativeData.head(5)"
   ]
  },
  {
   "cell_type": "markdown",
   "metadata": {},
   "source": [
    "Вывести минимальные и максимальные даты из датасета orders и cumulativeData."
   ]
  },
  {
   "cell_type": "code",
   "execution_count": 38,
   "metadata": {},
   "outputs": [
    {
     "data": {
      "text/plain": [
       "'Минимальная дата:'"
      ]
     },
     "metadata": {},
     "output_type": "display_data"
    },
    {
     "data": {
      "text/plain": [
       "Timestamp('2019-08-01 00:00:00')"
      ]
     },
     "metadata": {},
     "output_type": "display_data"
    },
    {
     "data": {
      "text/plain": [
       "'Максимальная дата:'"
      ]
     },
     "metadata": {},
     "output_type": "display_data"
    },
    {
     "data": {
      "text/plain": [
       "Timestamp('2019-08-31 00:00:00')"
      ]
     },
     "metadata": {},
     "output_type": "display_data"
    }
   ],
   "source": [
    "display('Минимальная дата:', orders['date'].min())\n",
    "display('Максимальная дата:', orders['date'].max())"
   ]
  },
  {
   "cell_type": "code",
   "execution_count": 39,
   "metadata": {},
   "outputs": [
    {
     "data": {
      "text/plain": [
       "'Минимальная дата:'"
      ]
     },
     "metadata": {},
     "output_type": "display_data"
    },
    {
     "data": {
      "text/plain": [
       "Timestamp('2019-08-01 00:00:00')"
      ]
     },
     "metadata": {},
     "output_type": "display_data"
    },
    {
     "data": {
      "text/plain": [
       "'Максимальная дата:'"
      ]
     },
     "metadata": {},
     "output_type": "display_data"
    },
    {
     "data": {
      "text/plain": [
       "Timestamp('2019-08-31 00:00:00')"
      ]
     },
     "metadata": {},
     "output_type": "display_data"
    }
   ],
   "source": [
    "display('Минимальная дата:', cumulativeData['date'].min())\n",
    "display('Максимальная дата:', cumulativeData['date'].max())"
   ]
  },
  {
   "cell_type": "markdown",
   "metadata": {},
   "source": [
    "Максимальные и минимальные даты в новом датасете cumulativeData совпадают с аналогичными датами из изначального датасета. Анализируем данные с 1 по 31 августа 2019 года."
   ]
  },
  {
   "cell_type": "markdown",
   "metadata": {},
   "source": [
    "Создать датафреймы с кумулятивным количеством заказов и кумулятивной выручкой по дням в группе А и в группе B. Построить на одном графике кривую выручки группы А и группы B."
   ]
  },
  {
   "cell_type": "code",
   "execution_count": 40,
   "metadata": {},
   "outputs": [
    {
     "data": {
      "image/png": "[encoded data removed]",
      "text/plain": [
       "<Figure size 1080x360 with 1 Axes>"
      ]
     },
     "metadata": {
      "needs_background": "light"
     },
     "output_type": "display_data"
    }
   ],
   "source": [
    "cumulativeRevenueA = cumulativeData[cumulativeData['group']=='A'][['date','revenue', 'orders']]\n",
    "\n",
    "cumulativeRevenueB = cumulativeData[cumulativeData['group']=='B'][['date','revenue', 'orders']]\n",
    "\n",
    "from pandas.plotting import register_matplotlib_converters\n",
    "register_matplotlib_converters()\n",
    "\n",
    "plt.figure(figsize=(15,5))\n",
    "\n",
    "plt.plot(cumulativeRevenueA['date'], cumulativeRevenueA['revenue'], label='Кум.выручка группы A')\n",
    "\n",
    "plt.plot(cumulativeRevenueB['date'], cumulativeRevenueB['revenue'], label='Кум.выручка группы B')\n",
    "plt.title('График кумулятивной выручки по группам\\n  ')\n",
    "plt.xlabel('\\nДата')\n",
    "plt.ylabel('Выручка\\n')\n",
    "plt.grid()\n",
    "plt.legend();"
   ]
  },
  {
   "cell_type": "markdown",
   "metadata": {},
   "source": [
    "Вывод:\n",
    "Выручка увеличивается во время всего теста. Но наблюдается резкий скачек в графике у группы В, возможно имеют место аномально большое количество заказов или аномально высокий средний чек"
   ]
  },
  {
   "cell_type": "markdown",
   "metadata": {},
   "source": [
    "### Построить график кумулятивного среднего чека по группам"
   ]
  },
  {
   "cell_type": "markdown",
   "metadata": {},
   "source": [
    "Чтобы построить графики среднего кумулятивного чека по группам — разделим кумулятивную выручку на кумулятивное число заказов."
   ]
  },
  {
   "cell_type": "code",
   "execution_count": 41,
   "metadata": {},
   "outputs": [
    {
     "data": {
      "image/png": "[encoded data removed]",
      "text/plain": [
       "<Figure size 1080x360 with 1 Axes>"
      ]
     },
     "metadata": {
      "needs_background": "light"
     },
     "output_type": "display_data"
    }
   ],
   "source": [
    "plt.figure(figsize=(15,5))\n",
    "plt.grid()\n",
    "plt.plot(cumulativeRevenueA['date'], cumulativeRevenueA['revenue']/cumulativeRevenueA['orders'], label='A')\n",
    "plt.plot(cumulativeRevenueB['date'], cumulativeRevenueB['revenue']/cumulativeRevenueB['orders'], label='B')\n",
    "plt.title('График кумулятивного среднего чека по группам\\n  ')\n",
    "plt.xlabel('\\nДата')\n",
    "plt.ylabel('Сумма среднего чека\\n')\n",
    "plt.legend() ;"
   ]
  },
  {
   "cell_type": "markdown",
   "metadata": {},
   "source": [
    "Вывод:\n",
    "Комулятивное значение среднего чека по группам нестабильно. Возможно имеются аномальные значения (выбросы), которые искажают общую картину. Особенно группа B."
   ]
  },
  {
   "cell_type": "markdown",
   "metadata": {},
   "source": [
    "### Построить график относительного изменения кумулятивного среднего чека группы B к группе A."
   ]
  },
  {
   "cell_type": "markdown",
   "metadata": {},
   "source": [
    "Cобрать данные в одном датафрейме"
   ]
  },
  {
   "cell_type": "code",
   "execution_count": 42,
   "metadata": {},
   "outputs": [],
   "source": [
    "mergedCumulativeRevenue = cumulativeRevenueA.merge(\n",
    "    cumulativeRevenueB, left_on='date', right_on='date', how='left', suffixes=['A', 'B']\n",
    ")"
   ]
  },
  {
   "cell_type": "markdown",
   "metadata": {},
   "source": [
    "Построить отношение средних чеков"
   ]
  },
  {
   "cell_type": "code",
   "execution_count": 43,
   "metadata": {},
   "outputs": [
    {
     "data": {
      "image/png": "[encoded data removed]",
      "text/plain": [
       "<Figure size 1080x360 with 1 Axes>"
      ]
     },
     "metadata": {
      "needs_background": "light"
     },
     "output_type": "display_data"
    }
   ],
   "source": [
    "\n",
    "plt.figure(figsize=(15,5))\n",
    "plt.grid()\n",
    "plt.plot(mergedCumulativeRevenue['date'], (mergedCumulativeRevenue['revenueB']/mergedCumulativeRevenue['ordersB'])/(mergedCumulativeRevenue['revenueA']/mergedCumulativeRevenue['ordersA'])-1)\n",
    "plt.title('График относительного изменения кумулятивного среднего чека группы B к группе A\\n  ')\n",
    "plt.xlabel('\\nДата')\n",
    "plt.ylabel('Изменение среденего чека \\n')\n",
    "# добавляем ось X\n",
    "plt.axhline(y=0, color='black', linestyle='--') ;"
   ]
  },
  {
   "cell_type": "markdown",
   "metadata": {},
   "source": [
    "Выводы:\n",
    "    На графике относительного изменения среднего чеке между группами, видим как сильно меняются значения в определенные даты. Веротяно, тогда и были совершены аномальные заказы"
   ]
  },
  {
   "cell_type": "markdown",
   "metadata": {},
   "source": [
    "### Построить график кумулятивного среднего количества заказов на посетителя по группам"
   ]
  },
  {
   "cell_type": "markdown",
   "metadata": {},
   "source": [
    "Посчитать комулятивную конверсию."
   ]
  },
  {
   "cell_type": "code",
   "execution_count": 44,
   "metadata": {},
   "outputs": [],
   "source": [
    "cumulativeData['conversion'] = cumulativeData['orders']/cumulativeData['visitors']"
   ]
  },
  {
   "cell_type": "markdown",
   "metadata": {},
   "source": [
    "Отделяем данные по группе A и B."
   ]
  },
  {
   "cell_type": "code",
   "execution_count": 45,
   "metadata": {},
   "outputs": [],
   "source": [
    "\n",
    "cumulativeDataA = cumulativeData[cumulativeData['group']=='A']\n",
    "\n",
    "cumulativeDataB = cumulativeData[cumulativeData['group']=='B']\n"
   ]
  },
  {
   "cell_type": "markdown",
   "metadata": {},
   "source": [
    "Строим график."
   ]
  },
  {
   "cell_type": "code",
   "execution_count": 46,
   "metadata": {},
   "outputs": [
    {
     "data": {
      "image/png": "[encoded data removed]",
      "text/plain": [
       "<Figure size 1080x360 with 1 Axes>"
      ]
     },
     "metadata": {
      "needs_background": "light"
     },
     "output_type": "display_data"
    }
   ],
   "source": [
    "plt.figure(figsize=(15,5))\n",
    "plt.grid()\n",
    "plt.plot(cumulativeDataA['date'], cumulativeDataA['conversion'], label='A')\n",
    "plt.plot(cumulativeDataB['date'], cumulativeDataB['conversion'], label='B')\n",
    "plt.legend()\n",
    "plt.title('График кумулятивной конверсии по группам\\n  ')\n",
    "plt.xlabel('\\nДата')\n",
    "plt.ylabel('Конверсия\\n')\n",
    "# задаем масштаб осей\n",
    "plt.axis([dt.datetime(2019, 8, 1), dt.datetime(2019, 9, 1), 0, 0.05]);"
   ]
  },
  {
   "cell_type": "markdown",
   "metadata": {},
   "source": [
    "Выводы:\n",
    "Сначала сегмент А имел большую конверсию, но чуть позже конверсия группы B вырвалась вперёд и зафиксировалась, а конверсия группы A просела и также зафиксировалась."
   ]
  },
  {
   "cell_type": "markdown",
   "metadata": {},
   "source": [
    "### Построить график относительного изменения кумулятивного среднего количества заказов на посетителя группы B к группе A"
   ]
  },
  {
   "cell_type": "code",
   "execution_count": 47,
   "metadata": {},
   "outputs": [
    {
     "data": {
      "image/png": "[encoded data removed]",
      "text/plain": [
       "<Figure size 1080x360 with 1 Axes>"
      ]
     },
     "metadata": {
      "needs_background": "light"
     },
     "output_type": "display_data"
    }
   ],
   "source": [
    "mergedCumulativeConversions = cumulativeDataA[['date','conversion']].merge(cumulativeDataB[['date','conversion']], left_on='date', right_on='date', how='left', suffixes=['A', 'B'])\n",
    "plt.figure(figsize=(15,5))\n",
    "plt.grid()\n",
    "plt.plot(mergedCumulativeConversions['date'], mergedCumulativeConversions['conversionB']/mergedCumulativeConversions['conversionA']-1, label=\"Относительный прирост количество заказов на пользователя группы B относительно группы A\")\n",
    "plt.legend()\n",
    "\n",
    "plt.axhline(y=0, color='black', linestyle='--')\n",
    "plt.axhline(y=0.2, color='grey', linestyle='--')\n",
    "plt.axis([\"2019-08-01\", '2019-09-01', -0.4, 0.4])\n",
    "plt.title('График относительного изменения количества заказов на пользователя группы B к группе A\\n  ')\n",
    "plt.xlabel('\\nДата')\n",
    "plt.ylabel('Относительне изменение количества покупок на посетителя\\n');"
   ]
  },
  {
   "cell_type": "markdown",
   "metadata": {},
   "source": [
    "Выводы: \n",
    "В начале теста группа B незначительно проигрывала группе A, затем вырвалась вперёд и стабильно опережала."
   ]
  },
  {
   "cell_type": "markdown",
   "metadata": {},
   "source": [
    "### Построить точечный график количества заказов по пользователям."
   ]
  },
  {
   "cell_type": "code",
   "execution_count": 48,
   "metadata": {
    "scrolled": true
   },
   "outputs": [
    {
     "data": {
      "image/png": "[encoded data removed]",
      "text/plain": [
       "<Figure size 1080x360 with 1 Axes>"
      ]
     },
     "metadata": {
      "needs_background": "light"
     },
     "output_type": "display_data"
    }
   ],
   "source": [
    "ordersByUsers = orders.drop(['group', 'revenue', 'date'], axis=1).groupby('visitorId', as_index=False). \\\n",
    "                                                                        agg({'transactionId' : pd.Series.nunique})\n",
    "\n",
    "ordersByUsers.columns = ['user_id','orders']\n",
    "\n",
    "ordersByUsers.sort_values(by='orders',ascending=False).head(10)\n",
    "\n",
    "# серия из чисел от 0 до количества наблюдений в ordersByUsers\n",
    "plt.figure(figsize=(15,5))\n",
    "plt.grid()\n",
    "plt.title('График количества заказов по пользователям\\n  ')\n",
    "plt.xlabel('\\nКол-во пользователей')\n",
    "plt.ylabel('Кол-во заказов\\n')\n",
    "x_values = pd.Series(range(0, len(ordersByUsers)))\n",
    "plt.scatter(x_values, ordersByUsers['orders']);"
   ]
  },
  {
   "cell_type": "markdown",
   "metadata": {},
   "source": [
    "Выводы: Как и предполагалось в количестве заказов есть аномальные значения. Больше всего пользователей совершили 1 заказ.\n",
    "Совершивших 2 заказа значительно меньше. Но кто-то делал 8, 9 и даже 11 заказов. Граница отсечения по количеству заказов на графике должна располагаться где-то примерно между 3 и 4.\n",
    "    "
   ]
  },
  {
   "cell_type": "markdown",
   "metadata": {},
   "source": [
    "### Посчитать 95-й и 99-й перцентили количества заказов на пользователя."
   ]
  },
  {
   "cell_type": "markdown",
   "metadata": {},
   "source": [
    "Методом np.percentile('column', [percentile1, percentile2]) найти перцентили."
   ]
  },
  {
   "cell_type": "code",
   "execution_count": 49,
   "metadata": {},
   "outputs": [
    {
     "name": "stdout",
     "output_type": "stream",
     "text": [
      "[2. 4.]\n"
     ]
    }
   ],
   "source": [
    "print(np.percentile(ordersByUsers['orders'], [95, 99])) "
   ]
  },
  {
   "cell_type": "markdown",
   "metadata": {},
   "source": [
    "Выводы: 95% пользователей совершают не больше 2 заказов, 99% совершают 4 заказа, аномальным будет всё, что превышает это значение. "
   ]
  },
  {
   "cell_type": "markdown",
   "metadata": {},
   "source": [
    "### Построить точечный график стоимостей заказов."
   ]
  },
  {
   "cell_type": "code",
   "execution_count": null,
   "metadata": {},
   "outputs": [],
   "source": []
  },
  {
   "cell_type": "code",
   "execution_count": 50,
   "metadata": {},
   "outputs": [
    {
     "data": {
      "image/png": "[encoded data removed]",
      "text/plain": [
       "<Figure size 1080x360 with 1 Axes>"
      ]
     },
     "metadata": {
      "needs_background": "light"
     },
     "output_type": "display_data"
    }
   ],
   "source": [
    "x_values = pd.Series(range(0, len(orders['revenue'])))\n",
    "plt.figure(figsize=(15,5))\n",
    "plt.scatter(x_values, orders['revenue']) \n",
    "plt.xlabel('Пользователи')\n",
    "plt.ylabel('Стоимость заказов')\n",
    "plt.title(\"Стоимости заказов\")\n",
    "plt.show()"
   ]
  },
  {
   "cell_type": "markdown",
   "metadata": {},
   "source": [
    "Выводы:\n",
    "    Есть 2 выброса в районе 1 250 000, который выглядит весьма аномально, и 200 000. Найти точные суммы аномальных заказов."
   ]
  },
  {
   "cell_type": "code",
   "execution_count": 51,
   "metadata": {},
   "outputs": [
    {
     "data": {
      "text/plain": [
       "744       86620\n",
       "1136      92550\n",
       "858       93940\n",
       "1196     202740\n",
       "425     1294500\n",
       "Name: revenue, dtype: int64"
      ]
     },
     "execution_count": 51,
     "metadata": {},
     "output_type": "execute_result"
    }
   ],
   "source": [
    "orders['revenue'].sort_values().tail()"
   ]
  },
  {
   "cell_type": "markdown",
   "metadata": {},
   "source": [
    "Аномальные заказы на сумму 1294500, второй на 202740."
   ]
  },
  {
   "cell_type": "markdown",
   "metadata": {},
   "source": [
    "Избавиться от явных выбросов и взглянуть в другом масштабе."
   ]
  },
  {
   "cell_type": "code",
   "execution_count": 52,
   "metadata": {},
   "outputs": [
    {
     "data": {
      "image/png": "[encoded data removed]",
      "text/plain": [
       "<Figure size 1080x360 with 1 Axes>"
      ]
     },
     "metadata": {
      "needs_background": "light"
     },
     "output_type": "display_data"
    }
   ],
   "source": [
    "norm_orders = orders[orders['revenue']<=200000]['revenue']\n",
    "xn_values = pd.Series(range(0,len(norm_orders)))\n",
    "plt.figure(figsize=(15,5))\n",
    "plt.grid()\n",
    "plt.title('График стоимостей заказов')\n",
    "plt.xlabel('\\nКол-во пользователей')\n",
    "plt.ylabel('Стоимость заказа\\n')\n",
    "plt.scatter(xn_values, norm_orders);"
   ]
  },
  {
   "cell_type": "markdown",
   "metadata": {},
   "source": [
    "Большая часть всех заказов не дороже 20000. Более точное распределение посмотрим с помощью перцентилей."
   ]
  },
  {
   "cell_type": "markdown",
   "metadata": {},
   "source": [
    "### Посчитайте 95-й и 99-й перцентили стоимости заказов"
   ]
  },
  {
   "cell_type": "code",
   "execution_count": 53,
   "metadata": {},
   "outputs": [
    {
     "data": {
      "text/plain": [
       "array([28000. , 58233.2])"
      ]
     },
     "execution_count": 53,
     "metadata": {},
     "output_type": "execute_result"
    }
   ],
   "source": [
    "np.percentile(orders['revenue'], [95, 99])"
   ]
  },
  {
   "cell_type": "markdown",
   "metadata": {},
   "source": [
    "Выводы: \n",
    "    Не более чем у 95% заказов чек выше 28000 рублей, и не более чем у 1% дороже 58233 рублей.\n",
    "За границу для определения аномальных заказов примем значение 58000."
   ]
  },
  {
   "cell_type": "markdown",
   "metadata": {},
   "source": [
    "### Посчитать статистическую значимость различий в среднем количестве заказов на посетителя между группами по «сырым» данным."
   ]
  },
  {
   "cell_type": "markdown",
   "metadata": {},
   "source": [
    "Начнём с подготовки данных.\n",
    "Собрать в общую таблицу все данные по заказам и визитам, добавив кумулятивные показатели."
   ]
  },
  {
   "cell_type": "code",
   "execution_count": 54,
   "metadata": {},
   "outputs": [
    {
     "data": {
      "text/html": [
       "<div>\n",
       "<style scoped>\n",
       "    .dataframe tbody tr th:only-of-type {\n",
       "        vertical-align: middle;\n",
       "    }\n",
       "\n",
       "    .dataframe tbody tr th {\n",
       "        vertical-align: top;\n",
       "    }\n",
       "\n",
       "    .dataframe thead th {\n",
       "        text-align: right;\n",
       "    }\n",
       "</style>\n",
       "<table border=\"1\" class=\"dataframe\">\n",
       "  <thead>\n",
       "    <tr style=\"text-align: right;\">\n",
       "      <th></th>\n",
       "      <th>transactionId</th>\n",
       "      <th>visitorId</th>\n",
       "      <th>date</th>\n",
       "      <th>revenue</th>\n",
       "      <th>group</th>\n",
       "    </tr>\n",
       "  </thead>\n",
       "  <tbody>\n",
       "    <tr>\n",
       "      <th>691</th>\n",
       "      <td>3589879928</td>\n",
       "      <td>1565607587</td>\n",
       "      <td>2019-08-09</td>\n",
       "      <td>3680</td>\n",
       "      <td>B</td>\n",
       "    </tr>\n",
       "  </tbody>\n",
       "</table>\n",
       "</div>"
      ],
      "text/plain": [
       "     transactionId   visitorId       date  revenue group\n",
       "691     3589879928  1565607587 2019-08-09     3680     B"
      ]
     },
     "execution_count": 54,
     "metadata": {},
     "output_type": "execute_result"
    }
   ],
   "source": [
    "orders.sample()"
   ]
  },
  {
   "cell_type": "code",
   "execution_count": 55,
   "metadata": {},
   "outputs": [
    {
     "data": {
      "text/html": [
       "<div>\n",
       "<style scoped>\n",
       "    .dataframe tbody tr th:only-of-type {\n",
       "        vertical-align: middle;\n",
       "    }\n",
       "\n",
       "    .dataframe tbody tr th {\n",
       "        vertical-align: top;\n",
       "    }\n",
       "\n",
       "    .dataframe thead th {\n",
       "        text-align: right;\n",
       "    }\n",
       "</style>\n",
       "<table border=\"1\" class=\"dataframe\">\n",
       "  <thead>\n",
       "    <tr style=\"text-align: right;\">\n",
       "      <th></th>\n",
       "      <th>date</th>\n",
       "      <th>group</th>\n",
       "      <th>visitors</th>\n",
       "    </tr>\n",
       "  </thead>\n",
       "  <tbody>\n",
       "    <tr>\n",
       "      <th>26</th>\n",
       "      <td>2019-08-27</td>\n",
       "      <td>A</td>\n",
       "      <td>711</td>\n",
       "    </tr>\n",
       "  </tbody>\n",
       "</table>\n",
       "</div>"
      ],
      "text/plain": [
       "         date group  visitors\n",
       "26 2019-08-27     A       711"
      ]
     },
     "execution_count": 55,
     "metadata": {},
     "output_type": "execute_result"
    }
   ],
   "source": [
    "visitors.sample()"
   ]
  },
  {
   "cell_type": "code",
   "execution_count": 56,
   "metadata": {},
   "outputs": [],
   "source": [
    "visitorsADaily = visitors[visitors['group']=='A'][['date', 'visitors']]\n",
    "visitorsADaily.columns = ['date', 'visitorsPerDateA']\n",
    "\n",
    "visitorsACummulative = visitorsADaily.apply(lambda x: visitorsADaily[visitorsADaily['date'] <= x['date']]. \\\n",
    "                                            agg({'date' : 'max', 'visitorsPerDateA' : 'sum'}), axis=1)\n",
    "visitorsACummulative.columns = ['date', 'visitorsCummulativeA']\n",
    "\n",
    "visitorsBDaily = visitors[visitors['group']=='B'][['date', 'visitors']]\n",
    "visitorsBDaily.columns = ['date', 'visitorsPerDateB']\n",
    "\n",
    "visitorsBCummulative = visitorsBDaily.apply(lambda x: visitorsBDaily[visitorsBDaily['date'] <= x['date']]. \\\n",
    "                                            agg({'date' : 'max', 'visitorsPerDateB' : 'sum'}), axis=1)\n",
    "visitorsBCummulative.columns = ['date', 'visitorsCummulativeB']"
   ]
  },
  {
   "cell_type": "code",
   "execution_count": 57,
   "metadata": {},
   "outputs": [],
   "source": [
    "ordersADaily = orders[orders['group']=='A'][['date', 'transactionId', 'visitorId', 'revenue']]\\\n",
    "    .groupby('date', as_index=False)\\\n",
    "    .agg({'transactionId' : pd.Series.nunique, 'revenue' : 'sum'})\n",
    "ordersADaily.columns = ['date', 'ordersPerDateA', 'revenuePerDateA']\n",
    "\n",
    "ordersACummulative = ordersADaily.apply(\n",
    "    lambda x: \\\n",
    "        ordersADaily[ordersADaily['date'] <= x['date']]\\\n",
    "            .agg({\n",
    "                'date' : 'max',\n",
    "                'ordersPerDateA' : 'sum',\n",
    "                'revenuePerDateA' : 'sum'}), axis=1).sort_values(by=['date'])\n",
    "ordersACummulative.columns = ['date', 'ordersCummulativeA', 'revenueCummulativeA']\n",
    "\n",
    "ordersBDaily = orders[orders['group']=='B'][['date', 'transactionId', 'visitorId', 'revenue']]\\\n",
    "    .groupby('date', as_index=False)\\\n",
    "    .agg({'transactionId' : pd.Series.nunique, 'revenue' : 'sum'})\n",
    "ordersBDaily.columns = ['date', 'ordersPerDateB', 'revenuePerDateB']\n",
    "\n",
    "ordersBCummulative = ordersBDaily.apply(\n",
    "    lambda x: \\\n",
    "        ordersBDaily[ordersBDaily['date'] <= x['date']]\\\n",
    "            .agg({\n",
    "                'date' : 'max',\n",
    "                'ordersPerDateB' : 'sum',\n",
    "                'revenuePerDateB' : 'sum'}), axis=1).sort_values(by=['date'])\n",
    "ordersBCummulative.columns = ['date', 'ordersCummulativeB', 'revenueCummulativeB']"
   ]
  },
  {
   "cell_type": "code",
   "execution_count": 58,
   "metadata": {},
   "outputs": [
    {
     "data": {
      "text/html": [
       "<div>\n",
       "<style scoped>\n",
       "    .dataframe tbody tr th:only-of-type {\n",
       "        vertical-align: middle;\n",
       "    }\n",
       "\n",
       "    .dataframe tbody tr th {\n",
       "        vertical-align: top;\n",
       "    }\n",
       "\n",
       "    .dataframe thead th {\n",
       "        text-align: right;\n",
       "    }\n",
       "</style>\n",
       "<table border=\"1\" class=\"dataframe\">\n",
       "  <thead>\n",
       "    <tr style=\"text-align: right;\">\n",
       "      <th></th>\n",
       "      <th>date</th>\n",
       "      <th>ordersPerDateA</th>\n",
       "      <th>revenuePerDateA</th>\n",
       "      <th>ordersPerDateB</th>\n",
       "      <th>revenuePerDateB</th>\n",
       "      <th>ordersCummulativeA</th>\n",
       "      <th>revenueCummulativeA</th>\n",
       "      <th>ordersCummulativeB</th>\n",
       "      <th>revenueCummulativeB</th>\n",
       "      <th>visitorsPerDateA</th>\n",
       "      <th>visitorsPerDateB</th>\n",
       "      <th>visitorsCummulativeA</th>\n",
       "      <th>visitorsCummulativeB</th>\n",
       "    </tr>\n",
       "  </thead>\n",
       "  <tbody>\n",
       "    <tr>\n",
       "      <th>0</th>\n",
       "      <td>2019-08-01</td>\n",
       "      <td>24</td>\n",
       "      <td>148579</td>\n",
       "      <td>21</td>\n",
       "      <td>101217</td>\n",
       "      <td>24</td>\n",
       "      <td>148579</td>\n",
       "      <td>21</td>\n",
       "      <td>101217</td>\n",
       "      <td>719</td>\n",
       "      <td>713</td>\n",
       "      <td>719</td>\n",
       "      <td>713</td>\n",
       "    </tr>\n",
       "    <tr>\n",
       "      <th>1</th>\n",
       "      <td>2019-08-02</td>\n",
       "      <td>20</td>\n",
       "      <td>93822</td>\n",
       "      <td>24</td>\n",
       "      <td>165531</td>\n",
       "      <td>44</td>\n",
       "      <td>242401</td>\n",
       "      <td>45</td>\n",
       "      <td>266748</td>\n",
       "      <td>619</td>\n",
       "      <td>581</td>\n",
       "      <td>1338</td>\n",
       "      <td>1294</td>\n",
       "    </tr>\n",
       "    <tr>\n",
       "      <th>2</th>\n",
       "      <td>2019-08-03</td>\n",
       "      <td>24</td>\n",
       "      <td>112473</td>\n",
       "      <td>16</td>\n",
       "      <td>114248</td>\n",
       "      <td>68</td>\n",
       "      <td>354874</td>\n",
       "      <td>61</td>\n",
       "      <td>380996</td>\n",
       "      <td>507</td>\n",
       "      <td>509</td>\n",
       "      <td>1845</td>\n",
       "      <td>1803</td>\n",
       "    </tr>\n",
       "    <tr>\n",
       "      <th>3</th>\n",
       "      <td>2019-08-04</td>\n",
       "      <td>16</td>\n",
       "      <td>70825</td>\n",
       "      <td>17</td>\n",
       "      <td>108571</td>\n",
       "      <td>84</td>\n",
       "      <td>425699</td>\n",
       "      <td>78</td>\n",
       "      <td>489567</td>\n",
       "      <td>717</td>\n",
       "      <td>770</td>\n",
       "      <td>2562</td>\n",
       "      <td>2573</td>\n",
       "    </tr>\n",
       "    <tr>\n",
       "      <th>4</th>\n",
       "      <td>2019-08-05</td>\n",
       "      <td>25</td>\n",
       "      <td>124218</td>\n",
       "      <td>23</td>\n",
       "      <td>92428</td>\n",
       "      <td>109</td>\n",
       "      <td>549917</td>\n",
       "      <td>101</td>\n",
       "      <td>581995</td>\n",
       "      <td>756</td>\n",
       "      <td>707</td>\n",
       "      <td>3318</td>\n",
       "      <td>3280</td>\n",
       "    </tr>\n",
       "  </tbody>\n",
       "</table>\n",
       "</div>"
      ],
      "text/plain": [
       "        date  ordersPerDateA  revenuePerDateA  ordersPerDateB  \\\n",
       "0 2019-08-01              24           148579              21   \n",
       "1 2019-08-02              20            93822              24   \n",
       "2 2019-08-03              24           112473              16   \n",
       "3 2019-08-04              16            70825              17   \n",
       "4 2019-08-05              25           124218              23   \n",
       "\n",
       "   revenuePerDateB  ordersCummulativeA  revenueCummulativeA  \\\n",
       "0           101217                  24               148579   \n",
       "1           165531                  44               242401   \n",
       "2           114248                  68               354874   \n",
       "3           108571                  84               425699   \n",
       "4            92428                 109               549917   \n",
       "\n",
       "   ordersCummulativeB  revenueCummulativeB  visitorsPerDateA  \\\n",
       "0                  21               101217               719   \n",
       "1                  45               266748               619   \n",
       "2                  61               380996               507   \n",
       "3                  78               489567               717   \n",
       "4                 101               581995               756   \n",
       "\n",
       "   visitorsPerDateB  visitorsCummulativeA  visitorsCummulativeB  \n",
       "0               713                   719                   713  \n",
       "1               581                  1338                  1294  \n",
       "2               509                  1845                  1803  \n",
       "3               770                  2562                  2573  \n",
       "4               707                  3318                  3280  "
      ]
     },
     "execution_count": 58,
     "metadata": {},
     "output_type": "execute_result"
    }
   ],
   "source": [
    "data = ordersADaily.merge(ordersBDaily, left_on='date', right_on='date', how='left')\\\n",
    "    .merge(ordersACummulative, left_on='date', right_on='date', how='left')\\\n",
    "    .merge(ordersBCummulative, left_on='date', right_on='date', how='left')\\\n",
    "    .merge(visitorsADaily, left_on='date', right_on='date', how='left')\\\n",
    "    .merge(visitorsBDaily, left_on='date', right_on='date', how='left')\\\n",
    "    .merge(visitorsACummulative, left_on='date', right_on='date', how='left')\\\n",
    "    .merge(visitorsBCummulative, left_on='date', right_on='date', how='left')\n",
    "data.head()"
   ]
  },
  {
   "cell_type": "markdown",
   "metadata": {},
   "source": [
    "Теперь мы можем посчитать статистическую значимость различия в количестве покупок на посетителя между группами.\n",
    "Создадим переменные ordersByUsersA и ordersByUsersB со столбцами ['userId', 'orders']. В них для пользователей, которые заказывали хотя бы 1 раз, укажем число совершённых заказов."
   ]
  },
  {
   "cell_type": "code",
   "execution_count": 59,
   "metadata": {},
   "outputs": [],
   "source": [
    "ordersByUsersA = orders[orders['group']=='A'].groupby('visitorId', as_index=False).agg({'transactionId' : pd.Series.nunique})\n",
    "ordersByUsersA.columns = ['userId', 'orders']\n",
    "\n",
    "ordersByUsersB = orders[orders['group']=='B'].groupby('visitorId', as_index=False).agg({'transactionId' : pd.Series.nunique})\n",
    "ordersByUsersB.columns = ['userId', 'orders']"
   ]
  },
  {
   "cell_type": "markdown",
   "metadata": {},
   "source": [
    "Объявим переменные sampleA и sampleB, в которых пользователям из разных групп будет соответствовать количество заказов.\n",
    "Тем, кто ничего не заказал, будут соответствовать нули. Это нужно, чтобы подготовить выборки к проверке критерием Манна-Уитни"
   ]
  },
  {
   "cell_type": "code",
   "execution_count": 60,
   "metadata": {},
   "outputs": [],
   "source": [
    "sampleA = pd.concat([ordersByUsersA['orders'],pd.Series(0, index=np.arange(data['visitorsPerDateA'].sum() - len(ordersByUsersA['orders'])), name='orders')],axis=0)\n",
    "sampleB = pd.concat([ordersByUsersB['orders'],pd.Series(0, index=np.arange(data['visitorsPerDateB'].sum() - len(ordersByUsersB['orders'])), name='orders')],axis=0)                                                                                                                            "
   ]
  },
  {
   "cell_type": "markdown",
   "metadata": {},
   "source": [
    "За нулевую гипотезу H0 примем - статистически значимых различий в конверсиях между группами нет. \n",
    "Тогда альтернативная гипотеза Н1 - статистически значимые различия есть."
   ]
  },
  {
   "cell_type": "markdown",
   "metadata": {},
   "source": [
    "Применить критерий и отформатируем p-value, округлив его до трёх знаков после запятой"
   ]
  },
  {
   "cell_type": "code",
   "execution_count": 61,
   "metadata": {},
   "outputs": [
    {
     "data": {
      "text/plain": [
       "'alpha = 0.05'"
      ]
     },
     "metadata": {},
     "output_type": "display_data"
    },
    {
     "data": {
      "text/plain": [
       "'p-value = 0.017'"
      ]
     },
     "metadata": {},
     "output_type": "display_data"
    },
    {
     "data": {
      "text/plain": [
       "'относительный прирост конверсии группы B = 0.138'"
      ]
     },
     "metadata": {},
     "output_type": "display_data"
    }
   ],
   "source": [
    "display(\"alpha = 0.05\")\n",
    "display(\"p-value = {0:.3f}\".format(st.mannwhitneyu(sampleA, sampleB, alternative = 'two-sided')[1]))\n",
    "display(\"относительный прирост конверсии группы B = {0:.3f}\".format(sampleB.mean()/sampleA.mean()-1)) "
   ]
  },
  {
   "cell_type": "markdown",
   "metadata": {},
   "source": [
    "Выводы:\n",
    "    P-value меньше 0.05, значит стоит отвергнуть нулевую гипотезу. Анализ \"сырых данных\" сообщает, что в среднем количестве заказов между группами есть статистически значимые различия. Относительный прирост среднего группы В к конверсии группы А равен 13.8%."
   ]
  },
  {
   "cell_type": "markdown",
   "metadata": {},
   "source": [
    "### Посчитать статистическую значимость различий в среднем чеке заказа между группами по «сырым» данным."
   ]
  },
  {
   "cell_type": "markdown",
   "metadata": {},
   "source": [
    "За нулевую гипотезу H0 примем - статистически значимых различий в среднем чеке между группами нет.\n",
    "Тогда альтернативная гипотеза Н1 - статистически значимые различия есть."
   ]
  },
  {
   "cell_type": "code",
   "execution_count": 62,
   "metadata": {},
   "outputs": [
    {
     "data": {
      "text/plain": [
       "'alpha = 0.05'"
      ]
     },
     "metadata": {},
     "output_type": "display_data"
    },
    {
     "data": {
      "text/plain": [
       "'p-value = 0.729'"
      ]
     },
     "metadata": {},
     "output_type": "display_data"
    },
    {
     "data": {
      "text/plain": [
       "\"Относительный показатель 'B' и 'A' = 0.259\""
      ]
     },
     "metadata": {},
     "output_type": "display_data"
    }
   ],
   "source": [
    "display(\"alpha = 0.05\")\n",
    "display(\n",
    "    \"p-value = {0:.3f}\".format(st.mannwhitneyu(orders[orders['group']=='A']['revenue'], \n",
    "                                               orders[orders['group']=='B']['revenue'], alternative = 'two-sided')[1])\n",
    ")\n",
    "display(\n",
    "    \"Относительный показатель 'B' и 'A' = {0:.3f}\".format(\n",
    "        orders[orders['group']=='B']['revenue'].mean()/orders[orders['group']=='A']['revenue'].mean()-1)\n",
    ") \n"
   ]
  },
  {
   "cell_type": "markdown",
   "metadata": {},
   "source": [
    "Выводы: \n",
    "    Не получилось отвергнуть нулевую гипотезу. Разница между выборками имеет случайный характер.\n",
    "\n",
    "Относительный прирост группы В по среднему чеку заказа составил почти 26%."
   ]
  },
  {
   "cell_type": "markdown",
   "metadata": {},
   "source": [
    "### Посчитать статистическую значимость различий в среднем количестве заказов на посетителя между группами по «очищенным» данным. "
   ]
  },
  {
   "cell_type": "markdown",
   "metadata": {},
   "source": [
    "Приступаем к подготовке очищенных от аномалий данных.\n",
    "В предыдущих расчётах мы приняли за аномальных пользователей тех, кто:\n",
    "\n",
    "совершил 4 и больше заказов\n",
    "совершил заказ дороже 58000 рублей"
   ]
  },
  {
   "cell_type": "markdown",
   "metadata": {},
   "source": [
    "Сделаем срезы пользователей:\n",
    "\n",
    "с числом заказов больше 3 — usersWithManyOrders\n",
    "совершивших заказы дороже 58000 — usersWithExpensiveOrders."
   ]
  },
  {
   "cell_type": "markdown",
   "metadata": {},
   "source": [
    "Объединим их в таблицу abnormalUsers. Посмотрим количество аномальных пользователей методом shape()"
   ]
  },
  {
   "cell_type": "code",
   "execution_count": 63,
   "metadata": {},
   "outputs": [
    {
     "data": {
      "text/plain": [
       "1099    148427295\n",
       "18      199603092\n",
       "23      237748145\n",
       "949     887908475\n",
       "744     888512513\n",
       "dtype: int64"
      ]
     },
     "metadata": {},
     "output_type": "display_data"
    },
    {
     "data": {
      "text/plain": [
       "'Всего аномальных пользователей ='"
      ]
     },
     "metadata": {},
     "output_type": "display_data"
    },
    {
     "data": {
      "text/plain": [
       "20"
      ]
     },
     "metadata": {},
     "output_type": "display_data"
    }
   ],
   "source": [
    "usersWithManyOrders = pd.concat(\n",
    "    [ordersByUsersA[ordersByUsersA['orders'] > 3]['userId'], ordersByUsersB[ordersByUsersB['orders'] > 3]['userId']], axis = 0\n",
    ")\n",
    "usersWithExpensiveOrders = orders[orders['revenue'] > 58000]['visitorId']\n",
    "abnormalUsers = pd.concat([usersWithManyOrders, usersWithExpensiveOrders], axis = 0).drop_duplicates().sort_values()\n",
    "display(abnormalUsers.head(5))\n",
    "display(\"Всего аномальных пользователей =\" ,len(abnormalUsers)) "
   ]
  },
  {
   "cell_type": "markdown",
   "metadata": {},
   "source": [
    "Всего 20 аномальных пользователей. Посмотреть, как изменятся расчеты без их участия."
   ]
  },
  {
   "cell_type": "code",
   "execution_count": 64,
   "metadata": {},
   "outputs": [],
   "source": [
    "sampleAFiltered = pd.concat([ordersByUsersA[np.logical_not(ordersByUsersA['userId'].isin(abnormalUsers))]['orders'], \\\n",
    "                             pd.Series(0, index=np.arange(data['visitorsPerDateA'].sum() - len(ordersByUsersA['orders'])), \\\n",
    "                                       name='orders')],axis=0)\n",
    "\n",
    "sampleBFiltered = pd.concat([ordersByUsersB[np.logical_not(ordersByUsersB['userId'].isin(abnormalUsers))]['orders'], \\\n",
    "                             pd.Series(0, index=np.arange(data['visitorsPerDateB'].sum() - len(ordersByUsersB['orders'])), \\\n",
    "                                       name='orders')],axis=0) "
   ]
  },
  {
   "cell_type": "markdown",
   "metadata": {},
   "source": [
    "За нулевую гипотезу H0 примем - статистически значимых различий в количестве покупок на посетителя между группами нет.\n",
    "Тогда альтернативная гипотеза Н1 - статистически значимые различия есть."
   ]
  },
  {
   "cell_type": "markdown",
   "metadata": {},
   "source": [
    "Применим статистический критерий Манна-Уитни к полученным выборкам"
   ]
  },
  {
   "cell_type": "code",
   "execution_count": 65,
   "metadata": {},
   "outputs": [
    {
     "data": {
      "text/plain": [
       "'alpha ='"
      ]
     },
     "metadata": {},
     "output_type": "display_data"
    },
    {
     "data": {
      "text/plain": [
       "0.05"
      ]
     },
     "metadata": {},
     "output_type": "display_data"
    },
    {
     "data": {
      "text/plain": [
       "'p-value = 0.014'"
      ]
     },
     "metadata": {},
     "output_type": "display_data"
    },
    {
     "data": {
      "text/plain": [
       "\"Относительный показатель 'B' и 'A' = 0.151\""
      ]
     },
     "metadata": {},
     "output_type": "display_data"
    }
   ],
   "source": [
    "display(\"alpha =\",0.05)\n",
    "display(\"p-value = {0:.3f}\".format(st.mannwhitneyu(sampleAFiltered, sampleBFiltered, alternative = 'two-sided')[1]))\n",
    "display(\"Относительный показатель 'B' и 'A' = {0:.3f}\".format(sampleBFiltered.mean()/sampleAFiltered.mean()-1)) "
   ]
  },
  {
   "cell_type": "markdown",
   "metadata": {},
   "source": [
    "Вывод:\n",
    "p-value = 0.014 меньше 0.05. Поэтому, нулевую гипотезу о том, что статистически значимых различий в количестве покупок на посетителя между группами нет, - отвергаем. Это значит: и по «очищенным» данным в количестве покупок на посетителя групп A и B есть статистически значимые различия. \n",
    "\n",
    "Аномалии особо не повлияли на статистическую значимость. По очищенным данным p_value уменьшился с 1.7%% до 1.4%. \n",
    "\n",
    "А относительный выигрыш группы \"B\" над \"A\" равен почти 15.1% (чуть выше, чем с «сырыми» данными - 13.8%)"
   ]
  },
  {
   "cell_type": "markdown",
   "metadata": {},
   "source": [
    "### Посчитать статистическую значимость различий в среднем чеке заказа между группами по «очищенным» данным."
   ]
  },
  {
   "cell_type": "markdown",
   "metadata": {},
   "source": [
    "Выведем p-value для сравнения средних чеков между очищенными группами."
   ]
  },
  {
   "cell_type": "markdown",
   "metadata": {},
   "source": [
    "За нулевую гипотезу H0 примем: \"статистически значимых различий в средних чеках между группами нет\".\n",
    "Тогда альтернативная гипотеза Н1 - статистически значимые различия есть."
   ]
  },
  {
   "cell_type": "code",
   "execution_count": 66,
   "metadata": {},
   "outputs": [
    {
     "name": "stdout",
     "output_type": "stream",
     "text": [
      "alpha = 0.05\n",
      "p-value = 0.959\n",
      "Относительный показатель В и А = -0.014\n"
     ]
    }
   ],
   "source": [
    "print(\"alpha =\",0.05)\n",
    "print(\"p-value = {0:.3f}\".format(st.mannwhitneyu(\n",
    "    orders[np.logical_and(\n",
    "        orders['group']=='A',\n",
    "        np.logical_not(orders['visitorId'].isin(abnormalUsers)))]['revenue'],\n",
    "    orders[np.logical_and(\n",
    "        orders['group']=='B',\n",
    "        np.logical_not(orders['visitorId'].isin(abnormalUsers)))]['revenue'], alternative = 'two-sided')[1]))\n",
    "\n",
    "print(\"Относительный показатель В и А = {0:.3f}\".format(\n",
    "    orders[np.logical_and(orders['group']=='B',np.logical_not(orders['visitorId'].isin(abnormalUsers)))]['revenue'].mean()/\n",
    "    orders[np.logical_and(\n",
    "        orders['group']=='A',\n",
    "        np.logical_not(orders['visitorId'].isin(abnormalUsers)))]['revenue'].mean() - 1)) "
   ]
  },
  {
   "cell_type": "markdown",
   "metadata": {},
   "source": [
    "##### Вывод: \n",
    "P-value = 0.959, значительно больше 0.05. Поэтому можем считать, что в среднем чеке нет различий (как и с \"сырыми\" данными). А вот средний чек группы B оказался незначительно (на 1.4%) ниже среднего чека группы A, в то время как по \"сырым\" данным, он был больше почти на ~26%. На такой результат повлияли наши аномальные заказы с большими суммами."
   ]
  },
  {
   "cell_type": "markdown",
   "metadata": {},
   "source": [
    "### Принять решение по результатам теста и объясните его"
   ]
  },
  {
   "cell_type": "markdown",
   "metadata": {},
   "source": [
    "Мы выяснили, что у группы В количества покупок на посетителя выше на 15.1% по \"очищенным\" данным,  и по \"сырым\" близкое значение - 13.8%, а средние чеки групп по \"очищенным данным\" примерно одинаковые(незначительно ниже в группе B). Хотя по \"сырым\" данным можно было подумать, что разница средних чеков составляет 26% в пользу группы B.\n",
    "\n",
    "Есть статистически значимое различие по  количеству заказов на пользователя между группами как по сырым данным, так и после фильтрации аномалий.\n",
    "По сырым данным есть статистически значимое различие по среднему чеку между группами. Однако после удаления аномалий статистически значимое различия стали очень близки(даже на 1.4% ниже в группе B).\n",
    "График различия  количества заказов на пользователя между группами сообщает, что результаты группы B лучше группы A: имеют тенденцию к росту, либо зафиксировались около среднего значения.\n",
    "\n",
    "\n",
    "Основываясь на результатах проведенного А/В теста, рекомендую остановить тест и зафиксировать победу группы В по показателю  количества заказов на пользователя. Дальше отдел маркетинга может начать работу по стимуляции к увеличению среднего чека."
   ]
  },
  {
   "cell_type": "markdown",
   "metadata": {},
   "source": [
    "## Общий вывод"
   ]
  },
  {
   "cell_type": "markdown",
   "metadata": {},
   "source": [
    "1. В результате предобработки данных были сделаны следующие шаги: были приведены к нижнему регистру названия колонок в датасете hypothesis. Приведены колонки date датасета visitors и date в датасета orders к формату datetime64. Явные дубоикаты в трёх имеющихся датасетах обнаружены не были.\n",
    "2. В результате приоретизации гипотез были сделаны следующие выводы: параметр reach, то есть охват пользователей, который есть в методе RICE изменил приоретизацию гипотез. Как мы видим в пятерке лучших одни и те же гипотезы (Добавить два новых канала привлечения трафика, что позволит привлекать на 30% больше пользователей, Добавить блоки рекомендаций товаров на сайт интернет магазина, чтобы повысить конверсию и средний чек заказа, Показать на главной странице баннеры с актуальными акциями и распродажами, чтобы увеличить конверсию, Добавить форму подписки на все основные страницы, чтобы собрать базу клиентов для email-рассылок, Запустить акцию, дающую скидку на товар в день рождения). Однако, если при ICE на первом месте гипотеза 8, то при расчёте RICE, на первое место вырвалась гипотеза под номером 7(Добавить форму подписки на все основные страницы, чтобы собрать базу клиентов для email-рассылок). Так получилось потому, что её (7 - Добавить форму подписки на все основные страницы, чтобы собрать базу клиентов для email-рассылок) параметр reach равен 10, в то время как у остальных гипотез он меньше. Параметр охвата (Reach), использующийся в методе RICE изменил всю приоритетность, полученную по методу ICE. Но задача 4 (Изменить цвет фона главной страницы, чтобы увеличить вовлеченность пользователей) в обоих методах осталась на последнем месте.\n",
    "3. В процессе анализ A/B-теста в данных были выявленно дублирование пользовательских id в тестируемых группах. В реальном проекте, я бы обратился к человеку, который предоставил эти данные. Так быть не должно и это свидетельствует об ошибках на этапе сбора или обработки этих данных. Возможно - человеческий фактор. Эти данные можно удалить, так как количество задвоенных id не привышает 5-10%. При этом, заказов, которые оказались бы и в группе А и в группе В не обнаружено.\n",
    "4. Мы выяснили, что у группы В конверсии выше на 13.% по \"очищенным\" данным,  и по \"сырым\" близкое значение - 13.8%, а средние чеки групп по \"очищенным данным\" примерно одинаковые(незначительно ниже в группе B). Хотя по \"сырым\" данным можно было подумать, что разница средних чеков составляет 26% в пользу группы B.\n",
    "\n",
    "На основание графиков и проделанных вычислений, есть статистически значимое различие по конверсии между группами как по сырым данным, так и после фильтрации аномалий.\n",
    "По сырым данным есть статистически значимое различие по среднему чеку между группами. Однако после удаления аномалий статистически значимое различия стали очень близки(даже на 1.4% ниже в группе B).\n",
    "График различия конверсии между группами сообщает, что результаты группы B лучше группы A: имеют тенденцию к росту, либо зафиксировались около среднего значения.\n",
    "\n",
    "Основываясь на результатах проведенного А/В теста, рекомендую остановить тест и зафиксировать победу группы В по показателю конверсии. Дальше отдел маркетинга может начать работу по увеличению среднего чека."
   ]
  },
  {
   "cell_type": "markdown",
   "metadata": {},
   "source": [
    "<div class=\"alert alert-success\">\n",
    "<h2> Комментарий ревьюера <a class=\"tocSkip\"> </h2>\n",
    "\n",
    "<b>Отлично!✅:</b> Здорово, что собрал все данные в общий вывод!\n",
    "</div>"
   ]
  },
  {
   "cell_type": "markdown",
   "metadata": {},
   "source": [
    "<div style=\"border:solid Chocolate 2px; padding: 40px\">\n",
    "Виталий, давай подведем итоги. Ты большой молодец, что старался и проделал такую большую работу. Мне понравилось, что ты наполнил проект развернутыми выводами и наглядно продемонстрировал каждое задание:) \n",
    "    \n",
    " Разберем над чем стоит поработать:\n",
    "    \n",
    "    1. В выводах дать полную формулировку гипотез, а не указывать индексы.\n",
    "   \n",
    "    2. Рекомендую:\n",
    "    - указать решаемую бизнес-задачу;\n",
    "    - вывести гипотезы полностью;\n",
    "    - проверить корректность датафрейма cummulativeData;\n",
    "    - проверить названия у графиков.\n",
    "   \n",
    "    Пересмотри работу и исправь ошибки. Обязательно пиши, если я могу тебе еще чем-то помочь. Удачи!)\n",
    "  "
   ]
  },
  {
   "cell_type": "markdown",
   "metadata": {},
   "source": [
    "<div class=\"alert alert-success\">\n",
    "<h2> Комментарий ревьюера v2<a class=\"tocSkip\"> </h2>\n",
    "\n",
    "<b>Отлично!✅:</b> Виталий, привет! Молодец, оперативно и верно доработал проект. Благодарю за обратную связь, работа принята, удачи в обучении!)\n",
    "</div>"
   ]
  }
 ],
 "metadata": {
  "ExecuteTimeLog": [
   {
    "duration": 370,
    "start_time": "2023-10-09T12:35:43.370Z"
   },
   {
    "duration": 3,
    "start_time": "2023-10-09T12:35:45.685Z"
   },
   {
    "duration": 66,
    "start_time": "2023-10-09T12:36:47.846Z"
   },
   {
    "duration": 75,
    "start_time": "2023-10-09T12:38:43.124Z"
   },
   {
    "duration": 87,
    "start_time": "2023-10-09T12:40:32.502Z"
   },
   {
    "duration": 69,
    "start_time": "2023-10-09T12:40:54.013Z"
   },
   {
    "duration": 3,
    "start_time": "2023-10-09T12:44:00.585Z"
   },
   {
    "duration": 83,
    "start_time": "2023-10-09T12:44:00.590Z"
   },
   {
    "duration": 85,
    "start_time": "2023-10-09T12:44:00.675Z"
   },
   {
    "duration": 71,
    "start_time": "2023-10-09T12:44:00.762Z"
   },
   {
    "duration": 25,
    "start_time": "2023-10-09T12:44:00.835Z"
   },
   {
    "duration": 59,
    "start_time": "2023-10-09T12:44:00.862Z"
   },
   {
    "duration": 12,
    "start_time": "2023-10-09T12:44:16.070Z"
   },
   {
    "duration": 9,
    "start_time": "2023-10-09T12:44:29.916Z"
   },
   {
    "duration": 3,
    "start_time": "2023-10-09T12:45:18.349Z"
   },
   {
    "duration": 91,
    "start_time": "2023-10-09T12:45:18.353Z"
   },
   {
    "duration": 99,
    "start_time": "2023-10-09T12:45:18.446Z"
   },
   {
    "duration": 34,
    "start_time": "2023-10-09T12:45:18.547Z"
   },
   {
    "duration": 47,
    "start_time": "2023-10-09T12:45:18.583Z"
   },
   {
    "duration": 94,
    "start_time": "2023-10-09T12:45:18.632Z"
   },
   {
    "duration": 184,
    "start_time": "2023-10-09T12:45:18.728Z"
   },
   {
    "duration": 2,
    "start_time": "2023-10-09T12:48:15.474Z"
   },
   {
    "duration": 39,
    "start_time": "2023-10-09T12:48:15.478Z"
   },
   {
    "duration": 38,
    "start_time": "2023-10-09T12:48:15.519Z"
   },
   {
    "duration": 15,
    "start_time": "2023-10-09T12:48:15.558Z"
   },
   {
    "duration": 7,
    "start_time": "2023-10-09T12:48:15.575Z"
   },
   {
    "duration": 18,
    "start_time": "2023-10-09T12:48:15.584Z"
   },
   {
    "duration": 8,
    "start_time": "2023-10-09T12:48:15.603Z"
   },
   {
    "duration": 3,
    "start_time": "2023-10-09T12:48:40.827Z"
   },
   {
    "duration": 49,
    "start_time": "2023-10-09T12:48:40.832Z"
   },
   {
    "duration": 37,
    "start_time": "2023-10-09T12:48:40.883Z"
   },
   {
    "duration": 16,
    "start_time": "2023-10-09T12:48:40.922Z"
   },
   {
    "duration": 8,
    "start_time": "2023-10-09T12:48:40.940Z"
   },
   {
    "duration": 15,
    "start_time": "2023-10-09T12:48:40.950Z"
   },
   {
    "duration": 23,
    "start_time": "2023-10-09T12:48:40.967Z"
   },
   {
    "duration": 390,
    "start_time": "2023-10-09T12:49:35.981Z"
   },
   {
    "duration": 28,
    "start_time": "2023-10-09T12:49:36.373Z"
   },
   {
    "duration": 39,
    "start_time": "2023-10-09T12:49:36.402Z"
   },
   {
    "duration": 16,
    "start_time": "2023-10-09T12:49:36.442Z"
   },
   {
    "duration": 22,
    "start_time": "2023-10-09T12:49:36.459Z"
   },
   {
    "duration": 12,
    "start_time": "2023-10-09T12:49:36.483Z"
   },
   {
    "duration": 11,
    "start_time": "2023-10-09T12:49:36.496Z"
   },
   {
    "duration": 548,
    "start_time": "2023-10-10T07:55:48.388Z"
   },
   {
    "duration": 91,
    "start_time": "2023-10-10T07:55:48.939Z"
   },
   {
    "duration": 103,
    "start_time": "2023-10-10T07:55:49.036Z"
   },
   {
    "duration": 55,
    "start_time": "2023-10-10T07:55:49.140Z"
   },
   {
    "duration": 27,
    "start_time": "2023-10-10T07:55:49.197Z"
   },
   {
    "duration": 33,
    "start_time": "2023-10-10T07:55:49.226Z"
   },
   {
    "duration": 10,
    "start_time": "2023-10-10T07:55:49.262Z"
   },
   {
    "duration": 21,
    "start_time": "2023-10-10T07:59:14.800Z"
   },
   {
    "duration": 453,
    "start_time": "2023-10-10T07:59:59.032Z"
   },
   {
    "duration": 58,
    "start_time": "2023-10-10T07:59:59.488Z"
   },
   {
    "duration": 40,
    "start_time": "2023-10-10T07:59:59.548Z"
   },
   {
    "duration": 50,
    "start_time": "2023-10-10T07:59:59.589Z"
   },
   {
    "duration": 25,
    "start_time": "2023-10-10T07:59:59.642Z"
   },
   {
    "duration": 30,
    "start_time": "2023-10-10T07:59:59.669Z"
   },
   {
    "duration": 59,
    "start_time": "2023-10-10T07:59:59.702Z"
   },
   {
    "duration": 75,
    "start_time": "2023-10-10T07:59:59.763Z"
   },
   {
    "duration": 35,
    "start_time": "2023-10-10T07:59:59.840Z"
   },
   {
    "duration": 63,
    "start_time": "2023-10-10T07:59:59.877Z"
   },
   {
    "duration": 7,
    "start_time": "2023-10-10T08:01:13.127Z"
   },
   {
    "duration": 8,
    "start_time": "2023-10-10T08:01:14.770Z"
   },
   {
    "duration": 12,
    "start_time": "2023-10-10T08:01:15.514Z"
   },
   {
    "duration": 4,
    "start_time": "2023-10-10T08:07:13.939Z"
   },
   {
    "duration": 6,
    "start_time": "2023-10-10T08:07:14.677Z"
   },
   {
    "duration": 531,
    "start_time": "2023-10-10T08:09:28.591Z"
   },
   {
    "duration": 502,
    "start_time": "2023-10-10T08:09:29.335Z"
   },
   {
    "duration": 1625,
    "start_time": "2023-10-10T08:11:11.244Z"
   },
   {
    "duration": 30,
    "start_time": "2023-10-10T08:11:12.871Z"
   },
   {
    "duration": 54,
    "start_time": "2023-10-10T08:11:12.909Z"
   },
   {
    "duration": 18,
    "start_time": "2023-10-10T08:11:12.966Z"
   },
   {
    "duration": 49,
    "start_time": "2023-10-10T08:11:12.988Z"
   },
   {
    "duration": 34,
    "start_time": "2023-10-10T08:11:13.040Z"
   },
   {
    "duration": 83,
    "start_time": "2023-10-10T08:11:13.076Z"
   },
   {
    "duration": 95,
    "start_time": "2023-10-10T08:11:13.161Z"
   },
   {
    "duration": 47,
    "start_time": "2023-10-10T08:11:13.258Z"
   },
   {
    "duration": 44,
    "start_time": "2023-10-10T08:11:13.309Z"
   },
   {
    "duration": 61,
    "start_time": "2023-10-10T08:11:13.356Z"
   },
   {
    "duration": 72,
    "start_time": "2023-10-10T08:11:13.423Z"
   },
   {
    "duration": 53,
    "start_time": "2023-10-10T08:11:13.497Z"
   },
   {
    "duration": 24,
    "start_time": "2023-10-10T08:11:13.554Z"
   },
   {
    "duration": 47,
    "start_time": "2023-10-10T08:11:13.580Z"
   },
   {
    "duration": 43,
    "start_time": "2023-10-10T08:11:13.633Z"
   },
   {
    "duration": 44,
    "start_time": "2023-10-10T08:11:13.679Z"
   },
   {
    "duration": 13,
    "start_time": "2023-10-10T08:11:30.650Z"
   },
   {
    "duration": 19,
    "start_time": "2023-10-10T08:11:44.797Z"
   },
   {
    "duration": 20,
    "start_time": "2023-10-10T08:13:18.969Z"
   },
   {
    "duration": 117,
    "start_time": "2023-10-10T08:14:53.754Z"
   },
   {
    "duration": 10,
    "start_time": "2023-10-10T08:16:11.361Z"
   },
   {
    "duration": 5,
    "start_time": "2023-10-10T08:16:49.960Z"
   },
   {
    "duration": 9,
    "start_time": "2023-10-10T08:16:52.542Z"
   },
   {
    "duration": 10,
    "start_time": "2023-10-10T08:17:00.832Z"
   },
   {
    "duration": 1322,
    "start_time": "2023-10-10T08:20:53.871Z"
   },
   {
    "duration": 50,
    "start_time": "2023-10-10T08:20:55.196Z"
   },
   {
    "duration": 97,
    "start_time": "2023-10-10T08:20:55.248Z"
   },
   {
    "duration": 97,
    "start_time": "2023-10-10T08:20:55.347Z"
   },
   {
    "duration": 94,
    "start_time": "2023-10-10T08:20:55.447Z"
   },
   {
    "duration": 93,
    "start_time": "2023-10-10T08:20:55.543Z"
   },
   {
    "duration": 86,
    "start_time": "2023-10-10T08:20:55.639Z"
   },
   {
    "duration": 66,
    "start_time": "2023-10-10T08:20:55.730Z"
   },
   {
    "duration": 96,
    "start_time": "2023-10-10T08:20:55.798Z"
   },
   {
    "duration": 86,
    "start_time": "2023-10-10T08:20:55.898Z"
   },
   {
    "duration": 43,
    "start_time": "2023-10-10T08:20:55.986Z"
   },
   {
    "duration": 107,
    "start_time": "2023-10-10T08:20:56.031Z"
   },
   {
    "duration": 59,
    "start_time": "2023-10-10T08:20:56.141Z"
   },
   {
    "duration": 33,
    "start_time": "2023-10-10T08:20:56.204Z"
   },
   {
    "duration": 92,
    "start_time": "2023-10-10T08:20:56.239Z"
   },
   {
    "duration": 18,
    "start_time": "2023-10-10T08:20:56.334Z"
   },
   {
    "duration": 31,
    "start_time": "2023-10-10T08:20:56.354Z"
   },
   {
    "duration": 44,
    "start_time": "2023-10-10T08:20:56.387Z"
   },
   {
    "duration": 11,
    "start_time": "2023-10-10T08:20:56.433Z"
   },
   {
    "duration": 48,
    "start_time": "2023-10-10T08:20:56.446Z"
   },
   {
    "duration": 19,
    "start_time": "2023-10-10T08:20:56.496Z"
   },
   {
    "duration": 44,
    "start_time": "2023-10-10T08:20:56.521Z"
   },
   {
    "duration": 47,
    "start_time": "2023-10-10T08:20:56.567Z"
   },
   {
    "duration": 12,
    "start_time": "2023-10-10T08:21:53.058Z"
   },
   {
    "duration": 13,
    "start_time": "2023-10-10T14:38:26.309Z"
   },
   {
    "duration": 52,
    "start_time": "2023-10-11T13:34:56.883Z"
   },
   {
    "duration": 1484,
    "start_time": "2023-10-11T13:35:20.264Z"
   },
   {
    "duration": 62,
    "start_time": "2023-10-11T13:35:21.750Z"
   },
   {
    "duration": 81,
    "start_time": "2023-10-11T13:35:21.814Z"
   },
   {
    "duration": 54,
    "start_time": "2023-10-11T13:35:21.897Z"
   },
   {
    "duration": 12,
    "start_time": "2023-10-11T13:35:21.954Z"
   },
   {
    "duration": 23,
    "start_time": "2023-10-11T13:35:21.968Z"
   },
   {
    "duration": 28,
    "start_time": "2023-10-11T13:35:21.993Z"
   },
   {
    "duration": 16,
    "start_time": "2023-10-11T13:35:22.023Z"
   },
   {
    "duration": 27,
    "start_time": "2023-10-11T13:35:22.041Z"
   },
   {
    "duration": 23,
    "start_time": "2023-10-11T13:35:22.071Z"
   },
   {
    "duration": 19,
    "start_time": "2023-10-11T13:35:22.096Z"
   },
   {
    "duration": 10,
    "start_time": "2023-10-11T13:35:22.117Z"
   },
   {
    "duration": 16,
    "start_time": "2023-10-11T13:35:22.128Z"
   },
   {
    "duration": 353,
    "start_time": "2023-10-11T13:35:22.146Z"
   },
   {
    "duration": 0,
    "start_time": "2023-10-11T13:35:22.502Z"
   },
   {
    "duration": 0,
    "start_time": "2023-10-11T13:35:22.504Z"
   },
   {
    "duration": 0,
    "start_time": "2023-10-11T13:35:22.505Z"
   },
   {
    "duration": 0,
    "start_time": "2023-10-11T13:35:22.507Z"
   },
   {
    "duration": 0,
    "start_time": "2023-10-11T13:35:22.509Z"
   },
   {
    "duration": 0,
    "start_time": "2023-10-11T13:35:22.510Z"
   },
   {
    "duration": 0,
    "start_time": "2023-10-11T13:35:22.511Z"
   },
   {
    "duration": 0,
    "start_time": "2023-10-11T13:35:22.513Z"
   },
   {
    "duration": 0,
    "start_time": "2023-10-11T13:35:22.514Z"
   },
   {
    "duration": 0,
    "start_time": "2023-10-11T13:35:22.515Z"
   },
   {
    "duration": 0,
    "start_time": "2023-10-11T13:35:22.516Z"
   },
   {
    "duration": 1202,
    "start_time": "2023-10-11T13:35:43.311Z"
   },
   {
    "duration": 28,
    "start_time": "2023-10-11T13:35:44.515Z"
   },
   {
    "duration": 38,
    "start_time": "2023-10-11T13:35:44.545Z"
   },
   {
    "duration": 17,
    "start_time": "2023-10-11T13:35:44.585Z"
   },
   {
    "duration": 20,
    "start_time": "2023-10-11T13:35:44.604Z"
   },
   {
    "duration": 20,
    "start_time": "2023-10-11T13:35:44.627Z"
   },
   {
    "duration": 21,
    "start_time": "2023-10-11T13:35:44.649Z"
   },
   {
    "duration": 19,
    "start_time": "2023-10-11T13:35:44.672Z"
   },
   {
    "duration": 22,
    "start_time": "2023-10-11T13:35:44.693Z"
   },
   {
    "duration": 16,
    "start_time": "2023-10-11T13:35:44.719Z"
   },
   {
    "duration": 9,
    "start_time": "2023-10-11T13:35:44.737Z"
   },
   {
    "duration": 11,
    "start_time": "2023-10-11T13:35:44.748Z"
   },
   {
    "duration": 7,
    "start_time": "2023-10-11T13:35:44.780Z"
   },
   {
    "duration": 14,
    "start_time": "2023-10-11T13:35:44.789Z"
   },
   {
    "duration": 21,
    "start_time": "2023-10-11T13:35:44.805Z"
   },
   {
    "duration": 18,
    "start_time": "2023-10-11T13:35:44.828Z"
   },
   {
    "duration": 7,
    "start_time": "2023-10-11T13:35:44.849Z"
   },
   {
    "duration": 27,
    "start_time": "2023-10-11T13:35:44.858Z"
   },
   {
    "duration": 23,
    "start_time": "2023-10-11T13:35:44.886Z"
   },
   {
    "duration": 24,
    "start_time": "2023-10-11T13:35:44.911Z"
   },
   {
    "duration": 14,
    "start_time": "2023-10-11T13:35:44.936Z"
   },
   {
    "duration": 23,
    "start_time": "2023-10-11T13:35:44.952Z"
   },
   {
    "duration": 34,
    "start_time": "2023-10-11T13:35:44.977Z"
   },
   {
    "duration": 46,
    "start_time": "2023-10-11T13:35:45.012Z"
   },
   {
    "duration": 11,
    "start_time": "2023-10-11T13:39:41.317Z"
   },
   {
    "duration": 5,
    "start_time": "2023-10-11T13:41:00.391Z"
   },
   {
    "duration": 11,
    "start_time": "2023-10-11T13:43:09.426Z"
   },
   {
    "duration": 6,
    "start_time": "2023-10-11T13:50:35.638Z"
   },
   {
    "duration": 190,
    "start_time": "2023-10-11T13:52:00.003Z"
   },
   {
    "duration": 138,
    "start_time": "2023-10-11T13:53:10.306Z"
   },
   {
    "duration": 7,
    "start_time": "2023-10-11T13:54:04.772Z"
   },
   {
    "duration": 3,
    "start_time": "2023-10-11T13:55:25.048Z"
   },
   {
    "duration": 10,
    "start_time": "2023-10-11T13:55:30.830Z"
   },
   {
    "duration": 344,
    "start_time": "2023-10-11T14:21:14.514Z"
   },
   {
    "duration": 252,
    "start_time": "2023-10-11T14:21:23.568Z"
   },
   {
    "duration": 98,
    "start_time": "2023-10-11T16:46:05.394Z"
   },
   {
    "duration": 5,
    "start_time": "2023-10-11T16:46:28.233Z"
   },
   {
    "duration": 1215,
    "start_time": "2023-10-11T16:47:24.096Z"
   },
   {
    "duration": 27,
    "start_time": "2023-10-11T16:47:25.316Z"
   },
   {
    "duration": 37,
    "start_time": "2023-10-11T16:47:25.345Z"
   },
   {
    "duration": 16,
    "start_time": "2023-10-11T16:47:25.384Z"
   },
   {
    "duration": 30,
    "start_time": "2023-10-11T16:47:25.401Z"
   },
   {
    "duration": 22,
    "start_time": "2023-10-11T16:47:25.432Z"
   },
   {
    "duration": 24,
    "start_time": "2023-10-11T16:47:25.455Z"
   },
   {
    "duration": 22,
    "start_time": "2023-10-11T16:47:25.480Z"
   },
   {
    "duration": 23,
    "start_time": "2023-10-11T16:47:25.503Z"
   },
   {
    "duration": 21,
    "start_time": "2023-10-11T16:47:25.529Z"
   },
   {
    "duration": 22,
    "start_time": "2023-10-11T16:47:25.552Z"
   },
   {
    "duration": 15,
    "start_time": "2023-10-11T16:47:25.575Z"
   },
   {
    "duration": 15,
    "start_time": "2023-10-11T16:47:25.592Z"
   },
   {
    "duration": 28,
    "start_time": "2023-10-11T16:47:25.608Z"
   },
   {
    "duration": 21,
    "start_time": "2023-10-11T16:47:25.637Z"
   },
   {
    "duration": 23,
    "start_time": "2023-10-11T16:47:25.659Z"
   },
   {
    "duration": 12,
    "start_time": "2023-10-11T16:47:25.684Z"
   },
   {
    "duration": 21,
    "start_time": "2023-10-11T16:47:25.698Z"
   },
   {
    "duration": 18,
    "start_time": "2023-10-11T16:47:25.721Z"
   },
   {
    "duration": 22,
    "start_time": "2023-10-11T16:47:25.741Z"
   },
   {
    "duration": 12,
    "start_time": "2023-10-11T16:47:25.764Z"
   },
   {
    "duration": 19,
    "start_time": "2023-10-11T16:47:25.778Z"
   },
   {
    "duration": 22,
    "start_time": "2023-10-11T16:47:25.798Z"
   },
   {
    "duration": 13,
    "start_time": "2023-10-11T16:47:25.822Z"
   },
   {
    "duration": 21,
    "start_time": "2023-10-11T16:47:25.836Z"
   },
   {
    "duration": 13,
    "start_time": "2023-10-11T16:47:25.859Z"
   },
   {
    "duration": 14,
    "start_time": "2023-10-11T16:47:25.873Z"
   },
   {
    "duration": 29,
    "start_time": "2023-10-11T16:47:25.891Z"
   },
   {
    "duration": 37,
    "start_time": "2023-10-11T16:47:25.922Z"
   },
   {
    "duration": 182,
    "start_time": "2023-10-11T16:47:25.960Z"
   },
   {
    "duration": 125,
    "start_time": "2023-10-11T16:47:26.143Z"
   },
   {
    "duration": 16,
    "start_time": "2023-10-11T16:47:26.270Z"
   },
   {
    "duration": 28,
    "start_time": "2023-10-11T16:47:26.288Z"
   },
   {
    "duration": 38,
    "start_time": "2023-10-11T16:47:26.317Z"
   },
   {
    "duration": 333,
    "start_time": "2023-10-11T16:47:26.357Z"
   },
   {
    "duration": 100,
    "start_time": "2023-10-11T16:51:41.564Z"
   },
   {
    "duration": 5,
    "start_time": "2023-10-11T16:52:29.666Z"
   },
   {
    "duration": 4,
    "start_time": "2023-10-11T17:04:54.332Z"
   },
   {
    "duration": 4,
    "start_time": "2023-10-11T17:05:08.667Z"
   },
   {
    "duration": 4,
    "start_time": "2023-10-11T17:11:29.897Z"
   },
   {
    "duration": 4,
    "start_time": "2023-10-11T17:21:44.089Z"
   },
   {
    "duration": 9,
    "start_time": "2023-10-11T17:22:35.811Z"
   },
   {
    "duration": 9,
    "start_time": "2023-10-11T17:27:43.455Z"
   },
   {
    "duration": 8,
    "start_time": "2023-10-11T17:39:02.038Z"
   },
   {
    "duration": 1176,
    "start_time": "2023-10-11T17:42:52.026Z"
   },
   {
    "duration": 28,
    "start_time": "2023-10-11T17:42:53.203Z"
   },
   {
    "duration": 41,
    "start_time": "2023-10-11T17:42:53.233Z"
   },
   {
    "duration": 15,
    "start_time": "2023-10-11T17:42:53.277Z"
   },
   {
    "duration": 12,
    "start_time": "2023-10-11T17:42:53.293Z"
   },
   {
    "duration": 7,
    "start_time": "2023-10-11T17:42:53.306Z"
   },
   {
    "duration": 18,
    "start_time": "2023-10-11T17:42:53.315Z"
   },
   {
    "duration": 11,
    "start_time": "2023-10-11T17:42:53.335Z"
   },
   {
    "duration": 23,
    "start_time": "2023-10-11T17:42:53.348Z"
   },
   {
    "duration": 14,
    "start_time": "2023-10-11T17:42:53.374Z"
   },
   {
    "duration": 24,
    "start_time": "2023-10-11T17:42:53.389Z"
   },
   {
    "duration": 15,
    "start_time": "2023-10-11T17:42:53.415Z"
   },
   {
    "duration": 21,
    "start_time": "2023-10-11T17:42:53.432Z"
   },
   {
    "duration": 22,
    "start_time": "2023-10-11T17:42:53.455Z"
   },
   {
    "duration": 20,
    "start_time": "2023-10-11T17:42:53.479Z"
   },
   {
    "duration": 16,
    "start_time": "2023-10-11T17:42:53.501Z"
   },
   {
    "duration": 19,
    "start_time": "2023-10-11T17:42:53.519Z"
   },
   {
    "duration": 15,
    "start_time": "2023-10-11T17:42:53.539Z"
   },
   {
    "duration": 28,
    "start_time": "2023-10-11T17:42:53.556Z"
   },
   {
    "duration": 15,
    "start_time": "2023-10-11T17:42:53.586Z"
   },
   {
    "duration": 12,
    "start_time": "2023-10-11T17:42:53.602Z"
   },
   {
    "duration": 13,
    "start_time": "2023-10-11T17:42:53.616Z"
   },
   {
    "duration": 24,
    "start_time": "2023-10-11T17:42:53.631Z"
   },
   {
    "duration": 21,
    "start_time": "2023-10-11T17:42:53.656Z"
   },
   {
    "duration": 29,
    "start_time": "2023-10-11T17:42:53.679Z"
   },
   {
    "duration": 8,
    "start_time": "2023-10-11T17:42:53.711Z"
   },
   {
    "duration": 12,
    "start_time": "2023-10-11T17:42:53.721Z"
   },
   {
    "duration": 19,
    "start_time": "2023-10-11T17:42:53.736Z"
   },
   {
    "duration": 13,
    "start_time": "2023-10-11T17:42:53.756Z"
   },
   {
    "duration": 11,
    "start_time": "2023-10-11T17:42:53.770Z"
   },
   {
    "duration": 22,
    "start_time": "2023-10-11T17:42:53.782Z"
   },
   {
    "duration": 183,
    "start_time": "2023-10-11T17:42:53.806Z"
   },
   {
    "duration": 117,
    "start_time": "2023-10-11T17:42:53.991Z"
   },
   {
    "duration": 6,
    "start_time": "2023-10-11T17:42:54.110Z"
   },
   {
    "duration": 41,
    "start_time": "2023-10-11T17:42:54.117Z"
   },
   {
    "duration": 51,
    "start_time": "2023-10-11T17:42:54.159Z"
   },
   {
    "duration": 319,
    "start_time": "2023-10-11T17:42:54.212Z"
   },
   {
    "duration": 127,
    "start_time": "2023-10-11T17:43:14.225Z"
   },
   {
    "duration": 1257,
    "start_time": "2023-10-11T17:43:21.026Z"
   },
   {
    "duration": 29,
    "start_time": "2023-10-11T17:43:22.285Z"
   },
   {
    "duration": 40,
    "start_time": "2023-10-11T17:43:22.316Z"
   },
   {
    "duration": 15,
    "start_time": "2023-10-11T17:43:22.357Z"
   },
   {
    "duration": 12,
    "start_time": "2023-10-11T17:43:22.375Z"
   },
   {
    "duration": 19,
    "start_time": "2023-10-11T17:43:22.388Z"
   },
   {
    "duration": 16,
    "start_time": "2023-10-11T17:43:22.408Z"
   },
   {
    "duration": 21,
    "start_time": "2023-10-11T17:43:22.425Z"
   },
   {
    "duration": 25,
    "start_time": "2023-10-11T17:43:22.448Z"
   },
   {
    "duration": 37,
    "start_time": "2023-10-11T17:43:22.475Z"
   },
   {
    "duration": 12,
    "start_time": "2023-10-11T17:43:22.514Z"
   },
   {
    "duration": 7,
    "start_time": "2023-10-11T17:43:22.528Z"
   },
   {
    "duration": 5,
    "start_time": "2023-10-11T17:43:22.536Z"
   },
   {
    "duration": 12,
    "start_time": "2023-10-11T17:43:22.543Z"
   },
   {
    "duration": 8,
    "start_time": "2023-10-11T17:43:22.557Z"
   },
   {
    "duration": 15,
    "start_time": "2023-10-11T17:43:22.567Z"
   },
   {
    "duration": 8,
    "start_time": "2023-10-11T17:43:22.583Z"
   },
   {
    "duration": 14,
    "start_time": "2023-10-11T17:43:22.593Z"
   },
   {
    "duration": 14,
    "start_time": "2023-10-11T17:43:22.609Z"
   },
   {
    "duration": 18,
    "start_time": "2023-10-11T17:43:22.624Z"
   },
   {
    "duration": 15,
    "start_time": "2023-10-11T17:43:22.644Z"
   },
   {
    "duration": 24,
    "start_time": "2023-10-11T17:43:22.661Z"
   },
   {
    "duration": 16,
    "start_time": "2023-10-11T17:43:22.687Z"
   },
   {
    "duration": 10,
    "start_time": "2023-10-11T17:43:22.705Z"
   },
   {
    "duration": 19,
    "start_time": "2023-10-11T17:43:22.717Z"
   },
   {
    "duration": 11,
    "start_time": "2023-10-11T17:43:22.738Z"
   },
   {
    "duration": 6,
    "start_time": "2023-10-11T17:43:22.751Z"
   },
   {
    "duration": 23,
    "start_time": "2023-10-11T17:43:22.758Z"
   },
   {
    "duration": 11,
    "start_time": "2023-10-11T17:43:22.783Z"
   },
   {
    "duration": 12,
    "start_time": "2023-10-11T17:43:22.796Z"
   },
   {
    "duration": 20,
    "start_time": "2023-10-11T17:43:22.810Z"
   },
   {
    "duration": 202,
    "start_time": "2023-10-11T17:43:22.832Z"
   },
   {
    "duration": 122,
    "start_time": "2023-10-11T17:43:23.036Z"
   },
   {
    "duration": 7,
    "start_time": "2023-10-11T17:43:23.160Z"
   },
   {
    "duration": 19,
    "start_time": "2023-10-11T17:43:23.169Z"
   },
   {
    "duration": 27,
    "start_time": "2023-10-11T17:43:23.190Z"
   },
   {
    "duration": 339,
    "start_time": "2023-10-11T17:43:23.219Z"
   },
   {
    "duration": 198,
    "start_time": "2023-10-11T17:43:35.185Z"
   },
   {
    "duration": 1247,
    "start_time": "2023-10-11T17:43:45.276Z"
   },
   {
    "duration": 31,
    "start_time": "2023-10-11T17:43:46.526Z"
   },
   {
    "duration": 39,
    "start_time": "2023-10-11T17:43:46.560Z"
   },
   {
    "duration": 16,
    "start_time": "2023-10-11T17:43:46.600Z"
   },
   {
    "duration": 11,
    "start_time": "2023-10-11T17:43:46.618Z"
   },
   {
    "duration": 24,
    "start_time": "2023-10-11T17:43:46.631Z"
   },
   {
    "duration": 14,
    "start_time": "2023-10-11T17:43:46.656Z"
   },
   {
    "duration": 22,
    "start_time": "2023-10-11T17:43:46.671Z"
   },
   {
    "duration": 18,
    "start_time": "2023-10-11T17:43:46.695Z"
   },
   {
    "duration": 18,
    "start_time": "2023-10-11T17:43:46.715Z"
   },
   {
    "duration": 29,
    "start_time": "2023-10-11T17:43:46.735Z"
   },
   {
    "duration": 7,
    "start_time": "2023-10-11T17:43:46.766Z"
   },
   {
    "duration": 12,
    "start_time": "2023-10-11T17:43:46.775Z"
   },
   {
    "duration": 11,
    "start_time": "2023-10-11T17:43:46.790Z"
   },
   {
    "duration": 11,
    "start_time": "2023-10-11T17:43:46.802Z"
   },
   {
    "duration": 22,
    "start_time": "2023-10-11T17:43:46.814Z"
   },
   {
    "duration": 13,
    "start_time": "2023-10-11T17:43:46.837Z"
   },
   {
    "duration": 21,
    "start_time": "2023-10-11T17:43:46.852Z"
   },
   {
    "duration": 15,
    "start_time": "2023-10-11T17:43:46.875Z"
   },
   {
    "duration": 15,
    "start_time": "2023-10-11T17:43:46.892Z"
   },
   {
    "duration": 19,
    "start_time": "2023-10-11T17:43:46.908Z"
   },
   {
    "duration": 21,
    "start_time": "2023-10-11T17:43:46.929Z"
   },
   {
    "duration": 15,
    "start_time": "2023-10-11T17:43:46.951Z"
   },
   {
    "duration": 19,
    "start_time": "2023-10-11T17:43:46.967Z"
   },
   {
    "duration": 9,
    "start_time": "2023-10-11T17:43:46.988Z"
   },
   {
    "duration": 7,
    "start_time": "2023-10-11T17:43:46.999Z"
   },
   {
    "duration": 5,
    "start_time": "2023-10-11T17:43:47.008Z"
   },
   {
    "duration": 10,
    "start_time": "2023-10-11T17:43:47.015Z"
   },
   {
    "duration": 14,
    "start_time": "2023-10-11T17:43:47.027Z"
   },
   {
    "duration": 21,
    "start_time": "2023-10-11T17:43:47.042Z"
   },
   {
    "duration": 17,
    "start_time": "2023-10-11T17:43:47.064Z"
   },
   {
    "duration": 227,
    "start_time": "2023-10-11T17:43:47.082Z"
   },
   {
    "duration": 122,
    "start_time": "2023-10-11T17:43:47.311Z"
   },
   {
    "duration": 6,
    "start_time": "2023-10-11T17:43:47.435Z"
   },
   {
    "duration": 20,
    "start_time": "2023-10-11T17:43:47.442Z"
   },
   {
    "duration": 18,
    "start_time": "2023-10-11T17:43:47.464Z"
   },
   {
    "duration": 317,
    "start_time": "2023-10-11T17:43:47.484Z"
   },
   {
    "duration": 2,
    "start_time": "2023-10-11T17:46:34.398Z"
   },
   {
    "duration": 220,
    "start_time": "2023-10-11T17:47:24.013Z"
   },
   {
    "duration": 6,
    "start_time": "2023-10-11T17:59:05.790Z"
   },
   {
    "duration": 335,
    "start_time": "2023-10-11T17:59:53.663Z"
   },
   {
    "duration": 5,
    "start_time": "2023-10-11T18:07:50.840Z"
   },
   {
    "duration": 5,
    "start_time": "2023-10-11T18:07:52.274Z"
   },
   {
    "duration": 212,
    "start_time": "2023-10-11T18:07:54.172Z"
   },
   {
    "duration": 2,
    "start_time": "2023-10-11T18:46:04.930Z"
   },
   {
    "duration": 330,
    "start_time": "2023-10-11T18:47:24.327Z"
   },
   {
    "duration": 51,
    "start_time": "2023-10-12T08:13:33.288Z"
   },
   {
    "duration": 1287,
    "start_time": "2023-10-12T08:13:40.570Z"
   },
   {
    "duration": 71,
    "start_time": "2023-10-12T08:13:41.859Z"
   },
   {
    "duration": 71,
    "start_time": "2023-10-12T08:13:41.931Z"
   },
   {
    "duration": 55,
    "start_time": "2023-10-12T08:13:42.004Z"
   },
   {
    "duration": 11,
    "start_time": "2023-10-12T08:13:42.060Z"
   },
   {
    "duration": 23,
    "start_time": "2023-10-12T08:13:42.072Z"
   },
   {
    "duration": 12,
    "start_time": "2023-10-12T08:13:42.096Z"
   },
   {
    "duration": 25,
    "start_time": "2023-10-12T08:13:42.109Z"
   },
   {
    "duration": 14,
    "start_time": "2023-10-12T08:13:42.136Z"
   },
   {
    "duration": 17,
    "start_time": "2023-10-12T08:13:42.153Z"
   },
   {
    "duration": 31,
    "start_time": "2023-10-12T08:13:42.172Z"
   },
   {
    "duration": 7,
    "start_time": "2023-10-12T08:13:42.205Z"
   },
   {
    "duration": 8,
    "start_time": "2023-10-12T08:13:42.213Z"
   },
   {
    "duration": 10,
    "start_time": "2023-10-12T08:13:42.222Z"
   },
   {
    "duration": 8,
    "start_time": "2023-10-12T08:13:42.233Z"
   },
   {
    "duration": 13,
    "start_time": "2023-10-12T08:13:42.242Z"
   },
   {
    "duration": 9,
    "start_time": "2023-10-12T08:13:42.256Z"
   },
   {
    "duration": 28,
    "start_time": "2023-10-12T08:13:42.266Z"
   },
   {
    "duration": 22,
    "start_time": "2023-10-12T08:13:42.296Z"
   },
   {
    "duration": 17,
    "start_time": "2023-10-12T08:13:42.322Z"
   },
   {
    "duration": 11,
    "start_time": "2023-10-12T08:13:42.341Z"
   },
   {
    "duration": 23,
    "start_time": "2023-10-12T08:13:42.353Z"
   },
   {
    "duration": 17,
    "start_time": "2023-10-12T08:13:42.377Z"
   },
   {
    "duration": 27,
    "start_time": "2023-10-12T08:13:42.395Z"
   },
   {
    "duration": 38,
    "start_time": "2023-10-12T08:13:42.423Z"
   },
   {
    "duration": 13,
    "start_time": "2023-10-12T08:13:42.463Z"
   },
   {
    "duration": 16,
    "start_time": "2023-10-12T08:13:42.477Z"
   },
   {
    "duration": 15,
    "start_time": "2023-10-12T08:13:42.497Z"
   },
   {
    "duration": 33,
    "start_time": "2023-10-12T08:13:42.514Z"
   },
   {
    "duration": 19,
    "start_time": "2023-10-12T08:13:42.549Z"
   },
   {
    "duration": 20,
    "start_time": "2023-10-12T08:13:42.569Z"
   },
   {
    "duration": 192,
    "start_time": "2023-10-12T08:13:42.591Z"
   },
   {
    "duration": 115,
    "start_time": "2023-10-12T08:13:42.784Z"
   },
   {
    "duration": 6,
    "start_time": "2023-10-12T08:13:42.901Z"
   },
   {
    "duration": 29,
    "start_time": "2023-10-12T08:13:42.908Z"
   },
   {
    "duration": 15,
    "start_time": "2023-10-12T08:13:42.938Z"
   },
   {
    "duration": 327,
    "start_time": "2023-10-12T08:13:42.954Z"
   },
   {
    "duration": 209,
    "start_time": "2023-10-12T08:13:43.282Z"
   },
   {
    "duration": 6,
    "start_time": "2023-10-12T08:13:43.492Z"
   },
   {
    "duration": 401,
    "start_time": "2023-10-12T08:13:43.499Z"
   },
   {
    "duration": 4,
    "start_time": "2023-10-12T08:13:43.902Z"
   },
   {
    "duration": 13,
    "start_time": "2023-10-12T08:13:43.907Z"
   },
   {
    "duration": 295,
    "start_time": "2023-10-12T08:13:43.921Z"
   },
   {
    "duration": 381,
    "start_time": "2023-10-12T08:13:44.217Z"
   },
   {
    "duration": 122,
    "start_time": "2023-10-12T08:13:44.599Z"
   },
   {
    "duration": 0,
    "start_time": "2023-10-12T08:13:44.723Z"
   },
   {
    "duration": 1515,
    "start_time": "2023-10-12T08:13:58.418Z"
   },
   {
    "duration": 26,
    "start_time": "2023-10-12T08:13:59.935Z"
   },
   {
    "duration": 37,
    "start_time": "2023-10-12T08:13:59.963Z"
   },
   {
    "duration": 16,
    "start_time": "2023-10-12T08:14:00.001Z"
   },
   {
    "duration": 48,
    "start_time": "2023-10-12T08:14:00.019Z"
   },
   {
    "duration": 43,
    "start_time": "2023-10-12T08:14:00.069Z"
   },
   {
    "duration": 37,
    "start_time": "2023-10-12T08:14:00.114Z"
   },
   {
    "duration": 49,
    "start_time": "2023-10-12T08:14:00.152Z"
   },
   {
    "duration": 43,
    "start_time": "2023-10-12T08:14:00.203Z"
   },
   {
    "duration": 60,
    "start_time": "2023-10-12T08:14:00.248Z"
   },
   {
    "duration": 48,
    "start_time": "2023-10-12T08:14:00.310Z"
   },
   {
    "duration": 51,
    "start_time": "2023-10-12T08:14:00.360Z"
   },
   {
    "duration": 125,
    "start_time": "2023-10-12T08:14:00.413Z"
   },
   {
    "duration": 52,
    "start_time": "2023-10-12T08:14:00.541Z"
   },
   {
    "duration": 132,
    "start_time": "2023-10-12T08:14:00.595Z"
   },
   {
    "duration": 171,
    "start_time": "2023-10-12T08:14:00.730Z"
   },
   {
    "duration": 78,
    "start_time": "2023-10-12T08:14:00.903Z"
   },
   {
    "duration": 103,
    "start_time": "2023-10-12T08:14:00.983Z"
   },
   {
    "duration": 73,
    "start_time": "2023-10-12T08:14:01.088Z"
   },
   {
    "duration": 93,
    "start_time": "2023-10-12T08:14:01.163Z"
   },
   {
    "duration": 167,
    "start_time": "2023-10-12T08:14:01.257Z"
   },
   {
    "duration": 160,
    "start_time": "2023-10-12T08:14:01.425Z"
   },
   {
    "duration": 63,
    "start_time": "2023-10-12T08:14:01.586Z"
   },
   {
    "duration": 88,
    "start_time": "2023-10-12T08:14:01.650Z"
   },
   {
    "duration": 71,
    "start_time": "2023-10-12T08:14:01.739Z"
   },
   {
    "duration": 75,
    "start_time": "2023-10-12T08:14:01.811Z"
   },
   {
    "duration": 43,
    "start_time": "2023-10-12T08:14:01.887Z"
   },
   {
    "duration": 95,
    "start_time": "2023-10-12T08:14:01.932Z"
   },
   {
    "duration": 190,
    "start_time": "2023-10-12T08:14:02.028Z"
   },
   {
    "duration": 315,
    "start_time": "2023-10-12T08:14:02.220Z"
   },
   {
    "duration": 214,
    "start_time": "2023-10-12T08:14:02.537Z"
   },
   {
    "duration": 275,
    "start_time": "2023-10-12T08:14:02.752Z"
   },
   {
    "duration": 134,
    "start_time": "2023-10-12T08:14:03.028Z"
   },
   {
    "duration": 6,
    "start_time": "2023-10-12T08:14:03.163Z"
   },
   {
    "duration": 7,
    "start_time": "2023-10-12T08:14:03.171Z"
   },
   {
    "duration": 37,
    "start_time": "2023-10-12T08:14:03.180Z"
   },
   {
    "duration": 326,
    "start_time": "2023-10-12T08:14:03.218Z"
   },
   {
    "duration": 211,
    "start_time": "2023-10-12T08:14:03.546Z"
   },
   {
    "duration": 6,
    "start_time": "2023-10-12T08:14:03.758Z"
   },
   {
    "duration": 323,
    "start_time": "2023-10-12T08:14:03.765Z"
   },
   {
    "duration": 4,
    "start_time": "2023-10-12T08:14:04.092Z"
   },
   {
    "duration": 20,
    "start_time": "2023-10-12T08:14:04.098Z"
   },
   {
    "duration": 233,
    "start_time": "2023-10-12T08:14:04.120Z"
   },
   {
    "duration": 346,
    "start_time": "2023-10-12T08:14:04.357Z"
   },
   {
    "duration": 260,
    "start_time": "2023-10-12T08:14:04.705Z"
   },
   {
    "duration": 5,
    "start_time": "2023-10-12T08:29:04.690Z"
   },
   {
    "duration": 186,
    "start_time": "2023-10-12T08:35:39.448Z"
   },
   {
    "duration": 215,
    "start_time": "2023-10-12T08:36:55.202Z"
   },
   {
    "duration": 201,
    "start_time": "2023-10-12T08:37:54.008Z"
   },
   {
    "duration": 7,
    "start_time": "2023-10-12T08:42:21.435Z"
   },
   {
    "duration": 181,
    "start_time": "2023-10-12T08:45:52.785Z"
   },
   {
    "duration": 156,
    "start_time": "2023-10-12T08:46:07.200Z"
   },
   {
    "duration": 5,
    "start_time": "2023-10-12T08:48:26.805Z"
   },
   {
    "duration": 2,
    "start_time": "2023-10-12T08:53:10.784Z"
   },
   {
    "duration": 9,
    "start_time": "2023-10-12T09:00:02.533Z"
   },
   {
    "duration": 8,
    "start_time": "2023-10-12T09:00:15.672Z"
   },
   {
    "duration": 91,
    "start_time": "2023-10-12T09:01:03.010Z"
   },
   {
    "duration": 107,
    "start_time": "2023-10-12T09:01:15.361Z"
   },
   {
    "duration": 31,
    "start_time": "2023-10-12T09:01:27.135Z"
   },
   {
    "duration": 140,
    "start_time": "2023-10-12T09:02:27.569Z"
   },
   {
    "duration": 106,
    "start_time": "2023-10-12T09:03:07.945Z"
   },
   {
    "duration": 6,
    "start_time": "2023-10-12T09:05:57.802Z"
   },
   {
    "duration": 25,
    "start_time": "2023-10-12T09:08:16.945Z"
   },
   {
    "duration": 1192,
    "start_time": "2023-10-12T09:14:33.371Z"
   },
   {
    "duration": 28,
    "start_time": "2023-10-12T09:14:34.565Z"
   },
   {
    "duration": 64,
    "start_time": "2023-10-12T09:14:34.594Z"
   },
   {
    "duration": 15,
    "start_time": "2023-10-12T09:14:34.660Z"
   },
   {
    "duration": 16,
    "start_time": "2023-10-12T09:14:34.677Z"
   },
   {
    "duration": 32,
    "start_time": "2023-10-12T09:14:34.695Z"
   },
   {
    "duration": 20,
    "start_time": "2023-10-12T09:14:34.729Z"
   },
   {
    "duration": 27,
    "start_time": "2023-10-12T09:14:34.751Z"
   },
   {
    "duration": 38,
    "start_time": "2023-10-12T09:14:34.780Z"
   },
   {
    "duration": 19,
    "start_time": "2023-10-12T09:14:34.821Z"
   },
   {
    "duration": 18,
    "start_time": "2023-10-12T09:14:34.842Z"
   },
   {
    "duration": 21,
    "start_time": "2023-10-12T09:14:34.861Z"
   },
   {
    "duration": 15,
    "start_time": "2023-10-12T09:14:34.884Z"
   },
   {
    "duration": 46,
    "start_time": "2023-10-12T09:14:34.901Z"
   },
   {
    "duration": 16,
    "start_time": "2023-10-12T09:14:34.948Z"
   },
   {
    "duration": 32,
    "start_time": "2023-10-12T09:14:34.965Z"
   },
   {
    "duration": 12,
    "start_time": "2023-10-12T09:14:34.999Z"
   },
   {
    "duration": 34,
    "start_time": "2023-10-12T09:14:35.012Z"
   },
   {
    "duration": 41,
    "start_time": "2023-10-12T09:14:35.048Z"
   },
   {
    "duration": 25,
    "start_time": "2023-10-12T09:14:35.091Z"
   },
   {
    "duration": 23,
    "start_time": "2023-10-12T09:14:35.118Z"
   },
   {
    "duration": 41,
    "start_time": "2023-10-12T09:14:35.143Z"
   },
   {
    "duration": 35,
    "start_time": "2023-10-12T09:14:35.185Z"
   },
   {
    "duration": 39,
    "start_time": "2023-10-12T09:14:35.222Z"
   },
   {
    "duration": 54,
    "start_time": "2023-10-12T09:14:35.262Z"
   },
   {
    "duration": 25,
    "start_time": "2023-10-12T09:14:35.317Z"
   },
   {
    "duration": 67,
    "start_time": "2023-10-12T09:14:35.344Z"
   },
   {
    "duration": 41,
    "start_time": "2023-10-12T09:14:35.415Z"
   },
   {
    "duration": 12,
    "start_time": "2023-10-12T09:14:35.458Z"
   },
   {
    "duration": 48,
    "start_time": "2023-10-12T09:14:35.471Z"
   },
   {
    "duration": 17,
    "start_time": "2023-10-12T09:14:35.520Z"
   },
   {
    "duration": 196,
    "start_time": "2023-10-12T09:14:35.538Z"
   },
   {
    "duration": 124,
    "start_time": "2023-10-12T09:14:35.736Z"
   },
   {
    "duration": 6,
    "start_time": "2023-10-12T09:14:35.862Z"
   },
   {
    "duration": 21,
    "start_time": "2023-10-12T09:14:35.870Z"
   },
   {
    "duration": 51,
    "start_time": "2023-10-12T09:14:35.893Z"
   },
   {
    "duration": 335,
    "start_time": "2023-10-12T09:14:35.946Z"
   },
   {
    "duration": 229,
    "start_time": "2023-10-12T09:14:36.282Z"
   },
   {
    "duration": 6,
    "start_time": "2023-10-12T09:14:36.513Z"
   },
   {
    "duration": 366,
    "start_time": "2023-10-12T09:14:36.520Z"
   },
   {
    "duration": 4,
    "start_time": "2023-10-12T09:14:36.888Z"
   },
   {
    "duration": 73,
    "start_time": "2023-10-12T09:14:36.893Z"
   },
   {
    "duration": 276,
    "start_time": "2023-10-12T09:14:36.968Z"
   },
   {
    "duration": 346,
    "start_time": "2023-10-12T09:14:37.246Z"
   },
   {
    "duration": 267,
    "start_time": "2023-10-12T09:14:37.594Z"
   },
   {
    "duration": 5,
    "start_time": "2023-10-12T09:14:37.863Z"
   },
   {
    "duration": 192,
    "start_time": "2023-10-12T09:14:37.870Z"
   },
   {
    "duration": 7,
    "start_time": "2023-10-12T09:14:38.064Z"
   },
   {
    "duration": 88,
    "start_time": "2023-10-12T09:14:38.073Z"
   },
   {
    "duration": 0,
    "start_time": "2023-10-12T09:14:38.163Z"
   },
   {
    "duration": 0,
    "start_time": "2023-10-12T09:14:38.165Z"
   },
   {
    "duration": 0,
    "start_time": "2023-10-12T09:14:38.166Z"
   },
   {
    "duration": 0,
    "start_time": "2023-10-12T09:14:38.167Z"
   },
   {
    "duration": 0,
    "start_time": "2023-10-12T09:14:38.169Z"
   },
   {
    "duration": 0,
    "start_time": "2023-10-12T09:14:38.170Z"
   },
   {
    "duration": 0,
    "start_time": "2023-10-12T09:14:38.171Z"
   },
   {
    "duration": 0,
    "start_time": "2023-10-12T09:14:38.173Z"
   },
   {
    "duration": 0,
    "start_time": "2023-10-12T09:14:38.174Z"
   },
   {
    "duration": 0,
    "start_time": "2023-10-12T09:14:38.176Z"
   },
   {
    "duration": 0,
    "start_time": "2023-10-12T09:14:38.177Z"
   },
   {
    "duration": 0,
    "start_time": "2023-10-12T09:14:38.178Z"
   },
   {
    "duration": 14,
    "start_time": "2023-10-12T09:15:24.974Z"
   },
   {
    "duration": 103,
    "start_time": "2023-10-12T09:16:30.406Z"
   },
   {
    "duration": 111,
    "start_time": "2023-10-12T09:16:36.834Z"
   },
   {
    "duration": 1206,
    "start_time": "2023-10-12T09:17:39.847Z"
   },
   {
    "duration": 28,
    "start_time": "2023-10-12T09:17:41.055Z"
   },
   {
    "duration": 38,
    "start_time": "2023-10-12T09:17:41.085Z"
   },
   {
    "duration": 15,
    "start_time": "2023-10-12T09:17:41.125Z"
   },
   {
    "duration": 15,
    "start_time": "2023-10-12T09:17:41.143Z"
   },
   {
    "duration": 9,
    "start_time": "2023-10-12T09:17:41.160Z"
   },
   {
    "duration": 12,
    "start_time": "2023-10-12T09:17:41.171Z"
   },
   {
    "duration": 21,
    "start_time": "2023-10-12T09:17:41.185Z"
   },
   {
    "duration": 39,
    "start_time": "2023-10-12T09:17:41.208Z"
   },
   {
    "duration": 22,
    "start_time": "2023-10-12T09:17:41.249Z"
   },
   {
    "duration": 7,
    "start_time": "2023-10-12T09:17:41.273Z"
   },
   {
    "duration": 11,
    "start_time": "2023-10-12T09:17:41.282Z"
   },
   {
    "duration": 22,
    "start_time": "2023-10-12T09:17:41.295Z"
   },
   {
    "duration": 7,
    "start_time": "2023-10-12T09:17:41.320Z"
   },
   {
    "duration": 15,
    "start_time": "2023-10-12T09:17:41.328Z"
   },
   {
    "duration": 22,
    "start_time": "2023-10-12T09:17:41.345Z"
   },
   {
    "duration": 6,
    "start_time": "2023-10-12T09:17:41.369Z"
   },
   {
    "duration": 21,
    "start_time": "2023-10-12T09:17:41.376Z"
   },
   {
    "duration": 19,
    "start_time": "2023-10-12T09:17:41.399Z"
   },
   {
    "duration": 39,
    "start_time": "2023-10-12T09:17:41.420Z"
   },
   {
    "duration": 12,
    "start_time": "2023-10-12T09:17:41.461Z"
   },
   {
    "duration": 11,
    "start_time": "2023-10-12T09:17:41.475Z"
   },
   {
    "duration": 26,
    "start_time": "2023-10-12T09:17:41.488Z"
   },
   {
    "duration": 12,
    "start_time": "2023-10-12T09:17:41.516Z"
   },
   {
    "duration": 39,
    "start_time": "2023-10-12T09:17:41.530Z"
   },
   {
    "duration": 19,
    "start_time": "2023-10-12T09:17:41.571Z"
   },
   {
    "duration": 23,
    "start_time": "2023-10-12T09:17:41.591Z"
   },
   {
    "duration": 15,
    "start_time": "2023-10-12T09:17:41.616Z"
   },
   {
    "duration": 17,
    "start_time": "2023-10-12T09:17:41.633Z"
   },
   {
    "duration": 21,
    "start_time": "2023-10-12T09:17:41.651Z"
   },
   {
    "duration": 6,
    "start_time": "2023-10-12T09:17:41.673Z"
   },
   {
    "duration": 203,
    "start_time": "2023-10-12T09:17:41.681Z"
   },
   {
    "duration": 132,
    "start_time": "2023-10-12T09:17:41.886Z"
   },
   {
    "duration": 22,
    "start_time": "2023-10-12T09:17:42.020Z"
   },
   {
    "duration": 19,
    "start_time": "2023-10-12T09:17:42.044Z"
   },
   {
    "duration": 29,
    "start_time": "2023-10-12T09:17:42.065Z"
   },
   {
    "duration": 360,
    "start_time": "2023-10-12T09:17:42.096Z"
   },
   {
    "duration": 228,
    "start_time": "2023-10-12T09:17:42.458Z"
   },
   {
    "duration": 6,
    "start_time": "2023-10-12T09:17:42.689Z"
   },
   {
    "duration": 368,
    "start_time": "2023-10-12T09:17:42.697Z"
   },
   {
    "duration": 4,
    "start_time": "2023-10-12T09:17:43.069Z"
   },
   {
    "duration": 42,
    "start_time": "2023-10-12T09:17:43.074Z"
   },
   {
    "duration": 267,
    "start_time": "2023-10-12T09:17:43.117Z"
   },
   {
    "duration": 362,
    "start_time": "2023-10-12T09:17:43.386Z"
   },
   {
    "duration": 423,
    "start_time": "2023-10-12T09:17:43.750Z"
   },
   {
    "duration": 5,
    "start_time": "2023-10-12T09:17:44.175Z"
   },
   {
    "duration": 223,
    "start_time": "2023-10-12T09:17:44.182Z"
   },
   {
    "duration": 6,
    "start_time": "2023-10-12T09:17:44.407Z"
   },
   {
    "duration": 98,
    "start_time": "2023-10-12T09:17:44.414Z"
   },
   {
    "duration": 0,
    "start_time": "2023-10-12T09:17:44.514Z"
   },
   {
    "duration": 0,
    "start_time": "2023-10-12T09:17:44.515Z"
   },
   {
    "duration": 0,
    "start_time": "2023-10-12T09:17:44.516Z"
   },
   {
    "duration": 0,
    "start_time": "2023-10-12T09:17:44.517Z"
   },
   {
    "duration": 0,
    "start_time": "2023-10-12T09:17:44.519Z"
   },
   {
    "duration": 0,
    "start_time": "2023-10-12T09:17:44.520Z"
   },
   {
    "duration": 0,
    "start_time": "2023-10-12T09:17:44.521Z"
   },
   {
    "duration": 0,
    "start_time": "2023-10-12T09:17:44.522Z"
   },
   {
    "duration": 0,
    "start_time": "2023-10-12T09:17:44.523Z"
   },
   {
    "duration": 0,
    "start_time": "2023-10-12T09:17:44.524Z"
   },
   {
    "duration": 0,
    "start_time": "2023-10-12T09:17:44.527Z"
   },
   {
    "duration": 0,
    "start_time": "2023-10-12T09:17:44.528Z"
   },
   {
    "duration": 0,
    "start_time": "2023-10-12T09:17:44.530Z"
   },
   {
    "duration": 1205,
    "start_time": "2023-10-12T09:18:04.447Z"
   },
   {
    "duration": 27,
    "start_time": "2023-10-12T09:18:05.654Z"
   },
   {
    "duration": 37,
    "start_time": "2023-10-12T09:18:05.683Z"
   },
   {
    "duration": 14,
    "start_time": "2023-10-12T09:18:05.722Z"
   },
   {
    "duration": 47,
    "start_time": "2023-10-12T09:18:05.738Z"
   },
   {
    "duration": 56,
    "start_time": "2023-10-12T09:18:05.788Z"
   },
   {
    "duration": 32,
    "start_time": "2023-10-12T09:18:05.846Z"
   },
   {
    "duration": 30,
    "start_time": "2023-10-12T09:18:05.880Z"
   },
   {
    "duration": 49,
    "start_time": "2023-10-12T09:18:05.911Z"
   },
   {
    "duration": 38,
    "start_time": "2023-10-12T09:18:05.963Z"
   },
   {
    "duration": 27,
    "start_time": "2023-10-12T09:18:06.003Z"
   },
   {
    "duration": 32,
    "start_time": "2023-10-12T09:18:06.031Z"
   },
   {
    "duration": 17,
    "start_time": "2023-10-12T09:18:06.065Z"
   },
   {
    "duration": 15,
    "start_time": "2023-10-12T09:18:06.084Z"
   },
   {
    "duration": 28,
    "start_time": "2023-10-12T09:18:06.101Z"
   },
   {
    "duration": 21,
    "start_time": "2023-10-12T09:18:06.130Z"
   },
   {
    "duration": 27,
    "start_time": "2023-10-12T09:18:06.153Z"
   },
   {
    "duration": 36,
    "start_time": "2023-10-12T09:18:06.181Z"
   },
   {
    "duration": 28,
    "start_time": "2023-10-12T09:18:06.218Z"
   },
   {
    "duration": 48,
    "start_time": "2023-10-12T09:18:06.248Z"
   },
   {
    "duration": 22,
    "start_time": "2023-10-12T09:18:06.298Z"
   },
   {
    "duration": 30,
    "start_time": "2023-10-12T09:18:06.321Z"
   },
   {
    "duration": 35,
    "start_time": "2023-10-12T09:18:06.353Z"
   },
   {
    "duration": 27,
    "start_time": "2023-10-12T09:18:06.389Z"
   },
   {
    "duration": 38,
    "start_time": "2023-10-12T09:18:06.418Z"
   },
   {
    "duration": 15,
    "start_time": "2023-10-12T09:18:06.458Z"
   },
   {
    "duration": 11,
    "start_time": "2023-10-12T09:18:06.475Z"
   },
   {
    "duration": 15,
    "start_time": "2023-10-12T09:18:06.489Z"
   },
   {
    "duration": 18,
    "start_time": "2023-10-12T09:18:06.506Z"
   },
   {
    "duration": 15,
    "start_time": "2023-10-12T09:18:06.526Z"
   },
   {
    "duration": 32,
    "start_time": "2023-10-12T09:18:06.543Z"
   },
   {
    "duration": 186,
    "start_time": "2023-10-12T09:18:06.577Z"
   },
   {
    "duration": 119,
    "start_time": "2023-10-12T09:18:06.765Z"
   },
   {
    "duration": 7,
    "start_time": "2023-10-12T09:18:06.886Z"
   },
   {
    "duration": 16,
    "start_time": "2023-10-12T09:18:06.895Z"
   },
   {
    "duration": 52,
    "start_time": "2023-10-12T09:18:06.913Z"
   },
   {
    "duration": 349,
    "start_time": "2023-10-12T09:18:06.966Z"
   },
   {
    "duration": 223,
    "start_time": "2023-10-12T09:18:07.317Z"
   },
   {
    "duration": 6,
    "start_time": "2023-10-12T09:18:07.541Z"
   },
   {
    "duration": 327,
    "start_time": "2023-10-12T09:18:07.549Z"
   },
   {
    "duration": 5,
    "start_time": "2023-10-12T09:18:07.878Z"
   },
   {
    "duration": 24,
    "start_time": "2023-10-12T09:18:07.884Z"
   },
   {
    "duration": 231,
    "start_time": "2023-10-12T09:18:07.910Z"
   },
   {
    "duration": 401,
    "start_time": "2023-10-12T09:18:08.143Z"
   },
   {
    "duration": 333,
    "start_time": "2023-10-12T09:18:08.546Z"
   },
   {
    "duration": 5,
    "start_time": "2023-10-12T09:18:08.881Z"
   },
   {
    "duration": 197,
    "start_time": "2023-10-12T09:18:08.888Z"
   },
   {
    "duration": 6,
    "start_time": "2023-10-12T09:18:09.087Z"
   },
   {
    "duration": 281,
    "start_time": "2023-10-12T09:18:09.095Z"
   },
   {
    "duration": 6,
    "start_time": "2023-10-12T09:18:09.378Z"
   },
   {
    "duration": 91,
    "start_time": "2023-10-12T09:18:09.386Z"
   },
   {
    "duration": 0,
    "start_time": "2023-10-12T09:18:09.479Z"
   },
   {
    "duration": 0,
    "start_time": "2023-10-12T09:18:09.480Z"
   },
   {
    "duration": 0,
    "start_time": "2023-10-12T09:18:09.482Z"
   },
   {
    "duration": 0,
    "start_time": "2023-10-12T09:18:09.483Z"
   },
   {
    "duration": 0,
    "start_time": "2023-10-12T09:18:09.485Z"
   },
   {
    "duration": 0,
    "start_time": "2023-10-12T09:18:09.486Z"
   },
   {
    "duration": 0,
    "start_time": "2023-10-12T09:18:09.488Z"
   },
   {
    "duration": 0,
    "start_time": "2023-10-12T09:18:09.489Z"
   },
   {
    "duration": 0,
    "start_time": "2023-10-12T09:18:09.490Z"
   },
   {
    "duration": 0,
    "start_time": "2023-10-12T09:18:09.492Z"
   },
   {
    "duration": 1224,
    "start_time": "2023-10-12T09:18:24.425Z"
   },
   {
    "duration": 30,
    "start_time": "2023-10-12T09:18:25.651Z"
   },
   {
    "duration": 38,
    "start_time": "2023-10-12T09:18:25.682Z"
   },
   {
    "duration": 16,
    "start_time": "2023-10-12T09:18:25.722Z"
   },
   {
    "duration": 35,
    "start_time": "2023-10-12T09:18:25.739Z"
   },
   {
    "duration": 34,
    "start_time": "2023-10-12T09:18:25.775Z"
   },
   {
    "duration": 24,
    "start_time": "2023-10-12T09:18:25.810Z"
   },
   {
    "duration": 96,
    "start_time": "2023-10-12T09:18:25.836Z"
   },
   {
    "duration": 35,
    "start_time": "2023-10-12T09:18:25.934Z"
   },
   {
    "duration": 40,
    "start_time": "2023-10-12T09:18:25.972Z"
   },
   {
    "duration": 27,
    "start_time": "2023-10-12T09:18:26.014Z"
   },
   {
    "duration": 28,
    "start_time": "2023-10-12T09:18:26.043Z"
   },
   {
    "duration": 41,
    "start_time": "2023-10-12T09:18:26.073Z"
   },
   {
    "duration": 23,
    "start_time": "2023-10-12T09:18:26.116Z"
   },
   {
    "duration": 51,
    "start_time": "2023-10-12T09:18:26.141Z"
   },
   {
    "duration": 61,
    "start_time": "2023-10-12T09:18:26.193Z"
   },
   {
    "duration": 41,
    "start_time": "2023-10-12T09:18:26.256Z"
   },
   {
    "duration": 44,
    "start_time": "2023-10-12T09:18:26.299Z"
   },
   {
    "duration": 35,
    "start_time": "2023-10-12T09:18:26.345Z"
   },
   {
    "duration": 44,
    "start_time": "2023-10-12T09:18:26.382Z"
   },
   {
    "duration": 33,
    "start_time": "2023-10-12T09:18:26.428Z"
   },
   {
    "duration": 31,
    "start_time": "2023-10-12T09:18:26.463Z"
   },
   {
    "duration": 45,
    "start_time": "2023-10-12T09:18:26.496Z"
   },
   {
    "duration": 30,
    "start_time": "2023-10-12T09:18:26.543Z"
   },
   {
    "duration": 37,
    "start_time": "2023-10-12T09:18:26.574Z"
   },
   {
    "duration": 37,
    "start_time": "2023-10-12T09:18:26.612Z"
   },
   {
    "duration": 27,
    "start_time": "2023-10-12T09:18:26.650Z"
   },
   {
    "duration": 85,
    "start_time": "2023-10-12T09:18:26.681Z"
   },
   {
    "duration": 53,
    "start_time": "2023-10-12T09:18:26.767Z"
   },
   {
    "duration": 68,
    "start_time": "2023-10-12T09:18:26.822Z"
   },
   {
    "duration": 60,
    "start_time": "2023-10-12T09:18:26.891Z"
   },
   {
    "duration": 226,
    "start_time": "2023-10-12T09:18:26.953Z"
   },
   {
    "duration": 120,
    "start_time": "2023-10-12T09:18:27.181Z"
   },
   {
    "duration": 24,
    "start_time": "2023-10-12T09:18:27.303Z"
   },
   {
    "duration": 76,
    "start_time": "2023-10-12T09:18:27.329Z"
   },
   {
    "duration": 188,
    "start_time": "2023-10-12T09:18:27.407Z"
   },
   {
    "duration": 347,
    "start_time": "2023-10-12T09:18:27.597Z"
   },
   {
    "duration": 232,
    "start_time": "2023-10-12T09:18:27.946Z"
   },
   {
    "duration": 7,
    "start_time": "2023-10-12T09:18:28.180Z"
   },
   {
    "duration": 364,
    "start_time": "2023-10-12T09:18:28.189Z"
   },
   {
    "duration": 5,
    "start_time": "2023-10-12T09:18:28.554Z"
   },
   {
    "duration": 29,
    "start_time": "2023-10-12T09:18:28.560Z"
   },
   {
    "duration": 248,
    "start_time": "2023-10-12T09:18:28.591Z"
   },
   {
    "duration": 381,
    "start_time": "2023-10-12T09:18:28.843Z"
   },
   {
    "duration": 312,
    "start_time": "2023-10-12T09:18:29.226Z"
   },
   {
    "duration": 5,
    "start_time": "2023-10-12T09:18:29.543Z"
   },
   {
    "duration": 201,
    "start_time": "2023-10-12T09:18:29.550Z"
   },
   {
    "duration": 5,
    "start_time": "2023-10-12T09:18:29.753Z"
   },
   {
    "duration": 254,
    "start_time": "2023-10-12T09:18:29.759Z"
   },
   {
    "duration": 5,
    "start_time": "2023-10-12T09:18:30.014Z"
   },
   {
    "duration": 128,
    "start_time": "2023-10-12T09:18:30.021Z"
   },
   {
    "duration": 0,
    "start_time": "2023-10-12T09:18:30.151Z"
   },
   {
    "duration": 0,
    "start_time": "2023-10-12T09:18:30.151Z"
   },
   {
    "duration": 0,
    "start_time": "2023-10-12T09:18:30.152Z"
   },
   {
    "duration": 0,
    "start_time": "2023-10-12T09:18:30.153Z"
   },
   {
    "duration": 0,
    "start_time": "2023-10-12T09:18:30.154Z"
   },
   {
    "duration": 0,
    "start_time": "2023-10-12T09:18:30.155Z"
   },
   {
    "duration": 0,
    "start_time": "2023-10-12T09:18:30.156Z"
   },
   {
    "duration": 0,
    "start_time": "2023-10-12T09:18:30.157Z"
   },
   {
    "duration": 0,
    "start_time": "2023-10-12T09:18:30.158Z"
   },
   {
    "duration": 1207,
    "start_time": "2023-10-12T09:19:06.986Z"
   },
   {
    "duration": 28,
    "start_time": "2023-10-12T09:19:08.195Z"
   },
   {
    "duration": 51,
    "start_time": "2023-10-12T09:19:08.225Z"
   },
   {
    "duration": 32,
    "start_time": "2023-10-12T09:19:08.278Z"
   },
   {
    "duration": 14,
    "start_time": "2023-10-12T09:19:08.312Z"
   },
   {
    "duration": 36,
    "start_time": "2023-10-12T09:19:08.328Z"
   },
   {
    "duration": 35,
    "start_time": "2023-10-12T09:19:08.366Z"
   },
   {
    "duration": 54,
    "start_time": "2023-10-12T09:19:08.403Z"
   },
   {
    "duration": 46,
    "start_time": "2023-10-12T09:19:08.459Z"
   },
   {
    "duration": 22,
    "start_time": "2023-10-12T09:19:08.509Z"
   },
   {
    "duration": 18,
    "start_time": "2023-10-12T09:19:08.533Z"
   },
   {
    "duration": 19,
    "start_time": "2023-10-12T09:19:08.553Z"
   },
   {
    "duration": 39,
    "start_time": "2023-10-12T09:19:08.574Z"
   },
   {
    "duration": 10,
    "start_time": "2023-10-12T09:19:08.616Z"
   },
   {
    "duration": 31,
    "start_time": "2023-10-12T09:19:08.627Z"
   },
   {
    "duration": 14,
    "start_time": "2023-10-12T09:19:08.660Z"
   },
   {
    "duration": 21,
    "start_time": "2023-10-12T09:19:08.676Z"
   },
   {
    "duration": 31,
    "start_time": "2023-10-12T09:19:08.698Z"
   },
   {
    "duration": 21,
    "start_time": "2023-10-12T09:19:08.731Z"
   },
   {
    "duration": 26,
    "start_time": "2023-10-12T09:19:08.754Z"
   },
   {
    "duration": 28,
    "start_time": "2023-10-12T09:19:08.782Z"
   },
   {
    "duration": 44,
    "start_time": "2023-10-12T09:19:08.812Z"
   },
   {
    "duration": 25,
    "start_time": "2023-10-12T09:19:08.858Z"
   },
   {
    "duration": 27,
    "start_time": "2023-10-12T09:19:08.885Z"
   },
   {
    "duration": 31,
    "start_time": "2023-10-12T09:19:08.914Z"
   },
   {
    "duration": 17,
    "start_time": "2023-10-12T09:19:08.946Z"
   },
   {
    "duration": 7,
    "start_time": "2023-10-12T09:19:08.965Z"
   },
   {
    "duration": 5,
    "start_time": "2023-10-12T09:19:08.975Z"
   },
   {
    "duration": 12,
    "start_time": "2023-10-12T09:19:08.981Z"
   },
   {
    "duration": 14,
    "start_time": "2023-10-12T09:19:08.994Z"
   },
   {
    "duration": 19,
    "start_time": "2023-10-12T09:19:09.010Z"
   },
   {
    "duration": 214,
    "start_time": "2023-10-12T09:19:09.032Z"
   },
   {
    "duration": 140,
    "start_time": "2023-10-12T09:19:09.247Z"
   },
   {
    "duration": 7,
    "start_time": "2023-10-12T09:19:09.388Z"
   },
   {
    "duration": 26,
    "start_time": "2023-10-12T09:19:09.397Z"
   },
   {
    "duration": 26,
    "start_time": "2023-10-12T09:19:09.425Z"
   },
   {
    "duration": 370,
    "start_time": "2023-10-12T09:19:09.453Z"
   },
   {
    "duration": 257,
    "start_time": "2023-10-12T09:19:09.824Z"
   },
   {
    "duration": 7,
    "start_time": "2023-10-12T09:19:10.083Z"
   },
   {
    "duration": 334,
    "start_time": "2023-10-12T09:19:10.092Z"
   },
   {
    "duration": 5,
    "start_time": "2023-10-12T09:19:10.428Z"
   },
   {
    "duration": 12,
    "start_time": "2023-10-12T09:19:10.444Z"
   },
   {
    "duration": 232,
    "start_time": "2023-10-12T09:19:10.458Z"
   },
   {
    "duration": 355,
    "start_time": "2023-10-12T09:19:10.692Z"
   },
   {
    "duration": 337,
    "start_time": "2023-10-12T09:19:11.049Z"
   },
   {
    "duration": 5,
    "start_time": "2023-10-12T09:19:11.388Z"
   },
   {
    "duration": 189,
    "start_time": "2023-10-12T09:19:11.394Z"
   },
   {
    "duration": 5,
    "start_time": "2023-10-12T09:19:11.585Z"
   },
   {
    "duration": 268,
    "start_time": "2023-10-12T09:19:11.591Z"
   },
   {
    "duration": 6,
    "start_time": "2023-10-12T09:19:11.860Z"
   },
   {
    "duration": 97,
    "start_time": "2023-10-12T09:19:11.867Z"
   },
   {
    "duration": 14,
    "start_time": "2023-10-12T09:19:11.966Z"
   },
   {
    "duration": 103,
    "start_time": "2023-10-12T09:19:11.982Z"
   },
   {
    "duration": 143,
    "start_time": "2023-10-12T09:19:12.087Z"
   },
   {
    "duration": 34,
    "start_time": "2023-10-12T09:19:12.231Z"
   },
   {
    "duration": 145,
    "start_time": "2023-10-12T09:19:12.267Z"
   },
   {
    "duration": 7,
    "start_time": "2023-10-12T09:19:12.414Z"
   },
   {
    "duration": 42,
    "start_time": "2023-10-12T09:19:12.422Z"
   },
   {
    "duration": 16,
    "start_time": "2023-10-12T09:19:12.466Z"
   },
   {
    "duration": 12,
    "start_time": "2023-10-12T09:28:42.560Z"
   },
   {
    "duration": 9,
    "start_time": "2023-10-12T09:30:27.894Z"
   },
   {
    "duration": 32,
    "start_time": "2023-10-12T09:32:14.751Z"
   },
   {
    "duration": 25,
    "start_time": "2023-10-12T09:35:35.694Z"
   },
   {
    "duration": 14,
    "start_time": "2023-10-12T09:36:24.252Z"
   },
   {
    "duration": 10,
    "start_time": "2023-10-12T09:36:31.877Z"
   },
   {
    "duration": 13,
    "start_time": "2023-10-12T09:36:59.789Z"
   },
   {
    "duration": 27,
    "start_time": "2023-10-12T09:37:37.703Z"
   },
   {
    "duration": 26,
    "start_time": "2023-10-12T09:38:02.843Z"
   },
   {
    "duration": 27,
    "start_time": "2023-10-12T09:38:12.387Z"
   },
   {
    "duration": 39,
    "start_time": "2023-10-12T09:38:29.263Z"
   },
   {
    "duration": 13,
    "start_time": "2023-10-12T09:43:54.768Z"
   },
   {
    "duration": 46,
    "start_time": "2023-10-12T09:47:04.241Z"
   },
   {
    "duration": 32,
    "start_time": "2023-10-12T09:47:54.755Z"
   },
   {
    "duration": 16,
    "start_time": "2023-10-12T09:57:34.048Z"
   },
   {
    "duration": 10,
    "start_time": "2023-10-12T12:44:56.050Z"
   },
   {
    "duration": 8,
    "start_time": "2023-10-12T12:45:20.375Z"
   },
   {
    "duration": 27,
    "start_time": "2023-10-12T12:45:29.582Z"
   },
   {
    "duration": 13,
    "start_time": "2023-10-12T12:47:32.198Z"
   },
   {
    "duration": 1175,
    "start_time": "2023-10-12T12:56:57.221Z"
   },
   {
    "duration": 28,
    "start_time": "2023-10-12T12:56:58.398Z"
   },
   {
    "duration": 48,
    "start_time": "2023-10-12T12:56:58.427Z"
   },
   {
    "duration": 15,
    "start_time": "2023-10-12T12:56:58.477Z"
   },
   {
    "duration": 26,
    "start_time": "2023-10-12T12:56:58.494Z"
   },
   {
    "duration": 20,
    "start_time": "2023-10-12T12:56:58.522Z"
   },
   {
    "duration": 24,
    "start_time": "2023-10-12T12:56:58.544Z"
   },
   {
    "duration": 23,
    "start_time": "2023-10-12T12:56:58.570Z"
   },
   {
    "duration": 30,
    "start_time": "2023-10-12T12:56:58.595Z"
   },
   {
    "duration": 18,
    "start_time": "2023-10-12T12:56:58.628Z"
   },
   {
    "duration": 7,
    "start_time": "2023-10-12T12:56:58.648Z"
   },
   {
    "duration": 12,
    "start_time": "2023-10-12T12:56:58.657Z"
   },
   {
    "duration": 10,
    "start_time": "2023-10-12T12:56:58.671Z"
   },
   {
    "duration": 21,
    "start_time": "2023-10-12T12:56:58.683Z"
   },
   {
    "duration": 44,
    "start_time": "2023-10-12T12:56:58.706Z"
   },
   {
    "duration": 38,
    "start_time": "2023-10-12T12:56:58.753Z"
   },
   {
    "duration": 35,
    "start_time": "2023-10-12T12:56:58.793Z"
   },
   {
    "duration": 36,
    "start_time": "2023-10-12T12:56:58.830Z"
   },
   {
    "duration": 44,
    "start_time": "2023-10-12T12:56:58.868Z"
   },
   {
    "duration": 58,
    "start_time": "2023-10-12T12:56:58.914Z"
   },
   {
    "duration": 25,
    "start_time": "2023-10-12T12:56:58.974Z"
   },
   {
    "duration": 46,
    "start_time": "2023-10-12T12:56:59.001Z"
   },
   {
    "duration": 19,
    "start_time": "2023-10-12T12:56:59.048Z"
   },
   {
    "duration": 39,
    "start_time": "2023-10-12T12:56:59.069Z"
   },
   {
    "duration": 23,
    "start_time": "2023-10-12T12:56:59.110Z"
   },
   {
    "duration": 19,
    "start_time": "2023-10-12T12:56:59.135Z"
   },
   {
    "duration": 15,
    "start_time": "2023-10-12T12:56:59.156Z"
   },
   {
    "duration": 5,
    "start_time": "2023-10-12T12:56:59.176Z"
   },
   {
    "duration": 6,
    "start_time": "2023-10-12T12:56:59.182Z"
   },
   {
    "duration": 16,
    "start_time": "2023-10-12T12:56:59.190Z"
   },
   {
    "duration": 7,
    "start_time": "2023-10-12T12:56:59.208Z"
   },
   {
    "duration": 186,
    "start_time": "2023-10-12T12:56:59.216Z"
   },
   {
    "duration": 117,
    "start_time": "2023-10-12T12:56:59.404Z"
   },
   {
    "duration": 6,
    "start_time": "2023-10-12T12:56:59.523Z"
   },
   {
    "duration": 23,
    "start_time": "2023-10-12T12:56:59.530Z"
   },
   {
    "duration": 37,
    "start_time": "2023-10-12T12:56:59.555Z"
   },
   {
    "duration": 315,
    "start_time": "2023-10-12T12:56:59.593Z"
   },
   {
    "duration": 222,
    "start_time": "2023-10-12T12:56:59.910Z"
   },
   {
    "duration": 10,
    "start_time": "2023-10-12T12:57:00.134Z"
   },
   {
    "duration": 520,
    "start_time": "2023-10-12T12:57:00.146Z"
   },
   {
    "duration": 69,
    "start_time": "2023-10-12T12:57:00.668Z"
   },
   {
    "duration": 44,
    "start_time": "2023-10-12T12:57:00.739Z"
   },
   {
    "duration": 244,
    "start_time": "2023-10-12T12:57:00.784Z"
   },
   {
    "duration": 359,
    "start_time": "2023-10-12T12:57:01.030Z"
   },
   {
    "duration": 277,
    "start_time": "2023-10-12T12:57:01.391Z"
   },
   {
    "duration": 4,
    "start_time": "2023-10-12T12:57:01.670Z"
   },
   {
    "duration": 233,
    "start_time": "2023-10-12T12:57:01.675Z"
   },
   {
    "duration": 5,
    "start_time": "2023-10-12T12:57:01.910Z"
   },
   {
    "duration": 99,
    "start_time": "2023-10-12T12:57:01.916Z"
   },
   {
    "duration": 0,
    "start_time": "2023-10-12T12:57:02.017Z"
   },
   {
    "duration": 0,
    "start_time": "2023-10-12T12:57:02.018Z"
   },
   {
    "duration": 0,
    "start_time": "2023-10-12T12:57:02.019Z"
   },
   {
    "duration": 0,
    "start_time": "2023-10-12T12:57:02.020Z"
   },
   {
    "duration": 0,
    "start_time": "2023-10-12T12:57:02.021Z"
   },
   {
    "duration": 0,
    "start_time": "2023-10-12T12:57:02.022Z"
   },
   {
    "duration": 0,
    "start_time": "2023-10-12T12:57:02.023Z"
   },
   {
    "duration": 0,
    "start_time": "2023-10-12T12:57:02.024Z"
   },
   {
    "duration": 0,
    "start_time": "2023-10-12T12:57:02.025Z"
   },
   {
    "duration": 0,
    "start_time": "2023-10-12T12:57:02.026Z"
   },
   {
    "duration": 0,
    "start_time": "2023-10-12T12:57:02.027Z"
   },
   {
    "duration": 0,
    "start_time": "2023-10-12T12:57:02.028Z"
   },
   {
    "duration": 0,
    "start_time": "2023-10-12T12:57:02.028Z"
   },
   {
    "duration": 0,
    "start_time": "2023-10-12T12:57:02.029Z"
   },
   {
    "duration": 0,
    "start_time": "2023-10-12T12:57:02.030Z"
   },
   {
    "duration": 0,
    "start_time": "2023-10-12T12:57:02.031Z"
   },
   {
    "duration": 1209,
    "start_time": "2023-10-12T12:57:27.514Z"
   },
   {
    "duration": 27,
    "start_time": "2023-10-12T12:57:28.725Z"
   },
   {
    "duration": 50,
    "start_time": "2023-10-12T12:57:28.754Z"
   },
   {
    "duration": 15,
    "start_time": "2023-10-12T12:57:28.806Z"
   },
   {
    "duration": 26,
    "start_time": "2023-10-12T12:57:28.823Z"
   },
   {
    "duration": 13,
    "start_time": "2023-10-12T12:57:28.850Z"
   },
   {
    "duration": 12,
    "start_time": "2023-10-12T12:57:28.864Z"
   },
   {
    "duration": 30,
    "start_time": "2023-10-12T12:57:28.878Z"
   },
   {
    "duration": 11,
    "start_time": "2023-10-12T12:57:28.910Z"
   },
   {
    "duration": 27,
    "start_time": "2023-10-12T12:57:28.922Z"
   },
   {
    "duration": 23,
    "start_time": "2023-10-12T12:57:28.950Z"
   },
   {
    "duration": 35,
    "start_time": "2023-10-12T12:57:28.974Z"
   },
   {
    "duration": 17,
    "start_time": "2023-10-12T12:57:29.011Z"
   },
   {
    "duration": 34,
    "start_time": "2023-10-12T12:57:29.031Z"
   },
   {
    "duration": 23,
    "start_time": "2023-10-12T12:57:29.066Z"
   },
   {
    "duration": 20,
    "start_time": "2023-10-12T12:57:29.090Z"
   },
   {
    "duration": 31,
    "start_time": "2023-10-12T12:57:29.112Z"
   },
   {
    "duration": 22,
    "start_time": "2023-10-12T12:57:29.144Z"
   },
   {
    "duration": 33,
    "start_time": "2023-10-12T12:57:29.167Z"
   },
   {
    "duration": 19,
    "start_time": "2023-10-12T12:57:29.202Z"
   },
   {
    "duration": 12,
    "start_time": "2023-10-12T12:57:29.223Z"
   },
   {
    "duration": 39,
    "start_time": "2023-10-12T12:57:29.236Z"
   },
   {
    "duration": 30,
    "start_time": "2023-10-12T12:57:29.277Z"
   },
   {
    "duration": 10,
    "start_time": "2023-10-12T12:57:29.309Z"
   },
   {
    "duration": 27,
    "start_time": "2023-10-12T12:57:29.321Z"
   },
   {
    "duration": 15,
    "start_time": "2023-10-12T12:57:29.349Z"
   },
   {
    "duration": 17,
    "start_time": "2023-10-12T12:57:29.366Z"
   },
   {
    "duration": 17,
    "start_time": "2023-10-12T12:57:29.385Z"
   },
   {
    "duration": 52,
    "start_time": "2023-10-12T12:57:29.404Z"
   },
   {
    "duration": 36,
    "start_time": "2023-10-12T12:57:29.458Z"
   },
   {
    "duration": 6,
    "start_time": "2023-10-12T12:57:29.496Z"
   },
   {
    "duration": 179,
    "start_time": "2023-10-12T12:57:29.504Z"
   },
   {
    "duration": 118,
    "start_time": "2023-10-12T12:57:29.685Z"
   },
   {
    "duration": 5,
    "start_time": "2023-10-12T12:57:29.805Z"
   },
   {
    "duration": 44,
    "start_time": "2023-10-12T12:57:29.811Z"
   },
   {
    "duration": 34,
    "start_time": "2023-10-12T12:57:29.857Z"
   },
   {
    "duration": 341,
    "start_time": "2023-10-12T12:57:29.892Z"
   },
   {
    "duration": 220,
    "start_time": "2023-10-12T12:57:30.235Z"
   },
   {
    "duration": 7,
    "start_time": "2023-10-12T12:57:30.458Z"
   },
   {
    "duration": 605,
    "start_time": "2023-10-12T12:57:30.466Z"
   },
   {
    "duration": 5,
    "start_time": "2023-10-12T12:57:31.077Z"
   },
   {
    "duration": 229,
    "start_time": "2023-10-12T12:57:31.084Z"
   },
   {
    "duration": 267,
    "start_time": "2023-10-12T12:57:31.315Z"
   },
   {
    "duration": 318,
    "start_time": "2023-10-12T12:57:31.584Z"
   },
   {
    "duration": 262,
    "start_time": "2023-10-12T12:57:31.904Z"
   },
   {
    "duration": 4,
    "start_time": "2023-10-12T12:57:32.168Z"
   },
   {
    "duration": 198,
    "start_time": "2023-10-12T12:57:32.174Z"
   },
   {
    "duration": 6,
    "start_time": "2023-10-12T12:57:32.374Z"
   },
   {
    "duration": 435,
    "start_time": "2023-10-12T12:57:32.382Z"
   },
   {
    "duration": 5,
    "start_time": "2023-10-12T12:57:32.819Z"
   },
   {
    "duration": 64,
    "start_time": "2023-10-12T12:57:32.825Z"
   },
   {
    "duration": 57,
    "start_time": "2023-10-12T12:57:32.890Z"
   },
   {
    "duration": 163,
    "start_time": "2023-10-12T12:57:32.949Z"
   },
   {
    "duration": 403,
    "start_time": "2023-10-12T12:57:33.114Z"
   },
   {
    "duration": 223,
    "start_time": "2023-10-12T12:57:33.519Z"
   },
   {
    "duration": 152,
    "start_time": "2023-10-12T12:57:33.744Z"
   },
   {
    "duration": 6,
    "start_time": "2023-10-12T12:57:33.897Z"
   },
   {
    "duration": 44,
    "start_time": "2023-10-12T12:57:33.904Z"
   },
   {
    "duration": 43,
    "start_time": "2023-10-12T12:57:33.950Z"
   },
   {
    "duration": 101,
    "start_time": "2023-10-12T12:57:33.995Z"
   },
   {
    "duration": 0,
    "start_time": "2023-10-12T12:57:34.098Z"
   },
   {
    "duration": 0,
    "start_time": "2023-10-12T12:57:34.100Z"
   },
   {
    "duration": 0,
    "start_time": "2023-10-12T12:57:34.102Z"
   },
   {
    "duration": 0,
    "start_time": "2023-10-12T12:57:34.103Z"
   },
   {
    "duration": 1208,
    "start_time": "2023-10-12T12:57:51.453Z"
   },
   {
    "duration": 28,
    "start_time": "2023-10-12T12:57:52.662Z"
   },
   {
    "duration": 126,
    "start_time": "2023-10-12T12:57:52.692Z"
   },
   {
    "duration": 83,
    "start_time": "2023-10-12T12:57:52.820Z"
   },
   {
    "duration": 56,
    "start_time": "2023-10-12T12:57:52.905Z"
   },
   {
    "duration": 43,
    "start_time": "2023-10-12T12:57:52.963Z"
   },
   {
    "duration": 86,
    "start_time": "2023-10-12T12:57:53.008Z"
   },
   {
    "duration": 32,
    "start_time": "2023-10-12T12:57:53.096Z"
   },
   {
    "duration": 20,
    "start_time": "2023-10-12T12:57:53.130Z"
   },
   {
    "duration": 26,
    "start_time": "2023-10-12T12:57:53.153Z"
   },
   {
    "duration": 20,
    "start_time": "2023-10-12T12:57:53.180Z"
   },
   {
    "duration": 14,
    "start_time": "2023-10-12T12:57:53.202Z"
   },
   {
    "duration": 13,
    "start_time": "2023-10-12T12:57:53.218Z"
   },
   {
    "duration": 9,
    "start_time": "2023-10-12T12:57:53.232Z"
   },
   {
    "duration": 7,
    "start_time": "2023-10-12T12:57:53.243Z"
   },
   {
    "duration": 21,
    "start_time": "2023-10-12T12:57:53.252Z"
   },
   {
    "duration": 29,
    "start_time": "2023-10-12T12:57:53.275Z"
   },
   {
    "duration": 17,
    "start_time": "2023-10-12T12:57:53.306Z"
   },
   {
    "duration": 44,
    "start_time": "2023-10-12T12:57:53.325Z"
   },
   {
    "duration": 28,
    "start_time": "2023-10-12T12:57:53.371Z"
   },
   {
    "duration": 31,
    "start_time": "2023-10-12T12:57:53.401Z"
   },
   {
    "duration": 35,
    "start_time": "2023-10-12T12:57:53.433Z"
   },
   {
    "duration": 11,
    "start_time": "2023-10-12T12:57:53.469Z"
   },
   {
    "duration": 24,
    "start_time": "2023-10-12T12:57:53.481Z"
   },
   {
    "duration": 20,
    "start_time": "2023-10-12T12:57:53.506Z"
   },
   {
    "duration": 51,
    "start_time": "2023-10-12T12:57:53.528Z"
   },
   {
    "duration": 30,
    "start_time": "2023-10-12T12:57:53.581Z"
   },
   {
    "duration": 23,
    "start_time": "2023-10-12T12:57:53.615Z"
   },
   {
    "duration": 41,
    "start_time": "2023-10-12T12:57:53.639Z"
   },
   {
    "duration": 33,
    "start_time": "2023-10-12T12:57:53.681Z"
   },
   {
    "duration": 31,
    "start_time": "2023-10-12T12:57:53.716Z"
   },
   {
    "duration": 219,
    "start_time": "2023-10-12T12:57:53.748Z"
   },
   {
    "duration": 130,
    "start_time": "2023-10-12T12:57:53.968Z"
   },
   {
    "duration": 9,
    "start_time": "2023-10-12T12:57:54.100Z"
   },
   {
    "duration": 32,
    "start_time": "2023-10-12T12:57:54.112Z"
   },
   {
    "duration": 28,
    "start_time": "2023-10-12T12:57:54.146Z"
   },
   {
    "duration": 324,
    "start_time": "2023-10-12T12:57:54.176Z"
   },
   {
    "duration": 217,
    "start_time": "2023-10-12T12:57:54.502Z"
   },
   {
    "duration": 5,
    "start_time": "2023-10-12T12:57:54.721Z"
   },
   {
    "duration": 388,
    "start_time": "2023-10-12T12:57:54.727Z"
   },
   {
    "duration": 4,
    "start_time": "2023-10-12T12:57:55.117Z"
   },
   {
    "duration": 27,
    "start_time": "2023-10-12T12:57:55.123Z"
   },
   {
    "duration": 244,
    "start_time": "2023-10-12T12:57:55.152Z"
   },
   {
    "duration": 325,
    "start_time": "2023-10-12T12:57:55.398Z"
   },
   {
    "duration": 270,
    "start_time": "2023-10-12T12:57:55.725Z"
   },
   {
    "duration": 4,
    "start_time": "2023-10-12T12:57:55.997Z"
   },
   {
    "duration": 165,
    "start_time": "2023-10-12T12:57:56.002Z"
   },
   {
    "duration": 7,
    "start_time": "2023-10-12T12:57:56.169Z"
   },
   {
    "duration": 277,
    "start_time": "2023-10-12T12:57:56.178Z"
   },
   {
    "duration": 6,
    "start_time": "2023-10-12T12:57:56.456Z"
   },
   {
    "duration": 36,
    "start_time": "2023-10-12T12:57:56.463Z"
   },
   {
    "duration": 29,
    "start_time": "2023-10-12T12:57:56.500Z"
   },
   {
    "duration": 116,
    "start_time": "2023-10-12T12:57:56.530Z"
   },
   {
    "duration": 131,
    "start_time": "2023-10-12T12:57:56.648Z"
   },
   {
    "duration": 26,
    "start_time": "2023-10-12T12:57:56.781Z"
   },
   {
    "duration": 143,
    "start_time": "2023-10-12T12:57:56.808Z"
   },
   {
    "duration": 6,
    "start_time": "2023-10-12T12:57:56.952Z"
   },
   {
    "duration": 55,
    "start_time": "2023-10-12T12:57:56.959Z"
   },
   {
    "duration": 30,
    "start_time": "2023-10-12T12:57:57.016Z"
   },
   {
    "duration": 38,
    "start_time": "2023-10-12T12:57:57.048Z"
   },
   {
    "duration": 27,
    "start_time": "2023-10-12T12:57:57.087Z"
   },
   {
    "duration": 64,
    "start_time": "2023-10-12T12:57:57.116Z"
   },
   {
    "duration": 37,
    "start_time": "2023-10-12T12:57:57.181Z"
   },
   {
    "duration": 1183,
    "start_time": "2023-10-12T14:36:50.685Z"
   },
   {
    "duration": 3,
    "start_time": "2023-10-12T14:36:51.870Z"
   },
   {
    "duration": 45,
    "start_time": "2023-10-12T14:36:51.875Z"
   },
   {
    "duration": 37,
    "start_time": "2023-10-12T14:36:51.922Z"
   },
   {
    "duration": 18,
    "start_time": "2023-10-12T14:36:51.961Z"
   },
   {
    "duration": 12,
    "start_time": "2023-10-12T14:36:51.980Z"
   },
   {
    "duration": 26,
    "start_time": "2023-10-12T14:36:51.993Z"
   },
   {
    "duration": 36,
    "start_time": "2023-10-12T14:36:52.021Z"
   },
   {
    "duration": 42,
    "start_time": "2023-10-12T14:36:52.059Z"
   },
   {
    "duration": 24,
    "start_time": "2023-10-12T14:36:52.104Z"
   },
   {
    "duration": 11,
    "start_time": "2023-10-12T14:36:52.129Z"
   },
   {
    "duration": 24,
    "start_time": "2023-10-12T14:36:52.142Z"
   },
   {
    "duration": 33,
    "start_time": "2023-10-12T14:36:52.168Z"
   },
   {
    "duration": 7,
    "start_time": "2023-10-12T14:36:52.203Z"
   },
   {
    "duration": 12,
    "start_time": "2023-10-12T14:36:52.211Z"
   },
   {
    "duration": 11,
    "start_time": "2023-10-12T14:36:52.224Z"
   },
   {
    "duration": 42,
    "start_time": "2023-10-12T14:36:52.237Z"
   },
   {
    "duration": 11,
    "start_time": "2023-10-12T14:36:52.281Z"
   },
   {
    "duration": 28,
    "start_time": "2023-10-12T14:36:52.294Z"
   },
   {
    "duration": 14,
    "start_time": "2023-10-12T14:36:52.324Z"
   },
   {
    "duration": 18,
    "start_time": "2023-10-12T14:36:52.340Z"
   },
   {
    "duration": 13,
    "start_time": "2023-10-12T14:36:52.360Z"
   },
   {
    "duration": 19,
    "start_time": "2023-10-12T14:36:52.375Z"
   },
   {
    "duration": 19,
    "start_time": "2023-10-12T14:36:52.397Z"
   },
   {
    "duration": 20,
    "start_time": "2023-10-12T14:36:52.417Z"
   },
   {
    "duration": 19,
    "start_time": "2023-10-12T14:36:52.438Z"
   },
   {
    "duration": 18,
    "start_time": "2023-10-12T14:36:52.458Z"
   },
   {
    "duration": 8,
    "start_time": "2023-10-12T14:36:52.480Z"
   },
   {
    "duration": 21,
    "start_time": "2023-10-12T14:36:52.489Z"
   },
   {
    "duration": 6,
    "start_time": "2023-10-12T14:36:52.512Z"
   },
   {
    "duration": 12,
    "start_time": "2023-10-12T14:36:52.519Z"
   },
   {
    "duration": 6,
    "start_time": "2023-10-12T14:36:52.533Z"
   },
   {
    "duration": 183,
    "start_time": "2023-10-12T14:36:52.541Z"
   },
   {
    "duration": 129,
    "start_time": "2023-10-12T14:36:52.726Z"
   },
   {
    "duration": 6,
    "start_time": "2023-10-12T14:36:52.857Z"
   },
   {
    "duration": 15,
    "start_time": "2023-10-12T14:36:52.865Z"
   },
   {
    "duration": 13,
    "start_time": "2023-10-12T14:36:52.881Z"
   },
   {
    "duration": 312,
    "start_time": "2023-10-12T14:36:52.896Z"
   },
   {
    "duration": 217,
    "start_time": "2023-10-12T14:36:53.210Z"
   },
   {
    "duration": 6,
    "start_time": "2023-10-12T14:36:53.429Z"
   },
   {
    "duration": 330,
    "start_time": "2023-10-12T14:36:53.443Z"
   },
   {
    "duration": 4,
    "start_time": "2023-10-12T14:36:53.774Z"
   },
   {
    "duration": 26,
    "start_time": "2023-10-12T14:36:53.780Z"
   },
   {
    "duration": 229,
    "start_time": "2023-10-12T14:36:53.807Z"
   },
   {
    "duration": 389,
    "start_time": "2023-10-12T14:36:54.038Z"
   },
   {
    "duration": 290,
    "start_time": "2023-10-12T14:36:54.429Z"
   },
   {
    "duration": 5,
    "start_time": "2023-10-12T14:36:54.720Z"
   },
   {
    "duration": 160,
    "start_time": "2023-10-12T14:36:54.727Z"
   },
   {
    "duration": 5,
    "start_time": "2023-10-12T14:36:54.888Z"
   },
   {
    "duration": 258,
    "start_time": "2023-10-12T14:36:54.895Z"
   },
   {
    "duration": 5,
    "start_time": "2023-10-12T14:36:55.155Z"
   },
   {
    "duration": 23,
    "start_time": "2023-10-12T14:36:55.161Z"
   },
   {
    "duration": 13,
    "start_time": "2023-10-12T14:36:55.186Z"
   },
   {
    "duration": 102,
    "start_time": "2023-10-12T14:36:55.200Z"
   },
   {
    "duration": 111,
    "start_time": "2023-10-12T14:36:55.303Z"
   },
   {
    "duration": 29,
    "start_time": "2023-10-12T14:36:55.416Z"
   },
   {
    "duration": 131,
    "start_time": "2023-10-12T14:36:55.446Z"
   },
   {
    "duration": 6,
    "start_time": "2023-10-12T14:36:55.578Z"
   },
   {
    "duration": 31,
    "start_time": "2023-10-12T14:36:55.585Z"
   },
   {
    "duration": 28,
    "start_time": "2023-10-12T14:36:55.617Z"
   },
   {
    "duration": 11,
    "start_time": "2023-10-12T14:36:55.647Z"
   },
   {
    "duration": 26,
    "start_time": "2023-10-12T14:36:55.659Z"
   },
   {
    "duration": 51,
    "start_time": "2023-10-12T14:36:55.686Z"
   },
   {
    "duration": 13,
    "start_time": "2023-10-12T14:36:55.739Z"
   },
   {
    "duration": 1145,
    "start_time": "2023-10-12T14:38:50.411Z"
   },
   {
    "duration": 2,
    "start_time": "2023-10-12T14:38:51.558Z"
   },
   {
    "duration": 53,
    "start_time": "2023-10-12T14:38:51.562Z"
   },
   {
    "duration": 38,
    "start_time": "2023-10-12T14:38:51.617Z"
   },
   {
    "duration": 21,
    "start_time": "2023-10-12T14:38:51.656Z"
   },
   {
    "duration": 30,
    "start_time": "2023-10-12T14:38:51.679Z"
   },
   {
    "duration": 19,
    "start_time": "2023-10-12T14:38:51.710Z"
   },
   {
    "duration": 89,
    "start_time": "2023-10-12T14:38:51.731Z"
   },
   {
    "duration": 45,
    "start_time": "2023-10-12T14:38:51.821Z"
   },
   {
    "duration": 70,
    "start_time": "2023-10-12T14:38:51.868Z"
   },
   {
    "duration": 53,
    "start_time": "2023-10-12T14:38:51.939Z"
   },
   {
    "duration": 29,
    "start_time": "2023-10-12T14:38:51.994Z"
   },
   {
    "duration": 26,
    "start_time": "2023-10-12T14:38:52.024Z"
   },
   {
    "duration": 41,
    "start_time": "2023-10-12T14:38:52.052Z"
   },
   {
    "duration": 24,
    "start_time": "2023-10-12T14:38:52.095Z"
   },
   {
    "duration": 21,
    "start_time": "2023-10-12T14:38:52.121Z"
   },
   {
    "duration": 36,
    "start_time": "2023-10-12T14:38:52.144Z"
   },
   {
    "duration": 51,
    "start_time": "2023-10-12T14:38:52.182Z"
   },
   {
    "duration": 127,
    "start_time": "2023-10-12T14:38:52.235Z"
   },
   {
    "duration": 39,
    "start_time": "2023-10-12T14:38:52.364Z"
   },
   {
    "duration": 32,
    "start_time": "2023-10-12T14:38:52.404Z"
   },
   {
    "duration": 12,
    "start_time": "2023-10-12T14:38:52.437Z"
   },
   {
    "duration": 41,
    "start_time": "2023-10-12T14:38:52.451Z"
   },
   {
    "duration": 18,
    "start_time": "2023-10-12T14:38:52.493Z"
   },
   {
    "duration": 22,
    "start_time": "2023-10-12T14:38:52.512Z"
   },
   {
    "duration": 66,
    "start_time": "2023-10-12T14:38:52.536Z"
   },
   {
    "duration": 18,
    "start_time": "2023-10-12T14:38:52.604Z"
   },
   {
    "duration": 37,
    "start_time": "2023-10-12T14:38:52.625Z"
   },
   {
    "duration": 40,
    "start_time": "2023-10-12T14:38:52.664Z"
   },
   {
    "duration": 13,
    "start_time": "2023-10-12T14:38:52.706Z"
   },
   {
    "duration": 48,
    "start_time": "2023-10-12T14:38:52.721Z"
   },
   {
    "duration": 14,
    "start_time": "2023-10-12T14:38:52.771Z"
   },
   {
    "duration": 217,
    "start_time": "2023-10-12T14:38:52.787Z"
   },
   {
    "duration": 123,
    "start_time": "2023-10-12T14:38:53.006Z"
   },
   {
    "duration": 6,
    "start_time": "2023-10-12T14:38:53.131Z"
   },
   {
    "duration": 21,
    "start_time": "2023-10-12T14:38:53.138Z"
   },
   {
    "duration": 36,
    "start_time": "2023-10-12T14:38:53.160Z"
   },
   {
    "duration": 337,
    "start_time": "2023-10-12T14:38:53.198Z"
   },
   {
    "duration": 212,
    "start_time": "2023-10-12T14:38:53.537Z"
   },
   {
    "duration": 6,
    "start_time": "2023-10-12T14:38:53.751Z"
   },
   {
    "duration": 448,
    "start_time": "2023-10-12T14:38:53.758Z"
   },
   {
    "duration": 4,
    "start_time": "2023-10-12T14:38:54.208Z"
   },
   {
    "duration": 14,
    "start_time": "2023-10-12T14:38:54.214Z"
   },
   {
    "duration": 217,
    "start_time": "2023-10-12T14:38:54.230Z"
   },
   {
    "duration": 362,
    "start_time": "2023-10-12T14:38:54.449Z"
   },
   {
    "duration": 264,
    "start_time": "2023-10-12T14:38:54.812Z"
   },
   {
    "duration": 5,
    "start_time": "2023-10-12T14:38:55.078Z"
   },
   {
    "duration": 171,
    "start_time": "2023-10-12T14:38:55.085Z"
   },
   {
    "duration": 6,
    "start_time": "2023-10-12T14:38:55.257Z"
   },
   {
    "duration": 248,
    "start_time": "2023-10-12T14:38:55.264Z"
   },
   {
    "duration": 4,
    "start_time": "2023-10-12T14:38:55.513Z"
   },
   {
    "duration": 38,
    "start_time": "2023-10-12T14:38:55.519Z"
   },
   {
    "duration": 27,
    "start_time": "2023-10-12T14:38:55.559Z"
   },
   {
    "duration": 103,
    "start_time": "2023-10-12T14:38:55.588Z"
   },
   {
    "duration": 130,
    "start_time": "2023-10-12T14:38:55.692Z"
   },
   {
    "duration": 28,
    "start_time": "2023-10-12T14:38:55.824Z"
   },
   {
    "duration": 167,
    "start_time": "2023-10-12T14:38:55.853Z"
   },
   {
    "duration": 6,
    "start_time": "2023-10-12T14:38:56.022Z"
   },
   {
    "duration": 37,
    "start_time": "2023-10-12T14:38:56.029Z"
   },
   {
    "duration": 11,
    "start_time": "2023-10-12T14:38:56.068Z"
   },
   {
    "duration": 21,
    "start_time": "2023-10-12T14:38:56.081Z"
   },
   {
    "duration": 16,
    "start_time": "2023-10-12T14:38:56.104Z"
   },
   {
    "duration": 59,
    "start_time": "2023-10-12T14:38:56.122Z"
   },
   {
    "duration": 113,
    "start_time": "2023-10-12T14:38:56.183Z"
   },
   {
    "duration": 447,
    "start_time": "2023-10-12T14:50:24.863Z"
   },
   {
    "duration": 373,
    "start_time": "2023-10-12T14:59:58.716Z"
   },
   {
    "duration": 355,
    "start_time": "2023-10-12T15:06:09.021Z"
   },
   {
    "duration": 349,
    "start_time": "2023-10-12T15:06:39.353Z"
   },
   {
    "duration": 49,
    "start_time": "2023-10-13T13:01:13.188Z"
   },
   {
    "duration": 1419,
    "start_time": "2023-10-13T13:01:35.420Z"
   },
   {
    "duration": 3,
    "start_time": "2023-10-13T13:01:36.841Z"
   },
   {
    "duration": 80,
    "start_time": "2023-10-13T13:01:36.846Z"
   },
   {
    "duration": 85,
    "start_time": "2023-10-13T13:01:36.928Z"
   },
   {
    "duration": 56,
    "start_time": "2023-10-13T13:01:37.015Z"
   },
   {
    "duration": 11,
    "start_time": "2023-10-13T13:01:37.073Z"
   },
   {
    "duration": 28,
    "start_time": "2023-10-13T13:01:37.085Z"
   },
   {
    "duration": 28,
    "start_time": "2023-10-13T13:01:37.115Z"
   },
   {
    "duration": 46,
    "start_time": "2023-10-13T13:01:37.146Z"
   },
   {
    "duration": 45,
    "start_time": "2023-10-13T13:01:37.195Z"
   },
   {
    "duration": 31,
    "start_time": "2023-10-13T13:01:37.242Z"
   },
   {
    "duration": 29,
    "start_time": "2023-10-13T13:01:37.275Z"
   },
   {
    "duration": 42,
    "start_time": "2023-10-13T13:01:37.305Z"
   },
   {
    "duration": 31,
    "start_time": "2023-10-13T13:01:37.349Z"
   },
   {
    "duration": 20,
    "start_time": "2023-10-13T13:01:37.381Z"
   },
   {
    "duration": 15,
    "start_time": "2023-10-13T13:01:37.403Z"
   },
   {
    "duration": 28,
    "start_time": "2023-10-13T13:01:37.420Z"
   },
   {
    "duration": 27,
    "start_time": "2023-10-13T13:01:37.450Z"
   },
   {
    "duration": 31,
    "start_time": "2023-10-13T13:01:37.479Z"
   },
   {
    "duration": 27,
    "start_time": "2023-10-13T13:01:37.512Z"
   },
   {
    "duration": 30,
    "start_time": "2023-10-13T13:01:37.542Z"
   },
   {
    "duration": 27,
    "start_time": "2023-10-13T13:01:37.574Z"
   },
   {
    "duration": 30,
    "start_time": "2023-10-13T13:01:37.603Z"
   },
   {
    "duration": 15,
    "start_time": "2023-10-13T13:01:37.635Z"
   },
   {
    "duration": 11,
    "start_time": "2023-10-13T13:01:37.651Z"
   },
   {
    "duration": 21,
    "start_time": "2023-10-13T13:01:37.664Z"
   },
   {
    "duration": 26,
    "start_time": "2023-10-13T13:01:37.687Z"
   },
   {
    "duration": 4,
    "start_time": "2023-10-13T13:01:37.717Z"
   },
   {
    "duration": 12,
    "start_time": "2023-10-13T13:01:37.722Z"
   },
   {
    "duration": 32,
    "start_time": "2023-10-13T13:01:37.736Z"
   },
   {
    "duration": 18,
    "start_time": "2023-10-13T13:01:37.770Z"
   },
   {
    "duration": 32,
    "start_time": "2023-10-13T13:01:37.791Z"
   },
   {
    "duration": 202,
    "start_time": "2023-10-13T13:01:37.826Z"
   },
   {
    "duration": 148,
    "start_time": "2023-10-13T13:01:38.030Z"
   },
   {
    "duration": 7,
    "start_time": "2023-10-13T13:01:38.179Z"
   },
   {
    "duration": 44,
    "start_time": "2023-10-13T13:01:38.187Z"
   },
   {
    "duration": 24,
    "start_time": "2023-10-13T13:01:38.232Z"
   },
   {
    "duration": 19,
    "start_time": "2023-10-13T13:01:38.258Z"
   },
   {
    "duration": 317,
    "start_time": "2023-10-13T13:01:38.280Z"
   },
   {
    "duration": 225,
    "start_time": "2023-10-13T13:01:38.599Z"
   },
   {
    "duration": 7,
    "start_time": "2023-10-13T13:01:38.826Z"
   },
   {
    "duration": 389,
    "start_time": "2023-10-13T13:01:38.834Z"
   },
   {
    "duration": 5,
    "start_time": "2023-10-13T13:01:39.224Z"
   },
   {
    "duration": 21,
    "start_time": "2023-10-13T13:01:39.230Z"
   },
   {
    "duration": 211,
    "start_time": "2023-10-13T13:01:39.253Z"
   },
   {
    "duration": 358,
    "start_time": "2023-10-13T13:01:39.466Z"
   },
   {
    "duration": 317,
    "start_time": "2023-10-13T13:01:39.826Z"
   },
   {
    "duration": 5,
    "start_time": "2023-10-13T13:01:40.145Z"
   },
   {
    "duration": 266,
    "start_time": "2023-10-13T13:01:40.152Z"
   },
   {
    "duration": 6,
    "start_time": "2023-10-13T13:01:40.420Z"
   },
   {
    "duration": 185,
    "start_time": "2023-10-13T13:01:40.428Z"
   },
   {
    "duration": 5,
    "start_time": "2023-10-13T13:01:40.614Z"
   },
   {
    "duration": 165,
    "start_time": "2023-10-13T13:01:40.620Z"
   },
   {
    "duration": 21,
    "start_time": "2023-10-13T13:01:40.787Z"
   },
   {
    "duration": 110,
    "start_time": "2023-10-13T13:01:40.810Z"
   },
   {
    "duration": 123,
    "start_time": "2023-10-13T13:01:40.921Z"
   },
   {
    "duration": 30,
    "start_time": "2023-10-13T13:01:41.046Z"
   },
   {
    "duration": 144,
    "start_time": "2023-10-13T13:01:41.078Z"
   },
   {
    "duration": 8,
    "start_time": "2023-10-13T13:01:41.223Z"
   },
   {
    "duration": 42,
    "start_time": "2023-10-13T13:01:41.233Z"
   },
   {
    "duration": 14,
    "start_time": "2023-10-13T13:01:41.276Z"
   },
   {
    "duration": 28,
    "start_time": "2023-10-13T13:01:41.291Z"
   },
   {
    "duration": 14,
    "start_time": "2023-10-13T13:01:41.321Z"
   },
   {
    "duration": 45,
    "start_time": "2023-10-13T13:01:41.336Z"
   },
   {
    "duration": 15,
    "start_time": "2023-10-13T13:01:41.382Z"
   },
   {
    "duration": 11,
    "start_time": "2023-10-13T13:02:57.581Z"
   },
   {
    "duration": 1206,
    "start_time": "2023-10-13T13:03:06.676Z"
   },
   {
    "duration": 3,
    "start_time": "2023-10-13T13:03:07.884Z"
   },
   {
    "duration": 107,
    "start_time": "2023-10-13T13:03:07.888Z"
   },
   {
    "duration": 70,
    "start_time": "2023-10-13T13:03:07.997Z"
   },
   {
    "duration": 17,
    "start_time": "2023-10-13T13:03:08.071Z"
   },
   {
    "duration": 45,
    "start_time": "2023-10-13T13:03:08.090Z"
   },
   {
    "duration": 63,
    "start_time": "2023-10-13T13:03:08.137Z"
   },
   {
    "duration": 24,
    "start_time": "2023-10-13T13:03:08.202Z"
   },
   {
    "duration": 43,
    "start_time": "2023-10-13T13:03:08.228Z"
   },
   {
    "duration": 29,
    "start_time": "2023-10-13T13:03:08.275Z"
   },
   {
    "duration": 48,
    "start_time": "2023-10-13T13:03:08.305Z"
   },
   {
    "duration": 56,
    "start_time": "2023-10-13T13:03:08.355Z"
   },
   {
    "duration": 40,
    "start_time": "2023-10-13T13:03:08.413Z"
   },
   {
    "duration": 41,
    "start_time": "2023-10-13T13:03:08.454Z"
   },
   {
    "duration": 25,
    "start_time": "2023-10-13T13:03:08.497Z"
   },
   {
    "duration": 30,
    "start_time": "2023-10-13T13:03:08.524Z"
   },
   {
    "duration": 43,
    "start_time": "2023-10-13T13:03:08.555Z"
   },
   {
    "duration": 35,
    "start_time": "2023-10-13T13:03:08.600Z"
   },
   {
    "duration": 28,
    "start_time": "2023-10-13T13:03:08.636Z"
   },
   {
    "duration": 44,
    "start_time": "2023-10-13T13:03:08.666Z"
   },
   {
    "duration": 37,
    "start_time": "2023-10-13T13:03:08.712Z"
   },
   {
    "duration": 31,
    "start_time": "2023-10-13T13:03:08.751Z"
   },
   {
    "duration": 33,
    "start_time": "2023-10-13T13:03:08.784Z"
   },
   {
    "duration": 32,
    "start_time": "2023-10-13T13:03:08.818Z"
   },
   {
    "duration": 45,
    "start_time": "2023-10-13T13:03:08.852Z"
   },
   {
    "duration": 149,
    "start_time": "2023-10-13T13:03:08.899Z"
   },
   {
    "duration": 113,
    "start_time": "2023-10-13T13:03:09.050Z"
   },
   {
    "duration": 47,
    "start_time": "2023-10-13T13:03:09.168Z"
   },
   {
    "duration": 15,
    "start_time": "2023-10-13T13:03:09.217Z"
   },
   {
    "duration": 49,
    "start_time": "2023-10-13T13:03:09.234Z"
   },
   {
    "duration": 35,
    "start_time": "2023-10-13T13:03:09.285Z"
   },
   {
    "duration": 33,
    "start_time": "2023-10-13T13:03:09.322Z"
   },
   {
    "duration": 228,
    "start_time": "2023-10-13T13:03:09.357Z"
   },
   {
    "duration": 133,
    "start_time": "2023-10-13T13:03:09.587Z"
   },
   {
    "duration": 5,
    "start_time": "2023-10-13T13:03:09.722Z"
   },
   {
    "duration": 15,
    "start_time": "2023-10-13T13:03:09.729Z"
   },
   {
    "duration": 48,
    "start_time": "2023-10-13T13:03:09.747Z"
   },
   {
    "duration": 19,
    "start_time": "2023-10-13T13:03:09.797Z"
   },
   {
    "duration": 28,
    "start_time": "2023-10-13T13:03:09.818Z"
   },
   {
    "duration": 328,
    "start_time": "2023-10-13T13:03:09.847Z"
   },
   {
    "duration": 231,
    "start_time": "2023-10-13T13:03:10.176Z"
   },
   {
    "duration": 6,
    "start_time": "2023-10-13T13:03:10.409Z"
   },
   {
    "duration": 355,
    "start_time": "2023-10-13T13:03:10.417Z"
   },
   {
    "duration": 5,
    "start_time": "2023-10-13T13:03:10.774Z"
   },
   {
    "duration": 14,
    "start_time": "2023-10-13T13:03:10.780Z"
   },
   {
    "duration": 243,
    "start_time": "2023-10-13T13:03:10.796Z"
   },
   {
    "duration": 428,
    "start_time": "2023-10-13T13:03:11.041Z"
   },
   {
    "duration": 352,
    "start_time": "2023-10-13T13:03:11.470Z"
   },
   {
    "duration": 5,
    "start_time": "2023-10-13T13:03:11.824Z"
   },
   {
    "duration": 160,
    "start_time": "2023-10-13T13:03:11.844Z"
   },
   {
    "duration": 6,
    "start_time": "2023-10-13T13:03:12.005Z"
   },
   {
    "duration": 278,
    "start_time": "2023-10-13T13:03:12.013Z"
   },
   {
    "duration": 6,
    "start_time": "2023-10-13T13:03:12.293Z"
   },
   {
    "duration": 22,
    "start_time": "2023-10-13T13:03:12.300Z"
   },
   {
    "duration": 57,
    "start_time": "2023-10-13T13:03:12.323Z"
   },
   {
    "duration": 129,
    "start_time": "2023-10-13T13:03:12.382Z"
   },
   {
    "duration": 159,
    "start_time": "2023-10-13T13:03:12.512Z"
   },
   {
    "duration": 26,
    "start_time": "2023-10-13T13:03:12.672Z"
   },
   {
    "duration": 165,
    "start_time": "2023-10-13T13:03:12.700Z"
   },
   {
    "duration": 6,
    "start_time": "2023-10-13T13:03:12.867Z"
   },
   {
    "duration": 66,
    "start_time": "2023-10-13T13:03:12.875Z"
   },
   {
    "duration": 20,
    "start_time": "2023-10-13T13:03:12.942Z"
   },
   {
    "duration": 37,
    "start_time": "2023-10-13T13:03:12.963Z"
   },
   {
    "duration": 43,
    "start_time": "2023-10-13T13:03:13.001Z"
   },
   {
    "duration": 67,
    "start_time": "2023-10-13T13:03:13.046Z"
   },
   {
    "duration": 16,
    "start_time": "2023-10-13T13:03:13.115Z"
   },
   {
    "duration": 1185,
    "start_time": "2023-10-13T13:26:54.680Z"
   },
   {
    "duration": 3,
    "start_time": "2023-10-13T13:26:55.867Z"
   },
   {
    "duration": 35,
    "start_time": "2023-10-13T13:26:55.872Z"
   },
   {
    "duration": 54,
    "start_time": "2023-10-13T13:26:55.909Z"
   },
   {
    "duration": 20,
    "start_time": "2023-10-13T13:26:55.966Z"
   },
   {
    "duration": 30,
    "start_time": "2023-10-13T13:26:55.988Z"
   },
   {
    "duration": 25,
    "start_time": "2023-10-13T13:26:56.019Z"
   },
   {
    "duration": 36,
    "start_time": "2023-10-13T13:26:56.045Z"
   },
   {
    "duration": 33,
    "start_time": "2023-10-13T13:26:56.083Z"
   },
   {
    "duration": 70,
    "start_time": "2023-10-13T13:26:56.118Z"
   },
   {
    "duration": 29,
    "start_time": "2023-10-13T13:26:56.190Z"
   },
   {
    "duration": 47,
    "start_time": "2023-10-13T13:26:56.221Z"
   },
   {
    "duration": 63,
    "start_time": "2023-10-13T13:26:56.270Z"
   },
   {
    "duration": 36,
    "start_time": "2023-10-13T13:26:56.336Z"
   },
   {
    "duration": 56,
    "start_time": "2023-10-13T13:26:56.373Z"
   },
   {
    "duration": 33,
    "start_time": "2023-10-13T13:26:56.431Z"
   },
   {
    "duration": 54,
    "start_time": "2023-10-13T13:26:56.466Z"
   },
   {
    "duration": 31,
    "start_time": "2023-10-13T13:26:56.522Z"
   },
   {
    "duration": 34,
    "start_time": "2023-10-13T13:26:56.555Z"
   },
   {
    "duration": 49,
    "start_time": "2023-10-13T13:26:56.591Z"
   },
   {
    "duration": 44,
    "start_time": "2023-10-13T13:26:56.642Z"
   },
   {
    "duration": 16,
    "start_time": "2023-10-13T13:26:56.688Z"
   },
   {
    "duration": 41,
    "start_time": "2023-10-13T13:26:56.706Z"
   },
   {
    "duration": 44,
    "start_time": "2023-10-13T13:26:56.749Z"
   },
   {
    "duration": 34,
    "start_time": "2023-10-13T13:26:56.795Z"
   },
   {
    "duration": 39,
    "start_time": "2023-10-13T13:26:56.830Z"
   },
   {
    "duration": 46,
    "start_time": "2023-10-13T13:26:56.871Z"
   },
   {
    "duration": 25,
    "start_time": "2023-10-13T13:26:56.919Z"
   },
   {
    "duration": 40,
    "start_time": "2023-10-13T13:26:56.946Z"
   },
   {
    "duration": 22,
    "start_time": "2023-10-13T13:26:56.988Z"
   },
   {
    "duration": 33,
    "start_time": "2023-10-13T13:26:57.012Z"
   },
   {
    "duration": 30,
    "start_time": "2023-10-13T13:26:57.046Z"
   },
   {
    "duration": 200,
    "start_time": "2023-10-13T13:26:57.078Z"
   },
   {
    "duration": 121,
    "start_time": "2023-10-13T13:26:57.280Z"
   },
   {
    "duration": 5,
    "start_time": "2023-10-13T13:26:57.403Z"
   },
   {
    "duration": 60,
    "start_time": "2023-10-13T13:26:57.410Z"
   },
   {
    "duration": 29,
    "start_time": "2023-10-13T13:26:57.472Z"
   },
   {
    "duration": 114,
    "start_time": "2023-10-13T13:26:57.503Z"
   },
   {
    "duration": 0,
    "start_time": "2023-10-13T13:26:57.619Z"
   },
   {
    "duration": 0,
    "start_time": "2023-10-13T13:26:57.620Z"
   },
   {
    "duration": 0,
    "start_time": "2023-10-13T13:26:57.621Z"
   },
   {
    "duration": 0,
    "start_time": "2023-10-13T13:26:57.622Z"
   },
   {
    "duration": 0,
    "start_time": "2023-10-13T13:26:57.624Z"
   },
   {
    "duration": 0,
    "start_time": "2023-10-13T13:26:57.626Z"
   },
   {
    "duration": 0,
    "start_time": "2023-10-13T13:26:57.628Z"
   },
   {
    "duration": 0,
    "start_time": "2023-10-13T13:26:57.630Z"
   },
   {
    "duration": 0,
    "start_time": "2023-10-13T13:26:57.631Z"
   },
   {
    "duration": 0,
    "start_time": "2023-10-13T13:26:57.633Z"
   },
   {
    "duration": 0,
    "start_time": "2023-10-13T13:26:57.635Z"
   },
   {
    "duration": 0,
    "start_time": "2023-10-13T13:26:57.636Z"
   },
   {
    "duration": 0,
    "start_time": "2023-10-13T13:26:57.638Z"
   },
   {
    "duration": 0,
    "start_time": "2023-10-13T13:26:57.639Z"
   },
   {
    "duration": 0,
    "start_time": "2023-10-13T13:26:57.640Z"
   },
   {
    "duration": 0,
    "start_time": "2023-10-13T13:26:57.641Z"
   },
   {
    "duration": 0,
    "start_time": "2023-10-13T13:26:57.642Z"
   },
   {
    "duration": 0,
    "start_time": "2023-10-13T13:26:57.644Z"
   },
   {
    "duration": 0,
    "start_time": "2023-10-13T13:26:57.645Z"
   },
   {
    "duration": 0,
    "start_time": "2023-10-13T13:26:57.646Z"
   },
   {
    "duration": 0,
    "start_time": "2023-10-13T13:26:57.647Z"
   },
   {
    "duration": 0,
    "start_time": "2023-10-13T13:26:57.649Z"
   },
   {
    "duration": 0,
    "start_time": "2023-10-13T13:26:57.651Z"
   },
   {
    "duration": 0,
    "start_time": "2023-10-13T13:26:57.652Z"
   },
   {
    "duration": 0,
    "start_time": "2023-10-13T13:26:57.653Z"
   },
   {
    "duration": 0,
    "start_time": "2023-10-13T13:26:57.654Z"
   },
   {
    "duration": 0,
    "start_time": "2023-10-13T13:26:57.655Z"
   },
   {
    "duration": 0,
    "start_time": "2023-10-13T13:26:57.656Z"
   },
   {
    "duration": 0,
    "start_time": "2023-10-13T13:26:57.657Z"
   },
   {
    "duration": 1229,
    "start_time": "2023-11-07T11:25:36.044Z"
   },
   {
    "duration": 3,
    "start_time": "2023-11-07T11:25:37.275Z"
   },
   {
    "duration": 72,
    "start_time": "2023-11-07T11:25:37.279Z"
   },
   {
    "duration": 68,
    "start_time": "2023-11-07T11:25:37.353Z"
   },
   {
    "duration": 55,
    "start_time": "2023-11-07T11:25:37.423Z"
   },
   {
    "duration": 10,
    "start_time": "2023-11-07T11:25:37.480Z"
   },
   {
    "duration": 23,
    "start_time": "2023-11-07T11:25:37.492Z"
   },
   {
    "duration": 10,
    "start_time": "2023-11-07T11:25:37.517Z"
   },
   {
    "duration": 11,
    "start_time": "2023-11-07T11:25:37.529Z"
   },
   {
    "duration": 10,
    "start_time": "2023-11-07T11:25:37.543Z"
   },
   {
    "duration": 17,
    "start_time": "2023-11-07T11:25:37.555Z"
   },
   {
    "duration": 6,
    "start_time": "2023-11-07T11:25:37.574Z"
   },
   {
    "duration": 12,
    "start_time": "2023-11-07T11:25:37.581Z"
   },
   {
    "duration": 10,
    "start_time": "2023-11-07T11:25:37.595Z"
   },
   {
    "duration": 5,
    "start_time": "2023-11-07T11:25:37.606Z"
   },
   {
    "duration": 53,
    "start_time": "2023-11-07T11:25:37.612Z"
   },
   {
    "duration": 28,
    "start_time": "2023-11-07T11:25:37.666Z"
   },
   {
    "duration": 19,
    "start_time": "2023-11-07T11:25:37.696Z"
   },
   {
    "duration": 28,
    "start_time": "2023-11-07T11:25:37.717Z"
   },
   {
    "duration": 55,
    "start_time": "2023-11-07T11:25:37.747Z"
   },
   {
    "duration": 21,
    "start_time": "2023-11-07T11:25:37.804Z"
   },
   {
    "duration": 14,
    "start_time": "2023-11-07T11:25:37.827Z"
   },
   {
    "duration": 17,
    "start_time": "2023-11-07T11:25:37.842Z"
   },
   {
    "duration": 28,
    "start_time": "2023-11-07T11:25:37.860Z"
   },
   {
    "duration": 10,
    "start_time": "2023-11-07T11:25:37.890Z"
   },
   {
    "duration": 10,
    "start_time": "2023-11-07T11:25:37.901Z"
   },
   {
    "duration": 12,
    "start_time": "2023-11-07T11:25:37.912Z"
   },
   {
    "duration": 24,
    "start_time": "2023-11-07T11:25:37.928Z"
   },
   {
    "duration": 5,
    "start_time": "2023-11-07T11:25:37.954Z"
   },
   {
    "duration": 17,
    "start_time": "2023-11-07T11:25:37.960Z"
   },
   {
    "duration": 10,
    "start_time": "2023-11-07T11:25:37.979Z"
   },
   {
    "duration": 8,
    "start_time": "2023-11-07T11:25:37.990Z"
   },
   {
    "duration": 184,
    "start_time": "2023-11-07T11:25:37.999Z"
   },
   {
    "duration": 116,
    "start_time": "2023-11-07T11:25:38.184Z"
   },
   {
    "duration": 31,
    "start_time": "2023-11-07T11:25:38.302Z"
   },
   {
    "duration": 9,
    "start_time": "2023-11-07T11:25:38.334Z"
   },
   {
    "duration": 69,
    "start_time": "2023-11-07T11:25:38.345Z"
   },
   {
    "duration": 15,
    "start_time": "2023-11-07T11:25:38.416Z"
   },
   {
    "duration": 30,
    "start_time": "2023-11-07T11:25:38.433Z"
   },
   {
    "duration": 339,
    "start_time": "2023-11-07T11:25:38.464Z"
   },
   {
    "duration": 222,
    "start_time": "2023-11-07T11:25:38.805Z"
   },
   {
    "duration": 5,
    "start_time": "2023-11-07T11:25:39.029Z"
   },
   {
    "duration": 312,
    "start_time": "2023-11-07T11:25:39.035Z"
   },
   {
    "duration": 4,
    "start_time": "2023-11-07T11:25:39.349Z"
   },
   {
    "duration": 13,
    "start_time": "2023-11-07T11:25:39.354Z"
   },
   {
    "duration": 252,
    "start_time": "2023-11-07T11:25:39.369Z"
   },
   {
    "duration": 391,
    "start_time": "2023-11-07T11:25:39.623Z"
   },
   {
    "duration": 306,
    "start_time": "2023-11-07T11:25:40.016Z"
   },
   {
    "duration": 5,
    "start_time": "2023-11-07T11:25:40.323Z"
   },
   {
    "duration": 168,
    "start_time": "2023-11-07T11:25:40.329Z"
   },
   {
    "duration": 6,
    "start_time": "2023-11-07T11:25:40.498Z"
   },
   {
    "duration": 228,
    "start_time": "2023-11-07T11:25:40.505Z"
   },
   {
    "duration": 4,
    "start_time": "2023-11-07T11:25:40.734Z"
   },
   {
    "duration": 14,
    "start_time": "2023-11-07T11:25:40.739Z"
   },
   {
    "duration": 17,
    "start_time": "2023-11-07T11:25:40.755Z"
   },
   {
    "duration": 82,
    "start_time": "2023-11-07T11:25:40.773Z"
   },
   {
    "duration": 126,
    "start_time": "2023-11-07T11:25:40.868Z"
   },
   {
    "duration": 27,
    "start_time": "2023-11-07T11:25:40.996Z"
   },
   {
    "duration": 201,
    "start_time": "2023-11-07T11:25:41.025Z"
   },
   {
    "duration": 6,
    "start_time": "2023-11-07T11:25:41.228Z"
   },
   {
    "duration": 45,
    "start_time": "2023-11-07T11:25:41.236Z"
   },
   {
    "duration": 12,
    "start_time": "2023-11-07T11:25:41.282Z"
   },
   {
    "duration": 10,
    "start_time": "2023-11-07T11:25:41.296Z"
   },
   {
    "duration": 10,
    "start_time": "2023-11-07T11:25:41.307Z"
   },
   {
    "duration": 65,
    "start_time": "2023-11-07T11:25:41.318Z"
   },
   {
    "duration": 12,
    "start_time": "2023-11-07T11:25:41.384Z"
   }
  ],
  "kernelspec": {
   "display_name": "Python 3 (ipykernel)",
   "language": "python",
   "name": "python3"
  },
  "language_info": {
   "codemirror_mode": {
    "name": "ipython",
    "version": 3
   },
   "file_extension": ".py",
   "mimetype": "text/x-python",
   "name": "python",
   "nbconvert_exporter": "python",
   "pygments_lexer": "ipython3",
   "version": "3.9.18"
  },
  "toc": {
   "base_numbering": 1,
   "nav_menu": {},
   "number_sections": true,
   "sideBar": true,
   "skip_h1_title": true,
   "title_cell": "Table of Contents",
   "title_sidebar": "Contents",
   "toc_cell": false,
   "toc_position": {},
   "toc_section_display": true,
   "toc_window_display": false
  }
 },
 "nbformat": 4,
 "nbformat_minor": 4
}
