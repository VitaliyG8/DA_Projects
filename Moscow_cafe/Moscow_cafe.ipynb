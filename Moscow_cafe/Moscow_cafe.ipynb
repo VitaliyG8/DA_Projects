{
 "cells": [
  {
   "cell_type": "markdown",
   "metadata": {},
   "source": [
    "Название проекта: Анализ рынка заведений общественного питания г. Москва и рекомендации по потенциальному открытию кофейни."
   ]
  },
  {
   "cell_type": "markdown",
   "metadata": {},
   "source": [
    "Описание проекта: Инвесторы из фонда «Shut Up and Take My Money» решили попробовать себя в новой области и открыть заведение общественного питания в Москве. Заказчики ещё не знают, что это будет за место: кафе, ресторан, пиццерия, паб или бар, — и какими будут расположение, меню и цены.\n",
    "Для начала они просят вас — аналитика — подготовить исследование рынка Москвы, найти интересные особенности и презентовать полученные результаты, которые в будущем помогут в выборе подходящего инвесторам места."
   ]
  },
  {
   "cell_type": "markdown",
   "metadata": {},
   "source": [
    "Описание данных: \n",
    "Файл moscow_places.csv:\n",
    "name — название заведения;\n",
    "address — адрес заведения;\n",
    "category — категория заведения, например «кафе», «пиццерия» или «кофейня»;\n",
    "hours — информация о днях и часах работы;\n",
    "lat — широта географической точки, в которой находится заведение;\n",
    "lng — долгота географической точки, в которой находится заведение;\n",
    "rating — рейтинг заведения по оценкам пользователей в Яндекс Картах (высшая оценка — 5.0);\n",
    "price — категория цен в заведении, например «средние», «ниже среднего», «выше среднего» и так далее;\n",
    "avg_bill — строка, которая хранит среднюю стоимость заказа в виде диапазона, например:\n",
    "«Средний счёт: 1000–1500 ₽»;\n",
    "«Цена чашки капучино: 130–220 ₽»;\n",
    "«Цена бокала пива: 400–600 ₽».\n",
    "и так далее;\n",
    "middle_avg_bill — число с оценкой среднего чека, которое указано только для значений из столбца avg_bill, начинающихся с подстроки «Средний счёт»:\n",
    "Если в строке указан ценовой диапазон из двух значений, в столбец войдёт медиана этих двух значений.\n",
    "Если в строке указано одно число — цена без диапазона, то в столбец войдёт это число.\n",
    "Если значения нет или оно не начинается с подстроки «Средний счёт», то в столбец ничего не войдёт.\n",
    "middle_coffee_cup — число с оценкой одной чашки капучино, которое указано только для значений из столбца avg_bill, начинающихся с подстроки «Цена одной чашки капучино»:\n",
    "Если в строке указан ценовой диапазон из двух значений, в столбец войдёт медиана этих двух значений.\n",
    "Если в строке указано одно число — цена без диапазона, то в столбец войдёт это число.\n",
    "Если значения нет или оно не начинается с подстроки «Цена одной чашки капучино», то в столбец ничего не войдёт.\n",
    "chain — число, выраженное 0 или 1, которое показывает, является ли заведение сетевым (для маленьких сетей могут встречаться ошибки):\n",
    "0 — заведение не является сетевым\n",
    "1 — заведение является сетевым\n",
    "district — административный район, в котором находится заведение, например Центральный административный округ;\n",
    "seats — количество посадочных мест."
   ]
  },
  {
   "cell_type": "markdown",
   "metadata": {},
   "source": [
    "Цели работы:\n",
    "1) Узнать, Какие категории заведений представлены в данных?\n",
    "2) Исследуйте количество посадочных мест в местах по категориям? \n",
    "3) Рассмотреть и изобразить соотношение сетевых и несетевых заведений в датасете. Каких заведений больше?\n",
    "4) Какие категории заведений чаще являются сетевыми? \n",
    "5) Найти топ-15 популярных сетей в Москве. Под популярностью понимается количество заведений этой сети в регионе.\n",
    "6) Рассмотреть административные районы Москвы, присутствующие в датасете. Отобразить общее количество заведений и количество заведений каждой категории по районам.\n",
    "7) Визуализировать распределение средних рейтингов по категориям заведений. Сильно ли различаются усреднённые рейтинги в разных типах общепита?\n",
    "8) Построить фоновую картограмму (хороплет) со средним рейтингом заведений каждого района. Границы районов Москвы, которые встречаются в датасете, хранятся в файле admin_level_geomap.geojson\n",
    "9) Отобразить все заведения датасета на карте с помощью кластеров средствами библиотеки folium\n",
    "10) Найти топ-15 улиц по количеству заведений. Построить график распределения количества заведений и их категорий по этим улицам.\n",
    "11) Найти улицы, на которых находится только один объект общепита.\n",
    "12) Посчитать медиану столбца middle_avg_bill для каждого района. Используйте это значение в качестве ценового индикатора района. Постройте фоновую картограмму (хороплет) с полученными значениями для каждого района. Проанализируйте цены в центральном административном округе и других. Как удалённость от центра влияет на цены в заведениях?\n",
    "13) Посмотреть есть ли зависимость между рейтингом и средним чеком?\n",
    "14) Узнать медианный размер чека по категориям \n",
    "15) Детализируем исследование: открытие кофейни\n",
    "16) Подготовка презентации\n",
    "\n"
   ]
  },
  {
   "cell_type": "markdown",
   "metadata": {},
   "source": [
    "Содержание:\n",
    "1) Открыть файл с данными и изучить общую информацию\n",
    "2) Предобработка данных\n",
    "3) Анализ данных\n",
    "4) Детализируем исследование: открытие кофейни\n",
    "5) Презентация\n",
    "6) Итоги работы"
   ]
  },
  {
   "cell_type": "markdown",
   "metadata": {},
   "source": [
    "## Открыть файл с данными и изучить общую информацию."
   ]
  },
  {
   "cell_type": "code",
   "execution_count": null,
   "metadata": {},
   "outputs": [],
   "source": [
    "import pandas as pd\n",
    "import matplotlib.pyplot as plt\n",
    "import numpy as np\n",
    "import seaborn as sns\n",
    "import plotly.express as px\n",
    "from plotly import graph_objects as go\n",
    "import folium\n",
    "from folium import Map, Choropleth, Marker\n",
    "from folium.plugins import MarkerCluster\n",
    "from folium.features import CustomIcon\n",
    "import warnings\n",
    "warnings.filterwarnings(\"ignore\")"
   ]
  },
  {
   "cell_type": "markdown",
   "metadata": {},
   "source": [
    "Считываем данные из csv-файлов в датафреймы и сохраняем в переменные"
   ]
  },
  {
   "cell_type": "code",
   "execution_count": null,
   "metadata": {},
   "outputs": [],
   "source": [
    "path = 'C://Users//123ka//Desktop//Я. Практикум//модуль 3//спринт 1//datasets//'\n",
    "try:\n",
    "    df = pd.read_csv(path + 'moscow_places.csv')\n",
    "except:\n",
    "    df = pd.read_csv('https://code.s3.yandex.net/datasets/moscow_places.csv')"
   ]
  },
  {
   "cell_type": "markdown",
   "metadata": {},
   "source": [
    "Изучить общую информацию"
   ]
  },
  {
   "cell_type": "code",
   "execution_count": null,
   "metadata": {},
   "outputs": [],
   "source": [
    "df.head(5)"
   ]
  },
  {
   "cell_type": "code",
   "execution_count": null,
   "metadata": {},
   "outputs": [],
   "source": [
    "df.info()"
   ]
  },
  {
   "cell_type": "markdown",
   "metadata": {},
   "source": [
    "Посчитать количество уникальных названий заведений"
   ]
  },
  {
   "cell_type": "code",
   "execution_count": null,
   "metadata": {},
   "outputs": [],
   "source": [
    "\n",
    "df['name'].nunique()"
   ]
  },
  {
   "cell_type": "markdown",
   "metadata": {},
   "source": [
    "В датасете у нас 5512 уникальных названия заведений. Столбцы name, category, address, district, hours, price и avg_bill имеют подходящий тип данных object, так как они описывают информацию о заведении. Столбцы lat, lng, rating, middle_avg_bill, middle_coffee_cup имеют подходящий тип данных float, так как значения в этих столбцах выражаются рациональными числами. Столбец chain имеет подходящий тип данных int, так как выражается целыми чилами. Столбцу seats имеет тип данных float, но ему больше подходит int, т.к. количество сидяцих мест может быть только целым числом. Так же нужно будет перевести столбцы с названиями, адресом и средней стоимостью заказа в нижний регистр. В данных есть пропуски, что с ними делать-разберемся в следующей части."
   ]
  },
  {
   "cell_type": "markdown",
   "metadata": {},
   "source": [
    "## Предобработка данных"
   ]
  },
  {
   "cell_type": "markdown",
   "metadata": {},
   "source": [
    "Перевести столбцы с названиями, адресом и средней стоимостью заказа в нижний регистр"
   ]
  },
  {
   "cell_type": "code",
   "execution_count": null,
   "metadata": {},
   "outputs": [],
   "source": [
    "df['name'] = df['name'].str.lower()\n",
    "df['address'] = df['address'].str.lower()\n",
    "df['avg_bill'] = df['avg_bill'].str.lower()"
   ]
  },
  {
   "cell_type": "markdown",
   "metadata": {},
   "source": [
    "Проверить, что всё правильно перевелось"
   ]
  },
  {
   "cell_type": "code",
   "execution_count": null,
   "metadata": {
    "scrolled": true
   },
   "outputs": [],
   "source": [
    "df.head(5)"
   ]
  },
  {
   "cell_type": "markdown",
   "metadata": {},
   "source": [
    "Проверить на наличие явных дубликатов"
   ]
  },
  {
   "cell_type": "code",
   "execution_count": null,
   "metadata": {},
   "outputs": [],
   "source": [
    "df.duplicated().sum()"
   ]
  },
  {
   "cell_type": "markdown",
   "metadata": {},
   "source": [
    "Проверить на наличие не явных дубликатов"
   ]
  },
  {
   "cell_type": "markdown",
   "metadata": {},
   "source": [
    "Дубликатами будем считать совпадения в столбцах с названием и адресом"
   ]
  },
  {
   "cell_type": "code",
   "execution_count": null,
   "metadata": {},
   "outputs": [],
   "source": [
    "df.duplicated(subset = ['name', 'address']).sum()"
   ]
  },
  {
   "cell_type": "markdown",
   "metadata": {},
   "source": [
    "Удалить совпадения в столбцах с названием и адресом"
   ]
  },
  {
   "cell_type": "code",
   "execution_count": null,
   "metadata": {},
   "outputs": [],
   "source": [
    "df = df.drop_duplicates(subset = ['name', 'address'])"
   ]
  },
  {
   "cell_type": "markdown",
   "metadata": {},
   "source": [
    "Проверить, удалились ли совпадения в столбцах с названием и адресом"
   ]
  },
  {
   "cell_type": "code",
   "execution_count": null,
   "metadata": {
    "scrolled": true
   },
   "outputs": [],
   "source": [
    "df.duplicated(subset = ['name', 'address']).sum()"
   ]
  },
  {
   "cell_type": "code",
   "execution_count": null,
   "metadata": {},
   "outputs": [],
   "source": []
  },
  {
   "cell_type": "markdown",
   "metadata": {},
   "source": [
    "Посчитать пропуски"
   ]
  },
  {
   "cell_type": "code",
   "execution_count": null,
   "metadata": {},
   "outputs": [],
   "source": [
    "df.isna().sum()"
   ]
  },
  {
   "cell_type": "markdown",
   "metadata": {},
   "source": [
    "<div class=\"alert alert-info\">\n",
    "<b> Данная таблица не нуждается в сортировке. В примерах данных в Практикуме ранее, данная таблица не сортировалась ;)</b> \n",
    "</div>"
   ]
  },
  {
   "cell_type": "code",
   "execution_count": null,
   "metadata": {},
   "outputs": [],
   "source": [
    "df.shape\n"
   ]
  },
  {
   "cell_type": "markdown",
   "metadata": {},
   "source": [
    "Пропусков очень много, просто удалить их не получится, но заполнять их не корректно. Столбцы hours и seats содержат индивидуальную информацию о заведение. Ресурсов и возможностей восполнить её мы не имеем. Значения в столбце avg_bill распределены по столбцам middle_avg_bill и middle_coffee_cup. Для ответа на поставленные вопросы эти данные для нас не принципиальны, по этому принимаю решение оставить данные как есть."
   ]
  },
  {
   "cell_type": "markdown",
   "metadata": {},
   "source": [
    "Создать столбец street с названиями улиц из столбца с адресом"
   ]
  },
  {
   "cell_type": "code",
   "execution_count": null,
   "metadata": {},
   "outputs": [],
   "source": [
    "#отобрать значение между запяттыми методом split()\n",
    "df['street'] = df['address'].str.split(',').str[1]"
   ]
  },
  {
   "cell_type": "markdown",
   "metadata": {},
   "source": [
    "Создать столбец is_24/7 с обозначением, что заведение работает ежедневно и круглосуточно (24/7)"
   ]
  },
  {
   "cell_type": "code",
   "execution_count": null,
   "metadata": {},
   "outputs": [],
   "source": [
    "df['is_24_7'] = df['hours'] == 'ежедневно, круглосуточно'"
   ]
  },
  {
   "cell_type": "markdown",
   "metadata": {},
   "source": [
    "Проверить результат добавления столбцов"
   ]
  },
  {
   "cell_type": "code",
   "execution_count": null,
   "metadata": {},
   "outputs": [],
   "source": [
    "df.head(5)"
   ]
  },
  {
   "cell_type": "markdown",
   "metadata": {},
   "source": [
    "В процессе предобработки были переведены столбцы с названиями, адресом и средней стоимостью заказа в нижний регистр. Обнаружены и удалены не явные дубликаты в столбцах с названием и адресом. Рассмотрелы пропуски в данных и было принято решение оставить их без изменения. Так же были созданы столбцы street с названиями улиц из столбца с адресом, а так же is_24/7 с обозначением, что заведение работает ежедневно и круглосуточно (24/7)."
   ]
  },
  {
   "cell_type": "markdown",
   "metadata": {},
   "source": [
    "## Анализ данных"
   ]
  },
  {
   "cell_type": "markdown",
   "metadata": {},
   "source": [
    "###  Исследовать количество объектов общественного питания по категориям: рестораны, кофейни, пиццерии, бары и так далее. Построим визуализации."
   ]
  },
  {
   "cell_type": "code",
   "execution_count": null,
   "metadata": {},
   "outputs": [],
   "source": [
    "category_count = df.pivot_table(index = 'category', values = 'name', aggfunc = 'count')\\\n",
    ".sort_values(by = 'name', ascending = False)\n",
    "category_count.plot(kind = 'bar', figsize=(9, 6))\n",
    "plt.title('Распределение заведений по категориям')\n",
    "plt.ylabel('Количество заведений')\n",
    "plt.xlabel('Категории')\n",
    "plt.xticks(rotation = 45)\n",
    "plt.grid()\n",
    "plt.show()"
   ]
  },
  {
   "cell_type": "markdown",
   "metadata": {},
   "source": [
    "Больше всего в Москве объектов общественного питания категории \"кафе\". На втором месте - \"рестораны\", на третьем - \"кофейни\". Категория - \"булочная\" самая малочисленная."
   ]
  },
  {
   "cell_type": "markdown",
   "metadata": {},
   "source": [
    "### Исследовать количество посадочных мест в местах по категориям: рестораны, кофейни, пиццерии, бары и так далее. Построить визуализации. Проанализировать результаты и сделать выводы"
   ]
  },
  {
   "cell_type": "markdown",
   "metadata": {},
   "source": [
    "Кол-во посадочных мест посчитаем по медианному значению"
   ]
  },
  {
   "cell_type": "code",
   "execution_count": null,
   "metadata": {},
   "outputs": [],
   "source": [
    "df.pivot_table(index = 'category', values = 'seats', aggfunc = 'median').sort_values(by = 'seats', ascending = False).plot(kind = 'bar', figsize=(10, 7))\n",
    "plt.title('График количества сидячих мест по категириям')\n",
    "plt.ylabel('Медианное количество сидячих мест')\n",
    "plt.xlabel('Категории')\n",
    "plt.xticks(rotation = 45)\n",
    "plt.grid()\n",
    "plt.show()"
   ]
  },
  {
   "cell_type": "markdown",
   "metadata": {},
   "source": [
    "Наибольшее медианное количество посадочных мест - в ресторанах, барах и кофейнях (80-90). Меньше всего - в булочных (50). Медианное количество посадочных мест в приниципе по категориям находится в диапазоне от 50 до 90. "
   ]
  },
  {
   "cell_type": "markdown",
   "metadata": {},
   "source": [
    "### Рассмотреть и изобразить соотношение сетевых и несетевых заведений в датасете. Каких заведений больше?"
   ]
  },
  {
   "cell_type": "code",
   "execution_count": null,
   "metadata": {},
   "outputs": [],
   "source": [
    "chain = df.pivot_table(index = 'chain', values = 'name', aggfunc = 'count').sort_values(by = 'name', ascending = False).reset_index()\n",
    "chain.columns = ['chain', 'count']\n",
    "fig = go.Figure(data=[go.Pie(labels=chain['chain'], values=chain['count'])])\n",
    "fig.update_layout(title='Соотношение \"сетевых\" и \"несетевых\" заведений')\n",
    "fig.show()"
   ]
  },
  {
   "cell_type": "markdown",
   "metadata": {},
   "source": [
    "0 - несетевые. 1 - сетевые. Большая часть заведений общественного питания - несетевые (62 %), сетевых заведений 38 %."
   ]
  },
  {
   "cell_type": "markdown",
   "metadata": {},
   "source": [
    "### Какие категории заведений чаще являются сетевыми? Исследуйте данные и ответьте на вопрос графиком."
   ]
  },
  {
   "cell_type": "markdown",
   "metadata": {},
   "source": [
    "Посчитать долю сетевых заведений по категориям и сохранить в переменную share_by_category"
   ]
  },
  {
   "cell_type": "code",
   "execution_count": null,
   "metadata": {},
   "outputs": [],
   "source": [
    "share_by_category = df.groupby('category')\\\n",
    "      .agg({'chain': 'mean'})\\\n",
    "      .sort_values(by='chain', ascending=False)\\\n",
    "      .reset_index()\n",
    "\n",
    "share_by_category['chain'] = round(share_by_category['chain'],2)      \n",
    "share_by_category   "
   ]
  },
  {
   "cell_type": "code",
   "execution_count": null,
   "metadata": {},
   "outputs": [],
   "source": [
    "fig = px.bar(share_by_category, x='category', y='chain', color='chain', text ='chain')\n",
    "fig.update_layout(title='Доля сетевых заведений по категориям',\n",
    "                  xaxis_title=\"Категории\",\n",
    "                  yaxis_title=\"Доля сетевых заведений\")\n",
    "                  \n",
    "fig.show()"
   ]
  },
  {
   "cell_type": "markdown",
   "metadata": {},
   "source": [
    "Чаще всего являются сетевыми булочные - 61%, пиццерий и кофеин - сетевых и несетевых примерно поровну; заведения быстрого питания, рестораны, кафе, столовые, бары, пабы - чаще являются несетевыми."
   ]
  },
  {
   "cell_type": "markdown",
   "metadata": {},
   "source": [
    "### Сгруппировать данные по названиям заведений и найдите топ-15 популярных сетей в Москве. Под популярностью понимается количество заведений этой сети в регионе. Постройте подходящую для такой информации визуализацию. Знакомы ли вам эти сети? Есть ли какой-то признак, который их объединяет? К какой категории заведений они относятся?"
   ]
  },
  {
   "cell_type": "markdown",
   "metadata": {},
   "source": [
    "Получить топ-15 популярных сетей (по количеству заведений) и сохранить в переменную top_15."
   ]
  },
  {
   "cell_type": "code",
   "execution_count": null,
   "metadata": {},
   "outputs": [],
   "source": [
    "top_15 = df.query('chain == 1').groupby(['name', 'category'], as_index = False)['lat']\\\n",
    "  .count().sort_values(by='lat', ascending=False).head(15)\n",
    "top_15"
   ]
  },
  {
   "cell_type": "code",
   "execution_count": null,
   "metadata": {},
   "outputs": [],
   "source": [
    "# используем стиль dark из библиотеки seaborn\n",
    "sns.set_style('darkgrid')\n",
    "# назначаем размер графика\n",
    "plt.figure(figsize=(10, 6))\n",
    "# строим столбчатый график средствами seaborn\n",
    "sns.barplot(x='lat', y='name', data=top_15, hue='category')\n",
    "# формируем заголовок графика и подписи осей средствами matplotlib\n",
    "plt.title('Топ-15 популярных сетей в Москве')\n",
    "plt.xlabel('Количество заведений одной сети')\n",
    "plt.ylabel('Название')\n",
    "# выбираем положение легенды и указываем размер шрифта\n",
    "plt.legend(loc='lower right', fontsize=12)\n",
    "# добавляем сетку\n",
    "plt.grid()\n",
    "# отображаем график на экране\n",
    "plt.show()"
   ]
  },
  {
   "cell_type": "code",
   "execution_count": null,
   "metadata": {},
   "outputs": [],
   "source": []
  },
  {
   "cell_type": "markdown",
   "metadata": {},
   "source": [
    "Кофейня Шоколадница (120 заведений в регионе) является явным лидером среди сетей. Больше всего заведений сети принадлежит категории кофейня. Шоколадница, так же как и прочие заведения, на слуху у большинства людей."
   ]
  },
  {
   "cell_type": "markdown",
   "metadata": {},
   "source": [
    "### Какие административные районы Москвы присутствуют в датасете? Отобразите общее количество заведений и количество заведений каждой категории по районам. Попробуйте проиллюстрировать эту информацию одним графиком."
   ]
  },
  {
   "cell_type": "markdown",
   "metadata": {},
   "source": [
    "Построить распределение заведений по административным районам без разделения по категориям"
   ]
  },
  {
   "cell_type": "code",
   "execution_count": null,
   "metadata": {},
   "outputs": [],
   "source": [
    "district = df.pivot_table(index = 'district', values = 'name', aggfunc = 'count')\\\n",
    ".sort_values(by = 'name', ascending = False).reset_index()\n",
    "district"
   ]
  },
  {
   "cell_type": "code",
   "execution_count": null,
   "metadata": {},
   "outputs": [],
   "source": []
  },
  {
   "cell_type": "markdown",
   "metadata": {},
   "source": [
    "Визуализировать с учётом разделения на категории"
   ]
  },
  {
   "cell_type": "code",
   "execution_count": null,
   "metadata": {},
   "outputs": [],
   "source": [
    "district_per_category = df.groupby(['district', 'category']).agg(count=('category', 'count')).reset_index()\n",
    "fig = px.bar(district_per_category.sort_values(by='count', ascending=False), \n",
    "             x='district', \n",
    "             y='count', \n",
    "             color='category')\n",
    "fig.update_layout(title='Количество заведений каждой категории по районам',\n",
    "                  xaxis_title='Район',\n",
    "                  yaxis_title='Количество заведений',\n",
    "                  height=800,\n",
    "                  width=1000,\n",
    "                  xaxis={'categoryorder':'total descending'})\n",
    "fig.show()"
   ]
  },
  {
   "cell_type": "markdown",
   "metadata": {},
   "source": [
    "Больше всего заведений находится в Центральном административном округе. В прочих округах кол-во примерно в 3 раза ниже. Северо-Западном округе имеет меньше всего точек общественного питания.\n",
    "В Центральном администативном округе большую часть заведений составляют рестораны, затем следуют кафе, кофейни и бары. В других округах большую часть заведений составляют кафе. "
   ]
  },
  {
   "cell_type": "markdown",
   "metadata": {},
   "source": [
    "### Визуализировать распределение средних рейтингов по категориям заведений. Сильно ли различаются усреднённые рейтинги в разных типах общепита?"
   ]
  },
  {
   "cell_type": "code",
   "execution_count": null,
   "metadata": {},
   "outputs": [],
   "source": [
    "ratings = df.groupby('category').agg(mean_rating=('rating','mean')).sort_values(by='mean_rating',ascending=False).reset_index()\n",
    "plt.figure(figsize=(10, 6))\n",
    "sns.barplot(x='category', y='mean_rating', data=ratings) \n",
    "plt.title('Средний рейтинг заведений по категориям')\n",
    "plt.xlabel('Категория')\n",
    "plt.ylabel('Средний рейтинг')\n",
    "plt.xticks(rotation=45)\n",
    "plt.ylim(3.8, 4.5)\n",
    "plt.grid()\n",
    "plt.show()"
   ]
  },
  {
   "cell_type": "markdown",
   "metadata": {},
   "source": [
    "Категория заведений \"бар, паб\"(около 4.4) занимает первое место. На втором месте пиццерии(около 4.3). На третьем месте рестораны(чуть ниже 4.3). Худший рейтинг у заведений быстрого питания(примерно 4.05)."
   ]
  },
  {
   "cell_type": "markdown",
   "metadata": {},
   "source": [
    "### Построить фоновую картограмму (хороплет) со средним рейтингом заведений каждого района."
   ]
  },
  {
   "cell_type": "markdown",
   "metadata": {},
   "source": [
    "Создать таблицу с округами и средним рейтингом заведений по районам"
   ]
  },
  {
   "cell_type": "code",
   "execution_count": null,
   "metadata": {},
   "outputs": [],
   "source": [
    "district_ratings = df.groupby('district').agg(mean_rating=('rating', 'mean')).\\\n",
    "sort_values(by='mean_rating', ascending=False).reset_index()\n",
    "district_ratings"
   ]
  },
  {
   "cell_type": "markdown",
   "metadata": {},
   "source": [
    "Загрузить JSON-файл с границами округов Москвы"
   ]
  },
  {
   "cell_type": "code",
   "execution_count": null,
   "metadata": {},
   "outputs": [],
   "source": [
    "try:\n",
    "    state_geo = 'https://code.s3.yandex.net/data-analyst/admin_level_geomap.geojson'\n",
    "except:\n",
    "    state_geo = '/datasets/admin_level_geomap.geojson'\n",
    "    \n",
    "# moscow_lat - широта центра Москвы, moscow_lng - долгота центра Москвы\n",
    "moscow_lat, moscow_lng = 55.751244, 37.618423\n",
    "\n",
    "# создаём карту Москвы\n",
    "m = Map(location=[moscow_lat, moscow_lng], zoom_start=10)\n",
    "\n",
    "# создаём хороплет с помощью конструктора Choropleth и добавляем его на карту\n",
    "Choropleth(\n",
    "    geo_data=state_geo,\n",
    "    data=district_ratings,\n",
    "    columns=['district', 'mean_rating'],\n",
    "    key_on='feature.name',\n",
    "    fill_color='YlGn',\n",
    "    fill_opacity=0.5,\n",
    "    legend_name='Медианный рейтинг заведений по районам',\n",
    ").add_to(m)\n",
    "\n",
    "# выводим карту\n",
    "m"
   ]
  },
  {
   "cell_type": "markdown",
   "metadata": {},
   "source": [
    "Самый высокий средний рейтинг - у заведений Центрального административного округа (около 4.38). Самые низкие средние рейтинги - у Юго-Восточного административных округов (4.1). У заведений остальных округов средний рейтинг в диапазоне от 4.14 до 4.24"
   ]
  },
  {
   "cell_type": "markdown",
   "metadata": {},
   "source": [
    "### Отобразите все заведения датасета на карте с помощью кластеров средствами библиотеки folium."
   ]
  },
  {
   "cell_type": "code",
   "execution_count": null,
   "metadata": {},
   "outputs": [],
   "source": [
    "# создаём карту Москвы\n",
    "m = Map(location=[moscow_lat, moscow_lng], zoom_start=10)\n",
    "# создаём пустой кластер, добавляем его на карту\n",
    "marker_cluster = MarkerCluster().add_to(m)\n",
    "\n",
    "# пишем функцию, которая принимает строку датафрейма,\n",
    "# создаёт маркер в текущей точке и добавляет его в кластер marker_cluster\n",
    "def create_clusters(row):\n",
    "    Marker(\n",
    "        [row['lat'], row['lng']],\n",
    "        popup=f\"{row['name']} {row['rating']}\",\n",
    "    ).add_to(marker_cluster)\n",
    "\n",
    "# применяем функцию create_clusters() к каждой строке датафрейма\n",
    "df.apply(create_clusters, axis=1)\n",
    "\n",
    "# выводим карту\n",
    "m"
   ]
  },
  {
   "cell_type": "markdown",
   "metadata": {},
   "source": [
    "### Найти топ-15 улиц по количеству заведений. Построить график распределения количества заведений и их категорий по этим улицам."
   ]
  },
  {
   "cell_type": "markdown",
   "metadata": {},
   "source": [
    "Найти топ 15 улиц по количеству заведений без деления по категориям"
   ]
  },
  {
   "cell_type": "code",
   "execution_count": null,
   "metadata": {},
   "outputs": [],
   "source": [
    "top_street = df.pivot_table(index = 'street', values = 'name', aggfunc = 'count')\\\n",
    ".sort_values(by = 'name', ascending = False).reset_index().head(15)\n",
    "top_street"
   ]
  },
  {
   "cell_type": "markdown",
   "metadata": {},
   "source": [
    "Записать топ улицы в переменную street"
   ]
  },
  {
   "cell_type": "code",
   "execution_count": null,
   "metadata": {},
   "outputs": [],
   "source": [
    "street = top_street['street']\n",
    "#теперь можно делить на категории\n",
    "street_per_category = df.query(\"street in @street\").groupby(['street', 'category'])\\\n",
    ".agg(count=('category', 'count')).reset_index()\n",
    "fig = px.bar(street_per_category.sort_values(by='count', ascending=False), \n",
    "             x='street', \n",
    "             y='count', \n",
    "             color='category')\n",
    "fig.update_layout(title='Количество заведений каждой категории по районам',\n",
    "                  xaxis_title='Район',\n",
    "                  yaxis_title='Количество заведений',\n",
    "                  height=800,\n",
    "                  width=1000,\n",
    "                  xaxis={'categoryorder':'total descending'})\n",
    "fig.show()"
   ]
  },
  {
   "cell_type": "markdown",
   "metadata": {},
   "source": [
    "Пр-к Мира явно лидирует по кол-ву заведений (более 180). На этой улице самые популярные категории - кафе, рестораны, кофейни. Последняя в топе - Пятницкая улица (48 заведений). В целом, категория кафе и рестораны на 15 самых популярных улицах практически равны. На МКАД категория кафе явно доминирует. Скорей всего люди на этой улице проездом, и их задача быстро поесть. По этому данный формат заведений там так популярен."
   ]
  },
  {
   "cell_type": "markdown",
   "metadata": {},
   "source": [
    "### Найти улицы, на которых находится только один объект общепита. Что можно сказать об этих заведениях?"
   ]
  },
  {
   "cell_type": "code",
   "execution_count": null,
   "metadata": {},
   "outputs": [],
   "source": [
    "street_one_place = df.pivot_table(index = 'street', values = 'name', aggfunc = 'count').query(\"name == 1\").reset_index()\n",
    "onlyone_street = street_one_place['street']\n",
    "df_onlyone_street = df.query(\"street in @onlyone_street\")\n",
    "df_onlyone_street.head(5)"
   ]
  },
  {
   "cell_type": "code",
   "execution_count": null,
   "metadata": {},
   "outputs": [],
   "source": [
    "df_onlyone_street.shape"
   ]
  },
  {
   "cell_type": "markdown",
   "metadata": {},
   "source": [
    "Всего 457 заведений. "
   ]
  },
  {
   "cell_type": "markdown",
   "metadata": {},
   "source": [
    "Посмотрим, как они распределены по категориям"
   ]
  },
  {
   "cell_type": "code",
   "execution_count": null,
   "metadata": {},
   "outputs": [],
   "source": [
    "df_onlyone_street.pivot_table(index = 'category', values = 'name', aggfunc = 'count')\\\n",
    ".sort_values(by = 'name', ascending = False).plot(kind = 'bar', figsize=(10, 7))\n",
    "plt.title('Распределение заведений по категориям')\n",
    "plt.ylabel('Количество заведений')\n",
    "plt.xlabel('Категории')\n",
    "plt.xticks(rotation = 45)\n",
    "plt.grid()\n",
    "plt.show()"
   ]
  },
  {
   "cell_type": "markdown",
   "metadata": {},
   "source": [
    "Категория кафе в явных лидерах. В отличие от общего среза, рестораны и прочие категории значительно отстают. Категория булочная на последнем месте."
   ]
  },
  {
   "cell_type": "markdown",
   "metadata": {},
   "source": [
    "Посмотрим, какое распределение таких заведений по районам."
   ]
  },
  {
   "cell_type": "code",
   "execution_count": null,
   "metadata": {},
   "outputs": [],
   "source": [
    "district_onlyone = df_onlyone_street.pivot_table(index = 'district', values = 'name', aggfunc = 'count')\\\n",
    ".sort_values(by = 'name', ascending = False).reset_index()\n",
    "plt.figure(figsize=(10, 6))\n",
    "sns.barplot(x = 'district', y = 'name', data = district_onlyone)\n",
    "plt.title('Распределение заведений по административным районам')\n",
    "plt.xlabel('Административный район')\n",
    "plt.ylabel('Количество заведений')\n",
    "plt.xticks(rotation = 90)\n",
    "plt.show()"
   ]
  },
  {
   "cell_type": "markdown",
   "metadata": {},
   "source": [
    "Лидирует, как и в целом, Центральном административном округе. А вот последнее место занимает тут уже Юго-Западный административный округ, а Северо-Западный административный округ тут на втором месте (По всем заведениям было наоборот-последним был по кол-ву заведений был Северо-Западный административный округ)"
   ]
  },
  {
   "cell_type": "markdown",
   "metadata": {},
   "source": [
    "Узнать, какое соотношение сетевых и не сетевых заведений"
   ]
  },
  {
   "cell_type": "code",
   "execution_count": null,
   "metadata": {},
   "outputs": [],
   "source": [
    "chain_onlyone = df.pivot_table(index = 'chain', values = 'name', aggfunc = 'count')\\\n",
    ".sort_values(by = 'name', ascending = False).reset_index()\n",
    "chain_onlyone.columns = ['chain', 'count']\n",
    "fig = go.Figure(data=[go.Pie(labels=chain_onlyone['chain'], values=chain_onlyone['count'])])\n",
    "fig.update_layout(title='Соотношение \"сетевых\" и \"несетевых\" заведений')\n",
    "fig.show()"
   ]
  },
  {
   "cell_type": "markdown",
   "metadata": {},
   "source": [
    "Пропорции по сравнению с общим распределением не изменились (38.1% и 61.9% для не сетевых и сетевых заведений соответственно)"
   ]
  },
  {
   "cell_type": "markdown",
   "metadata": {},
   "source": [
    "Визуализировать с учётом разделения на категории и округа на одном графике. "
   ]
  },
  {
   "cell_type": "code",
   "execution_count": null,
   "metadata": {},
   "outputs": [],
   "source": [
    "district_per_category = df_onlyone_street.groupby(['district', 'category']).agg(count=('category', 'count')).reset_index()\n",
    "fig = px.bar(district_per_category.sort_values(by='count', ascending=False), \n",
    "             x='district', \n",
    "             y='count', \n",
    "             color='category')\n",
    "fig.update_layout(title='Количество заведений каждой категории по районам',\n",
    "                  xaxis_title='Район',\n",
    "                  yaxis_title='Количество заведений',\n",
    "                  height=800,\n",
    "                  width=1000,\n",
    "                  xaxis={'categoryorder':'total descending'})\n",
    "fig.show()"
   ]
  },
  {
   "cell_type": "markdown",
   "metadata": {},
   "source": [
    "В целом, про заведения которые находятся на улице в единственном числе можно сказать следующее:\n",
    "- Всего таких 457 штук\n",
    "- Категория кафе в явных лидерах. В отличие от общего среза, рестораны и прочие категории значительно отстают. Категория булочная на последнем месте\n",
    "- Лидирует, как и в целом, Центральном административном округе. А вот последнее место занимает тут уже Юго-Западный административный округ, а Северо-Западный административный округ тут на втором месте (По всем заведениям было наоборот-последним был по кол-ву заведений был Северо-Западный административный округ)\n",
    "- Пропорции по сравнению с общим распределением не изменились (38.1% и 61.9% для не сетевых и сетевых заведений соответственно)"
   ]
  },
  {
   "cell_type": "markdown",
   "metadata": {},
   "source": [
    "### Посчитать медиану столбца middle_avg_bill для каждого района. Используйте это значение в качестве ценового индикатора района. Постройте фоновую картограмму (хороплет) с полученными значениями для каждого района. Проанализируйте цены в центральном административном округе и других. Как удалённость от центра влияет на цены в заведениях?"
   ]
  },
  {
   "cell_type": "code",
   "execution_count": null,
   "metadata": {},
   "outputs": [],
   "source": [
    "district_median_middle_avg_bill = df.groupby('district').agg(median_middle_avg_bill=('middle_avg_bill', 'median'))\\\n",
    ".sort_values(by='median_middle_avg_bill', ascending=False).reset_index()\n",
    "district_median_middle_avg_bill"
   ]
  },
  {
   "cell_type": "code",
   "execution_count": null,
   "metadata": {},
   "outputs": [],
   "source": [
    "# создаём карту Москвы\n",
    "m = Map(location=[moscow_lat, moscow_lng], zoom_start=10)\n",
    "\n",
    "# создаём хороплет с помощью конструктора Choropleth и добавляем его на карту\n",
    "Choropleth(\n",
    "    geo_data=state_geo,\n",
    "    data=district_median_middle_avg_bill,\n",
    "    columns=['district', 'median_middle_avg_bill'],\n",
    "    key_on='feature.name',\n",
    "    fill_color='YlGn',\n",
    "    fill_opacity=0.8,\n",
    "    legend_name='Медианный средний чек заведений по районам',\n",
    ").add_to(m)\n",
    "\n",
    "# выводим карту\n",
    "m"
   ]
  },
  {
   "cell_type": "code",
   "execution_count": null,
   "metadata": {},
   "outputs": [],
   "source": []
  },
  {
   "cell_type": "markdown",
   "metadata": {},
   "source": [
    "Самые высокие средние(медианный) чеки в Центральном и Западном административных округах (1000 руб.), самый низкий - в Юго-Восточном административном округе (450 руб.). В остальных округах средние чеки находится в диапазоне от 500 до 700 руб. В целом, удаленность от центра влияет на средний чек, но не всегда"
   ]
  },
  {
   "cell_type": "markdown",
   "metadata": {},
   "source": [
    "### Посмотреть есть ли зависимость между рейтингом и средним чеком"
   ]
  },
  {
   "cell_type": "code",
   "execution_count": null,
   "metadata": {},
   "outputs": [],
   "source": [
    "df['rating'].describe()"
   ]
  },
  {
   "cell_type": "code",
   "execution_count": null,
   "metadata": {},
   "outputs": [],
   "source": [
    "df.plot(x='rating', y='middle_avg_bill', kind='scatter', title='Зависимость между рейтингом и средним чеком',\n",
    "        ylim=(0, 5000))\n",
    "plt.xlabel('Рейтинг')\n",
    "plt.ylabel('Средний чек')\n",
    "plt.show()"
   ]
  },
  {
   "cell_type": "markdown",
   "metadata": {},
   "source": [
    "1) Зависимостей между рейтингом и средним чеком найти не удалось\n",
    "2) Большая часть посетителей ставит высокие оценки. Средняя оценка 4.23 и только четверть посетителей поставили оценку рейтинга менее 4.1 баллов"
   ]
  },
  {
   "cell_type": "markdown",
   "metadata": {},
   "source": [
    "### Узнать медианный размер чека по категориям"
   ]
  },
  {
   "cell_type": "markdown",
   "metadata": {},
   "source": [
    "Посмотреть взаимосвязь среднего чека и распределения по категориям заведений. Для более лучшей оценки воспользуемся всё таки средним значением чека, а медианой."
   ]
  },
  {
   "cell_type": "code",
   "execution_count": null,
   "metadata": {},
   "outputs": [],
   "source": [
    "df.groupby(['category'])['middle_avg_bill'].median().reset_index().sort_values(by='middle_avg_bill',ascending=False)"
   ]
  },
  {
   "cell_type": "markdown",
   "metadata": {},
   "source": [
    "Медианный размер чека по категориям самый высокий в барах, и ресторанах. Самый низкий в столовых. Отрыв первых двух категорий от всех прочих значителен (в два раза). Скорей всего, причина кроется в употребление алкоголя в первых двух категориях заведений, а так же, ресторан, бар ходят провести время в определённой атмосфере и общий ценник меню скорее всего там выше. "
   ]
  },
  {
   "cell_type": "markdown",
   "metadata": {},
   "source": [
    "### Вывод"
   ]
  },
  {
   "cell_type": "markdown",
   "metadata": {},
   "source": [
    "- Всего 8402 заведения. \n",
    "- Больше всего в Москве объектов общественного питания категории \"кафе\". На втором месте - \"рестораны\", на третьем - \"кофейни\". Категория - \"булочная\" самая малочисленная. \n",
    "- Наибольшее медианное количество посадочных мест - в ресторанах, барах и кофейнях (80-90). Меньше всего - в булочных (50). \n",
    "- Медианное количество посадочных мест в приниципе по категориям находится в диапазоне от 50 до 90. \n",
    "- Большая часть заведений общественного питания - несетевые (62 %), сетевых заведений 38 %. \n",
    "- Чаще всего являются сетевыми булочные - 61%, пиццерий и кофеин - сетевых и несетевых примерно поровну; заведения быстрого питания, рестораны, кафе, столовые, бары, пабы - чаще являются несетевыми. \n",
    "- Кофейня Шоколадница (120 заведений в регионе) является явным лидером среди сетей. Больше всего заведений сети принадлежит категории кофейня. Шоколадница, так же как и прочие заведения, на слуху у большинства людей. \n",
    "- Всего мы рассматриваем 9 округов: Центральный,  Северный, Южный, Северо-Восточный, Западный, Восточный, Юго-Восточный, Юго-Западный, Северо-Западный. Больше всего заведений находится в Центральном административном округе. В прочих округах кол-во примерно в 3 раза ниже. \n",
    "- Северо-Западном округе имеет меньше всего точек общественного питания. В Центральном администативном округе большую часть заведений составляют рестораны, затем следуют кафе, кофейни и бары. В других округах большую часть заведений составляют кафе. \n",
    "- Категория заведений \"бар, паб\"(около 4.4) занимает первое место. На втором месте пиццерии(около 4.3). На третьем месте рестораны(чуть ниже 4.3). Худший рейтинг у заведений быстрого питания(примерно 4.05). \n",
    "- Самый высокий средний рейтинг - у заведений Центрального административного округа (около 4.38). Самые низкие средние рейтинги у Юго-Восточного административных округов (4.1). У заведений остальных округов средний рейтинг в диапазоне от 4.14 до 4.24. \n",
    "- Пр-к Мира явно лидирует по кол-ву заведений (более 180). На этой улице самые популярные категории - кафе, рестораны, кофейни. Последняя в топе - Пятницкая улица (48 заведений). В целом, категория кафе и рестораны на 15 самых популярных улицах практически равны. На МКАД категория кафе явно доминирует. Скорей всего люди на этой улице проездом, и их задача быстро поесть. По этому данный формат заведений там так популярен.\n",
    "- В целом, про заведения которые находятся на улице в единственном числе можно сказать следующее: \n",
    "Всего таких 457 штук\n",
    "Категория кафе в явных лидерах. В отличие от общего среза, рестораны и прочие категории значительно отстают. Категория булочная на последнем месте\n",
    "Лидирует, как и в целом, Центральном административном округе. А вот последнее место занимает тут уже Юго-Западный административный округ, а Северо-Западный административный округ тут на втором месте (По всем заведениям было наоборот-последним был по кол-ву заведений был Северо-Западный административный округ)\n",
    "Пропорции по сравнению с общим распределением не изменились (38.1% и 61.9% для не сетевых и сетевых заведений соответственно)\n",
    "​\n",
    "- Самые высокие средние(медианный) чеки в Центральном и Западном административных округах (1000 руб.), самый низкий - в Юго-Восточном административном округе (450 руб.). В остальных округах средние чеки находится в диапазоне от 500 до 700 руб. В целом, удаленность от центра влияет на средний чек, но не всегда.\n",
    "- Во время анализа зависимостей между рейтингом и средним чеком найти не удалось 2) Большая часть посетителей ставит высокие оценки. Средняя оценка 4.23 и только четверть посетителей поставили оценку рейтинга менее 4.1 баллов. \n",
    "- Медианный размер чека по категориям самый высокий в барах, и ресторанах. Самый низкий в столовых. Отрыв первых двух категорий от всех прочих значителен (в два раза). Скорей всего, причина кроется в употребление алкоголя в первых двух категориях заведений, а так же, ресторан, бар ходят провести время в определённой атмосфере и общий ценник меню скорее всего там выше.\n",
    "- Зависимостей между рейтингом и средним чеком найти не удалось\n",
    "- Большая часть посетителей ставит высокие оценки. Средняя оценка 4.23 и только четверть посетителей поставили оценку рейтинга менее 4.1 баллов\n",
    "- Медианный размер чека по категориям самый высокий в барах, и ресторанах. Самый низкий в столовых. Отрыв первых двух категорий от всех прочих значителен (в два раза). Скорей всего, причина кроется в употребление алкоголя в первых двух категориях заведений, а так же, ресторан, бар ходят провести время в определённой атмосфере и общий ценник меню скорее всего там выше."
   ]
  },
  {
   "cell_type": "markdown",
   "metadata": {},
   "source": [
    "## Детализируем исследование: открытие кофейни"
   ]
  },
  {
   "cell_type": "markdown",
   "metadata": {},
   "source": [
    "Ответьте на следующие вопросы:\n",
    "\n",
    "1) Сколько всего кофеен в датасете?\n",
    "2) В каких районах их больше всего, каковы особенности их расположения?\n",
    "3) Есть ли круглосуточные кофейни?\n",
    "4) Как круглосуточные кофейни распределены по районам?\n",
    "5) Какие у кофеен рейтинги? Как они распределяются по районам?\n",
    "6) На какую стоимость чашки капучино стоит ориентироваться при открытии и почему?"
   ]
  },
  {
   "cell_type": "markdown",
   "metadata": {},
   "source": [
    "Количество кофеен в датасете"
   ]
  },
  {
   "cell_type": "code",
   "execution_count": null,
   "metadata": {},
   "outputs": [],
   "source": [
    "df_coffeehouse = df[df['category'] == 'кофейня']\n",
    "df_coffeehouse.count()[0]"
   ]
  },
  {
   "cell_type": "markdown",
   "metadata": {},
   "source": [
    "В датасете всего 1413 кофеен."
   ]
  },
  {
   "cell_type": "markdown",
   "metadata": {},
   "source": [
    "В каких районах их больше всего, каковы особенности их расположения?"
   ]
  },
  {
   "cell_type": "code",
   "execution_count": null,
   "metadata": {},
   "outputs": [],
   "source": [
    "coffee_house = df.query('category== \"кофейня\"').groupby('district')['name'].count().reset_index()\\\n",
    ".sort_values(by='name',ascending=False)\n",
    "coffee_house"
   ]
  },
  {
   "cell_type": "markdown",
   "metadata": {},
   "source": [
    "Больше всего в Центральный административный округ находится 428 кофеен. В прочих районах кофеен значительно меньше. Самое малое кол-во наблюдается в Северо-Западный административный округ - 62."
   ]
  },
  {
   "cell_type": "markdown",
   "metadata": {},
   "source": [
    "Построим график, что бы визуально лучше представлять, сколько кофеен в каком округе. "
   ]
  },
  {
   "cell_type": "code",
   "execution_count": null,
   "metadata": {},
   "outputs": [],
   "source": [
    "coffee_house_plt = df_coffeehouse.pivot_table(index = 'district', values = 'name', aggfunc = 'count')\\\n",
    ".sort_values(by = 'name', ascending = False)\n",
    "coffee_house_plt.plot(kind = 'bar', figsize=(10, 6))\n",
    "plt.title('Распределение кофеен по районам')\n",
    "plt.ylabel('Количество заведений')\n",
    "plt.xlabel('Районы')\n",
    "plt.xticks(rotation = 90)\n",
    "plt.grid()\n",
    "plt.show()"
   ]
  },
  {
   "cell_type": "markdown",
   "metadata": {},
   "source": [
    "Есть ли круглосуточные кофейни?"
   ]
  },
  {
   "cell_type": "code",
   "execution_count": null,
   "metadata": {},
   "outputs": [],
   "source": [
    "coffeehouse_24_7 = df_coffeehouse[df_coffeehouse['is_24_7'] == True]\n",
    "coffeehouse_24_7.count()[0]"
   ]
  },
  {
   "cell_type": "markdown",
   "metadata": {},
   "source": [
    "Всего обнаружено 59 кофеен"
   ]
  },
  {
   "cell_type": "markdown",
   "metadata": {},
   "source": [
    "Как круглосуточные кофейни распределены по районам?"
   ]
  },
  {
   "cell_type": "code",
   "execution_count": null,
   "metadata": {},
   "outputs": [],
   "source": [
    "coffeehouse_24_7_plt = coffeehouse_24_7.pivot_table(index = 'district', values = 'name', aggfunc = 'count')\\\n",
    ".sort_values(by = 'name', ascending = False)\n",
    "coffeehouse_24_7_plt"
   ]
  },
  {
   "cell_type": "markdown",
   "metadata": {},
   "source": [
    "В центральном округе больше всего кофеен работает круглосуточно - 26, на втором месте Западный АО. Юго-Восточный и Южный административный округ\tменьше всего - по одному."
   ]
  },
  {
   "cell_type": "markdown",
   "metadata": {},
   "source": [
    "Построим график, что бы визуально лучше представлять, сколько кофеен в каком округе работает круглосуточно."
   ]
  },
  {
   "cell_type": "code",
   "execution_count": null,
   "metadata": {},
   "outputs": [],
   "source": [
    "coffeehouse_24_7_plt.plot(kind = 'bar', figsize=(10, 6))\n",
    "plt.title('Распределение кофеен по районам')\n",
    "plt.ylabel('Количество заведений')\n",
    "plt.xlabel('Районы')\n",
    "plt.xticks(rotation = 90)\n",
    "plt.grid()\n",
    "plt.show()"
   ]
  },
  {
   "cell_type": "markdown",
   "metadata": {},
   "source": [
    "Какие у кофеен рейтинги? Как они распределяются по районам?"
   ]
  },
  {
   "cell_type": "code",
   "execution_count": null,
   "metadata": {},
   "outputs": [],
   "source": [
    "coffeehouse_rating_district = df_coffeehouse.groupby(['district'])['rating'].mean().reset_index().round(2)\\\n",
    ".sort_values('rating', ascending = False)\n",
    "coffeehouse_rating_district"
   ]
  },
  {
   "cell_type": "markdown",
   "metadata": {},
   "source": [
    "В Центральном административном округе средний рейтинг самый высокий - 4.34. Самый низкий в Западном - 4.20"
   ]
  },
  {
   "cell_type": "markdown",
   "metadata": {},
   "source": [
    "На какую стоимость чашки капучино стоит ориентироваться при открытии и почему?"
   ]
  },
  {
   "cell_type": "markdown",
   "metadata": {},
   "source": [
    "Посмотреть медианную стоимость по АО"
   ]
  },
  {
   "cell_type": "code",
   "execution_count": null,
   "metadata": {},
   "outputs": [],
   "source": [
    "df.groupby('district')['middle_coffee_cup'].median()"
   ]
  },
  {
   "cell_type": "markdown",
   "metadata": {},
   "source": [
    "Посмотреть разброс стоимостей чашки капучино по АО "
   ]
  },
  {
   "cell_type": "code",
   "execution_count": null,
   "metadata": {},
   "outputs": [],
   "source": [
    "sns.boxplot(data=df, x='middle_coffee_cup', y='district', showfliers=False)\n",
    "plt.title('Разброс стоимостей чашки капучино')\n",
    "plt.xlabel('Цена чашки капучино')\n",
    "plt.ylabel('Административный округ')\n",
    "plt.show()"
   ]
  },
  {
   "cell_type": "markdown",
   "metadata": {},
   "source": [
    "Стоимость чашка капучино будет зависеть от выбора места. Района и удаленности от центра. В Москве на каждом направление складывается своя уникальная ценовая политика. Можно ориентироваться на медианные значения. При этом нужно учитывать, что даже среди кофеет, существуют условно разные классы (форма организации, дизайн, удаленность от метро, портрет потенциального покупателя). И всё таки, не рекомендовал бы превышать стоимость чашки дороже 350 рублей. Это максимальная граница по всем административным округам не считая выбросов. Исходя из графика можно сказать, что более высокая цена на чашку кофе встречается в Западном и Центральном округе."
   ]
  },
  {
   "cell_type": "markdown",
   "metadata": {},
   "source": [
    "Рекомендация: Для открытия кофейни лучше приглядеться к Центральному и Западному округам. В этих районах в среднем и чек выше заведений разного формата, и стоимость чашки кофе чаще всего одна из самых высоких. Так же количество кофеен работающих круглосуточно выше именно в этих округах. Возможно, именно формат 24/7 недооценён."
   ]
  },
  {
   "cell_type": "markdown",
   "metadata": {},
   "source": [
    "## Презентация"
   ]
  },
  {
   "cell_type": "markdown",
   "metadata": {},
   "source": [
    "https://docs.google.com/presentation/d/1GMfZnlclzFtUokQJzvc2H2h5cfXiZdVOEXdCamTwKAI/edit?usp=sharing"
   ]
  },
  {
   "cell_type": "markdown",
   "metadata": {},
   "source": [
    "## Итоги работы"
   ]
  },
  {
   "cell_type": "markdown",
   "metadata": {},
   "source": [
    "- В датасете у нас 5512 уникальных названия заведений. Столбцы name, category, address, district, hours, price и avg_bill имеют подходящий тип данных object, так как они описывают информацию о заведении. Столбцы lat, lng, rating, middle_avg_bill, middle_coffee_cup имеют подходящий тип данных float, так как значения в этих столбцах выражаются рациональными числами. Столбец chain имеет подходящий тип данных int, так как выражается целыми чилами. Столбцу seats имеет тип данных float, но ему больше подходит int, т.к. количество сидяцих мест может быть только целым числом. Так же нужно будет перевести столбцы с названиями, адресом и средней стоимостью заказа в нижний регистр. В данных есть пропуски, что с ними делать-разберемся в следующей части.\n",
    "- Пропусков очень много, просто удалить их не получится, но заполнять их не корректно. Столбцы hours и seats содержат индивидуальную информацию о заведение. Ресурсов и возможностей восполнить её мы не имеем. Значения в столбце avg_bill распределены по столбцам middle_avg_bill и middle_coffee_cup. Для ответа на поставленные вопросы эти данные для нас не принципиальны, по этому принимаю решение оставить данные как есть.\n",
    "- Результаты анализа данных: \n",
    "Всего 8402 заведения.\n",
    "Больше всего в Москве объектов общественного питания категории \"кафе\". На втором месте - \"рестораны\", на третьем - \"кофейни\". Категория - \"булочная\" самая малочисленная.\n",
    "Наибольшее медианное количество посадочных мест - в ресторанах, барах и кофейнях (80-90). Меньше всего - в булочных (50).\n",
    "Медианное количество посадочных мест в приниципе по категориям находится в диапазоне от 50 до 90.\n",
    "Большая часть заведений общественного питания - несетевые (62 %), сетевых заведений 38 %.\n",
    "Чаще всего являются сетевыми булочные - 61%, пиццерий и кофеин - сетевых и несетевых примерно поровну; заведения быстрого питания, рестораны, кафе, столовые, бары, пабы - чаще являются несетевыми.\n",
    "Кофейня Шоколадница (120 заведений в регионе) является явным лидером среди сетей. Больше всего заведений сети принадлежит категории кофейня. Шоколадница, так же как и прочие заведения, на слуху у большинства людей.\n",
    "Всего мы рассматриваем 9 округов: Центральный, Северный, Южный, Северо-Восточный, Западный, Восточный, Юго-Восточный, Юго-Западный, Северо-Западный. Больше всего заведений находится в Центральном административном округе. В прочих округах кол-во примерно в 3 раза ниже.\n",
    "Северо-Западном округе имеет меньше всего точек общественного питания. В Центральном администативном округе большую часть заведений составляют рестораны, затем следуют кафе, кофейни и бары. В других округах большую часть заведений составляют кафе.\n",
    "Категория заведений \"бар, паб\"(около 4.4) занимает первое место. На втором месте пиццерии(около 4.3). На третьем месте рестораны(чуть ниже 4.3). Худший рейтинг у заведений быстрого питания(примерно 4.05).\n",
    "Самый высокий средний рейтинг - у заведений Центрального административного округа (около 4.38). Самые низкие средние рейтинги у Юго-Восточного административных округов (4.1). У заведений остальных округов средний рейтинг в диапазоне от 4.14 до 4.24.\n",
    "Пр-к Мира явно лидирует по кол-ву заведений (более 180). На этой улице самые популярные категории - кафе, рестораны, кофейни. Последняя в топе - Пятницкая улица (48 заведений). В целом, категория кафе и рестораны на 15 самых популярных улицах практически равны. На МКАД категория кафе явно доминирует. Скорей всего люди на этой улице проездом, и их задача быстро поесть. По этому данный формат заведений там так популярен.\n",
    "В целом, про заведения которые находятся на улице в единственном числе можно сказать следующее: Всего таких 457 штук Категория кафе в явных лидерах. В отличие от общего среза, рестораны и прочие категории значительно отстают. Категория булочная на последнем месте Лидирует, как и в целом, Центральном административном округе. А вот последнее место занимает тут уже Юго-Западный административный округ, а Северо-Западный административный округ тут на втором месте (По всем заведениям было наоборот-последним был по кол-ву заведений был Северо-Западный административный округ) Пропорции по сравнению с общим распределением не изменились (38.1% и 61.9% для не сетевых и сетевых заведений соответственно)​\n",
    "Самые высокие средние(медианный) чеки в Центральном и Западном административных округах (1000 руб.), самый низкий - в Юго-Восточном административном округе (450 руб.). В остальных округах средние чеки находится в диапазоне от 500 до 700 руб. В целом, удаленность от центра влияет на средний чек, но не всегда.\n",
    "Во время анализа зависимостей между рейтингом и средним чеком найти не удалось 2) Большая часть посетителей ставит высокие оценки. Средняя оценка 4.23 и только четверть посетителей поставили оценку рейтинга менее 4.1 баллов.\n",
    "Медианный размер чека по категориям самый высокий в барах, и ресторанах. Самый низкий в столовых. Отрыв первых двух категорий от всех прочих значителен (в два раза). Скорей всего, причина кроется в употребление алкоголя в первых двух категориях заведений, а так же, ресторан, бар ходят провести время в определённой атмосфере и общий ценник меню скорее всего там выше.\n",
    "Зависимостей между рейтингом и средним чеком найти не удалось\n",
    "Большая часть посетителей ставит высокие оценки. Средняя оценка 4.23 и только четверть посетителей поставили оценку рейтинга менее 4.1 баллов\n",
    "Медианный размер чека по категориям самый высокий в барах, и ресторанах. Самый низкий в столовых. Отрыв первых двух категорий от всех прочих значителен (в два раза). Скорей всего, причина кроется в употребление алкоголя в первых двух категориях заведений, а так же, ресторан, бар ходят провести время в определённой атмосфере и общий ценник меню скорее всего там выше.\n",
    "​\n",
    "- Рекомендация: Для открытия кофейни лучше приглядеться к Центральному и Западному округам. В этих районах в среднем и чек выше заведений разного формата, и стоимость чашки кофе чаще всего одна из самых высоких. Так же количество кофеен работающих круглосуточно выше именно в этих округах. Возможно, именно формат 24/7 недооценён."
   ]
  },
  {
   "cell_type": "code",
   "execution_count": null,
   "metadata": {},
   "outputs": [],
   "source": []
  }
 ],
 "metadata": {
  "ExecuteTimeLog": [
   {
    "duration": 1723,
    "start_time": "2023-11-06T07:52:28.022Z"
   },
   {
    "duration": 154,
    "start_time": "2023-11-06T07:52:44.276Z"
   },
   {
    "duration": 21,
    "start_time": "2023-11-06T07:53:02.267Z"
   },
   {
    "duration": 15,
    "start_time": "2023-11-06T07:54:48.965Z"
   },
   {
    "duration": 16,
    "start_time": "2023-11-06T07:55:14.676Z"
   },
   {
    "duration": 8,
    "start_time": "2023-11-06T07:55:31.413Z"
   },
   {
    "duration": 48,
    "start_time": "2023-11-07T09:11:03.319Z"
   },
   {
    "duration": 1738,
    "start_time": "2023-11-07T09:11:09.576Z"
   },
   {
    "duration": 162,
    "start_time": "2023-11-07T09:11:11.316Z"
   },
   {
    "duration": 17,
    "start_time": "2023-11-07T09:11:11.480Z"
   },
   {
    "duration": 14,
    "start_time": "2023-11-07T09:11:11.499Z"
   },
   {
    "duration": 109,
    "start_time": "2023-11-07T09:11:11.515Z"
   },
   {
    "duration": 0,
    "start_time": "2023-11-07T09:11:11.625Z"
   },
   {
    "duration": 0,
    "start_time": "2023-11-07T09:11:11.626Z"
   },
   {
    "duration": 0,
    "start_time": "2023-11-07T09:11:11.627Z"
   },
   {
    "duration": 0,
    "start_time": "2023-11-07T09:11:11.628Z"
   },
   {
    "duration": 1387,
    "start_time": "2023-11-07T09:11:22.499Z"
   },
   {
    "duration": 146,
    "start_time": "2023-11-07T09:11:23.888Z"
   },
   {
    "duration": 20,
    "start_time": "2023-11-07T09:11:24.036Z"
   },
   {
    "duration": 15,
    "start_time": "2023-11-07T09:11:24.057Z"
   },
   {
    "duration": 15,
    "start_time": "2023-11-07T09:11:24.074Z"
   },
   {
    "duration": 90,
    "start_time": "2023-11-07T09:11:24.091Z"
   },
   {
    "duration": 0,
    "start_time": "2023-11-07T09:11:24.182Z"
   },
   {
    "duration": 0,
    "start_time": "2023-11-07T09:11:24.184Z"
   },
   {
    "duration": 1522,
    "start_time": "2023-11-07T09:11:36.166Z"
   },
   {
    "duration": 121,
    "start_time": "2023-11-07T09:11:37.689Z"
   },
   {
    "duration": 18,
    "start_time": "2023-11-07T09:11:37.811Z"
   },
   {
    "duration": 20,
    "start_time": "2023-11-07T09:11:37.831Z"
   },
   {
    "duration": 18,
    "start_time": "2023-11-07T09:11:37.854Z"
   },
   {
    "duration": 12,
    "start_time": "2023-11-07T09:11:37.874Z"
   },
   {
    "duration": 37,
    "start_time": "2023-11-07T09:11:37.888Z"
   },
   {
    "duration": 126,
    "start_time": "2023-11-07T09:24:07.008Z"
   },
   {
    "duration": 9,
    "start_time": "2023-11-07T09:31:32.981Z"
   },
   {
    "duration": 121,
    "start_time": "2023-11-07T09:32:09.358Z"
   },
   {
    "duration": 12,
    "start_time": "2023-11-07T09:37:37.210Z"
   },
   {
    "duration": 11,
    "start_time": "2023-11-07T09:37:56.620Z"
   },
   {
    "duration": 8,
    "start_time": "2023-11-07T09:38:10.748Z"
   },
   {
    "duration": 15,
    "start_time": "2023-11-07T09:39:18.477Z"
   },
   {
    "duration": 19,
    "start_time": "2023-11-07T11:27:03.630Z"
   },
   {
    "duration": 18,
    "start_time": "2023-11-07T11:29:28.537Z"
   },
   {
    "duration": 13,
    "start_time": "2023-11-07T11:29:41.768Z"
   },
   {
    "duration": 4,
    "start_time": "2023-11-07T11:30:18.446Z"
   },
   {
    "duration": 18,
    "start_time": "2023-11-07T12:15:55.336Z"
   },
   {
    "duration": 4,
    "start_time": "2023-11-07T12:17:37.902Z"
   },
   {
    "duration": 55,
    "start_time": "2023-11-08T06:13:12.644Z"
   },
   {
    "duration": 1845,
    "start_time": "2023-11-08T06:13:22.639Z"
   },
   {
    "duration": 134,
    "start_time": "2023-11-08T06:13:24.487Z"
   },
   {
    "duration": 21,
    "start_time": "2023-11-08T06:13:24.623Z"
   },
   {
    "duration": 22,
    "start_time": "2023-11-08T06:13:24.645Z"
   },
   {
    "duration": 22,
    "start_time": "2023-11-08T06:13:24.670Z"
   },
   {
    "duration": 29,
    "start_time": "2023-11-08T06:13:24.694Z"
   },
   {
    "duration": 20,
    "start_time": "2023-11-08T06:13:24.725Z"
   },
   {
    "duration": 23,
    "start_time": "2023-11-08T06:13:24.747Z"
   },
   {
    "duration": 11,
    "start_time": "2023-11-08T06:13:24.772Z"
   },
   {
    "duration": 40,
    "start_time": "2023-11-08T06:13:24.784Z"
   },
   {
    "duration": 23,
    "start_time": "2023-11-08T06:13:24.826Z"
   },
   {
    "duration": 54,
    "start_time": "2023-11-08T06:13:24.851Z"
   },
   {
    "duration": 9,
    "start_time": "2023-11-08T06:13:24.907Z"
   },
   {
    "duration": 50,
    "start_time": "2023-11-08T06:13:24.919Z"
   },
   {
    "duration": 15,
    "start_time": "2023-11-08T06:13:24.970Z"
   },
   {
    "duration": 52,
    "start_time": "2023-11-08T06:13:24.987Z"
   },
   {
    "duration": 21,
    "start_time": "2023-11-08T06:14:29.029Z"
   },
   {
    "duration": 24,
    "start_time": "2023-11-08T06:14:45.338Z"
   },
   {
    "duration": 26,
    "start_time": "2023-11-08T06:29:29.501Z"
   },
   {
    "duration": 22,
    "start_time": "2023-11-08T06:55:20.197Z"
   },
   {
    "duration": 1635,
    "start_time": "2023-11-08T06:59:27.709Z"
   },
   {
    "duration": 241,
    "start_time": "2023-11-08T06:59:29.356Z"
   },
   {
    "duration": 26,
    "start_time": "2023-11-08T06:59:29.600Z"
   },
   {
    "duration": 29,
    "start_time": "2023-11-08T06:59:29.628Z"
   },
   {
    "duration": 7,
    "start_time": "2023-11-08T06:59:29.660Z"
   },
   {
    "duration": 29,
    "start_time": "2023-11-08T06:59:29.669Z"
   },
   {
    "duration": 25,
    "start_time": "2023-11-08T06:59:29.700Z"
   },
   {
    "duration": 37,
    "start_time": "2023-11-08T06:59:29.727Z"
   },
   {
    "duration": 10,
    "start_time": "2023-11-08T06:59:29.765Z"
   },
   {
    "duration": 10,
    "start_time": "2023-11-08T06:59:29.777Z"
   },
   {
    "duration": 10,
    "start_time": "2023-11-08T06:59:29.788Z"
   },
   {
    "duration": 10,
    "start_time": "2023-11-08T06:59:29.800Z"
   },
   {
    "duration": 49,
    "start_time": "2023-11-08T06:59:29.812Z"
   },
   {
    "duration": 19,
    "start_time": "2023-11-08T06:59:29.863Z"
   },
   {
    "duration": 6,
    "start_time": "2023-11-08T06:59:29.883Z"
   },
   {
    "duration": 20,
    "start_time": "2023-11-08T06:59:29.890Z"
   },
   {
    "duration": 136,
    "start_time": "2023-11-08T07:09:22.055Z"
   },
   {
    "duration": 1582,
    "start_time": "2023-11-08T07:09:35.098Z"
   },
   {
    "duration": 137,
    "start_time": "2023-11-08T07:09:36.682Z"
   },
   {
    "duration": 20,
    "start_time": "2023-11-08T07:09:36.821Z"
   },
   {
    "duration": 15,
    "start_time": "2023-11-08T07:09:36.843Z"
   },
   {
    "duration": 7,
    "start_time": "2023-11-08T07:09:36.859Z"
   },
   {
    "duration": 17,
    "start_time": "2023-11-08T07:09:36.868Z"
   },
   {
    "duration": 17,
    "start_time": "2023-11-08T07:09:36.886Z"
   },
   {
    "duration": 162,
    "start_time": "2023-11-08T07:09:36.904Z"
   },
   {
    "duration": 0,
    "start_time": "2023-11-08T07:09:37.068Z"
   },
   {
    "duration": 0,
    "start_time": "2023-11-08T07:09:37.069Z"
   },
   {
    "duration": 0,
    "start_time": "2023-11-08T07:09:37.070Z"
   },
   {
    "duration": 0,
    "start_time": "2023-11-08T07:09:37.071Z"
   },
   {
    "duration": 0,
    "start_time": "2023-11-08T07:09:37.072Z"
   },
   {
    "duration": 0,
    "start_time": "2023-11-08T07:09:37.073Z"
   },
   {
    "duration": 0,
    "start_time": "2023-11-08T07:09:37.074Z"
   },
   {
    "duration": 0,
    "start_time": "2023-11-08T07:09:37.075Z"
   },
   {
    "duration": 0,
    "start_time": "2023-11-08T07:09:37.076Z"
   },
   {
    "duration": 1777,
    "start_time": "2023-11-08T07:13:26.644Z"
   },
   {
    "duration": 135,
    "start_time": "2023-11-08T07:13:28.423Z"
   },
   {
    "duration": 21,
    "start_time": "2023-11-08T07:13:28.560Z"
   },
   {
    "duration": 69,
    "start_time": "2023-11-08T07:13:28.584Z"
   },
   {
    "duration": 52,
    "start_time": "2023-11-08T07:13:28.655Z"
   },
   {
    "duration": 43,
    "start_time": "2023-11-08T07:13:28.709Z"
   },
   {
    "duration": 66,
    "start_time": "2023-11-08T07:13:28.754Z"
   },
   {
    "duration": 87,
    "start_time": "2023-11-08T07:13:28.822Z"
   },
   {
    "duration": 41,
    "start_time": "2023-11-08T07:13:28.911Z"
   },
   {
    "duration": 52,
    "start_time": "2023-11-08T07:13:28.956Z"
   },
   {
    "duration": 52,
    "start_time": "2023-11-08T07:13:29.010Z"
   },
   {
    "duration": 26,
    "start_time": "2023-11-08T07:13:29.064Z"
   },
   {
    "duration": 30,
    "start_time": "2023-11-08T07:13:29.093Z"
   },
   {
    "duration": 52,
    "start_time": "2023-11-08T07:13:29.125Z"
   },
   {
    "duration": 30,
    "start_time": "2023-11-08T07:13:29.182Z"
   },
   {
    "duration": 84,
    "start_time": "2023-11-08T07:13:29.213Z"
   },
   {
    "duration": 239,
    "start_time": "2023-11-08T07:17:40.343Z"
   },
   {
    "duration": 1634,
    "start_time": "2023-11-09T07:13:38.748Z"
   },
   {
    "duration": 112,
    "start_time": "2023-11-09T07:13:40.384Z"
   },
   {
    "duration": 18,
    "start_time": "2023-11-09T07:13:40.498Z"
   },
   {
    "duration": 31,
    "start_time": "2023-11-09T07:13:40.518Z"
   },
   {
    "duration": 7,
    "start_time": "2023-11-09T07:13:40.551Z"
   },
   {
    "duration": 20,
    "start_time": "2023-11-09T07:13:40.559Z"
   },
   {
    "duration": 27,
    "start_time": "2023-11-09T07:13:40.581Z"
   },
   {
    "duration": 28,
    "start_time": "2023-11-09T07:13:40.609Z"
   },
   {
    "duration": 7,
    "start_time": "2023-11-09T07:13:40.638Z"
   },
   {
    "duration": 13,
    "start_time": "2023-11-09T07:13:40.646Z"
   },
   {
    "duration": 27,
    "start_time": "2023-11-09T07:13:40.660Z"
   },
   {
    "duration": 12,
    "start_time": "2023-11-09T07:13:40.688Z"
   },
   {
    "duration": 7,
    "start_time": "2023-11-09T07:13:40.701Z"
   },
   {
    "duration": 32,
    "start_time": "2023-11-09T07:13:40.710Z"
   },
   {
    "duration": 10,
    "start_time": "2023-11-09T07:13:40.744Z"
   },
   {
    "duration": 28,
    "start_time": "2023-11-09T07:13:40.756Z"
   },
   {
    "duration": 201,
    "start_time": "2023-11-09T07:13:40.786Z"
   },
   {
    "duration": 242,
    "start_time": "2023-11-09T07:41:35.841Z"
   },
   {
    "duration": 337,
    "start_time": "2023-11-09T07:49:17.466Z"
   },
   {
    "duration": 135,
    "start_time": "2023-11-09T07:52:16.258Z"
   },
   {
    "duration": 26,
    "start_time": "2023-11-09T07:53:24.198Z"
   },
   {
    "duration": 10,
    "start_time": "2023-11-09T07:55:55.769Z"
   },
   {
    "duration": 7,
    "start_time": "2023-11-09T07:56:46.736Z"
   },
   {
    "duration": 20,
    "start_time": "2023-11-09T07:57:11.332Z"
   },
   {
    "duration": 19,
    "start_time": "2023-11-09T07:57:27.589Z"
   },
   {
    "duration": 1485,
    "start_time": "2023-11-09T08:24:59.472Z"
   },
   {
    "duration": 227,
    "start_time": "2023-11-09T08:25:00.958Z"
   },
   {
    "duration": 20,
    "start_time": "2023-11-09T08:25:01.187Z"
   },
   {
    "duration": 53,
    "start_time": "2023-11-09T08:25:01.210Z"
   },
   {
    "duration": 25,
    "start_time": "2023-11-09T08:25:01.265Z"
   },
   {
    "duration": 74,
    "start_time": "2023-11-09T08:25:01.292Z"
   },
   {
    "duration": 81,
    "start_time": "2023-11-09T08:25:01.368Z"
   },
   {
    "duration": 66,
    "start_time": "2023-11-09T08:25:01.452Z"
   },
   {
    "duration": 29,
    "start_time": "2023-11-09T08:25:01.521Z"
   },
   {
    "duration": 41,
    "start_time": "2023-11-09T08:25:01.553Z"
   },
   {
    "duration": 59,
    "start_time": "2023-11-09T08:25:01.597Z"
   },
   {
    "duration": 28,
    "start_time": "2023-11-09T08:25:01.659Z"
   },
   {
    "duration": 41,
    "start_time": "2023-11-09T08:25:01.689Z"
   },
   {
    "duration": 59,
    "start_time": "2023-11-09T08:25:01.732Z"
   },
   {
    "duration": 31,
    "start_time": "2023-11-09T08:25:01.793Z"
   },
   {
    "duration": 48,
    "start_time": "2023-11-09T08:25:01.826Z"
   },
   {
    "duration": 243,
    "start_time": "2023-11-09T08:25:01.876Z"
   },
   {
    "duration": 186,
    "start_time": "2023-11-09T08:25:02.121Z"
   },
   {
    "duration": 302,
    "start_time": "2023-11-09T08:25:02.309Z"
   },
   {
    "duration": 9,
    "start_time": "2023-11-09T08:25:02.613Z"
   },
   {
    "duration": 239,
    "start_time": "2023-11-09T08:25:02.624Z"
   },
   {
    "duration": 1528,
    "start_time": "2023-11-09T08:25:22.346Z"
   },
   {
    "duration": 161,
    "start_time": "2023-11-09T08:25:23.876Z"
   },
   {
    "duration": 18,
    "start_time": "2023-11-09T08:25:24.039Z"
   },
   {
    "duration": 13,
    "start_time": "2023-11-09T08:25:24.058Z"
   },
   {
    "duration": 5,
    "start_time": "2023-11-09T08:25:24.073Z"
   },
   {
    "duration": 34,
    "start_time": "2023-11-09T08:25:24.080Z"
   },
   {
    "duration": 14,
    "start_time": "2023-11-09T08:25:24.116Z"
   },
   {
    "duration": 25,
    "start_time": "2023-11-09T08:25:24.131Z"
   },
   {
    "duration": 7,
    "start_time": "2023-11-09T08:25:24.158Z"
   },
   {
    "duration": 8,
    "start_time": "2023-11-09T08:25:24.167Z"
   },
   {
    "duration": 8,
    "start_time": "2023-11-09T08:25:24.176Z"
   },
   {
    "duration": 10,
    "start_time": "2023-11-09T08:25:24.206Z"
   },
   {
    "duration": 4,
    "start_time": "2023-11-09T08:25:24.217Z"
   },
   {
    "duration": 16,
    "start_time": "2023-11-09T08:25:24.222Z"
   },
   {
    "duration": 4,
    "start_time": "2023-11-09T08:25:24.240Z"
   },
   {
    "duration": 21,
    "start_time": "2023-11-09T08:25:24.245Z"
   },
   {
    "duration": 221,
    "start_time": "2023-11-09T08:25:24.267Z"
   },
   {
    "duration": 184,
    "start_time": "2023-11-09T08:25:24.489Z"
   },
   {
    "duration": 5,
    "start_time": "2023-11-09T08:25:24.675Z"
   },
   {
    "duration": 240,
    "start_time": "2023-11-09T08:25:24.681Z"
   },
   {
    "duration": 7,
    "start_time": "2023-11-09T08:25:24.923Z"
   },
   {
    "duration": 211,
    "start_time": "2023-11-09T08:25:24.931Z"
   },
   {
    "duration": 20,
    "start_time": "2023-11-09T08:30:19.820Z"
   },
   {
    "duration": 1550,
    "start_time": "2023-11-09T08:30:28.015Z"
   },
   {
    "duration": 142,
    "start_time": "2023-11-09T08:30:29.567Z"
   },
   {
    "duration": 18,
    "start_time": "2023-11-09T08:30:29.710Z"
   },
   {
    "duration": 14,
    "start_time": "2023-11-09T08:30:29.729Z"
   },
   {
    "duration": 6,
    "start_time": "2023-11-09T08:30:29.746Z"
   },
   {
    "duration": 25,
    "start_time": "2023-11-09T08:30:29.754Z"
   },
   {
    "duration": 37,
    "start_time": "2023-11-09T08:30:29.781Z"
   },
   {
    "duration": 24,
    "start_time": "2023-11-09T08:30:29.819Z"
   },
   {
    "duration": 7,
    "start_time": "2023-11-09T08:30:29.845Z"
   },
   {
    "duration": 7,
    "start_time": "2023-11-09T08:30:29.854Z"
   },
   {
    "duration": 11,
    "start_time": "2023-11-09T08:30:29.863Z"
   },
   {
    "duration": 37,
    "start_time": "2023-11-09T08:30:29.875Z"
   },
   {
    "duration": 4,
    "start_time": "2023-11-09T08:30:29.913Z"
   },
   {
    "duration": 19,
    "start_time": "2023-11-09T08:30:29.919Z"
   },
   {
    "duration": 4,
    "start_time": "2023-11-09T08:30:29.939Z"
   },
   {
    "duration": 22,
    "start_time": "2023-11-09T08:30:29.944Z"
   },
   {
    "duration": 230,
    "start_time": "2023-11-09T08:30:29.968Z"
   },
   {
    "duration": 183,
    "start_time": "2023-11-09T08:30:30.200Z"
   },
   {
    "duration": 387,
    "start_time": "2023-11-09T08:30:30.385Z"
   },
   {
    "duration": 22,
    "start_time": "2023-11-09T08:30:30.773Z"
   },
   {
    "duration": 63,
    "start_time": "2023-11-09T08:30:30.797Z"
   },
   {
    "duration": 19,
    "start_time": "2023-11-09T08:32:39.124Z"
   },
   {
    "duration": 1739,
    "start_time": "2023-11-09T08:32:47.007Z"
   },
   {
    "duration": 231,
    "start_time": "2023-11-09T08:32:48.748Z"
   },
   {
    "duration": 19,
    "start_time": "2023-11-09T08:32:48.981Z"
   },
   {
    "duration": 29,
    "start_time": "2023-11-09T08:32:49.002Z"
   },
   {
    "duration": 25,
    "start_time": "2023-11-09T08:32:49.034Z"
   },
   {
    "duration": 17,
    "start_time": "2023-11-09T08:32:49.061Z"
   },
   {
    "duration": 31,
    "start_time": "2023-11-09T08:32:49.080Z"
   },
   {
    "duration": 32,
    "start_time": "2023-11-09T08:32:49.114Z"
   },
   {
    "duration": 9,
    "start_time": "2023-11-09T08:32:49.147Z"
   },
   {
    "duration": 19,
    "start_time": "2023-11-09T08:32:49.157Z"
   },
   {
    "duration": 11,
    "start_time": "2023-11-09T08:32:49.178Z"
   },
   {
    "duration": 17,
    "start_time": "2023-11-09T08:32:49.209Z"
   },
   {
    "duration": 8,
    "start_time": "2023-11-09T08:32:49.228Z"
   },
   {
    "duration": 19,
    "start_time": "2023-11-09T08:32:49.239Z"
   },
   {
    "duration": 9,
    "start_time": "2023-11-09T08:32:49.260Z"
   },
   {
    "duration": 40,
    "start_time": "2023-11-09T08:32:49.270Z"
   },
   {
    "duration": 271,
    "start_time": "2023-11-09T08:32:49.312Z"
   },
   {
    "duration": 216,
    "start_time": "2023-11-09T08:32:49.585Z"
   },
   {
    "duration": 321,
    "start_time": "2023-11-09T08:32:49.803Z"
   },
   {
    "duration": 9,
    "start_time": "2023-11-09T08:32:50.127Z"
   },
   {
    "duration": 256,
    "start_time": "2023-11-09T08:32:50.138Z"
   },
   {
    "duration": 1668,
    "start_time": "2023-11-09T08:33:32.502Z"
   },
   {
    "duration": 117,
    "start_time": "2023-11-09T08:33:34.171Z"
   },
   {
    "duration": 21,
    "start_time": "2023-11-09T08:33:34.290Z"
   },
   {
    "duration": 34,
    "start_time": "2023-11-09T08:33:34.313Z"
   },
   {
    "duration": 30,
    "start_time": "2023-11-09T08:33:34.349Z"
   },
   {
    "duration": 59,
    "start_time": "2023-11-09T08:33:34.381Z"
   },
   {
    "duration": 77,
    "start_time": "2023-11-09T08:33:34.442Z"
   },
   {
    "duration": 54,
    "start_time": "2023-11-09T08:33:34.522Z"
   },
   {
    "duration": 61,
    "start_time": "2023-11-09T08:33:34.578Z"
   },
   {
    "duration": 24,
    "start_time": "2023-11-09T08:33:34.642Z"
   },
   {
    "duration": 64,
    "start_time": "2023-11-09T08:33:34.668Z"
   },
   {
    "duration": 29,
    "start_time": "2023-11-09T08:33:34.734Z"
   },
   {
    "duration": 17,
    "start_time": "2023-11-09T08:33:34.765Z"
   },
   {
    "duration": 60,
    "start_time": "2023-11-09T08:33:34.784Z"
   },
   {
    "duration": 49,
    "start_time": "2023-11-09T08:33:34.847Z"
   },
   {
    "duration": 43,
    "start_time": "2023-11-09T08:33:34.898Z"
   },
   {
    "duration": 264,
    "start_time": "2023-11-09T08:33:34.943Z"
   },
   {
    "duration": 224,
    "start_time": "2023-11-09T08:33:35.210Z"
   },
   {
    "duration": 279,
    "start_time": "2023-11-09T08:33:35.437Z"
   },
   {
    "duration": 12,
    "start_time": "2023-11-09T08:33:35.718Z"
   },
   {
    "duration": 40,
    "start_time": "2023-11-09T08:33:35.733Z"
   },
   {
    "duration": 225,
    "start_time": "2023-11-09T08:34:41.589Z"
   },
   {
    "duration": 199,
    "start_time": "2023-11-09T08:52:35.735Z"
   },
   {
    "duration": 79,
    "start_time": "2023-11-09T08:53:08.031Z"
   },
   {
    "duration": 56,
    "start_time": "2023-11-09T08:53:28.928Z"
   },
   {
    "duration": 1657,
    "start_time": "2023-11-09T08:53:35.884Z"
   },
   {
    "duration": 186,
    "start_time": "2023-11-09T08:53:37.543Z"
   },
   {
    "duration": 20,
    "start_time": "2023-11-09T08:53:37.730Z"
   },
   {
    "duration": 14,
    "start_time": "2023-11-09T08:53:37.751Z"
   },
   {
    "duration": 6,
    "start_time": "2023-11-09T08:53:37.767Z"
   },
   {
    "duration": 16,
    "start_time": "2023-11-09T08:53:37.774Z"
   },
   {
    "duration": 21,
    "start_time": "2023-11-09T08:53:37.792Z"
   },
   {
    "duration": 25,
    "start_time": "2023-11-09T08:53:37.815Z"
   },
   {
    "duration": 9,
    "start_time": "2023-11-09T08:53:37.841Z"
   },
   {
    "duration": 14,
    "start_time": "2023-11-09T08:53:37.851Z"
   },
   {
    "duration": 8,
    "start_time": "2023-11-09T08:53:37.867Z"
   },
   {
    "duration": 8,
    "start_time": "2023-11-09T08:53:37.877Z"
   },
   {
    "duration": 16,
    "start_time": "2023-11-09T08:53:37.886Z"
   },
   {
    "duration": 17,
    "start_time": "2023-11-09T08:53:37.905Z"
   },
   {
    "duration": 8,
    "start_time": "2023-11-09T08:53:37.924Z"
   },
   {
    "duration": 22,
    "start_time": "2023-11-09T08:53:37.934Z"
   },
   {
    "duration": 212,
    "start_time": "2023-11-09T08:53:37.957Z"
   },
   {
    "duration": 193,
    "start_time": "2023-11-09T08:53:38.170Z"
   },
   {
    "duration": 390,
    "start_time": "2023-11-09T08:53:38.364Z"
   },
   {
    "duration": 7,
    "start_time": "2023-11-09T08:53:38.756Z"
   },
   {
    "duration": 16,
    "start_time": "2023-11-09T08:53:38.765Z"
   },
   {
    "duration": 327,
    "start_time": "2023-11-09T08:53:38.783Z"
   },
   {
    "duration": 104,
    "start_time": "2023-11-09T08:53:39.111Z"
   },
   {
    "duration": 66,
    "start_time": "2023-11-09T08:56:03.602Z"
   },
   {
    "duration": 20,
    "start_time": "2023-11-09T09:04:13.146Z"
   },
   {
    "duration": 17,
    "start_time": "2023-11-09T09:04:41.298Z"
   },
   {
    "duration": 16,
    "start_time": "2023-11-09T09:05:12.888Z"
   },
   {
    "duration": 430,
    "start_time": "2023-11-09T09:06:00.071Z"
   },
   {
    "duration": 177,
    "start_time": "2023-11-09T09:11:05.382Z"
   },
   {
    "duration": 60,
    "start_time": "2023-11-09T09:11:15.375Z"
   },
   {
    "duration": 18,
    "start_time": "2023-11-09T09:11:41.776Z"
   },
   {
    "duration": 57,
    "start_time": "2023-11-09T09:16:47.378Z"
   },
   {
    "duration": 170,
    "start_time": "2023-11-09T09:19:22.391Z"
   },
   {
    "duration": 11,
    "start_time": "2023-11-09T09:38:51.793Z"
   },
   {
    "duration": 14,
    "start_time": "2023-11-09T09:39:00.414Z"
   },
   {
    "duration": 1485,
    "start_time": "2023-11-09T09:41:02.558Z"
   },
   {
    "duration": 173,
    "start_time": "2023-11-09T09:41:04.045Z"
   },
   {
    "duration": 17,
    "start_time": "2023-11-09T09:41:04.220Z"
   },
   {
    "duration": 32,
    "start_time": "2023-11-09T09:41:04.238Z"
   },
   {
    "duration": 32,
    "start_time": "2023-11-09T09:41:04.272Z"
   },
   {
    "duration": 22,
    "start_time": "2023-11-09T09:41:04.306Z"
   },
   {
    "duration": 34,
    "start_time": "2023-11-09T09:41:04.330Z"
   },
   {
    "duration": 34,
    "start_time": "2023-11-09T09:41:04.365Z"
   },
   {
    "duration": 13,
    "start_time": "2023-11-09T09:41:04.401Z"
   },
   {
    "duration": 19,
    "start_time": "2023-11-09T09:41:04.415Z"
   },
   {
    "duration": 8,
    "start_time": "2023-11-09T09:41:04.436Z"
   },
   {
    "duration": 28,
    "start_time": "2023-11-09T09:41:04.446Z"
   },
   {
    "duration": 38,
    "start_time": "2023-11-09T09:41:04.475Z"
   },
   {
    "duration": 27,
    "start_time": "2023-11-09T09:41:04.515Z"
   },
   {
    "duration": 11,
    "start_time": "2023-11-09T09:41:04.544Z"
   },
   {
    "duration": 39,
    "start_time": "2023-11-09T09:41:04.556Z"
   },
   {
    "duration": 195,
    "start_time": "2023-11-09T09:41:04.597Z"
   },
   {
    "duration": 180,
    "start_time": "2023-11-09T09:41:04.794Z"
   },
   {
    "duration": 241,
    "start_time": "2023-11-09T09:41:04.976Z"
   },
   {
    "duration": 13,
    "start_time": "2023-11-09T09:41:05.219Z"
   },
   {
    "duration": 313,
    "start_time": "2023-11-09T09:41:05.234Z"
   },
   {
    "duration": 18,
    "start_time": "2023-11-09T09:41:05.548Z"
   },
   {
    "duration": 497,
    "start_time": "2023-11-09T09:41:05.567Z"
   },
   {
    "duration": 17,
    "start_time": "2023-11-09T09:41:06.066Z"
   },
   {
    "duration": 79,
    "start_time": "2023-11-09T09:44:33.494Z"
   },
   {
    "duration": 201,
    "start_time": "2023-11-09T10:48:39.080Z"
   },
   {
    "duration": 327,
    "start_time": "2023-11-09T10:50:34.688Z"
   },
   {
    "duration": 195,
    "start_time": "2023-11-09T10:50:52.949Z"
   },
   {
    "duration": 13,
    "start_time": "2023-11-09T10:55:44.257Z"
   },
   {
    "duration": 16,
    "start_time": "2023-11-09T10:56:14.530Z"
   },
   {
    "duration": 163,
    "start_time": "2023-11-09T10:58:28.556Z"
   },
   {
    "duration": 194,
    "start_time": "2023-11-09T10:58:50.773Z"
   },
   {
    "duration": 9431,
    "start_time": "2023-11-09T11:13:55.478Z"
   },
   {
    "duration": 19,
    "start_time": "2023-11-09T11:18:09.378Z"
   },
   {
    "duration": 16,
    "start_time": "2023-11-09T11:18:25.575Z"
   },
   {
    "duration": 80,
    "start_time": "2023-11-09T11:19:44.949Z"
   },
   {
    "duration": 19,
    "start_time": "2023-11-09T11:33:31.025Z"
   },
   {
    "duration": 34,
    "start_time": "2023-11-09T11:35:24.814Z"
   },
   {
    "duration": 20,
    "start_time": "2023-11-09T11:38:11.215Z"
   },
   {
    "duration": 15,
    "start_time": "2023-11-09T11:39:40.015Z"
   },
   {
    "duration": 8,
    "start_time": "2023-11-09T11:39:49.208Z"
   },
   {
    "duration": 13,
    "start_time": "2023-11-09T11:40:34.479Z"
   },
   {
    "duration": 6,
    "start_time": "2023-11-09T11:40:35.330Z"
   },
   {
    "duration": 15,
    "start_time": "2023-11-09T11:40:52.170Z"
   },
   {
    "duration": 38,
    "start_time": "2023-11-09T11:41:10.381Z"
   },
   {
    "duration": 35,
    "start_time": "2023-11-09T11:42:18.943Z"
   },
   {
    "duration": 29,
    "start_time": "2023-11-09T11:43:43.587Z"
   },
   {
    "duration": 4,
    "start_time": "2023-11-09T11:44:49.737Z"
   },
   {
    "duration": 204,
    "start_time": "2023-11-09T11:46:12.738Z"
   },
   {
    "duration": 253,
    "start_time": "2023-11-09T11:50:36.552Z"
   },
   {
    "duration": 24,
    "start_time": "2023-11-09T11:57:36.349Z"
   },
   {
    "duration": 118,
    "start_time": "2023-11-09T11:57:48.221Z"
   },
   {
    "duration": 18,
    "start_time": "2023-11-09T11:57:56.816Z"
   },
   {
    "duration": 16,
    "start_time": "2023-11-09T11:58:14.484Z"
   },
   {
    "duration": 13,
    "start_time": "2023-11-09T12:09:07.117Z"
   },
   {
    "duration": 15,
    "start_time": "2023-11-09T12:09:19.187Z"
   },
   {
    "duration": 28,
    "start_time": "2023-11-09T12:21:38.237Z"
   },
   {
    "duration": 19,
    "start_time": "2023-11-09T12:28:33.452Z"
   },
   {
    "duration": 17,
    "start_time": "2023-11-09T12:30:04.211Z"
   },
   {
    "duration": 12,
    "start_time": "2023-11-09T12:31:50.527Z"
   },
   {
    "duration": 10,
    "start_time": "2023-11-09T12:32:40.250Z"
   },
   {
    "duration": 13,
    "start_time": "2023-11-09T12:33:14.346Z"
   },
   {
    "duration": 1571,
    "start_time": "2023-11-09T12:33:45.761Z"
   },
   {
    "duration": 224,
    "start_time": "2023-11-09T12:33:47.333Z"
   },
   {
    "duration": 19,
    "start_time": "2023-11-09T12:33:47.558Z"
   },
   {
    "duration": 45,
    "start_time": "2023-11-09T12:33:47.578Z"
   },
   {
    "duration": 26,
    "start_time": "2023-11-09T12:33:47.625Z"
   },
   {
    "duration": 32,
    "start_time": "2023-11-09T12:33:47.653Z"
   },
   {
    "duration": 39,
    "start_time": "2023-11-09T12:33:47.686Z"
   },
   {
    "duration": 35,
    "start_time": "2023-11-09T12:33:47.727Z"
   },
   {
    "duration": 22,
    "start_time": "2023-11-09T12:33:47.764Z"
   },
   {
    "duration": 24,
    "start_time": "2023-11-09T12:33:47.789Z"
   },
   {
    "duration": 37,
    "start_time": "2023-11-09T12:33:47.815Z"
   },
   {
    "duration": 34,
    "start_time": "2023-11-09T12:33:47.854Z"
   },
   {
    "duration": 32,
    "start_time": "2023-11-09T12:33:47.890Z"
   },
   {
    "duration": 54,
    "start_time": "2023-11-09T12:33:47.924Z"
   },
   {
    "duration": 39,
    "start_time": "2023-11-09T12:33:47.980Z"
   },
   {
    "duration": 40,
    "start_time": "2023-11-09T12:33:48.021Z"
   },
   {
    "duration": 228,
    "start_time": "2023-11-09T12:33:48.063Z"
   },
   {
    "duration": 86,
    "start_time": "2023-11-09T12:33:48.293Z"
   },
   {
    "duration": 0,
    "start_time": "2023-11-09T12:33:48.381Z"
   },
   {
    "duration": 0,
    "start_time": "2023-11-09T12:33:48.383Z"
   },
   {
    "duration": 0,
    "start_time": "2023-11-09T12:33:48.384Z"
   },
   {
    "duration": 0,
    "start_time": "2023-11-09T12:33:48.385Z"
   },
   {
    "duration": 0,
    "start_time": "2023-11-09T12:33:48.387Z"
   },
   {
    "duration": 0,
    "start_time": "2023-11-09T12:33:48.388Z"
   },
   {
    "duration": 0,
    "start_time": "2023-11-09T12:33:48.390Z"
   },
   {
    "duration": 0,
    "start_time": "2023-11-09T12:33:48.391Z"
   },
   {
    "duration": 0,
    "start_time": "2023-11-09T12:33:48.392Z"
   },
   {
    "duration": 0,
    "start_time": "2023-11-09T12:33:48.393Z"
   },
   {
    "duration": 0,
    "start_time": "2023-11-09T12:33:48.394Z"
   },
   {
    "duration": 0,
    "start_time": "2023-11-09T12:33:48.395Z"
   },
   {
    "duration": 0,
    "start_time": "2023-11-09T12:33:48.396Z"
   },
   {
    "duration": 0,
    "start_time": "2023-11-09T12:33:48.397Z"
   },
   {
    "duration": 0,
    "start_time": "2023-11-09T12:33:48.398Z"
   },
   {
    "duration": 0,
    "start_time": "2023-11-09T12:33:48.399Z"
   },
   {
    "duration": 0,
    "start_time": "2023-11-09T12:33:48.400Z"
   },
   {
    "duration": 0,
    "start_time": "2023-11-09T12:33:48.401Z"
   },
   {
    "duration": 0,
    "start_time": "2023-11-09T12:33:48.402Z"
   },
   {
    "duration": 0,
    "start_time": "2023-11-09T12:33:48.403Z"
   },
   {
    "duration": 0,
    "start_time": "2023-11-09T12:33:48.404Z"
   },
   {
    "duration": 0,
    "start_time": "2023-11-09T12:33:48.405Z"
   },
   {
    "duration": 182,
    "start_time": "2023-11-09T12:35:25.341Z"
   },
   {
    "duration": 226,
    "start_time": "2023-11-09T12:35:29.670Z"
   },
   {
    "duration": 13,
    "start_time": "2023-11-09T12:35:39.501Z"
   },
   {
    "duration": 211,
    "start_time": "2023-11-09T12:35:42.277Z"
   },
   {
    "duration": 18,
    "start_time": "2023-11-09T12:35:44.589Z"
   },
   {
    "duration": 457,
    "start_time": "2023-11-09T12:35:44.829Z"
   },
   {
    "duration": 13,
    "start_time": "2023-11-09T12:35:51.301Z"
   },
   {
    "duration": 104,
    "start_time": "2023-11-09T12:35:55.895Z"
   },
   {
    "duration": 191,
    "start_time": "2023-11-09T12:35:58.013Z"
   },
   {
    "duration": 15,
    "start_time": "2023-11-09T12:36:00.007Z"
   },
   {
    "duration": 150,
    "start_time": "2023-11-09T12:36:00.197Z"
   },
   {
    "duration": 264,
    "start_time": "2023-11-09T12:36:01.329Z"
   },
   {
    "duration": 9705,
    "start_time": "2023-11-09T12:36:03.733Z"
   },
   {
    "duration": 26,
    "start_time": "2023-11-09T12:36:26.599Z"
   },
   {
    "duration": 86,
    "start_time": "2023-11-09T12:36:31.313Z"
   },
   {
    "duration": 35,
    "start_time": "2023-11-09T12:36:33.992Z"
   },
   {
    "duration": 4,
    "start_time": "2023-11-09T12:36:34.691Z"
   },
   {
    "duration": 248,
    "start_time": "2023-11-09T12:36:36.100Z"
   },
   {
    "duration": 243,
    "start_time": "2023-11-09T12:36:37.604Z"
   },
   {
    "duration": 16,
    "start_time": "2023-11-09T12:36:39.588Z"
   },
   {
    "duration": 150,
    "start_time": "2023-11-09T12:36:41.997Z"
   },
   {
    "duration": 10,
    "start_time": "2023-11-09T12:37:05.134Z"
   },
   {
    "duration": 19,
    "start_time": "2023-11-09T12:38:09.796Z"
   },
   {
    "duration": 16,
    "start_time": "2023-11-09T12:41:16.429Z"
   },
   {
    "duration": 14,
    "start_time": "2023-11-09T12:44:15.080Z"
   },
   {
    "duration": 12,
    "start_time": "2023-11-09T12:44:37.612Z"
   },
   {
    "duration": 79,
    "start_time": "2023-11-09T12:47:08.395Z"
   },
   {
    "duration": 18,
    "start_time": "2023-11-09T12:59:05.664Z"
   },
   {
    "duration": 146,
    "start_time": "2023-11-09T12:59:14.175Z"
   },
   {
    "duration": 240,
    "start_time": "2023-11-09T13:12:35.845Z"
   },
   {
    "duration": 9,
    "start_time": "2023-11-09T13:13:00.955Z"
   },
   {
    "duration": 12,
    "start_time": "2023-11-09T13:20:29.055Z"
   },
   {
    "duration": 92,
    "start_time": "2023-11-10T08:23:42.842Z"
   },
   {
    "duration": 1962,
    "start_time": "2023-11-10T08:24:49.549Z"
   },
   {
    "duration": 149,
    "start_time": "2023-11-10T08:24:51.514Z"
   },
   {
    "duration": 20,
    "start_time": "2023-11-10T08:24:51.665Z"
   },
   {
    "duration": 29,
    "start_time": "2023-11-10T08:24:51.686Z"
   },
   {
    "duration": 11,
    "start_time": "2023-11-10T08:24:51.718Z"
   },
   {
    "duration": 23,
    "start_time": "2023-11-10T08:24:51.732Z"
   },
   {
    "duration": 25,
    "start_time": "2023-11-10T08:24:51.757Z"
   },
   {
    "duration": 51,
    "start_time": "2023-11-10T08:24:51.784Z"
   },
   {
    "duration": 8,
    "start_time": "2023-11-10T08:24:51.838Z"
   },
   {
    "duration": 18,
    "start_time": "2023-11-10T08:24:51.848Z"
   },
   {
    "duration": 9,
    "start_time": "2023-11-10T08:24:51.869Z"
   },
   {
    "duration": 12,
    "start_time": "2023-11-10T08:24:51.880Z"
   },
   {
    "duration": 6,
    "start_time": "2023-11-10T08:24:51.914Z"
   },
   {
    "duration": 28,
    "start_time": "2023-11-10T08:24:51.926Z"
   },
   {
    "duration": 5,
    "start_time": "2023-11-10T08:24:51.957Z"
   },
   {
    "duration": 24,
    "start_time": "2023-11-10T08:24:51.965Z"
   },
   {
    "duration": 273,
    "start_time": "2023-11-10T08:24:51.990Z"
   },
   {
    "duration": 218,
    "start_time": "2023-11-10T08:24:52.265Z"
   },
   {
    "duration": 280,
    "start_time": "2023-11-10T08:24:52.485Z"
   },
   {
    "duration": 15,
    "start_time": "2023-11-10T08:24:52.767Z"
   },
   {
    "duration": 421,
    "start_time": "2023-11-10T08:24:52.784Z"
   },
   {
    "duration": 33,
    "start_time": "2023-11-10T08:24:53.207Z"
   },
   {
    "duration": 559,
    "start_time": "2023-11-10T08:24:53.242Z"
   },
   {
    "duration": 19,
    "start_time": "2023-11-10T08:24:53.803Z"
   },
   {
    "duration": 103,
    "start_time": "2023-11-10T08:24:53.824Z"
   },
   {
    "duration": 245,
    "start_time": "2023-11-10T08:24:53.928Z"
   },
   {
    "duration": 18,
    "start_time": "2023-11-10T08:24:54.175Z"
   },
   {
    "duration": 102,
    "start_time": "2023-11-10T08:24:54.195Z"
   },
   {
    "duration": 0,
    "start_time": "2023-11-10T08:24:54.300Z"
   },
   {
    "duration": 0,
    "start_time": "2023-11-10T08:24:54.302Z"
   },
   {
    "duration": 0,
    "start_time": "2023-11-10T08:24:54.303Z"
   },
   {
    "duration": 0,
    "start_time": "2023-11-10T08:24:54.304Z"
   },
   {
    "duration": 0,
    "start_time": "2023-11-10T08:24:54.306Z"
   },
   {
    "duration": 0,
    "start_time": "2023-11-10T08:24:54.307Z"
   },
   {
    "duration": 0,
    "start_time": "2023-11-10T08:24:54.308Z"
   },
   {
    "duration": 0,
    "start_time": "2023-11-10T08:24:54.309Z"
   },
   {
    "duration": 0,
    "start_time": "2023-11-10T08:24:54.311Z"
   },
   {
    "duration": 0,
    "start_time": "2023-11-10T08:24:54.312Z"
   },
   {
    "duration": 0,
    "start_time": "2023-11-10T08:24:54.313Z"
   },
   {
    "duration": 0,
    "start_time": "2023-11-10T08:24:54.314Z"
   },
   {
    "duration": 0,
    "start_time": "2023-11-10T08:24:54.316Z"
   },
   {
    "duration": 0,
    "start_time": "2023-11-10T08:24:54.317Z"
   },
   {
    "duration": 0,
    "start_time": "2023-11-10T08:24:54.318Z"
   },
   {
    "duration": 0,
    "start_time": "2023-11-10T08:24:54.319Z"
   },
   {
    "duration": 1669,
    "start_time": "2023-11-10T08:25:51.059Z"
   },
   {
    "duration": 261,
    "start_time": "2023-11-10T08:25:52.731Z"
   },
   {
    "duration": 26,
    "start_time": "2023-11-10T08:25:52.996Z"
   },
   {
    "duration": 21,
    "start_time": "2023-11-10T08:25:53.025Z"
   },
   {
    "duration": 14,
    "start_time": "2023-11-10T08:25:53.048Z"
   },
   {
    "duration": 17,
    "start_time": "2023-11-10T08:25:53.064Z"
   },
   {
    "duration": 46,
    "start_time": "2023-11-10T08:25:53.083Z"
   },
   {
    "duration": 26,
    "start_time": "2023-11-10T08:25:53.131Z"
   },
   {
    "duration": 8,
    "start_time": "2023-11-10T08:25:53.160Z"
   },
   {
    "duration": 8,
    "start_time": "2023-11-10T08:25:53.170Z"
   },
   {
    "duration": 37,
    "start_time": "2023-11-10T08:25:53.180Z"
   },
   {
    "duration": 19,
    "start_time": "2023-11-10T08:25:53.219Z"
   },
   {
    "duration": 15,
    "start_time": "2023-11-10T08:25:53.240Z"
   },
   {
    "duration": 19,
    "start_time": "2023-11-10T08:25:53.256Z"
   },
   {
    "duration": 7,
    "start_time": "2023-11-10T08:25:53.277Z"
   },
   {
    "duration": 46,
    "start_time": "2023-11-10T08:25:53.286Z"
   },
   {
    "duration": 259,
    "start_time": "2023-11-10T08:25:53.335Z"
   },
   {
    "duration": 240,
    "start_time": "2023-11-10T08:25:53.596Z"
   },
   {
    "duration": 300,
    "start_time": "2023-11-10T08:25:53.839Z"
   },
   {
    "duration": 14,
    "start_time": "2023-11-10T08:25:54.141Z"
   },
   {
    "duration": 394,
    "start_time": "2023-11-10T08:25:54.156Z"
   },
   {
    "duration": 21,
    "start_time": "2023-11-10T08:25:54.553Z"
   },
   {
    "duration": 587,
    "start_time": "2023-11-10T08:25:54.577Z"
   },
   {
    "duration": 15,
    "start_time": "2023-11-10T08:25:55.167Z"
   },
   {
    "duration": 136,
    "start_time": "2023-11-10T08:25:55.185Z"
   },
   {
    "duration": 282,
    "start_time": "2023-11-10T08:25:55.324Z"
   },
   {
    "duration": 31,
    "start_time": "2023-11-10T08:25:55.609Z"
   },
   {
    "duration": 308,
    "start_time": "2023-11-10T08:25:55.643Z"
   },
   {
    "duration": 11949,
    "start_time": "2023-11-10T08:25:55.953Z"
   },
   {
    "duration": 35,
    "start_time": "2023-11-10T08:26:07.905Z"
   },
   {
    "duration": 285,
    "start_time": "2023-11-10T08:26:07.941Z"
   },
   {
    "duration": 91,
    "start_time": "2023-11-10T08:26:08.233Z"
   },
   {
    "duration": 9,
    "start_time": "2023-11-10T08:26:08.327Z"
   },
   {
    "duration": 362,
    "start_time": "2023-11-10T08:26:08.339Z"
   },
   {
    "duration": 361,
    "start_time": "2023-11-10T08:26:08.703Z"
   },
   {
    "duration": 20,
    "start_time": "2023-11-10T08:26:09.066Z"
   },
   {
    "duration": 158,
    "start_time": "2023-11-10T08:26:09.090Z"
   },
   {
    "duration": 1,
    "start_time": "2023-11-10T08:26:09.250Z"
   },
   {
    "duration": 0,
    "start_time": "2023-11-10T08:26:09.252Z"
   },
   {
    "duration": 0,
    "start_time": "2023-11-10T08:26:09.254Z"
   },
   {
    "duration": 0,
    "start_time": "2023-11-10T08:26:09.256Z"
   },
   {
    "duration": 0,
    "start_time": "2023-11-10T08:26:09.257Z"
   },
   {
    "duration": 0,
    "start_time": "2023-11-10T08:26:09.259Z"
   },
   {
    "duration": 1999,
    "start_time": "2023-11-10T08:27:09.087Z"
   },
   {
    "duration": 115,
    "start_time": "2023-11-10T08:27:11.088Z"
   },
   {
    "duration": 27,
    "start_time": "2023-11-10T08:27:11.205Z"
   },
   {
    "duration": 19,
    "start_time": "2023-11-10T08:27:11.234Z"
   },
   {
    "duration": 6,
    "start_time": "2023-11-10T08:27:11.255Z"
   },
   {
    "duration": 21,
    "start_time": "2023-11-10T08:27:11.263Z"
   },
   {
    "duration": 32,
    "start_time": "2023-11-10T08:27:11.286Z"
   },
   {
    "duration": 27,
    "start_time": "2023-11-10T08:27:11.320Z"
   },
   {
    "duration": 8,
    "start_time": "2023-11-10T08:27:11.348Z"
   },
   {
    "duration": 8,
    "start_time": "2023-11-10T08:27:11.359Z"
   },
   {
    "duration": 9,
    "start_time": "2023-11-10T08:27:11.368Z"
   },
   {
    "duration": 10,
    "start_time": "2023-11-10T08:27:11.379Z"
   },
   {
    "duration": 27,
    "start_time": "2023-11-10T08:27:11.390Z"
   },
   {
    "duration": 28,
    "start_time": "2023-11-10T08:27:11.418Z"
   },
   {
    "duration": 6,
    "start_time": "2023-11-10T08:27:11.448Z"
   },
   {
    "duration": 21,
    "start_time": "2023-11-10T08:27:11.455Z"
   },
   {
    "duration": 253,
    "start_time": "2023-11-10T08:27:11.477Z"
   },
   {
    "duration": 225,
    "start_time": "2023-11-10T08:27:11.732Z"
   },
   {
    "duration": 273,
    "start_time": "2023-11-10T08:27:11.959Z"
   },
   {
    "duration": 15,
    "start_time": "2023-11-10T08:27:12.235Z"
   },
   {
    "duration": 298,
    "start_time": "2023-11-10T08:27:12.252Z"
   },
   {
    "duration": 18,
    "start_time": "2023-11-10T08:27:12.552Z"
   },
   {
    "duration": 1063,
    "start_time": "2023-11-10T08:27:12.572Z"
   },
   {
    "duration": 78,
    "start_time": "2023-11-10T08:27:13.637Z"
   },
   {
    "duration": 212,
    "start_time": "2023-11-10T08:27:13.717Z"
   },
   {
    "duration": 411,
    "start_time": "2023-11-10T08:27:13.931Z"
   },
   {
    "duration": 17,
    "start_time": "2023-11-10T08:27:14.344Z"
   },
   {
    "duration": 318,
    "start_time": "2023-11-10T08:27:14.364Z"
   },
   {
    "duration": 13708,
    "start_time": "2023-11-10T08:27:14.685Z"
   },
   {
    "duration": 48,
    "start_time": "2023-11-10T08:27:28.397Z"
   },
   {
    "duration": 293,
    "start_time": "2023-11-10T08:27:28.447Z"
   },
   {
    "duration": 98,
    "start_time": "2023-11-10T08:27:28.742Z"
   },
   {
    "duration": 5,
    "start_time": "2023-11-10T08:27:28.841Z"
   },
   {
    "duration": 296,
    "start_time": "2023-11-10T08:27:28.848Z"
   },
   {
    "duration": 323,
    "start_time": "2023-11-10T08:27:29.146Z"
   },
   {
    "duration": 22,
    "start_time": "2023-11-10T08:27:29.471Z"
   },
   {
    "duration": 140,
    "start_time": "2023-11-10T08:27:29.495Z"
   },
   {
    "duration": 19,
    "start_time": "2023-11-10T08:27:29.637Z"
   },
   {
    "duration": 169,
    "start_time": "2023-11-10T08:27:29.658Z"
   },
   {
    "duration": 13,
    "start_time": "2023-11-10T08:27:29.829Z"
   },
   {
    "duration": 262,
    "start_time": "2023-11-10T08:27:29.844Z"
   },
   {
    "duration": 18,
    "start_time": "2023-11-10T08:27:30.114Z"
   },
   {
    "duration": 6,
    "start_time": "2023-11-10T08:29:58.629Z"
   },
   {
    "duration": 9,
    "start_time": "2023-11-10T08:30:10.603Z"
   },
   {
    "duration": 14,
    "start_time": "2023-11-10T08:31:04.956Z"
   },
   {
    "duration": 16,
    "start_time": "2023-11-10T08:31:34.740Z"
   },
   {
    "duration": 13,
    "start_time": "2023-11-10T08:39:58.268Z"
   },
   {
    "duration": 113,
    "start_time": "2023-11-10T08:40:16.294Z"
   },
   {
    "duration": 11,
    "start_time": "2023-11-10T08:40:22.858Z"
   },
   {
    "duration": 13,
    "start_time": "2023-11-10T08:41:21.014Z"
   },
   {
    "duration": 8,
    "start_time": "2023-11-10T08:41:28.898Z"
   },
   {
    "duration": 199,
    "start_time": "2023-11-10T08:44:27.175Z"
   },
   {
    "duration": 19,
    "start_time": "2023-11-10T08:48:58.734Z"
   },
   {
    "duration": 11,
    "start_time": "2023-11-10T08:58:46.849Z"
   },
   {
    "duration": 353,
    "start_time": "2023-11-10T09:01:50.085Z"
   },
   {
    "duration": 18,
    "start_time": "2023-11-10T09:01:57.588Z"
   },
   {
    "duration": 15,
    "start_time": "2023-11-10T09:11:57.985Z"
   },
   {
    "duration": 1798,
    "start_time": "2023-11-10T10:17:01.957Z"
   },
   {
    "duration": 152,
    "start_time": "2023-11-10T10:17:03.757Z"
   },
   {
    "duration": 21,
    "start_time": "2023-11-10T10:17:03.911Z"
   },
   {
    "duration": 19,
    "start_time": "2023-11-10T10:17:03.934Z"
   },
   {
    "duration": 28,
    "start_time": "2023-11-10T10:17:03.955Z"
   },
   {
    "duration": 41,
    "start_time": "2023-11-10T10:17:03.985Z"
   },
   {
    "duration": 50,
    "start_time": "2023-11-10T10:17:04.028Z"
   },
   {
    "duration": 70,
    "start_time": "2023-11-10T10:17:04.080Z"
   },
   {
    "duration": 17,
    "start_time": "2023-11-10T10:17:04.152Z"
   },
   {
    "duration": 23,
    "start_time": "2023-11-10T10:17:04.172Z"
   },
   {
    "duration": 37,
    "start_time": "2023-11-10T10:17:04.197Z"
   },
   {
    "duration": 22,
    "start_time": "2023-11-10T10:17:04.236Z"
   },
   {
    "duration": 40,
    "start_time": "2023-11-10T10:17:04.260Z"
   },
   {
    "duration": 59,
    "start_time": "2023-11-10T10:17:04.303Z"
   },
   {
    "duration": 36,
    "start_time": "2023-11-10T10:17:04.363Z"
   },
   {
    "duration": 45,
    "start_time": "2023-11-10T10:17:04.401Z"
   },
   {
    "duration": 283,
    "start_time": "2023-11-10T10:17:04.448Z"
   },
   {
    "duration": 205,
    "start_time": "2023-11-10T10:17:04.733Z"
   },
   {
    "duration": 260,
    "start_time": "2023-11-10T10:17:04.940Z"
   },
   {
    "duration": 16,
    "start_time": "2023-11-10T10:17:05.202Z"
   },
   {
    "duration": 327,
    "start_time": "2023-11-10T10:17:05.221Z"
   },
   {
    "duration": 20,
    "start_time": "2023-11-10T10:17:05.549Z"
   },
   {
    "duration": 498,
    "start_time": "2023-11-10T10:17:05.570Z"
   },
   {
    "duration": 17,
    "start_time": "2023-11-10T10:17:06.070Z"
   },
   {
    "duration": 107,
    "start_time": "2023-11-10T10:17:06.089Z"
   },
   {
    "duration": 227,
    "start_time": "2023-11-10T10:17:06.198Z"
   },
   {
    "duration": 15,
    "start_time": "2023-11-10T10:17:06.427Z"
   },
   {
    "duration": 252,
    "start_time": "2023-11-10T10:17:06.445Z"
   },
   {
    "duration": 10625,
    "start_time": "2023-11-10T10:17:06.699Z"
   },
   {
    "duration": 19,
    "start_time": "2023-11-10T10:17:17.327Z"
   },
   {
    "duration": 192,
    "start_time": "2023-11-10T10:17:17.348Z"
   },
   {
    "duration": 86,
    "start_time": "2023-11-10T10:17:17.542Z"
   },
   {
    "duration": 12,
    "start_time": "2023-11-10T10:17:17.630Z"
   },
   {
    "duration": 273,
    "start_time": "2023-11-10T10:17:17.644Z"
   },
   {
    "duration": 289,
    "start_time": "2023-11-10T10:17:17.918Z"
   },
   {
    "duration": 26,
    "start_time": "2023-11-10T10:17:18.213Z"
   },
   {
    "duration": 134,
    "start_time": "2023-11-10T10:17:18.241Z"
   },
   {
    "duration": 21,
    "start_time": "2023-11-10T10:17:18.377Z"
   },
   {
    "duration": 151,
    "start_time": "2023-11-10T10:17:18.416Z"
   },
   {
    "duration": 12,
    "start_time": "2023-11-10T10:17:18.569Z"
   },
   {
    "duration": 225,
    "start_time": "2023-11-10T10:17:18.583Z"
   },
   {
    "duration": 14,
    "start_time": "2023-11-10T10:17:18.809Z"
   },
   {
    "duration": 40,
    "start_time": "2023-11-10T10:17:18.824Z"
   },
   {
    "duration": 47,
    "start_time": "2023-11-10T10:17:18.866Z"
   },
   {
    "duration": 11,
    "start_time": "2023-11-10T10:17:18.915Z"
   },
   {
    "duration": 47,
    "start_time": "2023-11-10T10:17:18.928Z"
   },
   {
    "duration": 39,
    "start_time": "2023-11-10T10:17:18.976Z"
   },
   {
    "duration": 293,
    "start_time": "2023-11-10T10:17:19.017Z"
   },
   {
    "duration": 1613,
    "start_time": "2023-11-10T11:30:09.263Z"
   },
   {
    "duration": 132,
    "start_time": "2023-11-10T11:30:10.878Z"
   },
   {
    "duration": 17,
    "start_time": "2023-11-10T11:30:11.012Z"
   },
   {
    "duration": 14,
    "start_time": "2023-11-10T11:30:11.030Z"
   },
   {
    "duration": 6,
    "start_time": "2023-11-10T11:30:11.046Z"
   },
   {
    "duration": 25,
    "start_time": "2023-11-10T11:30:11.053Z"
   },
   {
    "duration": 23,
    "start_time": "2023-11-10T11:30:11.079Z"
   },
   {
    "duration": 29,
    "start_time": "2023-11-10T11:30:11.103Z"
   },
   {
    "duration": 7,
    "start_time": "2023-11-10T11:30:11.133Z"
   },
   {
    "duration": 8,
    "start_time": "2023-11-10T11:30:11.142Z"
   },
   {
    "duration": 8,
    "start_time": "2023-11-10T11:30:11.152Z"
   },
   {
    "duration": 15,
    "start_time": "2023-11-10T11:30:11.161Z"
   },
   {
    "duration": 4,
    "start_time": "2023-11-10T11:30:11.177Z"
   },
   {
    "duration": 14,
    "start_time": "2023-11-10T11:30:11.183Z"
   },
   {
    "duration": 4,
    "start_time": "2023-11-10T11:30:11.199Z"
   },
   {
    "duration": 36,
    "start_time": "2023-11-10T11:30:11.204Z"
   },
   {
    "duration": 194,
    "start_time": "2023-11-10T11:30:11.242Z"
   },
   {
    "duration": 178,
    "start_time": "2023-11-10T11:30:11.439Z"
   },
   {
    "duration": 217,
    "start_time": "2023-11-10T11:30:11.619Z"
   },
   {
    "duration": 11,
    "start_time": "2023-11-10T11:30:11.838Z"
   },
   {
    "duration": 292,
    "start_time": "2023-11-10T11:30:11.851Z"
   },
   {
    "duration": 18,
    "start_time": "2023-11-10T11:30:12.145Z"
   },
   {
    "duration": 463,
    "start_time": "2023-11-10T11:30:12.165Z"
   },
   {
    "duration": 17,
    "start_time": "2023-11-10T11:30:12.629Z"
   },
   {
    "duration": 79,
    "start_time": "2023-11-10T11:30:12.647Z"
   },
   {
    "duration": 196,
    "start_time": "2023-11-10T11:30:12.728Z"
   },
   {
    "duration": 22,
    "start_time": "2023-11-10T11:30:12.926Z"
   },
   {
    "duration": 223,
    "start_time": "2023-11-10T11:30:12.950Z"
   },
   {
    "duration": 8742,
    "start_time": "2023-11-10T11:30:13.175Z"
   },
   {
    "duration": 38,
    "start_time": "2023-11-10T11:30:21.919Z"
   },
   {
    "duration": 131,
    "start_time": "2023-11-10T11:30:21.958Z"
   },
   {
    "duration": 25,
    "start_time": "2023-11-10T11:30:22.140Z"
   },
   {
    "duration": 3,
    "start_time": "2023-11-10T11:30:22.166Z"
   },
   {
    "duration": 282,
    "start_time": "2023-11-10T11:30:22.170Z"
   },
   {
    "duration": 282,
    "start_time": "2023-11-10T11:30:22.454Z"
   },
   {
    "duration": 15,
    "start_time": "2023-11-10T11:30:22.740Z"
   },
   {
    "duration": 87,
    "start_time": "2023-11-10T11:30:22.756Z"
   },
   {
    "duration": 14,
    "start_time": "2023-11-10T11:30:22.844Z"
   },
   {
    "duration": 381,
    "start_time": "2023-11-10T11:30:22.860Z"
   },
   {
    "duration": 7,
    "start_time": "2023-11-10T11:30:23.242Z"
   },
   {
    "duration": 193,
    "start_time": "2023-11-10T11:30:23.252Z"
   },
   {
    "duration": 10,
    "start_time": "2023-11-10T11:30:23.446Z"
   },
   {
    "duration": 7,
    "start_time": "2023-11-10T11:30:23.458Z"
   },
   {
    "duration": 13,
    "start_time": "2023-11-10T11:30:23.466Z"
   },
   {
    "duration": 6,
    "start_time": "2023-11-10T11:30:23.480Z"
   },
   {
    "duration": 9,
    "start_time": "2023-11-10T11:30:23.488Z"
   },
   {
    "duration": 7,
    "start_time": "2023-11-10T11:30:23.499Z"
   },
   {
    "duration": 245,
    "start_time": "2023-11-10T11:30:23.540Z"
   },
   {
    "duration": 177,
    "start_time": "2023-11-10T12:13:12.665Z"
   },
   {
    "duration": 175,
    "start_time": "2023-11-10T12:13:27.030Z"
   },
   {
    "duration": 169,
    "start_time": "2023-11-10T12:15:43.398Z"
   },
   {
    "duration": 235,
    "start_time": "2023-11-10T12:17:42.865Z"
   },
   {
    "duration": 230,
    "start_time": "2023-11-10T12:19:12.790Z"
   },
   {
    "duration": 234,
    "start_time": "2023-11-10T12:25:46.434Z"
   },
   {
    "duration": 12,
    "start_time": "2023-11-10T12:33:30.665Z"
   },
   {
    "duration": 186,
    "start_time": "2023-11-10T12:39:32.470Z"
   },
   {
    "duration": 9,
    "start_time": "2023-11-10T12:40:09.207Z"
   },
   {
    "duration": 9,
    "start_time": "2023-11-10T12:44:11.338Z"
   },
   {
    "duration": 172,
    "start_time": "2023-11-10T12:44:22.722Z"
   },
   {
    "duration": 159,
    "start_time": "2023-11-10T12:45:37.016Z"
   },
   {
    "duration": 170,
    "start_time": "2023-11-10T12:46:09.770Z"
   },
   {
    "duration": 215,
    "start_time": "2023-11-10T12:46:54.162Z"
   },
   {
    "duration": 294,
    "start_time": "2023-11-10T12:48:16.616Z"
   },
   {
    "duration": 170,
    "start_time": "2023-11-10T12:49:58.758Z"
   },
   {
    "duration": 142,
    "start_time": "2023-11-10T12:52:11.664Z"
   },
   {
    "duration": 141,
    "start_time": "2023-11-10T12:57:14.955Z"
   },
   {
    "duration": 233,
    "start_time": "2023-11-10T12:57:46.778Z"
   },
   {
    "duration": 232,
    "start_time": "2023-11-10T12:58:10.580Z"
   },
   {
    "duration": 21,
    "start_time": "2023-11-10T13:00:22.130Z"
   },
   {
    "duration": 21,
    "start_time": "2023-11-10T13:01:28.161Z"
   },
   {
    "duration": 228,
    "start_time": "2023-11-10T13:01:48.064Z"
   },
   {
    "duration": 224,
    "start_time": "2023-11-10T13:07:15.295Z"
   },
   {
    "duration": 225,
    "start_time": "2023-11-10T13:10:36.006Z"
   },
   {
    "duration": 242,
    "start_time": "2023-11-10T13:10:48.038Z"
   },
   {
    "duration": 222,
    "start_time": "2023-11-10T13:11:48.277Z"
   },
   {
    "duration": 239,
    "start_time": "2023-11-10T13:12:00.470Z"
   },
   {
    "duration": 218,
    "start_time": "2023-11-10T13:14:50.664Z"
   },
   {
    "duration": 242,
    "start_time": "2023-11-10T13:15:00.365Z"
   },
   {
    "duration": 48,
    "start_time": "2023-11-10T13:33:41.632Z"
   },
   {
    "duration": 1427,
    "start_time": "2023-11-10T13:33:49.518Z"
   },
   {
    "duration": 145,
    "start_time": "2023-11-10T13:33:50.947Z"
   },
   {
    "duration": 17,
    "start_time": "2023-11-10T13:33:51.093Z"
   },
   {
    "duration": 12,
    "start_time": "2023-11-10T13:33:51.112Z"
   },
   {
    "duration": 5,
    "start_time": "2023-11-10T13:33:51.126Z"
   },
   {
    "duration": 14,
    "start_time": "2023-11-10T13:33:51.140Z"
   },
   {
    "duration": 12,
    "start_time": "2023-11-10T13:33:51.155Z"
   },
   {
    "duration": 16,
    "start_time": "2023-11-10T13:33:51.169Z"
   },
   {
    "duration": 7,
    "start_time": "2023-11-10T13:33:51.186Z"
   },
   {
    "duration": 11,
    "start_time": "2023-11-10T13:33:51.195Z"
   },
   {
    "duration": 12,
    "start_time": "2023-11-10T13:33:51.207Z"
   },
   {
    "duration": 8,
    "start_time": "2023-11-10T13:33:51.239Z"
   },
   {
    "duration": 3,
    "start_time": "2023-11-10T13:33:51.248Z"
   },
   {
    "duration": 14,
    "start_time": "2023-11-10T13:33:51.254Z"
   },
   {
    "duration": 4,
    "start_time": "2023-11-10T13:33:51.269Z"
   },
   {
    "duration": 18,
    "start_time": "2023-11-10T13:33:51.274Z"
   },
   {
    "duration": 212,
    "start_time": "2023-11-10T13:33:51.293Z"
   },
   {
    "duration": 212,
    "start_time": "2023-11-10T13:33:51.506Z"
   },
   {
    "duration": 197,
    "start_time": "2023-11-10T13:33:51.720Z"
   },
   {
    "duration": 28,
    "start_time": "2023-11-10T13:33:51.919Z"
   },
   {
    "duration": 292,
    "start_time": "2023-11-10T13:33:51.949Z"
   },
   {
    "duration": 17,
    "start_time": "2023-11-10T13:33:52.242Z"
   },
   {
    "duration": 450,
    "start_time": "2023-11-10T13:33:52.260Z"
   },
   {
    "duration": 13,
    "start_time": "2023-11-10T13:33:52.712Z"
   },
   {
    "duration": 95,
    "start_time": "2023-11-10T13:33:52.726Z"
   },
   {
    "duration": 200,
    "start_time": "2023-11-10T13:33:52.823Z"
   },
   {
    "duration": 24,
    "start_time": "2023-11-10T13:33:53.025Z"
   },
   {
    "duration": 208,
    "start_time": "2023-11-10T13:33:53.051Z"
   },
   {
    "duration": 8596,
    "start_time": "2023-11-10T13:33:53.261Z"
   },
   {
    "duration": 16,
    "start_time": "2023-11-10T13:34:01.859Z"
   },
   {
    "duration": 177,
    "start_time": "2023-11-10T13:34:01.876Z"
   },
   {
    "duration": 25,
    "start_time": "2023-11-10T13:34:02.055Z"
   },
   {
    "duration": 59,
    "start_time": "2023-11-10T13:34:02.081Z"
   },
   {
    "duration": 217,
    "start_time": "2023-11-10T13:34:02.142Z"
   },
   {
    "duration": 292,
    "start_time": "2023-11-10T13:34:02.361Z"
   },
   {
    "duration": 15,
    "start_time": "2023-11-10T13:34:02.654Z"
   },
   {
    "duration": 92,
    "start_time": "2023-11-10T13:34:02.671Z"
   },
   {
    "duration": 14,
    "start_time": "2023-11-10T13:34:02.765Z"
   },
   {
    "duration": 170,
    "start_time": "2023-11-10T13:34:02.780Z"
   },
   {
    "duration": 6,
    "start_time": "2023-11-10T13:34:02.952Z"
   },
   {
    "duration": 192,
    "start_time": "2023-11-10T13:34:02.961Z"
   },
   {
    "duration": 12,
    "start_time": "2023-11-10T13:34:03.155Z"
   },
   {
    "duration": 12,
    "start_time": "2023-11-10T13:34:03.168Z"
   },
   {
    "duration": 20,
    "start_time": "2023-11-10T13:34:03.182Z"
   },
   {
    "duration": 259,
    "start_time": "2023-11-10T13:34:03.203Z"
   },
   {
    "duration": 7,
    "start_time": "2023-11-10T13:34:03.463Z"
   },
   {
    "duration": 218,
    "start_time": "2023-11-10T13:34:03.471Z"
   },
   {
    "duration": 11,
    "start_time": "2023-11-10T13:34:03.690Z"
   },
   {
    "duration": 6,
    "start_time": "2023-11-10T13:34:03.703Z"
   },
   {
    "duration": 256,
    "start_time": "2023-11-10T13:34:03.710Z"
   },
   {
    "duration": 217,
    "start_time": "2023-11-10T13:34:27.818Z"
   },
   {
    "duration": 219,
    "start_time": "2023-11-10T13:34:38.653Z"
   },
   {
    "duration": 225,
    "start_time": "2023-11-10T13:34:53.146Z"
   },
   {
    "duration": 219,
    "start_time": "2023-11-10T13:35:46.474Z"
   },
   {
    "duration": 221,
    "start_time": "2023-11-10T13:36:00.465Z"
   },
   {
    "duration": 37,
    "start_time": "2023-11-10T13:47:51.924Z"
   },
   {
    "duration": 9,
    "start_time": "2023-11-10T13:50:46.208Z"
   },
   {
    "duration": 59,
    "start_time": "2023-11-11T06:44:34.051Z"
   },
   {
    "duration": 1607,
    "start_time": "2023-11-11T06:44:39.053Z"
   },
   {
    "duration": 195,
    "start_time": "2023-11-11T06:44:40.662Z"
   },
   {
    "duration": 18,
    "start_time": "2023-11-11T06:44:40.859Z"
   },
   {
    "duration": 17,
    "start_time": "2023-11-11T06:44:40.879Z"
   },
   {
    "duration": 7,
    "start_time": "2023-11-11T06:44:40.898Z"
   },
   {
    "duration": 16,
    "start_time": "2023-11-11T06:44:40.907Z"
   },
   {
    "duration": 39,
    "start_time": "2023-11-11T06:44:40.925Z"
   },
   {
    "duration": 20,
    "start_time": "2023-11-11T06:44:40.966Z"
   },
   {
    "duration": 7,
    "start_time": "2023-11-11T06:44:40.988Z"
   },
   {
    "duration": 8,
    "start_time": "2023-11-11T06:44:40.997Z"
   },
   {
    "duration": 7,
    "start_time": "2023-11-11T06:44:41.007Z"
   },
   {
    "duration": 7,
    "start_time": "2023-11-11T06:44:41.015Z"
   },
   {
    "duration": 29,
    "start_time": "2023-11-11T06:44:41.024Z"
   },
   {
    "duration": 16,
    "start_time": "2023-11-11T06:44:41.055Z"
   },
   {
    "duration": 5,
    "start_time": "2023-11-11T06:44:41.073Z"
   },
   {
    "duration": 17,
    "start_time": "2023-11-11T06:44:41.079Z"
   },
   {
    "duration": 199,
    "start_time": "2023-11-11T06:44:41.098Z"
   },
   {
    "duration": 173,
    "start_time": "2023-11-11T06:44:41.299Z"
   },
   {
    "duration": 207,
    "start_time": "2023-11-11T06:44:41.473Z"
   },
   {
    "duration": 15,
    "start_time": "2023-11-11T06:44:41.682Z"
   },
   {
    "duration": 292,
    "start_time": "2023-11-11T06:44:41.699Z"
   },
   {
    "duration": 15,
    "start_time": "2023-11-11T06:44:41.993Z"
   },
   {
    "duration": 429,
    "start_time": "2023-11-11T06:44:42.010Z"
   },
   {
    "duration": 19,
    "start_time": "2023-11-11T06:44:42.441Z"
   },
   {
    "duration": 74,
    "start_time": "2023-11-11T06:44:42.461Z"
   },
   {
    "duration": 197,
    "start_time": "2023-11-11T06:44:42.537Z"
   },
   {
    "duration": 21,
    "start_time": "2023-11-11T06:44:42.736Z"
   },
   {
    "duration": 295,
    "start_time": "2023-11-11T06:44:42.760Z"
   },
   {
    "duration": 9004,
    "start_time": "2023-11-11T06:44:43.057Z"
   },
   {
    "duration": 18,
    "start_time": "2023-11-11T06:44:52.064Z"
   },
   {
    "duration": 178,
    "start_time": "2023-11-11T06:44:52.083Z"
   },
   {
    "duration": 31,
    "start_time": "2023-11-11T06:44:52.262Z"
   },
   {
    "duration": 57,
    "start_time": "2023-11-11T06:44:52.295Z"
   },
   {
    "duration": 212,
    "start_time": "2023-11-11T06:44:52.354Z"
   },
   {
    "duration": 263,
    "start_time": "2023-11-11T06:44:52.568Z"
   },
   {
    "duration": 25,
    "start_time": "2023-11-11T06:44:52.832Z"
   },
   {
    "duration": 76,
    "start_time": "2023-11-11T06:44:52.859Z"
   },
   {
    "duration": 14,
    "start_time": "2023-11-11T06:44:52.951Z"
   },
   {
    "duration": 156,
    "start_time": "2023-11-11T06:44:52.966Z"
   },
   {
    "duration": 9,
    "start_time": "2023-11-11T06:44:53.124Z"
   },
   {
    "duration": 199,
    "start_time": "2023-11-11T06:44:53.153Z"
   },
   {
    "duration": 10,
    "start_time": "2023-11-11T06:44:53.353Z"
   },
   {
    "duration": 13,
    "start_time": "2023-11-11T06:44:53.365Z"
   },
   {
    "duration": 10,
    "start_time": "2023-11-11T06:44:53.380Z"
   },
   {
    "duration": 246,
    "start_time": "2023-11-11T06:44:53.391Z"
   },
   {
    "duration": 6,
    "start_time": "2023-11-11T06:44:53.638Z"
   },
   {
    "duration": 28,
    "start_time": "2023-11-11T06:44:53.651Z"
   },
   {
    "duration": 232,
    "start_time": "2023-11-11T06:44:53.680Z"
   },
   {
    "duration": 10,
    "start_time": "2023-11-11T06:44:53.914Z"
   },
   {
    "duration": 20,
    "start_time": "2023-11-11T06:44:53.925Z"
   },
   {
    "duration": 264,
    "start_time": "2023-11-11T06:44:53.946Z"
   },
   {
    "duration": 180,
    "start_time": "2023-11-11T06:45:02.103Z"
   },
   {
    "duration": 1476,
    "start_time": "2023-11-11T07:22:23.520Z"
   },
   {
    "duration": 152,
    "start_time": "2023-11-11T07:22:24.997Z"
   },
   {
    "duration": 27,
    "start_time": "2023-11-11T07:22:25.151Z"
   },
   {
    "duration": 14,
    "start_time": "2023-11-11T07:22:25.180Z"
   },
   {
    "duration": 6,
    "start_time": "2023-11-11T07:22:25.196Z"
   },
   {
    "duration": 16,
    "start_time": "2023-11-11T07:22:25.203Z"
   },
   {
    "duration": 52,
    "start_time": "2023-11-11T07:22:25.221Z"
   },
   {
    "duration": 22,
    "start_time": "2023-11-11T07:22:25.274Z"
   },
   {
    "duration": 9,
    "start_time": "2023-11-11T07:22:25.297Z"
   },
   {
    "duration": 12,
    "start_time": "2023-11-11T07:22:25.307Z"
   },
   {
    "duration": 8,
    "start_time": "2023-11-11T07:22:25.320Z"
   },
   {
    "duration": 16,
    "start_time": "2023-11-11T07:22:25.330Z"
   },
   {
    "duration": 7,
    "start_time": "2023-11-11T07:22:25.361Z"
   },
   {
    "duration": 19,
    "start_time": "2023-11-11T07:22:25.371Z"
   },
   {
    "duration": 4,
    "start_time": "2023-11-11T07:22:25.392Z"
   },
   {
    "duration": 30,
    "start_time": "2023-11-11T07:22:25.398Z"
   },
   {
    "duration": 212,
    "start_time": "2023-11-11T07:22:25.429Z"
   },
   {
    "duration": 184,
    "start_time": "2023-11-11T07:22:25.643Z"
   },
   {
    "duration": 199,
    "start_time": "2023-11-11T07:22:25.828Z"
   },
   {
    "duration": 23,
    "start_time": "2023-11-11T07:22:26.029Z"
   },
   {
    "duration": 370,
    "start_time": "2023-11-11T07:22:26.053Z"
   },
   {
    "duration": 17,
    "start_time": "2023-11-11T07:22:26.424Z"
   },
   {
    "duration": 468,
    "start_time": "2023-11-11T07:22:26.443Z"
   },
   {
    "duration": 14,
    "start_time": "2023-11-11T07:22:26.913Z"
   },
   {
    "duration": 85,
    "start_time": "2023-11-11T07:22:26.929Z"
   },
   {
    "duration": 202,
    "start_time": "2023-11-11T07:22:27.015Z"
   },
   {
    "duration": 15,
    "start_time": "2023-11-11T07:22:27.218Z"
   },
   {
    "duration": 243,
    "start_time": "2023-11-11T07:22:27.234Z"
   },
   {
    "duration": 9460,
    "start_time": "2023-11-11T07:22:27.478Z"
   },
   {
    "duration": 19,
    "start_time": "2023-11-11T07:22:36.940Z"
   },
   {
    "duration": 139,
    "start_time": "2023-11-11T07:22:36.961Z"
   },
   {
    "duration": 34,
    "start_time": "2023-11-11T07:22:37.159Z"
   },
   {
    "duration": 3,
    "start_time": "2023-11-11T07:22:37.194Z"
   },
   {
    "duration": 304,
    "start_time": "2023-11-11T07:22:37.198Z"
   },
   {
    "duration": 246,
    "start_time": "2023-11-11T07:22:37.503Z"
   },
   {
    "duration": 21,
    "start_time": "2023-11-11T07:22:37.752Z"
   },
   {
    "duration": 89,
    "start_time": "2023-11-11T07:22:37.774Z"
   },
   {
    "duration": 15,
    "start_time": "2023-11-11T07:22:37.865Z"
   },
   {
    "duration": 129,
    "start_time": "2023-11-11T07:22:37.881Z"
   },
   {
    "duration": 8,
    "start_time": "2023-11-11T07:22:38.012Z"
   },
   {
    "duration": 234,
    "start_time": "2023-11-11T07:22:38.026Z"
   },
   {
    "duration": 10,
    "start_time": "2023-11-11T07:22:38.262Z"
   },
   {
    "duration": 10,
    "start_time": "2023-11-11T07:22:38.273Z"
   },
   {
    "duration": 13,
    "start_time": "2023-11-11T07:22:38.285Z"
   },
   {
    "duration": 268,
    "start_time": "2023-11-11T07:22:38.299Z"
   },
   {
    "duration": 7,
    "start_time": "2023-11-11T07:22:38.569Z"
   },
   {
    "duration": 12,
    "start_time": "2023-11-11T07:22:38.578Z"
   },
   {
    "duration": 259,
    "start_time": "2023-11-11T07:22:38.591Z"
   },
   {
    "duration": 14,
    "start_time": "2023-11-11T07:22:38.852Z"
   },
   {
    "duration": 9,
    "start_time": "2023-11-11T07:22:38.867Z"
   },
   {
    "duration": 260,
    "start_time": "2023-11-11T07:22:38.877Z"
   },
   {
    "duration": 11,
    "start_time": "2023-11-11T07:24:39.850Z"
   },
   {
    "duration": 8,
    "start_time": "2023-11-11T07:32:46.429Z"
   },
   {
    "duration": 11,
    "start_time": "2023-11-11T07:32:50.433Z"
   },
   {
    "duration": 11,
    "start_time": "2023-11-11T07:33:12.192Z"
   },
   {
    "duration": 175,
    "start_time": "2023-11-11T07:39:23.977Z"
   },
   {
    "duration": 166,
    "start_time": "2023-11-11T07:46:05.097Z"
   },
   {
    "duration": 1726,
    "start_time": "2023-11-11T07:46:15.067Z"
   },
   {
    "duration": 145,
    "start_time": "2023-11-11T07:46:16.795Z"
   },
   {
    "duration": 22,
    "start_time": "2023-11-11T07:46:16.942Z"
   },
   {
    "duration": 15,
    "start_time": "2023-11-11T07:46:16.966Z"
   },
   {
    "duration": 10,
    "start_time": "2023-11-11T07:46:16.983Z"
   },
   {
    "duration": 26,
    "start_time": "2023-11-11T07:46:16.994Z"
   },
   {
    "duration": 16,
    "start_time": "2023-11-11T07:46:17.023Z"
   },
   {
    "duration": 59,
    "start_time": "2023-11-11T07:46:17.041Z"
   },
   {
    "duration": 8,
    "start_time": "2023-11-11T07:46:17.102Z"
   },
   {
    "duration": 8,
    "start_time": "2023-11-11T07:46:17.112Z"
   },
   {
    "duration": 10,
    "start_time": "2023-11-11T07:46:17.121Z"
   },
   {
    "duration": 8,
    "start_time": "2023-11-11T07:46:17.133Z"
   },
   {
    "duration": 3,
    "start_time": "2023-11-11T07:46:17.143Z"
   },
   {
    "duration": 27,
    "start_time": "2023-11-11T07:46:17.149Z"
   },
   {
    "duration": 5,
    "start_time": "2023-11-11T07:46:17.178Z"
   },
   {
    "duration": 18,
    "start_time": "2023-11-11T07:46:17.184Z"
   },
   {
    "duration": 194,
    "start_time": "2023-11-11T07:46:17.203Z"
   },
   {
    "duration": 169,
    "start_time": "2023-11-11T07:46:17.398Z"
   },
   {
    "duration": 215,
    "start_time": "2023-11-11T07:46:17.568Z"
   },
   {
    "duration": 73,
    "start_time": "2023-11-11T07:46:17.784Z"
   },
   {
    "duration": 422,
    "start_time": "2023-11-11T07:46:17.858Z"
   },
   {
    "duration": 70,
    "start_time": "2023-11-11T07:46:18.281Z"
   },
   {
    "duration": 664,
    "start_time": "2023-11-11T07:46:18.353Z"
   },
   {
    "duration": 15,
    "start_time": "2023-11-11T07:46:19.018Z"
   },
   {
    "duration": 81,
    "start_time": "2023-11-11T07:46:19.035Z"
   },
   {
    "duration": 218,
    "start_time": "2023-11-11T07:46:19.118Z"
   },
   {
    "duration": 17,
    "start_time": "2023-11-11T07:46:19.338Z"
   },
   {
    "duration": 309,
    "start_time": "2023-11-11T07:46:19.357Z"
   },
   {
    "duration": 9468,
    "start_time": "2023-11-11T07:46:19.668Z"
   },
   {
    "duration": 29,
    "start_time": "2023-11-11T07:46:29.137Z"
   },
   {
    "duration": 131,
    "start_time": "2023-11-11T07:46:29.168Z"
   },
   {
    "duration": 76,
    "start_time": "2023-11-11T07:46:29.300Z"
   },
   {
    "duration": 3,
    "start_time": "2023-11-11T07:46:29.378Z"
   },
   {
    "duration": 256,
    "start_time": "2023-11-11T07:46:29.382Z"
   },
   {
    "duration": 250,
    "start_time": "2023-11-11T07:46:29.640Z"
   },
   {
    "duration": 16,
    "start_time": "2023-11-11T07:46:29.891Z"
   },
   {
    "duration": 80,
    "start_time": "2023-11-11T07:46:29.908Z"
   },
   {
    "duration": 14,
    "start_time": "2023-11-11T07:46:29.989Z"
   },
   {
    "duration": 132,
    "start_time": "2023-11-11T07:46:30.005Z"
   },
   {
    "duration": 14,
    "start_time": "2023-11-11T07:46:30.139Z"
   },
   {
    "duration": 275,
    "start_time": "2023-11-11T07:46:30.157Z"
   },
   {
    "duration": 11,
    "start_time": "2023-11-11T07:46:30.434Z"
   },
   {
    "duration": 34,
    "start_time": "2023-11-11T07:46:30.452Z"
   },
   {
    "duration": 82,
    "start_time": "2023-11-11T07:46:30.487Z"
   },
   {
    "duration": 254,
    "start_time": "2023-11-11T07:46:30.570Z"
   },
   {
    "duration": 6,
    "start_time": "2023-11-11T07:46:30.826Z"
   },
   {
    "duration": 43,
    "start_time": "2023-11-11T07:46:30.833Z"
   },
   {
    "duration": 207,
    "start_time": "2023-11-11T07:46:30.877Z"
   },
   {
    "duration": 235,
    "start_time": "2023-11-11T07:46:31.086Z"
   },
   {
    "duration": 12,
    "start_time": "2023-11-11T07:46:31.322Z"
   },
   {
    "duration": 24,
    "start_time": "2023-11-11T07:46:31.336Z"
   },
   {
    "duration": 267,
    "start_time": "2023-11-11T07:46:31.361Z"
   },
   {
    "duration": 155,
    "start_time": "2023-11-11T07:48:01.227Z"
   },
   {
    "duration": 15,
    "start_time": "2023-11-11T07:52:40.204Z"
   },
   {
    "duration": 6,
    "start_time": "2023-11-11T07:54:33.161Z"
   },
   {
    "duration": 98,
    "start_time": "2023-11-11T07:55:46.561Z"
   },
   {
    "duration": 10,
    "start_time": "2023-11-11T07:55:53.324Z"
   },
   {
    "duration": 10,
    "start_time": "2023-11-11T07:56:27.110Z"
   },
   {
    "duration": 227,
    "start_time": "2023-11-11T07:57:14.398Z"
   },
   {
    "duration": 236,
    "start_time": "2023-11-11T07:59:18.483Z"
   },
   {
    "duration": 231,
    "start_time": "2023-11-11T07:59:33.621Z"
   },
   {
    "duration": 250,
    "start_time": "2023-11-11T08:03:59.146Z"
   },
   {
    "duration": 10,
    "start_time": "2023-11-11T08:05:51.526Z"
   },
   {
    "duration": 1496,
    "start_time": "2023-11-11T08:06:53.190Z"
   },
   {
    "duration": 145,
    "start_time": "2023-11-11T08:06:54.688Z"
   },
   {
    "duration": 19,
    "start_time": "2023-11-11T08:06:54.834Z"
   },
   {
    "duration": 13,
    "start_time": "2023-11-11T08:06:54.855Z"
   },
   {
    "duration": 5,
    "start_time": "2023-11-11T08:06:54.870Z"
   },
   {
    "duration": 24,
    "start_time": "2023-11-11T08:06:54.877Z"
   },
   {
    "duration": 13,
    "start_time": "2023-11-11T08:06:54.903Z"
   },
   {
    "duration": 40,
    "start_time": "2023-11-11T08:06:54.917Z"
   },
   {
    "duration": 7,
    "start_time": "2023-11-11T08:06:54.959Z"
   },
   {
    "duration": 14,
    "start_time": "2023-11-11T08:06:54.968Z"
   },
   {
    "duration": 7,
    "start_time": "2023-11-11T08:06:54.984Z"
   },
   {
    "duration": 13,
    "start_time": "2023-11-11T08:06:54.992Z"
   },
   {
    "duration": 4,
    "start_time": "2023-11-11T08:06:55.006Z"
   },
   {
    "duration": 42,
    "start_time": "2023-11-11T08:06:55.011Z"
   },
   {
    "duration": 3,
    "start_time": "2023-11-11T08:06:55.055Z"
   },
   {
    "duration": 28,
    "start_time": "2023-11-11T08:06:55.060Z"
   },
   {
    "duration": 205,
    "start_time": "2023-11-11T08:06:55.090Z"
   },
   {
    "duration": 186,
    "start_time": "2023-11-11T08:06:55.297Z"
   },
   {
    "duration": 193,
    "start_time": "2023-11-11T08:06:55.485Z"
   },
   {
    "duration": 12,
    "start_time": "2023-11-11T08:06:55.679Z"
   },
   {
    "duration": 289,
    "start_time": "2023-11-11T08:06:55.692Z"
   },
   {
    "duration": 17,
    "start_time": "2023-11-11T08:06:55.983Z"
   },
   {
    "duration": 439,
    "start_time": "2023-11-11T08:06:56.002Z"
   },
   {
    "duration": 19,
    "start_time": "2023-11-11T08:06:56.442Z"
   },
   {
    "duration": 80,
    "start_time": "2023-11-11T08:06:56.462Z"
   },
   {
    "duration": 196,
    "start_time": "2023-11-11T08:06:56.543Z"
   },
   {
    "duration": 17,
    "start_time": "2023-11-11T08:06:56.741Z"
   },
   {
    "duration": 215,
    "start_time": "2023-11-11T08:06:56.761Z"
   },
   {
    "duration": 9296,
    "start_time": "2023-11-11T08:06:56.978Z"
   },
   {
    "duration": 20,
    "start_time": "2023-11-11T08:07:06.277Z"
   },
   {
    "duration": 172,
    "start_time": "2023-11-11T08:07:06.299Z"
   },
   {
    "duration": 80,
    "start_time": "2023-11-11T08:07:06.473Z"
   },
   {
    "duration": 3,
    "start_time": "2023-11-11T08:07:06.555Z"
   },
   {
    "duration": 262,
    "start_time": "2023-11-11T08:07:06.560Z"
   },
   {
    "duration": 277,
    "start_time": "2023-11-11T08:07:06.824Z"
   },
   {
    "duration": 23,
    "start_time": "2023-11-11T08:07:07.103Z"
   },
   {
    "duration": 113,
    "start_time": "2023-11-11T08:07:07.128Z"
   },
   {
    "duration": 31,
    "start_time": "2023-11-11T08:07:07.242Z"
   },
   {
    "duration": 154,
    "start_time": "2023-11-11T08:07:07.276Z"
   },
   {
    "duration": 20,
    "start_time": "2023-11-11T08:07:07.433Z"
   },
   {
    "duration": 228,
    "start_time": "2023-11-11T08:07:07.455Z"
   },
   {
    "duration": 10,
    "start_time": "2023-11-11T08:07:07.684Z"
   },
   {
    "duration": 8,
    "start_time": "2023-11-11T08:07:07.695Z"
   },
   {
    "duration": 10,
    "start_time": "2023-11-11T08:07:07.704Z"
   },
   {
    "duration": 262,
    "start_time": "2023-11-11T08:07:07.715Z"
   },
   {
    "duration": 7,
    "start_time": "2023-11-11T08:07:07.978Z"
   },
   {
    "duration": 175,
    "start_time": "2023-11-11T08:07:07.986Z"
   },
   {
    "duration": 0,
    "start_time": "2023-11-11T08:07:08.163Z"
   },
   {
    "duration": 0,
    "start_time": "2023-11-11T08:07:08.163Z"
   },
   {
    "duration": 0,
    "start_time": "2023-11-11T08:07:08.164Z"
   },
   {
    "duration": 0,
    "start_time": "2023-11-11T08:07:08.165Z"
   },
   {
    "duration": 19,
    "start_time": "2023-11-11T08:08:16.130Z"
   },
   {
    "duration": 14,
    "start_time": "2023-11-11T08:10:27.560Z"
   },
   {
    "duration": 1454,
    "start_time": "2023-11-11T08:12:25.562Z"
   },
   {
    "duration": 167,
    "start_time": "2023-11-11T08:12:27.018Z"
   },
   {
    "duration": 17,
    "start_time": "2023-11-11T08:12:27.186Z"
   },
   {
    "duration": 12,
    "start_time": "2023-11-11T08:12:27.205Z"
   },
   {
    "duration": 5,
    "start_time": "2023-11-11T08:12:27.219Z"
   },
   {
    "duration": 40,
    "start_time": "2023-11-11T08:12:27.225Z"
   },
   {
    "duration": 17,
    "start_time": "2023-11-11T08:12:27.267Z"
   },
   {
    "duration": 20,
    "start_time": "2023-11-11T08:12:27.286Z"
   },
   {
    "duration": 7,
    "start_time": "2023-11-11T08:12:27.307Z"
   },
   {
    "duration": 8,
    "start_time": "2023-11-11T08:12:27.316Z"
   },
   {
    "duration": 34,
    "start_time": "2023-11-11T08:12:27.326Z"
   },
   {
    "duration": 10,
    "start_time": "2023-11-11T08:12:27.361Z"
   },
   {
    "duration": 4,
    "start_time": "2023-11-11T08:12:27.372Z"
   },
   {
    "duration": 20,
    "start_time": "2023-11-11T08:12:27.378Z"
   },
   {
    "duration": 5,
    "start_time": "2023-11-11T08:12:27.399Z"
   },
   {
    "duration": 56,
    "start_time": "2023-11-11T08:12:27.405Z"
   },
   {
    "duration": 191,
    "start_time": "2023-11-11T08:12:27.462Z"
   },
   {
    "duration": 182,
    "start_time": "2023-11-11T08:12:27.655Z"
   },
   {
    "duration": 191,
    "start_time": "2023-11-11T08:12:27.838Z"
   },
   {
    "duration": 22,
    "start_time": "2023-11-11T08:12:28.031Z"
   },
   {
    "duration": 284,
    "start_time": "2023-11-11T08:12:28.054Z"
   },
   {
    "duration": 25,
    "start_time": "2023-11-11T08:12:28.340Z"
   },
   {
    "duration": 415,
    "start_time": "2023-11-11T08:12:28.367Z"
   },
   {
    "duration": 14,
    "start_time": "2023-11-11T08:12:28.785Z"
   },
   {
    "duration": 84,
    "start_time": "2023-11-11T08:12:28.800Z"
   },
   {
    "duration": 200,
    "start_time": "2023-11-11T08:12:28.885Z"
   },
   {
    "duration": 14,
    "start_time": "2023-11-11T08:12:29.086Z"
   },
   {
    "duration": 225,
    "start_time": "2023-11-11T08:12:29.104Z"
   },
   {
    "duration": 9318,
    "start_time": "2023-11-11T08:12:29.331Z"
   },
   {
    "duration": 18,
    "start_time": "2023-11-11T08:12:38.652Z"
   },
   {
    "duration": 182,
    "start_time": "2023-11-11T08:12:38.671Z"
   },
   {
    "duration": 27,
    "start_time": "2023-11-11T08:12:38.854Z"
   },
   {
    "duration": 3,
    "start_time": "2023-11-11T08:12:38.882Z"
   },
   {
    "duration": 268,
    "start_time": "2023-11-11T08:12:38.887Z"
   },
   {
    "duration": 233,
    "start_time": "2023-11-11T08:12:39.157Z"
   },
   {
    "duration": 15,
    "start_time": "2023-11-11T08:12:39.391Z"
   },
   {
    "duration": 83,
    "start_time": "2023-11-11T08:12:39.407Z"
   },
   {
    "duration": 15,
    "start_time": "2023-11-11T08:12:39.491Z"
   },
   {
    "duration": 136,
    "start_time": "2023-11-11T08:12:39.507Z"
   },
   {
    "duration": 8,
    "start_time": "2023-11-11T08:12:39.644Z"
   },
   {
    "duration": 188,
    "start_time": "2023-11-11T08:12:39.654Z"
   },
   {
    "duration": 14,
    "start_time": "2023-11-11T08:12:39.844Z"
   },
   {
    "duration": 24,
    "start_time": "2023-11-11T08:12:39.859Z"
   },
   {
    "duration": 12,
    "start_time": "2023-11-11T08:12:39.884Z"
   },
   {
    "duration": 230,
    "start_time": "2023-11-11T08:12:39.897Z"
   },
   {
    "duration": 7,
    "start_time": "2023-11-11T08:12:40.128Z"
   },
   {
    "duration": 22,
    "start_time": "2023-11-11T08:12:40.137Z"
   },
   {
    "duration": 8,
    "start_time": "2023-11-11T08:12:40.160Z"
   },
   {
    "duration": 2391,
    "start_time": "2023-11-11T08:12:40.169Z"
   },
   {
    "duration": 12,
    "start_time": "2023-11-11T08:12:42.561Z"
   },
   {
    "duration": 6,
    "start_time": "2023-11-11T08:12:42.574Z"
   },
   {
    "duration": 271,
    "start_time": "2023-11-11T08:12:42.581Z"
   },
   {
    "duration": 219,
    "start_time": "2023-11-11T08:14:35.925Z"
   },
   {
    "duration": 229,
    "start_time": "2023-11-11T08:14:51.549Z"
   },
   {
    "duration": 1369,
    "start_time": "2023-11-11T08:15:14.405Z"
   },
   {
    "duration": 113,
    "start_time": "2023-11-11T08:15:15.776Z"
   },
   {
    "duration": 17,
    "start_time": "2023-11-11T08:15:15.891Z"
   },
   {
    "duration": 12,
    "start_time": "2023-11-11T08:15:15.910Z"
   },
   {
    "duration": 5,
    "start_time": "2023-11-11T08:15:15.924Z"
   },
   {
    "duration": 31,
    "start_time": "2023-11-11T08:15:15.930Z"
   },
   {
    "duration": 14,
    "start_time": "2023-11-11T08:15:15.962Z"
   },
   {
    "duration": 18,
    "start_time": "2023-11-11T08:15:15.978Z"
   },
   {
    "duration": 7,
    "start_time": "2023-11-11T08:15:15.997Z"
   },
   {
    "duration": 10,
    "start_time": "2023-11-11T08:15:16.006Z"
   },
   {
    "duration": 7,
    "start_time": "2023-11-11T08:15:16.017Z"
   },
   {
    "duration": 32,
    "start_time": "2023-11-11T08:15:16.025Z"
   },
   {
    "duration": 4,
    "start_time": "2023-11-11T08:15:16.059Z"
   },
   {
    "duration": 18,
    "start_time": "2023-11-11T08:15:16.064Z"
   },
   {
    "duration": 3,
    "start_time": "2023-11-11T08:15:16.083Z"
   },
   {
    "duration": 19,
    "start_time": "2023-11-11T08:15:16.087Z"
   },
   {
    "duration": 200,
    "start_time": "2023-11-11T08:15:16.107Z"
   },
   {
    "duration": 179,
    "start_time": "2023-11-11T08:15:16.309Z"
   },
   {
    "duration": 213,
    "start_time": "2023-11-11T08:15:16.490Z"
   },
   {
    "duration": 12,
    "start_time": "2023-11-11T08:15:16.705Z"
   },
   {
    "duration": 266,
    "start_time": "2023-11-11T08:15:16.719Z"
   },
   {
    "duration": 16,
    "start_time": "2023-11-11T08:15:16.986Z"
   },
   {
    "duration": 445,
    "start_time": "2023-11-11T08:15:17.003Z"
   },
   {
    "duration": 15,
    "start_time": "2023-11-11T08:15:17.449Z"
   },
   {
    "duration": 90,
    "start_time": "2023-11-11T08:15:17.465Z"
   },
   {
    "duration": 189,
    "start_time": "2023-11-11T08:15:17.556Z"
   },
   {
    "duration": 17,
    "start_time": "2023-11-11T08:15:17.746Z"
   },
   {
    "duration": 224,
    "start_time": "2023-11-11T08:15:17.766Z"
   },
   {
    "duration": 9119,
    "start_time": "2023-11-11T08:15:17.991Z"
   },
   {
    "duration": 41,
    "start_time": "2023-11-11T08:15:27.112Z"
   },
   {
    "duration": 133,
    "start_time": "2023-11-11T08:15:27.154Z"
   },
   {
    "duration": 81,
    "start_time": "2023-11-11T08:15:27.288Z"
   },
   {
    "duration": 5,
    "start_time": "2023-11-11T08:15:27.370Z"
   },
   {
    "duration": 256,
    "start_time": "2023-11-11T08:15:27.377Z"
   },
   {
    "duration": 247,
    "start_time": "2023-11-11T08:15:27.634Z"
   },
   {
    "duration": 17,
    "start_time": "2023-11-11T08:15:27.883Z"
   },
   {
    "duration": 90,
    "start_time": "2023-11-11T08:15:27.901Z"
   },
   {
    "duration": 13,
    "start_time": "2023-11-11T08:15:27.993Z"
   },
   {
    "duration": 127,
    "start_time": "2023-11-11T08:15:28.007Z"
   },
   {
    "duration": 8,
    "start_time": "2023-11-11T08:15:28.135Z"
   },
   {
    "duration": 191,
    "start_time": "2023-11-11T08:15:28.152Z"
   },
   {
    "duration": 11,
    "start_time": "2023-11-11T08:15:28.351Z"
   },
   {
    "duration": 8,
    "start_time": "2023-11-11T08:15:28.363Z"
   },
   {
    "duration": 11,
    "start_time": "2023-11-11T08:15:28.372Z"
   },
   {
    "duration": 262,
    "start_time": "2023-11-11T08:15:28.384Z"
   },
   {
    "duration": 6,
    "start_time": "2023-11-11T08:15:28.648Z"
   },
   {
    "duration": 13,
    "start_time": "2023-11-11T08:15:28.656Z"
   },
   {
    "duration": 247,
    "start_time": "2023-11-11T08:15:28.670Z"
   },
   {
    "duration": 13,
    "start_time": "2023-11-11T08:15:28.919Z"
   },
   {
    "duration": 19,
    "start_time": "2023-11-11T08:15:28.934Z"
   },
   {
    "duration": 281,
    "start_time": "2023-11-11T08:15:28.954Z"
   },
   {
    "duration": 256,
    "start_time": "2023-11-11T08:24:39.415Z"
   },
   {
    "duration": 1405,
    "start_time": "2023-11-11T08:26:43.363Z"
   },
   {
    "duration": 148,
    "start_time": "2023-11-11T08:26:44.769Z"
   },
   {
    "duration": 17,
    "start_time": "2023-11-11T08:26:44.919Z"
   },
   {
    "duration": 12,
    "start_time": "2023-11-11T08:26:44.937Z"
   },
   {
    "duration": 6,
    "start_time": "2023-11-11T08:26:44.950Z"
   },
   {
    "duration": 15,
    "start_time": "2023-11-11T08:26:44.957Z"
   },
   {
    "duration": 16,
    "start_time": "2023-11-11T08:26:44.973Z"
   },
   {
    "duration": 20,
    "start_time": "2023-11-11T08:26:44.990Z"
   },
   {
    "duration": 7,
    "start_time": "2023-11-11T08:26:45.012Z"
   },
   {
    "duration": 45,
    "start_time": "2023-11-11T08:26:45.021Z"
   },
   {
    "duration": 12,
    "start_time": "2023-11-11T08:26:45.068Z"
   },
   {
    "duration": 17,
    "start_time": "2023-11-11T08:26:45.081Z"
   },
   {
    "duration": 7,
    "start_time": "2023-11-11T08:26:45.100Z"
   },
   {
    "duration": 33,
    "start_time": "2023-11-11T08:26:45.109Z"
   },
   {
    "duration": 4,
    "start_time": "2023-11-11T08:26:45.144Z"
   },
   {
    "duration": 19,
    "start_time": "2023-11-11T08:26:45.149Z"
   },
   {
    "duration": 178,
    "start_time": "2023-11-11T08:26:45.170Z"
   },
   {
    "duration": 176,
    "start_time": "2023-11-11T08:26:45.352Z"
   },
   {
    "duration": 224,
    "start_time": "2023-11-11T08:26:45.529Z"
   },
   {
    "duration": 13,
    "start_time": "2023-11-11T08:26:45.754Z"
   },
   {
    "duration": 284,
    "start_time": "2023-11-11T08:26:45.768Z"
   },
   {
    "duration": 16,
    "start_time": "2023-11-11T08:26:46.054Z"
   },
   {
    "duration": 418,
    "start_time": "2023-11-11T08:26:46.071Z"
   },
   {
    "duration": 13,
    "start_time": "2023-11-11T08:26:46.490Z"
   },
   {
    "duration": 81,
    "start_time": "2023-11-11T08:26:46.504Z"
   },
   {
    "duration": 189,
    "start_time": "2023-11-11T08:26:46.586Z"
   },
   {
    "duration": 12,
    "start_time": "2023-11-11T08:26:46.776Z"
   },
   {
    "duration": 221,
    "start_time": "2023-11-11T08:26:46.791Z"
   },
   {
    "duration": 9029,
    "start_time": "2023-11-11T08:26:47.013Z"
   },
   {
    "duration": 21,
    "start_time": "2023-11-11T08:26:56.045Z"
   },
   {
    "duration": 128,
    "start_time": "2023-11-11T08:26:56.068Z"
   },
   {
    "duration": 79,
    "start_time": "2023-11-11T08:26:56.198Z"
   },
   {
    "duration": 3,
    "start_time": "2023-11-11T08:26:56.279Z"
   },
   {
    "duration": 247,
    "start_time": "2023-11-11T08:26:56.284Z"
   },
   {
    "duration": 245,
    "start_time": "2023-11-11T08:26:56.532Z"
   },
   {
    "duration": 15,
    "start_time": "2023-11-11T08:26:56.779Z"
   },
   {
    "duration": 84,
    "start_time": "2023-11-11T08:26:56.795Z"
   },
   {
    "duration": 14,
    "start_time": "2023-11-11T08:26:56.880Z"
   },
   {
    "duration": 127,
    "start_time": "2023-11-11T08:26:56.895Z"
   },
   {
    "duration": 6,
    "start_time": "2023-11-11T08:26:57.024Z"
   },
   {
    "duration": 202,
    "start_time": "2023-11-11T08:26:57.032Z"
   },
   {
    "duration": 17,
    "start_time": "2023-11-11T08:26:57.235Z"
   },
   {
    "duration": 8,
    "start_time": "2023-11-11T08:26:57.253Z"
   },
   {
    "duration": 11,
    "start_time": "2023-11-11T08:26:57.262Z"
   },
   {
    "duration": 273,
    "start_time": "2023-11-11T08:26:57.274Z"
   },
   {
    "duration": 7,
    "start_time": "2023-11-11T08:26:57.549Z"
   },
   {
    "duration": 10,
    "start_time": "2023-11-11T08:26:57.557Z"
   },
   {
    "duration": 233,
    "start_time": "2023-11-11T08:26:57.568Z"
   },
   {
    "duration": 11,
    "start_time": "2023-11-11T08:26:57.803Z"
   },
   {
    "duration": 7,
    "start_time": "2023-11-11T08:26:57.816Z"
   },
   {
    "duration": 277,
    "start_time": "2023-11-11T08:26:57.824Z"
   },
   {
    "duration": 1423,
    "start_time": "2023-11-11T09:16:31.833Z"
   },
   {
    "duration": 101,
    "start_time": "2023-11-11T09:16:33.258Z"
   },
   {
    "duration": 16,
    "start_time": "2023-11-11T09:16:33.361Z"
   },
   {
    "duration": 11,
    "start_time": "2023-11-11T09:16:33.378Z"
   },
   {
    "duration": 5,
    "start_time": "2023-11-11T09:16:33.390Z"
   },
   {
    "duration": 14,
    "start_time": "2023-11-11T09:16:33.396Z"
   },
   {
    "duration": 13,
    "start_time": "2023-11-11T09:16:33.411Z"
   },
   {
    "duration": 16,
    "start_time": "2023-11-11T09:16:33.452Z"
   },
   {
    "duration": 7,
    "start_time": "2023-11-11T09:16:33.469Z"
   },
   {
    "duration": 24,
    "start_time": "2023-11-11T09:16:33.478Z"
   },
   {
    "duration": 7,
    "start_time": "2023-11-11T09:16:33.504Z"
   },
   {
    "duration": 7,
    "start_time": "2023-11-11T09:16:33.513Z"
   },
   {
    "duration": 3,
    "start_time": "2023-11-11T09:16:33.521Z"
   },
   {
    "duration": 34,
    "start_time": "2023-11-11T09:16:33.526Z"
   },
   {
    "duration": 4,
    "start_time": "2023-11-11T09:16:33.561Z"
   },
   {
    "duration": 17,
    "start_time": "2023-11-11T09:16:33.566Z"
   },
   {
    "duration": 200,
    "start_time": "2023-11-11T09:16:33.584Z"
   },
   {
    "duration": 180,
    "start_time": "2023-11-11T09:16:33.785Z"
   },
   {
    "duration": 214,
    "start_time": "2023-11-11T09:16:33.967Z"
   },
   {
    "duration": 12,
    "start_time": "2023-11-11T09:16:34.182Z"
   },
   {
    "duration": 282,
    "start_time": "2023-11-11T09:16:34.195Z"
   },
   {
    "duration": 17,
    "start_time": "2023-11-11T09:16:34.478Z"
   },
   {
    "duration": 440,
    "start_time": "2023-11-11T09:16:34.496Z"
   },
   {
    "duration": 21,
    "start_time": "2023-11-11T09:16:34.937Z"
   },
   {
    "duration": 69,
    "start_time": "2023-11-11T09:16:34.960Z"
   },
   {
    "duration": 230,
    "start_time": "2023-11-11T09:16:35.030Z"
   },
   {
    "duration": 13,
    "start_time": "2023-11-11T09:16:35.262Z"
   },
   {
    "duration": 208,
    "start_time": "2023-11-11T09:16:35.278Z"
   },
   {
    "duration": 9317,
    "start_time": "2023-11-11T09:16:35.487Z"
   },
   {
    "duration": 49,
    "start_time": "2023-11-11T09:16:44.805Z"
   },
   {
    "duration": 133,
    "start_time": "2023-11-11T09:16:44.856Z"
   },
   {
    "duration": 81,
    "start_time": "2023-11-11T09:16:44.990Z"
   },
   {
    "duration": 4,
    "start_time": "2023-11-11T09:16:45.072Z"
   },
   {
    "duration": 270,
    "start_time": "2023-11-11T09:16:45.077Z"
   },
   {
    "duration": 238,
    "start_time": "2023-11-11T09:16:45.348Z"
   },
   {
    "duration": 15,
    "start_time": "2023-11-11T09:16:45.588Z"
   },
   {
    "duration": 85,
    "start_time": "2023-11-11T09:16:45.604Z"
   },
   {
    "duration": 13,
    "start_time": "2023-11-11T09:16:45.690Z"
   },
   {
    "duration": 127,
    "start_time": "2023-11-11T09:16:45.705Z"
   },
   {
    "duration": 8,
    "start_time": "2023-11-11T09:16:45.833Z"
   },
   {
    "duration": 191,
    "start_time": "2023-11-11T09:16:45.851Z"
   },
   {
    "duration": 14,
    "start_time": "2023-11-11T09:16:46.044Z"
   },
   {
    "duration": 7,
    "start_time": "2023-11-11T09:16:46.059Z"
   },
   {
    "duration": 11,
    "start_time": "2023-11-11T09:16:46.067Z"
   },
   {
    "duration": 265,
    "start_time": "2023-11-11T09:16:46.079Z"
   },
   {
    "duration": 10,
    "start_time": "2023-11-11T09:16:46.345Z"
   },
   {
    "duration": 11,
    "start_time": "2023-11-11T09:16:46.356Z"
   },
   {
    "duration": 236,
    "start_time": "2023-11-11T09:16:46.368Z"
   },
   {
    "duration": 11,
    "start_time": "2023-11-11T09:16:46.606Z"
   },
   {
    "duration": 8,
    "start_time": "2023-11-11T09:16:46.618Z"
   },
   {
    "duration": 267,
    "start_time": "2023-11-11T09:16:46.628Z"
   },
   {
    "duration": 109,
    "start_time": "2023-11-11T09:16:46.897Z"
   },
   {
    "duration": 1449,
    "start_time": "2023-11-11T10:33:00.091Z"
   },
   {
    "duration": 153,
    "start_time": "2023-11-11T10:33:01.542Z"
   },
   {
    "duration": 16,
    "start_time": "2023-11-11T10:33:01.697Z"
   },
   {
    "duration": 39,
    "start_time": "2023-11-11T10:33:01.715Z"
   },
   {
    "duration": 27,
    "start_time": "2023-11-11T10:33:01.756Z"
   },
   {
    "duration": 59,
    "start_time": "2023-11-11T10:33:01.785Z"
   },
   {
    "duration": 48,
    "start_time": "2023-11-11T10:33:01.845Z"
   },
   {
    "duration": 50,
    "start_time": "2023-11-11T10:33:01.894Z"
   },
   {
    "duration": 21,
    "start_time": "2023-11-11T10:33:01.946Z"
   },
   {
    "duration": 25,
    "start_time": "2023-11-11T10:33:01.970Z"
   },
   {
    "duration": 27,
    "start_time": "2023-11-11T10:33:01.996Z"
   },
   {
    "duration": 15,
    "start_time": "2023-11-11T10:33:02.024Z"
   },
   {
    "duration": 22,
    "start_time": "2023-11-11T10:33:02.040Z"
   },
   {
    "duration": 77,
    "start_time": "2023-11-11T10:33:02.063Z"
   },
   {
    "duration": 89,
    "start_time": "2023-11-11T10:33:02.141Z"
   },
   {
    "duration": 36,
    "start_time": "2023-11-11T10:33:02.231Z"
   },
   {
    "duration": 242,
    "start_time": "2023-11-11T10:33:02.268Z"
   },
   {
    "duration": 178,
    "start_time": "2023-11-11T10:33:02.511Z"
   },
   {
    "duration": 207,
    "start_time": "2023-11-11T10:33:02.691Z"
   },
   {
    "duration": 13,
    "start_time": "2023-11-11T10:33:02.899Z"
   },
   {
    "duration": 284,
    "start_time": "2023-11-11T10:33:02.914Z"
   },
   {
    "duration": 17,
    "start_time": "2023-11-11T10:33:03.199Z"
   },
   {
    "duration": 416,
    "start_time": "2023-11-11T10:33:03.217Z"
   },
   {
    "duration": 19,
    "start_time": "2023-11-11T10:33:03.634Z"
   },
   {
    "duration": 70,
    "start_time": "2023-11-11T10:33:03.654Z"
   },
   {
    "duration": 205,
    "start_time": "2023-11-11T10:33:03.726Z"
   },
   {
    "duration": 21,
    "start_time": "2023-11-11T10:33:03.932Z"
   },
   {
    "duration": 281,
    "start_time": "2023-11-11T10:33:03.956Z"
   },
   {
    "duration": 9168,
    "start_time": "2023-11-11T10:33:04.240Z"
   },
   {
    "duration": 43,
    "start_time": "2023-11-11T10:33:13.410Z"
   },
   {
    "duration": 135,
    "start_time": "2023-11-11T10:33:13.455Z"
   },
   {
    "duration": 77,
    "start_time": "2023-11-11T10:33:13.592Z"
   },
   {
    "duration": 3,
    "start_time": "2023-11-11T10:33:13.671Z"
   },
   {
    "duration": 249,
    "start_time": "2023-11-11T10:33:13.676Z"
   },
   {
    "duration": 246,
    "start_time": "2023-11-11T10:33:13.927Z"
   },
   {
    "duration": 16,
    "start_time": "2023-11-11T10:33:14.174Z"
   },
   {
    "duration": 89,
    "start_time": "2023-11-11T10:33:14.191Z"
   },
   {
    "duration": 13,
    "start_time": "2023-11-11T10:33:14.281Z"
   },
   {
    "duration": 130,
    "start_time": "2023-11-11T10:33:14.296Z"
   },
   {
    "duration": 7,
    "start_time": "2023-11-11T10:33:14.428Z"
   },
   {
    "duration": 187,
    "start_time": "2023-11-11T10:33:14.436Z"
   },
   {
    "duration": 10,
    "start_time": "2023-11-11T10:33:14.625Z"
   },
   {
    "duration": 16,
    "start_time": "2023-11-11T10:33:14.636Z"
   },
   {
    "duration": 10,
    "start_time": "2023-11-11T10:33:14.654Z"
   },
   {
    "duration": 237,
    "start_time": "2023-11-11T10:33:14.666Z"
   },
   {
    "duration": 7,
    "start_time": "2023-11-11T10:33:14.904Z"
   },
   {
    "duration": 11,
    "start_time": "2023-11-11T10:33:14.912Z"
   },
   {
    "duration": 258,
    "start_time": "2023-11-11T10:33:14.924Z"
   },
   {
    "duration": 11,
    "start_time": "2023-11-11T10:33:15.184Z"
   },
   {
    "duration": 17,
    "start_time": "2023-11-11T10:33:15.196Z"
   },
   {
    "duration": 254,
    "start_time": "2023-11-11T10:33:15.215Z"
   },
   {
    "duration": 1571,
    "start_time": "2023-11-11T12:01:08.312Z"
   },
   {
    "duration": 144,
    "start_time": "2023-11-11T12:01:09.885Z"
   },
   {
    "duration": 17,
    "start_time": "2023-11-11T12:01:10.030Z"
   },
   {
    "duration": 27,
    "start_time": "2023-11-11T12:01:10.048Z"
   },
   {
    "duration": 7,
    "start_time": "2023-11-11T12:01:10.077Z"
   },
   {
    "duration": 25,
    "start_time": "2023-11-11T12:01:10.085Z"
   },
   {
    "duration": 22,
    "start_time": "2023-11-11T12:01:10.111Z"
   },
   {
    "duration": 25,
    "start_time": "2023-11-11T12:01:10.135Z"
   },
   {
    "duration": 8,
    "start_time": "2023-11-11T12:01:10.162Z"
   },
   {
    "duration": 8,
    "start_time": "2023-11-11T12:01:10.171Z"
   },
   {
    "duration": 13,
    "start_time": "2023-11-11T12:01:10.180Z"
   },
   {
    "duration": 9,
    "start_time": "2023-11-11T12:01:10.194Z"
   },
   {
    "duration": 4,
    "start_time": "2023-11-11T12:01:10.204Z"
   },
   {
    "duration": 44,
    "start_time": "2023-11-11T12:01:10.212Z"
   },
   {
    "duration": 4,
    "start_time": "2023-11-11T12:01:10.258Z"
   },
   {
    "duration": 16,
    "start_time": "2023-11-11T12:01:10.264Z"
   },
   {
    "duration": 199,
    "start_time": "2023-11-11T12:01:10.282Z"
   },
   {
    "duration": 181,
    "start_time": "2023-11-11T12:01:10.482Z"
   },
   {
    "duration": 305,
    "start_time": "2023-11-11T12:01:10.664Z"
   },
   {
    "duration": 13,
    "start_time": "2023-11-11T12:01:10.970Z"
   },
   {
    "duration": 297,
    "start_time": "2023-11-11T12:01:10.984Z"
   },
   {
    "duration": 18,
    "start_time": "2023-11-11T12:01:11.283Z"
   },
   {
    "duration": 432,
    "start_time": "2023-11-11T12:01:11.303Z"
   },
   {
    "duration": 24,
    "start_time": "2023-11-11T12:01:11.737Z"
   },
   {
    "duration": 71,
    "start_time": "2023-11-11T12:01:11.763Z"
   },
   {
    "duration": 195,
    "start_time": "2023-11-11T12:01:11.836Z"
   },
   {
    "duration": 27,
    "start_time": "2023-11-11T12:01:12.033Z"
   },
   {
    "duration": 239,
    "start_time": "2023-11-11T12:01:12.062Z"
   },
   {
    "duration": 9134,
    "start_time": "2023-11-11T12:01:12.302Z"
   },
   {
    "duration": 27,
    "start_time": "2023-11-11T12:01:21.437Z"
   },
   {
    "duration": 132,
    "start_time": "2023-11-11T12:01:21.465Z"
   },
   {
    "duration": 78,
    "start_time": "2023-11-11T12:01:21.598Z"
   },
   {
    "duration": 3,
    "start_time": "2023-11-11T12:01:21.677Z"
   },
   {
    "duration": 250,
    "start_time": "2023-11-11T12:01:21.682Z"
   },
   {
    "duration": 239,
    "start_time": "2023-11-11T12:01:21.934Z"
   },
   {
    "duration": 17,
    "start_time": "2023-11-11T12:01:22.175Z"
   },
   {
    "duration": 87,
    "start_time": "2023-11-11T12:01:22.193Z"
   },
   {
    "duration": 16,
    "start_time": "2023-11-11T12:01:22.282Z"
   },
   {
    "duration": 129,
    "start_time": "2023-11-11T12:01:22.299Z"
   },
   {
    "duration": 7,
    "start_time": "2023-11-11T12:01:22.429Z"
   },
   {
    "duration": 198,
    "start_time": "2023-11-11T12:01:22.454Z"
   },
   {
    "duration": 11,
    "start_time": "2023-11-11T12:01:22.653Z"
   },
   {
    "duration": 20,
    "start_time": "2023-11-11T12:01:22.665Z"
   },
   {
    "duration": 15,
    "start_time": "2023-11-11T12:01:22.686Z"
   },
   {
    "duration": 259,
    "start_time": "2023-11-11T12:01:22.702Z"
   },
   {
    "duration": 7,
    "start_time": "2023-11-11T12:01:22.962Z"
   },
   {
    "duration": 11,
    "start_time": "2023-11-11T12:01:22.971Z"
   },
   {
    "duration": 382,
    "start_time": "2023-11-11T12:01:22.984Z"
   },
   {
    "duration": 12,
    "start_time": "2023-11-11T12:01:23.368Z"
   },
   {
    "duration": 23,
    "start_time": "2023-11-11T12:01:23.381Z"
   },
   {
    "duration": 254,
    "start_time": "2023-11-11T12:01:23.405Z"
   },
   {
    "duration": 1762,
    "start_time": "2023-11-12T16:16:02.120Z"
   },
   {
    "duration": 199,
    "start_time": "2023-11-12T16:16:03.886Z"
   },
   {
    "duration": 20,
    "start_time": "2023-11-12T16:16:04.087Z"
   },
   {
    "duration": 16,
    "start_time": "2023-11-12T16:16:04.109Z"
   },
   {
    "duration": 8,
    "start_time": "2023-11-12T16:16:04.127Z"
   },
   {
    "duration": 24,
    "start_time": "2023-11-12T16:16:04.136Z"
   },
   {
    "duration": 50,
    "start_time": "2023-11-12T16:16:04.161Z"
   },
   {
    "duration": 16,
    "start_time": "2023-11-12T16:16:04.213Z"
   },
   {
    "duration": 7,
    "start_time": "2023-11-12T16:16:04.230Z"
   },
   {
    "duration": 6,
    "start_time": "2023-11-12T16:16:04.239Z"
   },
   {
    "duration": 8,
    "start_time": "2023-11-12T16:16:04.246Z"
   },
   {
    "duration": 22,
    "start_time": "2023-11-12T16:16:04.255Z"
   },
   {
    "duration": 8,
    "start_time": "2023-11-12T16:16:04.279Z"
   },
   {
    "duration": 20,
    "start_time": "2023-11-12T16:16:04.291Z"
   },
   {
    "duration": 15,
    "start_time": "2023-11-12T16:16:04.312Z"
   },
   {
    "duration": 17,
    "start_time": "2023-11-12T16:16:04.328Z"
   },
   {
    "duration": 250,
    "start_time": "2023-11-12T16:16:04.346Z"
   },
   {
    "duration": 217,
    "start_time": "2023-11-12T16:16:04.598Z"
   },
   {
    "duration": 246,
    "start_time": "2023-11-12T16:16:04.816Z"
   },
   {
    "duration": 32,
    "start_time": "2023-11-12T16:16:05.063Z"
   },
   {
    "duration": 329,
    "start_time": "2023-11-12T16:16:05.097Z"
   },
   {
    "duration": 17,
    "start_time": "2023-11-12T16:16:05.428Z"
   },
   {
    "duration": 526,
    "start_time": "2023-11-12T16:16:05.446Z"
   },
   {
    "duration": 20,
    "start_time": "2023-11-12T16:16:05.974Z"
   },
   {
    "duration": 106,
    "start_time": "2023-11-12T16:16:05.996Z"
   },
   {
    "duration": 220,
    "start_time": "2023-11-12T16:16:06.104Z"
   },
   {
    "duration": 14,
    "start_time": "2023-11-12T16:16:06.326Z"
   },
   {
    "duration": 299,
    "start_time": "2023-11-12T16:16:06.341Z"
   },
   {
    "duration": 10542,
    "start_time": "2023-11-12T16:16:06.641Z"
   },
   {
    "duration": 24,
    "start_time": "2023-11-12T16:16:17.186Z"
   },
   {
    "duration": 191,
    "start_time": "2023-11-12T16:16:17.211Z"
   },
   {
    "duration": 90,
    "start_time": "2023-11-12T16:16:17.403Z"
   },
   {
    "duration": 3,
    "start_time": "2023-11-12T16:16:17.495Z"
   },
   {
    "duration": 304,
    "start_time": "2023-11-12T16:16:17.501Z"
   },
   {
    "duration": 294,
    "start_time": "2023-11-12T16:16:17.807Z"
   },
   {
    "duration": 16,
    "start_time": "2023-11-12T16:16:18.103Z"
   },
   {
    "duration": 96,
    "start_time": "2023-11-12T16:16:18.121Z"
   },
   {
    "duration": 18,
    "start_time": "2023-11-12T16:16:18.219Z"
   },
   {
    "duration": 150,
    "start_time": "2023-11-12T16:16:18.239Z"
   },
   {
    "duration": 10,
    "start_time": "2023-11-12T16:16:18.391Z"
   },
   {
    "duration": 230,
    "start_time": "2023-11-12T16:16:18.404Z"
   },
   {
    "duration": 12,
    "start_time": "2023-11-12T16:16:18.635Z"
   },
   {
    "duration": 20,
    "start_time": "2023-11-12T16:16:18.649Z"
   },
   {
    "duration": 27,
    "start_time": "2023-11-12T16:16:18.671Z"
   },
   {
    "duration": 278,
    "start_time": "2023-11-12T16:16:18.700Z"
   },
   {
    "duration": 15,
    "start_time": "2023-11-12T16:16:18.980Z"
   },
   {
    "duration": 30,
    "start_time": "2023-11-12T16:16:18.996Z"
   },
   {
    "duration": 285,
    "start_time": "2023-11-12T16:16:19.027Z"
   },
   {
    "duration": 11,
    "start_time": "2023-11-12T16:16:19.313Z"
   },
   {
    "duration": 8,
    "start_time": "2023-11-12T16:16:19.326Z"
   },
   {
    "duration": 300,
    "start_time": "2023-11-12T16:16:19.336Z"
   },
   {
    "duration": 1536,
    "start_time": "2023-12-05T08:24:49.263Z"
   },
   {
    "duration": 110,
    "start_time": "2023-12-05T08:24:50.800Z"
   },
   {
    "duration": 17,
    "start_time": "2023-12-05T08:24:50.912Z"
   },
   {
    "duration": 13,
    "start_time": "2023-12-05T08:24:50.931Z"
   },
   {
    "duration": 11,
    "start_time": "2023-12-05T08:24:50.945Z"
   },
   {
    "duration": 15,
    "start_time": "2023-12-05T08:24:50.957Z"
   },
   {
    "duration": 20,
    "start_time": "2023-12-05T08:24:50.974Z"
   },
   {
    "duration": 24,
    "start_time": "2023-12-05T08:24:50.995Z"
   },
   {
    "duration": 7,
    "start_time": "2023-12-05T08:24:51.021Z"
   },
   {
    "duration": 42,
    "start_time": "2023-12-05T08:24:51.031Z"
   },
   {
    "duration": 46,
    "start_time": "2023-12-05T08:24:51.075Z"
   },
   {
    "duration": 24,
    "start_time": "2023-12-05T08:24:51.123Z"
   },
   {
    "duration": 21,
    "start_time": "2023-12-05T08:24:51.149Z"
   },
   {
    "duration": 44,
    "start_time": "2023-12-05T08:24:51.172Z"
   },
   {
    "duration": 6,
    "start_time": "2023-12-05T08:24:51.218Z"
   },
   {
    "duration": 32,
    "start_time": "2023-12-05T08:24:51.225Z"
   },
   {
    "duration": 207,
    "start_time": "2023-12-05T08:24:51.259Z"
   },
   {
    "duration": 179,
    "start_time": "2023-12-05T08:24:51.467Z"
   },
   {
    "duration": 190,
    "start_time": "2023-12-05T08:24:51.652Z"
   },
   {
    "duration": 15,
    "start_time": "2023-12-05T08:24:51.844Z"
   },
   {
    "duration": 296,
    "start_time": "2023-12-05T08:24:51.860Z"
   },
   {
    "duration": 16,
    "start_time": "2023-12-05T08:24:52.157Z"
   },
   {
    "duration": 431,
    "start_time": "2023-12-05T08:24:52.174Z"
   },
   {
    "duration": 13,
    "start_time": "2023-12-05T08:24:52.607Z"
   },
   {
    "duration": 107,
    "start_time": "2023-12-05T08:24:52.622Z"
   },
   {
    "duration": 204,
    "start_time": "2023-12-05T08:24:52.731Z"
   },
   {
    "duration": 21,
    "start_time": "2023-12-05T08:24:52.937Z"
   },
   {
    "duration": 280,
    "start_time": "2023-12-05T08:24:52.961Z"
   },
   {
    "duration": 9397,
    "start_time": "2023-12-05T08:24:53.243Z"
   },
   {
    "duration": 29,
    "start_time": "2023-12-05T08:25:02.642Z"
   },
   {
    "duration": 216,
    "start_time": "2023-12-05T08:25:02.674Z"
   },
   {
    "duration": 82,
    "start_time": "2023-12-05T08:25:02.891Z"
   },
   {
    "duration": 3,
    "start_time": "2023-12-05T08:25:02.975Z"
   },
   {
    "duration": 243,
    "start_time": "2023-12-05T08:25:02.979Z"
   },
   {
    "duration": 241,
    "start_time": "2023-12-05T08:25:03.224Z"
   },
   {
    "duration": 17,
    "start_time": "2023-12-05T08:25:03.467Z"
   },
   {
    "duration": 93,
    "start_time": "2023-12-05T08:25:03.485Z"
   },
   {
    "duration": 14,
    "start_time": "2023-12-05T08:25:03.579Z"
   },
   {
    "duration": 147,
    "start_time": "2023-12-05T08:25:03.594Z"
   },
   {
    "duration": 12,
    "start_time": "2023-12-05T08:25:03.742Z"
   },
   {
    "duration": 228,
    "start_time": "2023-12-05T08:25:03.756Z"
   },
   {
    "duration": 15,
    "start_time": "2023-12-05T08:25:03.986Z"
   },
   {
    "duration": 11,
    "start_time": "2023-12-05T08:25:04.003Z"
   },
   {
    "duration": 43,
    "start_time": "2023-12-05T08:25:04.015Z"
   },
   {
    "duration": 248,
    "start_time": "2023-12-05T08:25:04.060Z"
   },
   {
    "duration": 7,
    "start_time": "2023-12-05T08:25:04.310Z"
   },
   {
    "duration": 13,
    "start_time": "2023-12-05T08:25:04.318Z"
   },
   {
    "duration": 235,
    "start_time": "2023-12-05T08:25:04.333Z"
   },
   {
    "duration": 13,
    "start_time": "2023-12-05T08:25:04.569Z"
   },
   {
    "duration": 7,
    "start_time": "2023-12-05T08:25:04.583Z"
   },
   {
    "duration": 269,
    "start_time": "2023-12-05T08:25:04.592Z"
   }
  ],
  "kernelspec": {
   "display_name": "Python 3 (ipykernel)",
   "language": "python",
   "name": "python3"
  },
  "language_info": {
   "codemirror_mode": {
    "name": "ipython",
    "version": 3
   },
   "file_extension": ".py",
   "mimetype": "text/x-python",
   "name": "python",
   "nbconvert_exporter": "python",
   "pygments_lexer": "ipython3",
   "version": "3.9.18"
  },
  "toc": {
   "base_numbering": 1,
   "nav_menu": {},
   "number_sections": true,
   "sideBar": true,
   "skip_h1_title": true,
   "title_cell": "Table of Contents",
   "title_sidebar": "Contents",
   "toc_cell": false,
   "toc_position": {
    "height": "calc(100% - 180px)",
    "left": "10px",
    "top": "150px",
    "width": "297.391px"
   },
   "toc_section_display": true,
   "toc_window_display": false
  }
 },
 "nbformat": 4,
 "nbformat_minor": 4
}
