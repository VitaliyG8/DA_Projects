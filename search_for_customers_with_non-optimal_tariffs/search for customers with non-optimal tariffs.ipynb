{
 "cells": [
  {
   "cell_type": "markdown",
   "metadata": {},
   "source": [
    "Презентация"
   ]
  },
  {
   "cell_type": "markdown",
   "metadata": {},
   "source": [
    "https://drive.google.com/file/d/115DWMSRq0HEr8HvxGyo3KYuSgFWu8oad/view?usp=sharing"
   ]
  },
  {
   "cell_type": "markdown",
   "metadata": {},
   "source": [
    "Название проекта: Поиск клиентов с неоптимальным тарифом"
   ]
  },
  {
   "cell_type": "markdown",
   "metadata": {},
   "source": [
    "Описание проекта: я джуниор-аналитик в буткемпе. Комерческий директор «Нупозвони» — провайдера виртуальный телефонии хочет получить ответы на интересующие его вопросы. В дальнейшем результат пойдет к консультантам, которые будут обзванивать клиентов и предлагать перейти на более выгодный тариф. Необходимо выяснить: Для какого процента пользователей есть целесообразность переводить их на новые тарифы? Как сильно просядем в выручке, если переведем всех? Кого целесообразно переводить? Сколько пользователи сейчас переплачивают?\n",
    "\n",
    "Описание данных: Датасеты описывают использование услуг «Нупозвони» — провайдера виртуальный телефонии. Его клиенты — колл-центры, которые: распределяют входящие вызовы на операторов, совершают исходящие вызовы силами операторов. Также операторы могут делать внутренние вызовы — вызовы друг между другом внутри сети виртуальной телефонии. Датасет /datasets/telecom_dataset.csv Колонки: user_id — идентификатор клиента; date — дата статистики; direction — направление вызовов: out — исходящий вызов, in — входящий; internal — маркер внутренних и внешних вызовов; operator_id — идентификатор оператора; is_missed_call — маркер пропущенных вызовов; calls_count — количество звонков; call_duration — длительность звонка без учёта времени ожидания; total_call_duration — длительность звонка с учётом времени ожидания. Датасет /datasets/telecom_clients.csv Колонки: user_id — идентификатор клиента; tariff_plan — тарифный план клиента; date_start — дата регистрации клиента в сервисе.\n",
    "\n",
    "Цели работы:\n",
    "\n",
    "Поиск аномалий в данных. Соответствуют ли описанию фактические данные.\n",
    "Найти активных клиентов\n",
    "Поиск переплачивающих клиентов\n",
    "Узнать текущую выручку\n",
    "Определение выручки в разрезе тарифов\n",
    "Сколько в среднем платит клиент каждого тарифа\n",
    "Изменение выручки с клиента с течением времени\n",
    "Поиск клиентов с неоптимальными тарифами\n",
    "Сколько активных пользователей переплачивают\n",
    "Найти процент клиентов, кому целесообразен переход на новый тариф\n",
    "Как изменится выручка, если переведём на более оптимальный тариф (который более дорогой)\n",
    "Содержание:\n",
    "\n",
    "Загрузка данных\n",
    "Предобработка данных\n",
    "Исследовательский анализ данных\n",
    "Поиск аномалий\n",
    "Поиск активных клиентов\n",
    "Изучение распределения доходов\n",
    "Проверка гипотез\n",
    "Общие выводы\n",
    "Презентация"
   ]
  },
  {
   "cell_type": "markdown",
   "metadata": {},
   "source": [
    "Содержание: "
   ]
  },
  {
   "cell_type": "markdown",
   "metadata": {},
   "source": [
    "1. Загрузка данных\n",
    "2. Предобработка данных\n",
    "3. Исследовательский анализ данных\n",
    "- Поиск аномалий\n",
    "- Поиск активных клиентов\n",
    "- Изучение распределения доходов\n",
    "4. Проверка гипотез\n",
    "5. Общие выводы\n"
   ]
  },
  {
   "cell_type": "markdown",
   "metadata": {},
   "source": [
    "## Загрузка и изучение данных"
   ]
  },
  {
   "cell_type": "code",
   "execution_count": 1,
   "metadata": {},
   "outputs": [],
   "source": [
    "import pandas as pd\n",
    "import seaborn as sns\n",
    "import numpy as np\n",
    "import plotly.graph_objects as go\n",
    "import matplotlib.pyplot as plt\n",
    "pd.set_option('display.max_rows', None)\n",
    "from scipy import stats as st"
   ]
  },
  {
   "cell_type": "code",
   "execution_count": 2,
   "metadata": {},
   "outputs": [],
   "source": [
    "dataset = pd.read_csv('/datasets/telecom_dataset.csv', parse_dates=['date'])"
   ]
  },
  {
   "cell_type": "code",
   "execution_count": 3,
   "metadata": {},
   "outputs": [],
   "source": [
    "clients = pd.read_csv('/datasets/telecom_clients.csv', parse_dates=['date_start'])"
   ]
  },
  {
   "cell_type": "code",
   "execution_count": null,
   "metadata": {},
   "outputs": [],
   "source": []
  },
  {
   "cell_type": "code",
   "execution_count": 4,
   "metadata": {},
   "outputs": [
    {
     "data": {
      "text/html": [
       "<div>\n",
       "<style scoped>\n",
       "    .dataframe tbody tr th:only-of-type {\n",
       "        vertical-align: middle;\n",
       "    }\n",
       "\n",
       "    .dataframe tbody tr th {\n",
       "        vertical-align: top;\n",
       "    }\n",
       "\n",
       "    .dataframe thead th {\n",
       "        text-align: right;\n",
       "    }\n",
       "</style>\n",
       "<table border=\"1\" class=\"dataframe\">\n",
       "  <thead>\n",
       "    <tr style=\"text-align: right;\">\n",
       "      <th></th>\n",
       "      <th>user_id</th>\n",
       "      <th>date</th>\n",
       "      <th>direction</th>\n",
       "      <th>internal</th>\n",
       "      <th>operator_id</th>\n",
       "      <th>is_missed_call</th>\n",
       "      <th>calls_count</th>\n",
       "      <th>call_duration</th>\n",
       "      <th>total_call_duration</th>\n",
       "    </tr>\n",
       "  </thead>\n",
       "  <tbody>\n",
       "    <tr>\n",
       "      <th>0</th>\n",
       "      <td>166377</td>\n",
       "      <td>2019-08-04 00:00:00+03:00</td>\n",
       "      <td>in</td>\n",
       "      <td>False</td>\n",
       "      <td>NaN</td>\n",
       "      <td>True</td>\n",
       "      <td>2</td>\n",
       "      <td>0</td>\n",
       "      <td>4</td>\n",
       "    </tr>\n",
       "    <tr>\n",
       "      <th>1</th>\n",
       "      <td>166377</td>\n",
       "      <td>2019-08-05 00:00:00+03:00</td>\n",
       "      <td>out</td>\n",
       "      <td>True</td>\n",
       "      <td>880022.0</td>\n",
       "      <td>True</td>\n",
       "      <td>3</td>\n",
       "      <td>0</td>\n",
       "      <td>5</td>\n",
       "    </tr>\n",
       "    <tr>\n",
       "      <th>2</th>\n",
       "      <td>166377</td>\n",
       "      <td>2019-08-05 00:00:00+03:00</td>\n",
       "      <td>out</td>\n",
       "      <td>True</td>\n",
       "      <td>880020.0</td>\n",
       "      <td>True</td>\n",
       "      <td>1</td>\n",
       "      <td>0</td>\n",
       "      <td>1</td>\n",
       "    </tr>\n",
       "    <tr>\n",
       "      <th>3</th>\n",
       "      <td>166377</td>\n",
       "      <td>2019-08-05 00:00:00+03:00</td>\n",
       "      <td>out</td>\n",
       "      <td>True</td>\n",
       "      <td>880020.0</td>\n",
       "      <td>False</td>\n",
       "      <td>1</td>\n",
       "      <td>10</td>\n",
       "      <td>18</td>\n",
       "    </tr>\n",
       "    <tr>\n",
       "      <th>4</th>\n",
       "      <td>166377</td>\n",
       "      <td>2019-08-05 00:00:00+03:00</td>\n",
       "      <td>out</td>\n",
       "      <td>False</td>\n",
       "      <td>880022.0</td>\n",
       "      <td>True</td>\n",
       "      <td>3</td>\n",
       "      <td>0</td>\n",
       "      <td>25</td>\n",
       "    </tr>\n",
       "  </tbody>\n",
       "</table>\n",
       "</div>"
      ],
      "text/plain": [
       "   user_id                      date direction internal  operator_id  \\\n",
       "0   166377 2019-08-04 00:00:00+03:00        in    False          NaN   \n",
       "1   166377 2019-08-05 00:00:00+03:00       out     True     880022.0   \n",
       "2   166377 2019-08-05 00:00:00+03:00       out     True     880020.0   \n",
       "3   166377 2019-08-05 00:00:00+03:00       out     True     880020.0   \n",
       "4   166377 2019-08-05 00:00:00+03:00       out    False     880022.0   \n",
       "\n",
       "   is_missed_call  calls_count  call_duration  total_call_duration  \n",
       "0            True            2              0                    4  \n",
       "1            True            3              0                    5  \n",
       "2            True            1              0                    1  \n",
       "3           False            1             10                   18  \n",
       "4            True            3              0                   25  "
      ]
     },
     "execution_count": 4,
     "metadata": {},
     "output_type": "execute_result"
    }
   ],
   "source": [
    "dataset.head()"
   ]
  },
  {
   "cell_type": "code",
   "execution_count": 5,
   "metadata": {},
   "outputs": [
    {
     "data": {
      "text/html": [
       "<div>\n",
       "<style scoped>\n",
       "    .dataframe tbody tr th:only-of-type {\n",
       "        vertical-align: middle;\n",
       "    }\n",
       "\n",
       "    .dataframe tbody tr th {\n",
       "        vertical-align: top;\n",
       "    }\n",
       "\n",
       "    .dataframe thead th {\n",
       "        text-align: right;\n",
       "    }\n",
       "</style>\n",
       "<table border=\"1\" class=\"dataframe\">\n",
       "  <thead>\n",
       "    <tr style=\"text-align: right;\">\n",
       "      <th></th>\n",
       "      <th>user_id</th>\n",
       "      <th>tariff_plan</th>\n",
       "      <th>date_start</th>\n",
       "    </tr>\n",
       "  </thead>\n",
       "  <tbody>\n",
       "    <tr>\n",
       "      <th>0</th>\n",
       "      <td>166713</td>\n",
       "      <td>A</td>\n",
       "      <td>2019-08-15</td>\n",
       "    </tr>\n",
       "    <tr>\n",
       "      <th>1</th>\n",
       "      <td>166901</td>\n",
       "      <td>A</td>\n",
       "      <td>2019-08-23</td>\n",
       "    </tr>\n",
       "    <tr>\n",
       "      <th>2</th>\n",
       "      <td>168527</td>\n",
       "      <td>A</td>\n",
       "      <td>2019-10-29</td>\n",
       "    </tr>\n",
       "    <tr>\n",
       "      <th>3</th>\n",
       "      <td>167097</td>\n",
       "      <td>A</td>\n",
       "      <td>2019-09-01</td>\n",
       "    </tr>\n",
       "    <tr>\n",
       "      <th>4</th>\n",
       "      <td>168193</td>\n",
       "      <td>A</td>\n",
       "      <td>2019-10-16</td>\n",
       "    </tr>\n",
       "  </tbody>\n",
       "</table>\n",
       "</div>"
      ],
      "text/plain": [
       "   user_id tariff_plan date_start\n",
       "0   166713           A 2019-08-15\n",
       "1   166901           A 2019-08-23\n",
       "2   168527           A 2019-10-29\n",
       "3   167097           A 2019-09-01\n",
       "4   168193           A 2019-10-16"
      ]
     },
     "execution_count": 5,
     "metadata": {},
     "output_type": "execute_result"
    }
   ],
   "source": [
    "clients.head()"
   ]
  },
  {
   "cell_type": "code",
   "execution_count": 6,
   "metadata": {},
   "outputs": [
    {
     "name": "stdout",
     "output_type": "stream",
     "text": [
      "<class 'pandas.core.frame.DataFrame'>\n",
      "RangeIndex: 53902 entries, 0 to 53901\n",
      "Data columns (total 9 columns):\n",
      " #   Column               Non-Null Count  Dtype                                \n",
      "---  ------               --------------  -----                                \n",
      " 0   user_id              53902 non-null  int64                                \n",
      " 1   date                 53902 non-null  datetime64[ns, pytz.FixedOffset(180)]\n",
      " 2   direction            53902 non-null  object                               \n",
      " 3   internal             53785 non-null  object                               \n",
      " 4   operator_id          45730 non-null  float64                              \n",
      " 5   is_missed_call       53902 non-null  bool                                 \n",
      " 6   calls_count          53902 non-null  int64                                \n",
      " 7   call_duration        53902 non-null  int64                                \n",
      " 8   total_call_duration  53902 non-null  int64                                \n",
      "dtypes: bool(1), datetime64[ns, pytz.FixedOffset(180)](1), float64(1), int64(4), object(2)\n",
      "memory usage: 3.3+ MB\n"
     ]
    }
   ],
   "source": [
    "dataset.info()"
   ]
  },
  {
   "cell_type": "code",
   "execution_count": 7,
   "metadata": {},
   "outputs": [
    {
     "name": "stdout",
     "output_type": "stream",
     "text": [
      "<class 'pandas.core.frame.DataFrame'>\n",
      "RangeIndex: 732 entries, 0 to 731\n",
      "Data columns (total 3 columns):\n",
      " #   Column       Non-Null Count  Dtype         \n",
      "---  ------       --------------  -----         \n",
      " 0   user_id      732 non-null    int64         \n",
      " 1   tariff_plan  732 non-null    object        \n",
      " 2   date_start   732 non-null    datetime64[ns]\n",
      "dtypes: datetime64[ns](1), int64(1), object(1)\n",
      "memory usage: 17.3+ KB\n"
     ]
    }
   ],
   "source": [
    "clients.info()"
   ]
  },
  {
   "cell_type": "markdown",
   "metadata": {},
   "source": [
    "Мы видим в датасете \"dataset\" 53902 записи и в \"clients\" их число равно 732. В первом имеются пропуски в столбцах internal, operator_id. Так же столбец operator_id имеет не корректный тип данных.  "
   ]
  },
  {
   "cell_type": "markdown",
   "metadata": {},
   "source": [
    "## Предобработка данных"
   ]
  },
  {
   "cell_type": "markdown",
   "metadata": {},
   "source": [
    "###  Обработка пропусков"
   ]
  },
  {
   "cell_type": "markdown",
   "metadata": {},
   "source": [
    "Пропуски в столбце operator_id"
   ]
  },
  {
   "cell_type": "code",
   "execution_count": 8,
   "metadata": {},
   "outputs": [
    {
     "data": {
      "text/plain": [
       "8172"
      ]
     },
     "execution_count": 8,
     "metadata": {},
     "output_type": "execute_result"
    }
   ],
   "source": [
    "dataset['operator_id'].isna().sum()"
   ]
  },
  {
   "cell_type": "markdown",
   "metadata": {},
   "source": [
    "Кол-во пропусков значительно. Но у нас в рамках исследования нет задачи решать вопросы связанные с операторами. Принимаю решение оставить эти пропуски как есть. При необходимости, можно создать отдельный датасет, куда войдут записи с отсутствующими операторами и передать рук-лю проекта или лицу ответственному за сбор данных."
   ]
  },
  {
   "cell_type": "markdown",
   "metadata": {},
   "source": [
    "Пропуски в столбце internal"
   ]
  },
  {
   "cell_type": "code",
   "execution_count": 9,
   "metadata": {},
   "outputs": [
    {
     "data": {
      "text/plain": [
       "117"
      ]
     },
     "execution_count": 9,
     "metadata": {},
     "output_type": "execute_result"
    }
   ],
   "source": [
    "dataset['internal'].isna().sum()"
   ]
  },
  {
   "cell_type": "markdown",
   "metadata": {},
   "source": [
    "internal - представляет собой маркер внутренних и внешних вызовов. Кол-во пропусков 117, что очень мало от общего объёма данных. \n",
    "В виду отсутствия возможности эти данные получить, и необходимости этих значений для дальнейших расчётов, принимаю решение удалить эти данные."
   ]
  },
  {
   "cell_type": "code",
   "execution_count": 10,
   "metadata": {},
   "outputs": [],
   "source": [
    "dataset = dataset.dropna(subset=['internal'])"
   ]
  },
  {
   "cell_type": "markdown",
   "metadata": {},
   "source": [
    "Проверяем, удалились ли строки "
   ]
  },
  {
   "cell_type": "code",
   "execution_count": 11,
   "metadata": {},
   "outputs": [
    {
     "data": {
      "text/plain": [
       "0"
      ]
     },
     "execution_count": 11,
     "metadata": {},
     "output_type": "execute_result"
    }
   ],
   "source": [
    "dataset['internal'].isna().sum()"
   ]
  },
  {
   "cell_type": "markdown",
   "metadata": {},
   "source": [
    "### Приведение к соответствующим типам данные"
   ]
  },
  {
   "cell_type": "markdown",
   "metadata": {},
   "source": [
    "Приведем к формату datetime столбец date_start, в data так же изменим тип и уберем указание временной зоны."
   ]
  },
  {
   "cell_type": "code",
   "execution_count": 12,
   "metadata": {},
   "outputs": [],
   "source": [
    "dataset['date'] = pd.to_datetime(dataset['date']).dt.tz_localize(None)"
   ]
  },
  {
   "cell_type": "code",
   "execution_count": 13,
   "metadata": {},
   "outputs": [
    {
     "data": {
      "text/html": [
       "<div>\n",
       "<style scoped>\n",
       "    .dataframe tbody tr th:only-of-type {\n",
       "        vertical-align: middle;\n",
       "    }\n",
       "\n",
       "    .dataframe tbody tr th {\n",
       "        vertical-align: top;\n",
       "    }\n",
       "\n",
       "    .dataframe thead th {\n",
       "        text-align: right;\n",
       "    }\n",
       "</style>\n",
       "<table border=\"1\" class=\"dataframe\">\n",
       "  <thead>\n",
       "    <tr style=\"text-align: right;\">\n",
       "      <th></th>\n",
       "      <th>user_id</th>\n",
       "      <th>date</th>\n",
       "      <th>direction</th>\n",
       "      <th>internal</th>\n",
       "      <th>operator_id</th>\n",
       "      <th>is_missed_call</th>\n",
       "      <th>calls_count</th>\n",
       "      <th>call_duration</th>\n",
       "      <th>total_call_duration</th>\n",
       "    </tr>\n",
       "  </thead>\n",
       "  <tbody>\n",
       "    <tr>\n",
       "      <th>0</th>\n",
       "      <td>166377</td>\n",
       "      <td>2019-08-04</td>\n",
       "      <td>in</td>\n",
       "      <td>False</td>\n",
       "      <td>NaN</td>\n",
       "      <td>True</td>\n",
       "      <td>2</td>\n",
       "      <td>0</td>\n",
       "      <td>4</td>\n",
       "    </tr>\n",
       "    <tr>\n",
       "      <th>1</th>\n",
       "      <td>166377</td>\n",
       "      <td>2019-08-05</td>\n",
       "      <td>out</td>\n",
       "      <td>True</td>\n",
       "      <td>880022.0</td>\n",
       "      <td>True</td>\n",
       "      <td>3</td>\n",
       "      <td>0</td>\n",
       "      <td>5</td>\n",
       "    </tr>\n",
       "    <tr>\n",
       "      <th>2</th>\n",
       "      <td>166377</td>\n",
       "      <td>2019-08-05</td>\n",
       "      <td>out</td>\n",
       "      <td>True</td>\n",
       "      <td>880020.0</td>\n",
       "      <td>True</td>\n",
       "      <td>1</td>\n",
       "      <td>0</td>\n",
       "      <td>1</td>\n",
       "    </tr>\n",
       "    <tr>\n",
       "      <th>3</th>\n",
       "      <td>166377</td>\n",
       "      <td>2019-08-05</td>\n",
       "      <td>out</td>\n",
       "      <td>True</td>\n",
       "      <td>880020.0</td>\n",
       "      <td>False</td>\n",
       "      <td>1</td>\n",
       "      <td>10</td>\n",
       "      <td>18</td>\n",
       "    </tr>\n",
       "    <tr>\n",
       "      <th>4</th>\n",
       "      <td>166377</td>\n",
       "      <td>2019-08-05</td>\n",
       "      <td>out</td>\n",
       "      <td>False</td>\n",
       "      <td>880022.0</td>\n",
       "      <td>True</td>\n",
       "      <td>3</td>\n",
       "      <td>0</td>\n",
       "      <td>25</td>\n",
       "    </tr>\n",
       "  </tbody>\n",
       "</table>\n",
       "</div>"
      ],
      "text/plain": [
       "   user_id       date direction internal  operator_id  is_missed_call  \\\n",
       "0   166377 2019-08-04        in    False          NaN            True   \n",
       "1   166377 2019-08-05       out     True     880022.0            True   \n",
       "2   166377 2019-08-05       out     True     880020.0            True   \n",
       "3   166377 2019-08-05       out     True     880020.0           False   \n",
       "4   166377 2019-08-05       out    False     880022.0            True   \n",
       "\n",
       "   calls_count  call_duration  total_call_duration  \n",
       "0            2              0                    4  \n",
       "1            3              0                    5  \n",
       "2            1              0                    1  \n",
       "3            1             10                   18  \n",
       "4            3              0                   25  "
      ]
     },
     "execution_count": 13,
     "metadata": {},
     "output_type": "execute_result"
    }
   ],
   "source": [
    "dataset.head()"
   ]
  },
  {
   "cell_type": "markdown",
   "metadata": {},
   "source": [
    "Приведём значения столбца operator_id к формату Int."
   ]
  },
  {
   "cell_type": "code",
   "execution_count": 14,
   "metadata": {},
   "outputs": [],
   "source": [
    "dataset['operator_id'] = dataset['operator_id'].astype('Int64')"
   ]
  },
  {
   "cell_type": "markdown",
   "metadata": {},
   "source": [
    "Убедимся, что все изменилось."
   ]
  },
  {
   "cell_type": "code",
   "execution_count": 15,
   "metadata": {},
   "outputs": [
    {
     "name": "stdout",
     "output_type": "stream",
     "text": [
      "<class 'pandas.core.frame.DataFrame'>\n",
      "Int64Index: 53785 entries, 0 to 53901\n",
      "Data columns (total 9 columns):\n",
      " #   Column               Non-Null Count  Dtype         \n",
      "---  ------               --------------  -----         \n",
      " 0   user_id              53785 non-null  int64         \n",
      " 1   date                 53785 non-null  datetime64[ns]\n",
      " 2   direction            53785 non-null  object        \n",
      " 3   internal             53785 non-null  object        \n",
      " 4   operator_id          45670 non-null  Int64         \n",
      " 5   is_missed_call       53785 non-null  bool          \n",
      " 6   calls_count          53785 non-null  int64         \n",
      " 7   call_duration        53785 non-null  int64         \n",
      " 8   total_call_duration  53785 non-null  int64         \n",
      "dtypes: Int64(1), bool(1), datetime64[ns](1), int64(4), object(2)\n",
      "memory usage: 3.8+ MB\n"
     ]
    }
   ],
   "source": [
    "dataset.info()"
   ]
  },
  {
   "cell_type": "code",
   "execution_count": 16,
   "metadata": {},
   "outputs": [
    {
     "name": "stdout",
     "output_type": "stream",
     "text": [
      "<class 'pandas.core.frame.DataFrame'>\n",
      "RangeIndex: 732 entries, 0 to 731\n",
      "Data columns (total 3 columns):\n",
      " #   Column       Non-Null Count  Dtype         \n",
      "---  ------       --------------  -----         \n",
      " 0   user_id      732 non-null    int64         \n",
      " 1   tariff_plan  732 non-null    object        \n",
      " 2   date_start   732 non-null    datetime64[ns]\n",
      "dtypes: datetime64[ns](1), int64(1), object(1)\n",
      "memory usage: 17.3+ KB\n"
     ]
    }
   ],
   "source": [
    "clients.info()"
   ]
  },
  {
   "cell_type": "markdown",
   "metadata": {},
   "source": [
    "### Обработка дубликатов"
   ]
  },
  {
   "cell_type": "markdown",
   "metadata": {},
   "source": [
    "Проверим наличие явных дубликатов"
   ]
  },
  {
   "cell_type": "code",
   "execution_count": 17,
   "metadata": {},
   "outputs": [
    {
     "data": {
      "text/plain": [
       "4893"
      ]
     },
     "execution_count": 17,
     "metadata": {},
     "output_type": "execute_result"
    }
   ],
   "source": [
    "dataset.duplicated().sum()"
   ]
  },
  {
   "cell_type": "code",
   "execution_count": 18,
   "metadata": {},
   "outputs": [],
   "source": [
    "dataset = dataset.drop_duplicates().reset_index(drop=True)"
   ]
  },
  {
   "cell_type": "markdown",
   "metadata": {},
   "source": [
    "Убедились, что всё было нормально удалено и заодно проверили общий вид датасета."
   ]
  },
  {
   "cell_type": "code",
   "execution_count": 19,
   "metadata": {},
   "outputs": [
    {
     "name": "stdout",
     "output_type": "stream",
     "text": [
      "<class 'pandas.core.frame.DataFrame'>\n",
      "RangeIndex: 48892 entries, 0 to 48891\n",
      "Data columns (total 9 columns):\n",
      " #   Column               Non-Null Count  Dtype         \n",
      "---  ------               --------------  -----         \n",
      " 0   user_id              48892 non-null  int64         \n",
      " 1   date                 48892 non-null  datetime64[ns]\n",
      " 2   direction            48892 non-null  object        \n",
      " 3   internal             48892 non-null  object        \n",
      " 4   operator_id          41491 non-null  Int64         \n",
      " 5   is_missed_call       48892 non-null  bool          \n",
      " 6   calls_count          48892 non-null  int64         \n",
      " 7   call_duration        48892 non-null  int64         \n",
      " 8   total_call_duration  48892 non-null  int64         \n",
      "dtypes: Int64(1), bool(1), datetime64[ns](1), int64(4), object(2)\n",
      "memory usage: 3.1+ MB\n"
     ]
    }
   ],
   "source": [
    "dataset.info()"
   ]
  },
  {
   "cell_type": "code",
   "execution_count": 20,
   "metadata": {},
   "outputs": [
    {
     "data": {
      "text/html": [
       "<div>\n",
       "<style scoped>\n",
       "    .dataframe tbody tr th:only-of-type {\n",
       "        vertical-align: middle;\n",
       "    }\n",
       "\n",
       "    .dataframe tbody tr th {\n",
       "        vertical-align: top;\n",
       "    }\n",
       "\n",
       "    .dataframe thead th {\n",
       "        text-align: right;\n",
       "    }\n",
       "</style>\n",
       "<table border=\"1\" class=\"dataframe\">\n",
       "  <thead>\n",
       "    <tr style=\"text-align: right;\">\n",
       "      <th></th>\n",
       "      <th>user_id</th>\n",
       "      <th>date</th>\n",
       "      <th>direction</th>\n",
       "      <th>internal</th>\n",
       "      <th>operator_id</th>\n",
       "      <th>is_missed_call</th>\n",
       "      <th>calls_count</th>\n",
       "      <th>call_duration</th>\n",
       "      <th>total_call_duration</th>\n",
       "    </tr>\n",
       "  </thead>\n",
       "  <tbody>\n",
       "    <tr>\n",
       "      <th>0</th>\n",
       "      <td>166377</td>\n",
       "      <td>2019-08-04</td>\n",
       "      <td>in</td>\n",
       "      <td>False</td>\n",
       "      <td>&lt;NA&gt;</td>\n",
       "      <td>True</td>\n",
       "      <td>2</td>\n",
       "      <td>0</td>\n",
       "      <td>4</td>\n",
       "    </tr>\n",
       "    <tr>\n",
       "      <th>1</th>\n",
       "      <td>166377</td>\n",
       "      <td>2019-08-05</td>\n",
       "      <td>out</td>\n",
       "      <td>True</td>\n",
       "      <td>880022</td>\n",
       "      <td>True</td>\n",
       "      <td>3</td>\n",
       "      <td>0</td>\n",
       "      <td>5</td>\n",
       "    </tr>\n",
       "    <tr>\n",
       "      <th>2</th>\n",
       "      <td>166377</td>\n",
       "      <td>2019-08-05</td>\n",
       "      <td>out</td>\n",
       "      <td>True</td>\n",
       "      <td>880020</td>\n",
       "      <td>True</td>\n",
       "      <td>1</td>\n",
       "      <td>0</td>\n",
       "      <td>1</td>\n",
       "    </tr>\n",
       "    <tr>\n",
       "      <th>3</th>\n",
       "      <td>166377</td>\n",
       "      <td>2019-08-05</td>\n",
       "      <td>out</td>\n",
       "      <td>True</td>\n",
       "      <td>880020</td>\n",
       "      <td>False</td>\n",
       "      <td>1</td>\n",
       "      <td>10</td>\n",
       "      <td>18</td>\n",
       "    </tr>\n",
       "    <tr>\n",
       "      <th>4</th>\n",
       "      <td>166377</td>\n",
       "      <td>2019-08-05</td>\n",
       "      <td>out</td>\n",
       "      <td>False</td>\n",
       "      <td>880022</td>\n",
       "      <td>True</td>\n",
       "      <td>3</td>\n",
       "      <td>0</td>\n",
       "      <td>25</td>\n",
       "    </tr>\n",
       "  </tbody>\n",
       "</table>\n",
       "</div>"
      ],
      "text/plain": [
       "   user_id       date direction internal  operator_id  is_missed_call  \\\n",
       "0   166377 2019-08-04        in    False         <NA>            True   \n",
       "1   166377 2019-08-05       out     True       880022            True   \n",
       "2   166377 2019-08-05       out     True       880020            True   \n",
       "3   166377 2019-08-05       out     True       880020           False   \n",
       "4   166377 2019-08-05       out    False       880022            True   \n",
       "\n",
       "   calls_count  call_duration  total_call_duration  \n",
       "0            2              0                    4  \n",
       "1            3              0                    5  \n",
       "2            1              0                    1  \n",
       "3            1             10                   18  \n",
       "4            3              0                   25  "
      ]
     },
     "execution_count": 20,
     "metadata": {},
     "output_type": "execute_result"
    }
   ],
   "source": [
    "dataset.head()"
   ]
  },
  {
   "cell_type": "markdown",
   "metadata": {},
   "source": [
    "В процессе предобрапотки данных были удалены 117 пропусков в колонке internal. Пропуски в operator_id были оставлены без изменения. Был изменен на актуальный формат у столбцов operator_id, date_start и date. В последнем было убрало указание временной зоны. \n",
    "Так же были удалены явные дубликаты в числе 4893 штук. На данный момент датасет имеет 48892 строк."
   ]
  },
  {
   "cell_type": "markdown",
   "metadata": {},
   "source": [
    "## Исследовательский анализ данных"
   ]
  },
  {
   "cell_type": "markdown",
   "metadata": {},
   "source": [
    "### Поиск аномалий"
   ]
  },
  {
   "cell_type": "markdown",
   "metadata": {},
   "source": [
    "Посмотрим, соответствуют ли данные в dataset в столбцах direction, internal, is_missed_call заявленным."
   ]
  },
  {
   "cell_type": "code",
   "execution_count": 21,
   "metadata": {},
   "outputs": [
    {
     "data": {
      "text/plain": [
       "out    28997\n",
       "in     19895\n",
       "Name: direction, dtype: int64"
      ]
     },
     "execution_count": 21,
     "metadata": {},
     "output_type": "execute_result"
    }
   ],
   "source": [
    "dataset['direction'].value_counts()"
   ]
  },
  {
   "cell_type": "code",
   "execution_count": 22,
   "metadata": {},
   "outputs": [
    {
     "data": {
      "text/plain": [
       "False    43239\n",
       "True      5653\n",
       "Name: internal, dtype: int64"
      ]
     },
     "execution_count": 22,
     "metadata": {},
     "output_type": "execute_result"
    }
   ],
   "source": [
    "dataset['internal'].value_counts()"
   ]
  },
  {
   "cell_type": "code",
   "execution_count": 23,
   "metadata": {},
   "outputs": [
    {
     "data": {
      "text/plain": [
       "False    27495\n",
       "True     21397\n",
       "Name: is_missed_call, dtype: int64"
      ]
     },
     "execution_count": 23,
     "metadata": {},
     "output_type": "execute_result"
    }
   ],
   "source": [
    "dataset['is_missed_call'].value_counts()"
   ]
  },
  {
   "cell_type": "markdown",
   "metadata": {},
   "source": [
    "Тут ничего лишнего не видем. Звонков исходящих, примерно на треть больше, чем входящих. В internal мы наблюдаем 5653 внутренних  и 43239 внешних. В is_missed_call пропущенных вызовов много, часто операторы не дозваниваются. "
   ]
  },
  {
   "cell_type": "markdown",
   "metadata": {},
   "source": [
    "Рассмотрим данные в calls_count, call_duration и total_call_duration"
   ]
  },
  {
   "cell_type": "code",
   "execution_count": 24,
   "metadata": {},
   "outputs": [
    {
     "data": {
      "text/plain": [
       "count    48892.000000\n",
       "mean        16.495214\n",
       "std         63.671633\n",
       "min          1.000000\n",
       "25%          1.000000\n",
       "50%          4.000000\n",
       "75%         12.000000\n",
       "max       4817.000000\n",
       "Name: calls_count, dtype: float64"
      ]
     },
     "execution_count": 24,
     "metadata": {},
     "output_type": "execute_result"
    }
   ],
   "source": [
    "dataset['calls_count'].describe()"
   ]
  },
  {
   "cell_type": "code",
   "execution_count": 25,
   "metadata": {},
   "outputs": [
    {
     "data": {
      "text/plain": [
       "count     48892.000000\n",
       "mean        868.088788\n",
       "std        3779.549967\n",
       "min           0.000000\n",
       "25%           0.000000\n",
       "50%          37.000000\n",
       "75%         573.000000\n",
       "max      144395.000000\n",
       "Name: call_duration, dtype: float64"
      ]
     },
     "execution_count": 25,
     "metadata": {},
     "output_type": "execute_result"
    }
   ],
   "source": [
    "dataset['call_duration'].describe()"
   ]
  },
  {
   "cell_type": "code",
   "execution_count": 26,
   "metadata": {},
   "outputs": [
    {
     "data": {
      "text/plain": [
       "count     48892.000000\n",
       "mean       1158.976458\n",
       "std        4456.180933\n",
       "min           0.000000\n",
       "25%          46.000000\n",
       "50%         210.000000\n",
       "75%         902.000000\n",
       "max      166155.000000\n",
       "Name: total_call_duration, dtype: float64"
      ]
     },
     "execution_count": 26,
     "metadata": {},
     "output_type": "execute_result"
    }
   ],
   "source": [
    "dataset['total_call_duration'].describe()"
   ]
  },
  {
   "cell_type": "markdown",
   "metadata": {},
   "source": [
    "В данных видны аномалии, что требует более подробного рассмотрения. "
   ]
  },
  {
   "cell_type": "markdown",
   "metadata": {},
   "source": [
    "Взглянем на ТОП данных по столбцам, которые вызвали вопросы."
   ]
  },
  {
   "cell_type": "code",
   "execution_count": 27,
   "metadata": {},
   "outputs": [
    {
     "data": {
      "text/html": [
       "<div>\n",
       "<style scoped>\n",
       "    .dataframe tbody tr th:only-of-type {\n",
       "        vertical-align: middle;\n",
       "    }\n",
       "\n",
       "    .dataframe tbody tr th {\n",
       "        vertical-align: top;\n",
       "    }\n",
       "\n",
       "    .dataframe thead th {\n",
       "        text-align: right;\n",
       "    }\n",
       "</style>\n",
       "<table border=\"1\" class=\"dataframe\">\n",
       "  <thead>\n",
       "    <tr style=\"text-align: right;\">\n",
       "      <th></th>\n",
       "      <th>user_id</th>\n",
       "      <th>date</th>\n",
       "      <th>direction</th>\n",
       "      <th>internal</th>\n",
       "      <th>operator_id</th>\n",
       "      <th>is_missed_call</th>\n",
       "      <th>calls_count</th>\n",
       "      <th>call_duration</th>\n",
       "      <th>total_call_duration</th>\n",
       "    </tr>\n",
       "  </thead>\n",
       "  <tbody>\n",
       "    <tr>\n",
       "      <th>36964</th>\n",
       "      <td>167827</td>\n",
       "      <td>2019-11-11</td>\n",
       "      <td>out</td>\n",
       "      <td>False</td>\n",
       "      <td>929428</td>\n",
       "      <td>True</td>\n",
       "      <td>4817</td>\n",
       "      <td>0</td>\n",
       "      <td>5529</td>\n",
       "    </tr>\n",
       "    <tr>\n",
       "      <th>36911</th>\n",
       "      <td>167827</td>\n",
       "      <td>2019-10-31</td>\n",
       "      <td>out</td>\n",
       "      <td>False</td>\n",
       "      <td>929428</td>\n",
       "      <td>True</td>\n",
       "      <td>2614</td>\n",
       "      <td>0</td>\n",
       "      <td>45312</td>\n",
       "    </tr>\n",
       "    <tr>\n",
       "      <th>33647</th>\n",
       "      <td>167626</td>\n",
       "      <td>2019-10-07</td>\n",
       "      <td>in</td>\n",
       "      <td>False</td>\n",
       "      <td>&lt;NA&gt;</td>\n",
       "      <td>True</td>\n",
       "      <td>2168</td>\n",
       "      <td>0</td>\n",
       "      <td>2361</td>\n",
       "    </tr>\n",
       "    <tr>\n",
       "      <th>33675</th>\n",
       "      <td>167626</td>\n",
       "      <td>2019-10-08</td>\n",
       "      <td>in</td>\n",
       "      <td>False</td>\n",
       "      <td>&lt;NA&gt;</td>\n",
       "      <td>True</td>\n",
       "      <td>1917</td>\n",
       "      <td>0</td>\n",
       "      <td>2044</td>\n",
       "    </tr>\n",
       "    <tr>\n",
       "      <th>34086</th>\n",
       "      <td>167626</td>\n",
       "      <td>2019-10-15</td>\n",
       "      <td>in</td>\n",
       "      <td>False</td>\n",
       "      <td>&lt;NA&gt;</td>\n",
       "      <td>True</td>\n",
       "      <td>1914</td>\n",
       "      <td>0</td>\n",
       "      <td>2063</td>\n",
       "    </tr>\n",
       "  </tbody>\n",
       "</table>\n",
       "</div>"
      ],
      "text/plain": [
       "       user_id       date direction internal  operator_id  is_missed_call  \\\n",
       "36964   167827 2019-11-11       out    False       929428            True   \n",
       "36911   167827 2019-10-31       out    False       929428            True   \n",
       "33647   167626 2019-10-07        in    False         <NA>            True   \n",
       "33675   167626 2019-10-08        in    False         <NA>            True   \n",
       "34086   167626 2019-10-15        in    False         <NA>            True   \n",
       "\n",
       "       calls_count  call_duration  total_call_duration  \n",
       "36964         4817              0                 5529  \n",
       "36911         2614              0                45312  \n",
       "33647         2168              0                 2361  \n",
       "33675         1917              0                 2044  \n",
       "34086         1914              0                 2063  "
      ]
     },
     "execution_count": 27,
     "metadata": {},
     "output_type": "execute_result"
    }
   ],
   "source": [
    "dataset.sort_values('calls_count', ascending=False).head()"
   ]
  },
  {
   "cell_type": "code",
   "execution_count": 28,
   "metadata": {},
   "outputs": [
    {
     "data": {
      "text/html": [
       "<div>\n",
       "<style scoped>\n",
       "    .dataframe tbody tr th:only-of-type {\n",
       "        vertical-align: middle;\n",
       "    }\n",
       "\n",
       "    .dataframe tbody tr th {\n",
       "        vertical-align: top;\n",
       "    }\n",
       "\n",
       "    .dataframe thead th {\n",
       "        text-align: right;\n",
       "    }\n",
       "</style>\n",
       "<table border=\"1\" class=\"dataframe\">\n",
       "  <thead>\n",
       "    <tr style=\"text-align: right;\">\n",
       "      <th></th>\n",
       "      <th>user_id</th>\n",
       "      <th>date</th>\n",
       "      <th>direction</th>\n",
       "      <th>internal</th>\n",
       "      <th>operator_id</th>\n",
       "      <th>is_missed_call</th>\n",
       "      <th>calls_count</th>\n",
       "      <th>call_duration</th>\n",
       "      <th>total_call_duration</th>\n",
       "    </tr>\n",
       "  </thead>\n",
       "  <tbody>\n",
       "    <tr>\n",
       "      <th>6312</th>\n",
       "      <td>166582</td>\n",
       "      <td>2019-09-25</td>\n",
       "      <td>out</td>\n",
       "      <td>False</td>\n",
       "      <td>885876</td>\n",
       "      <td>False</td>\n",
       "      <td>1230</td>\n",
       "      <td>144395</td>\n",
       "      <td>166155</td>\n",
       "    </tr>\n",
       "    <tr>\n",
       "      <th>6316</th>\n",
       "      <td>166582</td>\n",
       "      <td>2019-09-26</td>\n",
       "      <td>out</td>\n",
       "      <td>False</td>\n",
       "      <td>885876</td>\n",
       "      <td>False</td>\n",
       "      <td>843</td>\n",
       "      <td>132206</td>\n",
       "      <td>146903</td>\n",
       "    </tr>\n",
       "    <tr>\n",
       "      <th>6210</th>\n",
       "      <td>166582</td>\n",
       "      <td>2019-09-12</td>\n",
       "      <td>out</td>\n",
       "      <td>False</td>\n",
       "      <td>885876</td>\n",
       "      <td>False</td>\n",
       "      <td>696</td>\n",
       "      <td>125286</td>\n",
       "      <td>138643</td>\n",
       "    </tr>\n",
       "    <tr>\n",
       "      <th>6260</th>\n",
       "      <td>166582</td>\n",
       "      <td>2019-09-18</td>\n",
       "      <td>out</td>\n",
       "      <td>False</td>\n",
       "      <td>885876</td>\n",
       "      <td>False</td>\n",
       "      <td>1013</td>\n",
       "      <td>121664</td>\n",
       "      <td>140050</td>\n",
       "    </tr>\n",
       "    <tr>\n",
       "      <th>6186</th>\n",
       "      <td>166582</td>\n",
       "      <td>2019-09-09</td>\n",
       "      <td>out</td>\n",
       "      <td>False</td>\n",
       "      <td>885876</td>\n",
       "      <td>False</td>\n",
       "      <td>1138</td>\n",
       "      <td>121093</td>\n",
       "      <td>141930</td>\n",
       "    </tr>\n",
       "  </tbody>\n",
       "</table>\n",
       "</div>"
      ],
      "text/plain": [
       "      user_id       date direction internal  operator_id  is_missed_call  \\\n",
       "6312   166582 2019-09-25       out    False       885876           False   \n",
       "6316   166582 2019-09-26       out    False       885876           False   \n",
       "6210   166582 2019-09-12       out    False       885876           False   \n",
       "6260   166582 2019-09-18       out    False       885876           False   \n",
       "6186   166582 2019-09-09       out    False       885876           False   \n",
       "\n",
       "      calls_count  call_duration  total_call_duration  \n",
       "6312         1230         144395               166155  \n",
       "6316          843         132206               146903  \n",
       "6210          696         125286               138643  \n",
       "6260         1013         121664               140050  \n",
       "6186         1138         121093               141930  "
      ]
     },
     "execution_count": 28,
     "metadata": {},
     "output_type": "execute_result"
    }
   ],
   "source": [
    "dataset.sort_values('call_duration', ascending=False).head()"
   ]
  },
  {
   "cell_type": "code",
   "execution_count": 29,
   "metadata": {},
   "outputs": [
    {
     "data": {
      "text/html": [
       "<div>\n",
       "<style scoped>\n",
       "    .dataframe tbody tr th:only-of-type {\n",
       "        vertical-align: middle;\n",
       "    }\n",
       "\n",
       "    .dataframe tbody tr th {\n",
       "        vertical-align: top;\n",
       "    }\n",
       "\n",
       "    .dataframe thead th {\n",
       "        text-align: right;\n",
       "    }\n",
       "</style>\n",
       "<table border=\"1\" class=\"dataframe\">\n",
       "  <thead>\n",
       "    <tr style=\"text-align: right;\">\n",
       "      <th></th>\n",
       "      <th>user_id</th>\n",
       "      <th>date</th>\n",
       "      <th>direction</th>\n",
       "      <th>internal</th>\n",
       "      <th>operator_id</th>\n",
       "      <th>is_missed_call</th>\n",
       "      <th>calls_count</th>\n",
       "      <th>call_duration</th>\n",
       "      <th>total_call_duration</th>\n",
       "    </tr>\n",
       "  </thead>\n",
       "  <tbody>\n",
       "    <tr>\n",
       "      <th>6312</th>\n",
       "      <td>166582</td>\n",
       "      <td>2019-09-25</td>\n",
       "      <td>out</td>\n",
       "      <td>False</td>\n",
       "      <td>885876</td>\n",
       "      <td>False</td>\n",
       "      <td>1230</td>\n",
       "      <td>144395</td>\n",
       "      <td>166155</td>\n",
       "    </tr>\n",
       "    <tr>\n",
       "      <th>6316</th>\n",
       "      <td>166582</td>\n",
       "      <td>2019-09-26</td>\n",
       "      <td>out</td>\n",
       "      <td>False</td>\n",
       "      <td>885876</td>\n",
       "      <td>False</td>\n",
       "      <td>843</td>\n",
       "      <td>132206</td>\n",
       "      <td>146903</td>\n",
       "    </tr>\n",
       "    <tr>\n",
       "      <th>6186</th>\n",
       "      <td>166582</td>\n",
       "      <td>2019-09-09</td>\n",
       "      <td>out</td>\n",
       "      <td>False</td>\n",
       "      <td>885876</td>\n",
       "      <td>False</td>\n",
       "      <td>1138</td>\n",
       "      <td>121093</td>\n",
       "      <td>141930</td>\n",
       "    </tr>\n",
       "    <tr>\n",
       "      <th>6260</th>\n",
       "      <td>166582</td>\n",
       "      <td>2019-09-18</td>\n",
       "      <td>out</td>\n",
       "      <td>False</td>\n",
       "      <td>885876</td>\n",
       "      <td>False</td>\n",
       "      <td>1013</td>\n",
       "      <td>121664</td>\n",
       "      <td>140050</td>\n",
       "    </tr>\n",
       "    <tr>\n",
       "      <th>6210</th>\n",
       "      <td>166582</td>\n",
       "      <td>2019-09-12</td>\n",
       "      <td>out</td>\n",
       "      <td>False</td>\n",
       "      <td>885876</td>\n",
       "      <td>False</td>\n",
       "      <td>696</td>\n",
       "      <td>125286</td>\n",
       "      <td>138643</td>\n",
       "    </tr>\n",
       "  </tbody>\n",
       "</table>\n",
       "</div>"
      ],
      "text/plain": [
       "      user_id       date direction internal  operator_id  is_missed_call  \\\n",
       "6312   166582 2019-09-25       out    False       885876           False   \n",
       "6316   166582 2019-09-26       out    False       885876           False   \n",
       "6186   166582 2019-09-09       out    False       885876           False   \n",
       "6260   166582 2019-09-18       out    False       885876           False   \n",
       "6210   166582 2019-09-12       out    False       885876           False   \n",
       "\n",
       "      calls_count  call_duration  total_call_duration  \n",
       "6312         1230         144395               166155  \n",
       "6316          843         132206               146903  \n",
       "6186         1138         121093               141930  \n",
       "6260         1013         121664               140050  \n",
       "6210          696         125286               138643  "
      ]
     },
     "execution_count": 29,
     "metadata": {},
     "output_type": "execute_result"
    }
   ],
   "source": [
    "dataset.sort_values('total_call_duration', ascending=False).head()"
   ]
  },
  {
   "cell_type": "code",
   "execution_count": 30,
   "metadata": {
    "scrolled": true
   },
   "outputs": [
    {
     "data": {
      "text/plain": [
       "<AxesSubplot:>"
      ]
     },
     "execution_count": 30,
     "metadata": {},
     "output_type": "execute_result"
    },
    {
     "data": {
      "image/png": "[encoded data removed]",
      "text/plain": [
       "<Figure size 432x288 with 1 Axes>"
      ]
     },
     "metadata": {
      "needs_background": "light"
     },
     "output_type": "display_data"
    }
   ],
   "source": [
    "dataset.boxplot(column='calls_count')\n"
   ]
  },
  {
   "cell_type": "code",
   "execution_count": 31,
   "metadata": {},
   "outputs": [
    {
     "data": {
      "text/plain": [
       "<AxesSubplot:>"
      ]
     },
     "execution_count": 31,
     "metadata": {},
     "output_type": "execute_result"
    },
    {
     "data": {
      "image/png": "[encoded data removed]",
      "text/plain": [
       "<Figure size 432x288 with 1 Axes>"
      ]
     },
     "metadata": {
      "needs_background": "light"
     },
     "output_type": "display_data"
    }
   ],
   "source": [
    "dataset.boxplot(column='call_duration')"
   ]
  },
  {
   "cell_type": "code",
   "execution_count": 32,
   "metadata": {},
   "outputs": [
    {
     "data": {
      "text/plain": [
       "<AxesSubplot:>"
      ]
     },
     "execution_count": 32,
     "metadata": {},
     "output_type": "execute_result"
    },
    {
     "data": {
      "image/png": "[encoded data removed]",
      "text/plain": [
       "<Figure size 432x288 with 1 Axes>"
      ]
     },
     "metadata": {
      "needs_background": "light"
     },
     "output_type": "display_data"
    }
   ],
   "source": [
    "dataset.boxplot(column='total_call_duration')\n"
   ]
  },
  {
   "cell_type": "markdown",
   "metadata": {},
   "source": [
    "Так как можно предположить, что единица измерения в датасете в столбцах \"call_duration\" и \"total_call_duration\" секунды, то для дальнейшего анализа нам нужно будет группировать данные для каждого клиента и оператора суммарное время разговора и количество звонков за каждую дату. Так же что бы лучше понять работу операторов, переведём секунды звонков в часы (так как чаще всего операторы работают по сменно и они в свою очередь измеряются часами). Переведем в часы по колонке \"total_call_duration\". Это делается для того, что бы понять, сколько часов каждый оператор общался в день, так как возникают подозрения из-за количества звонков и продолжительности разговоров."
   ]
  },
  {
   "cell_type": "code",
   "execution_count": 33,
   "metadata": {},
   "outputs": [],
   "source": [
    "# Агрегируем для каждого клиента и оператора суммарное время разговора и количество звонков за каждую дату\n",
    "anomalies = dataset.groupby(['user_id', 'date', 'operator_id'], as_index=False)\\\n",
    "    .agg({'calls_count':'sum', 'total_call_duration':'sum'})"
   ]
  },
  {
   "cell_type": "markdown",
   "metadata": {},
   "source": [
    "Взглянем на получившиеся данные"
   ]
  },
  {
   "cell_type": "code",
   "execution_count": 34,
   "metadata": {},
   "outputs": [
    {
     "data": {
      "text/html": [
       "<div>\n",
       "<style scoped>\n",
       "    .dataframe tbody tr th:only-of-type {\n",
       "        vertical-align: middle;\n",
       "    }\n",
       "\n",
       "    .dataframe tbody tr th {\n",
       "        vertical-align: top;\n",
       "    }\n",
       "\n",
       "    .dataframe thead th {\n",
       "        text-align: right;\n",
       "    }\n",
       "</style>\n",
       "<table border=\"1\" class=\"dataframe\">\n",
       "  <thead>\n",
       "    <tr style=\"text-align: right;\">\n",
       "      <th></th>\n",
       "      <th>user_id</th>\n",
       "      <th>date</th>\n",
       "      <th>operator_id</th>\n",
       "      <th>calls_count</th>\n",
       "      <th>total_call_duration</th>\n",
       "    </tr>\n",
       "  </thead>\n",
       "  <tbody>\n",
       "    <tr>\n",
       "      <th>0</th>\n",
       "      <td>166377</td>\n",
       "      <td>2019-08-05</td>\n",
       "      <td>880020</td>\n",
       "      <td>12</td>\n",
       "      <td>98</td>\n",
       "    </tr>\n",
       "    <tr>\n",
       "      <th>1</th>\n",
       "      <td>166377</td>\n",
       "      <td>2019-08-05</td>\n",
       "      <td>880022</td>\n",
       "      <td>6</td>\n",
       "      <td>30</td>\n",
       "    </tr>\n",
       "    <tr>\n",
       "      <th>2</th>\n",
       "      <td>166377</td>\n",
       "      <td>2019-08-06</td>\n",
       "      <td>880020</td>\n",
       "      <td>10</td>\n",
       "      <td>889</td>\n",
       "    </tr>\n",
       "    <tr>\n",
       "      <th>3</th>\n",
       "      <td>166377</td>\n",
       "      <td>2019-08-06</td>\n",
       "      <td>881278</td>\n",
       "      <td>5</td>\n",
       "      <td>34</td>\n",
       "    </tr>\n",
       "    <tr>\n",
       "      <th>4</th>\n",
       "      <td>166377</td>\n",
       "      <td>2019-08-07</td>\n",
       "      <td>880020</td>\n",
       "      <td>2</td>\n",
       "      <td>240</td>\n",
       "    </tr>\n",
       "  </tbody>\n",
       "</table>\n",
       "</div>"
      ],
      "text/plain": [
       "   user_id       date  operator_id  calls_count  total_call_duration\n",
       "0   166377 2019-08-05       880020           12                   98\n",
       "1   166377 2019-08-05       880022            6                   30\n",
       "2   166377 2019-08-06       880020           10                  889\n",
       "3   166377 2019-08-06       881278            5                   34\n",
       "4   166377 2019-08-07       880020            2                  240"
      ]
     },
     "execution_count": 34,
     "metadata": {},
     "output_type": "execute_result"
    }
   ],
   "source": [
    "anomalies.head()"
   ]
  },
  {
   "cell_type": "markdown",
   "metadata": {},
   "source": [
    "Найдём общее время разговора за день и переведём в часы"
   ]
  },
  {
   "cell_type": "code",
   "execution_count": 35,
   "metadata": {},
   "outputs": [],
   "source": [
    "anomalies['hour_call_duration'] = anomalies['total_call_duration'] / 3600"
   ]
  },
  {
   "cell_type": "markdown",
   "metadata": {},
   "source": [
    "Взглянем на получившуюся таблицу"
   ]
  },
  {
   "cell_type": "code",
   "execution_count": 36,
   "metadata": {},
   "outputs": [
    {
     "data": {
      "text/html": [
       "<div>\n",
       "<style scoped>\n",
       "    .dataframe tbody tr th:only-of-type {\n",
       "        vertical-align: middle;\n",
       "    }\n",
       "\n",
       "    .dataframe tbody tr th {\n",
       "        vertical-align: top;\n",
       "    }\n",
       "\n",
       "    .dataframe thead th {\n",
       "        text-align: right;\n",
       "    }\n",
       "</style>\n",
       "<table border=\"1\" class=\"dataframe\">\n",
       "  <thead>\n",
       "    <tr style=\"text-align: right;\">\n",
       "      <th></th>\n",
       "      <th>user_id</th>\n",
       "      <th>date</th>\n",
       "      <th>operator_id</th>\n",
       "      <th>calls_count</th>\n",
       "      <th>total_call_duration</th>\n",
       "      <th>hour_call_duration</th>\n",
       "    </tr>\n",
       "  </thead>\n",
       "  <tbody>\n",
       "    <tr>\n",
       "      <th>0</th>\n",
       "      <td>166377</td>\n",
       "      <td>2019-08-05</td>\n",
       "      <td>880020</td>\n",
       "      <td>12</td>\n",
       "      <td>98</td>\n",
       "      <td>0.027222</td>\n",
       "    </tr>\n",
       "    <tr>\n",
       "      <th>1</th>\n",
       "      <td>166377</td>\n",
       "      <td>2019-08-05</td>\n",
       "      <td>880022</td>\n",
       "      <td>6</td>\n",
       "      <td>30</td>\n",
       "      <td>0.008333</td>\n",
       "    </tr>\n",
       "    <tr>\n",
       "      <th>2</th>\n",
       "      <td>166377</td>\n",
       "      <td>2019-08-06</td>\n",
       "      <td>880020</td>\n",
       "      <td>10</td>\n",
       "      <td>889</td>\n",
       "      <td>0.246944</td>\n",
       "    </tr>\n",
       "    <tr>\n",
       "      <th>3</th>\n",
       "      <td>166377</td>\n",
       "      <td>2019-08-06</td>\n",
       "      <td>881278</td>\n",
       "      <td>5</td>\n",
       "      <td>34</td>\n",
       "      <td>0.009444</td>\n",
       "    </tr>\n",
       "    <tr>\n",
       "      <th>4</th>\n",
       "      <td>166377</td>\n",
       "      <td>2019-08-07</td>\n",
       "      <td>880020</td>\n",
       "      <td>2</td>\n",
       "      <td>240</td>\n",
       "      <td>0.066667</td>\n",
       "    </tr>\n",
       "  </tbody>\n",
       "</table>\n",
       "</div>"
      ],
      "text/plain": [
       "   user_id       date  operator_id  calls_count  total_call_duration  \\\n",
       "0   166377 2019-08-05       880020           12                   98   \n",
       "1   166377 2019-08-05       880022            6                   30   \n",
       "2   166377 2019-08-06       880020           10                  889   \n",
       "3   166377 2019-08-06       881278            5                   34   \n",
       "4   166377 2019-08-07       880020            2                  240   \n",
       "\n",
       "   hour_call_duration  \n",
       "0            0.027222  \n",
       "1            0.008333  \n",
       "2            0.246944  \n",
       "3            0.009444  \n",
       "4            0.066667  "
      ]
     },
     "execution_count": 36,
     "metadata": {},
     "output_type": "execute_result"
    }
   ],
   "source": [
    "anomalies.head()"
   ]
  },
  {
   "cell_type": "markdown",
   "metadata": {},
   "source": [
    "Построим обычный боксплот, что бы лучше представлять данные и гистограмму"
   ]
  },
  {
   "cell_type": "code",
   "execution_count": 37,
   "metadata": {},
   "outputs": [
    {
     "data": {
      "text/plain": [
       "<AxesSubplot:>"
      ]
     },
     "execution_count": 37,
     "metadata": {},
     "output_type": "execute_result"
    },
    {
     "data": {
      "image/png": "[encoded data removed]",
      "text/plain": [
       "<Figure size 432x288 with 1 Axes>"
      ]
     },
     "metadata": {
      "needs_background": "light"
     },
     "output_type": "display_data"
    }
   ],
   "source": [
    "anomalies.boxplot(column='hour_call_duration')"
   ]
  },
  {
   "cell_type": "code",
   "execution_count": 38,
   "metadata": {},
   "outputs": [
    {
     "data": {
      "image/png": "[encoded data removed]",
      "text/plain": [
       "<Figure size 720x360 with 2 Axes>"
      ]
     },
     "metadata": {
      "needs_background": "light"
     },
     "output_type": "display_data"
    }
   ],
   "source": [
    "fig, axes = plt.subplots(1, 2, figsize=(10, 5), gridspec_kw={'hspace': 0.5})\n",
    "fig.suptitle('Распределение общих длительностей разговоров в часах за каждый день на каждого оператора')\n",
    "plt.subplots_adjust(wspace=0.5) \n",
    "\n",
    "anomalies['hour_call_duration'].plot(kind='hist', grid=True, ax=axes[0])\n",
    "axes[0].set_xlabel('Общая длительность разговоров')\n",
    "axes[0].set_ylabel('Количество случаев')\n",
    "\n",
    "anomalies['hour_call_duration'].plot(kind='hist', grid=True, range=(0, 10), ax=axes[1])\n",
    "axes[1].set_xlabel('Общая длительность разговоров')\n",
    "axes[1].set_ylabel('Количество случаев')\n",
    "\n",
    "plt.show()"
   ]
  },
  {
   "cell_type": "markdown",
   "metadata": {},
   "source": [
    "Присутствуют разговоры чуть более 50 часов в сутки, что точно не нормально. Есть некоторое кол-во разговоров польше 20 часов в сутки. Учитывая то, что время взято звонков с учётом ожиданий, мы имеем дело или с ошибками агрегации, или под одним id оператора работают фактически несколько человек в кол центре. Так как в данном исследование не предполагается изучать более детально время звонков в разрезе операторов, то время звонков ограничу разумными 8 часами смены(хотя скорей всего чистое время звонков при 8 часовой смене в кол центрах должно быть меньше этого времени). "
   ]
  },
  {
   "cell_type": "markdown",
   "metadata": {},
   "source": [
    "Найдём таких операторов, у кого встречается аномальное время звонков. Получим и переменную, в случае которой будет содержатся подобная информация. Возможно, для внутреннней проверки или дальнейшего разбирательства. Какое кол-во от общего объема данных будут составлять такие аномалии."
   ]
  },
  {
   "cell_type": "code",
   "execution_count": 39,
   "metadata": {},
   "outputs": [],
   "source": [
    "# датафрейм с аномальными данными у операторов\n",
    "anomalies_days = anomalies.query('hour_call_duration > 8')"
   ]
  },
  {
   "cell_type": "code",
   "execution_count": 40,
   "metadata": {},
   "outputs": [
    {
     "data": {
      "text/plain": [
       "161"
      ]
     },
     "execution_count": 40,
     "metadata": {},
     "output_type": "execute_result"
    }
   ],
   "source": [
    "anomalies_days.shape[0]"
   ]
  },
  {
   "cell_type": "markdown",
   "metadata": {},
   "source": [
    "Какой процент аномалии составляют от общих данных"
   ]
  },
  {
   "cell_type": "code",
   "execution_count": 41,
   "metadata": {},
   "outputs": [
    {
     "name": "stdout",
     "output_type": "stream",
     "text": [
      "Процент данных с аномалиями от общего числа данных: 0.33%\n"
     ]
    }
   ],
   "source": [
    "total_rows = len(dataset)\n",
    "anomalies_rows = len(anomalies_days)\n",
    "percentage_anomalies = round((anomalies_rows / total_rows) * 100, 2)\n",
    "\n",
    "print(f\"Процент данных с аномалиями от общего числа данных: {percentage_anomalies}%\")"
   ]
  },
  {
   "cell_type": "markdown",
   "metadata": {},
   "source": [
    "Процент таких аномальных данных очень мал, по этому мы можем его удалить из анализируемого датасета."
   ]
  },
  {
   "cell_type": "code",
   "execution_count": 42,
   "metadata": {},
   "outputs": [],
   "source": [
    "# очищенный от аномальных случаев датафрейм\n",
    "clean_dataset = dataset.query('user_id not in @anomalies_days.user_id').reset_index(drop=True)"
   ]
  },
  {
   "cell_type": "markdown",
   "metadata": {},
   "source": [
    "Взглянем ещё раз на данные "
   ]
  },
  {
   "cell_type": "code",
   "execution_count": 43,
   "metadata": {},
   "outputs": [
    {
     "data": {
      "text/html": [
       "<div>\n",
       "<style scoped>\n",
       "    .dataframe tbody tr th:only-of-type {\n",
       "        vertical-align: middle;\n",
       "    }\n",
       "\n",
       "    .dataframe tbody tr th {\n",
       "        vertical-align: top;\n",
       "    }\n",
       "\n",
       "    .dataframe thead th {\n",
       "        text-align: right;\n",
       "    }\n",
       "</style>\n",
       "<table border=\"1\" class=\"dataframe\">\n",
       "  <thead>\n",
       "    <tr style=\"text-align: right;\">\n",
       "      <th></th>\n",
       "      <th>user_id</th>\n",
       "      <th>date</th>\n",
       "      <th>direction</th>\n",
       "      <th>internal</th>\n",
       "      <th>operator_id</th>\n",
       "      <th>is_missed_call</th>\n",
       "      <th>calls_count</th>\n",
       "      <th>call_duration</th>\n",
       "      <th>total_call_duration</th>\n",
       "    </tr>\n",
       "  </thead>\n",
       "  <tbody>\n",
       "    <tr>\n",
       "      <th>32859</th>\n",
       "      <td>167626</td>\n",
       "      <td>2019-10-07</td>\n",
       "      <td>in</td>\n",
       "      <td>False</td>\n",
       "      <td>&lt;NA&gt;</td>\n",
       "      <td>True</td>\n",
       "      <td>2168</td>\n",
       "      <td>0</td>\n",
       "      <td>2361</td>\n",
       "    </tr>\n",
       "    <tr>\n",
       "      <th>32887</th>\n",
       "      <td>167626</td>\n",
       "      <td>2019-10-08</td>\n",
       "      <td>in</td>\n",
       "      <td>False</td>\n",
       "      <td>&lt;NA&gt;</td>\n",
       "      <td>True</td>\n",
       "      <td>1917</td>\n",
       "      <td>0</td>\n",
       "      <td>2044</td>\n",
       "    </tr>\n",
       "    <tr>\n",
       "      <th>33298</th>\n",
       "      <td>167626</td>\n",
       "      <td>2019-10-15</td>\n",
       "      <td>in</td>\n",
       "      <td>False</td>\n",
       "      <td>&lt;NA&gt;</td>\n",
       "      <td>True</td>\n",
       "      <td>1914</td>\n",
       "      <td>0</td>\n",
       "      <td>2063</td>\n",
       "    </tr>\n",
       "    <tr>\n",
       "      <th>33065</th>\n",
       "      <td>167626</td>\n",
       "      <td>2019-10-11</td>\n",
       "      <td>in</td>\n",
       "      <td>False</td>\n",
       "      <td>&lt;NA&gt;</td>\n",
       "      <td>True</td>\n",
       "      <td>1705</td>\n",
       "      <td>0</td>\n",
       "      <td>2455</td>\n",
       "    </tr>\n",
       "    <tr>\n",
       "      <th>45055</th>\n",
       "      <td>168252</td>\n",
       "      <td>2019-11-25</td>\n",
       "      <td>in</td>\n",
       "      <td>False</td>\n",
       "      <td>&lt;NA&gt;</td>\n",
       "      <td>True</td>\n",
       "      <td>1679</td>\n",
       "      <td>0</td>\n",
       "      <td>42251</td>\n",
       "    </tr>\n",
       "  </tbody>\n",
       "</table>\n",
       "</div>"
      ],
      "text/plain": [
       "       user_id       date direction internal  operator_id  is_missed_call  \\\n",
       "32859   167626 2019-10-07        in    False         <NA>            True   \n",
       "32887   167626 2019-10-08        in    False         <NA>            True   \n",
       "33298   167626 2019-10-15        in    False         <NA>            True   \n",
       "33065   167626 2019-10-11        in    False         <NA>            True   \n",
       "45055   168252 2019-11-25        in    False         <NA>            True   \n",
       "\n",
       "       calls_count  call_duration  total_call_duration  \n",
       "32859         2168              0                 2361  \n",
       "32887         1917              0                 2044  \n",
       "33298         1914              0                 2063  \n",
       "33065         1705              0                 2455  \n",
       "45055         1679              0                42251  "
      ]
     },
     "execution_count": 43,
     "metadata": {},
     "output_type": "execute_result"
    }
   ],
   "source": [
    "clean_dataset.sort_values('calls_count', ascending=False).head()"
   ]
  },
  {
   "cell_type": "code",
   "execution_count": 44,
   "metadata": {},
   "outputs": [
    {
     "data": {
      "text/html": [
       "<div>\n",
       "<style scoped>\n",
       "    .dataframe tbody tr th:only-of-type {\n",
       "        vertical-align: middle;\n",
       "    }\n",
       "\n",
       "    .dataframe tbody tr th {\n",
       "        vertical-align: top;\n",
       "    }\n",
       "\n",
       "    .dataframe thead th {\n",
       "        text-align: right;\n",
       "    }\n",
       "</style>\n",
       "<table border=\"1\" class=\"dataframe\">\n",
       "  <thead>\n",
       "    <tr style=\"text-align: right;\">\n",
       "      <th></th>\n",
       "      <th>user_id</th>\n",
       "      <th>date</th>\n",
       "      <th>direction</th>\n",
       "      <th>internal</th>\n",
       "      <th>operator_id</th>\n",
       "      <th>is_missed_call</th>\n",
       "      <th>calls_count</th>\n",
       "      <th>call_duration</th>\n",
       "      <th>total_call_duration</th>\n",
       "    </tr>\n",
       "  </thead>\n",
       "  <tbody>\n",
       "    <tr>\n",
       "      <th>44970</th>\n",
       "      <td>168252</td>\n",
       "      <td>2019-11-22</td>\n",
       "      <td>in</td>\n",
       "      <td>False</td>\n",
       "      <td>&lt;NA&gt;</td>\n",
       "      <td>False</td>\n",
       "      <td>52</td>\n",
       "      <td>26175</td>\n",
       "      <td>26347</td>\n",
       "    </tr>\n",
       "    <tr>\n",
       "      <th>45156</th>\n",
       "      <td>168252</td>\n",
       "      <td>2019-11-28</td>\n",
       "      <td>in</td>\n",
       "      <td>False</td>\n",
       "      <td>&lt;NA&gt;</td>\n",
       "      <td>False</td>\n",
       "      <td>45</td>\n",
       "      <td>23765</td>\n",
       "      <td>23897</td>\n",
       "    </tr>\n",
       "    <tr>\n",
       "      <th>45108</th>\n",
       "      <td>168252</td>\n",
       "      <td>2019-11-27</td>\n",
       "      <td>in</td>\n",
       "      <td>False</td>\n",
       "      <td>&lt;NA&gt;</td>\n",
       "      <td>False</td>\n",
       "      <td>52</td>\n",
       "      <td>23706</td>\n",
       "      <td>23894</td>\n",
       "    </tr>\n",
       "    <tr>\n",
       "      <th>45031</th>\n",
       "      <td>168252</td>\n",
       "      <td>2019-11-25</td>\n",
       "      <td>in</td>\n",
       "      <td>False</td>\n",
       "      <td>&lt;NA&gt;</td>\n",
       "      <td>False</td>\n",
       "      <td>49</td>\n",
       "      <td>23658</td>\n",
       "      <td>23854</td>\n",
       "    </tr>\n",
       "    <tr>\n",
       "      <th>44905</th>\n",
       "      <td>168252</td>\n",
       "      <td>2019-11-21</td>\n",
       "      <td>in</td>\n",
       "      <td>False</td>\n",
       "      <td>&lt;NA&gt;</td>\n",
       "      <td>False</td>\n",
       "      <td>37</td>\n",
       "      <td>21446</td>\n",
       "      <td>21563</td>\n",
       "    </tr>\n",
       "  </tbody>\n",
       "</table>\n",
       "</div>"
      ],
      "text/plain": [
       "       user_id       date direction internal  operator_id  is_missed_call  \\\n",
       "44970   168252 2019-11-22        in    False         <NA>           False   \n",
       "45156   168252 2019-11-28        in    False         <NA>           False   \n",
       "45108   168252 2019-11-27        in    False         <NA>           False   \n",
       "45031   168252 2019-11-25        in    False         <NA>           False   \n",
       "44905   168252 2019-11-21        in    False         <NA>           False   \n",
       "\n",
       "       calls_count  call_duration  total_call_duration  \n",
       "44970           52          26175                26347  \n",
       "45156           45          23765                23897  \n",
       "45108           52          23706                23894  \n",
       "45031           49          23658                23854  \n",
       "44905           37          21446                21563  "
      ]
     },
     "execution_count": 44,
     "metadata": {},
     "output_type": "execute_result"
    }
   ],
   "source": [
    "clean_dataset.sort_values('call_duration', ascending=False).head()"
   ]
  },
  {
   "cell_type": "markdown",
   "metadata": {},
   "source": [
    "Можно конечно смотреть более внимательно количество звонков в день у одного оператора. Но в рамках данного проекта это пожалуй не входит в нашу первоочередную задачу. При необходимости, так же как мы отобрали список операторов, у кого время разговоров ненормально длинное, можно найти и операторов, у кого количество звонков не разумно большое. Сейчас сложно определить эту границу разумности в числе звонков в ден, по этому данную аномалию оставим без изменения. "
   ]
  },
  {
   "cell_type": "markdown",
   "metadata": {},
   "source": [
    "### Поиск активных клиентов"
   ]
  },
  {
   "cell_type": "markdown",
   "metadata": {},
   "source": [
    "Посмотрим на интервал времени, за который мы имеем данные"
   ]
  },
  {
   "cell_type": "code",
   "execution_count": 45,
   "metadata": {},
   "outputs": [
    {
     "data": {
      "text/plain": [
       "Timestamp('2019-08-02 00:00:00')"
      ]
     },
     "execution_count": 45,
     "metadata": {},
     "output_type": "execute_result"
    }
   ],
   "source": [
    "clean_dataset['date'].min()"
   ]
  },
  {
   "cell_type": "code",
   "execution_count": 46,
   "metadata": {},
   "outputs": [
    {
     "data": {
      "text/plain": [
       "Timestamp('2019-11-28 00:00:00')"
      ]
     },
     "execution_count": 46,
     "metadata": {},
     "output_type": "execute_result"
    }
   ],
   "source": [
    "clean_dataset['date'].max()"
   ]
  },
  {
   "cell_type": "markdown",
   "metadata": {},
   "source": [
    "В датасете представлены данные с начала августа по конец ноября 2019 года. Данные за ноябрь неполные - за 3 дня нет данных. Но данные за ноябрь хоть и не полные, но дают нам впринципе много информации и целиком отказываться от этого месяца при анализе данных считаю не целесообразным. На основание данных за этот хоть и не полный месяц, мы отберём активных пользователей. "
   ]
  },
  {
   "cell_type": "markdown",
   "metadata": {},
   "source": [
    "Для отбора активных пользователей и дальнейшего анализа, создадим поле с номером месяца."
   ]
  },
  {
   "cell_type": "code",
   "execution_count": 47,
   "metadata": {},
   "outputs": [],
   "source": [
    "clean_dataset['month'] = clean_dataset['date'].dt.month"
   ]
  },
  {
   "cell_type": "markdown",
   "metadata": {},
   "source": [
    "Проверили, что всё создалось и сохранилось"
   ]
  },
  {
   "cell_type": "code",
   "execution_count": 48,
   "metadata": {},
   "outputs": [
    {
     "data": {
      "text/html": [
       "<div>\n",
       "<style scoped>\n",
       "    .dataframe tbody tr th:only-of-type {\n",
       "        vertical-align: middle;\n",
       "    }\n",
       "\n",
       "    .dataframe tbody tr th {\n",
       "        vertical-align: top;\n",
       "    }\n",
       "\n",
       "    .dataframe thead th {\n",
       "        text-align: right;\n",
       "    }\n",
       "</style>\n",
       "<table border=\"1\" class=\"dataframe\">\n",
       "  <thead>\n",
       "    <tr style=\"text-align: right;\">\n",
       "      <th></th>\n",
       "      <th>user_id</th>\n",
       "      <th>date</th>\n",
       "      <th>direction</th>\n",
       "      <th>internal</th>\n",
       "      <th>operator_id</th>\n",
       "      <th>is_missed_call</th>\n",
       "      <th>calls_count</th>\n",
       "      <th>call_duration</th>\n",
       "      <th>total_call_duration</th>\n",
       "      <th>month</th>\n",
       "    </tr>\n",
       "  </thead>\n",
       "  <tbody>\n",
       "    <tr>\n",
       "      <th>0</th>\n",
       "      <td>166377</td>\n",
       "      <td>2019-08-04</td>\n",
       "      <td>in</td>\n",
       "      <td>False</td>\n",
       "      <td>&lt;NA&gt;</td>\n",
       "      <td>True</td>\n",
       "      <td>2</td>\n",
       "      <td>0</td>\n",
       "      <td>4</td>\n",
       "      <td>8</td>\n",
       "    </tr>\n",
       "    <tr>\n",
       "      <th>1</th>\n",
       "      <td>166377</td>\n",
       "      <td>2019-08-05</td>\n",
       "      <td>out</td>\n",
       "      <td>True</td>\n",
       "      <td>880022</td>\n",
       "      <td>True</td>\n",
       "      <td>3</td>\n",
       "      <td>0</td>\n",
       "      <td>5</td>\n",
       "      <td>8</td>\n",
       "    </tr>\n",
       "    <tr>\n",
       "      <th>2</th>\n",
       "      <td>166377</td>\n",
       "      <td>2019-08-05</td>\n",
       "      <td>out</td>\n",
       "      <td>True</td>\n",
       "      <td>880020</td>\n",
       "      <td>True</td>\n",
       "      <td>1</td>\n",
       "      <td>0</td>\n",
       "      <td>1</td>\n",
       "      <td>8</td>\n",
       "    </tr>\n",
       "    <tr>\n",
       "      <th>3</th>\n",
       "      <td>166377</td>\n",
       "      <td>2019-08-05</td>\n",
       "      <td>out</td>\n",
       "      <td>True</td>\n",
       "      <td>880020</td>\n",
       "      <td>False</td>\n",
       "      <td>1</td>\n",
       "      <td>10</td>\n",
       "      <td>18</td>\n",
       "      <td>8</td>\n",
       "    </tr>\n",
       "    <tr>\n",
       "      <th>4</th>\n",
       "      <td>166377</td>\n",
       "      <td>2019-08-05</td>\n",
       "      <td>out</td>\n",
       "      <td>False</td>\n",
       "      <td>880022</td>\n",
       "      <td>True</td>\n",
       "      <td>3</td>\n",
       "      <td>0</td>\n",
       "      <td>25</td>\n",
       "      <td>8</td>\n",
       "    </tr>\n",
       "  </tbody>\n",
       "</table>\n",
       "</div>"
      ],
      "text/plain": [
       "   user_id       date direction internal  operator_id  is_missed_call  \\\n",
       "0   166377 2019-08-04        in    False         <NA>            True   \n",
       "1   166377 2019-08-05       out     True       880022            True   \n",
       "2   166377 2019-08-05       out     True       880020            True   \n",
       "3   166377 2019-08-05       out     True       880020           False   \n",
       "4   166377 2019-08-05       out    False       880022            True   \n",
       "\n",
       "   calls_count  call_duration  total_call_duration  month  \n",
       "0            2              0                    4      8  \n",
       "1            3              0                    5      8  \n",
       "2            1              0                    1      8  \n",
       "3            1             10                   18      8  \n",
       "4            3              0                   25      8  "
      ]
     },
     "execution_count": 48,
     "metadata": {},
     "output_type": "execute_result"
    }
   ],
   "source": [
    "clean_dataset.head()"
   ]
  },
  {
   "cell_type": "markdown",
   "metadata": {},
   "source": [
    "Теперь собственно находим активных пользователей, которые были в ноябре (11 месяц)"
   ]
  },
  {
   "cell_type": "code",
   "execution_count": 49,
   "metadata": {},
   "outputs": [],
   "source": [
    "active_users_filter = clean_dataset[clean_dataset['month'] == 11]['user_id'].unique()"
   ]
  },
  {
   "cell_type": "markdown",
   "metadata": {},
   "source": [
    "Посмотрим, сколько активных кол центров было в ноябре"
   ]
  },
  {
   "cell_type": "code",
   "execution_count": 50,
   "metadata": {},
   "outputs": [
    {
     "data": {
      "text/plain": [
       "257"
      ]
     },
     "execution_count": 50,
     "metadata": {},
     "output_type": "execute_result"
    }
   ],
   "source": [
    "active_users_filter.shape[0]"
   ]
  },
  {
   "cell_type": "markdown",
   "metadata": {},
   "source": [
    "Отберём всех активных пользователей за весь период"
   ]
  },
  {
   "cell_type": "code",
   "execution_count": 51,
   "metadata": {},
   "outputs": [],
   "source": [
    "active_users = clean_dataset.query('user_id in @active_users_filter').reset_index(drop=True)"
   ]
  },
  {
   "cell_type": "markdown",
   "metadata": {},
   "source": [
    "Проверим результат"
   ]
  },
  {
   "cell_type": "code",
   "execution_count": 52,
   "metadata": {},
   "outputs": [
    {
     "data": {
      "text/html": [
       "<div>\n",
       "<style scoped>\n",
       "    .dataframe tbody tr th:only-of-type {\n",
       "        vertical-align: middle;\n",
       "    }\n",
       "\n",
       "    .dataframe tbody tr th {\n",
       "        vertical-align: top;\n",
       "    }\n",
       "\n",
       "    .dataframe thead th {\n",
       "        text-align: right;\n",
       "    }\n",
       "</style>\n",
       "<table border=\"1\" class=\"dataframe\">\n",
       "  <thead>\n",
       "    <tr style=\"text-align: right;\">\n",
       "      <th></th>\n",
       "      <th>user_id</th>\n",
       "      <th>date</th>\n",
       "      <th>direction</th>\n",
       "      <th>internal</th>\n",
       "      <th>operator_id</th>\n",
       "      <th>is_missed_call</th>\n",
       "      <th>calls_count</th>\n",
       "      <th>call_duration</th>\n",
       "      <th>total_call_duration</th>\n",
       "      <th>month</th>\n",
       "    </tr>\n",
       "  </thead>\n",
       "  <tbody>\n",
       "    <tr>\n",
       "      <th>0</th>\n",
       "      <td>166377</td>\n",
       "      <td>2019-08-04</td>\n",
       "      <td>in</td>\n",
       "      <td>False</td>\n",
       "      <td>&lt;NA&gt;</td>\n",
       "      <td>True</td>\n",
       "      <td>2</td>\n",
       "      <td>0</td>\n",
       "      <td>4</td>\n",
       "      <td>8</td>\n",
       "    </tr>\n",
       "    <tr>\n",
       "      <th>1</th>\n",
       "      <td>166377</td>\n",
       "      <td>2019-08-05</td>\n",
       "      <td>out</td>\n",
       "      <td>True</td>\n",
       "      <td>880022</td>\n",
       "      <td>True</td>\n",
       "      <td>3</td>\n",
       "      <td>0</td>\n",
       "      <td>5</td>\n",
       "      <td>8</td>\n",
       "    </tr>\n",
       "    <tr>\n",
       "      <th>2</th>\n",
       "      <td>166377</td>\n",
       "      <td>2019-08-05</td>\n",
       "      <td>out</td>\n",
       "      <td>True</td>\n",
       "      <td>880020</td>\n",
       "      <td>True</td>\n",
       "      <td>1</td>\n",
       "      <td>0</td>\n",
       "      <td>1</td>\n",
       "      <td>8</td>\n",
       "    </tr>\n",
       "    <tr>\n",
       "      <th>3</th>\n",
       "      <td>166377</td>\n",
       "      <td>2019-08-05</td>\n",
       "      <td>out</td>\n",
       "      <td>True</td>\n",
       "      <td>880020</td>\n",
       "      <td>False</td>\n",
       "      <td>1</td>\n",
       "      <td>10</td>\n",
       "      <td>18</td>\n",
       "      <td>8</td>\n",
       "    </tr>\n",
       "    <tr>\n",
       "      <th>4</th>\n",
       "      <td>166377</td>\n",
       "      <td>2019-08-05</td>\n",
       "      <td>out</td>\n",
       "      <td>False</td>\n",
       "      <td>880022</td>\n",
       "      <td>True</td>\n",
       "      <td>3</td>\n",
       "      <td>0</td>\n",
       "      <td>25</td>\n",
       "      <td>8</td>\n",
       "    </tr>\n",
       "  </tbody>\n",
       "</table>\n",
       "</div>"
      ],
      "text/plain": [
       "   user_id       date direction internal  operator_id  is_missed_call  \\\n",
       "0   166377 2019-08-04        in    False         <NA>            True   \n",
       "1   166377 2019-08-05       out     True       880022            True   \n",
       "2   166377 2019-08-05       out     True       880020            True   \n",
       "3   166377 2019-08-05       out     True       880020           False   \n",
       "4   166377 2019-08-05       out    False       880022            True   \n",
       "\n",
       "   calls_count  call_duration  total_call_duration  month  \n",
       "0            2              0                    4      8  \n",
       "1            3              0                    5      8  \n",
       "2            1              0                    1      8  \n",
       "3            1             10                   18      8  \n",
       "4            3              0                   25      8  "
      ]
     },
     "execution_count": 52,
     "metadata": {},
     "output_type": "execute_result"
    }
   ],
   "source": [
    "active_users.head()"
   ]
  },
  {
   "cell_type": "markdown",
   "metadata": {},
   "source": [
    "### Изучение распределения доходов от активных пользователей"
   ]
  },
  {
   "cell_type": "markdown",
   "metadata": {},
   "source": [
    "####  Поиск переплачивающих клиентов"
   ]
  },
  {
   "cell_type": "markdown",
   "metadata": {},
   "source": [
    "Секунды переведём в минуты путём создания нового столбца \"call minutes\". Округляем в большую сторону, тк при рассчёте тарифов, секунды разговора если тарификация по минутная приравниваются к целой минуте. Эти данные должны иметь целочисленный вид и соответственно тип "
   ]
  },
  {
   "cell_type": "code",
   "execution_count": 53,
   "metadata": {},
   "outputs": [],
   "source": [
    "# создаём новый столбец, содержащий минуты с округлением в большую сторону.\n",
    "active_users[\"call_minutes\"] = np.ceil(active_users[\"total_call_duration\"] / 60).astype('int')"
   ]
  },
  {
   "cell_type": "markdown",
   "metadata": {},
   "source": [
    "Проверим результат"
   ]
  },
  {
   "cell_type": "code",
   "execution_count": 54,
   "metadata": {},
   "outputs": [
    {
     "data": {
      "text/html": [
       "<div>\n",
       "<style scoped>\n",
       "    .dataframe tbody tr th:only-of-type {\n",
       "        vertical-align: middle;\n",
       "    }\n",
       "\n",
       "    .dataframe tbody tr th {\n",
       "        vertical-align: top;\n",
       "    }\n",
       "\n",
       "    .dataframe thead th {\n",
       "        text-align: right;\n",
       "    }\n",
       "</style>\n",
       "<table border=\"1\" class=\"dataframe\">\n",
       "  <thead>\n",
       "    <tr style=\"text-align: right;\">\n",
       "      <th></th>\n",
       "      <th>user_id</th>\n",
       "      <th>date</th>\n",
       "      <th>direction</th>\n",
       "      <th>internal</th>\n",
       "      <th>operator_id</th>\n",
       "      <th>is_missed_call</th>\n",
       "      <th>calls_count</th>\n",
       "      <th>call_duration</th>\n",
       "      <th>total_call_duration</th>\n",
       "      <th>month</th>\n",
       "      <th>call_minutes</th>\n",
       "    </tr>\n",
       "  </thead>\n",
       "  <tbody>\n",
       "    <tr>\n",
       "      <th>0</th>\n",
       "      <td>166377</td>\n",
       "      <td>2019-08-04</td>\n",
       "      <td>in</td>\n",
       "      <td>False</td>\n",
       "      <td>&lt;NA&gt;</td>\n",
       "      <td>True</td>\n",
       "      <td>2</td>\n",
       "      <td>0</td>\n",
       "      <td>4</td>\n",
       "      <td>8</td>\n",
       "      <td>1</td>\n",
       "    </tr>\n",
       "    <tr>\n",
       "      <th>1</th>\n",
       "      <td>166377</td>\n",
       "      <td>2019-08-05</td>\n",
       "      <td>out</td>\n",
       "      <td>True</td>\n",
       "      <td>880022</td>\n",
       "      <td>True</td>\n",
       "      <td>3</td>\n",
       "      <td>0</td>\n",
       "      <td>5</td>\n",
       "      <td>8</td>\n",
       "      <td>1</td>\n",
       "    </tr>\n",
       "    <tr>\n",
       "      <th>2</th>\n",
       "      <td>166377</td>\n",
       "      <td>2019-08-05</td>\n",
       "      <td>out</td>\n",
       "      <td>True</td>\n",
       "      <td>880020</td>\n",
       "      <td>True</td>\n",
       "      <td>1</td>\n",
       "      <td>0</td>\n",
       "      <td>1</td>\n",
       "      <td>8</td>\n",
       "      <td>1</td>\n",
       "    </tr>\n",
       "    <tr>\n",
       "      <th>3</th>\n",
       "      <td>166377</td>\n",
       "      <td>2019-08-05</td>\n",
       "      <td>out</td>\n",
       "      <td>True</td>\n",
       "      <td>880020</td>\n",
       "      <td>False</td>\n",
       "      <td>1</td>\n",
       "      <td>10</td>\n",
       "      <td>18</td>\n",
       "      <td>8</td>\n",
       "      <td>1</td>\n",
       "    </tr>\n",
       "    <tr>\n",
       "      <th>4</th>\n",
       "      <td>166377</td>\n",
       "      <td>2019-08-05</td>\n",
       "      <td>out</td>\n",
       "      <td>False</td>\n",
       "      <td>880022</td>\n",
       "      <td>True</td>\n",
       "      <td>3</td>\n",
       "      <td>0</td>\n",
       "      <td>25</td>\n",
       "      <td>8</td>\n",
       "      <td>1</td>\n",
       "    </tr>\n",
       "  </tbody>\n",
       "</table>\n",
       "</div>"
      ],
      "text/plain": [
       "   user_id       date direction internal  operator_id  is_missed_call  \\\n",
       "0   166377 2019-08-04        in    False         <NA>            True   \n",
       "1   166377 2019-08-05       out     True       880022            True   \n",
       "2   166377 2019-08-05       out     True       880020            True   \n",
       "3   166377 2019-08-05       out     True       880020           False   \n",
       "4   166377 2019-08-05       out    False       880022            True   \n",
       "\n",
       "   calls_count  call_duration  total_call_duration  month  call_minutes  \n",
       "0            2              0                    4      8             1  \n",
       "1            3              0                    5      8             1  \n",
       "2            1              0                    1      8             1  \n",
       "3            1             10                   18      8             1  \n",
       "4            3              0                   25      8             1  "
      ]
     },
     "execution_count": 54,
     "metadata": {},
     "output_type": "execute_result"
    }
   ],
   "source": [
    "active_users.head()"
   ]
  },
  {
   "cell_type": "code",
   "execution_count": 55,
   "metadata": {},
   "outputs": [],
   "source": [
    "groupby = active_users.groupby(['user_id', 'month','direction', 'internal']).\\\n",
    "agg({'call_minutes':'sum'}).reset_index()"
   ]
  },
  {
   "cell_type": "code",
   "execution_count": 56,
   "metadata": {},
   "outputs": [
    {
     "data": {
      "text/html": [
       "<div>\n",
       "<style scoped>\n",
       "    .dataframe tbody tr th:only-of-type {\n",
       "        vertical-align: middle;\n",
       "    }\n",
       "\n",
       "    .dataframe tbody tr th {\n",
       "        vertical-align: top;\n",
       "    }\n",
       "\n",
       "    .dataframe thead th {\n",
       "        text-align: right;\n",
       "    }\n",
       "</style>\n",
       "<table border=\"1\" class=\"dataframe\">\n",
       "  <thead>\n",
       "    <tr style=\"text-align: right;\">\n",
       "      <th></th>\n",
       "      <th>user_id</th>\n",
       "      <th>month</th>\n",
       "      <th>direction</th>\n",
       "      <th>internal</th>\n",
       "      <th>call_minutes</th>\n",
       "    </tr>\n",
       "  </thead>\n",
       "  <tbody>\n",
       "    <tr>\n",
       "      <th>0</th>\n",
       "      <td>166377</td>\n",
       "      <td>8</td>\n",
       "      <td>in</td>\n",
       "      <td>False</td>\n",
       "      <td>43</td>\n",
       "    </tr>\n",
       "    <tr>\n",
       "      <th>1</th>\n",
       "      <td>166377</td>\n",
       "      <td>8</td>\n",
       "      <td>out</td>\n",
       "      <td>False</td>\n",
       "      <td>1337</td>\n",
       "    </tr>\n",
       "    <tr>\n",
       "      <th>2</th>\n",
       "      <td>166377</td>\n",
       "      <td>8</td>\n",
       "      <td>out</td>\n",
       "      <td>True</td>\n",
       "      <td>8</td>\n",
       "    </tr>\n",
       "    <tr>\n",
       "      <th>3</th>\n",
       "      <td>166377</td>\n",
       "      <td>9</td>\n",
       "      <td>in</td>\n",
       "      <td>False</td>\n",
       "      <td>48</td>\n",
       "    </tr>\n",
       "    <tr>\n",
       "      <th>4</th>\n",
       "      <td>166377</td>\n",
       "      <td>9</td>\n",
       "      <td>out</td>\n",
       "      <td>False</td>\n",
       "      <td>1818</td>\n",
       "    </tr>\n",
       "  </tbody>\n",
       "</table>\n",
       "</div>"
      ],
      "text/plain": [
       "   user_id  month direction  internal  call_minutes\n",
       "0   166377      8        in     False            43\n",
       "1   166377      8       out     False          1337\n",
       "2   166377      8       out      True             8\n",
       "3   166377      9        in     False            48\n",
       "4   166377      9       out     False          1818"
      ]
     },
     "execution_count": 56,
     "metadata": {},
     "output_type": "execute_result"
    }
   ],
   "source": [
    "groupby.head()"
   ]
  },
  {
   "cell_type": "code",
   "execution_count": 57,
   "metadata": {},
   "outputs": [],
   "source": [
    "active_users_tariffs_groupby = groupby.merge(clients[['user_id', 'tariff_plan']], \n",
    "                                                          how='left', \n",
    "                                                          on='user_id')"
   ]
  },
  {
   "cell_type": "code",
   "execution_count": 58,
   "metadata": {},
   "outputs": [
    {
     "data": {
      "text/html": [
       "<div>\n",
       "<style scoped>\n",
       "    .dataframe tbody tr th:only-of-type {\n",
       "        vertical-align: middle;\n",
       "    }\n",
       "\n",
       "    .dataframe tbody tr th {\n",
       "        vertical-align: top;\n",
       "    }\n",
       "\n",
       "    .dataframe thead th {\n",
       "        text-align: right;\n",
       "    }\n",
       "</style>\n",
       "<table border=\"1\" class=\"dataframe\">\n",
       "  <thead>\n",
       "    <tr style=\"text-align: right;\">\n",
       "      <th></th>\n",
       "      <th>user_id</th>\n",
       "      <th>month</th>\n",
       "      <th>direction</th>\n",
       "      <th>internal</th>\n",
       "      <th>call_minutes</th>\n",
       "      <th>tariff_plan</th>\n",
       "    </tr>\n",
       "  </thead>\n",
       "  <tbody>\n",
       "    <tr>\n",
       "      <th>0</th>\n",
       "      <td>166377</td>\n",
       "      <td>8</td>\n",
       "      <td>in</td>\n",
       "      <td>False</td>\n",
       "      <td>43</td>\n",
       "      <td>B</td>\n",
       "    </tr>\n",
       "    <tr>\n",
       "      <th>1</th>\n",
       "      <td>166377</td>\n",
       "      <td>8</td>\n",
       "      <td>out</td>\n",
       "      <td>False</td>\n",
       "      <td>1337</td>\n",
       "      <td>B</td>\n",
       "    </tr>\n",
       "    <tr>\n",
       "      <th>2</th>\n",
       "      <td>166377</td>\n",
       "      <td>8</td>\n",
       "      <td>out</td>\n",
       "      <td>True</td>\n",
       "      <td>8</td>\n",
       "      <td>B</td>\n",
       "    </tr>\n",
       "    <tr>\n",
       "      <th>3</th>\n",
       "      <td>166377</td>\n",
       "      <td>9</td>\n",
       "      <td>in</td>\n",
       "      <td>False</td>\n",
       "      <td>48</td>\n",
       "      <td>B</td>\n",
       "    </tr>\n",
       "    <tr>\n",
       "      <th>4</th>\n",
       "      <td>166377</td>\n",
       "      <td>9</td>\n",
       "      <td>out</td>\n",
       "      <td>False</td>\n",
       "      <td>1818</td>\n",
       "      <td>B</td>\n",
       "    </tr>\n",
       "  </tbody>\n",
       "</table>\n",
       "</div>"
      ],
      "text/plain": [
       "   user_id  month direction  internal  call_minutes tariff_plan\n",
       "0   166377      8        in     False            43           B\n",
       "1   166377      8       out     False          1337           B\n",
       "2   166377      8       out      True             8           B\n",
       "3   166377      9        in     False            48           B\n",
       "4   166377      9       out     False          1818           B"
      ]
     },
     "execution_count": 58,
     "metadata": {},
     "output_type": "execute_result"
    }
   ],
   "source": [
    "active_users_tariffs_groupby.head()"
   ]
  },
  {
   "cell_type": "code",
   "execution_count": 59,
   "metadata": {},
   "outputs": [],
   "source": [
    "def add_tariff_columns(df):\n",
    "    '''\n",
    "    Функция создаёт в датафрейме столбцы и заполняет их в соответствие со значением в колонке 'tariff_plan'\n",
    "    \n",
    "    '''\n",
    "        \n",
    "    price_costs = {'A': 4000, 'B': 2000, 'C': 1000}\n",
    "    free_minutes_costs = {'A': 2000, 'B': 500, 'C': 0}\n",
    "    over_limit_costs = {'A': 0.1, 'B': 0.15, 'C': 0.30}\n",
    "    non_internal_costs = {'A': 0.3, 'B': 0.5, 'C': 0.7}\n",
    "    \n",
    "    active_users_tariffs_groupby['price'] = active_users_tariffs_groupby['tariff_plan'].apply(lambda x: price_costs[x])\n",
    "    active_users_tariffs_groupby['free_minutes'] = active_users_tariffs_groupby['tariff_plan'].apply(lambda x: free_minutes_costs[x])\n",
    "    active_users_tariffs_groupby['over_limit'] = active_users_tariffs_groupby['tariff_plan'].apply(lambda x: over_limit_costs[x])\n",
    "    active_users_tariffs_groupby['non_internal'] = active_users_tariffs_groupby['tariff_plan'].apply(lambda x: non_internal_costs[x])\n",
    "    \n",
    "    \n",
    "    return df\n",
    "active_users_groupby_costs = add_tariff_columns(active_users_tariffs_groupby)"
   ]
  },
  {
   "cell_type": "code",
   "execution_count": 60,
   "metadata": {},
   "outputs": [
    {
     "data": {
      "text/html": [
       "<div>\n",
       "<style scoped>\n",
       "    .dataframe tbody tr th:only-of-type {\n",
       "        vertical-align: middle;\n",
       "    }\n",
       "\n",
       "    .dataframe tbody tr th {\n",
       "        vertical-align: top;\n",
       "    }\n",
       "\n",
       "    .dataframe thead th {\n",
       "        text-align: right;\n",
       "    }\n",
       "</style>\n",
       "<table border=\"1\" class=\"dataframe\">\n",
       "  <thead>\n",
       "    <tr style=\"text-align: right;\">\n",
       "      <th></th>\n",
       "      <th>user_id</th>\n",
       "      <th>month</th>\n",
       "      <th>direction</th>\n",
       "      <th>internal</th>\n",
       "      <th>call_minutes</th>\n",
       "      <th>tariff_plan</th>\n",
       "      <th>price</th>\n",
       "      <th>free_minutes</th>\n",
       "      <th>over_limit</th>\n",
       "      <th>non_internal</th>\n",
       "    </tr>\n",
       "  </thead>\n",
       "  <tbody>\n",
       "    <tr>\n",
       "      <th>0</th>\n",
       "      <td>166377</td>\n",
       "      <td>8</td>\n",
       "      <td>in</td>\n",
       "      <td>False</td>\n",
       "      <td>43</td>\n",
       "      <td>B</td>\n",
       "      <td>2000</td>\n",
       "      <td>500</td>\n",
       "      <td>0.15</td>\n",
       "      <td>0.5</td>\n",
       "    </tr>\n",
       "    <tr>\n",
       "      <th>1</th>\n",
       "      <td>166377</td>\n",
       "      <td>8</td>\n",
       "      <td>out</td>\n",
       "      <td>False</td>\n",
       "      <td>1337</td>\n",
       "      <td>B</td>\n",
       "      <td>2000</td>\n",
       "      <td>500</td>\n",
       "      <td>0.15</td>\n",
       "      <td>0.5</td>\n",
       "    </tr>\n",
       "    <tr>\n",
       "      <th>2</th>\n",
       "      <td>166377</td>\n",
       "      <td>8</td>\n",
       "      <td>out</td>\n",
       "      <td>True</td>\n",
       "      <td>8</td>\n",
       "      <td>B</td>\n",
       "      <td>2000</td>\n",
       "      <td>500</td>\n",
       "      <td>0.15</td>\n",
       "      <td>0.5</td>\n",
       "    </tr>\n",
       "    <tr>\n",
       "      <th>3</th>\n",
       "      <td>166377</td>\n",
       "      <td>9</td>\n",
       "      <td>in</td>\n",
       "      <td>False</td>\n",
       "      <td>48</td>\n",
       "      <td>B</td>\n",
       "      <td>2000</td>\n",
       "      <td>500</td>\n",
       "      <td>0.15</td>\n",
       "      <td>0.5</td>\n",
       "    </tr>\n",
       "    <tr>\n",
       "      <th>4</th>\n",
       "      <td>166377</td>\n",
       "      <td>9</td>\n",
       "      <td>out</td>\n",
       "      <td>False</td>\n",
       "      <td>1818</td>\n",
       "      <td>B</td>\n",
       "      <td>2000</td>\n",
       "      <td>500</td>\n",
       "      <td>0.15</td>\n",
       "      <td>0.5</td>\n",
       "    </tr>\n",
       "  </tbody>\n",
       "</table>\n",
       "</div>"
      ],
      "text/plain": [
       "   user_id  month direction  internal  call_minutes tariff_plan  price  \\\n",
       "0   166377      8        in     False            43           B   2000   \n",
       "1   166377      8       out     False          1337           B   2000   \n",
       "2   166377      8       out      True             8           B   2000   \n",
       "3   166377      9        in     False            48           B   2000   \n",
       "4   166377      9       out     False          1818           B   2000   \n",
       "\n",
       "   free_minutes  over_limit  non_internal  \n",
       "0           500        0.15           0.5  \n",
       "1           500        0.15           0.5  \n",
       "2           500        0.15           0.5  \n",
       "3           500        0.15           0.5  \n",
       "4           500        0.15           0.5  "
      ]
     },
     "execution_count": 60,
     "metadata": {},
     "output_type": "execute_result"
    }
   ],
   "source": [
    "active_users_groupby_costs.head()"
   ]
  },
  {
   "cell_type": "code",
   "execution_count": 61,
   "metadata": {},
   "outputs": [],
   "source": [
    "# звонки исходящие не внутренние\n",
    "outgoing_non_internal = ((active_users_groupby_costs['internal']==False) & \n",
    "                              (active_users_groupby_costs['direction']=='out'))"
   ]
  },
  {
   "cell_type": "code",
   "execution_count": 62,
   "metadata": {},
   "outputs": [],
   "source": [
    "active_users_groupby_costs.loc[outgoing_non_internal, 'income_no_int'] = (\n",
    "    active_users_groupby_costs['call_minutes'] * active_users_groupby_costs['non_internal']\n",
    ")"
   ]
  },
  {
   "cell_type": "code",
   "execution_count": 63,
   "metadata": {},
   "outputs": [],
   "source": [
    "# заменяем пропуски нулями\n",
    "active_users_groupby_costs['income_no_int'] = active_users_groupby_costs['income_no_int'].fillna(0)"
   ]
  },
  {
   "cell_type": "code",
   "execution_count": 64,
   "metadata": {},
   "outputs": [
    {
     "data": {
      "text/html": [
       "<div>\n",
       "<style scoped>\n",
       "    .dataframe tbody tr th:only-of-type {\n",
       "        vertical-align: middle;\n",
       "    }\n",
       "\n",
       "    .dataframe tbody tr th {\n",
       "        vertical-align: top;\n",
       "    }\n",
       "\n",
       "    .dataframe thead th {\n",
       "        text-align: right;\n",
       "    }\n",
       "</style>\n",
       "<table border=\"1\" class=\"dataframe\">\n",
       "  <thead>\n",
       "    <tr style=\"text-align: right;\">\n",
       "      <th></th>\n",
       "      <th>user_id</th>\n",
       "      <th>month</th>\n",
       "      <th>direction</th>\n",
       "      <th>internal</th>\n",
       "      <th>call_minutes</th>\n",
       "      <th>tariff_plan</th>\n",
       "      <th>price</th>\n",
       "      <th>free_minutes</th>\n",
       "      <th>over_limit</th>\n",
       "      <th>non_internal</th>\n",
       "      <th>income_no_int</th>\n",
       "    </tr>\n",
       "  </thead>\n",
       "  <tbody>\n",
       "    <tr>\n",
       "      <th>0</th>\n",
       "      <td>166377</td>\n",
       "      <td>8</td>\n",
       "      <td>in</td>\n",
       "      <td>False</td>\n",
       "      <td>43</td>\n",
       "      <td>B</td>\n",
       "      <td>2000</td>\n",
       "      <td>500</td>\n",
       "      <td>0.15</td>\n",
       "      <td>0.5</td>\n",
       "      <td>0.0</td>\n",
       "    </tr>\n",
       "    <tr>\n",
       "      <th>1</th>\n",
       "      <td>166377</td>\n",
       "      <td>8</td>\n",
       "      <td>out</td>\n",
       "      <td>False</td>\n",
       "      <td>1337</td>\n",
       "      <td>B</td>\n",
       "      <td>2000</td>\n",
       "      <td>500</td>\n",
       "      <td>0.15</td>\n",
       "      <td>0.5</td>\n",
       "      <td>668.5</td>\n",
       "    </tr>\n",
       "    <tr>\n",
       "      <th>2</th>\n",
       "      <td>166377</td>\n",
       "      <td>8</td>\n",
       "      <td>out</td>\n",
       "      <td>True</td>\n",
       "      <td>8</td>\n",
       "      <td>B</td>\n",
       "      <td>2000</td>\n",
       "      <td>500</td>\n",
       "      <td>0.15</td>\n",
       "      <td>0.5</td>\n",
       "      <td>0.0</td>\n",
       "    </tr>\n",
       "    <tr>\n",
       "      <th>3</th>\n",
       "      <td>166377</td>\n",
       "      <td>9</td>\n",
       "      <td>in</td>\n",
       "      <td>False</td>\n",
       "      <td>48</td>\n",
       "      <td>B</td>\n",
       "      <td>2000</td>\n",
       "      <td>500</td>\n",
       "      <td>0.15</td>\n",
       "      <td>0.5</td>\n",
       "      <td>0.0</td>\n",
       "    </tr>\n",
       "    <tr>\n",
       "      <th>4</th>\n",
       "      <td>166377</td>\n",
       "      <td>9</td>\n",
       "      <td>out</td>\n",
       "      <td>False</td>\n",
       "      <td>1818</td>\n",
       "      <td>B</td>\n",
       "      <td>2000</td>\n",
       "      <td>500</td>\n",
       "      <td>0.15</td>\n",
       "      <td>0.5</td>\n",
       "      <td>909.0</td>\n",
       "    </tr>\n",
       "  </tbody>\n",
       "</table>\n",
       "</div>"
      ],
      "text/plain": [
       "   user_id  month direction  internal  call_minutes tariff_plan  price  \\\n",
       "0   166377      8        in     False            43           B   2000   \n",
       "1   166377      8       out     False          1337           B   2000   \n",
       "2   166377      8       out      True             8           B   2000   \n",
       "3   166377      9        in     False            48           B   2000   \n",
       "4   166377      9       out     False          1818           B   2000   \n",
       "\n",
       "   free_minutes  over_limit  non_internal  income_no_int  \n",
       "0           500        0.15           0.5            0.0  \n",
       "1           500        0.15           0.5          668.5  \n",
       "2           500        0.15           0.5            0.0  \n",
       "3           500        0.15           0.5            0.0  \n",
       "4           500        0.15           0.5          909.0  "
      ]
     },
     "execution_count": 64,
     "metadata": {},
     "output_type": "execute_result"
    }
   ],
   "source": [
    "active_users_groupby_costs.head()"
   ]
  },
  {
   "cell_type": "code",
   "execution_count": 65,
   "metadata": {},
   "outputs": [],
   "source": [
    "# звонки исходящие внутренние\n",
    "find_internal_over_limit = ((active_users_groupby_costs['direction']=='out') & \n",
    "                            (active_users_groupby_costs['internal']==True) & \n",
    "                            (active_users_groupby_costs['call_minutes']>active_users_groupby_costs['free_minutes']))   "
   ]
  },
  {
   "cell_type": "code",
   "execution_count": 66,
   "metadata": {},
   "outputs": [],
   "source": [
    "active_users_groupby_costs.loc[find_internal_over_limit, 'income_int'] = (\n",
    "    (active_users_groupby_costs['call_minutes'] - active_users_groupby_costs['free_minutes']) *\\\n",
    "    active_users_groupby_costs['over_limit'])"
   ]
  },
  {
   "cell_type": "code",
   "execution_count": 67,
   "metadata": {},
   "outputs": [],
   "source": [
    "# Сохраним номера кол центров, которые платят сверх тарифа.\n",
    "filtered_df = active_users_groupby_costs.query(\"direction == 'out' and internal == True and call_minutes > free_minutes\")\n",
    "user_ids_list = filtered_df['user_id'].tolist()"
   ]
  },
  {
   "cell_type": "code",
   "execution_count": 68,
   "metadata": {},
   "outputs": [],
   "source": [
    "# заменяем пропуски нулями\n",
    "active_users_groupby_costs['income_int'] = active_users_groupby_costs['income_int'].fillna(0)"
   ]
  },
  {
   "cell_type": "code",
   "execution_count": 69,
   "metadata": {},
   "outputs": [
    {
     "data": {
      "text/html": [
       "<div>\n",
       "<style scoped>\n",
       "    .dataframe tbody tr th:only-of-type {\n",
       "        vertical-align: middle;\n",
       "    }\n",
       "\n",
       "    .dataframe tbody tr th {\n",
       "        vertical-align: top;\n",
       "    }\n",
       "\n",
       "    .dataframe thead th {\n",
       "        text-align: right;\n",
       "    }\n",
       "</style>\n",
       "<table border=\"1\" class=\"dataframe\">\n",
       "  <thead>\n",
       "    <tr style=\"text-align: right;\">\n",
       "      <th></th>\n",
       "      <th>user_id</th>\n",
       "      <th>month</th>\n",
       "      <th>direction</th>\n",
       "      <th>internal</th>\n",
       "      <th>call_minutes</th>\n",
       "      <th>tariff_plan</th>\n",
       "      <th>price</th>\n",
       "      <th>free_minutes</th>\n",
       "      <th>over_limit</th>\n",
       "      <th>non_internal</th>\n",
       "      <th>income_no_int</th>\n",
       "      <th>income_int</th>\n",
       "    </tr>\n",
       "  </thead>\n",
       "  <tbody>\n",
       "    <tr>\n",
       "      <th>0</th>\n",
       "      <td>166377</td>\n",
       "      <td>8</td>\n",
       "      <td>in</td>\n",
       "      <td>False</td>\n",
       "      <td>43</td>\n",
       "      <td>B</td>\n",
       "      <td>2000</td>\n",
       "      <td>500</td>\n",
       "      <td>0.15</td>\n",
       "      <td>0.5</td>\n",
       "      <td>0.0</td>\n",
       "      <td>0.0</td>\n",
       "    </tr>\n",
       "    <tr>\n",
       "      <th>1</th>\n",
       "      <td>166377</td>\n",
       "      <td>8</td>\n",
       "      <td>out</td>\n",
       "      <td>False</td>\n",
       "      <td>1337</td>\n",
       "      <td>B</td>\n",
       "      <td>2000</td>\n",
       "      <td>500</td>\n",
       "      <td>0.15</td>\n",
       "      <td>0.5</td>\n",
       "      <td>668.5</td>\n",
       "      <td>0.0</td>\n",
       "    </tr>\n",
       "    <tr>\n",
       "      <th>2</th>\n",
       "      <td>166377</td>\n",
       "      <td>8</td>\n",
       "      <td>out</td>\n",
       "      <td>True</td>\n",
       "      <td>8</td>\n",
       "      <td>B</td>\n",
       "      <td>2000</td>\n",
       "      <td>500</td>\n",
       "      <td>0.15</td>\n",
       "      <td>0.5</td>\n",
       "      <td>0.0</td>\n",
       "      <td>0.0</td>\n",
       "    </tr>\n",
       "    <tr>\n",
       "      <th>3</th>\n",
       "      <td>166377</td>\n",
       "      <td>9</td>\n",
       "      <td>in</td>\n",
       "      <td>False</td>\n",
       "      <td>48</td>\n",
       "      <td>B</td>\n",
       "      <td>2000</td>\n",
       "      <td>500</td>\n",
       "      <td>0.15</td>\n",
       "      <td>0.5</td>\n",
       "      <td>0.0</td>\n",
       "      <td>0.0</td>\n",
       "    </tr>\n",
       "    <tr>\n",
       "      <th>4</th>\n",
       "      <td>166377</td>\n",
       "      <td>9</td>\n",
       "      <td>out</td>\n",
       "      <td>False</td>\n",
       "      <td>1818</td>\n",
       "      <td>B</td>\n",
       "      <td>2000</td>\n",
       "      <td>500</td>\n",
       "      <td>0.15</td>\n",
       "      <td>0.5</td>\n",
       "      <td>909.0</td>\n",
       "      <td>0.0</td>\n",
       "    </tr>\n",
       "  </tbody>\n",
       "</table>\n",
       "</div>"
      ],
      "text/plain": [
       "   user_id  month direction  internal  call_minutes tariff_plan  price  \\\n",
       "0   166377      8        in     False            43           B   2000   \n",
       "1   166377      8       out     False          1337           B   2000   \n",
       "2   166377      8       out      True             8           B   2000   \n",
       "3   166377      9        in     False            48           B   2000   \n",
       "4   166377      9       out     False          1818           B   2000   \n",
       "\n",
       "   free_minutes  over_limit  non_internal  income_no_int  income_int  \n",
       "0           500        0.15           0.5            0.0         0.0  \n",
       "1           500        0.15           0.5          668.5         0.0  \n",
       "2           500        0.15           0.5            0.0         0.0  \n",
       "3           500        0.15           0.5            0.0         0.0  \n",
       "4           500        0.15           0.5          909.0         0.0  "
      ]
     },
     "execution_count": 69,
     "metadata": {},
     "output_type": "execute_result"
    }
   ],
   "source": [
    "active_users_groupby_costs.head()"
   ]
  },
  {
   "cell_type": "code",
   "execution_count": 70,
   "metadata": {},
   "outputs": [],
   "source": [
    "# общий доход от минут сверх лимита\n",
    "active_users_groupby_costs['total_min_income'] = (\n",
    "    active_users_groupby_costs['income_no_int'] + active_users_groupby_costs['income_int']\n",
    ")"
   ]
  },
  {
   "cell_type": "code",
   "execution_count": 71,
   "metadata": {},
   "outputs": [
    {
     "data": {
      "text/html": [
       "<div>\n",
       "<style scoped>\n",
       "    .dataframe tbody tr th:only-of-type {\n",
       "        vertical-align: middle;\n",
       "    }\n",
       "\n",
       "    .dataframe tbody tr th {\n",
       "        vertical-align: top;\n",
       "    }\n",
       "\n",
       "    .dataframe thead th {\n",
       "        text-align: right;\n",
       "    }\n",
       "</style>\n",
       "<table border=\"1\" class=\"dataframe\">\n",
       "  <thead>\n",
       "    <tr style=\"text-align: right;\">\n",
       "      <th></th>\n",
       "      <th>user_id</th>\n",
       "      <th>month</th>\n",
       "      <th>direction</th>\n",
       "      <th>internal</th>\n",
       "      <th>call_minutes</th>\n",
       "      <th>tariff_plan</th>\n",
       "      <th>price</th>\n",
       "      <th>free_minutes</th>\n",
       "      <th>over_limit</th>\n",
       "      <th>non_internal</th>\n",
       "      <th>income_no_int</th>\n",
       "      <th>income_int</th>\n",
       "      <th>total_min_income</th>\n",
       "    </tr>\n",
       "  </thead>\n",
       "  <tbody>\n",
       "    <tr>\n",
       "      <th>0</th>\n",
       "      <td>166377</td>\n",
       "      <td>8</td>\n",
       "      <td>in</td>\n",
       "      <td>False</td>\n",
       "      <td>43</td>\n",
       "      <td>B</td>\n",
       "      <td>2000</td>\n",
       "      <td>500</td>\n",
       "      <td>0.15</td>\n",
       "      <td>0.5</td>\n",
       "      <td>0.0</td>\n",
       "      <td>0.0</td>\n",
       "      <td>0.0</td>\n",
       "    </tr>\n",
       "    <tr>\n",
       "      <th>1</th>\n",
       "      <td>166377</td>\n",
       "      <td>8</td>\n",
       "      <td>out</td>\n",
       "      <td>False</td>\n",
       "      <td>1337</td>\n",
       "      <td>B</td>\n",
       "      <td>2000</td>\n",
       "      <td>500</td>\n",
       "      <td>0.15</td>\n",
       "      <td>0.5</td>\n",
       "      <td>668.5</td>\n",
       "      <td>0.0</td>\n",
       "      <td>668.5</td>\n",
       "    </tr>\n",
       "    <tr>\n",
       "      <th>2</th>\n",
       "      <td>166377</td>\n",
       "      <td>8</td>\n",
       "      <td>out</td>\n",
       "      <td>True</td>\n",
       "      <td>8</td>\n",
       "      <td>B</td>\n",
       "      <td>2000</td>\n",
       "      <td>500</td>\n",
       "      <td>0.15</td>\n",
       "      <td>0.5</td>\n",
       "      <td>0.0</td>\n",
       "      <td>0.0</td>\n",
       "      <td>0.0</td>\n",
       "    </tr>\n",
       "    <tr>\n",
       "      <th>3</th>\n",
       "      <td>166377</td>\n",
       "      <td>9</td>\n",
       "      <td>in</td>\n",
       "      <td>False</td>\n",
       "      <td>48</td>\n",
       "      <td>B</td>\n",
       "      <td>2000</td>\n",
       "      <td>500</td>\n",
       "      <td>0.15</td>\n",
       "      <td>0.5</td>\n",
       "      <td>0.0</td>\n",
       "      <td>0.0</td>\n",
       "      <td>0.0</td>\n",
       "    </tr>\n",
       "    <tr>\n",
       "      <th>4</th>\n",
       "      <td>166377</td>\n",
       "      <td>9</td>\n",
       "      <td>out</td>\n",
       "      <td>False</td>\n",
       "      <td>1818</td>\n",
       "      <td>B</td>\n",
       "      <td>2000</td>\n",
       "      <td>500</td>\n",
       "      <td>0.15</td>\n",
       "      <td>0.5</td>\n",
       "      <td>909.0</td>\n",
       "      <td>0.0</td>\n",
       "      <td>909.0</td>\n",
       "    </tr>\n",
       "  </tbody>\n",
       "</table>\n",
       "</div>"
      ],
      "text/plain": [
       "   user_id  month direction  internal  call_minutes tariff_plan  price  \\\n",
       "0   166377      8        in     False            43           B   2000   \n",
       "1   166377      8       out     False          1337           B   2000   \n",
       "2   166377      8       out      True             8           B   2000   \n",
       "3   166377      9        in     False            48           B   2000   \n",
       "4   166377      9       out     False          1818           B   2000   \n",
       "\n",
       "   free_minutes  over_limit  non_internal  income_no_int  income_int  \\\n",
       "0           500        0.15           0.5            0.0         0.0   \n",
       "1           500        0.15           0.5          668.5         0.0   \n",
       "2           500        0.15           0.5            0.0         0.0   \n",
       "3           500        0.15           0.5            0.0         0.0   \n",
       "4           500        0.15           0.5          909.0         0.0   \n",
       "\n",
       "   total_min_income  \n",
       "0               0.0  \n",
       "1             668.5  \n",
       "2               0.0  \n",
       "3               0.0  \n",
       "4             909.0  "
      ]
     },
     "execution_count": 71,
     "metadata": {},
     "output_type": "execute_result"
    }
   ],
   "source": [
    "active_users_groupby_costs.head()"
   ]
  },
  {
   "cell_type": "code",
   "execution_count": 72,
   "metadata": {},
   "outputs": [
    {
     "name": "stdout",
     "output_type": "stream",
     "text": [
      "33\n"
     ]
    }
   ],
   "source": [
    "filtered_users_1 = active_users_groupby_costs.loc[(active_users_groupby_costs['month'] == 11) & \n",
    "                                               (active_users_groupby_costs['direction'] == 'out') & \n",
    "                                               (active_users_groupby_costs['internal'] == True) & \n",
    "                                               (active_users_groupby_costs['call_minutes'] > active_users_groupby_costs['free_minutes'])]\n",
    "\n",
    "unique_users_count = filtered_users_1['user_id'].nunique()\n",
    "print(unique_users_count)\n"
   ]
  },
  {
   "cell_type": "markdown",
   "metadata": {},
   "source": [
    "Всего 33 активных клиента, у кого имеется переплата по исходящим внутренним звонкам. "
   ]
  },
  {
   "cell_type": "code",
   "execution_count": 73,
   "metadata": {},
   "outputs": [
    {
     "data": {
      "text/plain": [
       "257"
      ]
     },
     "execution_count": 73,
     "metadata": {},
     "output_type": "execute_result"
    }
   ],
   "source": [
    "active_users_filter.shape[0]"
   ]
  },
  {
   "cell_type": "markdown",
   "metadata": {},
   "source": [
    "Распределение пользователей имеющих переплату по месяцам"
   ]
  },
  {
   "cell_type": "code",
   "execution_count": 74,
   "metadata": {},
   "outputs": [
    {
     "data": {
      "image/png": "[encoded data removed]",
      "text/plain": [
       "<Figure size 1008x504 with 1 Axes>"
      ]
     },
     "metadata": {
      "needs_background": "light"
     },
     "output_type": "display_data"
    }
   ],
   "source": [
    "fig, ax = plt.subplots(figsize=(14,7))\n",
    "fig.suptitle('Точечный график переплат от клиентов по месяцам',\n",
    "             fontsize=15, \n",
    "             style=\"oblique\")\n",
    "\n",
    "ax = sns.scatterplot(x=\"user_id\",\n",
    "                     y=\"income_int\", \n",
    "                     data=active_users_groupby_costs,\n",
    "                     hue='month',\n",
    "                     alpha=.5,\n",
    "                     s=200)\n",
    "\n",
    "plt.xticks(rotation=45)\n",
    "\n",
    "ax.set_ylabel('Сумма переплаты')\n",
    "ax.set_xlabel('Клиенты');"
   ]
  },
  {
   "cell_type": "markdown",
   "metadata": {},
   "source": [
    "Переплаты мы можем выделить только на тарифе исходящий-внутренний. Судя по графику переплаты не большие, максимум 140. При этом в ноябре особых переплат не видно."
   ]
  },
  {
   "cell_type": "markdown",
   "metadata": {},
   "source": [
    "#### Посчитать текущую выручку"
   ]
  },
  {
   "cell_type": "markdown",
   "metadata": {},
   "source": [
    "Посчитать затраты за операторов для кол центров. "
   ]
  },
  {
   "cell_type": "code",
   "execution_count": 75,
   "metadata": {},
   "outputs": [],
   "source": [
    "# Выполним группировку по операторам и месяцам, найдём кол-во уникальных операторов в месяц для кол центров\n",
    "operator_unique = active_users.groupby(['user_id', 'month'])\\\n",
    "    .agg({'operator_id':'nunique'})\\\n",
    "    .rename(columns={'operator_id':'number_of_operators'})\\\n",
    "    .reset_index()"
   ]
  },
  {
   "cell_type": "code",
   "execution_count": 76,
   "metadata": {},
   "outputs": [
    {
     "data": {
      "text/html": [
       "<div>\n",
       "<style scoped>\n",
       "    .dataframe tbody tr th:only-of-type {\n",
       "        vertical-align: middle;\n",
       "    }\n",
       "\n",
       "    .dataframe tbody tr th {\n",
       "        vertical-align: top;\n",
       "    }\n",
       "\n",
       "    .dataframe thead th {\n",
       "        text-align: right;\n",
       "    }\n",
       "</style>\n",
       "<table border=\"1\" class=\"dataframe\">\n",
       "  <thead>\n",
       "    <tr style=\"text-align: right;\">\n",
       "      <th></th>\n",
       "      <th>user_id</th>\n",
       "      <th>month</th>\n",
       "      <th>number_of_operators</th>\n",
       "    </tr>\n",
       "  </thead>\n",
       "  <tbody>\n",
       "    <tr>\n",
       "      <th>0</th>\n",
       "      <td>166377</td>\n",
       "      <td>8</td>\n",
       "      <td>5</td>\n",
       "    </tr>\n",
       "    <tr>\n",
       "      <th>1</th>\n",
       "      <td>166377</td>\n",
       "      <td>9</td>\n",
       "      <td>4</td>\n",
       "    </tr>\n",
       "    <tr>\n",
       "      <th>2</th>\n",
       "      <td>166377</td>\n",
       "      <td>10</td>\n",
       "      <td>5</td>\n",
       "    </tr>\n",
       "    <tr>\n",
       "      <th>3</th>\n",
       "      <td>166377</td>\n",
       "      <td>11</td>\n",
       "      <td>4</td>\n",
       "    </tr>\n",
       "    <tr>\n",
       "      <th>4</th>\n",
       "      <td>166391</td>\n",
       "      <td>8</td>\n",
       "      <td>2</td>\n",
       "    </tr>\n",
       "  </tbody>\n",
       "</table>\n",
       "</div>"
      ],
      "text/plain": [
       "   user_id  month  number_of_operators\n",
       "0   166377      8                    5\n",
       "1   166377      9                    4\n",
       "2   166377     10                    5\n",
       "3   166377     11                    4\n",
       "4   166391      8                    2"
      ]
     },
     "execution_count": 76,
     "metadata": {},
     "output_type": "execute_result"
    }
   ],
   "source": [
    "operator_unique.head()"
   ]
  },
  {
   "cell_type": "code",
   "execution_count": 77,
   "metadata": {},
   "outputs": [],
   "source": [
    "# Присоединим тариф\n",
    "operator_unique_tariffs = operator_unique.merge(clients[['user_id', 'tariff_plan']], \n",
    "                                                          how='left', \n",
    "                                                          on='user_id')"
   ]
  },
  {
   "cell_type": "code",
   "execution_count": 78,
   "metadata": {},
   "outputs": [
    {
     "data": {
      "text/html": [
       "<div>\n",
       "<style scoped>\n",
       "    .dataframe tbody tr th:only-of-type {\n",
       "        vertical-align: middle;\n",
       "    }\n",
       "\n",
       "    .dataframe tbody tr th {\n",
       "        vertical-align: top;\n",
       "    }\n",
       "\n",
       "    .dataframe thead th {\n",
       "        text-align: right;\n",
       "    }\n",
       "</style>\n",
       "<table border=\"1\" class=\"dataframe\">\n",
       "  <thead>\n",
       "    <tr style=\"text-align: right;\">\n",
       "      <th></th>\n",
       "      <th>user_id</th>\n",
       "      <th>month</th>\n",
       "      <th>number_of_operators</th>\n",
       "      <th>tariff_plan</th>\n",
       "    </tr>\n",
       "  </thead>\n",
       "  <tbody>\n",
       "    <tr>\n",
       "      <th>0</th>\n",
       "      <td>166377</td>\n",
       "      <td>8</td>\n",
       "      <td>5</td>\n",
       "      <td>B</td>\n",
       "    </tr>\n",
       "    <tr>\n",
       "      <th>1</th>\n",
       "      <td>166377</td>\n",
       "      <td>9</td>\n",
       "      <td>4</td>\n",
       "      <td>B</td>\n",
       "    </tr>\n",
       "    <tr>\n",
       "      <th>2</th>\n",
       "      <td>166377</td>\n",
       "      <td>10</td>\n",
       "      <td>5</td>\n",
       "      <td>B</td>\n",
       "    </tr>\n",
       "    <tr>\n",
       "      <th>3</th>\n",
       "      <td>166377</td>\n",
       "      <td>11</td>\n",
       "      <td>4</td>\n",
       "      <td>B</td>\n",
       "    </tr>\n",
       "    <tr>\n",
       "      <th>4</th>\n",
       "      <td>166391</td>\n",
       "      <td>8</td>\n",
       "      <td>2</td>\n",
       "      <td>C</td>\n",
       "    </tr>\n",
       "  </tbody>\n",
       "</table>\n",
       "</div>"
      ],
      "text/plain": [
       "   user_id  month  number_of_operators tariff_plan\n",
       "0   166377      8                    5           B\n",
       "1   166377      9                    4           B\n",
       "2   166377     10                    5           B\n",
       "3   166377     11                    4           B\n",
       "4   166391      8                    2           C"
      ]
     },
     "execution_count": 78,
     "metadata": {},
     "output_type": "execute_result"
    }
   ],
   "source": [
    "operator_unique_tariffs.head()"
   ]
  },
  {
   "cell_type": "code",
   "execution_count": 79,
   "metadata": {},
   "outputs": [],
   "source": [
    "def assign_price_operator(row):\n",
    "    \n",
    "    '''\n",
    "    Функция создаёт в датафрейме столбц, в который значения записываются согласно категориям из 'tariff_plan'\n",
    "    \n",
    "    '''\n",
    "    if row['tariff_plan'] == 'A':\n",
    "        return 50\n",
    "    elif row['tariff_plan'] == 'B':\n",
    "        return 150\n",
    "    elif row['tariff_plan'] == 'C':\n",
    "        return 300\n",
    "\n",
    "operator_unique_tariffs['price_operator'] = operator_unique_tariffs.apply(assign_price_operator, axis=1)"
   ]
  },
  {
   "cell_type": "code",
   "execution_count": 80,
   "metadata": {},
   "outputs": [
    {
     "data": {
      "text/html": [
       "<div>\n",
       "<style scoped>\n",
       "    .dataframe tbody tr th:only-of-type {\n",
       "        vertical-align: middle;\n",
       "    }\n",
       "\n",
       "    .dataframe tbody tr th {\n",
       "        vertical-align: top;\n",
       "    }\n",
       "\n",
       "    .dataframe thead th {\n",
       "        text-align: right;\n",
       "    }\n",
       "</style>\n",
       "<table border=\"1\" class=\"dataframe\">\n",
       "  <thead>\n",
       "    <tr style=\"text-align: right;\">\n",
       "      <th></th>\n",
       "      <th>user_id</th>\n",
       "      <th>month</th>\n",
       "      <th>number_of_operators</th>\n",
       "      <th>tariff_plan</th>\n",
       "      <th>price_operator</th>\n",
       "    </tr>\n",
       "  </thead>\n",
       "  <tbody>\n",
       "    <tr>\n",
       "      <th>0</th>\n",
       "      <td>166377</td>\n",
       "      <td>8</td>\n",
       "      <td>5</td>\n",
       "      <td>B</td>\n",
       "      <td>150</td>\n",
       "    </tr>\n",
       "    <tr>\n",
       "      <th>1</th>\n",
       "      <td>166377</td>\n",
       "      <td>9</td>\n",
       "      <td>4</td>\n",
       "      <td>B</td>\n",
       "      <td>150</td>\n",
       "    </tr>\n",
       "    <tr>\n",
       "      <th>2</th>\n",
       "      <td>166377</td>\n",
       "      <td>10</td>\n",
       "      <td>5</td>\n",
       "      <td>B</td>\n",
       "      <td>150</td>\n",
       "    </tr>\n",
       "    <tr>\n",
       "      <th>3</th>\n",
       "      <td>166377</td>\n",
       "      <td>11</td>\n",
       "      <td>4</td>\n",
       "      <td>B</td>\n",
       "      <td>150</td>\n",
       "    </tr>\n",
       "    <tr>\n",
       "      <th>4</th>\n",
       "      <td>166391</td>\n",
       "      <td>8</td>\n",
       "      <td>2</td>\n",
       "      <td>C</td>\n",
       "      <td>300</td>\n",
       "    </tr>\n",
       "  </tbody>\n",
       "</table>\n",
       "</div>"
      ],
      "text/plain": [
       "   user_id  month  number_of_operators tariff_plan  price_operator\n",
       "0   166377      8                    5           B             150\n",
       "1   166377      9                    4           B             150\n",
       "2   166377     10                    5           B             150\n",
       "3   166377     11                    4           B             150\n",
       "4   166391      8                    2           C             300"
      ]
     },
     "execution_count": 80,
     "metadata": {},
     "output_type": "execute_result"
    }
   ],
   "source": [
    "operator_unique_tariffs.head()"
   ]
  },
  {
   "cell_type": "markdown",
   "metadata": {},
   "source": [
    "Подсчитаем доходы от тарифа на операторов для кол центров"
   ]
  },
  {
   "cell_type": "code",
   "execution_count": 81,
   "metadata": {},
   "outputs": [],
   "source": [
    "operator_unique_tariffs ['income_oper'] = (\n",
    "    operator_unique_tariffs ['number_of_operators'] * operator_unique_tariffs ['price_operator']\n",
    ")"
   ]
  },
  {
   "cell_type": "code",
   "execution_count": 82,
   "metadata": {},
   "outputs": [
    {
     "data": {
      "text/html": [
       "<div>\n",
       "<style scoped>\n",
       "    .dataframe tbody tr th:only-of-type {\n",
       "        vertical-align: middle;\n",
       "    }\n",
       "\n",
       "    .dataframe tbody tr th {\n",
       "        vertical-align: top;\n",
       "    }\n",
       "\n",
       "    .dataframe thead th {\n",
       "        text-align: right;\n",
       "    }\n",
       "</style>\n",
       "<table border=\"1\" class=\"dataframe\">\n",
       "  <thead>\n",
       "    <tr style=\"text-align: right;\">\n",
       "      <th></th>\n",
       "      <th>user_id</th>\n",
       "      <th>month</th>\n",
       "      <th>number_of_operators</th>\n",
       "      <th>tariff_plan</th>\n",
       "      <th>price_operator</th>\n",
       "      <th>income_oper</th>\n",
       "    </tr>\n",
       "  </thead>\n",
       "  <tbody>\n",
       "    <tr>\n",
       "      <th>0</th>\n",
       "      <td>166377</td>\n",
       "      <td>8</td>\n",
       "      <td>5</td>\n",
       "      <td>B</td>\n",
       "      <td>150</td>\n",
       "      <td>750</td>\n",
       "    </tr>\n",
       "    <tr>\n",
       "      <th>1</th>\n",
       "      <td>166377</td>\n",
       "      <td>9</td>\n",
       "      <td>4</td>\n",
       "      <td>B</td>\n",
       "      <td>150</td>\n",
       "      <td>600</td>\n",
       "    </tr>\n",
       "    <tr>\n",
       "      <th>2</th>\n",
       "      <td>166377</td>\n",
       "      <td>10</td>\n",
       "      <td>5</td>\n",
       "      <td>B</td>\n",
       "      <td>150</td>\n",
       "      <td>750</td>\n",
       "    </tr>\n",
       "    <tr>\n",
       "      <th>3</th>\n",
       "      <td>166377</td>\n",
       "      <td>11</td>\n",
       "      <td>4</td>\n",
       "      <td>B</td>\n",
       "      <td>150</td>\n",
       "      <td>600</td>\n",
       "    </tr>\n",
       "    <tr>\n",
       "      <th>4</th>\n",
       "      <td>166391</td>\n",
       "      <td>8</td>\n",
       "      <td>2</td>\n",
       "      <td>C</td>\n",
       "      <td>300</td>\n",
       "      <td>600</td>\n",
       "    </tr>\n",
       "  </tbody>\n",
       "</table>\n",
       "</div>"
      ],
      "text/plain": [
       "   user_id  month  number_of_operators tariff_plan  price_operator  \\\n",
       "0   166377      8                    5           B             150   \n",
       "1   166377      9                    4           B             150   \n",
       "2   166377     10                    5           B             150   \n",
       "3   166377     11                    4           B             150   \n",
       "4   166391      8                    2           C             300   \n",
       "\n",
       "   income_oper  \n",
       "0          750  \n",
       "1          600  \n",
       "2          750  \n",
       "3          600  \n",
       "4          600  "
      ]
     },
     "execution_count": 82,
     "metadata": {},
     "output_type": "execute_result"
    }
   ],
   "source": [
    "operator_unique_tariffs.head()"
   ]
  },
  {
   "cell_type": "markdown",
   "metadata": {},
   "source": [
    "Найдём доход от всех операторов для кол центров"
   ]
  },
  {
   "cell_type": "code",
   "execution_count": 83,
   "metadata": {},
   "outputs": [],
   "source": [
    "users_groupby_preparation = active_users_groupby_costs.groupby(['user_id', 'month', 'tariff_plan', 'price'])\\\n",
    "    .agg({'total_min_income':'sum'})\\\n",
    "    .reset_index()"
   ]
  },
  {
   "cell_type": "code",
   "execution_count": 84,
   "metadata": {},
   "outputs": [
    {
     "data": {
      "text/html": [
       "<div>\n",
       "<style scoped>\n",
       "    .dataframe tbody tr th:only-of-type {\n",
       "        vertical-align: middle;\n",
       "    }\n",
       "\n",
       "    .dataframe tbody tr th {\n",
       "        vertical-align: top;\n",
       "    }\n",
       "\n",
       "    .dataframe thead th {\n",
       "        text-align: right;\n",
       "    }\n",
       "</style>\n",
       "<table border=\"1\" class=\"dataframe\">\n",
       "  <thead>\n",
       "    <tr style=\"text-align: right;\">\n",
       "      <th></th>\n",
       "      <th>user_id</th>\n",
       "      <th>month</th>\n",
       "      <th>tariff_plan</th>\n",
       "      <th>price</th>\n",
       "      <th>total_min_income</th>\n",
       "    </tr>\n",
       "  </thead>\n",
       "  <tbody>\n",
       "    <tr>\n",
       "      <th>0</th>\n",
       "      <td>166377</td>\n",
       "      <td>8</td>\n",
       "      <td>B</td>\n",
       "      <td>2000</td>\n",
       "      <td>668.5</td>\n",
       "    </tr>\n",
       "    <tr>\n",
       "      <th>1</th>\n",
       "      <td>166377</td>\n",
       "      <td>9</td>\n",
       "      <td>B</td>\n",
       "      <td>2000</td>\n",
       "      <td>909.0</td>\n",
       "    </tr>\n",
       "    <tr>\n",
       "      <th>2</th>\n",
       "      <td>166377</td>\n",
       "      <td>10</td>\n",
       "      <td>B</td>\n",
       "      <td>2000</td>\n",
       "      <td>852.0</td>\n",
       "    </tr>\n",
       "    <tr>\n",
       "      <th>3</th>\n",
       "      <td>166377</td>\n",
       "      <td>11</td>\n",
       "      <td>B</td>\n",
       "      <td>2000</td>\n",
       "      <td>816.5</td>\n",
       "    </tr>\n",
       "    <tr>\n",
       "      <th>4</th>\n",
       "      <td>166391</td>\n",
       "      <td>8</td>\n",
       "      <td>C</td>\n",
       "      <td>1000</td>\n",
       "      <td>0.3</td>\n",
       "    </tr>\n",
       "  </tbody>\n",
       "</table>\n",
       "</div>"
      ],
      "text/plain": [
       "   user_id  month tariff_plan  price  total_min_income\n",
       "0   166377      8           B   2000             668.5\n",
       "1   166377      9           B   2000             909.0\n",
       "2   166377     10           B   2000             852.0\n",
       "3   166377     11           B   2000             816.5\n",
       "4   166391      8           C   1000               0.3"
      ]
     },
     "execution_count": 84,
     "metadata": {},
     "output_type": "execute_result"
    }
   ],
   "source": [
    "users_groupby_preparation.head()"
   ]
  },
  {
   "cell_type": "code",
   "execution_count": 85,
   "metadata": {},
   "outputs": [],
   "source": [
    "user_month_tariff = (\n",
    "    pd.merge(users_groupby_preparation, operator_unique_tariffs, on=['user_id', 'month', 'tariff_plan'])\n",
    ")"
   ]
  },
  {
   "cell_type": "code",
   "execution_count": 86,
   "metadata": {},
   "outputs": [
    {
     "data": {
      "text/html": [
       "<div>\n",
       "<style scoped>\n",
       "    .dataframe tbody tr th:only-of-type {\n",
       "        vertical-align: middle;\n",
       "    }\n",
       "\n",
       "    .dataframe tbody tr th {\n",
       "        vertical-align: top;\n",
       "    }\n",
       "\n",
       "    .dataframe thead th {\n",
       "        text-align: right;\n",
       "    }\n",
       "</style>\n",
       "<table border=\"1\" class=\"dataframe\">\n",
       "  <thead>\n",
       "    <tr style=\"text-align: right;\">\n",
       "      <th></th>\n",
       "      <th>user_id</th>\n",
       "      <th>month</th>\n",
       "      <th>tariff_plan</th>\n",
       "      <th>price</th>\n",
       "      <th>total_min_income</th>\n",
       "      <th>number_of_operators</th>\n",
       "      <th>price_operator</th>\n",
       "      <th>income_oper</th>\n",
       "    </tr>\n",
       "  </thead>\n",
       "  <tbody>\n",
       "    <tr>\n",
       "      <th>0</th>\n",
       "      <td>166377</td>\n",
       "      <td>8</td>\n",
       "      <td>B</td>\n",
       "      <td>2000</td>\n",
       "      <td>668.5</td>\n",
       "      <td>5</td>\n",
       "      <td>150</td>\n",
       "      <td>750</td>\n",
       "    </tr>\n",
       "    <tr>\n",
       "      <th>1</th>\n",
       "      <td>166377</td>\n",
       "      <td>9</td>\n",
       "      <td>B</td>\n",
       "      <td>2000</td>\n",
       "      <td>909.0</td>\n",
       "      <td>4</td>\n",
       "      <td>150</td>\n",
       "      <td>600</td>\n",
       "    </tr>\n",
       "    <tr>\n",
       "      <th>2</th>\n",
       "      <td>166377</td>\n",
       "      <td>10</td>\n",
       "      <td>B</td>\n",
       "      <td>2000</td>\n",
       "      <td>852.0</td>\n",
       "      <td>5</td>\n",
       "      <td>150</td>\n",
       "      <td>750</td>\n",
       "    </tr>\n",
       "    <tr>\n",
       "      <th>3</th>\n",
       "      <td>166377</td>\n",
       "      <td>11</td>\n",
       "      <td>B</td>\n",
       "      <td>2000</td>\n",
       "      <td>816.5</td>\n",
       "      <td>4</td>\n",
       "      <td>150</td>\n",
       "      <td>600</td>\n",
       "    </tr>\n",
       "    <tr>\n",
       "      <th>4</th>\n",
       "      <td>166391</td>\n",
       "      <td>8</td>\n",
       "      <td>C</td>\n",
       "      <td>1000</td>\n",
       "      <td>0.3</td>\n",
       "      <td>2</td>\n",
       "      <td>300</td>\n",
       "      <td>600</td>\n",
       "    </tr>\n",
       "  </tbody>\n",
       "</table>\n",
       "</div>"
      ],
      "text/plain": [
       "   user_id  month tariff_plan  price  total_min_income  number_of_operators  \\\n",
       "0   166377      8           B   2000             668.5                    5   \n",
       "1   166377      9           B   2000             909.0                    4   \n",
       "2   166377     10           B   2000             852.0                    5   \n",
       "3   166377     11           B   2000             816.5                    4   \n",
       "4   166391      8           C   1000               0.3                    2   \n",
       "\n",
       "   price_operator  income_oper  \n",
       "0             150          750  \n",
       "1             150          600  \n",
       "2             150          750  \n",
       "3             150          600  \n",
       "4             300          600  "
      ]
     },
     "execution_count": 86,
     "metadata": {},
     "output_type": "execute_result"
    }
   ],
   "source": [
    "user_month_tariff.head()"
   ]
  },
  {
   "cell_type": "markdown",
   "metadata": {},
   "source": [
    "Удалим не нужные колонки"
   ]
  },
  {
   "cell_type": "code",
   "execution_count": 87,
   "metadata": {},
   "outputs": [],
   "source": [
    "user_month_tariff.drop(['number_of_operators' , 'price_operator'], axis=1, inplace=True)"
   ]
  },
  {
   "cell_type": "code",
   "execution_count": 88,
   "metadata": {},
   "outputs": [
    {
     "data": {
      "text/html": [
       "<div>\n",
       "<style scoped>\n",
       "    .dataframe tbody tr th:only-of-type {\n",
       "        vertical-align: middle;\n",
       "    }\n",
       "\n",
       "    .dataframe tbody tr th {\n",
       "        vertical-align: top;\n",
       "    }\n",
       "\n",
       "    .dataframe thead th {\n",
       "        text-align: right;\n",
       "    }\n",
       "</style>\n",
       "<table border=\"1\" class=\"dataframe\">\n",
       "  <thead>\n",
       "    <tr style=\"text-align: right;\">\n",
       "      <th></th>\n",
       "      <th>user_id</th>\n",
       "      <th>month</th>\n",
       "      <th>tariff_plan</th>\n",
       "      <th>price</th>\n",
       "      <th>total_min_income</th>\n",
       "      <th>income_oper</th>\n",
       "    </tr>\n",
       "  </thead>\n",
       "  <tbody>\n",
       "    <tr>\n",
       "      <th>0</th>\n",
       "      <td>166377</td>\n",
       "      <td>8</td>\n",
       "      <td>B</td>\n",
       "      <td>2000</td>\n",
       "      <td>668.5</td>\n",
       "      <td>750</td>\n",
       "    </tr>\n",
       "    <tr>\n",
       "      <th>1</th>\n",
       "      <td>166377</td>\n",
       "      <td>9</td>\n",
       "      <td>B</td>\n",
       "      <td>2000</td>\n",
       "      <td>909.0</td>\n",
       "      <td>600</td>\n",
       "    </tr>\n",
       "    <tr>\n",
       "      <th>2</th>\n",
       "      <td>166377</td>\n",
       "      <td>10</td>\n",
       "      <td>B</td>\n",
       "      <td>2000</td>\n",
       "      <td>852.0</td>\n",
       "      <td>750</td>\n",
       "    </tr>\n",
       "    <tr>\n",
       "      <th>3</th>\n",
       "      <td>166377</td>\n",
       "      <td>11</td>\n",
       "      <td>B</td>\n",
       "      <td>2000</td>\n",
       "      <td>816.5</td>\n",
       "      <td>600</td>\n",
       "    </tr>\n",
       "    <tr>\n",
       "      <th>4</th>\n",
       "      <td>166391</td>\n",
       "      <td>8</td>\n",
       "      <td>C</td>\n",
       "      <td>1000</td>\n",
       "      <td>0.3</td>\n",
       "      <td>600</td>\n",
       "    </tr>\n",
       "  </tbody>\n",
       "</table>\n",
       "</div>"
      ],
      "text/plain": [
       "   user_id  month tariff_plan  price  total_min_income  income_oper\n",
       "0   166377      8           B   2000             668.5          750\n",
       "1   166377      9           B   2000             909.0          600\n",
       "2   166377     10           B   2000             852.0          750\n",
       "3   166377     11           B   2000             816.5          600\n",
       "4   166391      8           C   1000               0.3          600"
      ]
     },
     "execution_count": 88,
     "metadata": {},
     "output_type": "execute_result"
    }
   ],
   "source": [
    "user_month_tariff.head()"
   ]
  },
  {
   "cell_type": "code",
   "execution_count": 89,
   "metadata": {},
   "outputs": [],
   "source": [
    "user_month_tariff['total_all_income'] = user_month_tariff['price'] + user_month_tariff['total_min_income']+\\\n",
    "                                        user_month_tariff['income_oper']"
   ]
  },
  {
   "cell_type": "code",
   "execution_count": 90,
   "metadata": {},
   "outputs": [
    {
     "data": {
      "text/html": [
       "<div>\n",
       "<style scoped>\n",
       "    .dataframe tbody tr th:only-of-type {\n",
       "        vertical-align: middle;\n",
       "    }\n",
       "\n",
       "    .dataframe tbody tr th {\n",
       "        vertical-align: top;\n",
       "    }\n",
       "\n",
       "    .dataframe thead th {\n",
       "        text-align: right;\n",
       "    }\n",
       "</style>\n",
       "<table border=\"1\" class=\"dataframe\">\n",
       "  <thead>\n",
       "    <tr style=\"text-align: right;\">\n",
       "      <th></th>\n",
       "      <th>user_id</th>\n",
       "      <th>month</th>\n",
       "      <th>tariff_plan</th>\n",
       "      <th>price</th>\n",
       "      <th>total_min_income</th>\n",
       "      <th>income_oper</th>\n",
       "      <th>total_all_income</th>\n",
       "    </tr>\n",
       "  </thead>\n",
       "  <tbody>\n",
       "    <tr>\n",
       "      <th>0</th>\n",
       "      <td>166377</td>\n",
       "      <td>8</td>\n",
       "      <td>B</td>\n",
       "      <td>2000</td>\n",
       "      <td>668.5</td>\n",
       "      <td>750</td>\n",
       "      <td>3418.5</td>\n",
       "    </tr>\n",
       "    <tr>\n",
       "      <th>1</th>\n",
       "      <td>166377</td>\n",
       "      <td>9</td>\n",
       "      <td>B</td>\n",
       "      <td>2000</td>\n",
       "      <td>909.0</td>\n",
       "      <td>600</td>\n",
       "      <td>3509.0</td>\n",
       "    </tr>\n",
       "    <tr>\n",
       "      <th>2</th>\n",
       "      <td>166377</td>\n",
       "      <td>10</td>\n",
       "      <td>B</td>\n",
       "      <td>2000</td>\n",
       "      <td>852.0</td>\n",
       "      <td>750</td>\n",
       "      <td>3602.0</td>\n",
       "    </tr>\n",
       "    <tr>\n",
       "      <th>3</th>\n",
       "      <td>166377</td>\n",
       "      <td>11</td>\n",
       "      <td>B</td>\n",
       "      <td>2000</td>\n",
       "      <td>816.5</td>\n",
       "      <td>600</td>\n",
       "      <td>3416.5</td>\n",
       "    </tr>\n",
       "    <tr>\n",
       "      <th>4</th>\n",
       "      <td>166391</td>\n",
       "      <td>8</td>\n",
       "      <td>C</td>\n",
       "      <td>1000</td>\n",
       "      <td>0.3</td>\n",
       "      <td>600</td>\n",
       "      <td>1600.3</td>\n",
       "    </tr>\n",
       "  </tbody>\n",
       "</table>\n",
       "</div>"
      ],
      "text/plain": [
       "   user_id  month tariff_plan  price  total_min_income  income_oper  \\\n",
       "0   166377      8           B   2000             668.5          750   \n",
       "1   166377      9           B   2000             909.0          600   \n",
       "2   166377     10           B   2000             852.0          750   \n",
       "3   166377     11           B   2000             816.5          600   \n",
       "4   166391      8           C   1000               0.3          600   \n",
       "\n",
       "   total_all_income  \n",
       "0            3418.5  \n",
       "1            3509.0  \n",
       "2            3602.0  \n",
       "3            3416.5  \n",
       "4            1600.3  "
      ]
     },
     "execution_count": 90,
     "metadata": {},
     "output_type": "execute_result"
    }
   ],
   "source": [
    "user_month_tariff.head()"
   ]
  },
  {
   "cell_type": "markdown",
   "metadata": {},
   "source": [
    "Текущую выручку можно узнать сложив все расходы клиентов за последний месяц. Так же для общей картины узнаем общую выручку за все известные месяца"
   ]
  },
  {
   "cell_type": "code",
   "execution_count": 91,
   "metadata": {},
   "outputs": [],
   "source": [
    "monthly_income = user_month_tariff.groupby('month')['total_all_income'].sum()"
   ]
  },
  {
   "cell_type": "code",
   "execution_count": 92,
   "metadata": {},
   "outputs": [
    {
     "data": {
      "text/plain": [
       "month\n",
       "8     153421.30\n",
       "9     333789.00\n",
       "10    561086.70\n",
       "11    646673.75\n",
       "Name: total_all_income, dtype: float64"
      ]
     },
     "execution_count": 92,
     "metadata": {},
     "output_type": "execute_result"
    }
   ],
   "source": [
    "monthly_income"
   ]
  },
  {
   "cell_type": "code",
   "execution_count": 93,
   "metadata": {},
   "outputs": [
    {
     "data": {
      "image/png": "[encoded data removed]",
      "text/plain": [
       "<Figure size 720x432 with 1 Axes>"
      ]
     },
     "metadata": {
      "needs_background": "light"
     },
     "output_type": "display_data"
    }
   ],
   "source": [
    "plt.figure(figsize=(10, 6))\n",
    "monthly_income.plot(kind='bar', grid=True)\n",
    "plt.xlabel('Номер месяца')\n",
    "plt.ylabel('Доходы компании')\n",
    "plt.title('Выручка по месяцам')\n",
    "# Добавление подписей к каждому столбцу\n",
    "\n",
    "for i, v in enumerate(monthly_income):\n",
    "    plt.text(i, v + 5, str(round(v)), ha='center', va='bottom')\n",
    "plt.show()"
   ]
  },
  {
   "cell_type": "markdown",
   "metadata": {},
   "source": [
    "1. Текущая выручка составляет 646674. Минимальная была в августе - 153421.\n",
    "2. Мы наблюдаем, что выручка ростёт от месяца к месяцу."
   ]
  },
  {
   "cell_type": "markdown",
   "metadata": {},
   "source": [
    "#### Определение выручки в разрезе тарифов"
   ]
  },
  {
   "cell_type": "code",
   "execution_count": 94,
   "metadata": {},
   "outputs": [],
   "source": [
    "data_mtp = user_month_tariff.groupby(['month', 'tariff_plan'], \\\n",
    "                        as_index = False)[['total_all_income']].sum()"
   ]
  },
  {
   "cell_type": "code",
   "execution_count": 95,
   "metadata": {},
   "outputs": [
    {
     "data": {
      "image/png": "[encoded data removed]",
      "text/plain": [
       "<Figure size 720x432 with 1 Axes>"
      ]
     },
     "metadata": {},
     "output_type": "display_data"
    }
   ],
   "source": [
    "sns.set_style('dark')\n",
    "plt.figure(figsize=(10, 6))\n",
    "ax = sns.barplot(x='month', y='total_all_income', data=data_mtp, hue='tariff_plan')\n",
    "\n",
    "for p in ax.patches:\n",
    "    ax.annotate(format(p.get_height(), '.0f'), \n",
    "                (p.get_x() + p.get_width() / 2., p.get_height()), \n",
    "                ha = 'center', va = 'center', \n",
    "                xytext = (0, 9), \n",
    "                textcoords = 'offset points')\n",
    "\n",
    "plt.title('График доходов компании по всем активным клиентам по месяцам в разрезе тарифов')\n",
    "plt.xlabel('Номер месяца')\n",
    "plt.ylabel('Выручка')\n",
    "plt.legend(loc='lower right', fontsize=10)\n",
    "plt.grid()\n",
    "plt.show()"
   ]
  },
  {
   "cell_type": "markdown",
   "metadata": {},
   "source": [
    "1. Выручка ростёт на всех тарифах\n",
    "2. В августе выручка по тарифам A и C были примерно равны и отставала от тарифа B. К концу же наблюдаемого периода выручка тарифа C практически сравнялась с выручкой от B, и они опережают выручку от тарифа A."
   ]
  },
  {
   "cell_type": "markdown",
   "metadata": {},
   "source": [
    "#### Сколько в среднем платит клиент каждого тарифа"
   ]
  },
  {
   "cell_type": "markdown",
   "metadata": {},
   "source": [
    "Сгруппируем данные по тарифу и найдём средее число оплат клиентов"
   ]
  },
  {
   "cell_type": "code",
   "execution_count": 96,
   "metadata": {},
   "outputs": [],
   "source": [
    "average_income_by_tariff = user_month_tariff.groupby('tariff_plan')['total_all_income'].mean()"
   ]
  },
  {
   "cell_type": "code",
   "execution_count": 97,
   "metadata": {},
   "outputs": [
    {
     "data": {
      "image/png": "[encoded data removed]",
      "text/plain": [
       "<Figure size 720x432 with 1 Axes>"
      ]
     },
     "metadata": {},
     "output_type": "display_data"
    }
   ],
   "source": [
    "plt.figure(figsize=(10, 6))\n",
    "average_income_by_tariff.plot(kind='bar', grid=True)\n",
    "plt.xlabel('Тариф')\n",
    "plt.ylabel('Средняя оплата')\n",
    "plt.title('Средняя оплата клиентов по тарифу за всё время')\n",
    "# Добавление подписей к каждому столбцу\n",
    "\n",
    "for i, v in enumerate(average_income_by_tariff):\n",
    "    plt.text(i, v + 5, str(round(v)), ha='center', va='bottom')\n",
    "plt.show()"
   ]
  },
  {
   "cell_type": "markdown",
   "metadata": {},
   "source": [
    "В среднем, клиент тарифа A платит почти в два раза больше, чем на тарифе B. Те, кто на тарифе C платят в среднем меньше всего. "
   ]
  },
  {
   "cell_type": "markdown",
   "metadata": {},
   "source": [
    "#### Изменение выручки с клиента с течением времени"
   ]
  },
  {
   "cell_type": "markdown",
   "metadata": {},
   "source": [
    "Сгруппируем данные по тарифу и месяцу, найдём средее число оплат клиентов"
   ]
  },
  {
   "cell_type": "code",
   "execution_count": 98,
   "metadata": {},
   "outputs": [],
   "source": [
    "ave_income_by_tariff_month = user_month_tariff.groupby(['month', 'tariff_plan'], \\\n",
    "                        as_index = False)[['total_all_income']].mean()"
   ]
  },
  {
   "cell_type": "code",
   "execution_count": 99,
   "metadata": {},
   "outputs": [
    {
     "data": {
      "image/png": "[encoded data removed]",
      "text/plain": [
       "<Figure size 720x432 with 1 Axes>"
      ]
     },
     "metadata": {},
     "output_type": "display_data"
    }
   ],
   "source": [
    "sns.set_style('dark')\n",
    "plt.figure(figsize=(10, 6))\n",
    "ax = sns.barplot(x='tariff_plan', y='total_all_income', data=ave_income_by_tariff_month, hue='month')\n",
    "\n",
    "for p in ax.patches:\n",
    "    ax.annotate(format(p.get_height(), '.0f'), \n",
    "                (p.get_x() + p.get_width() / 2., p.get_height()), \n",
    "                ha = 'center', va = 'center', \n",
    "                xytext = (0, 9), \n",
    "                textcoords = 'offset points')\n",
    "\n",
    "plt.title('График средних доходов компании по всем активным клиентам по месяцам в разрезе тарифов')\n",
    "plt.xlabel('Номер месяца')\n",
    "plt.ylabel('Выручка компании')\n",
    "plt.legend(loc='lower right', fontsize=10)\n",
    "plt.grid()\n",
    "plt.show()"
   ]
  },
  {
   "cell_type": "markdown",
   "metadata": {},
   "source": [
    "Можно сказать, что выручка с течением времени растёт на всех тарифах.\n",
    "Выручка на тарифе А растёт немного быстрее."
   ]
  },
  {
   "cell_type": "markdown",
   "metadata": {},
   "source": [
    "<div class=\"alert alert-success\">\n",
    "<b>Комментарий ревьюера:</b>☀️\n",
    "    \n",
    "Как раз то, что хотелось, спасибо!"
   ]
  },
  {
   "cell_type": "markdown",
   "metadata": {},
   "source": [
    "#### Поиск клиентов с неоптимальными тарифами"
   ]
  },
  {
   "cell_type": "code",
   "execution_count": 100,
   "metadata": {},
   "outputs": [
    {
     "data": {
      "text/html": [
       "<div>\n",
       "<style scoped>\n",
       "    .dataframe tbody tr th:only-of-type {\n",
       "        vertical-align: middle;\n",
       "    }\n",
       "\n",
       "    .dataframe tbody tr th {\n",
       "        vertical-align: top;\n",
       "    }\n",
       "\n",
       "    .dataframe thead th {\n",
       "        text-align: right;\n",
       "    }\n",
       "</style>\n",
       "<table border=\"1\" class=\"dataframe\">\n",
       "  <thead>\n",
       "    <tr style=\"text-align: right;\">\n",
       "      <th></th>\n",
       "      <th>user_id</th>\n",
       "      <th>month</th>\n",
       "      <th>direction</th>\n",
       "      <th>internal</th>\n",
       "      <th>call_minutes</th>\n",
       "      <th>tariff_plan</th>\n",
       "      <th>price</th>\n",
       "      <th>free_minutes</th>\n",
       "      <th>over_limit</th>\n",
       "      <th>non_internal</th>\n",
       "      <th>income_no_int</th>\n",
       "      <th>income_int</th>\n",
       "      <th>total_min_income</th>\n",
       "    </tr>\n",
       "  </thead>\n",
       "  <tbody>\n",
       "    <tr>\n",
       "      <th>0</th>\n",
       "      <td>166377</td>\n",
       "      <td>8</td>\n",
       "      <td>in</td>\n",
       "      <td>False</td>\n",
       "      <td>43</td>\n",
       "      <td>B</td>\n",
       "      <td>2000</td>\n",
       "      <td>500</td>\n",
       "      <td>0.15</td>\n",
       "      <td>0.5</td>\n",
       "      <td>0.0</td>\n",
       "      <td>0.0</td>\n",
       "      <td>0.0</td>\n",
       "    </tr>\n",
       "    <tr>\n",
       "      <th>1</th>\n",
       "      <td>166377</td>\n",
       "      <td>8</td>\n",
       "      <td>out</td>\n",
       "      <td>False</td>\n",
       "      <td>1337</td>\n",
       "      <td>B</td>\n",
       "      <td>2000</td>\n",
       "      <td>500</td>\n",
       "      <td>0.15</td>\n",
       "      <td>0.5</td>\n",
       "      <td>668.5</td>\n",
       "      <td>0.0</td>\n",
       "      <td>668.5</td>\n",
       "    </tr>\n",
       "    <tr>\n",
       "      <th>2</th>\n",
       "      <td>166377</td>\n",
       "      <td>8</td>\n",
       "      <td>out</td>\n",
       "      <td>True</td>\n",
       "      <td>8</td>\n",
       "      <td>B</td>\n",
       "      <td>2000</td>\n",
       "      <td>500</td>\n",
       "      <td>0.15</td>\n",
       "      <td>0.5</td>\n",
       "      <td>0.0</td>\n",
       "      <td>0.0</td>\n",
       "      <td>0.0</td>\n",
       "    </tr>\n",
       "    <tr>\n",
       "      <th>3</th>\n",
       "      <td>166377</td>\n",
       "      <td>9</td>\n",
       "      <td>in</td>\n",
       "      <td>False</td>\n",
       "      <td>48</td>\n",
       "      <td>B</td>\n",
       "      <td>2000</td>\n",
       "      <td>500</td>\n",
       "      <td>0.15</td>\n",
       "      <td>0.5</td>\n",
       "      <td>0.0</td>\n",
       "      <td>0.0</td>\n",
       "      <td>0.0</td>\n",
       "    </tr>\n",
       "    <tr>\n",
       "      <th>4</th>\n",
       "      <td>166377</td>\n",
       "      <td>9</td>\n",
       "      <td>out</td>\n",
       "      <td>False</td>\n",
       "      <td>1818</td>\n",
       "      <td>B</td>\n",
       "      <td>2000</td>\n",
       "      <td>500</td>\n",
       "      <td>0.15</td>\n",
       "      <td>0.5</td>\n",
       "      <td>909.0</td>\n",
       "      <td>0.0</td>\n",
       "      <td>909.0</td>\n",
       "    </tr>\n",
       "  </tbody>\n",
       "</table>\n",
       "</div>"
      ],
      "text/plain": [
       "   user_id  month direction  internal  call_minutes tariff_plan  price  \\\n",
       "0   166377      8        in     False            43           B   2000   \n",
       "1   166377      8       out     False          1337           B   2000   \n",
       "2   166377      8       out      True             8           B   2000   \n",
       "3   166377      9        in     False            48           B   2000   \n",
       "4   166377      9       out     False          1818           B   2000   \n",
       "\n",
       "   free_minutes  over_limit  non_internal  income_no_int  income_int  \\\n",
       "0           500        0.15           0.5            0.0         0.0   \n",
       "1           500        0.15           0.5          668.5         0.0   \n",
       "2           500        0.15           0.5            0.0         0.0   \n",
       "3           500        0.15           0.5            0.0         0.0   \n",
       "4           500        0.15           0.5          909.0         0.0   \n",
       "\n",
       "   total_min_income  \n",
       "0               0.0  \n",
       "1             668.5  \n",
       "2               0.0  \n",
       "3               0.0  \n",
       "4             909.0  "
      ]
     },
     "execution_count": 100,
     "metadata": {},
     "output_type": "execute_result"
    }
   ],
   "source": [
    "active_users_tariffs_groupby.head()"
   ]
  },
  {
   "cell_type": "code",
   "execution_count": 101,
   "metadata": {},
   "outputs": [],
   "source": [
    "def calculate_tariffs(filtered_df):\n",
    "    \n",
    "    '''\n",
    "    Функция создаёт в датафрейме 3 новых столбца, куда записываются возможные доходы, если бы кол центр был на\n",
    "    тарифе А, В или с соответственно'\n",
    "    \n",
    "    '''\n",
    "        \n",
    "    tarif_A = { 'free_minutes_costs': 2000, 'over_limit': 0.1, 'non_internal': 0.3}\n",
    "    tarif_B = {'free_minutes_costs': 500, 'over_limit': 0.15, 'non_internal': 0.5}\n",
    "    tarif_C = {'free_minutes_costs': 0, 'over_limit': 0.30, 'non_internal': 0.7}\n",
    "\n",
    "    \n",
    "    def calculate_cost(row, tariff):\n",
    "        if row['direction'] == 'out' and not row['internal']:\n",
    "            return row['call_minutes'] * tariff['non_internal']\n",
    "        elif row['direction'] == 'out' and row['internal'] and row['call_minutes'] > tariff['free_minutes_costs']:\n",
    "            return (row['call_minutes'] - tariff['free_minutes_costs']) * tariff['over_limit']\n",
    "        elif row['direction'] == 'in':\n",
    "            return 0\n",
    "        else:\n",
    "            return None        \n",
    "            \n",
    "            \n",
    "\n",
    "    filtered_df['tarif_A'] = filtered_df.apply(lambda row: calculate_cost(row, tarif_A), axis=1)\n",
    "    filtered_df['tarif_B'] = filtered_df.apply(lambda row: calculate_cost(row, tarif_B), axis=1)\n",
    "    filtered_df['tarif_C'] = filtered_df.apply(lambda row: calculate_cost(row, tarif_C), axis=1)\n",
    "\n",
    "    return filtered_df\n",
    "calculate_tariffs_minutes = calculate_tariffs(active_users_tariffs_groupby)"
   ]
  },
  {
   "cell_type": "code",
   "execution_count": 102,
   "metadata": {},
   "outputs": [],
   "source": [
    "calculate_tariffs_minutes = calculate_tariffs_minutes.fillna(0)"
   ]
  },
  {
   "cell_type": "code",
   "execution_count": 103,
   "metadata": {},
   "outputs": [
    {
     "data": {
      "text/html": [
       "<div>\n",
       "<style scoped>\n",
       "    .dataframe tbody tr th:only-of-type {\n",
       "        vertical-align: middle;\n",
       "    }\n",
       "\n",
       "    .dataframe tbody tr th {\n",
       "        vertical-align: top;\n",
       "    }\n",
       "\n",
       "    .dataframe thead th {\n",
       "        text-align: right;\n",
       "    }\n",
       "</style>\n",
       "<table border=\"1\" class=\"dataframe\">\n",
       "  <thead>\n",
       "    <tr style=\"text-align: right;\">\n",
       "      <th></th>\n",
       "      <th>user_id</th>\n",
       "      <th>month</th>\n",
       "      <th>direction</th>\n",
       "      <th>internal</th>\n",
       "      <th>call_minutes</th>\n",
       "      <th>tariff_plan</th>\n",
       "      <th>price</th>\n",
       "      <th>free_minutes</th>\n",
       "      <th>over_limit</th>\n",
       "      <th>non_internal</th>\n",
       "      <th>income_no_int</th>\n",
       "      <th>income_int</th>\n",
       "      <th>total_min_income</th>\n",
       "      <th>tarif_A</th>\n",
       "      <th>tarif_B</th>\n",
       "      <th>tarif_C</th>\n",
       "    </tr>\n",
       "  </thead>\n",
       "  <tbody>\n",
       "    <tr>\n",
       "      <th>0</th>\n",
       "      <td>166377</td>\n",
       "      <td>8</td>\n",
       "      <td>in</td>\n",
       "      <td>False</td>\n",
       "      <td>43</td>\n",
       "      <td>B</td>\n",
       "      <td>2000</td>\n",
       "      <td>500</td>\n",
       "      <td>0.15</td>\n",
       "      <td>0.5</td>\n",
       "      <td>0.0</td>\n",
       "      <td>0.0</td>\n",
       "      <td>0.0</td>\n",
       "      <td>0.0</td>\n",
       "      <td>0.0</td>\n",
       "      <td>0.0</td>\n",
       "    </tr>\n",
       "    <tr>\n",
       "      <th>1</th>\n",
       "      <td>166377</td>\n",
       "      <td>8</td>\n",
       "      <td>out</td>\n",
       "      <td>False</td>\n",
       "      <td>1337</td>\n",
       "      <td>B</td>\n",
       "      <td>2000</td>\n",
       "      <td>500</td>\n",
       "      <td>0.15</td>\n",
       "      <td>0.5</td>\n",
       "      <td>668.5</td>\n",
       "      <td>0.0</td>\n",
       "      <td>668.5</td>\n",
       "      <td>401.1</td>\n",
       "      <td>668.5</td>\n",
       "      <td>935.9</td>\n",
       "    </tr>\n",
       "    <tr>\n",
       "      <th>2</th>\n",
       "      <td>166377</td>\n",
       "      <td>8</td>\n",
       "      <td>out</td>\n",
       "      <td>True</td>\n",
       "      <td>8</td>\n",
       "      <td>B</td>\n",
       "      <td>2000</td>\n",
       "      <td>500</td>\n",
       "      <td>0.15</td>\n",
       "      <td>0.5</td>\n",
       "      <td>0.0</td>\n",
       "      <td>0.0</td>\n",
       "      <td>0.0</td>\n",
       "      <td>0.0</td>\n",
       "      <td>0.0</td>\n",
       "      <td>2.4</td>\n",
       "    </tr>\n",
       "    <tr>\n",
       "      <th>3</th>\n",
       "      <td>166377</td>\n",
       "      <td>9</td>\n",
       "      <td>in</td>\n",
       "      <td>False</td>\n",
       "      <td>48</td>\n",
       "      <td>B</td>\n",
       "      <td>2000</td>\n",
       "      <td>500</td>\n",
       "      <td>0.15</td>\n",
       "      <td>0.5</td>\n",
       "      <td>0.0</td>\n",
       "      <td>0.0</td>\n",
       "      <td>0.0</td>\n",
       "      <td>0.0</td>\n",
       "      <td>0.0</td>\n",
       "      <td>0.0</td>\n",
       "    </tr>\n",
       "    <tr>\n",
       "      <th>4</th>\n",
       "      <td>166377</td>\n",
       "      <td>9</td>\n",
       "      <td>out</td>\n",
       "      <td>False</td>\n",
       "      <td>1818</td>\n",
       "      <td>B</td>\n",
       "      <td>2000</td>\n",
       "      <td>500</td>\n",
       "      <td>0.15</td>\n",
       "      <td>0.5</td>\n",
       "      <td>909.0</td>\n",
       "      <td>0.0</td>\n",
       "      <td>909.0</td>\n",
       "      <td>545.4</td>\n",
       "      <td>909.0</td>\n",
       "      <td>1272.6</td>\n",
       "    </tr>\n",
       "  </tbody>\n",
       "</table>\n",
       "</div>"
      ],
      "text/plain": [
       "   user_id  month direction  internal  call_minutes tariff_plan  price  \\\n",
       "0   166377      8        in     False            43           B   2000   \n",
       "1   166377      8       out     False          1337           B   2000   \n",
       "2   166377      8       out      True             8           B   2000   \n",
       "3   166377      9        in     False            48           B   2000   \n",
       "4   166377      9       out     False          1818           B   2000   \n",
       "\n",
       "   free_minutes  over_limit  non_internal  income_no_int  income_int  \\\n",
       "0           500        0.15           0.5            0.0         0.0   \n",
       "1           500        0.15           0.5          668.5         0.0   \n",
       "2           500        0.15           0.5            0.0         0.0   \n",
       "3           500        0.15           0.5            0.0         0.0   \n",
       "4           500        0.15           0.5          909.0         0.0   \n",
       "\n",
       "   total_min_income  tarif_A  tarif_B  tarif_C  \n",
       "0               0.0      0.0      0.0      0.0  \n",
       "1             668.5    401.1    668.5    935.9  \n",
       "2               0.0      0.0      0.0      2.4  \n",
       "3               0.0      0.0      0.0      0.0  \n",
       "4             909.0    545.4    909.0   1272.6  "
      ]
     },
     "execution_count": 103,
     "metadata": {},
     "output_type": "execute_result"
    }
   ],
   "source": [
    "calculate_tariffs_minutes.head()"
   ]
  },
  {
   "cell_type": "code",
   "execution_count": null,
   "metadata": {},
   "outputs": [],
   "source": []
  },
  {
   "cell_type": "code",
   "execution_count": 104,
   "metadata": {},
   "outputs": [],
   "source": [
    "calculate_tariffs_minutes_groupby = calculate_tariffs_minutes.groupby(['user_id', 'month', 'tariff_plan','price'])\\\n",
    "    .agg({'total_min_income':'sum', 'tarif_A':'sum', 'tarif_B':'sum','tarif_C':'sum'})\\\n",
    "    .reset_index()"
   ]
  },
  {
   "cell_type": "code",
   "execution_count": 105,
   "metadata": {},
   "outputs": [
    {
     "data": {
      "text/html": [
       "<div>\n",
       "<style scoped>\n",
       "    .dataframe tbody tr th:only-of-type {\n",
       "        vertical-align: middle;\n",
       "    }\n",
       "\n",
       "    .dataframe tbody tr th {\n",
       "        vertical-align: top;\n",
       "    }\n",
       "\n",
       "    .dataframe thead th {\n",
       "        text-align: right;\n",
       "    }\n",
       "</style>\n",
       "<table border=\"1\" class=\"dataframe\">\n",
       "  <thead>\n",
       "    <tr style=\"text-align: right;\">\n",
       "      <th></th>\n",
       "      <th>user_id</th>\n",
       "      <th>month</th>\n",
       "      <th>tariff_plan</th>\n",
       "      <th>price</th>\n",
       "      <th>total_min_income</th>\n",
       "      <th>tarif_A</th>\n",
       "      <th>tarif_B</th>\n",
       "      <th>tarif_C</th>\n",
       "    </tr>\n",
       "  </thead>\n",
       "  <tbody>\n",
       "    <tr>\n",
       "      <th>0</th>\n",
       "      <td>166377</td>\n",
       "      <td>8</td>\n",
       "      <td>B</td>\n",
       "      <td>2000</td>\n",
       "      <td>668.5</td>\n",
       "      <td>401.1</td>\n",
       "      <td>668.5</td>\n",
       "      <td>938.3</td>\n",
       "    </tr>\n",
       "    <tr>\n",
       "      <th>1</th>\n",
       "      <td>166377</td>\n",
       "      <td>9</td>\n",
       "      <td>B</td>\n",
       "      <td>2000</td>\n",
       "      <td>909.0</td>\n",
       "      <td>545.4</td>\n",
       "      <td>909.0</td>\n",
       "      <td>1274.1</td>\n",
       "    </tr>\n",
       "    <tr>\n",
       "      <th>2</th>\n",
       "      <td>166377</td>\n",
       "      <td>10</td>\n",
       "      <td>B</td>\n",
       "      <td>2000</td>\n",
       "      <td>852.0</td>\n",
       "      <td>511.2</td>\n",
       "      <td>852.0</td>\n",
       "      <td>1193.4</td>\n",
       "    </tr>\n",
       "    <tr>\n",
       "      <th>3</th>\n",
       "      <td>166377</td>\n",
       "      <td>11</td>\n",
       "      <td>B</td>\n",
       "      <td>2000</td>\n",
       "      <td>816.5</td>\n",
       "      <td>489.9</td>\n",
       "      <td>816.5</td>\n",
       "      <td>1144.3</td>\n",
       "    </tr>\n",
       "    <tr>\n",
       "      <th>4</th>\n",
       "      <td>166391</td>\n",
       "      <td>8</td>\n",
       "      <td>C</td>\n",
       "      <td>1000</td>\n",
       "      <td>0.3</td>\n",
       "      <td>0.0</td>\n",
       "      <td>0.0</td>\n",
       "      <td>0.3</td>\n",
       "    </tr>\n",
       "  </tbody>\n",
       "</table>\n",
       "</div>"
      ],
      "text/plain": [
       "   user_id  month tariff_plan  price  total_min_income  tarif_A  tarif_B  \\\n",
       "0   166377      8           B   2000             668.5    401.1    668.5   \n",
       "1   166377      9           B   2000             909.0    545.4    909.0   \n",
       "2   166377     10           B   2000             852.0    511.2    852.0   \n",
       "3   166377     11           B   2000             816.5    489.9    816.5   \n",
       "4   166391      8           C   1000               0.3      0.0      0.0   \n",
       "\n",
       "   tarif_C  \n",
       "0    938.3  \n",
       "1   1274.1  \n",
       "2   1193.4  \n",
       "3   1144.3  \n",
       "4      0.3  "
      ]
     },
     "execution_count": 105,
     "metadata": {},
     "output_type": "execute_result"
    }
   ],
   "source": [
    "calculate_tariffs_minutes_groupby.head()"
   ]
  },
  {
   "cell_type": "code",
   "execution_count": 106,
   "metadata": {},
   "outputs": [
    {
     "data": {
      "text/html": [
       "<div>\n",
       "<style scoped>\n",
       "    .dataframe tbody tr th:only-of-type {\n",
       "        vertical-align: middle;\n",
       "    }\n",
       "\n",
       "    .dataframe tbody tr th {\n",
       "        vertical-align: top;\n",
       "    }\n",
       "\n",
       "    .dataframe thead th {\n",
       "        text-align: right;\n",
       "    }\n",
       "</style>\n",
       "<table border=\"1\" class=\"dataframe\">\n",
       "  <thead>\n",
       "    <tr style=\"text-align: right;\">\n",
       "      <th></th>\n",
       "      <th>user_id</th>\n",
       "      <th>month</th>\n",
       "      <th>number_of_operators</th>\n",
       "      <th>tariff_plan</th>\n",
       "      <th>price_operator</th>\n",
       "      <th>income_oper</th>\n",
       "    </tr>\n",
       "  </thead>\n",
       "  <tbody>\n",
       "    <tr>\n",
       "      <th>0</th>\n",
       "      <td>166377</td>\n",
       "      <td>8</td>\n",
       "      <td>5</td>\n",
       "      <td>B</td>\n",
       "      <td>150</td>\n",
       "      <td>750</td>\n",
       "    </tr>\n",
       "    <tr>\n",
       "      <th>1</th>\n",
       "      <td>166377</td>\n",
       "      <td>9</td>\n",
       "      <td>4</td>\n",
       "      <td>B</td>\n",
       "      <td>150</td>\n",
       "      <td>600</td>\n",
       "    </tr>\n",
       "    <tr>\n",
       "      <th>2</th>\n",
       "      <td>166377</td>\n",
       "      <td>10</td>\n",
       "      <td>5</td>\n",
       "      <td>B</td>\n",
       "      <td>150</td>\n",
       "      <td>750</td>\n",
       "    </tr>\n",
       "    <tr>\n",
       "      <th>3</th>\n",
       "      <td>166377</td>\n",
       "      <td>11</td>\n",
       "      <td>4</td>\n",
       "      <td>B</td>\n",
       "      <td>150</td>\n",
       "      <td>600</td>\n",
       "    </tr>\n",
       "    <tr>\n",
       "      <th>4</th>\n",
       "      <td>166391</td>\n",
       "      <td>8</td>\n",
       "      <td>2</td>\n",
       "      <td>C</td>\n",
       "      <td>300</td>\n",
       "      <td>600</td>\n",
       "    </tr>\n",
       "  </tbody>\n",
       "</table>\n",
       "</div>"
      ],
      "text/plain": [
       "   user_id  month  number_of_operators tariff_plan  price_operator  \\\n",
       "0   166377      8                    5           B             150   \n",
       "1   166377      9                    4           B             150   \n",
       "2   166377     10                    5           B             150   \n",
       "3   166377     11                    4           B             150   \n",
       "4   166391      8                    2           C             300   \n",
       "\n",
       "   income_oper  \n",
       "0          750  \n",
       "1          600  \n",
       "2          750  \n",
       "3          600  \n",
       "4          600  "
      ]
     },
     "execution_count": 106,
     "metadata": {},
     "output_type": "execute_result"
    }
   ],
   "source": [
    "operator_unique_tariffs.head()"
   ]
  },
  {
   "cell_type": "code",
   "execution_count": 107,
   "metadata": {},
   "outputs": [],
   "source": [
    "calculate_tariffs_operator = (\n",
    "    pd.merge(calculate_tariffs_minutes_groupby, operator_unique_tariffs, on=['user_id', 'month', 'tariff_plan'])\n",
    ")"
   ]
  },
  {
   "cell_type": "code",
   "execution_count": 108,
   "metadata": {},
   "outputs": [
    {
     "data": {
      "text/html": [
       "<div>\n",
       "<style scoped>\n",
       "    .dataframe tbody tr th:only-of-type {\n",
       "        vertical-align: middle;\n",
       "    }\n",
       "\n",
       "    .dataframe tbody tr th {\n",
       "        vertical-align: top;\n",
       "    }\n",
       "\n",
       "    .dataframe thead th {\n",
       "        text-align: right;\n",
       "    }\n",
       "</style>\n",
       "<table border=\"1\" class=\"dataframe\">\n",
       "  <thead>\n",
       "    <tr style=\"text-align: right;\">\n",
       "      <th></th>\n",
       "      <th>user_id</th>\n",
       "      <th>month</th>\n",
       "      <th>tariff_plan</th>\n",
       "      <th>price</th>\n",
       "      <th>total_min_income</th>\n",
       "      <th>tarif_A</th>\n",
       "      <th>tarif_B</th>\n",
       "      <th>tarif_C</th>\n",
       "      <th>number_of_operators</th>\n",
       "      <th>price_operator</th>\n",
       "      <th>income_oper</th>\n",
       "    </tr>\n",
       "  </thead>\n",
       "  <tbody>\n",
       "    <tr>\n",
       "      <th>0</th>\n",
       "      <td>166377</td>\n",
       "      <td>8</td>\n",
       "      <td>B</td>\n",
       "      <td>2000</td>\n",
       "      <td>668.5</td>\n",
       "      <td>401.1</td>\n",
       "      <td>668.5</td>\n",
       "      <td>938.3</td>\n",
       "      <td>5</td>\n",
       "      <td>150</td>\n",
       "      <td>750</td>\n",
       "    </tr>\n",
       "    <tr>\n",
       "      <th>1</th>\n",
       "      <td>166377</td>\n",
       "      <td>9</td>\n",
       "      <td>B</td>\n",
       "      <td>2000</td>\n",
       "      <td>909.0</td>\n",
       "      <td>545.4</td>\n",
       "      <td>909.0</td>\n",
       "      <td>1274.1</td>\n",
       "      <td>4</td>\n",
       "      <td>150</td>\n",
       "      <td>600</td>\n",
       "    </tr>\n",
       "    <tr>\n",
       "      <th>2</th>\n",
       "      <td>166377</td>\n",
       "      <td>10</td>\n",
       "      <td>B</td>\n",
       "      <td>2000</td>\n",
       "      <td>852.0</td>\n",
       "      <td>511.2</td>\n",
       "      <td>852.0</td>\n",
       "      <td>1193.4</td>\n",
       "      <td>5</td>\n",
       "      <td>150</td>\n",
       "      <td>750</td>\n",
       "    </tr>\n",
       "    <tr>\n",
       "      <th>3</th>\n",
       "      <td>166377</td>\n",
       "      <td>11</td>\n",
       "      <td>B</td>\n",
       "      <td>2000</td>\n",
       "      <td>816.5</td>\n",
       "      <td>489.9</td>\n",
       "      <td>816.5</td>\n",
       "      <td>1144.3</td>\n",
       "      <td>4</td>\n",
       "      <td>150</td>\n",
       "      <td>600</td>\n",
       "    </tr>\n",
       "    <tr>\n",
       "      <th>4</th>\n",
       "      <td>166391</td>\n",
       "      <td>8</td>\n",
       "      <td>C</td>\n",
       "      <td>1000</td>\n",
       "      <td>0.3</td>\n",
       "      <td>0.0</td>\n",
       "      <td>0.0</td>\n",
       "      <td>0.3</td>\n",
       "      <td>2</td>\n",
       "      <td>300</td>\n",
       "      <td>600</td>\n",
       "    </tr>\n",
       "  </tbody>\n",
       "</table>\n",
       "</div>"
      ],
      "text/plain": [
       "   user_id  month tariff_plan  price  total_min_income  tarif_A  tarif_B  \\\n",
       "0   166377      8           B   2000             668.5    401.1    668.5   \n",
       "1   166377      9           B   2000             909.0    545.4    909.0   \n",
       "2   166377     10           B   2000             852.0    511.2    852.0   \n",
       "3   166377     11           B   2000             816.5    489.9    816.5   \n",
       "4   166391      8           C   1000               0.3      0.0      0.0   \n",
       "\n",
       "   tarif_C  number_of_operators  price_operator  income_oper  \n",
       "0    938.3                    5             150          750  \n",
       "1   1274.1                    4             150          600  \n",
       "2   1193.4                    5             150          750  \n",
       "3   1144.3                    4             150          600  \n",
       "4      0.3                    2             300          600  "
      ]
     },
     "execution_count": 108,
     "metadata": {},
     "output_type": "execute_result"
    }
   ],
   "source": [
    "calculate_tariffs_operator.head()"
   ]
  },
  {
   "cell_type": "code",
   "execution_count": 109,
   "metadata": {},
   "outputs": [],
   "source": [
    "def calculate_total_costs(row):\n",
    "    \n",
    "    '''\n",
    "    Функция прибавляет к значениям колонок tarif_A, tarif_B и tarif_C' абонентскую плату, которая соответствует \n",
    "    данному тарифу и произведение числа операторов и цены тарифа за оператора\n",
    "    \n",
    "    '''\n",
    "    if row['tarif_A'] is not None:\n",
    "        row['tarif_A'] += 4000 + row['number_of_operators'] * 50\n",
    "    if row['tarif_B'] is not None:\n",
    "        row['tarif_B'] += 2000 + row['number_of_operators'] * 150\n",
    "    if row['tarif_C'] is not None:\n",
    "        row['tarif_C'] += 1000 + row['number_of_operators'] * 300\n",
    "    return row\n",
    "\n",
    "calculate_tariffs_operator = calculate_tariffs_operator.apply(calculate_total_costs, axis=1)"
   ]
  },
  {
   "cell_type": "code",
   "execution_count": 110,
   "metadata": {},
   "outputs": [
    {
     "data": {
      "text/html": [
       "<div>\n",
       "<style scoped>\n",
       "    .dataframe tbody tr th:only-of-type {\n",
       "        vertical-align: middle;\n",
       "    }\n",
       "\n",
       "    .dataframe tbody tr th {\n",
       "        vertical-align: top;\n",
       "    }\n",
       "\n",
       "    .dataframe thead th {\n",
       "        text-align: right;\n",
       "    }\n",
       "</style>\n",
       "<table border=\"1\" class=\"dataframe\">\n",
       "  <thead>\n",
       "    <tr style=\"text-align: right;\">\n",
       "      <th></th>\n",
       "      <th>user_id</th>\n",
       "      <th>month</th>\n",
       "      <th>tariff_plan</th>\n",
       "      <th>price</th>\n",
       "      <th>total_min_income</th>\n",
       "      <th>tarif_A</th>\n",
       "      <th>tarif_B</th>\n",
       "      <th>tarif_C</th>\n",
       "      <th>number_of_operators</th>\n",
       "      <th>price_operator</th>\n",
       "      <th>income_oper</th>\n",
       "    </tr>\n",
       "  </thead>\n",
       "  <tbody>\n",
       "    <tr>\n",
       "      <th>0</th>\n",
       "      <td>166377</td>\n",
       "      <td>8</td>\n",
       "      <td>B</td>\n",
       "      <td>2000</td>\n",
       "      <td>668.5</td>\n",
       "      <td>4651.1</td>\n",
       "      <td>3418.5</td>\n",
       "      <td>3438.3</td>\n",
       "      <td>5</td>\n",
       "      <td>150</td>\n",
       "      <td>750</td>\n",
       "    </tr>\n",
       "    <tr>\n",
       "      <th>1</th>\n",
       "      <td>166377</td>\n",
       "      <td>9</td>\n",
       "      <td>B</td>\n",
       "      <td>2000</td>\n",
       "      <td>909.0</td>\n",
       "      <td>4745.4</td>\n",
       "      <td>3509.0</td>\n",
       "      <td>3474.1</td>\n",
       "      <td>4</td>\n",
       "      <td>150</td>\n",
       "      <td>600</td>\n",
       "    </tr>\n",
       "    <tr>\n",
       "      <th>2</th>\n",
       "      <td>166377</td>\n",
       "      <td>10</td>\n",
       "      <td>B</td>\n",
       "      <td>2000</td>\n",
       "      <td>852.0</td>\n",
       "      <td>4761.2</td>\n",
       "      <td>3602.0</td>\n",
       "      <td>3693.4</td>\n",
       "      <td>5</td>\n",
       "      <td>150</td>\n",
       "      <td>750</td>\n",
       "    </tr>\n",
       "    <tr>\n",
       "      <th>3</th>\n",
       "      <td>166377</td>\n",
       "      <td>11</td>\n",
       "      <td>B</td>\n",
       "      <td>2000</td>\n",
       "      <td>816.5</td>\n",
       "      <td>4689.9</td>\n",
       "      <td>3416.5</td>\n",
       "      <td>3344.3</td>\n",
       "      <td>4</td>\n",
       "      <td>150</td>\n",
       "      <td>600</td>\n",
       "    </tr>\n",
       "    <tr>\n",
       "      <th>4</th>\n",
       "      <td>166391</td>\n",
       "      <td>8</td>\n",
       "      <td>C</td>\n",
       "      <td>1000</td>\n",
       "      <td>0.3</td>\n",
       "      <td>4100.0</td>\n",
       "      <td>2300.0</td>\n",
       "      <td>1600.3</td>\n",
       "      <td>2</td>\n",
       "      <td>300</td>\n",
       "      <td>600</td>\n",
       "    </tr>\n",
       "  </tbody>\n",
       "</table>\n",
       "</div>"
      ],
      "text/plain": [
       "   user_id  month tariff_plan  price  total_min_income  tarif_A  tarif_B  \\\n",
       "0   166377      8           B   2000             668.5   4651.1   3418.5   \n",
       "1   166377      9           B   2000             909.0   4745.4   3509.0   \n",
       "2   166377     10           B   2000             852.0   4761.2   3602.0   \n",
       "3   166377     11           B   2000             816.5   4689.9   3416.5   \n",
       "4   166391      8           C   1000               0.3   4100.0   2300.0   \n",
       "\n",
       "   tarif_C  number_of_operators  price_operator  income_oper  \n",
       "0   3438.3                    5             150          750  \n",
       "1   3474.1                    4             150          600  \n",
       "2   3693.4                    5             150          750  \n",
       "3   3344.3                    4             150          600  \n",
       "4   1600.3                    2             300          600  "
      ]
     },
     "execution_count": 110,
     "metadata": {},
     "output_type": "execute_result"
    }
   ],
   "source": [
    "calculate_tariffs_operator.head()"
   ]
  },
  {
   "cell_type": "code",
   "execution_count": 111,
   "metadata": {},
   "outputs": [],
   "source": [
    "calculate_tariffs_operator['the_current_tariff'] = calculate_tariffs_operator['total_min_income'] +\\\n",
    "                                                   calculate_tariffs_operator['price'] + \\\n",
    "                                                   calculate_tariffs_operator['income_oper']"
   ]
  },
  {
   "cell_type": "code",
   "execution_count": 112,
   "metadata": {},
   "outputs": [
    {
     "data": {
      "text/html": [
       "<div>\n",
       "<style scoped>\n",
       "    .dataframe tbody tr th:only-of-type {\n",
       "        vertical-align: middle;\n",
       "    }\n",
       "\n",
       "    .dataframe tbody tr th {\n",
       "        vertical-align: top;\n",
       "    }\n",
       "\n",
       "    .dataframe thead th {\n",
       "        text-align: right;\n",
       "    }\n",
       "</style>\n",
       "<table border=\"1\" class=\"dataframe\">\n",
       "  <thead>\n",
       "    <tr style=\"text-align: right;\">\n",
       "      <th></th>\n",
       "      <th>user_id</th>\n",
       "      <th>month</th>\n",
       "      <th>tariff_plan</th>\n",
       "      <th>price</th>\n",
       "      <th>total_min_income</th>\n",
       "      <th>tarif_A</th>\n",
       "      <th>tarif_B</th>\n",
       "      <th>tarif_C</th>\n",
       "      <th>number_of_operators</th>\n",
       "      <th>price_operator</th>\n",
       "      <th>income_oper</th>\n",
       "      <th>the_current_tariff</th>\n",
       "    </tr>\n",
       "  </thead>\n",
       "  <tbody>\n",
       "    <tr>\n",
       "      <th>0</th>\n",
       "      <td>166377</td>\n",
       "      <td>8</td>\n",
       "      <td>B</td>\n",
       "      <td>2000</td>\n",
       "      <td>668.5</td>\n",
       "      <td>4651.1</td>\n",
       "      <td>3418.5</td>\n",
       "      <td>3438.3</td>\n",
       "      <td>5</td>\n",
       "      <td>150</td>\n",
       "      <td>750</td>\n",
       "      <td>3418.5</td>\n",
       "    </tr>\n",
       "    <tr>\n",
       "      <th>1</th>\n",
       "      <td>166377</td>\n",
       "      <td>9</td>\n",
       "      <td>B</td>\n",
       "      <td>2000</td>\n",
       "      <td>909.0</td>\n",
       "      <td>4745.4</td>\n",
       "      <td>3509.0</td>\n",
       "      <td>3474.1</td>\n",
       "      <td>4</td>\n",
       "      <td>150</td>\n",
       "      <td>600</td>\n",
       "      <td>3509.0</td>\n",
       "    </tr>\n",
       "    <tr>\n",
       "      <th>2</th>\n",
       "      <td>166377</td>\n",
       "      <td>10</td>\n",
       "      <td>B</td>\n",
       "      <td>2000</td>\n",
       "      <td>852.0</td>\n",
       "      <td>4761.2</td>\n",
       "      <td>3602.0</td>\n",
       "      <td>3693.4</td>\n",
       "      <td>5</td>\n",
       "      <td>150</td>\n",
       "      <td>750</td>\n",
       "      <td>3602.0</td>\n",
       "    </tr>\n",
       "    <tr>\n",
       "      <th>3</th>\n",
       "      <td>166377</td>\n",
       "      <td>11</td>\n",
       "      <td>B</td>\n",
       "      <td>2000</td>\n",
       "      <td>816.5</td>\n",
       "      <td>4689.9</td>\n",
       "      <td>3416.5</td>\n",
       "      <td>3344.3</td>\n",
       "      <td>4</td>\n",
       "      <td>150</td>\n",
       "      <td>600</td>\n",
       "      <td>3416.5</td>\n",
       "    </tr>\n",
       "    <tr>\n",
       "      <th>4</th>\n",
       "      <td>166391</td>\n",
       "      <td>8</td>\n",
       "      <td>C</td>\n",
       "      <td>1000</td>\n",
       "      <td>0.3</td>\n",
       "      <td>4100.0</td>\n",
       "      <td>2300.0</td>\n",
       "      <td>1600.3</td>\n",
       "      <td>2</td>\n",
       "      <td>300</td>\n",
       "      <td>600</td>\n",
       "      <td>1600.3</td>\n",
       "    </tr>\n",
       "  </tbody>\n",
       "</table>\n",
       "</div>"
      ],
      "text/plain": [
       "   user_id  month tariff_plan  price  total_min_income  tarif_A  tarif_B  \\\n",
       "0   166377      8           B   2000             668.5   4651.1   3418.5   \n",
       "1   166377      9           B   2000             909.0   4745.4   3509.0   \n",
       "2   166377     10           B   2000             852.0   4761.2   3602.0   \n",
       "3   166377     11           B   2000             816.5   4689.9   3416.5   \n",
       "4   166391      8           C   1000               0.3   4100.0   2300.0   \n",
       "\n",
       "   tarif_C  number_of_operators  price_operator  income_oper  \\\n",
       "0   3438.3                    5             150          750   \n",
       "1   3474.1                    4             150          600   \n",
       "2   3693.4                    5             150          750   \n",
       "3   3344.3                    4             150          600   \n",
       "4   1600.3                    2             300          600   \n",
       "\n",
       "   the_current_tariff  \n",
       "0              3418.5  \n",
       "1              3509.0  \n",
       "2              3602.0  \n",
       "3              3416.5  \n",
       "4              1600.3  "
      ]
     },
     "execution_count": 112,
     "metadata": {},
     "output_type": "execute_result"
    }
   ],
   "source": [
    "calculate_tariffs_operator.head()"
   ]
  },
  {
   "cell_type": "code",
   "execution_count": 113,
   "metadata": {},
   "outputs": [],
   "source": [
    "# удаляем столбцы\n",
    "calculate_tariffs_operator.drop(['number_of_operators','price','total_min_income','price_operator','income_oper'], axis=1, inplace=True)"
   ]
  },
  {
   "cell_type": "code",
   "execution_count": 114,
   "metadata": {},
   "outputs": [
    {
     "data": {
      "text/html": [
       "<div>\n",
       "<style scoped>\n",
       "    .dataframe tbody tr th:only-of-type {\n",
       "        vertical-align: middle;\n",
       "    }\n",
       "\n",
       "    .dataframe tbody tr th {\n",
       "        vertical-align: top;\n",
       "    }\n",
       "\n",
       "    .dataframe thead th {\n",
       "        text-align: right;\n",
       "    }\n",
       "</style>\n",
       "<table border=\"1\" class=\"dataframe\">\n",
       "  <thead>\n",
       "    <tr style=\"text-align: right;\">\n",
       "      <th></th>\n",
       "      <th>user_id</th>\n",
       "      <th>month</th>\n",
       "      <th>tariff_plan</th>\n",
       "      <th>tarif_A</th>\n",
       "      <th>tarif_B</th>\n",
       "      <th>tarif_C</th>\n",
       "      <th>the_current_tariff</th>\n",
       "    </tr>\n",
       "  </thead>\n",
       "  <tbody>\n",
       "    <tr>\n",
       "      <th>0</th>\n",
       "      <td>166377</td>\n",
       "      <td>8</td>\n",
       "      <td>B</td>\n",
       "      <td>4651.1</td>\n",
       "      <td>3418.5</td>\n",
       "      <td>3438.3</td>\n",
       "      <td>3418.5</td>\n",
       "    </tr>\n",
       "    <tr>\n",
       "      <th>1</th>\n",
       "      <td>166377</td>\n",
       "      <td>9</td>\n",
       "      <td>B</td>\n",
       "      <td>4745.4</td>\n",
       "      <td>3509.0</td>\n",
       "      <td>3474.1</td>\n",
       "      <td>3509.0</td>\n",
       "    </tr>\n",
       "    <tr>\n",
       "      <th>2</th>\n",
       "      <td>166377</td>\n",
       "      <td>10</td>\n",
       "      <td>B</td>\n",
       "      <td>4761.2</td>\n",
       "      <td>3602.0</td>\n",
       "      <td>3693.4</td>\n",
       "      <td>3602.0</td>\n",
       "    </tr>\n",
       "    <tr>\n",
       "      <th>3</th>\n",
       "      <td>166377</td>\n",
       "      <td>11</td>\n",
       "      <td>B</td>\n",
       "      <td>4689.9</td>\n",
       "      <td>3416.5</td>\n",
       "      <td>3344.3</td>\n",
       "      <td>3416.5</td>\n",
       "    </tr>\n",
       "    <tr>\n",
       "      <th>4</th>\n",
       "      <td>166391</td>\n",
       "      <td>8</td>\n",
       "      <td>C</td>\n",
       "      <td>4100.0</td>\n",
       "      <td>2300.0</td>\n",
       "      <td>1600.3</td>\n",
       "      <td>1600.3</td>\n",
       "    </tr>\n",
       "  </tbody>\n",
       "</table>\n",
       "</div>"
      ],
      "text/plain": [
       "   user_id  month tariff_plan  tarif_A  tarif_B  tarif_C  the_current_tariff\n",
       "0   166377      8           B   4651.1   3418.5   3438.3              3418.5\n",
       "1   166377      9           B   4745.4   3509.0   3474.1              3509.0\n",
       "2   166377     10           B   4761.2   3602.0   3693.4              3602.0\n",
       "3   166377     11           B   4689.9   3416.5   3344.3              3416.5\n",
       "4   166391      8           C   4100.0   2300.0   1600.3              1600.3"
      ]
     },
     "execution_count": 114,
     "metadata": {},
     "output_type": "execute_result"
    }
   ],
   "source": [
    "calculate_tariffs_operator.head()"
   ]
  },
  {
   "cell_type": "markdown",
   "metadata": {},
   "source": [
    "Так как в задание сказано: сэкономят, если перейдут на более дорогой тариф и чаще всего понижать абонентскую плату ни кто из компаний не хочет, считаю рассматривать только повышение тарифа. Другими словами, у тарифа \"С\" есть опция перейти на тариф \"В\" или \"А\". У тарифа \"В\" есть опция перейти на тариф \"А\". Выше тарифа \"А\" вариантов перехода нет. "
   ]
  },
  {
   "cell_type": "code",
   "execution_count": 115,
   "metadata": {},
   "outputs": [],
   "source": [
    "def calculate_new_tarif(row):\n",
    "    \n",
    "    '''\n",
    "    Функция добавляет столбец new_tarif, куда заносятся самое меньшее значение из tarif_A, tarif_B, tarif_C с условием\n",
    "    \n",
    "    '''\n",
    "    columns = [row['tarif_A'], row['tarif_B'], row['tarif_C']]\n",
    "    cheapest_tarif = min(columns)\n",
    "    if cheapest_tarif == row['tarif_A']:\n",
    "        return \"A\"\n",
    "    elif (cheapest_tarif == row['tarif_B']) and (row['tariff_plan'] == \"C\"):\n",
    "        return \"B\"\n",
    "    \n",
    "        \n",
    "    else:\n",
    "        return row['tariff_plan']\n",
    "    \n",
    "# Применяем функцию к каждой строке датафрейма\n",
    "calculate_tariffs_operator['new_tarif'] = calculate_tariffs_operator.apply(calculate_new_tarif, axis=1)           "
   ]
  },
  {
   "cell_type": "code",
   "execution_count": 116,
   "metadata": {},
   "outputs": [
    {
     "data": {
      "text/html": [
       "<div>\n",
       "<style scoped>\n",
       "    .dataframe tbody tr th:only-of-type {\n",
       "        vertical-align: middle;\n",
       "    }\n",
       "\n",
       "    .dataframe tbody tr th {\n",
       "        vertical-align: top;\n",
       "    }\n",
       "\n",
       "    .dataframe thead th {\n",
       "        text-align: right;\n",
       "    }\n",
       "</style>\n",
       "<table border=\"1\" class=\"dataframe\">\n",
       "  <thead>\n",
       "    <tr style=\"text-align: right;\">\n",
       "      <th></th>\n",
       "      <th>user_id</th>\n",
       "      <th>month</th>\n",
       "      <th>tariff_plan</th>\n",
       "      <th>tarif_A</th>\n",
       "      <th>tarif_B</th>\n",
       "      <th>tarif_C</th>\n",
       "      <th>the_current_tariff</th>\n",
       "      <th>new_tarif</th>\n",
       "    </tr>\n",
       "  </thead>\n",
       "  <tbody>\n",
       "    <tr>\n",
       "      <th>0</th>\n",
       "      <td>166377</td>\n",
       "      <td>8</td>\n",
       "      <td>B</td>\n",
       "      <td>4651.1</td>\n",
       "      <td>3418.5</td>\n",
       "      <td>3438.3</td>\n",
       "      <td>3418.5</td>\n",
       "      <td>B</td>\n",
       "    </tr>\n",
       "    <tr>\n",
       "      <th>1</th>\n",
       "      <td>166377</td>\n",
       "      <td>9</td>\n",
       "      <td>B</td>\n",
       "      <td>4745.4</td>\n",
       "      <td>3509.0</td>\n",
       "      <td>3474.1</td>\n",
       "      <td>3509.0</td>\n",
       "      <td>B</td>\n",
       "    </tr>\n",
       "    <tr>\n",
       "      <th>2</th>\n",
       "      <td>166377</td>\n",
       "      <td>10</td>\n",
       "      <td>B</td>\n",
       "      <td>4761.2</td>\n",
       "      <td>3602.0</td>\n",
       "      <td>3693.4</td>\n",
       "      <td>3602.0</td>\n",
       "      <td>B</td>\n",
       "    </tr>\n",
       "    <tr>\n",
       "      <th>3</th>\n",
       "      <td>166377</td>\n",
       "      <td>11</td>\n",
       "      <td>B</td>\n",
       "      <td>4689.9</td>\n",
       "      <td>3416.5</td>\n",
       "      <td>3344.3</td>\n",
       "      <td>3416.5</td>\n",
       "      <td>B</td>\n",
       "    </tr>\n",
       "    <tr>\n",
       "      <th>4</th>\n",
       "      <td>166391</td>\n",
       "      <td>8</td>\n",
       "      <td>C</td>\n",
       "      <td>4100.0</td>\n",
       "      <td>2300.0</td>\n",
       "      <td>1600.3</td>\n",
       "      <td>1600.3</td>\n",
       "      <td>C</td>\n",
       "    </tr>\n",
       "  </tbody>\n",
       "</table>\n",
       "</div>"
      ],
      "text/plain": [
       "   user_id  month tariff_plan  tarif_A  tarif_B  tarif_C  the_current_tariff  \\\n",
       "0   166377      8           B   4651.1   3418.5   3438.3              3418.5   \n",
       "1   166377      9           B   4745.4   3509.0   3474.1              3509.0   \n",
       "2   166377     10           B   4761.2   3602.0   3693.4              3602.0   \n",
       "3   166377     11           B   4689.9   3416.5   3344.3              3416.5   \n",
       "4   166391      8           C   4100.0   2300.0   1600.3              1600.3   \n",
       "\n",
       "  new_tarif  \n",
       "0         B  \n",
       "1         B  \n",
       "2         B  \n",
       "3         B  \n",
       "4         C  "
      ]
     },
     "execution_count": 116,
     "metadata": {},
     "output_type": "execute_result"
    }
   ],
   "source": [
    "calculate_tariffs_operator.head()"
   ]
  },
  {
   "cell_type": "markdown",
   "metadata": {},
   "source": [
    "Что бы получить готовый для передачи список, понадобятся только активные клиенты и только те, у кого реальный расход не равен предполагаемому по новому тарифу"
   ]
  },
  {
   "cell_type": "code",
   "execution_count": 117,
   "metadata": {},
   "outputs": [],
   "source": [
    "the_transition_table = calculate_tariffs_operator.loc[(calculate_tariffs_operator['tariff_plan'] !=\\\n",
    "                                                       calculate_tariffs_operator['new_tarif']) & \\\n",
    "                                                      (calculate_tariffs_operator['month'] == 11)]"
   ]
  },
  {
   "cell_type": "code",
   "execution_count": 118,
   "metadata": {},
   "outputs": [
    {
     "name": "stderr",
     "output_type": "stream",
     "text": [
      "/opt/conda/lib/python3.9/site-packages/pandas/core/frame.py:4308: SettingWithCopyWarning: \n",
      "A value is trying to be set on a copy of a slice from a DataFrame\n",
      "\n",
      "See the caveats in the documentation: https://pandas.pydata.org/pandas-docs/stable/user_guide/indexing.html#returning-a-view-versus-a-copy\n",
      "  return super().drop(\n"
     ]
    }
   ],
   "source": [
    "# удаляем столбцы\n",
    "the_transition_table.drop(['month','tarif_A','tarif_B','tarif_C','the_current_tariff'], axis=1, inplace=True)"
   ]
  },
  {
   "cell_type": "markdown",
   "metadata": {},
   "source": [
    "Взглянем на готовый список для возможного перехода на более эффективный тариф."
   ]
  },
  {
   "cell_type": "code",
   "execution_count": 119,
   "metadata": {},
   "outputs": [
    {
     "data": {
      "text/html": [
       "<div>\n",
       "<style scoped>\n",
       "    .dataframe tbody tr th:only-of-type {\n",
       "        vertical-align: middle;\n",
       "    }\n",
       "\n",
       "    .dataframe tbody tr th {\n",
       "        vertical-align: top;\n",
       "    }\n",
       "\n",
       "    .dataframe thead th {\n",
       "        text-align: right;\n",
       "    }\n",
       "</style>\n",
       "<table border=\"1\" class=\"dataframe\">\n",
       "  <thead>\n",
       "    <tr style=\"text-align: right;\">\n",
       "      <th></th>\n",
       "      <th>user_id</th>\n",
       "      <th>tariff_plan</th>\n",
       "      <th>new_tarif</th>\n",
       "    </tr>\n",
       "  </thead>\n",
       "  <tbody>\n",
       "    <tr>\n",
       "      <th>15</th>\n",
       "      <td>166405</td>\n",
       "      <td>B</td>\n",
       "      <td>A</td>\n",
       "    </tr>\n",
       "    <tr>\n",
       "      <th>51</th>\n",
       "      <td>166511</td>\n",
       "      <td>C</td>\n",
       "      <td>B</td>\n",
       "    </tr>\n",
       "    <tr>\n",
       "      <th>55</th>\n",
       "      <td>166520</td>\n",
       "      <td>C</td>\n",
       "      <td>B</td>\n",
       "    </tr>\n",
       "    <tr>\n",
       "      <th>97</th>\n",
       "      <td>166658</td>\n",
       "      <td>B</td>\n",
       "      <td>A</td>\n",
       "    </tr>\n",
       "    <tr>\n",
       "      <th>117</th>\n",
       "      <td>166680</td>\n",
       "      <td>B</td>\n",
       "      <td>A</td>\n",
       "    </tr>\n",
       "  </tbody>\n",
       "</table>\n",
       "</div>"
      ],
      "text/plain": [
       "     user_id tariff_plan new_tarif\n",
       "15    166405           B         A\n",
       "51    166511           C         B\n",
       "55    166520           C         B\n",
       "97    166658           B         A\n",
       "117   166680           B         A"
      ]
     },
     "execution_count": 119,
     "metadata": {},
     "output_type": "execute_result"
    }
   ],
   "source": [
    "the_transition_table.head()"
   ]
  },
  {
   "cell_type": "markdown",
   "metadata": {},
   "source": [
    "Мы получили таблицу переходов, которую можно представить и использовать для обзвона кол центров, для предложения более выгодного для них тарифа. "
   ]
  },
  {
   "cell_type": "code",
   "execution_count": null,
   "metadata": {},
   "outputs": [],
   "source": []
  },
  {
   "cell_type": "markdown",
   "metadata": {},
   "source": [
    "Выведем количество кол центров, которые были активны в последний месяц"
   ]
  },
  {
   "cell_type": "code",
   "execution_count": 120,
   "metadata": {},
   "outputs": [
    {
     "data": {
      "text/plain": [
       "257"
      ]
     },
     "execution_count": 120,
     "metadata": {},
     "output_type": "execute_result"
    }
   ],
   "source": [
    "calculate = calculate_tariffs_operator[calculate_tariffs_operator['month'] == 11]['user_id'].unique()\n",
    "\n",
    "calculate.shape[0]"
   ]
  },
  {
   "cell_type": "markdown",
   "metadata": {},
   "source": [
    "Выведем количество кол центров, которые были активны в последний месяц и кому можно предложить переход на более выгодный тариф"
   ]
  },
  {
   "cell_type": "code",
   "execution_count": 121,
   "metadata": {},
   "outputs": [],
   "source": [
    "calculate_shape = calculate.shape[0]"
   ]
  },
  {
   "cell_type": "code",
   "execution_count": 122,
   "metadata": {},
   "outputs": [
    {
     "data": {
      "text/plain": [
       "15"
      ]
     },
     "execution_count": 122,
     "metadata": {},
     "output_type": "execute_result"
    }
   ],
   "source": [
    "the_transition_table.shape[0]"
   ]
  },
  {
   "cell_type": "code",
   "execution_count": 123,
   "metadata": {},
   "outputs": [],
   "source": [
    "transition_shape = the_transition_table.shape[0]"
   ]
  },
  {
   "cell_type": "markdown",
   "metadata": {},
   "source": [
    "Выведем процент кол центров, кому можно предложить переход на более выгодный тариф от общего кол-ва активных кол центров в последний исследуемый месяц"
   ]
  },
  {
   "cell_type": "code",
   "execution_count": 124,
   "metadata": {},
   "outputs": [
    {
     "name": "stdout",
     "output_type": "stream",
     "text": [
      "Процент кол центров, кому можно предложить переход: 5.84 %\n"
     ]
    }
   ],
   "source": [
    "user_conversion_rate  = round((transition_shape / calculate_shape) * 100, 2)\n",
    "print(\"Процент кол центров, кому можно предложить переход:\", user_conversion_rate, \"%\")"
   ]
  },
  {
   "cell_type": "markdown",
   "metadata": {},
   "source": [
    "Посчитаем изменение прибыли, если перейти на новый тариф."
   ]
  },
  {
   "cell_type": "code",
   "execution_count": 125,
   "metadata": {},
   "outputs": [
    {
     "data": {
      "text/html": [
       "<div>\n",
       "<style scoped>\n",
       "    .dataframe tbody tr th:only-of-type {\n",
       "        vertical-align: middle;\n",
       "    }\n",
       "\n",
       "    .dataframe tbody tr th {\n",
       "        vertical-align: top;\n",
       "    }\n",
       "\n",
       "    .dataframe thead th {\n",
       "        text-align: right;\n",
       "    }\n",
       "</style>\n",
       "<table border=\"1\" class=\"dataframe\">\n",
       "  <thead>\n",
       "    <tr style=\"text-align: right;\">\n",
       "      <th></th>\n",
       "      <th>user_id</th>\n",
       "      <th>month</th>\n",
       "      <th>tariff_plan</th>\n",
       "      <th>price</th>\n",
       "      <th>total_min_income</th>\n",
       "      <th>income_oper</th>\n",
       "      <th>total_all_income</th>\n",
       "    </tr>\n",
       "  </thead>\n",
       "  <tbody>\n",
       "    <tr>\n",
       "      <th>0</th>\n",
       "      <td>166377</td>\n",
       "      <td>8</td>\n",
       "      <td>B</td>\n",
       "      <td>2000</td>\n",
       "      <td>668.5</td>\n",
       "      <td>750</td>\n",
       "      <td>3418.5</td>\n",
       "    </tr>\n",
       "    <tr>\n",
       "      <th>1</th>\n",
       "      <td>166377</td>\n",
       "      <td>9</td>\n",
       "      <td>B</td>\n",
       "      <td>2000</td>\n",
       "      <td>909.0</td>\n",
       "      <td>600</td>\n",
       "      <td>3509.0</td>\n",
       "    </tr>\n",
       "    <tr>\n",
       "      <th>2</th>\n",
       "      <td>166377</td>\n",
       "      <td>10</td>\n",
       "      <td>B</td>\n",
       "      <td>2000</td>\n",
       "      <td>852.0</td>\n",
       "      <td>750</td>\n",
       "      <td>3602.0</td>\n",
       "    </tr>\n",
       "    <tr>\n",
       "      <th>3</th>\n",
       "      <td>166377</td>\n",
       "      <td>11</td>\n",
       "      <td>B</td>\n",
       "      <td>2000</td>\n",
       "      <td>816.5</td>\n",
       "      <td>600</td>\n",
       "      <td>3416.5</td>\n",
       "    </tr>\n",
       "    <tr>\n",
       "      <th>4</th>\n",
       "      <td>166391</td>\n",
       "      <td>8</td>\n",
       "      <td>C</td>\n",
       "      <td>1000</td>\n",
       "      <td>0.3</td>\n",
       "      <td>600</td>\n",
       "      <td>1600.3</td>\n",
       "    </tr>\n",
       "  </tbody>\n",
       "</table>\n",
       "</div>"
      ],
      "text/plain": [
       "   user_id  month tariff_plan  price  total_min_income  income_oper  \\\n",
       "0   166377      8           B   2000             668.5          750   \n",
       "1   166377      9           B   2000             909.0          600   \n",
       "2   166377     10           B   2000             852.0          750   \n",
       "3   166377     11           B   2000             816.5          600   \n",
       "4   166391      8           C   1000               0.3          600   \n",
       "\n",
       "   total_all_income  \n",
       "0            3418.5  \n",
       "1            3509.0  \n",
       "2            3602.0  \n",
       "3            3416.5  \n",
       "4            1600.3  "
      ]
     },
     "execution_count": 125,
     "metadata": {},
     "output_type": "execute_result"
    }
   ],
   "source": [
    "user_month_tariff.head()"
   ]
  },
  {
   "cell_type": "code",
   "execution_count": 126,
   "metadata": {},
   "outputs": [],
   "source": [
    "new_income = calculate_tariffs_operator[calculate_tariffs_operator['month'] == 11]"
   ]
  },
  {
   "cell_type": "code",
   "execution_count": 127,
   "metadata": {},
   "outputs": [
    {
     "data": {
      "text/html": [
       "<div>\n",
       "<style scoped>\n",
       "    .dataframe tbody tr th:only-of-type {\n",
       "        vertical-align: middle;\n",
       "    }\n",
       "\n",
       "    .dataframe tbody tr th {\n",
       "        vertical-align: top;\n",
       "    }\n",
       "\n",
       "    .dataframe thead th {\n",
       "        text-align: right;\n",
       "    }\n",
       "</style>\n",
       "<table border=\"1\" class=\"dataframe\">\n",
       "  <thead>\n",
       "    <tr style=\"text-align: right;\">\n",
       "      <th></th>\n",
       "      <th>user_id</th>\n",
       "      <th>month</th>\n",
       "      <th>tariff_plan</th>\n",
       "      <th>tarif_A</th>\n",
       "      <th>tarif_B</th>\n",
       "      <th>tarif_C</th>\n",
       "      <th>the_current_tariff</th>\n",
       "      <th>new_tarif</th>\n",
       "    </tr>\n",
       "  </thead>\n",
       "  <tbody>\n",
       "    <tr>\n",
       "      <th>3</th>\n",
       "      <td>166377</td>\n",
       "      <td>11</td>\n",
       "      <td>B</td>\n",
       "      <td>4689.9</td>\n",
       "      <td>3416.5</td>\n",
       "      <td>3344.3</td>\n",
       "      <td>3416.5</td>\n",
       "      <td>B</td>\n",
       "    </tr>\n",
       "    <tr>\n",
       "      <th>7</th>\n",
       "      <td>166391</td>\n",
       "      <td>11</td>\n",
       "      <td>C</td>\n",
       "      <td>4050.0</td>\n",
       "      <td>2150.0</td>\n",
       "      <td>1300.0</td>\n",
       "      <td>1300.0</td>\n",
       "      <td>C</td>\n",
       "    </tr>\n",
       "    <tr>\n",
       "      <th>11</th>\n",
       "      <td>166392</td>\n",
       "      <td>11</td>\n",
       "      <td>C</td>\n",
       "      <td>4100.0</td>\n",
       "      <td>2300.0</td>\n",
       "      <td>1600.0</td>\n",
       "      <td>1600.0</td>\n",
       "      <td>C</td>\n",
       "    </tr>\n",
       "    <tr>\n",
       "      <th>15</th>\n",
       "      <td>166405</td>\n",
       "      <td>11</td>\n",
       "      <td>B</td>\n",
       "      <td>6466.4</td>\n",
       "      <td>6644.0</td>\n",
       "      <td>8222.8</td>\n",
       "      <td>6644.0</td>\n",
       "      <td>A</td>\n",
       "    </tr>\n",
       "    <tr>\n",
       "      <th>19</th>\n",
       "      <td>166406</td>\n",
       "      <td>11</td>\n",
       "      <td>B</td>\n",
       "      <td>4341.8</td>\n",
       "      <td>2703.0</td>\n",
       "      <td>2164.2</td>\n",
       "      <td>2703.0</td>\n",
       "      <td>B</td>\n",
       "    </tr>\n",
       "  </tbody>\n",
       "</table>\n",
       "</div>"
      ],
      "text/plain": [
       "    user_id  month tariff_plan  tarif_A  tarif_B  tarif_C  the_current_tariff  \\\n",
       "3    166377     11           B   4689.9   3416.5   3344.3              3416.5   \n",
       "7    166391     11           C   4050.0   2150.0   1300.0              1300.0   \n",
       "11   166392     11           C   4100.0   2300.0   1600.0              1600.0   \n",
       "15   166405     11           B   6466.4   6644.0   8222.8              6644.0   \n",
       "19   166406     11           B   4341.8   2703.0   2164.2              2703.0   \n",
       "\n",
       "   new_tarif  \n",
       "3          B  \n",
       "7          C  \n",
       "11         C  \n",
       "15         A  \n",
       "19         B  "
      ]
     },
     "execution_count": 127,
     "metadata": {},
     "output_type": "execute_result"
    }
   ],
   "source": [
    "new_income.head()  "
   ]
  },
  {
   "cell_type": "markdown",
   "metadata": {},
   "source": [
    "Напишем функцию, что бы посчитать доходы по новым возможным тарифам (в случае переходов всех кол центров на них) "
   ]
  },
  {
   "cell_type": "code",
   "execution_count": 128,
   "metadata": {},
   "outputs": [
    {
     "name": "stderr",
     "output_type": "stream",
     "text": [
      "/tmp/ipykernel_288/3188780117.py:19: SettingWithCopyWarning: \n",
      "A value is trying to be set on a copy of a slice from a DataFrame.\n",
      "Try using .loc[row_indexer,col_indexer] = value instead\n",
      "\n",
      "See the caveats in the documentation: https://pandas.pydata.org/pandas-docs/stable/user_guide/indexing.html#returning-a-view-versus-a-copy\n",
      "  new_income['new_total_income'] = new_income.apply(calculate_total_income, axis=1)\n"
     ]
    }
   ],
   "source": [
    "def calculate_total_income(row):\n",
    "    \n",
    "    '''\n",
    "    Функция добавляет столбец new_total_income значения, в соответствие аббревиатуре тарифа из new_tarif и значений из \n",
    "    колонок tarif_A, tarif_B и tarif_C     \n",
    "    \n",
    "    ''' \n",
    "        \n",
    "    if row['new_tarif'] == 'A':\n",
    "        return row['tarif_A']\n",
    "    elif row['new_tarif'] == 'B':\n",
    "        return row['tarif_B']\n",
    "    elif row['new_tarif'] == 'C':\n",
    "        return row['tarif_C']\n",
    "    else:\n",
    "        return None\n",
    "\n",
    "\n",
    "new_income['new_total_income'] = new_income.apply(calculate_total_income, axis=1)\n"
   ]
  },
  {
   "cell_type": "code",
   "execution_count": 129,
   "metadata": {},
   "outputs": [
    {
     "data": {
      "text/html": [
       "<div>\n",
       "<style scoped>\n",
       "    .dataframe tbody tr th:only-of-type {\n",
       "        vertical-align: middle;\n",
       "    }\n",
       "\n",
       "    .dataframe tbody tr th {\n",
       "        vertical-align: top;\n",
       "    }\n",
       "\n",
       "    .dataframe thead th {\n",
       "        text-align: right;\n",
       "    }\n",
       "</style>\n",
       "<table border=\"1\" class=\"dataframe\">\n",
       "  <thead>\n",
       "    <tr style=\"text-align: right;\">\n",
       "      <th></th>\n",
       "      <th>user_id</th>\n",
       "      <th>month</th>\n",
       "      <th>tariff_plan</th>\n",
       "      <th>tarif_A</th>\n",
       "      <th>tarif_B</th>\n",
       "      <th>tarif_C</th>\n",
       "      <th>the_current_tariff</th>\n",
       "      <th>new_tarif</th>\n",
       "      <th>new_total_income</th>\n",
       "    </tr>\n",
       "  </thead>\n",
       "  <tbody>\n",
       "    <tr>\n",
       "      <th>3</th>\n",
       "      <td>166377</td>\n",
       "      <td>11</td>\n",
       "      <td>B</td>\n",
       "      <td>4689.9</td>\n",
       "      <td>3416.5</td>\n",
       "      <td>3344.3</td>\n",
       "      <td>3416.5</td>\n",
       "      <td>B</td>\n",
       "      <td>3416.5</td>\n",
       "    </tr>\n",
       "    <tr>\n",
       "      <th>7</th>\n",
       "      <td>166391</td>\n",
       "      <td>11</td>\n",
       "      <td>C</td>\n",
       "      <td>4050.0</td>\n",
       "      <td>2150.0</td>\n",
       "      <td>1300.0</td>\n",
       "      <td>1300.0</td>\n",
       "      <td>C</td>\n",
       "      <td>1300.0</td>\n",
       "    </tr>\n",
       "    <tr>\n",
       "      <th>11</th>\n",
       "      <td>166392</td>\n",
       "      <td>11</td>\n",
       "      <td>C</td>\n",
       "      <td>4100.0</td>\n",
       "      <td>2300.0</td>\n",
       "      <td>1600.0</td>\n",
       "      <td>1600.0</td>\n",
       "      <td>C</td>\n",
       "      <td>1600.0</td>\n",
       "    </tr>\n",
       "    <tr>\n",
       "      <th>15</th>\n",
       "      <td>166405</td>\n",
       "      <td>11</td>\n",
       "      <td>B</td>\n",
       "      <td>6466.4</td>\n",
       "      <td>6644.0</td>\n",
       "      <td>8222.8</td>\n",
       "      <td>6644.0</td>\n",
       "      <td>A</td>\n",
       "      <td>6466.4</td>\n",
       "    </tr>\n",
       "    <tr>\n",
       "      <th>19</th>\n",
       "      <td>166406</td>\n",
       "      <td>11</td>\n",
       "      <td>B</td>\n",
       "      <td>4341.8</td>\n",
       "      <td>2703.0</td>\n",
       "      <td>2164.2</td>\n",
       "      <td>2703.0</td>\n",
       "      <td>B</td>\n",
       "      <td>2703.0</td>\n",
       "    </tr>\n",
       "  </tbody>\n",
       "</table>\n",
       "</div>"
      ],
      "text/plain": [
       "    user_id  month tariff_plan  tarif_A  tarif_B  tarif_C  the_current_tariff  \\\n",
       "3    166377     11           B   4689.9   3416.5   3344.3              3416.5   \n",
       "7    166391     11           C   4050.0   2150.0   1300.0              1300.0   \n",
       "11   166392     11           C   4100.0   2300.0   1600.0              1600.0   \n",
       "15   166405     11           B   6466.4   6644.0   8222.8              6644.0   \n",
       "19   166406     11           B   4341.8   2703.0   2164.2              2703.0   \n",
       "\n",
       "   new_tarif  new_total_income  \n",
       "3          B            3416.5  \n",
       "7          C            1300.0  \n",
       "11         C            1600.0  \n",
       "15         A            6466.4  \n",
       "19         B            2703.0  "
      ]
     },
     "execution_count": 129,
     "metadata": {},
     "output_type": "execute_result"
    }
   ],
   "source": [
    "new_income.head()"
   ]
  },
  {
   "cell_type": "code",
   "execution_count": 130,
   "metadata": {},
   "outputs": [],
   "source": [
    "new_income_sum = new_income['new_total_income'].sum()"
   ]
  },
  {
   "cell_type": "code",
   "execution_count": 131,
   "metadata": {},
   "outputs": [
    {
     "data": {
      "text/plain": [
       "639588.0"
      ]
     },
     "execution_count": 131,
     "metadata": {},
     "output_type": "execute_result"
    }
   ],
   "source": [
    "new_income_sum"
   ]
  },
  {
   "cell_type": "markdown",
   "metadata": {},
   "source": [
    "Доход в реальности за ноябрь составил 646673. Сохраним его в переменную для рассчётов и выведем, на сколько изменился бы доход, если бы все кол центры выбрали бы перейти на более выгодный тариф по рекомендации. "
   ]
  },
  {
   "cell_type": "code",
   "execution_count": 132,
   "metadata": {},
   "outputs": [],
   "source": [
    "old_income = 646673.0"
   ]
  },
  {
   "cell_type": "code",
   "execution_count": 133,
   "metadata": {},
   "outputs": [
    {
     "name": "stdout",
     "output_type": "stream",
     "text": [
      "Потенциальный процент уменьшения прибыли за ноябрь: 1.1 %\n"
     ]
    }
   ],
   "source": [
    "# На какой % уменьшилась бы прибль за ноябрь\n",
    "\n",
    "conversion_rate = round(100 - ((new_income_sum / old_income) * 100), 2)\n",
    "print(\"Потенциальный процент уменьшения прибыли за ноябрь:\", conversion_rate, \"%\")"
   ]
  },
  {
   "cell_type": "markdown",
   "metadata": {},
   "source": [
    "Вывод:\n",
    "1) На данный момент можно говорить о том, что за исследуемые 4 месяца прибыль ростёт и в ноябре она составила 646673. \n",
    "2) За исследуемое время, средняя оплата по тарифу самая большая на \"А\". Самая низкая - \"С\"\n",
    "3) С течением времени выручка по тарифам так же ростёт. Но надо отметить, что на тарифе \"А\" выручка ростёт быстрее, чем на тарифе \"В\". На тарифе \"С\" выручка хоть и выросла с начала исследуемого периода к его концу, но рост был волнообразным.\n",
    "4) Переплаты клиентов на тарифе исходящий-внутренний не значительны. Они не превышают 140. \n",
    "5) Был сформирован список кол центров, кому можно было бы предложить переход на более выгодный для них тариф с повышением абонентской платы. Их число от общего не велико, 5.84 %. \n",
    "6) Потенциальное уменьшение прибыли от перехода на более выгодный тариф составило бы около 1.1%\n",
    "- Как видно из динамики роста прибыли, самый значительный идёт в тарифе А. Выгодно переводить клиентов в целом на тарифы с большей абонентской платой, т.к. их динамика роста наиболее высокая, а так же, это более стабильная и высокая прибыль для компании. "
   ]
  },
  {
   "cell_type": "code",
   "execution_count": null,
   "metadata": {},
   "outputs": [],
   "source": []
  },
  {
   "cell_type": "markdown",
   "metadata": {},
   "source": [
    "## Проверка гипотез"
   ]
  },
  {
   "cell_type": "markdown",
   "metadata": {},
   "source": [
    "### Стоимость услуг тарифного плана A больше, чем стоимость услуг тарифного плана B (за ноябрь )"
   ]
  },
  {
   "cell_type": "markdown",
   "metadata": {},
   "source": [
    "Нулевая гипотеза:\n",
    "H0 - средняя стоимость услуг на тарифных планах А и В за ноябрь одинаковы (статистически значимой разницы не имеют)\n",
    "H1 - средняя стоимость услуг на тарифных планах А и В за ноябрь различаются (имеют статистически значимую разницу)"
   ]
  },
  {
   "cell_type": "markdown",
   "metadata": {},
   "source": [
    "Здесь мы проведём два сравнения. Сравним тарифы А и В. И сравним тарифы В и С за актуальный период."
   ]
  },
  {
   "cell_type": "code",
   "execution_count": 134,
   "metadata": {},
   "outputs": [],
   "source": [
    "hip_1 = user_month_tariff[user_month_tariff['month'] == 11]"
   ]
  },
  {
   "cell_type": "code",
   "execution_count": 135,
   "metadata": {
    "scrolled": true
   },
   "outputs": [
    {
     "data": {
      "text/html": [
       "<div>\n",
       "<style scoped>\n",
       "    .dataframe tbody tr th:only-of-type {\n",
       "        vertical-align: middle;\n",
       "    }\n",
       "\n",
       "    .dataframe tbody tr th {\n",
       "        vertical-align: top;\n",
       "    }\n",
       "\n",
       "    .dataframe thead th {\n",
       "        text-align: right;\n",
       "    }\n",
       "</style>\n",
       "<table border=\"1\" class=\"dataframe\">\n",
       "  <thead>\n",
       "    <tr style=\"text-align: right;\">\n",
       "      <th></th>\n",
       "      <th>user_id</th>\n",
       "      <th>month</th>\n",
       "      <th>tariff_plan</th>\n",
       "      <th>price</th>\n",
       "      <th>total_min_income</th>\n",
       "      <th>income_oper</th>\n",
       "      <th>total_all_income</th>\n",
       "    </tr>\n",
       "  </thead>\n",
       "  <tbody>\n",
       "    <tr>\n",
       "      <th>3</th>\n",
       "      <td>166377</td>\n",
       "      <td>11</td>\n",
       "      <td>B</td>\n",
       "      <td>2000</td>\n",
       "      <td>816.5</td>\n",
       "      <td>600</td>\n",
       "      <td>3416.5</td>\n",
       "    </tr>\n",
       "    <tr>\n",
       "      <th>7</th>\n",
       "      <td>166391</td>\n",
       "      <td>11</td>\n",
       "      <td>C</td>\n",
       "      <td>1000</td>\n",
       "      <td>0.0</td>\n",
       "      <td>300</td>\n",
       "      <td>1300.0</td>\n",
       "    </tr>\n",
       "    <tr>\n",
       "      <th>11</th>\n",
       "      <td>166392</td>\n",
       "      <td>11</td>\n",
       "      <td>C</td>\n",
       "      <td>1000</td>\n",
       "      <td>0.0</td>\n",
       "      <td>600</td>\n",
       "      <td>1600.0</td>\n",
       "    </tr>\n",
       "    <tr>\n",
       "      <th>15</th>\n",
       "      <td>166405</td>\n",
       "      <td>11</td>\n",
       "      <td>B</td>\n",
       "      <td>2000</td>\n",
       "      <td>3444.0</td>\n",
       "      <td>1200</td>\n",
       "      <td>6644.0</td>\n",
       "    </tr>\n",
       "    <tr>\n",
       "      <th>19</th>\n",
       "      <td>166406</td>\n",
       "      <td>11</td>\n",
       "      <td>B</td>\n",
       "      <td>2000</td>\n",
       "      <td>403.0</td>\n",
       "      <td>300</td>\n",
       "      <td>2703.0</td>\n",
       "    </tr>\n",
       "  </tbody>\n",
       "</table>\n",
       "</div>"
      ],
      "text/plain": [
       "    user_id  month tariff_plan  price  total_min_income  income_oper  \\\n",
       "3    166377     11           B   2000             816.5          600   \n",
       "7    166391     11           C   1000               0.0          300   \n",
       "11   166392     11           C   1000               0.0          600   \n",
       "15   166405     11           B   2000            3444.0         1200   \n",
       "19   166406     11           B   2000             403.0          300   \n",
       "\n",
       "    total_all_income  \n",
       "3             3416.5  \n",
       "7             1300.0  \n",
       "11            1600.0  \n",
       "15            6644.0  \n",
       "19            2703.0  "
      ]
     },
     "execution_count": 135,
     "metadata": {},
     "output_type": "execute_result"
    }
   ],
   "source": [
    "hip_1.head()"
   ]
  },
  {
   "cell_type": "markdown",
   "metadata": {},
   "source": [
    "Сформируем выборки по интересующим нас тарифам. Сохраним их в разные переменные. "
   ]
  },
  {
   "cell_type": "code",
   "execution_count": 136,
   "metadata": {},
   "outputs": [],
   "source": [
    "t_1 = hip_1[hip_1['tariff_plan'] == 'A']\n",
    "t_2 = hip_1[hip_1['tariff_plan'] == 'B']\n",
    "t_3 = hip_1[hip_1['tariff_plan'] == 'C']"
   ]
  },
  {
   "cell_type": "markdown",
   "metadata": {},
   "source": [
    "Посмотрим на число кол центров в наших выборках (на разных тарифах)"
   ]
  },
  {
   "cell_type": "code",
   "execution_count": 137,
   "metadata": {},
   "outputs": [
    {
     "data": {
      "text/plain": [
       "27"
      ]
     },
     "execution_count": 137,
     "metadata": {},
     "output_type": "execute_result"
    }
   ],
   "source": [
    "# Число кол центров на тарифном плане \"А\"\n",
    "t_1['user_id'].count()"
   ]
  },
  {
   "cell_type": "code",
   "execution_count": 138,
   "metadata": {},
   "outputs": [
    {
     "data": {
      "text/plain": [
       "96"
      ]
     },
     "execution_count": 138,
     "metadata": {},
     "output_type": "execute_result"
    }
   ],
   "source": [
    "# Число кол центров на тарифном плане \"В\"\n",
    "t_2['user_id'].count()"
   ]
  },
  {
   "cell_type": "code",
   "execution_count": 139,
   "metadata": {},
   "outputs": [
    {
     "data": {
      "text/plain": [
       "134"
      ]
     },
     "execution_count": 139,
     "metadata": {},
     "output_type": "execute_result"
    }
   ],
   "source": [
    "# Число кол центров на тарифном плане \"C\"\n",
    "t_3['user_id'].count()"
   ]
  },
  {
   "cell_type": "markdown",
   "metadata": {},
   "source": [
    "Мы видим, что число кол центров сильно различаются. Это значит, что выборки не равны и нам нужно использовать t-test для не зависимых выборок."
   ]
  },
  {
   "cell_type": "code",
   "execution_count": null,
   "metadata": {},
   "outputs": [],
   "source": []
  },
  {
   "cell_type": "markdown",
   "metadata": {},
   "source": [
    "Выведем данные, для тарифных планов \"А\" и \"В\" за ноябрь."
   ]
  },
  {
   "cell_type": "code",
   "execution_count": 140,
   "metadata": {},
   "outputs": [],
   "source": [
    "costs_A = hip_1[hip_1['tariff_plan'] == 'A']['total_all_income']\n",
    "costs_B = hip_1[hip_1['tariff_plan'] == 'B']['total_all_income']\n",
    "costs_C = hip_1[hip_1['tariff_plan'] == 'C']['total_all_income']"
   ]
  },
  {
   "cell_type": "code",
   "execution_count": null,
   "metadata": {},
   "outputs": [],
   "source": []
  },
  {
   "cell_type": "markdown",
   "metadata": {},
   "source": [
    "Проведём t-test для не зависимых выборок A и B"
   ]
  },
  {
   "cell_type": "code",
   "execution_count": 141,
   "metadata": {},
   "outputs": [
    {
     "name": "stdout",
     "output_type": "stream",
     "text": [
      "p-значение: 8.697807287565102e-07\n",
      "Отвергаем нулевую теорию. Средняя стоимость услуг в ноябре на тарифных планах A и B различаются\n",
      "\n",
      "Средняя стоимость тарифа А: 4908.71\n",
      "Средняя стоимость тарифа В: 2741.08\n",
      "\n",
      "Отличие средней стоимости тарифа А от В: 44%\n"
     ]
    }
   ],
   "source": [
    "t_stat, p_value = st.ttest_ind(costs_A, costs_B, equal_var = False)\n",
    "\n",
    "# Уровень значимости\n",
    "alpha = 0.05\n",
    "\n",
    "# Уровень значимости с поправкой Бонферрони\n",
    "alpha_bonferroni = alpha / 2  # Для двух сравнений\n",
    "\n",
    "# Выведем результат\n",
    "print('p-значение:', p_value)\n",
    "\n",
    "if p_value < alpha_bonferroni:\n",
    "\n",
    "    print('Отвергаем нулевую теорию. Средняя стоимость услуг в ноябре на тарифных планах A и B различаются')\n",
    "\n",
    "else:\n",
    "    \n",
    "    print('Не твергаем нулевую теорию. Средняя стоимость услуг в ноябре на тарифных планах A и B не различаются')\n",
    "    \n",
    "print()    \n",
    "print('Средняя стоимость тарифа А: {:.2f}'.format(costs_A.mean()))\n",
    "print('Средняя стоимость тарифа В: {:.2f}'.format(costs_B.mean()))\n",
    "print()\n",
    "print('Отличие средней стоимости тарифа А от В: {:.0%}'\\\n",
    "      .format(1-costs_B.mean()/costs_A.mean()))    \n"
   ]
  },
  {
   "cell_type": "code",
   "execution_count": null,
   "metadata": {},
   "outputs": [],
   "source": []
  },
  {
   "cell_type": "markdown",
   "metadata": {},
   "source": [
    "Проведём t-test для не зависимых выборок A и С"
   ]
  },
  {
   "cell_type": "code",
   "execution_count": 142,
   "metadata": {},
   "outputs": [
    {
     "name": "stdout",
     "output_type": "stream",
     "text": [
      "p-значение: 3.0968317505111204e-09\n",
      "Отвергаем нулевую теорию. Средняя стоимость услуг в ноябре на тарифных планах B и C различаются\n",
      "\n",
      "Средняя стоимость тарифа B: 2741.08\n",
      "Средняя стоимость тарифа C: 1873.10\n",
      "\n",
      "Отличие средней стоимости тарифа А от В: 32%\n"
     ]
    }
   ],
   "source": [
    "t_stat, p_value = st.ttest_ind(costs_B, costs_C, equal_var = False)\n",
    "\n",
    "# Уровень значимости\n",
    "alpha = 0.05\n",
    "\n",
    "# Уровень значимости с поправкой Бонферрони\n",
    "alpha_bonferroni = alpha / 2  # Для двух сравнений\n",
    "\n",
    "# Выведем результат\n",
    "print('p-значение:', p_value)\n",
    "\n",
    "if p_value < alpha_bonferroni:\n",
    "\n",
    "    print('Отвергаем нулевую теорию. Средняя стоимость услуг в ноябре на тарифных планах B и C различаются')\n",
    "\n",
    "else:\n",
    "    \n",
    "    print('Не твергаем нулевую теорию. Средняя стоимость услуг в ноябре на тарифных планах B и C не различаются')\n",
    "    \n",
    "print()    \n",
    "print('Средняя стоимость тарифа B: {:.2f}'.format(costs_B.mean()))\n",
    "print('Средняя стоимость тарифа C: {:.2f}'.format(costs_C.mean()))\n",
    "print()\n",
    "print('Отличие средней стоимости тарифа А от В: {:.0%}'\\\n",
    "      .format(1-costs_C.mean()/costs_B.mean()))     \n"
   ]
  },
  {
   "cell_type": "markdown",
   "metadata": {},
   "source": [
    "### Выдвинем гипотезу, что выручка после оптимизации тарифов будет  статистически значимо такая же, как и до"
   ]
  },
  {
   "cell_type": "markdown",
   "metadata": {},
   "source": [
    "Нулевая гипотеза:\n",
    "- H0 - выручка статистически значимо не изменится\n",
    "- H1 - выручка изменится статистически значимо"
   ]
  },
  {
   "cell_type": "code",
   "execution_count": 143,
   "metadata": {},
   "outputs": [
    {
     "name": "stdout",
     "output_type": "stream",
     "text": [
      "p-значение: 0.008\n",
      "Отвергаем нулевую гипотезу\n",
      "\n",
      "Усреднённый доход до изменений тарифов: 2516.24\n",
      "Усреднённый доход после изменений тарифов: 2488.67\n",
      "\n",
      "Отличие среднего чека после изменений тарифов от среднего чека до изменений тарифов: 1%\n"
     ]
    }
   ],
   "source": [
    "# задайте уровень статистической значимости\n",
    "alpha = 0.05\n",
    "\n",
    "before = new_income['the_current_tariff']\n",
    "after = new_income['new_total_income']\n",
    "\n",
    "results =  st.ttest_rel(before, after)# проведите тест и посчитайте p-значение\n",
    "\n",
    "# выведите на экран полученное p-значение\n",
    "print('p-значение: {0:.3f}'.format(results.pvalue))\n",
    "\n",
    "if results.pvalue < alpha:  # сравните p-значение с заданным уровнем значимости alpha\n",
    "    print('Отвергаем нулевую гипотезу')\n",
    "else:\n",
    "    print('Не получилось отвергнуть нулевую гипотезу')\n",
    "    \n",
    "\n",
    "print()\n",
    "print('Усреднённый доход до изменений тарифов: {:.2f}'.format(before.mean()))\n",
    "print('Усреднённый доход после изменений тарифов: {:.2f}'.format(after.mean()))\n",
    "print()\n",
    "print('Отличие среднего чека после изменений тарифов от среднего чека до изменений тарифов: {:.0%}'\\\n",
    "      .format(1-after.mean()/before.mean()))    "
   ]
  },
  {
   "cell_type": "markdown",
   "metadata": {},
   "source": [
    "Вывод:\n",
    "- прибыль от операторов находящихся на разных тарифах отличается значительно. \n",
    "- средний чек уменьшится после изменения тарифов, но не значительно."
   ]
  },
  {
   "cell_type": "code",
   "execution_count": null,
   "metadata": {},
   "outputs": [],
   "source": []
  },
  {
   "cell_type": "markdown",
   "metadata": {},
   "source": [
    "## Общие выводы и рекомендации"
   ]
  },
  {
   "cell_type": "markdown",
   "metadata": {},
   "source": [
    "1. Выводы:\n",
    "\n",
    "- В процессе предобрапотки данных были удалены 117 пропусков в колонке internal. Пропуски в operator_id были оставлены без изменения. Был изменен на актуальный формат у столбцов operator_id, date_start и date. В последнем было убрало указание временной зоны. Строки с отсутствием id оператора были оставлены без изменения. Были удалены явные дубликаты в числе 4893 штук.\n",
    "- Судя по цифрам в колонках call_duration и total_call_duration, речь идёт о том, что это секунды. Для анализа они переводились в часы и минуты.\n",
    "- Присутствуют разговоры чуть более 50 часов в сутки, что точно не нормально. Есть некоторое кол-во разговоров польше 20 часов в сутки. Учитывая то, что время взято звонков с учётом ожиданий, мы имеем дело или с ошибками агрегации, или под одним id оператора работают фактически несколько человек в кол центре. Так как в данном исследование не предполагается изучать более детально время звонков в разрезе операторов, то время звонков ограничу разумными 8 часами смены(хотя скорей всего чистое время звонков при 8 часовой смене в кол центрах должно быть меньше этого времени). Список операторов с аномалиями был составлен. Число записей содержащих такие аномалии достаточно мал - 0.33%. Такие записи были удалены. \n",
    "- В ноябре было 257 активных клиентов (кол центров)\n",
    "- Переплата у активных клиентов по исходящим внутренним звонкам выявлена у 33. Размер переплаты не превышает 140 условных единиц. При этом в ноябре значительных переплат не наблюдалось.\n",
    "- Выручка ростёт от месяца к месяцу и в ноябре составила 646674 условных единиц.\n",
    "- Выручка ростёт на всех тарифах. В августе выручка по тарифам A и C были примерно равны и отставала от тарифа B. К концу же наблюдаемого периода выручка тарифа C практически сравнялась с выручкой от B, и они опережают выручку от тарифа A в абсолютных значениях.\n",
    "- В среднем, клиент тарифа A платит почти в два раза больше, чем на тарифе B. Те, кто на тарифе C платят в среднем меньше всего.\n",
    "- В среднем, активные клиенты со временем приносят компании больший доход на любом тарифе. Выручка на тарифе А ростёт немного быстрее прочих тарифов. На тарифе C хоть рост так же есть, но там он проходит волнообразно.\n",
    "- Из 257 активных клиентов, только 15 оказались на тарифах, изменив который в сторону повышения абонентской платы, они смогли бы сэкономить. \n",
    "- Их число от общего не велико, 5.84 %\n",
    "- Потенциальное уменьшение прибыли от перехода на более выгодный тариф составило бы около 1.1%\n",
    "\n",
    "2. Рекомендации:\n",
    "\n",
    "- В связи с тем, что потенциальный рост прибыли от клиентов на тарифе А, чем на других тарифах, предложил бы маркетинговую компанию строить \"подсвечивая\" выгодность именно этого тарифа. \n",
    "- Тарифы с абонентской платой и бесплатными внутренними минутами, по росту прибыли, выглядят стабильней. В рекламных компаниях и маркетинговых изысканиях считаю нужным, уделить этому аспекту больше внимания. \n",
    "- Работа над лояльностью, в том числе и предложению перехода на более дорогой с точки зрения абонентской платы тариф, но позволяющий по итогу экономить пользователю, считаю рациональным. \n",
    "- Разработка дополнительных услуг или опций, доступных только на более \"старших\" тарифах, могла бы побудить к переходу старых и приходу новых клиентов именно на тарифы с большей абонентской платой. \n",
    "- Рекомендую понять причины того, что у некоторых клиентов есть операторы, с большой продолжительностью времени разговора. Возможно, в некоторых кол центрах, несколько операторов работают под одной и той же учётной записью. Если это подтвердится и удасться дальнейшую работу с данным клиентом построить на честной оплате за операторов, это могло бы повысить прибль.  \n"
   ]
  },
  {
   "cell_type": "code",
   "execution_count": null,
   "metadata": {},
   "outputs": [],
   "source": []
  },
  {
   "cell_type": "code",
   "execution_count": null,
   "metadata": {},
   "outputs": [],
   "source": []
  }
 ],
 "metadata": {
  "ExecuteTimeLog": [
   {
    "duration": 1301,
    "start_time": "2023-12-14T07:54:28.548Z"
   },
   {
    "duration": 124,
    "start_time": "2023-12-14T07:54:39.442Z"
   },
   {
    "duration": 83,
    "start_time": "2023-12-14T07:54:47.445Z"
   },
   {
    "duration": 14,
    "start_time": "2023-12-14T07:54:57.239Z"
   },
   {
    "duration": 7,
    "start_time": "2023-12-14T07:55:09.634Z"
   },
   {
    "duration": 18,
    "start_time": "2023-12-14T07:55:30.974Z"
   },
   {
    "duration": 10,
    "start_time": "2023-12-14T07:55:57.795Z"
   },
   {
    "duration": 5,
    "start_time": "2023-12-14T07:58:05.640Z"
   },
   {
    "duration": 7,
    "start_time": "2023-12-14T08:05:45.205Z"
   },
   {
    "duration": 46,
    "start_time": "2023-12-14T08:09:23.126Z"
   },
   {
    "duration": 8,
    "start_time": "2023-12-14T08:09:42.155Z"
   },
   {
    "duration": 5,
    "start_time": "2023-12-14T08:11:53.545Z"
   },
   {
    "duration": 12,
    "start_time": "2023-12-14T08:12:04.948Z"
   },
   {
    "duration": 84,
    "start_time": "2023-12-14T08:21:57.202Z"
   },
   {
    "duration": 0,
    "start_time": "2023-12-14T08:21:57.288Z"
   },
   {
    "duration": 0,
    "start_time": "2023-12-14T08:21:57.289Z"
   },
   {
    "duration": 0,
    "start_time": "2023-12-14T08:21:57.290Z"
   },
   {
    "duration": 0,
    "start_time": "2023-12-14T08:21:57.291Z"
   },
   {
    "duration": 0,
    "start_time": "2023-12-14T08:21:57.292Z"
   },
   {
    "duration": 0,
    "start_time": "2023-12-14T08:21:57.293Z"
   },
   {
    "duration": 0,
    "start_time": "2023-12-14T08:21:57.294Z"
   },
   {
    "duration": 0,
    "start_time": "2023-12-14T08:21:57.295Z"
   },
   {
    "duration": 0,
    "start_time": "2023-12-14T08:21:57.296Z"
   },
   {
    "duration": 0,
    "start_time": "2023-12-14T08:21:57.297Z"
   },
   {
    "duration": 0,
    "start_time": "2023-12-14T08:21:57.298Z"
   },
   {
    "duration": 0,
    "start_time": "2023-12-14T08:21:57.299Z"
   },
   {
    "duration": 0,
    "start_time": "2023-12-14T08:21:57.300Z"
   },
   {
    "duration": 1099,
    "start_time": "2023-12-14T08:22:09.398Z"
   },
   {
    "duration": 129,
    "start_time": "2023-12-14T08:22:10.499Z"
   },
   {
    "duration": 0,
    "start_time": "2023-12-14T08:22:10.630Z"
   },
   {
    "duration": 0,
    "start_time": "2023-12-14T08:22:10.632Z"
   },
   {
    "duration": 0,
    "start_time": "2023-12-14T08:22:10.633Z"
   },
   {
    "duration": 0,
    "start_time": "2023-12-14T08:22:10.634Z"
   },
   {
    "duration": 0,
    "start_time": "2023-12-14T08:22:10.635Z"
   },
   {
    "duration": 0,
    "start_time": "2023-12-14T08:22:10.637Z"
   },
   {
    "duration": 0,
    "start_time": "2023-12-14T08:22:10.638Z"
   },
   {
    "duration": 0,
    "start_time": "2023-12-14T08:22:10.639Z"
   },
   {
    "duration": 0,
    "start_time": "2023-12-14T08:22:10.641Z"
   },
   {
    "duration": 0,
    "start_time": "2023-12-14T08:22:10.642Z"
   },
   {
    "duration": 0,
    "start_time": "2023-12-14T08:22:10.644Z"
   },
   {
    "duration": 306,
    "start_time": "2023-12-14T08:22:26.427Z"
   },
   {
    "duration": 39,
    "start_time": "2023-12-14T08:22:27.680Z"
   },
   {
    "duration": 1121,
    "start_time": "2023-12-14T08:22:35.767Z"
   },
   {
    "duration": 290,
    "start_time": "2023-12-14T08:22:36.890Z"
   },
   {
    "duration": 21,
    "start_time": "2023-12-14T08:22:37.184Z"
   },
   {
    "duration": 14,
    "start_time": "2023-12-14T08:22:37.207Z"
   },
   {
    "duration": 10,
    "start_time": "2023-12-14T08:22:37.222Z"
   },
   {
    "duration": 30,
    "start_time": "2023-12-14T08:22:37.233Z"
   },
   {
    "duration": 10,
    "start_time": "2023-12-14T08:22:37.265Z"
   },
   {
    "duration": 20,
    "start_time": "2023-12-14T08:22:37.276Z"
   },
   {
    "duration": 14,
    "start_time": "2023-12-14T08:22:37.298Z"
   },
   {
    "duration": 14,
    "start_time": "2023-12-14T08:22:37.313Z"
   },
   {
    "duration": 13,
    "start_time": "2023-12-14T08:22:37.329Z"
   },
   {
    "duration": 22,
    "start_time": "2023-12-14T08:22:37.343Z"
   },
   {
    "duration": 21,
    "start_time": "2023-12-14T08:22:37.367Z"
   },
   {
    "duration": 1240,
    "start_time": "2023-12-14T08:25:13.351Z"
   },
   {
    "duration": 307,
    "start_time": "2023-12-14T08:25:14.593Z"
   },
   {
    "duration": 23,
    "start_time": "2023-12-14T08:25:14.902Z"
   },
   {
    "duration": 13,
    "start_time": "2023-12-14T08:25:14.927Z"
   },
   {
    "duration": 10,
    "start_time": "2023-12-14T08:25:14.943Z"
   },
   {
    "duration": 18,
    "start_time": "2023-12-14T08:25:14.954Z"
   },
   {
    "duration": 9,
    "start_time": "2023-12-14T08:25:14.974Z"
   },
   {
    "duration": 10,
    "start_time": "2023-12-14T08:25:14.984Z"
   },
   {
    "duration": 16,
    "start_time": "2023-12-14T08:25:14.996Z"
   },
   {
    "duration": 60,
    "start_time": "2023-12-14T08:25:15.013Z"
   },
   {
    "duration": 25,
    "start_time": "2023-12-14T08:25:15.074Z"
   },
   {
    "duration": 38,
    "start_time": "2023-12-14T08:25:15.100Z"
   },
   {
    "duration": 31,
    "start_time": "2023-12-14T08:25:15.140Z"
   },
   {
    "duration": 11,
    "start_time": "2023-12-14T08:26:57.956Z"
   },
   {
    "duration": 5,
    "start_time": "2023-12-14T08:27:16.763Z"
   },
   {
    "duration": 19,
    "start_time": "2023-12-14T08:27:37.504Z"
   },
   {
    "duration": 10,
    "start_time": "2023-12-14T08:31:40.344Z"
   },
   {
    "duration": 19,
    "start_time": "2023-12-14T08:33:43.385Z"
   },
   {
    "duration": 22,
    "start_time": "2023-12-14T08:33:52.468Z"
   },
   {
    "duration": 80,
    "start_time": "2023-12-14T08:34:01.432Z"
   },
   {
    "duration": 14,
    "start_time": "2023-12-14T08:34:23.052Z"
   },
   {
    "duration": 11,
    "start_time": "2023-12-14T08:34:42.249Z"
   },
   {
    "duration": 10,
    "start_time": "2023-12-14T08:35:53.559Z"
   },
   {
    "duration": 9,
    "start_time": "2023-12-14T08:36:04.534Z"
   },
   {
    "duration": 5,
    "start_time": "2023-12-14T08:36:14.018Z"
   },
   {
    "duration": 10,
    "start_time": "2023-12-14T08:36:50.382Z"
   },
   {
    "duration": 8,
    "start_time": "2023-12-14T08:37:02.828Z"
   },
   {
    "duration": 8,
    "start_time": "2023-12-14T08:37:12.222Z"
   },
   {
    "duration": 85,
    "start_time": "2023-12-14T08:37:48.557Z"
   },
   {
    "duration": 16,
    "start_time": "2023-12-14T08:38:03.584Z"
   },
   {
    "duration": 18,
    "start_time": "2023-12-14T08:38:13.277Z"
   },
   {
    "duration": 19,
    "start_time": "2023-12-14T08:38:28.273Z"
   },
   {
    "duration": 146,
    "start_time": "2023-12-14T08:38:36.637Z"
   },
   {
    "duration": 171,
    "start_time": "2023-12-14T08:50:06.739Z"
   },
   {
    "duration": 94,
    "start_time": "2023-12-14T08:51:48.733Z"
   },
   {
    "duration": 12,
    "start_time": "2023-12-14T08:52:24.888Z"
   },
   {
    "duration": 93,
    "start_time": "2023-12-14T09:11:33.446Z"
   },
   {
    "duration": 91,
    "start_time": "2023-12-14T09:12:12.016Z"
   },
   {
    "duration": 107,
    "start_time": "2023-12-14T09:14:49.149Z"
   },
   {
    "duration": 104,
    "start_time": "2023-12-14T09:17:23.013Z"
   },
   {
    "duration": 106,
    "start_time": "2023-12-14T09:17:50.065Z"
   },
   {
    "duration": 127,
    "start_time": "2023-12-14T09:18:24.380Z"
   },
   {
    "duration": 155,
    "start_time": "2023-12-14T09:18:33.764Z"
   },
   {
    "duration": 137,
    "start_time": "2023-12-14T09:18:43.138Z"
   },
   {
    "duration": 26,
    "start_time": "2023-12-14T09:20:34.786Z"
   },
   {
    "duration": 8,
    "start_time": "2023-12-14T09:20:55.115Z"
   },
   {
    "duration": 4,
    "start_time": "2023-12-14T09:23:37.556Z"
   },
   {
    "duration": 9,
    "start_time": "2023-12-14T09:24:02.175Z"
   },
   {
    "duration": 113,
    "start_time": "2023-12-14T09:24:16.520Z"
   },
   {
    "duration": 113,
    "start_time": "2023-12-14T09:24:39.362Z"
   },
   {
    "duration": 377,
    "start_time": "2023-12-14T09:25:03.217Z"
   },
   {
    "duration": 6,
    "start_time": "2023-12-14T09:26:16.783Z"
   },
   {
    "duration": 4,
    "start_time": "2023-12-14T09:26:24.096Z"
   },
   {
    "duration": 69,
    "start_time": "2023-12-14T09:26:32.910Z"
   },
   {
    "duration": 3,
    "start_time": "2023-12-14T09:26:47.377Z"
   },
   {
    "duration": 10,
    "start_time": "2023-12-14T09:27:15.471Z"
   },
   {
    "duration": 18,
    "start_time": "2023-12-14T09:27:47.061Z"
   },
   {
    "duration": 18,
    "start_time": "2023-12-14T09:28:05.399Z"
   },
   {
    "duration": 78,
    "start_time": "2023-12-14T09:29:13.237Z"
   },
   {
    "duration": 4,
    "start_time": "2023-12-14T09:29:27.293Z"
   },
   {
    "duration": 4,
    "start_time": "2023-12-14T09:29:35.817Z"
   },
   {
    "duration": 7,
    "start_time": "2023-12-14T09:30:10.712Z"
   },
   {
    "duration": 10,
    "start_time": "2023-12-14T09:33:26.773Z"
   },
   {
    "duration": 12,
    "start_time": "2023-12-14T11:10:11.682Z"
   },
   {
    "duration": 3,
    "start_time": "2023-12-14T11:10:30.080Z"
   },
   {
    "duration": 11,
    "start_time": "2023-12-14T11:10:48.717Z"
   },
   {
    "duration": 11,
    "start_time": "2023-12-14T11:11:08.875Z"
   },
   {
    "duration": 6,
    "start_time": "2023-12-14T11:17:53.619Z"
   },
   {
    "duration": 11,
    "start_time": "2023-12-14T11:18:16.475Z"
   },
   {
    "duration": 16,
    "start_time": "2023-12-14T11:18:24.667Z"
   },
   {
    "duration": 7,
    "start_time": "2023-12-14T11:18:33.476Z"
   },
   {
    "duration": 8,
    "start_time": "2023-12-14T11:20:39.611Z"
   },
   {
    "duration": 9,
    "start_time": "2023-12-14T11:20:46.339Z"
   },
   {
    "duration": 10,
    "start_time": "2023-12-14T11:20:56.228Z"
   },
   {
    "duration": 11,
    "start_time": "2023-12-14T11:21:45.768Z"
   },
   {
    "duration": 4,
    "start_time": "2023-12-14T11:21:54.493Z"
   },
   {
    "duration": 5,
    "start_time": "2023-12-14T11:22:02.166Z"
   },
   {
    "duration": 4,
    "start_time": "2023-12-14T11:22:12.298Z"
   },
   {
    "duration": 12,
    "start_time": "2023-12-14T11:22:18.934Z"
   },
   {
    "duration": 4,
    "start_time": "2023-12-14T11:22:28.649Z"
   },
   {
    "duration": 5,
    "start_time": "2023-12-14T11:22:39.115Z"
   },
   {
    "duration": 9,
    "start_time": "2023-12-14T11:22:46.721Z"
   },
   {
    "duration": 3,
    "start_time": "2023-12-14T11:22:56.340Z"
   },
   {
    "duration": 12,
    "start_time": "2023-12-14T11:23:04.013Z"
   },
   {
    "duration": 6,
    "start_time": "2023-12-14T11:23:11.572Z"
   },
   {
    "duration": 19,
    "start_time": "2023-12-14T11:23:16.868Z"
   },
   {
    "duration": 7,
    "start_time": "2023-12-14T11:23:25.025Z"
   },
   {
    "duration": 104,
    "start_time": "2023-12-14T11:24:55.449Z"
   },
   {
    "duration": 103,
    "start_time": "2023-12-14T11:27:20.704Z"
   },
   {
    "duration": 1141,
    "start_time": "2023-12-14T11:29:00.817Z"
   },
   {
    "duration": 310,
    "start_time": "2023-12-14T11:29:01.960Z"
   },
   {
    "duration": 24,
    "start_time": "2023-12-14T11:29:02.272Z"
   },
   {
    "duration": 20,
    "start_time": "2023-12-14T11:29:02.299Z"
   },
   {
    "duration": 31,
    "start_time": "2023-12-14T11:29:02.321Z"
   },
   {
    "duration": 18,
    "start_time": "2023-12-14T11:29:02.354Z"
   },
   {
    "duration": 10,
    "start_time": "2023-12-14T11:29:02.373Z"
   },
   {
    "duration": 31,
    "start_time": "2023-12-14T11:29:02.385Z"
   },
   {
    "duration": 16,
    "start_time": "2023-12-14T11:29:02.418Z"
   },
   {
    "duration": 53,
    "start_time": "2023-12-14T11:29:02.437Z"
   },
   {
    "duration": 36,
    "start_time": "2023-12-14T11:29:02.492Z"
   },
   {
    "duration": 62,
    "start_time": "2023-12-14T11:29:02.529Z"
   },
   {
    "duration": 21,
    "start_time": "2023-12-14T11:29:02.592Z"
   },
   {
    "duration": 20,
    "start_time": "2023-12-14T11:29:02.615Z"
   },
   {
    "duration": 66,
    "start_time": "2023-12-14T11:29:02.637Z"
   },
   {
    "duration": 0,
    "start_time": "2023-12-14T11:29:02.705Z"
   },
   {
    "duration": 0,
    "start_time": "2023-12-14T11:29:02.707Z"
   },
   {
    "duration": 0,
    "start_time": "2023-12-14T11:29:02.708Z"
   },
   {
    "duration": 0,
    "start_time": "2023-12-14T11:29:02.708Z"
   },
   {
    "duration": 0,
    "start_time": "2023-12-14T11:29:02.709Z"
   },
   {
    "duration": 0,
    "start_time": "2023-12-14T11:29:02.710Z"
   },
   {
    "duration": 0,
    "start_time": "2023-12-14T11:29:02.711Z"
   },
   {
    "duration": 0,
    "start_time": "2023-12-14T11:29:02.712Z"
   },
   {
    "duration": 0,
    "start_time": "2023-12-14T11:29:02.713Z"
   },
   {
    "duration": 0,
    "start_time": "2023-12-14T11:29:02.714Z"
   },
   {
    "duration": 0,
    "start_time": "2023-12-14T11:29:02.715Z"
   },
   {
    "duration": 0,
    "start_time": "2023-12-14T11:29:02.717Z"
   },
   {
    "duration": 0,
    "start_time": "2023-12-14T11:29:02.718Z"
   },
   {
    "duration": 0,
    "start_time": "2023-12-14T11:29:02.719Z"
   },
   {
    "duration": 0,
    "start_time": "2023-12-14T11:29:02.720Z"
   },
   {
    "duration": 0,
    "start_time": "2023-12-14T11:29:02.721Z"
   },
   {
    "duration": 0,
    "start_time": "2023-12-14T11:29:02.722Z"
   },
   {
    "duration": 0,
    "start_time": "2023-12-14T11:29:02.723Z"
   },
   {
    "duration": 0,
    "start_time": "2023-12-14T11:29:02.724Z"
   },
   {
    "duration": 0,
    "start_time": "2023-12-14T11:29:02.725Z"
   },
   {
    "duration": 0,
    "start_time": "2023-12-14T11:29:02.726Z"
   },
   {
    "duration": 0,
    "start_time": "2023-12-14T11:29:02.727Z"
   },
   {
    "duration": 0,
    "start_time": "2023-12-14T11:29:02.728Z"
   },
   {
    "duration": 0,
    "start_time": "2023-12-14T11:29:02.729Z"
   },
   {
    "duration": 0,
    "start_time": "2023-12-14T11:29:02.730Z"
   },
   {
    "duration": 0,
    "start_time": "2023-12-14T11:29:02.731Z"
   },
   {
    "duration": 0,
    "start_time": "2023-12-14T11:29:02.732Z"
   },
   {
    "duration": 0,
    "start_time": "2023-12-14T11:29:02.733Z"
   },
   {
    "duration": 0,
    "start_time": "2023-12-14T11:29:02.734Z"
   },
   {
    "duration": 0,
    "start_time": "2023-12-14T11:29:02.735Z"
   },
   {
    "duration": 0,
    "start_time": "2023-12-14T11:29:02.736Z"
   },
   {
    "duration": 0,
    "start_time": "2023-12-14T11:29:02.737Z"
   },
   {
    "duration": 0,
    "start_time": "2023-12-14T11:29:02.739Z"
   },
   {
    "duration": 1,
    "start_time": "2023-12-14T11:29:02.739Z"
   },
   {
    "duration": 0,
    "start_time": "2023-12-14T11:29:02.765Z"
   },
   {
    "duration": 0,
    "start_time": "2023-12-14T11:29:02.766Z"
   },
   {
    "duration": 0,
    "start_time": "2023-12-14T11:29:02.767Z"
   },
   {
    "duration": 0,
    "start_time": "2023-12-14T11:29:02.768Z"
   },
   {
    "duration": 0,
    "start_time": "2023-12-14T11:29:02.769Z"
   },
   {
    "duration": 0,
    "start_time": "2023-12-14T11:29:02.771Z"
   },
   {
    "duration": 0,
    "start_time": "2023-12-14T11:29:02.772Z"
   },
   {
    "duration": 0,
    "start_time": "2023-12-14T11:29:02.773Z"
   },
   {
    "duration": 0,
    "start_time": "2023-12-14T11:29:02.774Z"
   },
   {
    "duration": 0,
    "start_time": "2023-12-14T11:29:02.775Z"
   },
   {
    "duration": 0,
    "start_time": "2023-12-14T11:29:02.776Z"
   },
   {
    "duration": 0,
    "start_time": "2023-12-14T11:29:02.778Z"
   },
   {
    "duration": 0,
    "start_time": "2023-12-14T11:29:02.779Z"
   },
   {
    "duration": 0,
    "start_time": "2023-12-14T11:29:02.780Z"
   },
   {
    "duration": 0,
    "start_time": "2023-12-14T11:29:02.781Z"
   },
   {
    "duration": 0,
    "start_time": "2023-12-14T11:29:02.782Z"
   },
   {
    "duration": 0,
    "start_time": "2023-12-14T11:29:02.783Z"
   },
   {
    "duration": 0,
    "start_time": "2023-12-14T11:29:02.784Z"
   },
   {
    "duration": 0,
    "start_time": "2023-12-14T11:29:02.785Z"
   },
   {
    "duration": 0,
    "start_time": "2023-12-14T11:29:02.786Z"
   },
   {
    "duration": 0,
    "start_time": "2023-12-14T11:29:02.787Z"
   },
   {
    "duration": 0,
    "start_time": "2023-12-14T11:29:02.788Z"
   },
   {
    "duration": 0,
    "start_time": "2023-12-14T11:29:02.789Z"
   },
   {
    "duration": 0,
    "start_time": "2023-12-14T11:29:02.790Z"
   },
   {
    "duration": 1247,
    "start_time": "2023-12-14T11:29:57.920Z"
   },
   {
    "duration": 331,
    "start_time": "2023-12-14T11:29:59.169Z"
   },
   {
    "duration": 23,
    "start_time": "2023-12-14T11:29:59.502Z"
   },
   {
    "duration": 19,
    "start_time": "2023-12-14T11:29:59.527Z"
   },
   {
    "duration": 10,
    "start_time": "2023-12-14T11:29:59.548Z"
   },
   {
    "duration": 25,
    "start_time": "2023-12-14T11:29:59.559Z"
   },
   {
    "duration": 11,
    "start_time": "2023-12-14T11:29:59.586Z"
   },
   {
    "duration": 6,
    "start_time": "2023-12-14T11:29:59.598Z"
   },
   {
    "duration": 9,
    "start_time": "2023-12-14T11:29:59.605Z"
   },
   {
    "duration": 17,
    "start_time": "2023-12-14T11:29:59.617Z"
   },
   {
    "duration": 33,
    "start_time": "2023-12-14T11:29:59.636Z"
   },
   {
    "duration": 16,
    "start_time": "2023-12-14T11:29:59.671Z"
   },
   {
    "duration": 32,
    "start_time": "2023-12-14T11:29:59.689Z"
   },
   {
    "duration": 8,
    "start_time": "2023-12-14T11:29:59.722Z"
   },
   {
    "duration": 19,
    "start_time": "2023-12-14T11:29:59.732Z"
   },
   {
    "duration": 17,
    "start_time": "2023-12-14T11:29:59.753Z"
   },
   {
    "duration": 21,
    "start_time": "2023-12-14T11:29:59.771Z"
   },
   {
    "duration": 24,
    "start_time": "2023-12-14T11:29:59.793Z"
   },
   {
    "duration": 48,
    "start_time": "2023-12-14T11:29:59.819Z"
   },
   {
    "duration": 11,
    "start_time": "2023-12-14T11:29:59.869Z"
   },
   {
    "duration": 11,
    "start_time": "2023-12-14T11:29:59.882Z"
   },
   {
    "duration": 17,
    "start_time": "2023-12-14T11:29:59.895Z"
   },
   {
    "duration": 7,
    "start_time": "2023-12-14T11:29:59.914Z"
   },
   {
    "duration": 10,
    "start_time": "2023-12-14T11:29:59.923Z"
   },
   {
    "duration": 40,
    "start_time": "2023-12-14T11:29:59.934Z"
   },
   {
    "duration": 18,
    "start_time": "2023-12-14T11:29:59.976Z"
   },
   {
    "duration": 17,
    "start_time": "2023-12-14T11:29:59.996Z"
   },
   {
    "duration": 19,
    "start_time": "2023-12-14T11:30:00.018Z"
   },
   {
    "duration": 47,
    "start_time": "2023-12-14T11:30:00.039Z"
   },
   {
    "duration": 209,
    "start_time": "2023-12-14T11:30:00.088Z"
   },
   {
    "duration": 225,
    "start_time": "2023-12-14T11:30:00.298Z"
   },
   {
    "duration": 154,
    "start_time": "2023-12-14T11:30:00.525Z"
   },
   {
    "duration": 25,
    "start_time": "2023-12-14T11:30:00.681Z"
   },
   {
    "duration": 83,
    "start_time": "2023-12-14T11:30:00.708Z"
   },
   {
    "duration": 85,
    "start_time": "2023-12-14T11:30:00.793Z"
   },
   {
    "duration": 58,
    "start_time": "2023-12-14T11:30:00.880Z"
   },
   {
    "duration": 157,
    "start_time": "2023-12-14T11:30:00.940Z"
   },
   {
    "duration": 365,
    "start_time": "2023-12-14T11:30:01.098Z"
   },
   {
    "duration": 8,
    "start_time": "2023-12-14T11:30:01.464Z"
   },
   {
    "duration": 144,
    "start_time": "2023-12-14T11:30:01.473Z"
   },
   {
    "duration": 58,
    "start_time": "2023-12-14T11:30:01.619Z"
   },
   {
    "duration": 72,
    "start_time": "2023-12-14T11:30:01.679Z"
   },
   {
    "duration": 76,
    "start_time": "2023-12-14T11:30:01.753Z"
   },
   {
    "duration": 64,
    "start_time": "2023-12-14T11:30:01.830Z"
   },
   {
    "duration": 18,
    "start_time": "2023-12-14T11:30:01.895Z"
   },
   {
    "duration": 48,
    "start_time": "2023-12-14T11:30:01.915Z"
   },
   {
    "duration": 16,
    "start_time": "2023-12-14T11:30:01.965Z"
   },
   {
    "duration": 25,
    "start_time": "2023-12-14T11:30:01.985Z"
   },
   {
    "duration": 73,
    "start_time": "2023-12-14T11:30:02.012Z"
   },
   {
    "duration": 67,
    "start_time": "2023-12-14T11:30:02.087Z"
   },
   {
    "duration": 54,
    "start_time": "2023-12-14T11:30:02.156Z"
   },
   {
    "duration": 42,
    "start_time": "2023-12-14T11:30:02.212Z"
   },
   {
    "duration": 28,
    "start_time": "2023-12-14T11:30:02.256Z"
   },
   {
    "duration": 48,
    "start_time": "2023-12-14T11:30:02.286Z"
   },
   {
    "duration": 63,
    "start_time": "2023-12-14T11:30:02.336Z"
   },
   {
    "duration": 151,
    "start_time": "2023-12-14T11:30:02.401Z"
   },
   {
    "duration": 9,
    "start_time": "2023-12-14T11:30:02.554Z"
   },
   {
    "duration": 25,
    "start_time": "2023-12-14T11:30:02.565Z"
   },
   {
    "duration": 20,
    "start_time": "2023-12-14T11:30:02.592Z"
   },
   {
    "duration": 33,
    "start_time": "2023-12-14T11:30:02.614Z"
   },
   {
    "duration": 19,
    "start_time": "2023-12-14T11:30:02.649Z"
   },
   {
    "duration": 16,
    "start_time": "2023-12-14T11:30:02.670Z"
   },
   {
    "duration": 35,
    "start_time": "2023-12-14T11:30:02.688Z"
   },
   {
    "duration": 21,
    "start_time": "2023-12-14T11:30:02.725Z"
   },
   {
    "duration": 55,
    "start_time": "2023-12-14T11:30:02.748Z"
   },
   {
    "duration": 24,
    "start_time": "2023-12-14T11:30:02.805Z"
   },
   {
    "duration": 26,
    "start_time": "2023-12-14T11:30:02.831Z"
   },
   {
    "duration": 16,
    "start_time": "2023-12-14T11:30:02.858Z"
   },
   {
    "duration": 31,
    "start_time": "2023-12-14T11:30:02.875Z"
   },
   {
    "duration": 23,
    "start_time": "2023-12-14T11:30:02.907Z"
   },
   {
    "duration": 22,
    "start_time": "2023-12-14T11:30:02.931Z"
   },
   {
    "duration": 27,
    "start_time": "2023-12-14T11:30:02.955Z"
   },
   {
    "duration": 4,
    "start_time": "2023-12-14T11:40:58.305Z"
   },
   {
    "duration": 347,
    "start_time": "2023-12-14T11:42:30.029Z"
   },
   {
    "duration": 14,
    "start_time": "2023-12-14T11:44:07.172Z"
   },
   {
    "duration": 6,
    "start_time": "2023-12-14T11:44:13.820Z"
   },
   {
    "duration": 7,
    "start_time": "2023-12-14T11:44:23.034Z"
   },
   {
    "duration": 7,
    "start_time": "2023-12-14T11:44:30.078Z"
   },
   {
    "duration": 14,
    "start_time": "2023-12-14T11:44:42.300Z"
   },
   {
    "duration": 7,
    "start_time": "2023-12-14T11:44:49.966Z"
   },
   {
    "duration": 4,
    "start_time": "2023-12-14T11:45:09.374Z"
   },
   {
    "duration": 9,
    "start_time": "2023-12-14T11:45:15.826Z"
   },
   {
    "duration": 9,
    "start_time": "2023-12-14T11:45:32.683Z"
   },
   {
    "duration": 9,
    "start_time": "2023-12-14T11:45:40.707Z"
   },
   {
    "duration": 8,
    "start_time": "2023-12-14T11:45:50.243Z"
   },
   {
    "duration": 9,
    "start_time": "2023-12-14T11:45:57.287Z"
   },
   {
    "duration": 77,
    "start_time": "2023-12-14T11:46:07.292Z"
   },
   {
    "duration": 4,
    "start_time": "2023-12-14T11:46:18.755Z"
   },
   {
    "duration": 9,
    "start_time": "2023-12-14T11:46:26.911Z"
   },
   {
    "duration": 5,
    "start_time": "2023-12-14T11:46:34.164Z"
   },
   {
    "duration": 9,
    "start_time": "2023-12-14T11:46:40.537Z"
   },
   {
    "duration": 4,
    "start_time": "2023-12-14T11:46:57.499Z"
   },
   {
    "duration": 5,
    "start_time": "2023-12-14T11:47:05.907Z"
   },
   {
    "duration": 140,
    "start_time": "2023-12-14T11:47:19.299Z"
   },
   {
    "duration": 8,
    "start_time": "2023-12-14T11:48:18.408Z"
   },
   {
    "duration": 229,
    "start_time": "2023-12-14T11:48:25.998Z"
   },
   {
    "duration": 5,
    "start_time": "2023-12-14T11:49:32.988Z"
   },
   {
    "duration": 133,
    "start_time": "2023-12-14T11:49:40.273Z"
   },
   {
    "duration": 8,
    "start_time": "2023-12-14T11:50:22.500Z"
   },
   {
    "duration": 237,
    "start_time": "2023-12-14T11:50:31.593Z"
   },
   {
    "duration": 12,
    "start_time": "2023-12-14T11:51:29.090Z"
   },
   {
    "duration": 66,
    "start_time": "2023-12-14T11:51:40.493Z"
   },
   {
    "duration": 4,
    "start_time": "2023-12-14T11:51:48.147Z"
   },
   {
    "duration": 15,
    "start_time": "2023-12-14T11:52:01.603Z"
   },
   {
    "duration": 11,
    "start_time": "2023-12-14T11:52:10.127Z"
   },
   {
    "duration": 11,
    "start_time": "2023-12-14T11:52:17.290Z"
   },
   {
    "duration": 7,
    "start_time": "2023-12-14T11:52:27.265Z"
   },
   {
    "duration": 7,
    "start_time": "2023-12-14T11:52:34.170Z"
   },
   {
    "duration": 12,
    "start_time": "2023-12-14T11:52:42.200Z"
   },
   {
    "duration": 142,
    "start_time": "2023-12-14T11:52:52.035Z"
   },
   {
    "duration": 12,
    "start_time": "2023-12-14T11:53:00.518Z"
   },
   {
    "duration": 4,
    "start_time": "2023-12-14T11:53:12.865Z"
   },
   {
    "duration": 13,
    "start_time": "2023-12-14T11:53:21.407Z"
   },
   {
    "duration": 5,
    "start_time": "2023-12-14T11:53:35.625Z"
   },
   {
    "duration": 10,
    "start_time": "2023-12-14T11:53:41.834Z"
   },
   {
    "duration": 18,
    "start_time": "2023-12-14T11:54:02.602Z"
   },
   {
    "duration": 11,
    "start_time": "2023-12-14T11:54:09.896Z"
   },
   {
    "duration": 5,
    "start_time": "2023-12-14T11:54:33.802Z"
   },
   {
    "duration": 5,
    "start_time": "2023-12-14T11:54:44.083Z"
   },
   {
    "duration": 7,
    "start_time": "2023-12-14T11:55:03.660Z"
   },
   {
    "duration": 5,
    "start_time": "2023-12-14T11:55:37.374Z"
   },
   {
    "duration": 2,
    "start_time": "2023-12-14T11:55:59.525Z"
   },
   {
    "duration": 3,
    "start_time": "2023-12-14T11:56:05.640Z"
   },
   {
    "duration": 2,
    "start_time": "2023-12-14T11:56:12.929Z"
   },
   {
    "duration": 4,
    "start_time": "2023-12-14T11:56:28.435Z"
   },
   {
    "duration": 9,
    "start_time": "2023-12-14T11:56:59.778Z"
   },
   {
    "duration": 4,
    "start_time": "2023-12-14T11:57:09.142Z"
   },
   {
    "duration": 12,
    "start_time": "2023-12-14T11:57:14.944Z"
   },
   {
    "duration": 9,
    "start_time": "2023-12-14T11:57:36.048Z"
   },
   {
    "duration": 10,
    "start_time": "2023-12-14T11:57:44.887Z"
   },
   {
    "duration": 1110,
    "start_time": "2023-12-14T11:57:55.713Z"
   },
   {
    "duration": 297,
    "start_time": "2023-12-14T11:57:56.825Z"
   },
   {
    "duration": 23,
    "start_time": "2023-12-14T11:57:57.123Z"
   },
   {
    "duration": 14,
    "start_time": "2023-12-14T11:57:57.148Z"
   },
   {
    "duration": 16,
    "start_time": "2023-12-14T11:57:57.164Z"
   },
   {
    "duration": 19,
    "start_time": "2023-12-14T11:57:57.181Z"
   },
   {
    "duration": 9,
    "start_time": "2023-12-14T11:57:57.201Z"
   },
   {
    "duration": 11,
    "start_time": "2023-12-14T11:57:57.211Z"
   },
   {
    "duration": 7,
    "start_time": "2023-12-14T11:57:57.223Z"
   },
   {
    "duration": 18,
    "start_time": "2023-12-14T11:57:57.231Z"
   },
   {
    "duration": 17,
    "start_time": "2023-12-14T11:57:57.250Z"
   },
   {
    "duration": 17,
    "start_time": "2023-12-14T11:57:57.268Z"
   },
   {
    "duration": 10,
    "start_time": "2023-12-14T11:57:57.286Z"
   },
   {
    "duration": 10,
    "start_time": "2023-12-14T11:57:57.298Z"
   },
   {
    "duration": 36,
    "start_time": "2023-12-14T11:57:57.310Z"
   },
   {
    "duration": 8,
    "start_time": "2023-12-14T11:57:57.348Z"
   },
   {
    "duration": 40,
    "start_time": "2023-12-14T11:57:57.357Z"
   },
   {
    "duration": 43,
    "start_time": "2023-12-14T11:57:57.399Z"
   },
   {
    "duration": 13,
    "start_time": "2023-12-14T11:57:57.443Z"
   },
   {
    "duration": 15,
    "start_time": "2023-12-14T11:57:57.458Z"
   },
   {
    "duration": 19,
    "start_time": "2023-12-14T11:57:57.474Z"
   },
   {
    "duration": 25,
    "start_time": "2023-12-14T11:57:57.495Z"
   },
   {
    "duration": 8,
    "start_time": "2023-12-14T11:57:57.521Z"
   },
   {
    "duration": 14,
    "start_time": "2023-12-14T11:57:57.530Z"
   },
   {
    "duration": 7,
    "start_time": "2023-12-14T11:57:57.546Z"
   },
   {
    "duration": 7,
    "start_time": "2023-12-14T11:57:57.555Z"
   },
   {
    "duration": 16,
    "start_time": "2023-12-14T11:57:57.565Z"
   },
   {
    "duration": 17,
    "start_time": "2023-12-14T11:57:57.583Z"
   },
   {
    "duration": 20,
    "start_time": "2023-12-14T11:57:57.601Z"
   },
   {
    "duration": 170,
    "start_time": "2023-12-14T11:57:57.622Z"
   },
   {
    "duration": 214,
    "start_time": "2023-12-14T11:57:57.793Z"
   },
   {
    "duration": 142,
    "start_time": "2023-12-14T11:57:58.008Z"
   },
   {
    "duration": 29,
    "start_time": "2023-12-14T11:57:58.152Z"
   },
   {
    "duration": 7,
    "start_time": "2023-12-14T11:57:58.183Z"
   },
   {
    "duration": 5,
    "start_time": "2023-12-14T11:57:58.191Z"
   },
   {
    "duration": 10,
    "start_time": "2023-12-14T11:57:58.197Z"
   },
   {
    "duration": 122,
    "start_time": "2023-12-14T11:57:58.209Z"
   },
   {
    "duration": 301,
    "start_time": "2023-12-14T11:57:58.332Z"
   },
   {
    "duration": 5,
    "start_time": "2023-12-14T11:57:58.635Z"
   },
   {
    "duration": 5,
    "start_time": "2023-12-14T11:57:58.641Z"
   },
   {
    "duration": 14,
    "start_time": "2023-12-14T11:57:58.651Z"
   },
   {
    "duration": 11,
    "start_time": "2023-12-14T11:57:58.666Z"
   },
   {
    "duration": 16,
    "start_time": "2023-12-14T11:57:58.679Z"
   },
   {
    "duration": 18,
    "start_time": "2023-12-14T11:57:58.697Z"
   },
   {
    "duration": 4,
    "start_time": "2023-12-14T11:57:58.717Z"
   },
   {
    "duration": 8,
    "start_time": "2023-12-14T11:57:58.723Z"
   },
   {
    "duration": 39,
    "start_time": "2023-12-14T11:57:58.732Z"
   },
   {
    "duration": 10,
    "start_time": "2023-12-14T11:57:58.772Z"
   },
   {
    "duration": 25,
    "start_time": "2023-12-14T11:57:58.784Z"
   },
   {
    "duration": 4,
    "start_time": "2023-12-14T11:57:58.810Z"
   },
   {
    "duration": 16,
    "start_time": "2023-12-14T11:57:58.816Z"
   },
   {
    "duration": 10,
    "start_time": "2023-12-14T11:57:58.834Z"
   },
   {
    "duration": 6,
    "start_time": "2023-12-14T11:57:58.845Z"
   },
   {
    "duration": 21,
    "start_time": "2023-12-14T11:57:58.853Z"
   },
   {
    "duration": 29,
    "start_time": "2023-12-14T11:57:58.876Z"
   },
   {
    "duration": 10,
    "start_time": "2023-12-14T11:57:58.907Z"
   },
   {
    "duration": 40,
    "start_time": "2023-12-14T11:57:58.920Z"
   },
   {
    "duration": 27,
    "start_time": "2023-12-14T11:57:58.962Z"
   },
   {
    "duration": 11,
    "start_time": "2023-12-14T11:57:58.991Z"
   },
   {
    "duration": 18,
    "start_time": "2023-12-14T11:57:59.004Z"
   },
   {
    "duration": 4,
    "start_time": "2023-12-14T11:57:59.024Z"
   },
   {
    "duration": 8,
    "start_time": "2023-12-14T11:57:59.030Z"
   },
   {
    "duration": 7,
    "start_time": "2023-12-14T11:57:59.040Z"
   },
   {
    "duration": 16,
    "start_time": "2023-12-14T11:57:59.049Z"
   },
   {
    "duration": 4,
    "start_time": "2023-12-14T11:57:59.066Z"
   },
   {
    "duration": 8,
    "start_time": "2023-12-14T11:57:59.071Z"
   },
   {
    "duration": 7,
    "start_time": "2023-12-14T11:57:59.081Z"
   },
   {
    "duration": 3,
    "start_time": "2023-12-14T11:57:59.090Z"
   },
   {
    "duration": 13,
    "start_time": "2023-12-14T11:57:59.094Z"
   },
   {
    "duration": 5,
    "start_time": "2023-12-14T11:57:59.109Z"
   },
   {
    "duration": 13,
    "start_time": "2023-12-14T11:57:59.116Z"
   },
   {
    "duration": 9,
    "start_time": "2023-12-14T11:57:59.130Z"
   },
   {
    "duration": 4,
    "start_time": "2023-12-14T11:57:59.164Z"
   },
   {
    "duration": 331,
    "start_time": "2023-12-14T11:57:59.169Z"
   },
   {
    "duration": 11,
    "start_time": "2023-12-14T11:57:59.501Z"
   },
   {
    "duration": 6,
    "start_time": "2023-12-14T11:57:59.513Z"
   },
   {
    "duration": 6,
    "start_time": "2023-12-14T11:57:59.521Z"
   },
   {
    "duration": 6,
    "start_time": "2023-12-14T11:57:59.529Z"
   },
   {
    "duration": 12,
    "start_time": "2023-12-14T11:57:59.536Z"
   },
   {
    "duration": 16,
    "start_time": "2023-12-14T11:57:59.550Z"
   },
   {
    "duration": 4,
    "start_time": "2023-12-14T11:57:59.567Z"
   },
   {
    "duration": 7,
    "start_time": "2023-12-14T11:57:59.572Z"
   },
   {
    "duration": 7,
    "start_time": "2023-12-14T11:57:59.581Z"
   },
   {
    "duration": 7,
    "start_time": "2023-12-14T11:57:59.590Z"
   },
   {
    "duration": 14,
    "start_time": "2023-12-14T11:57:59.598Z"
   },
   {
    "duration": 16,
    "start_time": "2023-12-14T11:57:59.613Z"
   },
   {
    "duration": 5,
    "start_time": "2023-12-14T11:57:59.630Z"
   },
   {
    "duration": 29,
    "start_time": "2023-12-14T11:57:59.637Z"
   },
   {
    "duration": 4,
    "start_time": "2023-12-14T11:57:59.667Z"
   },
   {
    "duration": 22,
    "start_time": "2023-12-14T11:57:59.673Z"
   },
   {
    "duration": 12,
    "start_time": "2023-12-14T11:57:59.696Z"
   },
   {
    "duration": 5,
    "start_time": "2023-12-14T11:57:59.709Z"
   },
   {
    "duration": 139,
    "start_time": "2023-12-14T11:57:59.716Z"
   },
   {
    "duration": 14,
    "start_time": "2023-12-14T11:57:59.856Z"
   },
   {
    "duration": 242,
    "start_time": "2023-12-14T11:57:59.871Z"
   },
   {
    "duration": 4,
    "start_time": "2023-12-14T11:58:00.115Z"
   },
   {
    "duration": 137,
    "start_time": "2023-12-14T11:58:00.120Z"
   },
   {
    "duration": 9,
    "start_time": "2023-12-14T11:58:00.259Z"
   },
   {
    "duration": 255,
    "start_time": "2023-12-14T11:58:00.269Z"
   },
   {
    "duration": 14,
    "start_time": "2023-12-14T11:58:00.526Z"
   },
   {
    "duration": 153,
    "start_time": "2023-12-14T11:58:00.541Z"
   },
   {
    "duration": 24,
    "start_time": "2023-12-14T11:58:00.696Z"
   },
   {
    "duration": 104,
    "start_time": "2023-12-14T11:58:00.722Z"
   },
   {
    "duration": 86,
    "start_time": "2023-12-14T11:58:00.828Z"
   },
   {
    "duration": 49,
    "start_time": "2023-12-14T11:58:00.915Z"
   },
   {
    "duration": 41,
    "start_time": "2023-12-14T11:58:00.965Z"
   },
   {
    "duration": 60,
    "start_time": "2023-12-14T11:58:01.007Z"
   },
   {
    "duration": 80,
    "start_time": "2023-12-14T11:58:01.068Z"
   },
   {
    "duration": 116,
    "start_time": "2023-12-14T11:58:01.149Z"
   },
   {
    "duration": 11,
    "start_time": "2023-12-14T11:58:01.267Z"
   },
   {
    "duration": 66,
    "start_time": "2023-12-14T11:58:01.280Z"
   },
   {
    "duration": 58,
    "start_time": "2023-12-14T11:58:01.347Z"
   },
   {
    "duration": 37,
    "start_time": "2023-12-14T11:58:01.406Z"
   },
   {
    "duration": 69,
    "start_time": "2023-12-14T11:58:01.444Z"
   },
   {
    "duration": 56,
    "start_time": "2023-12-14T11:58:01.514Z"
   },
   {
    "duration": 54,
    "start_time": "2023-12-14T11:58:01.571Z"
   },
   {
    "duration": 46,
    "start_time": "2023-12-14T11:58:01.627Z"
   },
   {
    "duration": 37,
    "start_time": "2023-12-14T11:58:01.675Z"
   },
   {
    "duration": 27,
    "start_time": "2023-12-14T11:58:01.713Z"
   },
   {
    "duration": 39,
    "start_time": "2023-12-14T11:58:01.742Z"
   },
   {
    "duration": 33,
    "start_time": "2023-12-14T11:58:01.783Z"
   },
   {
    "duration": 27,
    "start_time": "2023-12-14T11:58:01.824Z"
   },
   {
    "duration": 22,
    "start_time": "2023-12-14T11:58:01.853Z"
   },
   {
    "duration": 43,
    "start_time": "2023-12-14T11:58:01.876Z"
   },
   {
    "duration": 32,
    "start_time": "2023-12-14T11:58:01.921Z"
   },
   {
    "duration": 49,
    "start_time": "2023-12-14T11:58:01.955Z"
   },
   {
    "duration": 30,
    "start_time": "2023-12-14T11:58:02.006Z"
   },
   {
    "duration": 42,
    "start_time": "2023-12-14T11:58:02.038Z"
   },
   {
    "duration": 45,
    "start_time": "2023-12-14T11:58:02.082Z"
   },
   {
    "duration": 3,
    "start_time": "2023-12-14T11:58:21.634Z"
   },
   {
    "duration": 4,
    "start_time": "2023-12-14T11:58:26.870Z"
   },
   {
    "duration": 2,
    "start_time": "2023-12-14T11:58:47.795Z"
   },
   {
    "duration": 3,
    "start_time": "2023-12-14T11:58:55.880Z"
   },
   {
    "duration": 86,
    "start_time": "2023-12-14T11:59:55.271Z"
   },
   {
    "duration": 4,
    "start_time": "2023-12-14T12:00:15.521Z"
   },
   {
    "duration": 10,
    "start_time": "2023-12-14T12:00:22.514Z"
   },
   {
    "duration": 4,
    "start_time": "2023-12-14T12:01:03.872Z"
   },
   {
    "duration": 3,
    "start_time": "2023-12-14T12:01:35.495Z"
   },
   {
    "duration": 5,
    "start_time": "2023-12-14T12:01:44.544Z"
   },
   {
    "duration": 4,
    "start_time": "2023-12-14T12:01:49.720Z"
   },
   {
    "duration": 6,
    "start_time": "2023-12-14T12:02:21.504Z"
   },
   {
    "duration": 7,
    "start_time": "2023-12-14T12:03:03.967Z"
   },
   {
    "duration": 7,
    "start_time": "2023-12-14T12:03:30.314Z"
   },
   {
    "duration": 82,
    "start_time": "2023-12-14T12:05:41.189Z"
   },
   {
    "duration": 83,
    "start_time": "2023-12-14T12:08:11.665Z"
   },
   {
    "duration": 7,
    "start_time": "2023-12-14T12:11:12.174Z"
   },
   {
    "duration": 7,
    "start_time": "2023-12-14T12:11:48.646Z"
   },
   {
    "duration": 8,
    "start_time": "2023-12-14T12:14:07.030Z"
   },
   {
    "duration": 79,
    "start_time": "2023-12-14T12:14:33.555Z"
   },
   {
    "duration": 1139,
    "start_time": "2023-12-14T12:16:50.978Z"
   },
   {
    "duration": 303,
    "start_time": "2023-12-14T12:16:52.119Z"
   },
   {
    "duration": 23,
    "start_time": "2023-12-14T12:16:52.423Z"
   },
   {
    "duration": 13,
    "start_time": "2023-12-14T12:16:52.448Z"
   },
   {
    "duration": 6,
    "start_time": "2023-12-14T12:16:52.463Z"
   },
   {
    "duration": 18,
    "start_time": "2023-12-14T12:16:52.470Z"
   },
   {
    "duration": 8,
    "start_time": "2023-12-14T12:16:52.490Z"
   },
   {
    "duration": 7,
    "start_time": "2023-12-14T12:16:52.500Z"
   },
   {
    "duration": 21,
    "start_time": "2023-12-14T12:16:52.508Z"
   },
   {
    "duration": 13,
    "start_time": "2023-12-14T12:16:52.531Z"
   },
   {
    "duration": 13,
    "start_time": "2023-12-14T12:16:52.545Z"
   },
   {
    "duration": 12,
    "start_time": "2023-12-14T12:16:52.565Z"
   },
   {
    "duration": 21,
    "start_time": "2023-12-14T12:16:52.578Z"
   },
   {
    "duration": 10,
    "start_time": "2023-12-14T12:16:52.600Z"
   },
   {
    "duration": 19,
    "start_time": "2023-12-14T12:16:52.612Z"
   },
   {
    "duration": 9,
    "start_time": "2023-12-14T12:16:52.632Z"
   },
   {
    "duration": 27,
    "start_time": "2023-12-14T12:16:52.643Z"
   },
   {
    "duration": 23,
    "start_time": "2023-12-14T12:16:52.672Z"
   },
   {
    "duration": 14,
    "start_time": "2023-12-14T12:16:52.696Z"
   },
   {
    "duration": 10,
    "start_time": "2023-12-14T12:16:52.712Z"
   },
   {
    "duration": 14,
    "start_time": "2023-12-14T12:16:52.724Z"
   },
   {
    "duration": 10,
    "start_time": "2023-12-14T12:16:52.765Z"
   },
   {
    "duration": 10,
    "start_time": "2023-12-14T12:16:52.776Z"
   },
   {
    "duration": 8,
    "start_time": "2023-12-14T12:16:52.787Z"
   },
   {
    "duration": 7,
    "start_time": "2023-12-14T12:16:52.797Z"
   },
   {
    "duration": 7,
    "start_time": "2023-12-14T12:16:52.805Z"
   },
   {
    "duration": 19,
    "start_time": "2023-12-14T12:16:52.813Z"
   },
   {
    "duration": 19,
    "start_time": "2023-12-14T12:16:52.864Z"
   },
   {
    "duration": 19,
    "start_time": "2023-12-14T12:16:52.885Z"
   },
   {
    "duration": 152,
    "start_time": "2023-12-14T12:16:52.905Z"
   },
   {
    "duration": 205,
    "start_time": "2023-12-14T12:16:53.064Z"
   },
   {
    "duration": 155,
    "start_time": "2023-12-14T12:16:53.270Z"
   },
   {
    "duration": 24,
    "start_time": "2023-12-14T12:16:53.427Z"
   },
   {
    "duration": 18,
    "start_time": "2023-12-14T12:16:53.452Z"
   },
   {
    "duration": 5,
    "start_time": "2023-12-14T12:16:53.471Z"
   },
   {
    "duration": 8,
    "start_time": "2023-12-14T12:16:53.477Z"
   },
   {
    "duration": 127,
    "start_time": "2023-12-14T12:16:53.487Z"
   },
   {
    "duration": 289,
    "start_time": "2023-12-14T12:16:53.616Z"
   },
   {
    "duration": 6,
    "start_time": "2023-12-14T12:16:53.906Z"
   },
   {
    "duration": 7,
    "start_time": "2023-12-14T12:16:53.914Z"
   },
   {
    "duration": 4,
    "start_time": "2023-12-14T12:16:53.922Z"
   },
   {
    "duration": 12,
    "start_time": "2023-12-14T12:16:53.928Z"
   },
   {
    "duration": 36,
    "start_time": "2023-12-14T12:16:53.942Z"
   },
   {
    "duration": 16,
    "start_time": "2023-12-14T12:16:53.979Z"
   },
   {
    "duration": 3,
    "start_time": "2023-12-14T12:16:53.997Z"
   },
   {
    "duration": 4,
    "start_time": "2023-12-14T12:16:54.002Z"
   },
   {
    "duration": 17,
    "start_time": "2023-12-14T12:16:54.007Z"
   },
   {
    "duration": 9,
    "start_time": "2023-12-14T12:16:54.026Z"
   },
   {
    "duration": 29,
    "start_time": "2023-12-14T12:16:54.036Z"
   },
   {
    "duration": 4,
    "start_time": "2023-12-14T12:16:54.066Z"
   },
   {
    "duration": 13,
    "start_time": "2023-12-14T12:16:54.071Z"
   },
   {
    "duration": 10,
    "start_time": "2023-12-14T12:16:54.085Z"
   },
   {
    "duration": 5,
    "start_time": "2023-12-14T12:16:54.096Z"
   },
   {
    "duration": 11,
    "start_time": "2023-12-14T12:16:54.102Z"
   },
   {
    "duration": 15,
    "start_time": "2023-12-14T12:16:54.114Z"
   },
   {
    "duration": 34,
    "start_time": "2023-12-14T12:16:54.131Z"
   },
   {
    "duration": 6,
    "start_time": "2023-12-14T12:16:54.167Z"
   },
   {
    "duration": 8,
    "start_time": "2023-12-14T12:16:54.175Z"
   },
   {
    "duration": 14,
    "start_time": "2023-12-14T12:16:54.184Z"
   },
   {
    "duration": 10,
    "start_time": "2023-12-14T12:16:54.200Z"
   },
   {
    "duration": 5,
    "start_time": "2023-12-14T12:16:54.211Z"
   },
   {
    "duration": 7,
    "start_time": "2023-12-14T12:16:54.218Z"
   },
   {
    "duration": 5,
    "start_time": "2023-12-14T12:16:54.226Z"
   },
   {
    "duration": 15,
    "start_time": "2023-12-14T12:16:54.232Z"
   },
   {
    "duration": 6,
    "start_time": "2023-12-14T12:16:54.265Z"
   },
   {
    "duration": 8,
    "start_time": "2023-12-14T12:16:54.273Z"
   },
   {
    "duration": 7,
    "start_time": "2023-12-14T12:16:54.282Z"
   },
   {
    "duration": 3,
    "start_time": "2023-12-14T12:16:54.291Z"
   },
   {
    "duration": 16,
    "start_time": "2023-12-14T12:16:54.296Z"
   },
   {
    "duration": 10,
    "start_time": "2023-12-14T12:16:54.314Z"
   },
   {
    "duration": 15,
    "start_time": "2023-12-14T12:16:54.325Z"
   },
   {
    "duration": 24,
    "start_time": "2023-12-14T12:16:54.341Z"
   },
   {
    "duration": 3,
    "start_time": "2023-12-14T12:16:54.367Z"
   },
   {
    "duration": 349,
    "start_time": "2023-12-14T12:16:54.371Z"
   },
   {
    "duration": 13,
    "start_time": "2023-12-14T12:16:54.722Z"
   },
   {
    "duration": 8,
    "start_time": "2023-12-14T12:16:54.736Z"
   },
   {
    "duration": 8,
    "start_time": "2023-12-14T12:16:54.746Z"
   },
   {
    "duration": 18,
    "start_time": "2023-12-14T12:16:54.756Z"
   },
   {
    "duration": 23,
    "start_time": "2023-12-14T12:16:54.775Z"
   },
   {
    "duration": 15,
    "start_time": "2023-12-14T12:16:54.800Z"
   },
   {
    "duration": 13,
    "start_time": "2023-12-14T12:16:54.817Z"
   },
   {
    "duration": 24,
    "start_time": "2023-12-14T12:16:54.836Z"
   },
   {
    "duration": 16,
    "start_time": "2023-12-14T12:16:54.862Z"
   },
   {
    "duration": 11,
    "start_time": "2023-12-14T12:16:54.880Z"
   },
   {
    "duration": 18,
    "start_time": "2023-12-14T12:16:54.893Z"
   },
   {
    "duration": 9,
    "start_time": "2023-12-14T12:16:54.912Z"
   },
   {
    "duration": 3,
    "start_time": "2023-12-14T12:16:54.923Z"
   },
   {
    "duration": 9,
    "start_time": "2023-12-14T12:16:54.927Z"
   },
   {
    "duration": 6,
    "start_time": "2023-12-14T12:16:54.937Z"
   },
   {
    "duration": 13,
    "start_time": "2023-12-14T12:16:54.944Z"
   },
   {
    "duration": 8,
    "start_time": "2023-12-14T12:16:54.959Z"
   },
   {
    "duration": 9,
    "start_time": "2023-12-14T12:16:54.969Z"
   },
   {
    "duration": 142,
    "start_time": "2023-12-14T12:16:54.979Z"
   },
   {
    "duration": 7,
    "start_time": "2023-12-14T12:16:55.123Z"
   },
   {
    "duration": 243,
    "start_time": "2023-12-14T12:16:55.132Z"
   },
   {
    "duration": 4,
    "start_time": "2023-12-14T12:16:55.377Z"
   },
   {
    "duration": 134,
    "start_time": "2023-12-14T12:16:55.382Z"
   },
   {
    "duration": 7,
    "start_time": "2023-12-14T12:16:55.517Z"
   },
   {
    "duration": 251,
    "start_time": "2023-12-14T12:16:55.526Z"
   },
   {
    "duration": 13,
    "start_time": "2023-12-14T12:16:55.779Z"
   },
   {
    "duration": 78,
    "start_time": "2023-12-14T12:16:55.793Z"
   },
   {
    "duration": 4,
    "start_time": "2023-12-14T12:16:55.873Z"
   },
   {
    "duration": 19,
    "start_time": "2023-12-14T12:16:55.878Z"
   },
   {
    "duration": 11,
    "start_time": "2023-12-14T12:16:55.899Z"
   },
   {
    "duration": 9,
    "start_time": "2023-12-14T12:16:55.912Z"
   },
   {
    "duration": 7,
    "start_time": "2023-12-14T12:16:55.923Z"
   },
   {
    "duration": 35,
    "start_time": "2023-12-14T12:16:55.931Z"
   },
   {
    "duration": 11,
    "start_time": "2023-12-14T12:16:55.967Z"
   },
   {
    "duration": 146,
    "start_time": "2023-12-14T12:16:55.980Z"
   },
   {
    "duration": 13,
    "start_time": "2023-12-14T12:16:56.128Z"
   },
   {
    "duration": 8,
    "start_time": "2023-12-14T12:16:56.142Z"
   },
   {
    "duration": 21,
    "start_time": "2023-12-14T12:16:56.152Z"
   },
   {
    "duration": 4,
    "start_time": "2023-12-14T12:16:56.175Z"
   },
   {
    "duration": 14,
    "start_time": "2023-12-14T12:16:56.180Z"
   },
   {
    "duration": 22,
    "start_time": "2023-12-14T12:16:56.196Z"
   },
   {
    "duration": 14,
    "start_time": "2023-12-14T12:16:56.220Z"
   },
   {
    "duration": 15,
    "start_time": "2023-12-14T12:16:56.235Z"
   },
   {
    "duration": 16,
    "start_time": "2023-12-14T12:16:56.252Z"
   },
   {
    "duration": 12,
    "start_time": "2023-12-14T12:16:56.269Z"
   },
   {
    "duration": 9,
    "start_time": "2023-12-14T12:16:56.282Z"
   },
   {
    "duration": 13,
    "start_time": "2023-12-14T12:16:56.292Z"
   },
   {
    "duration": 11,
    "start_time": "2023-12-14T12:16:56.306Z"
   },
   {
    "duration": 4,
    "start_time": "2023-12-14T12:16:56.318Z"
   },
   {
    "duration": 5,
    "start_time": "2023-12-14T12:16:56.323Z"
   },
   {
    "duration": 9,
    "start_time": "2023-12-14T12:16:56.329Z"
   },
   {
    "duration": 10,
    "start_time": "2023-12-14T12:16:56.339Z"
   },
   {
    "duration": 16,
    "start_time": "2023-12-14T12:16:56.350Z"
   },
   {
    "duration": 9,
    "start_time": "2023-12-14T12:16:56.367Z"
   },
   {
    "duration": 24,
    "start_time": "2023-12-14T12:16:56.378Z"
   },
   {
    "duration": 10,
    "start_time": "2023-12-14T12:16:56.403Z"
   },
   {
    "duration": 16,
    "start_time": "2023-12-14T12:16:56.414Z"
   },
   {
    "duration": 4,
    "start_time": "2023-12-14T12:16:56.431Z"
   },
   {
    "duration": 11,
    "start_time": "2023-12-14T12:16:56.436Z"
   },
   {
    "duration": 4,
    "start_time": "2023-12-14T12:16:56.449Z"
   },
   {
    "duration": 9,
    "start_time": "2023-12-14T12:16:56.454Z"
   },
   {
    "duration": 4,
    "start_time": "2023-12-14T12:16:56.465Z"
   },
   {
    "duration": 5,
    "start_time": "2023-12-14T12:16:56.470Z"
   },
   {
    "duration": 5,
    "start_time": "2023-12-14T12:16:56.476Z"
   },
   {
    "duration": 4,
    "start_time": "2023-12-14T12:16:56.482Z"
   },
   {
    "duration": 14,
    "start_time": "2023-12-14T12:16:56.488Z"
   },
   {
    "duration": 9,
    "start_time": "2023-12-14T12:16:56.503Z"
   },
   {
    "duration": 10,
    "start_time": "2023-12-14T12:16:56.513Z"
   },
   {
    "duration": 10,
    "start_time": "2023-12-14T12:16:56.524Z"
   }
  ],
  "kernelspec": {
   "display_name": "Python 3 (ipykernel)",
   "language": "python",
   "name": "python3"
  },
  "language_info": {
   "codemirror_mode": {
    "name": "ipython",
    "version": 3
   },
   "file_extension": ".py",
   "mimetype": "text/x-python",
   "name": "python",
   "nbconvert_exporter": "python",
   "pygments_lexer": "ipython3",
   "version": "3.9.18"
  },
  "toc": {
   "base_numbering": 1,
   "nav_menu": {},
   "number_sections": true,
   "sideBar": true,
   "skip_h1_title": true,
   "title_cell": "Table of Contents",
   "title_sidebar": "Contents",
   "toc_cell": false,
   "toc_position": {},
   "toc_section_display": true,
   "toc_window_display": false
  }
 },
 "nbformat": 4,
 "nbformat_minor": 4
}
