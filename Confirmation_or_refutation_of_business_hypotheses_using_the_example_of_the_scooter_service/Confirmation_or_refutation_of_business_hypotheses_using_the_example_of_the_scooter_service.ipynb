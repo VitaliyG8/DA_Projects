{
 "cells": [
  {
   "cell_type": "markdown",
   "id": "bc948a05",
   "metadata": {},
   "source": [
    "\n"
   ]
  },
  {
   "cell_type": "markdown",
   "id": "7bb78d33",
   "metadata": {},
   "source": [
    "Анализ проекта Самокат GoFast."
   ]
  },
  {
   "cell_type": "markdown",
   "id": "f77a9cec",
   "metadata": {},
   "source": [
    "Краткое описание:\n",
    "у нас есть данные о некоторых пользователях из нескольких городов, а также об их поездках. \n",
    "Чтобы совершать поездки по городу, пользователи сервиса GoFast пользуются мобильным приложением. \n",
    "Сервисом можно пользоваться:\n",
    "без подписки\n",
    "абонентская плата отсутствует;\n",
    "стоимость одной минуты поездки — 8 рублей;\n",
    "стоимость старта (начала поездки) — 50 рублей;\n",
    "с подпиской Ultra\n",
    "абонентская плата — 199 рублей в месяц;\n",
    "стоимость одной минуты поездки — 6 рублей;\n",
    "стоимость старта — бесплатно."
   ]
  },
  {
   "cell_type": "markdown",
   "id": "345cb779",
   "metadata": {},
   "source": [
    "Цель:\n",
    "    Проанализируйте данные и проверьте некоторые гипотезы, которые могут помочь бизнесу вырасти."
   ]
  },
  {
   "cell_type": "markdown",
   "id": "e0b6daee",
   "metadata": {},
   "source": [
    "Описание данных:\n",
    "В основных данных есть информация о пользователях, их поездках и подписках.\n",
    "Пользователи — users_go.csv\n",
    "1. user_id\tуникальный идентификатор пользователя\n",
    "2. name\tимя пользователя\n",
    "3. age\tвозраст\n",
    "4. city\tгород\n",
    "5. subscription_type\tтип подписки (free, ultra)\n",
    "Поездки — rides_go.csv\n",
    "1. user_id\tуникальный идентификатор пользователя\n",
    "2. distance\tрасстояние, которое пользователь проехал в текущей сессии (в метрах)\n",
    "3. duration\tпродолжительность сессии (в минутах) — время с того момента, как пользователь нажал кнопку «Начать поездку» до момента, как он нажал кнопку «Завершить поездку»\n",
    "4. date\tдата совершения поездки\n",
    "Подписки — subscriptions_go.csv\n",
    "1. subscription_type\tтип подписки\n",
    "2. minute_price\tстоимость одной минуты поездки по данной подписке\n",
    "3. start_ride_price\tстоимость начала поездки\n",
    "4. subscription_fee\tстоимость ежемесячного платежа\n"
   ]
  },
  {
   "cell_type": "markdown",
   "id": "14439372",
   "metadata": {},
   "source": [
    "План\n",
    "1. Загрузка данных и краткий их просмотр\n",
    "2. Предобработка данных\n",
    "3. Исследовательский анализ данных\n",
    "4. Объединение данных\n",
    "4.1 Объедините данные о пользователях, поездках и подписках в один датафрейм. \n",
    "4.2 Создаём два дополнительных датафрейма с данными о пользователях с подпиской и без соответственно. \n",
    "5. Подсчёт выручки\n",
    "5.1 Создать датафрейм с агрегированными данными о поездках на основе датафрейма с объединёнными данными: найдите суммарное расстояние, количество поездок и суммарное время для каждого пользователя за каждый месяц.\n",
    "5.2 В этот же датафрейм добавьте столбец с помесячной выручкой, которую принёс каждый пользователь.\n",
    "6. Проверка гипотез\n",
    "6.1 Тратят ли пользователи с подпиской больше времени на поездки?\n",
    "6.2 Можно ли сказать, что расстояние, которое проезжают пользователи с подпиской за одну поездку, не превышает 3130 метров?\n",
    "6.3 Будет ли помесячная выручка от пользователей с подпиской по месяцам выше, чем выручка от пользователей без подписки.\n",
    "6.4 Ситуацию: техническая команда сервиса обновила сервера, с которыми взаимодействует мобильное приложение. Она надеется, что из-за этого количество обращений в техподдержку значимо снизилось. Некоторый файл содержит для каждого пользователя данные о количестве обращений до обновления и после него. Какой тест вам понадобился бы для проверки этой гипотезы?\n",
    "7. Общий вывод"
   ]
  },
  {
   "cell_type": "markdown",
   "id": "c42cbe00",
   "metadata": {},
   "source": [
    "## Загрузка данных"
   ]
  },
  {
   "cell_type": "code",
   "execution_count": 2,
   "id": "e1283f26",
   "metadata": {},
   "outputs": [],
   "source": [
    "import pandas as pd\n",
    "from math import ceil\n",
    "import matplotlib.pyplot as plt\n",
    "from scipy import stats as st"
   ]
  },
  {
   "cell_type": "code",
   "execution_count": 3,
   "id": "eff9f206",
   "metadata": {},
   "outputs": [],
   "source": [
    "users = pd.read_csv('/datasets/users_go.csv')\n",
    "rides = pd.read_csv('/datasets/rides_go.csv')\n",
    "subscriptions = pd.read_csv('/datasets/subscriptions_go.csv')\n"
   ]
  },
  {
   "cell_type": "markdown",
   "id": "70008a26",
   "metadata": {},
   "source": [
    "Вывести первые строки каждого набора данных. Изучить общую информацию о каждом датафрейме."
   ]
  },
  {
   "cell_type": "code",
   "execution_count": 4,
   "id": "6b6a16e0",
   "metadata": {},
   "outputs": [
    {
     "data": {
      "text/html": [
       "<div>\n",
       "<style scoped>\n",
       "    .dataframe tbody tr th:only-of-type {\n",
       "        vertical-align: middle;\n",
       "    }\n",
       "\n",
       "    .dataframe tbody tr th {\n",
       "        vertical-align: top;\n",
       "    }\n",
       "\n",
       "    .dataframe thead th {\n",
       "        text-align: right;\n",
       "    }\n",
       "</style>\n",
       "<table border=\"1\" class=\"dataframe\">\n",
       "  <thead>\n",
       "    <tr style=\"text-align: right;\">\n",
       "      <th></th>\n",
       "      <th>user_id</th>\n",
       "      <th>name</th>\n",
       "      <th>age</th>\n",
       "      <th>city</th>\n",
       "      <th>subscription_type</th>\n",
       "    </tr>\n",
       "  </thead>\n",
       "  <tbody>\n",
       "    <tr>\n",
       "      <th>0</th>\n",
       "      <td>1</td>\n",
       "      <td>Кира</td>\n",
       "      <td>22</td>\n",
       "      <td>Тюмень</td>\n",
       "      <td>ultra</td>\n",
       "    </tr>\n",
       "    <tr>\n",
       "      <th>1</th>\n",
       "      <td>2</td>\n",
       "      <td>Станислав</td>\n",
       "      <td>31</td>\n",
       "      <td>Омск</td>\n",
       "      <td>ultra</td>\n",
       "    </tr>\n",
       "    <tr>\n",
       "      <th>2</th>\n",
       "      <td>3</td>\n",
       "      <td>Алексей</td>\n",
       "      <td>20</td>\n",
       "      <td>Москва</td>\n",
       "      <td>ultra</td>\n",
       "    </tr>\n",
       "    <tr>\n",
       "      <th>3</th>\n",
       "      <td>4</td>\n",
       "      <td>Константин</td>\n",
       "      <td>26</td>\n",
       "      <td>Ростов-на-Дону</td>\n",
       "      <td>ultra</td>\n",
       "    </tr>\n",
       "    <tr>\n",
       "      <th>4</th>\n",
       "      <td>5</td>\n",
       "      <td>Адель</td>\n",
       "      <td>28</td>\n",
       "      <td>Омск</td>\n",
       "      <td>ultra</td>\n",
       "    </tr>\n",
       "    <tr>\n",
       "      <th>5</th>\n",
       "      <td>6</td>\n",
       "      <td>Регина</td>\n",
       "      <td>25</td>\n",
       "      <td>Краснодар</td>\n",
       "      <td>ultra</td>\n",
       "    </tr>\n",
       "    <tr>\n",
       "      <th>6</th>\n",
       "      <td>7</td>\n",
       "      <td>Игорь</td>\n",
       "      <td>23</td>\n",
       "      <td>Омск</td>\n",
       "      <td>ultra</td>\n",
       "    </tr>\n",
       "    <tr>\n",
       "      <th>7</th>\n",
       "      <td>8</td>\n",
       "      <td>Юрий</td>\n",
       "      <td>23</td>\n",
       "      <td>Краснодар</td>\n",
       "      <td>ultra</td>\n",
       "    </tr>\n",
       "    <tr>\n",
       "      <th>8</th>\n",
       "      <td>9</td>\n",
       "      <td>Ян</td>\n",
       "      <td>21</td>\n",
       "      <td>Пятигорск</td>\n",
       "      <td>ultra</td>\n",
       "    </tr>\n",
       "    <tr>\n",
       "      <th>9</th>\n",
       "      <td>10</td>\n",
       "      <td>Валерий</td>\n",
       "      <td>18</td>\n",
       "      <td>Екатеринбург</td>\n",
       "      <td>ultra</td>\n",
       "    </tr>\n",
       "  </tbody>\n",
       "</table>\n",
       "</div>"
      ],
      "text/plain": [
       "   user_id        name  age            city subscription_type\n",
       "0        1        Кира   22          Тюмень             ultra\n",
       "1        2   Станислав   31            Омск             ultra\n",
       "2        3     Алексей   20          Москва             ultra\n",
       "3        4  Константин   26  Ростов-на-Дону             ultra\n",
       "4        5       Адель   28            Омск             ultra\n",
       "5        6      Регина   25       Краснодар             ultra\n",
       "6        7       Игорь   23            Омск             ultra\n",
       "7        8        Юрий   23       Краснодар             ultra\n",
       "8        9          Ян   21       Пятигорск             ultra\n",
       "9       10     Валерий   18    Екатеринбург             ultra"
      ]
     },
     "execution_count": 4,
     "metadata": {},
     "output_type": "execute_result"
    }
   ],
   "source": [
    "users.head(10)"
   ]
  },
  {
   "cell_type": "code",
   "execution_count": 5,
   "id": "c72bbbfd",
   "metadata": {},
   "outputs": [
    {
     "name": "stdout",
     "output_type": "stream",
     "text": [
      "<class 'pandas.core.frame.DataFrame'>\n",
      "RangeIndex: 1565 entries, 0 to 1564\n",
      "Data columns (total 5 columns):\n",
      " #   Column             Non-Null Count  Dtype \n",
      "---  ------             --------------  ----- \n",
      " 0   user_id            1565 non-null   int64 \n",
      " 1   name               1565 non-null   object\n",
      " 2   age                1565 non-null   int64 \n",
      " 3   city               1565 non-null   object\n",
      " 4   subscription_type  1565 non-null   object\n",
      "dtypes: int64(2), object(3)\n",
      "memory usage: 61.3+ KB\n"
     ]
    }
   ],
   "source": [
    "users.info()"
   ]
  },
  {
   "cell_type": "code",
   "execution_count": 6,
   "id": "479bb46e",
   "metadata": {},
   "outputs": [
    {
     "data": {
      "text/html": [
       "<div>\n",
       "<style scoped>\n",
       "    .dataframe tbody tr th:only-of-type {\n",
       "        vertical-align: middle;\n",
       "    }\n",
       "\n",
       "    .dataframe tbody tr th {\n",
       "        vertical-align: top;\n",
       "    }\n",
       "\n",
       "    .dataframe thead th {\n",
       "        text-align: right;\n",
       "    }\n",
       "</style>\n",
       "<table border=\"1\" class=\"dataframe\">\n",
       "  <thead>\n",
       "    <tr style=\"text-align: right;\">\n",
       "      <th></th>\n",
       "      <th>user_id</th>\n",
       "      <th>distance</th>\n",
       "      <th>duration</th>\n",
       "      <th>date</th>\n",
       "    </tr>\n",
       "  </thead>\n",
       "  <tbody>\n",
       "    <tr>\n",
       "      <th>0</th>\n",
       "      <td>1</td>\n",
       "      <td>4409.919140</td>\n",
       "      <td>25.599769</td>\n",
       "      <td>2021-01-01</td>\n",
       "    </tr>\n",
       "    <tr>\n",
       "      <th>1</th>\n",
       "      <td>1</td>\n",
       "      <td>2617.592153</td>\n",
       "      <td>15.816871</td>\n",
       "      <td>2021-01-18</td>\n",
       "    </tr>\n",
       "    <tr>\n",
       "      <th>2</th>\n",
       "      <td>1</td>\n",
       "      <td>754.159807</td>\n",
       "      <td>6.232113</td>\n",
       "      <td>2021-04-20</td>\n",
       "    </tr>\n",
       "    <tr>\n",
       "      <th>3</th>\n",
       "      <td>1</td>\n",
       "      <td>2694.783254</td>\n",
       "      <td>18.511000</td>\n",
       "      <td>2021-08-11</td>\n",
       "    </tr>\n",
       "    <tr>\n",
       "      <th>4</th>\n",
       "      <td>1</td>\n",
       "      <td>4028.687306</td>\n",
       "      <td>26.265803</td>\n",
       "      <td>2021-08-28</td>\n",
       "    </tr>\n",
       "    <tr>\n",
       "      <th>5</th>\n",
       "      <td>1</td>\n",
       "      <td>2770.890808</td>\n",
       "      <td>16.650138</td>\n",
       "      <td>2021-10-09</td>\n",
       "    </tr>\n",
       "    <tr>\n",
       "      <th>6</th>\n",
       "      <td>1</td>\n",
       "      <td>3039.020292</td>\n",
       "      <td>14.927879</td>\n",
       "      <td>2021-10-19</td>\n",
       "    </tr>\n",
       "    <tr>\n",
       "      <th>7</th>\n",
       "      <td>1</td>\n",
       "      <td>2842.118050</td>\n",
       "      <td>23.117468</td>\n",
       "      <td>2021-11-06</td>\n",
       "    </tr>\n",
       "    <tr>\n",
       "      <th>8</th>\n",
       "      <td>1</td>\n",
       "      <td>3412.690668</td>\n",
       "      <td>15.238072</td>\n",
       "      <td>2021-11-14</td>\n",
       "    </tr>\n",
       "    <tr>\n",
       "      <th>9</th>\n",
       "      <td>1</td>\n",
       "      <td>748.690645</td>\n",
       "      <td>15.041884</td>\n",
       "      <td>2021-11-22</td>\n",
       "    </tr>\n",
       "  </tbody>\n",
       "</table>\n",
       "</div>"
      ],
      "text/plain": [
       "   user_id     distance   duration        date\n",
       "0        1  4409.919140  25.599769  2021-01-01\n",
       "1        1  2617.592153  15.816871  2021-01-18\n",
       "2        1   754.159807   6.232113  2021-04-20\n",
       "3        1  2694.783254  18.511000  2021-08-11\n",
       "4        1  4028.687306  26.265803  2021-08-28\n",
       "5        1  2770.890808  16.650138  2021-10-09\n",
       "6        1  3039.020292  14.927879  2021-10-19\n",
       "7        1  2842.118050  23.117468  2021-11-06\n",
       "8        1  3412.690668  15.238072  2021-11-14\n",
       "9        1   748.690645  15.041884  2021-11-22"
      ]
     },
     "execution_count": 6,
     "metadata": {},
     "output_type": "execute_result"
    }
   ],
   "source": [
    "rides.head(10)"
   ]
  },
  {
   "cell_type": "code",
   "execution_count": 7,
   "id": "dfcab309",
   "metadata": {},
   "outputs": [
    {
     "name": "stdout",
     "output_type": "stream",
     "text": [
      "<class 'pandas.core.frame.DataFrame'>\n",
      "RangeIndex: 18068 entries, 0 to 18067\n",
      "Data columns (total 4 columns):\n",
      " #   Column    Non-Null Count  Dtype  \n",
      "---  ------    --------------  -----  \n",
      " 0   user_id   18068 non-null  int64  \n",
      " 1   distance  18068 non-null  float64\n",
      " 2   duration  18068 non-null  float64\n",
      " 3   date      18068 non-null  object \n",
      "dtypes: float64(2), int64(1), object(1)\n",
      "memory usage: 564.8+ KB\n"
     ]
    }
   ],
   "source": [
    "rides.info()"
   ]
  },
  {
   "cell_type": "code",
   "execution_count": 8,
   "id": "5b5ba72b",
   "metadata": {},
   "outputs": [
    {
     "data": {
      "text/html": [
       "<div>\n",
       "<style scoped>\n",
       "    .dataframe tbody tr th:only-of-type {\n",
       "        vertical-align: middle;\n",
       "    }\n",
       "\n",
       "    .dataframe tbody tr th {\n",
       "        vertical-align: top;\n",
       "    }\n",
       "\n",
       "    .dataframe thead th {\n",
       "        text-align: right;\n",
       "    }\n",
       "</style>\n",
       "<table border=\"1\" class=\"dataframe\">\n",
       "  <thead>\n",
       "    <tr style=\"text-align: right;\">\n",
       "      <th></th>\n",
       "      <th>subscription_type</th>\n",
       "      <th>minute_price</th>\n",
       "      <th>start_ride_price</th>\n",
       "      <th>subscription_fee</th>\n",
       "    </tr>\n",
       "  </thead>\n",
       "  <tbody>\n",
       "    <tr>\n",
       "      <th>0</th>\n",
       "      <td>free</td>\n",
       "      <td>8</td>\n",
       "      <td>50</td>\n",
       "      <td>0</td>\n",
       "    </tr>\n",
       "    <tr>\n",
       "      <th>1</th>\n",
       "      <td>ultra</td>\n",
       "      <td>6</td>\n",
       "      <td>0</td>\n",
       "      <td>199</td>\n",
       "    </tr>\n",
       "  </tbody>\n",
       "</table>\n",
       "</div>"
      ],
      "text/plain": [
       "  subscription_type  minute_price  start_ride_price  subscription_fee\n",
       "0              free             8                50                 0\n",
       "1             ultra             6                 0               199"
      ]
     },
     "execution_count": 8,
     "metadata": {},
     "output_type": "execute_result"
    }
   ],
   "source": [
    "subscriptions.head(10)"
   ]
  },
  {
   "cell_type": "code",
   "execution_count": 9,
   "id": "d9fbc103",
   "metadata": {
    "scrolled": true
   },
   "outputs": [
    {
     "name": "stdout",
     "output_type": "stream",
     "text": [
      "<class 'pandas.core.frame.DataFrame'>\n",
      "RangeIndex: 2 entries, 0 to 1\n",
      "Data columns (total 4 columns):\n",
      " #   Column             Non-Null Count  Dtype \n",
      "---  ------             --------------  ----- \n",
      " 0   subscription_type  2 non-null      object\n",
      " 1   minute_price       2 non-null      int64 \n",
      " 2   start_ride_price   2 non-null      int64 \n",
      " 3   subscription_fee   2 non-null      int64 \n",
      "dtypes: int64(3), object(1)\n",
      "memory usage: 192.0+ bytes\n"
     ]
    }
   ],
   "source": [
    "subscriptions.info()"
   ]
  },
  {
   "cell_type": "markdown",
   "id": "e95ebca7",
   "metadata": {},
   "source": [
    "## Предобработка данных"
   ]
  },
  {
   "cell_type": "markdown",
   "id": "871daeea",
   "metadata": {},
   "source": [
    "Привести столбец date к типу даты pandas."
   ]
  },
  {
   "cell_type": "code",
   "execution_count": 10,
   "id": "af6d202c",
   "metadata": {},
   "outputs": [],
   "source": [
    "rides['date'] = pd.to_datetime(rides['date'], format='%Y%m%dT')"
   ]
  },
  {
   "cell_type": "code",
   "execution_count": 11,
   "id": "2c943b7a",
   "metadata": {
    "scrolled": true
   },
   "outputs": [
    {
     "name": "stdout",
     "output_type": "stream",
     "text": [
      "<class 'pandas.core.frame.DataFrame'>\n",
      "RangeIndex: 18068 entries, 0 to 18067\n",
      "Data columns (total 4 columns):\n",
      " #   Column    Non-Null Count  Dtype         \n",
      "---  ------    --------------  -----         \n",
      " 0   user_id   18068 non-null  int64         \n",
      " 1   distance  18068 non-null  float64       \n",
      " 2   duration  18068 non-null  float64       \n",
      " 3   date      18068 non-null  datetime64[ns]\n",
      "dtypes: datetime64[ns](1), float64(2), int64(1)\n",
      "memory usage: 564.8 KB\n"
     ]
    }
   ],
   "source": [
    "rides.info()"
   ]
  },
  {
   "cell_type": "markdown",
   "id": "f383497f",
   "metadata": {},
   "source": [
    "Создайте новый столбец с номером месяца на основе столбца date."
   ]
  },
  {
   "cell_type": "code",
   "execution_count": 12,
   "id": "11330bb6",
   "metadata": {},
   "outputs": [],
   "source": [
    "rides['month'] = rides['date'].dt.month"
   ]
  },
  {
   "cell_type": "code",
   "execution_count": 13,
   "id": "8748abc5",
   "metadata": {},
   "outputs": [
    {
     "data": {
      "text/plain": [
       "0    1\n",
       "1    1\n",
       "2    4\n",
       "3    8\n",
       "4    8\n",
       "Name: month, dtype: int64"
      ]
     },
     "execution_count": 13,
     "metadata": {},
     "output_type": "execute_result"
    }
   ],
   "source": [
    "rides['month'].head(5)"
   ]
  },
  {
   "cell_type": "markdown",
   "id": "5fe4695e",
   "metadata": {},
   "source": [
    "Проверить наличие пропущенных значений и дубликатов в датафреймах. "
   ]
  },
  {
   "cell_type": "code",
   "execution_count": 14,
   "id": "4f0a5abc",
   "metadata": {},
   "outputs": [
    {
     "data": {
      "text/plain": [
       "31"
      ]
     },
     "execution_count": 14,
     "metadata": {},
     "output_type": "execute_result"
    }
   ],
   "source": [
    "users.duplicated().sum()"
   ]
  },
  {
   "cell_type": "code",
   "execution_count": 15,
   "id": "3e747cf6",
   "metadata": {},
   "outputs": [],
   "source": [
    "users = users.drop_duplicates()"
   ]
  },
  {
   "cell_type": "code",
   "execution_count": 16,
   "id": "98fd1631",
   "metadata": {},
   "outputs": [
    {
     "data": {
      "text/plain": [
       "0"
      ]
     },
     "execution_count": 16,
     "metadata": {},
     "output_type": "execute_result"
    }
   ],
   "source": [
    "users.duplicated().sum()"
   ]
  },
  {
   "cell_type": "code",
   "execution_count": 17,
   "id": "1274b22f",
   "metadata": {},
   "outputs": [
    {
     "data": {
      "text/plain": [
       "0"
      ]
     },
     "execution_count": 17,
     "metadata": {},
     "output_type": "execute_result"
    }
   ],
   "source": [
    "rides.duplicated().sum()"
   ]
  },
  {
   "cell_type": "code",
   "execution_count": 18,
   "id": "b4e3f94e",
   "metadata": {},
   "outputs": [
    {
     "data": {
      "text/plain": [
       "0"
      ]
     },
     "execution_count": 18,
     "metadata": {},
     "output_type": "execute_result"
    }
   ],
   "source": [
    "subscriptions.duplicated().sum()"
   ]
  },
  {
   "cell_type": "markdown",
   "id": "ccaa2825",
   "metadata": {},
   "source": [
    "Пропущенные значения обнаружены не были. Дубликаты были обнаружены только в датасете users и были удалены. "
   ]
  },
  {
   "cell_type": "markdown",
   "id": "c5138aa7",
   "metadata": {},
   "source": [
    "Неявные дубликаты, судя по имеющимся данным, могут быть в датасете users, колонка name, city, subscription_type. Что бы проверить, выведем уникальные значения"
   ]
  },
  {
   "cell_type": "code",
   "execution_count": 19,
   "id": "5d591ccb",
   "metadata": {},
   "outputs": [
    {
     "data": {
      "text/plain": [
       "array(['Кира', 'Станислав', 'Алексей', 'Константин', 'Адель', 'Регина',\n",
       "       'Игорь', 'Юрий', 'Ян', 'Валерий', 'Агата', 'Марк', 'Ева',\n",
       "       'Антонина', 'Валерия', 'Амалия', 'Даниил', 'Аделина', 'Святогор',\n",
       "       'Борис', 'Вероника', 'Ростислав', 'Назар', 'Эдуард', 'Василий',\n",
       "       'Денис', 'Тамара', 'Николай', 'Эвелина', 'Федор', 'Руслан', 'Иван',\n",
       "       'Любовь', 'Ярослава', 'Майя', 'Ильдар', 'Данила', 'Нина',\n",
       "       'Стефания', 'Ясмина', 'Дмитрий', 'Александр', 'Одиссей', 'Арсений',\n",
       "       'Алла', 'Таисия', 'Максим', 'Юлиана', 'Павел', 'Карина', 'Алиса',\n",
       "       'Лидия', 'Рамиль', 'Родион', 'Ника', 'Оксана', 'Анастасия',\n",
       "       'Маргарита', 'Вера', 'Тимур', 'Никита', 'Лев', 'Влад', 'Артур',\n",
       "       'Анна', 'Ольга', 'Вячеслав', 'Ксения', 'Виталина', 'Владислав',\n",
       "       'Тамерлан', 'Амина', 'Вадим', 'Олеся', 'Зарина', 'Егор', 'Гордей',\n",
       "       'Лилия', 'Святослав', 'Роберт', 'Амир', 'Влада', 'Богдан',\n",
       "       'Полина', 'Марат', 'Елисей', 'Макар', 'Алина', 'Глеб', 'Андрей',\n",
       "       'Альбина', 'Людмила', 'Марсель', 'Милена', 'Диана', 'Дарина',\n",
       "       'Данил', 'Артемий', 'Лиана', 'Альберт', 'Герман', 'Жанна', 'Нелли',\n",
       "       'Евгения', 'Ариана', 'Самира', 'Захар', 'Эльвира', 'Екатерина',\n",
       "       'Инна', 'Демид', 'Яна', 'Михаил', 'Татьяна', 'Степан', 'Мелания',\n",
       "       'Тимофей', 'Ирина', 'Анжелика', 'Владислава', 'Елизавета',\n",
       "       'Мадина', 'Снежана', 'Даниэль', 'Рустам', 'Каролина', 'Ангелина',\n",
       "       'Владимир', 'Виктория', 'Валентина', 'Семен', 'Арина', 'Лариса',\n",
       "       'Есения', 'Галина', 'Кирилл', 'Игнат', 'Виталий', 'Эмилия',\n",
       "       'Виолетта', 'Яромир', 'Софья', 'Мирослава', 'Евгений', 'Варвара',\n",
       "       'Платон', 'Наталия', 'Анатолий', 'Кристина', 'Всеволод', 'Дарья',\n",
       "       'Наташа', 'Мария', 'Марина', 'Василиса', 'Юлия', 'Илья', 'Злата',\n",
       "       'Роман', 'Наталья', 'Элина', 'Арсен', 'Айдар', 'Алия', 'Виктор',\n",
       "       'Мирон', 'Ульяна', 'Георгий', 'Петр', 'Эльмира', 'Олег', 'Дамир',\n",
       "       'Самир', 'Ярослав', 'Камилла', 'Сергей', 'Эмиль', 'Радмир',\n",
       "       'Савелий', 'Елена', 'Антон', 'Мирослав', 'София', 'Тихон', 'Артём',\n",
       "       'Давид', 'Григорий', 'Алёна', 'Светлана', 'Леонид', 'Александра',\n",
       "       'Василина', 'Милана', 'Матвей'], dtype=object)"
      ]
     },
     "execution_count": 19,
     "metadata": {},
     "output_type": "execute_result"
    }
   ],
   "source": [
    "users['name'].unique()"
   ]
  },
  {
   "cell_type": "code",
   "execution_count": 20,
   "id": "bc4f7511",
   "metadata": {
    "scrolled": true
   },
   "outputs": [
    {
     "data": {
      "text/plain": [
       "array(['Тюмень', 'Омск', 'Москва', 'Ростов-на-Дону', 'Краснодар',\n",
       "       'Пятигорск', 'Екатеринбург', 'Сочи'], dtype=object)"
      ]
     },
     "execution_count": 20,
     "metadata": {},
     "output_type": "execute_result"
    }
   ],
   "source": [
    "users['city'].unique()"
   ]
  },
  {
   "cell_type": "code",
   "execution_count": 21,
   "id": "e9cf0191",
   "metadata": {},
   "outputs": [
    {
     "data": {
      "text/plain": [
       "array(['ultra', 'free'], dtype=object)"
      ]
     },
     "execution_count": 21,
     "metadata": {},
     "output_type": "execute_result"
    }
   ],
   "source": [
    "users['subscription_type'].unique()"
   ]
  },
  {
   "cell_type": "markdown",
   "id": "9eef7ef9",
   "metadata": {},
   "source": [
    "Неявные дубликаты обнаружены не были."
   ]
  },
  {
   "cell_type": "markdown",
   "id": "ce931780",
   "metadata": {},
   "source": [
    "Построить boxplot график, что бы лучше представлять значения и аномалии, которые могут быть в некоторых столбцах. Применение метода .describe() так же может быть полезным."
   ]
  },
  {
   "cell_type": "code",
   "execution_count": 22,
   "id": "f820a6d2",
   "metadata": {},
   "outputs": [
    {
     "data": {
      "text/plain": [
       "<AxesSubplot:>"
      ]
     },
     "execution_count": 22,
     "metadata": {},
     "output_type": "execute_result"
    },
    {
     "data": {
      "image/png": "[encoded data removed]",
      "text/plain": [
       "<Figure size 432x288 with 1 Axes>"
      ]
     },
     "metadata": {
      "needs_background": "light"
     },
     "output_type": "display_data"
    }
   ],
   "source": [
    "users.boxplot(column='age')"
   ]
  },
  {
   "cell_type": "code",
   "execution_count": 23,
   "id": "1a2209e6",
   "metadata": {
    "scrolled": true
   },
   "outputs": [
    {
     "data": {
      "text/plain": [
       "count    1534.000000\n",
       "mean       24.903520\n",
       "std         4.572367\n",
       "min        12.000000\n",
       "25%        22.000000\n",
       "50%        25.000000\n",
       "75%        28.000000\n",
       "max        43.000000\n",
       "Name: age, dtype: float64"
      ]
     },
     "execution_count": 23,
     "metadata": {},
     "output_type": "execute_result"
    }
   ],
   "source": [
    "users['age'].describe()"
   ]
  },
  {
   "cell_type": "code",
   "execution_count": 24,
   "id": "a42494c3",
   "metadata": {},
   "outputs": [
    {
     "data": {
      "text/plain": [
       "<AxesSubplot:>"
      ]
     },
     "execution_count": 24,
     "metadata": {},
     "output_type": "execute_result"
    },
    {
     "data": {
      "image/png": "[encoded data removed]",
      "text/plain": [
       "<Figure size 432x288 with 1 Axes>"
      ]
     },
     "metadata": {
      "needs_background": "light"
     },
     "output_type": "display_data"
    }
   ],
   "source": [
    "rides.boxplot(column='distance')"
   ]
  },
  {
   "cell_type": "code",
   "execution_count": 25,
   "id": "8a830736",
   "metadata": {},
   "outputs": [
    {
     "data": {
      "text/plain": [
       "count    18068.000000\n",
       "mean      3070.659976\n",
       "std       1116.831209\n",
       "min          0.855683\n",
       "25%       2543.226360\n",
       "50%       3133.609994\n",
       "75%       3776.222735\n",
       "max       7211.007745\n",
       "Name: distance, dtype: float64"
      ]
     },
     "execution_count": 25,
     "metadata": {},
     "output_type": "execute_result"
    }
   ],
   "source": [
    "rides['distance'].describe()"
   ]
  },
  {
   "cell_type": "code",
   "execution_count": 26,
   "id": "58042e23",
   "metadata": {},
   "outputs": [
    {
     "data": {
      "text/plain": [
       "<AxesSubplot:>"
      ]
     },
     "execution_count": 26,
     "metadata": {},
     "output_type": "execute_result"
    },
    {
     "data": {
      "image/png": "[encoded data removed]",
      "text/plain": [
       "<Figure size 432x288 with 1 Axes>"
      ]
     },
     "metadata": {
      "needs_background": "light"
     },
     "output_type": "display_data"
    }
   ],
   "source": [
    "rides.boxplot(column='duration')"
   ]
  },
  {
   "cell_type": "code",
   "execution_count": 27,
   "id": "bba19ca1",
   "metadata": {},
   "outputs": [
    {
     "data": {
      "text/plain": [
       "count    18068.000000\n",
       "mean        17.805011\n",
       "std          6.091051\n",
       "min          0.500000\n",
       "25%         13.597563\n",
       "50%         17.678395\n",
       "75%         21.724800\n",
       "max         40.823963\n",
       "Name: duration, dtype: float64"
      ]
     },
     "execution_count": 27,
     "metadata": {},
     "output_type": "execute_result"
    }
   ],
   "source": [
    "rides['duration'].describe()"
   ]
  },
  {
   "cell_type": "markdown",
   "id": "5bf35279",
   "metadata": {},
   "source": [
    "Возраст пользователей самокатом от 12 до 43 лет. Расстояние за сессию от 0.85 метра до 7211 метра. Время сессии от 0.5 до 40.8 минут. Малое время и расстояние, так же как и большое время использования и значительное расстояние вполне реальны. На данный момент аномалий не найдено. "
   ]
  },
  {
   "cell_type": "code",
   "execution_count": 28,
   "id": "c3f56f71",
   "metadata": {
    "scrolled": true
   },
   "outputs": [
    {
     "data": {
      "text/plain": [
       "user_id              0\n",
       "name                 0\n",
       "age                  0\n",
       "city                 0\n",
       "subscription_type    0\n",
       "dtype: int64"
      ]
     },
     "execution_count": 28,
     "metadata": {},
     "output_type": "execute_result"
    }
   ],
   "source": [
    "users.isna().sum()"
   ]
  },
  {
   "cell_type": "code",
   "execution_count": 29,
   "id": "c7013674",
   "metadata": {},
   "outputs": [
    {
     "data": {
      "text/plain": [
       "user_id     0\n",
       "distance    0\n",
       "duration    0\n",
       "date        0\n",
       "month       0\n",
       "dtype: int64"
      ]
     },
     "execution_count": 29,
     "metadata": {},
     "output_type": "execute_result"
    }
   ],
   "source": [
    "rides.isna().sum()"
   ]
  },
  {
   "cell_type": "code",
   "execution_count": 30,
   "id": "f09ed65d",
   "metadata": {},
   "outputs": [
    {
     "data": {
      "text/plain": [
       "subscription_type    0\n",
       "minute_price         0\n",
       "start_ride_price     0\n",
       "subscription_fee     0\n",
       "dtype: int64"
      ]
     },
     "execution_count": 30,
     "metadata": {},
     "output_type": "execute_result"
    }
   ],
   "source": [
    "subscriptions.isna().sum()"
   ]
  },
  {
   "cell_type": "markdown",
   "id": "ec16d964",
   "metadata": {},
   "source": [
    "Пропусков нет."
   ]
  },
  {
   "cell_type": "markdown",
   "id": "212593c7",
   "metadata": {},
   "source": [
    "## Исследовательский анализ данных"
   ]
  },
  {
   "cell_type": "markdown",
   "id": "82005221",
   "metadata": {},
   "source": [
    "Частота встречаемости городов:"
   ]
  },
  {
   "cell_type": "code",
   "execution_count": 31,
   "id": "beb74b28",
   "metadata": {},
   "outputs": [],
   "source": [
    "grouped_city = users.groupby('city')['city'].count()"
   ]
  },
  {
   "cell_type": "code",
   "execution_count": 32,
   "id": "0a70809b",
   "metadata": {},
   "outputs": [
    {
     "data": {
      "text/plain": [
       "city\n",
       "Екатеринбург      204\n",
       "Краснодар         193\n",
       "Москва            168\n",
       "Омск              183\n",
       "Пятигорск         219\n",
       "Ростов-на-Дону    198\n",
       "Сочи              189\n",
       "Тюмень            180\n",
       "Name: city, dtype: int64"
      ]
     },
     "execution_count": 32,
     "metadata": {},
     "output_type": "execute_result"
    }
   ],
   "source": [
    "grouped_city"
   ]
  },
  {
   "cell_type": "code",
   "execution_count": 33,
   "id": "7fd7db97",
   "metadata": {
    "scrolled": true
   },
   "outputs": [
    {
     "data": {
      "text/plain": [
       "<AxesSubplot:ylabel='city'>"
      ]
     },
     "execution_count": 33,
     "metadata": {},
     "output_type": "execute_result"
    },
    {
     "data": {
      "image/png": "[encoded data removed]",
      "text/plain": [
       "<Figure size 432x432 with 1 Axes>"
      ]
     },
     "metadata": {},
     "output_type": "display_data"
    }
   ],
   "source": [
    "grouped_city.plot(kind='pie', autopct='%1.1f%%', figsize=(6,6))"
   ]
  },
  {
   "cell_type": "markdown",
   "id": "4af65f01",
   "metadata": {},
   "source": [
    "Можно наблюдать 8 городов. Количество представителей каждого из них достаточно близки между собой. Меньше всего представлена Москва, больше всего представлен Пятигорск. "
   ]
  },
  {
   "cell_type": "code",
   "execution_count": 70,
   "id": "a55ffb9f",
   "metadata": {},
   "outputs": [
    {
     "data": {
      "text/html": [
       "<div>\n",
       "<style scoped>\n",
       "    .dataframe tbody tr th:only-of-type {\n",
       "        vertical-align: middle;\n",
       "    }\n",
       "\n",
       "    .dataframe tbody tr th {\n",
       "        vertical-align: top;\n",
       "    }\n",
       "\n",
       "    .dataframe thead th {\n",
       "        text-align: right;\n",
       "    }\n",
       "</style>\n",
       "<table border=\"1\" class=\"dataframe\">\n",
       "  <thead>\n",
       "    <tr style=\"text-align: right;\">\n",
       "      <th></th>\n",
       "      <th>user_id</th>\n",
       "      <th>name</th>\n",
       "      <th>age</th>\n",
       "      <th>city</th>\n",
       "      <th>subscription_type</th>\n",
       "    </tr>\n",
       "  </thead>\n",
       "  <tbody>\n",
       "    <tr>\n",
       "      <th>0</th>\n",
       "      <td>1</td>\n",
       "      <td>Кира</td>\n",
       "      <td>22</td>\n",
       "      <td>Тюмень</td>\n",
       "      <td>ultra</td>\n",
       "    </tr>\n",
       "    <tr>\n",
       "      <th>1</th>\n",
       "      <td>2</td>\n",
       "      <td>Станислав</td>\n",
       "      <td>31</td>\n",
       "      <td>Омск</td>\n",
       "      <td>ultra</td>\n",
       "    </tr>\n",
       "    <tr>\n",
       "      <th>2</th>\n",
       "      <td>3</td>\n",
       "      <td>Алексей</td>\n",
       "      <td>20</td>\n",
       "      <td>Москва</td>\n",
       "      <td>ultra</td>\n",
       "    </tr>\n",
       "    <tr>\n",
       "      <th>3</th>\n",
       "      <td>4</td>\n",
       "      <td>Константин</td>\n",
       "      <td>26</td>\n",
       "      <td>Ростов-на-Дону</td>\n",
       "      <td>ultra</td>\n",
       "    </tr>\n",
       "    <tr>\n",
       "      <th>4</th>\n",
       "      <td>5</td>\n",
       "      <td>Адель</td>\n",
       "      <td>28</td>\n",
       "      <td>Омск</td>\n",
       "      <td>ultra</td>\n",
       "    </tr>\n",
       "  </tbody>\n",
       "</table>\n",
       "</div>"
      ],
      "text/plain": [
       "   user_id        name  age            city subscription_type\n",
       "0        1        Кира   22          Тюмень             ultra\n",
       "1        2   Станислав   31            Омск             ultra\n",
       "2        3     Алексей   20          Москва             ultra\n",
       "3        4  Константин   26  Ростов-на-Дону             ultra\n",
       "4        5       Адель   28            Омск             ultra"
      ]
     },
     "execution_count": 70,
     "metadata": {},
     "output_type": "execute_result"
    }
   ],
   "source": [
    "users.head()"
   ]
  },
  {
   "cell_type": "code",
   "execution_count": 34,
   "id": "4b9a4cab",
   "metadata": {},
   "outputs": [
    {
     "data": {
      "image/png": "[encoded data removed]",
      "text/plain": [
       "<Figure size 864x360 with 1 Axes>"
      ]
     },
     "metadata": {
      "needs_background": "light"
     },
     "output_type": "display_data"
    }
   ],
   "source": [
    "grouped_city = users['city'].value_counts().plot(kind='barh', y = 'group_city', figsize=(12, 5), title='Распределение поездок по городам')\n",
    "users['city'].value_counts().plot\n",
    "plt.xlabel('Количество поездок')\n",
    "plt.ylabel('Города')\n",
    "plt.text(10, -0.1, '219')\n",
    "plt.text(10, 0.9, '204')\n",
    "plt.text(10, 1.9, '198')\n",
    "plt.text(10, 2.9, '193')\n",
    "plt.text(10, 3.9, '189')\n",
    "plt.text(10, 4.9, '183')\n",
    "plt.text(10, 5.9, '180')\n",
    "plt.text(10, 6.9, '168')\n",
    "plt.show()\n"
   ]
  },
  {
   "cell_type": "markdown",
   "id": "16d655d8",
   "metadata": {},
   "source": [
    "Описать соотношение пользователей с подпиской и без подписки."
   ]
  },
  {
   "cell_type": "code",
   "execution_count": 35,
   "id": "0b4bc360",
   "metadata": {},
   "outputs": [],
   "source": [
    "grouped_type = users.groupby('subscription_type')['subscription_type'].count()"
   ]
  },
  {
   "cell_type": "code",
   "execution_count": 36,
   "id": "14e3631b",
   "metadata": {},
   "outputs": [
    {
     "data": {
      "text/plain": [
       "<AxesSubplot:ylabel='subscription_type'>"
      ]
     },
     "execution_count": 36,
     "metadata": {},
     "output_type": "execute_result"
    },
    {
     "data": {
      "image/png": "[encoded data removed]",
      "text/plain": [
       "<Figure size 432x432 with 1 Axes>"
      ]
     },
     "metadata": {},
     "output_type": "display_data"
    }
   ],
   "source": [
    "grouped_type.plot(kind='pie', autopct='%1.1f%%', figsize=(6,6), colors = ['yellow','green'])"
   ]
  },
  {
   "cell_type": "markdown",
   "id": "dc5804c6",
   "metadata": {},
   "source": [
    "54.4% пользователей без подписки и 45.6% пользователей имеют подписку. "
   ]
  },
  {
   "cell_type": "markdown",
   "id": "6ed61061",
   "metadata": {},
   "source": [
    "Описать возраст пользователей."
   ]
  },
  {
   "cell_type": "code",
   "execution_count": 37,
   "id": "c6b71017",
   "metadata": {
    "scrolled": true
   },
   "outputs": [
    {
     "data": {
      "image/png": "[encoded data removed]",
      "text/plain": [
       "<Figure size 432x288 with 1 Axes>"
      ]
     },
     "metadata": {
      "needs_background": "light"
     },
     "output_type": "display_data"
    }
   ],
   "source": [
    "users['age'].plot(kind='hist', bins=28, range= (12, 40), grid=True, title='Распределение по возрасту')\n",
    "plt.xlabel('Возраст')\n",
    "plt.ylabel('количество поездок')\n",
    "plt.show()"
   ]
  },
  {
   "cell_type": "markdown",
   "id": "20046f7c",
   "metadata": {},
   "source": [
    "Минимальный возраст пользователей - 12 лет. Максимальный - 43. На графике взят диапазон возраста от 12 до 40, тк в этом промежутке основная масса пользователей. Представители от 40 до 43 лет единичны и на картину в целом не влияют. От 12 лет идёт возрастание пользователей практически с каждым годом до пика в 26 лет. Затем идёт снижение со значительным спадом от 29 до 30 лет."
   ]
  },
  {
   "cell_type": "code",
   "execution_count": null,
   "id": "f960fe71",
   "metadata": {},
   "outputs": [],
   "source": []
  },
  {
   "cell_type": "markdown",
   "id": "e9f35cfa",
   "metadata": {},
   "source": [
    "Рассмотреть расстояние, которое пользователь преодолел за одну поездку."
   ]
  },
  {
   "cell_type": "code",
   "execution_count": 38,
   "id": "ea2bf2fb",
   "metadata": {},
   "outputs": [
    {
     "data": {
      "image/png": "[encoded data removed]",
      "text/plain": [
       "<Figure size 432x288 with 1 Axes>"
      ]
     },
     "metadata": {
      "needs_background": "light"
     },
     "output_type": "display_data"
    }
   ],
   "source": [
    "rides['distance'].plot(kind='hist', bins=70, grid=True, title='Распределение по расстоянию')\n",
    "plt.xlabel('Расстояние поездок в метрах')\n",
    "plt.ylabel('Количество поездок')\n",
    "plt.show()"
   ]
  },
  {
   "cell_type": "markdown",
   "id": "c5c391b5",
   "metadata": {},
   "source": [
    "Мы наблюдаем два пика, малый и большой. Расстояние первого пика возможно объяснимо тем, что люди пробуют поехать и у них не получается. И бросают попытки... Второй пик 3100-3200 метров. Большая часть людей в среднем проезжают именно это расстояние. К нему идёт поъем от 1500 метров до пика и спуск до 6000 метров. Людей, которые проезжают свыше 6000 метров уже не много... "
   ]
  },
  {
   "cell_type": "markdown",
   "id": "ed5888b0",
   "metadata": {},
   "source": [
    "Рассмотреть продолжительность поездок"
   ]
  },
  {
   "cell_type": "code",
   "execution_count": 39,
   "id": "7b9d3381",
   "metadata": {
    "scrolled": true
   },
   "outputs": [
    {
     "data": {
      "image/png": "[encoded data removed]",
      "text/plain": [
       "<Figure size 432x288 with 1 Axes>"
      ]
     },
     "metadata": {
      "needs_background": "light"
     },
     "output_type": "display_data"
    }
   ],
   "source": [
    "rides['duration'].plot(kind='hist', bins=80, grid=True, title='Распределение по времени поездки')\n",
    "plt.xlabel('Продолжительность поездки в минутах')\n",
    "plt.ylabel('количество поездок')\n",
    "plt.show()\n"
   ]
  },
  {
   "cell_type": "code",
   "execution_count": 40,
   "id": "827f1c8b",
   "metadata": {},
   "outputs": [
    {
     "data": {
      "text/html": [
       "<div>\n",
       "<style scoped>\n",
       "    .dataframe tbody tr th:only-of-type {\n",
       "        vertical-align: middle;\n",
       "    }\n",
       "\n",
       "    .dataframe tbody tr th {\n",
       "        vertical-align: top;\n",
       "    }\n",
       "\n",
       "    .dataframe thead th {\n",
       "        text-align: right;\n",
       "    }\n",
       "</style>\n",
       "<table border=\"1\" class=\"dataframe\">\n",
       "  <thead>\n",
       "    <tr style=\"text-align: right;\">\n",
       "      <th></th>\n",
       "      <th>user_id</th>\n",
       "      <th>distance</th>\n",
       "      <th>duration</th>\n",
       "      <th>date</th>\n",
       "      <th>month</th>\n",
       "    </tr>\n",
       "  </thead>\n",
       "  <tbody>\n",
       "    <tr>\n",
       "      <th>6531</th>\n",
       "      <td>701</td>\n",
       "      <td>4196.445201</td>\n",
       "      <td>0.5</td>\n",
       "      <td>2021-08-31</td>\n",
       "      <td>8</td>\n",
       "    </tr>\n",
       "    <tr>\n",
       "      <th>6570</th>\n",
       "      <td>704</td>\n",
       "      <td>4830.824371</td>\n",
       "      <td>0.5</td>\n",
       "      <td>2021-10-14</td>\n",
       "      <td>10</td>\n",
       "    </tr>\n",
       "    <tr>\n",
       "      <th>6680</th>\n",
       "      <td>712</td>\n",
       "      <td>4684.004397</td>\n",
       "      <td>0.5</td>\n",
       "      <td>2021-03-04</td>\n",
       "      <td>3</td>\n",
       "    </tr>\n",
       "    <tr>\n",
       "      <th>6695</th>\n",
       "      <td>713</td>\n",
       "      <td>5215.642710</td>\n",
       "      <td>0.5</td>\n",
       "      <td>2021-02-25</td>\n",
       "      <td>2</td>\n",
       "    </tr>\n",
       "    <tr>\n",
       "      <th>6768</th>\n",
       "      <td>718</td>\n",
       "      <td>5197.436649</td>\n",
       "      <td>0.5</td>\n",
       "      <td>2021-02-11</td>\n",
       "      <td>2</td>\n",
       "    </tr>\n",
       "    <tr>\n",
       "      <th>...</th>\n",
       "      <td>...</td>\n",
       "      <td>...</td>\n",
       "      <td>...</td>\n",
       "      <td>...</td>\n",
       "      <td>...</td>\n",
       "    </tr>\n",
       "    <tr>\n",
       "      <th>17004</th>\n",
       "      <td>1460</td>\n",
       "      <td>5531.335845</td>\n",
       "      <td>0.5</td>\n",
       "      <td>2021-01-19</td>\n",
       "      <td>1</td>\n",
       "    </tr>\n",
       "    <tr>\n",
       "      <th>17242</th>\n",
       "      <td>1477</td>\n",
       "      <td>6724.932981</td>\n",
       "      <td>0.5</td>\n",
       "      <td>2021-01-12</td>\n",
       "      <td>1</td>\n",
       "    </tr>\n",
       "    <tr>\n",
       "      <th>17314</th>\n",
       "      <td>1483</td>\n",
       "      <td>4445.481070</td>\n",
       "      <td>0.5</td>\n",
       "      <td>2021-03-06</td>\n",
       "      <td>3</td>\n",
       "    </tr>\n",
       "    <tr>\n",
       "      <th>17505</th>\n",
       "      <td>1496</td>\n",
       "      <td>5722.551787</td>\n",
       "      <td>0.5</td>\n",
       "      <td>2021-02-14</td>\n",
       "      <td>2</td>\n",
       "    </tr>\n",
       "    <tr>\n",
       "      <th>17909</th>\n",
       "      <td>1524</td>\n",
       "      <td>4103.998874</td>\n",
       "      <td>0.5</td>\n",
       "      <td>2021-06-18</td>\n",
       "      <td>6</td>\n",
       "    </tr>\n",
       "  </tbody>\n",
       "</table>\n",
       "<p>95 rows × 5 columns</p>\n",
       "</div>"
      ],
      "text/plain": [
       "       user_id     distance  duration       date  month\n",
       "6531       701  4196.445201       0.5 2021-08-31      8\n",
       "6570       704  4830.824371       0.5 2021-10-14     10\n",
       "6680       712  4684.004397       0.5 2021-03-04      3\n",
       "6695       713  5215.642710       0.5 2021-02-25      2\n",
       "6768       718  5197.436649       0.5 2021-02-11      2\n",
       "...        ...          ...       ...        ...    ...\n",
       "17004     1460  5531.335845       0.5 2021-01-19      1\n",
       "17242     1477  6724.932981       0.5 2021-01-12      1\n",
       "17314     1483  4445.481070       0.5 2021-03-06      3\n",
       "17505     1496  5722.551787       0.5 2021-02-14      2\n",
       "17909     1524  4103.998874       0.5 2021-06-18      6\n",
       "\n",
       "[95 rows x 5 columns]"
      ]
     },
     "execution_count": 40,
     "metadata": {},
     "output_type": "execute_result"
    }
   ],
   "source": [
    "rides[rides['duration'] < 2]"
   ]
  },
  {
   "cell_type": "markdown",
   "id": "1106440a",
   "metadata": {},
   "source": [
    "Мы наблюдаем значения от полу минуты до 40.8 минут. Медиана 17 минут и пик можно наблюдать в районе 17-18 минут. Именно такое время продолжительности езды на самокате является самым популярным. После этого пика идёт плавное снижение продолжительности аренды и случаев от 35 до 40 минут уже очень мало.\n",
    "Так же были выявленны 95 случаев, когда поездка продолжалась 0.5 минуты. Такие значения похожы на выброс, но не зная причины не стал бы удалять, а обратился бы к заказчику исследования/рук-ву проекта, с целью понять, что это. Возможно, технический сбой или особенность работы приложения/бронирования транспортного средства или его отмены...  Такие поездки наблюдаются в разные дни и в разные месяцы, то есть нет локализации в один день, что могло бы указывать на сбой в работе сервиса."
   ]
  },
  {
   "cell_type": "markdown",
   "id": "4ef51331",
   "metadata": {},
   "source": [
    "## Объединение данных"
   ]
  },
  {
   "cell_type": "markdown",
   "id": "f0815ae7",
   "metadata": {},
   "source": [
    "Объединить данные о пользователях, поездках и подписках в один датафрейм. Для этого использовать методом merge()."
   ]
  },
  {
   "cell_type": "code",
   "execution_count": 41,
   "id": "6bf288b5",
   "metadata": {},
   "outputs": [],
   "source": [
    "users_rides=users.merge(rides, on='user_id')"
   ]
  },
  {
   "cell_type": "code",
   "execution_count": 42,
   "id": "c5c17ff1",
   "metadata": {},
   "outputs": [
    {
     "name": "stdout",
     "output_type": "stream",
     "text": [
      "<class 'pandas.core.frame.DataFrame'>\n",
      "Int64Index: 18068 entries, 0 to 18067\n",
      "Data columns (total 9 columns):\n",
      " #   Column             Non-Null Count  Dtype         \n",
      "---  ------             --------------  -----         \n",
      " 0   user_id            18068 non-null  int64         \n",
      " 1   name               18068 non-null  object        \n",
      " 2   age                18068 non-null  int64         \n",
      " 3   city               18068 non-null  object        \n",
      " 4   subscription_type  18068 non-null  object        \n",
      " 5   distance           18068 non-null  float64       \n",
      " 6   duration           18068 non-null  float64       \n",
      " 7   date               18068 non-null  datetime64[ns]\n",
      " 8   month              18068 non-null  int64         \n",
      "dtypes: datetime64[ns](1), float64(2), int64(3), object(3)\n",
      "memory usage: 1.4+ MB\n"
     ]
    }
   ],
   "source": [
    "users_rides.info()"
   ]
  },
  {
   "cell_type": "code",
   "execution_count": 43,
   "id": "30a7aa8c",
   "metadata": {},
   "outputs": [],
   "source": [
    "users_rides_subscriptions = users_rides.merge(subscriptions, on='subscription_type')"
   ]
  },
  {
   "cell_type": "code",
   "execution_count": 44,
   "id": "a53b0040",
   "metadata": {},
   "outputs": [
    {
     "name": "stdout",
     "output_type": "stream",
     "text": [
      "<class 'pandas.core.frame.DataFrame'>\n",
      "Int64Index: 18068 entries, 0 to 18067\n",
      "Data columns (total 12 columns):\n",
      " #   Column             Non-Null Count  Dtype         \n",
      "---  ------             --------------  -----         \n",
      " 0   user_id            18068 non-null  int64         \n",
      " 1   name               18068 non-null  object        \n",
      " 2   age                18068 non-null  int64         \n",
      " 3   city               18068 non-null  object        \n",
      " 4   subscription_type  18068 non-null  object        \n",
      " 5   distance           18068 non-null  float64       \n",
      " 6   duration           18068 non-null  float64       \n",
      " 7   date               18068 non-null  datetime64[ns]\n",
      " 8   month              18068 non-null  int64         \n",
      " 9   minute_price       18068 non-null  int64         \n",
      " 10  start_ride_price   18068 non-null  int64         \n",
      " 11  subscription_fee   18068 non-null  int64         \n",
      "dtypes: datetime64[ns](1), float64(2), int64(6), object(3)\n",
      "memory usage: 1.8+ MB\n"
     ]
    }
   ],
   "source": [
    "users_rides_subscriptions.info()"
   ]
  },
  {
   "cell_type": "code",
   "execution_count": null,
   "id": "1fdf46f8",
   "metadata": {
    "scrolled": true
   },
   "outputs": [],
   "source": []
  },
  {
   "cell_type": "markdown",
   "id": "0bf87fbb",
   "metadata": {},
   "source": [
    "Создать датафрейм c данными о пользователях без подписки"
   ]
  },
  {
   "cell_type": "code",
   "execution_count": 45,
   "id": "dd4c6f77",
   "metadata": {},
   "outputs": [],
   "source": [
    "u_r_s_free = users_rides_subscriptions[users_rides_subscriptions['subscription_type'] == 'free']"
   ]
  },
  {
   "cell_type": "code",
   "execution_count": 46,
   "id": "849a0778",
   "metadata": {
    "scrolled": true
   },
   "outputs": [
    {
     "data": {
      "text/html": [
       "<div>\n",
       "<style scoped>\n",
       "    .dataframe tbody tr th:only-of-type {\n",
       "        vertical-align: middle;\n",
       "    }\n",
       "\n",
       "    .dataframe tbody tr th {\n",
       "        vertical-align: top;\n",
       "    }\n",
       "\n",
       "    .dataframe thead th {\n",
       "        text-align: right;\n",
       "    }\n",
       "</style>\n",
       "<table border=\"1\" class=\"dataframe\">\n",
       "  <thead>\n",
       "    <tr style=\"text-align: right;\">\n",
       "      <th></th>\n",
       "      <th>user_id</th>\n",
       "      <th>name</th>\n",
       "      <th>age</th>\n",
       "      <th>city</th>\n",
       "      <th>subscription_type</th>\n",
       "      <th>distance</th>\n",
       "      <th>duration</th>\n",
       "      <th>date</th>\n",
       "      <th>month</th>\n",
       "      <th>minute_price</th>\n",
       "      <th>start_ride_price</th>\n",
       "      <th>subscription_fee</th>\n",
       "    </tr>\n",
       "  </thead>\n",
       "  <tbody>\n",
       "    <tr>\n",
       "      <th>6500</th>\n",
       "      <td>700</td>\n",
       "      <td>Айдар</td>\n",
       "      <td>22</td>\n",
       "      <td>Омск</td>\n",
       "      <td>free</td>\n",
       "      <td>2515.690719</td>\n",
       "      <td>14.944286</td>\n",
       "      <td>2021-01-02</td>\n",
       "      <td>1</td>\n",
       "      <td>8</td>\n",
       "      <td>50</td>\n",
       "      <td>0</td>\n",
       "    </tr>\n",
       "    <tr>\n",
       "      <th>6501</th>\n",
       "      <td>700</td>\n",
       "      <td>Айдар</td>\n",
       "      <td>22</td>\n",
       "      <td>Омск</td>\n",
       "      <td>free</td>\n",
       "      <td>846.932642</td>\n",
       "      <td>16.234663</td>\n",
       "      <td>2021-02-01</td>\n",
       "      <td>2</td>\n",
       "      <td>8</td>\n",
       "      <td>50</td>\n",
       "      <td>0</td>\n",
       "    </tr>\n",
       "    <tr>\n",
       "      <th>6502</th>\n",
       "      <td>700</td>\n",
       "      <td>Айдар</td>\n",
       "      <td>22</td>\n",
       "      <td>Омск</td>\n",
       "      <td>free</td>\n",
       "      <td>4004.434142</td>\n",
       "      <td>20.016628</td>\n",
       "      <td>2021-02-04</td>\n",
       "      <td>2</td>\n",
       "      <td>8</td>\n",
       "      <td>50</td>\n",
       "      <td>0</td>\n",
       "    </tr>\n",
       "    <tr>\n",
       "      <th>6503</th>\n",
       "      <td>700</td>\n",
       "      <td>Айдар</td>\n",
       "      <td>22</td>\n",
       "      <td>Омск</td>\n",
       "      <td>free</td>\n",
       "      <td>1205.911290</td>\n",
       "      <td>9.782872</td>\n",
       "      <td>2021-02-10</td>\n",
       "      <td>2</td>\n",
       "      <td>8</td>\n",
       "      <td>50</td>\n",
       "      <td>0</td>\n",
       "    </tr>\n",
       "    <tr>\n",
       "      <th>6504</th>\n",
       "      <td>700</td>\n",
       "      <td>Айдар</td>\n",
       "      <td>22</td>\n",
       "      <td>Омск</td>\n",
       "      <td>free</td>\n",
       "      <td>3047.379435</td>\n",
       "      <td>17.427673</td>\n",
       "      <td>2021-02-14</td>\n",
       "      <td>2</td>\n",
       "      <td>8</td>\n",
       "      <td>50</td>\n",
       "      <td>0</td>\n",
       "    </tr>\n",
       "  </tbody>\n",
       "</table>\n",
       "</div>"
      ],
      "text/plain": [
       "      user_id   name  age  city subscription_type     distance   duration  \\\n",
       "6500      700  Айдар   22  Омск              free  2515.690719  14.944286   \n",
       "6501      700  Айдар   22  Омск              free   846.932642  16.234663   \n",
       "6502      700  Айдар   22  Омск              free  4004.434142  20.016628   \n",
       "6503      700  Айдар   22  Омск              free  1205.911290   9.782872   \n",
       "6504      700  Айдар   22  Омск              free  3047.379435  17.427673   \n",
       "\n",
       "           date  month  minute_price  start_ride_price  subscription_fee  \n",
       "6500 2021-01-02      1             8                50                 0  \n",
       "6501 2021-02-01      2             8                50                 0  \n",
       "6502 2021-02-04      2             8                50                 0  \n",
       "6503 2021-02-10      2             8                50                 0  \n",
       "6504 2021-02-14      2             8                50                 0  "
      ]
     },
     "execution_count": 46,
     "metadata": {},
     "output_type": "execute_result"
    }
   ],
   "source": [
    "u_r_s_free.head()"
   ]
  },
  {
   "cell_type": "markdown",
   "id": "d887d7a9",
   "metadata": {},
   "source": [
    "Создать датафрейм c данными о пользователях с подпиской"
   ]
  },
  {
   "cell_type": "code",
   "execution_count": 47,
   "id": "664502e9",
   "metadata": {},
   "outputs": [],
   "source": [
    "u_r_s_ultra = users_rides_subscriptions[users_rides_subscriptions['subscription_type'] == 'ultra']"
   ]
  },
  {
   "cell_type": "code",
   "execution_count": 48,
   "id": "82b5d49c",
   "metadata": {},
   "outputs": [
    {
     "data": {
      "text/html": [
       "<div>\n",
       "<style scoped>\n",
       "    .dataframe tbody tr th:only-of-type {\n",
       "        vertical-align: middle;\n",
       "    }\n",
       "\n",
       "    .dataframe tbody tr th {\n",
       "        vertical-align: top;\n",
       "    }\n",
       "\n",
       "    .dataframe thead th {\n",
       "        text-align: right;\n",
       "    }\n",
       "</style>\n",
       "<table border=\"1\" class=\"dataframe\">\n",
       "  <thead>\n",
       "    <tr style=\"text-align: right;\">\n",
       "      <th></th>\n",
       "      <th>user_id</th>\n",
       "      <th>name</th>\n",
       "      <th>age</th>\n",
       "      <th>city</th>\n",
       "      <th>subscription_type</th>\n",
       "      <th>distance</th>\n",
       "      <th>duration</th>\n",
       "      <th>date</th>\n",
       "      <th>month</th>\n",
       "      <th>minute_price</th>\n",
       "      <th>start_ride_price</th>\n",
       "      <th>subscription_fee</th>\n",
       "    </tr>\n",
       "  </thead>\n",
       "  <tbody>\n",
       "    <tr>\n",
       "      <th>0</th>\n",
       "      <td>1</td>\n",
       "      <td>Кира</td>\n",
       "      <td>22</td>\n",
       "      <td>Тюмень</td>\n",
       "      <td>ultra</td>\n",
       "      <td>4409.919140</td>\n",
       "      <td>25.599769</td>\n",
       "      <td>2021-01-01</td>\n",
       "      <td>1</td>\n",
       "      <td>6</td>\n",
       "      <td>0</td>\n",
       "      <td>199</td>\n",
       "    </tr>\n",
       "    <tr>\n",
       "      <th>1</th>\n",
       "      <td>1</td>\n",
       "      <td>Кира</td>\n",
       "      <td>22</td>\n",
       "      <td>Тюмень</td>\n",
       "      <td>ultra</td>\n",
       "      <td>2617.592153</td>\n",
       "      <td>15.816871</td>\n",
       "      <td>2021-01-18</td>\n",
       "      <td>1</td>\n",
       "      <td>6</td>\n",
       "      <td>0</td>\n",
       "      <td>199</td>\n",
       "    </tr>\n",
       "    <tr>\n",
       "      <th>2</th>\n",
       "      <td>1</td>\n",
       "      <td>Кира</td>\n",
       "      <td>22</td>\n",
       "      <td>Тюмень</td>\n",
       "      <td>ultra</td>\n",
       "      <td>754.159807</td>\n",
       "      <td>6.232113</td>\n",
       "      <td>2021-04-20</td>\n",
       "      <td>4</td>\n",
       "      <td>6</td>\n",
       "      <td>0</td>\n",
       "      <td>199</td>\n",
       "    </tr>\n",
       "    <tr>\n",
       "      <th>3</th>\n",
       "      <td>1</td>\n",
       "      <td>Кира</td>\n",
       "      <td>22</td>\n",
       "      <td>Тюмень</td>\n",
       "      <td>ultra</td>\n",
       "      <td>2694.783254</td>\n",
       "      <td>18.511000</td>\n",
       "      <td>2021-08-11</td>\n",
       "      <td>8</td>\n",
       "      <td>6</td>\n",
       "      <td>0</td>\n",
       "      <td>199</td>\n",
       "    </tr>\n",
       "    <tr>\n",
       "      <th>4</th>\n",
       "      <td>1</td>\n",
       "      <td>Кира</td>\n",
       "      <td>22</td>\n",
       "      <td>Тюмень</td>\n",
       "      <td>ultra</td>\n",
       "      <td>4028.687306</td>\n",
       "      <td>26.265803</td>\n",
       "      <td>2021-08-28</td>\n",
       "      <td>8</td>\n",
       "      <td>6</td>\n",
       "      <td>0</td>\n",
       "      <td>199</td>\n",
       "    </tr>\n",
       "  </tbody>\n",
       "</table>\n",
       "</div>"
      ],
      "text/plain": [
       "   user_id  name  age    city subscription_type     distance   duration  \\\n",
       "0        1  Кира   22  Тюмень             ultra  4409.919140  25.599769   \n",
       "1        1  Кира   22  Тюмень             ultra  2617.592153  15.816871   \n",
       "2        1  Кира   22  Тюмень             ultra   754.159807   6.232113   \n",
       "3        1  Кира   22  Тюмень             ultra  2694.783254  18.511000   \n",
       "4        1  Кира   22  Тюмень             ultra  4028.687306  26.265803   \n",
       "\n",
       "        date  month  minute_price  start_ride_price  subscription_fee  \n",
       "0 2021-01-01      1             6                 0               199  \n",
       "1 2021-01-18      1             6                 0               199  \n",
       "2 2021-04-20      4             6                 0               199  \n",
       "3 2021-08-11      8             6                 0               199  \n",
       "4 2021-08-28      8             6                 0               199  "
      ]
     },
     "execution_count": 48,
     "metadata": {},
     "output_type": "execute_result"
    }
   ],
   "source": [
    "u_r_s_ultra.head()"
   ]
  },
  {
   "cell_type": "markdown",
   "id": "0a31da77",
   "metadata": {},
   "source": [
    "\n",
    "Проверим, совпадает ли размерность датафрейма u_r_s_free и u_r_s_ultra с датафреймом users_rides_subscriptions\n"
   ]
  },
  {
   "cell_type": "code",
   "execution_count": 49,
   "id": "8f9a9055",
   "metadata": {},
   "outputs": [
    {
     "data": {
      "text/plain": [
       "(18068, 12)"
      ]
     },
     "execution_count": 49,
     "metadata": {},
     "output_type": "execute_result"
    }
   ],
   "source": [
    "users_rides_subscriptions.shape"
   ]
  },
  {
   "cell_type": "code",
   "execution_count": 50,
   "id": "59c782b8",
   "metadata": {},
   "outputs": [
    {
     "data": {
      "text/plain": [
       "(11568, 12)"
      ]
     },
     "execution_count": 50,
     "metadata": {},
     "output_type": "execute_result"
    }
   ],
   "source": [
    "u_r_s_free.shape"
   ]
  },
  {
   "cell_type": "code",
   "execution_count": 51,
   "id": "2f7f6cfc",
   "metadata": {},
   "outputs": [
    {
     "data": {
      "text/plain": [
       "(6500, 12)"
      ]
     },
     "execution_count": 51,
     "metadata": {},
     "output_type": "execute_result"
    }
   ],
   "source": [
    "u_r_s_ultra.shape"
   ]
  },
  {
   "cell_type": "markdown",
   "id": "fe9cb4ea",
   "metadata": {},
   "source": [
    "6500+11568=18068. Ни одна строчка не была потеряна."
   ]
  },
  {
   "cell_type": "markdown",
   "id": "4f67a0a6",
   "metadata": {},
   "source": [
    "Построим два графика дистанции, которые проезжают пользователи тарифа free и  ultra"
   ]
  },
  {
   "cell_type": "code",
   "execution_count": 52,
   "id": "deaf3767",
   "metadata": {
    "scrolled": true
   },
   "outputs": [
    {
     "data": {
      "image/png": "[encoded data removed]",
      "text/plain": [
       "<Figure size 432x288 with 1 Axes>"
      ]
     },
     "metadata": {
      "needs_background": "light"
     },
     "output_type": "display_data"
    }
   ],
   "source": [
    "ax = u_r_s_free['distance'].plot(kind='hist', bins=70, label='free', alpha=0.7, range= (0, 7000), legend=True)\n",
    "u_r_s_ultra['distance'].plot(kind='hist', bins=70, label='ultra', alpha=0.5, range= (0, 7000), ax=ax,legend=True, title='Распределение по расстоянию поездки для тарифов free и ultra')\n",
    "plt.xlabel('Расстояние поездок в метрах')\n",
    "plt.ylabel('Количество поездок')\n",
    "plt.show()\n"
   ]
  },
  {
   "cell_type": "markdown",
   "id": "0187d5bb",
   "metadata": {},
   "source": [
    "На графике видно, что на тарифе с платной подпиской есть ярко выраженный пик. Это можно связать с тем, что те, кто пользуются данным тарифом не катаются в своё удовольствие, а доезжают от конкретной точки А, до точки B. К примеру, от дома до работы, от работы до станции метро и т.д. И это расстояние пользователи считают оптимальным, что бы часто преодолевать на самокате. А на тарифе без подписки, пользователи чаще катаются для развлечения, по этому нет такого реского поъема и спада их числа, в зависимости от расстояния, которое было преодолено. "
   ]
  },
  {
   "cell_type": "markdown",
   "id": "0ec41c9d",
   "metadata": {},
   "source": [
    "Построим два графика времени, которые пользователи тарифа free и  ultra проводят в пути"
   ]
  },
  {
   "cell_type": "code",
   "execution_count": 53,
   "id": "7f6ccc13",
   "metadata": {},
   "outputs": [
    {
     "data": {
      "image/png": "[encoded data removed]",
      "text/plain": [
       "<Figure size 432x288 with 1 Axes>"
      ]
     },
     "metadata": {
      "needs_background": "light"
     },
     "output_type": "display_data"
    }
   ],
   "source": [
    "u_r_s_free['duration'].plot(kind='hist', bins=80, label='free', alpha=0.7, legend=True)\n",
    "u_r_s_ultra['duration'].plot(kind='hist', bins=80, label='ultra', alpha=0.5, legend=True, title='Распределение по времени поездки для тарифов free и ultra')\n",
    "plt.xlabel('Продолжительность поездки в минутах')\n",
    "plt.ylabel('количество поездок')\n",
    "plt.show()\n"
   ]
  },
  {
   "cell_type": "markdown",
   "id": "5c553947",
   "metadata": {},
   "source": [
    "Форма графиков построенных по времени поездки очень похожа. Различия состоят в том, что люди на тарифе с абонентской платой едут от 4.30-5 минут и до 35-40 минут, а без абонентской - часть людей проводит на самокате лишь 2-3 минуты. И чаще такие поездки заканчиваются до 35 минут. "
   ]
  },
  {
   "cell_type": "markdown",
   "id": "402d620f",
   "metadata": {},
   "source": [
    "## Подсчёт выручки"
   ]
  },
  {
   "cell_type": "markdown",
   "id": "69b20077",
   "metadata": {},
   "source": [
    "Создать датафрейм с агрегированными данными о поездках на основе датафрейма с объединёнными данными из шага 4: найти суммарное расстояние, количество поездок и суммарное время для каждого пользователя за каждый месяц."
   ]
  },
  {
   "cell_type": "code",
   "execution_count": 54,
   "id": "3d60e6c3",
   "metadata": {},
   "outputs": [],
   "source": [
    "new_u_r_s = users_rides_subscriptions.groupby(['user_id', 'month','name','subscription_type']).agg({\n",
    "'date': 'count',\n",
    "'distance': 'sum',\n",
    "'duration': 'sum'\n",
    "}).reset_index()"
   ]
  },
  {
   "cell_type": "code",
   "execution_count": 55,
   "id": "b64151bf",
   "metadata": {
    "scrolled": true
   },
   "outputs": [
    {
     "data": {
      "text/html": [
       "<div>\n",
       "<style scoped>\n",
       "    .dataframe tbody tr th:only-of-type {\n",
       "        vertical-align: middle;\n",
       "    }\n",
       "\n",
       "    .dataframe tbody tr th {\n",
       "        vertical-align: top;\n",
       "    }\n",
       "\n",
       "    .dataframe thead th {\n",
       "        text-align: right;\n",
       "    }\n",
       "</style>\n",
       "<table border=\"1\" class=\"dataframe\">\n",
       "  <thead>\n",
       "    <tr style=\"text-align: right;\">\n",
       "      <th></th>\n",
       "      <th>user_id</th>\n",
       "      <th>month</th>\n",
       "      <th>name</th>\n",
       "      <th>subscription_type</th>\n",
       "      <th>date</th>\n",
       "      <th>distance</th>\n",
       "      <th>duration</th>\n",
       "    </tr>\n",
       "  </thead>\n",
       "  <tbody>\n",
       "    <tr>\n",
       "      <th>0</th>\n",
       "      <td>1</td>\n",
       "      <td>1</td>\n",
       "      <td>Кира</td>\n",
       "      <td>ultra</td>\n",
       "      <td>2</td>\n",
       "      <td>7027.511294</td>\n",
       "      <td>41.416640</td>\n",
       "    </tr>\n",
       "    <tr>\n",
       "      <th>1</th>\n",
       "      <td>1</td>\n",
       "      <td>4</td>\n",
       "      <td>Кира</td>\n",
       "      <td>ultra</td>\n",
       "      <td>1</td>\n",
       "      <td>754.159807</td>\n",
       "      <td>6.232113</td>\n",
       "    </tr>\n",
       "    <tr>\n",
       "      <th>2</th>\n",
       "      <td>1</td>\n",
       "      <td>8</td>\n",
       "      <td>Кира</td>\n",
       "      <td>ultra</td>\n",
       "      <td>2</td>\n",
       "      <td>6723.470560</td>\n",
       "      <td>44.776802</td>\n",
       "    </tr>\n",
       "    <tr>\n",
       "      <th>3</th>\n",
       "      <td>1</td>\n",
       "      <td>10</td>\n",
       "      <td>Кира</td>\n",
       "      <td>ultra</td>\n",
       "      <td>2</td>\n",
       "      <td>5809.911100</td>\n",
       "      <td>31.578017</td>\n",
       "    </tr>\n",
       "    <tr>\n",
       "      <th>4</th>\n",
       "      <td>1</td>\n",
       "      <td>11</td>\n",
       "      <td>Кира</td>\n",
       "      <td>ultra</td>\n",
       "      <td>3</td>\n",
       "      <td>7003.499363</td>\n",
       "      <td>53.397424</td>\n",
       "    </tr>\n",
       "    <tr>\n",
       "      <th>5</th>\n",
       "      <td>1</td>\n",
       "      <td>12</td>\n",
       "      <td>Кира</td>\n",
       "      <td>ultra</td>\n",
       "      <td>2</td>\n",
       "      <td>6751.629942</td>\n",
       "      <td>27.203912</td>\n",
       "    </tr>\n",
       "    <tr>\n",
       "      <th>6</th>\n",
       "      <td>2</td>\n",
       "      <td>3</td>\n",
       "      <td>Станислав</td>\n",
       "      <td>ultra</td>\n",
       "      <td>3</td>\n",
       "      <td>10187.723006</td>\n",
       "      <td>60.959959</td>\n",
       "    </tr>\n",
       "    <tr>\n",
       "      <th>7</th>\n",
       "      <td>2</td>\n",
       "      <td>4</td>\n",
       "      <td>Станислав</td>\n",
       "      <td>ultra</td>\n",
       "      <td>2</td>\n",
       "      <td>6164.381824</td>\n",
       "      <td>39.048633</td>\n",
       "    </tr>\n",
       "    <tr>\n",
       "      <th>8</th>\n",
       "      <td>2</td>\n",
       "      <td>6</td>\n",
       "      <td>Станислав</td>\n",
       "      <td>ultra</td>\n",
       "      <td>1</td>\n",
       "      <td>3255.338202</td>\n",
       "      <td>13.851127</td>\n",
       "    </tr>\n",
       "    <tr>\n",
       "      <th>9</th>\n",
       "      <td>2</td>\n",
       "      <td>7</td>\n",
       "      <td>Станислав</td>\n",
       "      <td>ultra</td>\n",
       "      <td>2</td>\n",
       "      <td>6780.722964</td>\n",
       "      <td>46.170157</td>\n",
       "    </tr>\n",
       "  </tbody>\n",
       "</table>\n",
       "</div>"
      ],
      "text/plain": [
       "   user_id  month       name subscription_type  date      distance   duration\n",
       "0        1      1       Кира             ultra     2   7027.511294  41.416640\n",
       "1        1      4       Кира             ultra     1    754.159807   6.232113\n",
       "2        1      8       Кира             ultra     2   6723.470560  44.776802\n",
       "3        1     10       Кира             ultra     2   5809.911100  31.578017\n",
       "4        1     11       Кира             ultra     3   7003.499363  53.397424\n",
       "5        1     12       Кира             ultra     2   6751.629942  27.203912\n",
       "6        2      3  Станислав             ultra     3  10187.723006  60.959959\n",
       "7        2      4  Станислав             ultra     2   6164.381824  39.048633\n",
       "8        2      6  Станислав             ultra     1   3255.338202  13.851127\n",
       "9        2      7  Станислав             ultra     2   6780.722964  46.170157"
      ]
     },
     "execution_count": 55,
     "metadata": {},
     "output_type": "execute_result"
    }
   ],
   "source": [
    "new_u_r_s.head(10)\n"
   ]
  },
  {
   "cell_type": "markdown",
   "id": "1af3bd35",
   "metadata": {},
   "source": [
    "Для следующего задания нужны округлённые в большую сторону значения столбца 'duration' (время поездок)."
   ]
  },
  {
   "cell_type": "code",
   "execution_count": 56,
   "id": "73172a74",
   "metadata": {},
   "outputs": [],
   "source": [
    "users_rides_subscriptions['duration'] = users_rides_subscriptions['duration'].apply(lambda x: ceil(x))"
   ]
  },
  {
   "cell_type": "markdown",
   "id": "4f2a8a0a",
   "metadata": {},
   "source": [
    "Усовершенствуем датасет используя округлённые значения. "
   ]
  },
  {
   "cell_type": "code",
   "execution_count": 57,
   "id": "e06ad3e7",
   "metadata": {},
   "outputs": [],
   "source": [
    "new_u_r_s = users_rides_subscriptions.groupby(['user_id', 'month','minute_price','subscription_fee','start_ride_price']).agg({\n",
    "'date': 'count',\n",
    "'distance': 'sum',\n",
    "'duration': 'sum'\n",
    "}).reset_index()"
   ]
  },
  {
   "cell_type": "code",
   "execution_count": 58,
   "id": "0b9dacc4",
   "metadata": {
    "scrolled": true
   },
   "outputs": [
    {
     "data": {
      "text/html": [
       "<div>\n",
       "<style scoped>\n",
       "    .dataframe tbody tr th:only-of-type {\n",
       "        vertical-align: middle;\n",
       "    }\n",
       "\n",
       "    .dataframe tbody tr th {\n",
       "        vertical-align: top;\n",
       "    }\n",
       "\n",
       "    .dataframe thead th {\n",
       "        text-align: right;\n",
       "    }\n",
       "</style>\n",
       "<table border=\"1\" class=\"dataframe\">\n",
       "  <thead>\n",
       "    <tr style=\"text-align: right;\">\n",
       "      <th></th>\n",
       "      <th>user_id</th>\n",
       "      <th>month</th>\n",
       "      <th>minute_price</th>\n",
       "      <th>subscription_fee</th>\n",
       "      <th>start_ride_price</th>\n",
       "      <th>date</th>\n",
       "      <th>distance</th>\n",
       "      <th>duration</th>\n",
       "    </tr>\n",
       "  </thead>\n",
       "  <tbody>\n",
       "    <tr>\n",
       "      <th>0</th>\n",
       "      <td>1</td>\n",
       "      <td>1</td>\n",
       "      <td>6</td>\n",
       "      <td>199</td>\n",
       "      <td>0</td>\n",
       "      <td>2</td>\n",
       "      <td>7027.511294</td>\n",
       "      <td>42</td>\n",
       "    </tr>\n",
       "    <tr>\n",
       "      <th>1</th>\n",
       "      <td>1</td>\n",
       "      <td>4</td>\n",
       "      <td>6</td>\n",
       "      <td>199</td>\n",
       "      <td>0</td>\n",
       "      <td>1</td>\n",
       "      <td>754.159807</td>\n",
       "      <td>7</td>\n",
       "    </tr>\n",
       "    <tr>\n",
       "      <th>2</th>\n",
       "      <td>1</td>\n",
       "      <td>8</td>\n",
       "      <td>6</td>\n",
       "      <td>199</td>\n",
       "      <td>0</td>\n",
       "      <td>2</td>\n",
       "      <td>6723.470560</td>\n",
       "      <td>46</td>\n",
       "    </tr>\n",
       "    <tr>\n",
       "      <th>3</th>\n",
       "      <td>1</td>\n",
       "      <td>10</td>\n",
       "      <td>6</td>\n",
       "      <td>199</td>\n",
       "      <td>0</td>\n",
       "      <td>2</td>\n",
       "      <td>5809.911100</td>\n",
       "      <td>32</td>\n",
       "    </tr>\n",
       "    <tr>\n",
       "      <th>4</th>\n",
       "      <td>1</td>\n",
       "      <td>11</td>\n",
       "      <td>6</td>\n",
       "      <td>199</td>\n",
       "      <td>0</td>\n",
       "      <td>3</td>\n",
       "      <td>7003.499363</td>\n",
       "      <td>56</td>\n",
       "    </tr>\n",
       "  </tbody>\n",
       "</table>\n",
       "</div>"
      ],
      "text/plain": [
       "   user_id  month  minute_price  subscription_fee  start_ride_price  date  \\\n",
       "0        1      1             6               199                 0     2   \n",
       "1        1      4             6               199                 0     1   \n",
       "2        1      8             6               199                 0     2   \n",
       "3        1     10             6               199                 0     2   \n",
       "4        1     11             6               199                 0     3   \n",
       "\n",
       "      distance  duration  \n",
       "0  7027.511294        42  \n",
       "1   754.159807         7  \n",
       "2  6723.470560        46  \n",
       "3  5809.911100        32  \n",
       "4  7003.499363        56  "
      ]
     },
     "execution_count": 58,
     "metadata": {},
     "output_type": "execute_result"
    }
   ],
   "source": [
    "new_u_r_s.head()\n"
   ]
  },
  {
   "cell_type": "markdown",
   "id": "0a4b9708",
   "metadata": {},
   "source": [
    "Убедимся, что количество строчек не поменялось. Такой метод подходит, только если у нас в течение наблюдаемого периода, пользователи не меняли тариф. Так как переходов не было, данный способ подходит."
   ]
  },
  {
   "cell_type": "code",
   "execution_count": 59,
   "id": "5d182c99",
   "metadata": {},
   "outputs": [
    {
     "name": "stdout",
     "output_type": "stream",
     "text": [
      "<class 'pandas.core.frame.DataFrame'>\n",
      "RangeIndex: 11331 entries, 0 to 11330\n",
      "Data columns (total 8 columns):\n",
      " #   Column            Non-Null Count  Dtype  \n",
      "---  ------            --------------  -----  \n",
      " 0   user_id           11331 non-null  int64  \n",
      " 1   month             11331 non-null  int64  \n",
      " 2   minute_price      11331 non-null  int64  \n",
      " 3   subscription_fee  11331 non-null  int64  \n",
      " 4   start_ride_price  11331 non-null  int64  \n",
      " 5   date              11331 non-null  int64  \n",
      " 6   distance          11331 non-null  float64\n",
      " 7   duration          11331 non-null  int64  \n",
      "dtypes: float64(1), int64(7)\n",
      "memory usage: 708.3 KB\n"
     ]
    }
   ],
   "source": [
    "new_u_r_s.info()"
   ]
  },
  {
   "cell_type": "markdown",
   "id": "a640b0e7",
   "metadata": {},
   "source": [
    "Добавить столбец с помесячной выручкой (cost_rides), которую принёс каждый пользователь"
   ]
  },
  {
   "cell_type": "code",
   "execution_count": 60,
   "id": "54a49361",
   "metadata": {},
   "outputs": [],
   "source": [
    "new_u_r_s['cost_rides'] = (new_u_r_s['start_ride_price'] * new_u_r_s['date']) + (new_u_r_s['minute_price']*new_u_r_s['duration']) + new_u_r_s['subscription_fee']"
   ]
  },
  {
   "cell_type": "code",
   "execution_count": 61,
   "id": "275e3dfb",
   "metadata": {},
   "outputs": [
    {
     "data": {
      "text/html": [
       "<div>\n",
       "<style scoped>\n",
       "    .dataframe tbody tr th:only-of-type {\n",
       "        vertical-align: middle;\n",
       "    }\n",
       "\n",
       "    .dataframe tbody tr th {\n",
       "        vertical-align: top;\n",
       "    }\n",
       "\n",
       "    .dataframe thead th {\n",
       "        text-align: right;\n",
       "    }\n",
       "</style>\n",
       "<table border=\"1\" class=\"dataframe\">\n",
       "  <thead>\n",
       "    <tr style=\"text-align: right;\">\n",
       "      <th></th>\n",
       "      <th>user_id</th>\n",
       "      <th>month</th>\n",
       "      <th>minute_price</th>\n",
       "      <th>subscription_fee</th>\n",
       "      <th>start_ride_price</th>\n",
       "      <th>date</th>\n",
       "      <th>distance</th>\n",
       "      <th>duration</th>\n",
       "      <th>cost_rides</th>\n",
       "    </tr>\n",
       "  </thead>\n",
       "  <tbody>\n",
       "    <tr>\n",
       "      <th>0</th>\n",
       "      <td>1</td>\n",
       "      <td>1</td>\n",
       "      <td>6</td>\n",
       "      <td>199</td>\n",
       "      <td>0</td>\n",
       "      <td>2</td>\n",
       "      <td>7027.511294</td>\n",
       "      <td>42</td>\n",
       "      <td>451</td>\n",
       "    </tr>\n",
       "    <tr>\n",
       "      <th>1</th>\n",
       "      <td>1</td>\n",
       "      <td>4</td>\n",
       "      <td>6</td>\n",
       "      <td>199</td>\n",
       "      <td>0</td>\n",
       "      <td>1</td>\n",
       "      <td>754.159807</td>\n",
       "      <td>7</td>\n",
       "      <td>241</td>\n",
       "    </tr>\n",
       "    <tr>\n",
       "      <th>2</th>\n",
       "      <td>1</td>\n",
       "      <td>8</td>\n",
       "      <td>6</td>\n",
       "      <td>199</td>\n",
       "      <td>0</td>\n",
       "      <td>2</td>\n",
       "      <td>6723.470560</td>\n",
       "      <td>46</td>\n",
       "      <td>475</td>\n",
       "    </tr>\n",
       "    <tr>\n",
       "      <th>3</th>\n",
       "      <td>1</td>\n",
       "      <td>10</td>\n",
       "      <td>6</td>\n",
       "      <td>199</td>\n",
       "      <td>0</td>\n",
       "      <td>2</td>\n",
       "      <td>5809.911100</td>\n",
       "      <td>32</td>\n",
       "      <td>391</td>\n",
       "    </tr>\n",
       "    <tr>\n",
       "      <th>4</th>\n",
       "      <td>1</td>\n",
       "      <td>11</td>\n",
       "      <td>6</td>\n",
       "      <td>199</td>\n",
       "      <td>0</td>\n",
       "      <td>3</td>\n",
       "      <td>7003.499363</td>\n",
       "      <td>56</td>\n",
       "      <td>535</td>\n",
       "    </tr>\n",
       "  </tbody>\n",
       "</table>\n",
       "</div>"
      ],
      "text/plain": [
       "   user_id  month  minute_price  subscription_fee  start_ride_price  date  \\\n",
       "0        1      1             6               199                 0     2   \n",
       "1        1      4             6               199                 0     1   \n",
       "2        1      8             6               199                 0     2   \n",
       "3        1     10             6               199                 0     2   \n",
       "4        1     11             6               199                 0     3   \n",
       "\n",
       "      distance  duration  cost_rides  \n",
       "0  7027.511294        42         451  \n",
       "1   754.159807         7         241  \n",
       "2  6723.470560        46         475  \n",
       "3  5809.911100        32         391  \n",
       "4  7003.499363        56         535  "
      ]
     },
     "execution_count": 61,
     "metadata": {},
     "output_type": "execute_result"
    }
   ],
   "source": [
    "new_u_r_s.head()"
   ]
  },
  {
   "cell_type": "code",
   "execution_count": 62,
   "id": "4c3d84b8",
   "metadata": {},
   "outputs": [
    {
     "data": {
      "text/plain": [
       "subscription_fee\n",
       "0      328.641365\n",
       "199    362.792191\n",
       "Name: cost_rides, dtype: float64"
      ]
     },
     "execution_count": 62,
     "metadata": {},
     "output_type": "execute_result"
    }
   ],
   "source": [
    "# Код ревьюера\n",
    "new_u_r_s.groupby('subscription_fee')['cost_rides'].mean()"
   ]
  },
  {
   "cell_type": "markdown",
   "id": "41545ac0",
   "metadata": {},
   "source": [
    "## Проверка гипотез"
   ]
  },
  {
   "cell_type": "markdown",
   "id": "897d4c75",
   "metadata": {},
   "source": [
    "6.1 \n",
    "Важно понять, тратят ли пользователи с подпиской больше времени на поездки? Если да, то пользователи с подпиской могут быть «выгоднее» для компании. Проверьте гипотезу. Используйте исходные данные о продолжительности каждой сессии — отдельно для подписчиков и тех, у кого нет подписки."
   ]
  },
  {
   "cell_type": "markdown",
   "id": "cdb4d03a",
   "metadata": {},
   "source": [
    "Нулевая гипотеза: средняя выборка из генеральной совокупности датасета тех, кто ездит по платной подписке равна средней выборке из генеральной совокупностити, кто ездит без платной подписки. \n",
    "Альтернативная гипотеза: средняя выборка из генеральной совокупности датасета людей с подписко больше средней выборке из генеральной совокупности датасета людей без подписки. "
   ]
  },
  {
   "cell_type": "markdown",
   "id": "343f59b6",
   "metadata": {},
   "source": [
    "Тут мы берем датасеты целиком и сравниваем средние генеральных совокупностей из сформированных датасетов. Для этого, возьмём их из не обработанных данных столбцов duration, датасетов u_r_s_free и u_r_s_ultra."
   ]
  },
  {
   "cell_type": "code",
   "execution_count": 63,
   "id": "0bf1895e",
   "metadata": {},
   "outputs": [
    {
     "name": "stdout",
     "output_type": "stream",
     "text": [
      "p-значение: 5.6757813771289775e-37\n",
      "Отвергаем нулевую гипотезу\n"
     ]
    }
   ],
   "source": [
    "\n",
    "\n",
    "duration_1 = u_r_s_ultra['duration']\n",
    "duration_2 = u_r_s_free['duration']\n",
    "\n",
    "alpha = 0.05 # уровень статистической значимости\n",
    "# если p-value окажется меньше него, отвергнем гипотезу\n",
    "\n",
    "results = st.ttest_ind( duration_1, duration_2, alternative = 'greater', equal_var=False)\n",
    "\n",
    "print('p-значение:', results.pvalue)\n",
    "\n",
    "if results.pvalue < alpha:\n",
    "    print('Отвергаем нулевую гипотезу')\n",
    "else:\n",
    "    print('Не получилось отвергнуть нулевую гипотезу') "
   ]
  },
  {
   "cell_type": "markdown",
   "id": "36dafb82",
   "metadata": {},
   "source": [
    "За альтернативную была взята гипотеза, что средняя генеральной совокупности датасета людей с подпиской больше средней генеральной совокупности датасета людей без подписки. Из этого можно сделать вывод, что пользователи с подпиской могут быть «выгоднее» для компании, т.к. зачастую тратят больше времени на поездки.  "
   ]
  },
  {
   "cell_type": "markdown",
   "id": "face1dd8",
   "metadata": {},
   "source": [
    "6.2\n",
    "Расстояние одной поездки в 3130 метров — оптимальное с точки зрения износа самоката. Можно ли сказать, что расстояние, которое проезжают пользователи с подпиской за одну поездку, не превышает 3130 метров? Проверить гипотезу и сделать выводы."
   ]
  },
  {
   "cell_type": "markdown",
   "id": "b4fdcb75",
   "metadata": {},
   "source": [
    "Нулевая гипотеза: фактическое среднее расстояние одной поездки самоката равно 3130 метров. \n",
    "Альтернативная гипотеза: фактическое среднее расстояние одной поездки больше 3130"
   ]
  },
  {
   "cell_type": "code",
   "execution_count": 64,
   "id": "7e5cab68",
   "metadata": {},
   "outputs": [
    {
     "name": "stdout",
     "output_type": "stream",
     "text": [
      "p-значение: 0.9195368847849785\n",
      "Не отвергаем нулевую гипотезу\n"
     ]
    }
   ],
   "source": [
    "average_distance = u_r_s_ultra['distance']\n",
    "expected_distance = 3130\n",
    "\n",
    "alpha = 0.05 # уровень статистической значимости\n",
    "\n",
    "results = st.ttest_1samp(\n",
    "    average_distance, \n",
    "    expected_distance,\n",
    "      alternative='greater')\n",
    "print('p-значение:', results.pvalue)\n",
    "\n",
    "if (results.pvalue < alpha):\n",
    "    print('Отвергаем нулевую гипотезу')\n",
    "else:\n",
    "    print('Не отвергаем нулевую гипотезу') "
   ]
  },
  {
   "cell_type": "markdown",
   "id": "aa1f204e",
   "metadata": {},
   "source": [
    "Можно говорить о том, что мы не отвергаем нулевую гипотезу и фактическое среднее расстояние одной поездки самоката может быть равно 3130 метров(p-значение почти 92%, и это говорит о том, что с данной вероятностью мы получим фактическое среднее расстояние поездки равное 3130 метров)."
   ]
  },
  {
   "cell_type": "markdown",
   "id": "e0267c09",
   "metadata": {},
   "source": [
    "\n",
    "Для бизнеса можно сделать вывод, что исходя из имеющихся данных, расстояние которое проезжают пользоватили примерно равно оптимальному с точки зрения износа самоката."
   ]
  },
  {
   "cell_type": "markdown",
   "id": "febafaca",
   "metadata": {},
   "source": [
    "6.3\n",
    "Проверить гипотезу о том, будет ли помесячная выручка от пользователей с подпиской по месяцам выше, чем выручка от пользователей без подписки. Сделайте вывод"
   ]
  },
  {
   "cell_type": "markdown",
   "id": "7b7ebb19",
   "metadata": {},
   "source": [
    "Нулевая гипотеза: средняя помесячная выручка от пользователей с подпиской по месяцам равна средней помесячная выручка от пользователей без подписки. \n",
    "Альтернативная гипотеза: средняя помесячная выручка от пользователей с подпиской по месяцам больше, чем от пользователей без подписки."
   ]
  },
  {
   "cell_type": "markdown",
   "id": "83c2347d",
   "metadata": {},
   "source": [
    "Для того, что бы выполнить сравнение, сделаем два датасета из new_u_r_s, где в одном будут только помесячная выручка с подпиской, в другом без. Для этого нам понадобится столбец subscription_fee, в котором значение 199 означает, что это с подпиской и значение 0 - без подписки. "
   ]
  },
  {
   "cell_type": "code",
   "execution_count": 65,
   "id": "fafb7d9b",
   "metadata": {},
   "outputs": [],
   "source": [
    "new_u_r_s_ultra = new_u_r_s[new_u_r_s['subscription_fee'] == 199]"
   ]
  },
  {
   "cell_type": "code",
   "execution_count": 66,
   "id": "b4d304d4",
   "metadata": {},
   "outputs": [],
   "source": [
    "new_u_r_s_free = new_u_r_s[new_u_r_s['subscription_fee'] == 0]"
   ]
  },
  {
   "cell_type": "code",
   "execution_count": 67,
   "id": "e66dff6a",
   "metadata": {},
   "outputs": [
    {
     "data": {
      "text/html": [
       "<div>\n",
       "<style scoped>\n",
       "    .dataframe tbody tr th:only-of-type {\n",
       "        vertical-align: middle;\n",
       "    }\n",
       "\n",
       "    .dataframe tbody tr th {\n",
       "        vertical-align: top;\n",
       "    }\n",
       "\n",
       "    .dataframe thead th {\n",
       "        text-align: right;\n",
       "    }\n",
       "</style>\n",
       "<table border=\"1\" class=\"dataframe\">\n",
       "  <thead>\n",
       "    <tr style=\"text-align: right;\">\n",
       "      <th></th>\n",
       "      <th>user_id</th>\n",
       "      <th>month</th>\n",
       "      <th>minute_price</th>\n",
       "      <th>subscription_fee</th>\n",
       "      <th>start_ride_price</th>\n",
       "      <th>date</th>\n",
       "      <th>distance</th>\n",
       "      <th>duration</th>\n",
       "      <th>cost_rides</th>\n",
       "    </tr>\n",
       "  </thead>\n",
       "  <tbody>\n",
       "    <tr>\n",
       "      <th>0</th>\n",
       "      <td>1</td>\n",
       "      <td>1</td>\n",
       "      <td>6</td>\n",
       "      <td>199</td>\n",
       "      <td>0</td>\n",
       "      <td>2</td>\n",
       "      <td>7027.511294</td>\n",
       "      <td>42</td>\n",
       "      <td>451</td>\n",
       "    </tr>\n",
       "    <tr>\n",
       "      <th>1</th>\n",
       "      <td>1</td>\n",
       "      <td>4</td>\n",
       "      <td>6</td>\n",
       "      <td>199</td>\n",
       "      <td>0</td>\n",
       "      <td>1</td>\n",
       "      <td>754.159807</td>\n",
       "      <td>7</td>\n",
       "      <td>241</td>\n",
       "    </tr>\n",
       "    <tr>\n",
       "      <th>2</th>\n",
       "      <td>1</td>\n",
       "      <td>8</td>\n",
       "      <td>6</td>\n",
       "      <td>199</td>\n",
       "      <td>0</td>\n",
       "      <td>2</td>\n",
       "      <td>6723.470560</td>\n",
       "      <td>46</td>\n",
       "      <td>475</td>\n",
       "    </tr>\n",
       "    <tr>\n",
       "      <th>3</th>\n",
       "      <td>1</td>\n",
       "      <td>10</td>\n",
       "      <td>6</td>\n",
       "      <td>199</td>\n",
       "      <td>0</td>\n",
       "      <td>2</td>\n",
       "      <td>5809.911100</td>\n",
       "      <td>32</td>\n",
       "      <td>391</td>\n",
       "    </tr>\n",
       "    <tr>\n",
       "      <th>4</th>\n",
       "      <td>1</td>\n",
       "      <td>11</td>\n",
       "      <td>6</td>\n",
       "      <td>199</td>\n",
       "      <td>0</td>\n",
       "      <td>3</td>\n",
       "      <td>7003.499363</td>\n",
       "      <td>56</td>\n",
       "      <td>535</td>\n",
       "    </tr>\n",
       "  </tbody>\n",
       "</table>\n",
       "</div>"
      ],
      "text/plain": [
       "   user_id  month  minute_price  subscription_fee  start_ride_price  date  \\\n",
       "0        1      1             6               199                 0     2   \n",
       "1        1      4             6               199                 0     1   \n",
       "2        1      8             6               199                 0     2   \n",
       "3        1     10             6               199                 0     2   \n",
       "4        1     11             6               199                 0     3   \n",
       "\n",
       "      distance  duration  cost_rides  \n",
       "0  7027.511294        42         451  \n",
       "1   754.159807         7         241  \n",
       "2  6723.470560        46         475  \n",
       "3  5809.911100        32         391  \n",
       "4  7003.499363        56         535  "
      ]
     },
     "execution_count": 67,
     "metadata": {},
     "output_type": "execute_result"
    }
   ],
   "source": [
    "new_u_r_s_ultra.head()"
   ]
  },
  {
   "cell_type": "code",
   "execution_count": 68,
   "id": "eeceefad",
   "metadata": {},
   "outputs": [
    {
     "data": {
      "text/html": [
       "<div>\n",
       "<style scoped>\n",
       "    .dataframe tbody tr th:only-of-type {\n",
       "        vertical-align: middle;\n",
       "    }\n",
       "\n",
       "    .dataframe tbody tr th {\n",
       "        vertical-align: top;\n",
       "    }\n",
       "\n",
       "    .dataframe thead th {\n",
       "        text-align: right;\n",
       "    }\n",
       "</style>\n",
       "<table border=\"1\" class=\"dataframe\">\n",
       "  <thead>\n",
       "    <tr style=\"text-align: right;\">\n",
       "      <th></th>\n",
       "      <th>user_id</th>\n",
       "      <th>month</th>\n",
       "      <th>minute_price</th>\n",
       "      <th>subscription_fee</th>\n",
       "      <th>start_ride_price</th>\n",
       "      <th>date</th>\n",
       "      <th>distance</th>\n",
       "      <th>duration</th>\n",
       "      <th>cost_rides</th>\n",
       "    </tr>\n",
       "  </thead>\n",
       "  <tbody>\n",
       "    <tr>\n",
       "      <th>4533</th>\n",
       "      <td>700</td>\n",
       "      <td>1</td>\n",
       "      <td>8</td>\n",
       "      <td>0</td>\n",
       "      <td>50</td>\n",
       "      <td>1</td>\n",
       "      <td>2515.690719</td>\n",
       "      <td>15</td>\n",
       "      <td>170</td>\n",
       "    </tr>\n",
       "    <tr>\n",
       "      <th>4534</th>\n",
       "      <td>700</td>\n",
       "      <td>2</td>\n",
       "      <td>8</td>\n",
       "      <td>0</td>\n",
       "      <td>50</td>\n",
       "      <td>5</td>\n",
       "      <td>13446.659764</td>\n",
       "      <td>89</td>\n",
       "      <td>962</td>\n",
       "    </tr>\n",
       "    <tr>\n",
       "      <th>4535</th>\n",
       "      <td>700</td>\n",
       "      <td>3</td>\n",
       "      <td>8</td>\n",
       "      <td>0</td>\n",
       "      <td>50</td>\n",
       "      <td>1</td>\n",
       "      <td>3798.334905</td>\n",
       "      <td>19</td>\n",
       "      <td>202</td>\n",
       "    </tr>\n",
       "    <tr>\n",
       "      <th>4536</th>\n",
       "      <td>700</td>\n",
       "      <td>4</td>\n",
       "      <td>8</td>\n",
       "      <td>0</td>\n",
       "      <td>50</td>\n",
       "      <td>1</td>\n",
       "      <td>2984.551206</td>\n",
       "      <td>16</td>\n",
       "      <td>178</td>\n",
       "    </tr>\n",
       "    <tr>\n",
       "      <th>4537</th>\n",
       "      <td>700</td>\n",
       "      <td>6</td>\n",
       "      <td>8</td>\n",
       "      <td>0</td>\n",
       "      <td>50</td>\n",
       "      <td>2</td>\n",
       "      <td>5927.650988</td>\n",
       "      <td>29</td>\n",
       "      <td>332</td>\n",
       "    </tr>\n",
       "  </tbody>\n",
       "</table>\n",
       "</div>"
      ],
      "text/plain": [
       "      user_id  month  minute_price  subscription_fee  start_ride_price  date  \\\n",
       "4533      700      1             8                 0                50     1   \n",
       "4534      700      2             8                 0                50     5   \n",
       "4535      700      3             8                 0                50     1   \n",
       "4536      700      4             8                 0                50     1   \n",
       "4537      700      6             8                 0                50     2   \n",
       "\n",
       "          distance  duration  cost_rides  \n",
       "4533   2515.690719        15         170  \n",
       "4534  13446.659764        89         962  \n",
       "4535   3798.334905        19         202  \n",
       "4536   2984.551206        16         178  \n",
       "4537   5927.650988        29         332  "
      ]
     },
     "execution_count": 68,
     "metadata": {},
     "output_type": "execute_result"
    }
   ],
   "source": [
    "new_u_r_s_free.head()"
   ]
  },
  {
   "cell_type": "code",
   "execution_count": 69,
   "id": "105e30ed",
   "metadata": {},
   "outputs": [
    {
     "name": "stdout",
     "output_type": "stream",
     "text": [
      "p-значение: 8.874140893976874e-40\n",
      "Отвергаем нулевую гипотезу\n"
     ]
    }
   ],
   "source": [
    "cost_rides_ultra = new_u_r_s_ultra['cost_rides']\n",
    "cost_rides_free = new_u_r_s_free['cost_rides']\n",
    "\n",
    "alpha = 0.05 # уровень статистической значимости\n",
    "# если p-value окажется меньше него, отвергнем гипотезу\n",
    "\n",
    "results = st.ttest_ind( cost_rides_ultra, cost_rides_free, alternative = 'greater', equal_var=False)\n",
    "\n",
    "print('p-значение:', results.pvalue)\n",
    "\n",
    "if results.pvalue < alpha:\n",
    "    print('Отвергаем нулевую гипотезу')\n",
    "else:\n",
    "    print('Не получилось отвергнуть нулевую гипотезу') "
   ]
  },
  {
   "cell_type": "markdown",
   "id": "26f23766",
   "metadata": {},
   "source": [
    "Вероятность того, что мы получим фактическое среднее значение выручки от пользователей с подпиской по месяцам равное выручке от пользователей без подписки очень мала. По этому можно сказать, что помесячная выручка от пользователей с подпиской по месяцам выше, чем выручка от пользователей без подписки."
   ]
  },
  {
   "cell_type": "markdown",
   "id": "7481177a",
   "metadata": {},
   "source": [
    "6.4 Представьте такую ситуацию: техническая команда сервиса обновила сервера, с которыми взаимодействует мобильное приложение. Она надеется, что из-за этого количество обращений в техподдержку значимо снизилось. Некоторый файл содержит для каждого пользователя данные о количестве обращений до обновления и после него. Какой тест вам понадобился бы для проверки этой гипотезы?"
   ]
  },
  {
   "cell_type": "markdown",
   "id": "c8c50b3a",
   "metadata": {},
   "source": [
    "Сформулируем гипотезы.\n",
    "Нулевая гипотеза: количество обращений до обновления совпадает с количеством обращений после обновления. \n",
    "Альтернативная гипотеза: количество обращений до обновления больше, чем количество обращений после обновления."
   ]
  },
  {
   "cell_type": "markdown",
   "id": "3e330492",
   "metadata": {},
   "source": [
    "Мы можем использовать функцию scipy.stats.ttest_rel() с обязательными аргументами sample_1, sample_2: где за sample_1 и sample_2 мы принимаем за датасет с количеством обращений до обновления и после соответственно. А так же используем аргумент alternative = 'greater', т.к. альтернативная гипотеза- правосторонняя."
   ]
  },
  {
   "cell_type": "markdown",
   "id": "53f8714a",
   "metadata": {},
   "source": [
    "Для интерпретации результатов теста, необходимо сравнить p_value с заданным уровнем значимости (например, 0.05). Если p_value меньше заданного уровня значимости, то можно отклонить нулевую гипотезу и считать, что есть статистически значимые различия между средними значениями связанных датасетов. \n",
    "При условии, что нулевая гипотеза верна, вероятность получить наблюдаемые данные о том, что количество обращений до и после обновления ровны высока.\n",
    "Если нулевая гипотеза отклонена, то будет верна альтернативная гипотеза. Вероятность получить большее значие средней совокупности датасета с количеством обращений до обновления высока. Следовательно, количество обращений в техподдержку снизилось."
   ]
  },
  {
   "cell_type": "markdown",
   "id": "61213c5e",
   "metadata": {},
   "source": [
    "## Общий вывод"
   ]
  },
  {
   "cell_type": "markdown",
   "id": "3e15c1b9",
   "metadata": {},
   "source": [
    "В предобработке данных \n",
    "1. столбец date был приведен к типу даты pandas.\n",
    "2. Был создан новый столбец с номером месяца на основе столбца date.\n",
    "3. Проверка на наличие явных дубликатов показала их наличие в столбце users в количестве 31 штука. Были удалены. Не явные дубликаты выявленны не были. \n",
    "4. Неявные дубликаты могли бы быть найдены в датасете users, колонка name, city, subscription_type. Были просмотрены, неявные дубликаты обнаружены не были. \n",
    "Во время исследовательского анализа\n",
    "1) была рассмотрена частота встречаемости городов;\n",
    "2) соотношение пользователей с подпиской и без подписки;\n",
    "3) возраст пользователей;\n",
    "4) расстояние, которое пользователь преодолел за одну поездку;\n",
    "5) продолжительность поездок.\n",
    "Были созданы два датафрейма из объединенных дынных 3 таблиц, по признаку пользователей с платной подпиской и без. \n",
    "Был создан датафрейм с агригированными данными для каждого пользователя с суммарным расстоянием, количеством поездок и суммарным времянем для каждого пользователя за каждый месяц.\n",
    "В этот же датафрейм был добавлен столбец с помесячной выручкой, которую принёс каждый пользователь.\n",
    "В результате проверки некоторых гипотез были сделаны следующие выводы:\n",
    "1) пользователи с подпиской могут быть «выгоднее» для компании, т.к. зачастую тратят больше времени на поездки.\n",
    "2) фактическое среднее расстояние одной поездки самоката может быть равно 3130 метров(p-значение почти 92%, и это говорит о том, что с данной вероятностью мы получим фактическое среднее расстояние поездки равное 3130 метров).\n",
    "3) вероятность того, что мы получим фактическое среднее значение выручки от пользователей с подпиской по месяцам равное выручке от пользователей без подписки очень мала. По этому можно сказать, что помесячная выручка от пользователей с подпиской по месяцам выше, чем выручка от пользователей без подписки.\n",
    "4) если p_value меньше заданного уровня значимости, то можно отклонить нулевую гипотезу и считать, что есть статистически значимые различия между средними значениями связанных датасетов. При условии, что нулевая гипотеза верна, вероятность получить наблюдаемые данные о том, что количество обращений до и после обновления ровны высока. Если нулевая гипотеза отклонена, то будет верна альтернативная гипотеза. Вероятность получить большее значие средней совокупности датасета с количеством обращений до обновления высока. Следовательно, количество обращений в техподдержку снизилось.\n"
   ]
  },
  {
   "cell_type": "markdown",
   "id": "d23c0299",
   "metadata": {},
   "source": [
    "Рекомендации для бизнеса: \n",
    "\n",
    "Исходя из проделанного анализа, можно сделать вывод, что пользователи с подпиской более выгодны, чем без, тк средняя помесячная выручка от пользователей с подпиской по месяцам выше, чем выручка от пользователей без подписки. При этом, среднее расстояние, которое проезжает пользователь с подпиской, укладывается в оптимальное с точки зрения износа самоката."
   ]
  },
  {
   "cell_type": "code",
   "execution_count": null,
   "id": "d45e7cfe",
   "metadata": {},
   "outputs": [],
   "source": []
  }
 ],
 "metadata": {
  "ExecuteTimeLog": [
   {
    "duration": 437,
    "start_time": "2023-08-02T06:03:03.635Z"
   },
   {
    "duration": 200,
    "start_time": "2023-08-02T06:03:06.612Z"
   },
   {
    "duration": 367,
    "start_time": "2023-08-02T06:04:57.355Z"
   },
   {
    "duration": 71,
    "start_time": "2023-08-02T06:04:57.724Z"
   },
   {
    "duration": 17,
    "start_time": "2023-08-02T06:04:57.796Z"
   },
   {
    "duration": 9,
    "start_time": "2023-08-02T06:04:57.814Z"
   },
   {
    "duration": 14,
    "start_time": "2023-08-02T06:04:57.825Z"
   },
   {
    "duration": 20,
    "start_time": "2023-08-02T06:04:57.841Z"
   },
   {
    "duration": 44,
    "start_time": "2023-08-02T06:04:57.862Z"
   },
   {
    "duration": 16,
    "start_time": "2023-08-02T06:04:57.908Z"
   },
   {
    "duration": 445,
    "start_time": "2023-08-02T06:08:55.008Z"
   },
   {
    "duration": 70,
    "start_time": "2023-08-02T06:08:55.455Z"
   },
   {
    "duration": 16,
    "start_time": "2023-08-02T06:08:55.527Z"
   },
   {
    "duration": 16,
    "start_time": "2023-08-02T06:08:55.545Z"
   },
   {
    "duration": 13,
    "start_time": "2023-08-02T06:08:55.563Z"
   },
   {
    "duration": 17,
    "start_time": "2023-08-02T06:08:55.578Z"
   },
   {
    "duration": 6,
    "start_time": "2023-08-02T06:08:55.597Z"
   },
   {
    "duration": 11,
    "start_time": "2023-08-02T06:08:55.608Z"
   },
   {
    "duration": 382,
    "start_time": "2023-08-02T07:04:28.583Z"
   },
   {
    "duration": 87,
    "start_time": "2023-08-02T07:04:28.969Z"
   },
   {
    "duration": 24,
    "start_time": "2023-08-02T07:04:29.059Z"
   },
   {
    "duration": 119,
    "start_time": "2023-08-02T07:04:29.086Z"
   },
   {
    "duration": 142,
    "start_time": "2023-08-02T07:04:29.207Z"
   },
   {
    "duration": 187,
    "start_time": "2023-08-02T07:04:29.351Z"
   },
   {
    "duration": 58,
    "start_time": "2023-08-02T07:04:29.540Z"
   },
   {
    "duration": 113,
    "start_time": "2023-08-02T07:04:29.600Z"
   },
   {
    "duration": 131,
    "start_time": "2023-08-02T07:04:29.722Z"
   },
   {
    "duration": 149,
    "start_time": "2023-08-02T07:04:29.857Z"
   },
   {
    "duration": 14,
    "start_time": "2023-08-02T07:05:09.322Z"
   },
   {
    "duration": 5,
    "start_time": "2023-08-02T07:35:45.387Z"
   },
   {
    "duration": 5,
    "start_time": "2023-08-02T07:35:46.778Z"
   },
   {
    "duration": 6,
    "start_time": "2023-08-02T07:39:22.078Z"
   },
   {
    "duration": 11,
    "start_time": "2023-08-02T07:41:32.645Z"
   },
   {
    "duration": 17,
    "start_time": "2023-08-02T07:41:35.107Z"
   },
   {
    "duration": 8,
    "start_time": "2023-08-02T07:42:08.269Z"
   },
   {
    "duration": 5,
    "start_time": "2023-08-02T07:42:31.790Z"
   },
   {
    "duration": 1047,
    "start_time": "2023-08-02T07:50:32.202Z"
   },
   {
    "duration": 294,
    "start_time": "2023-08-02T07:51:11.768Z"
   },
   {
    "duration": 433,
    "start_time": "2023-08-02T07:53:08.153Z"
   },
   {
    "duration": 970,
    "start_time": "2023-08-02T08:58:18.468Z"
   },
   {
    "duration": 5,
    "start_time": "2023-08-02T09:18:33.171Z"
   },
   {
    "duration": 448,
    "start_time": "2023-08-02T09:18:59.587Z"
   },
   {
    "duration": 78,
    "start_time": "2023-08-02T09:19:00.037Z"
   },
   {
    "duration": 19,
    "start_time": "2023-08-02T09:19:00.117Z"
   },
   {
    "duration": 35,
    "start_time": "2023-08-02T09:19:00.138Z"
   },
   {
    "duration": 43,
    "start_time": "2023-08-02T09:19:00.175Z"
   },
   {
    "duration": 46,
    "start_time": "2023-08-02T09:19:00.219Z"
   },
   {
    "duration": 32,
    "start_time": "2023-08-02T09:19:00.268Z"
   },
   {
    "duration": 58,
    "start_time": "2023-08-02T09:19:00.302Z"
   },
   {
    "duration": 45,
    "start_time": "2023-08-02T09:19:00.362Z"
   },
   {
    "duration": 85,
    "start_time": "2023-08-02T09:19:00.409Z"
   },
   {
    "duration": 67,
    "start_time": "2023-08-02T09:19:00.496Z"
   },
   {
    "duration": 77,
    "start_time": "2023-08-02T09:19:00.565Z"
   },
   {
    "duration": 36,
    "start_time": "2023-08-02T09:19:00.644Z"
   },
   {
    "duration": 38,
    "start_time": "2023-08-02T09:19:00.684Z"
   },
   {
    "duration": 60,
    "start_time": "2023-08-02T09:19:00.724Z"
   },
   {
    "duration": 56,
    "start_time": "2023-08-02T09:19:00.786Z"
   },
   {
    "duration": 33,
    "start_time": "2023-08-02T09:19:00.844Z"
   },
   {
    "duration": 47,
    "start_time": "2023-08-02T09:19:00.879Z"
   },
   {
    "duration": 63,
    "start_time": "2023-08-02T09:19:00.928Z"
   },
   {
    "duration": 13,
    "start_time": "2023-08-02T09:20:05.857Z"
   },
   {
    "duration": 14,
    "start_time": "2023-08-02T09:21:22.409Z"
   },
   {
    "duration": 8,
    "start_time": "2023-08-02T09:22:01.675Z"
   },
   {
    "duration": 4,
    "start_time": "2023-08-02T09:32:09.779Z"
   },
   {
    "duration": 432,
    "start_time": "2023-08-02T09:32:24.866Z"
   },
   {
    "duration": 145,
    "start_time": "2023-08-02T09:35:58.395Z"
   },
   {
    "duration": 150,
    "start_time": "2023-08-02T09:38:15.184Z"
   },
   {
    "duration": 5,
    "start_time": "2023-08-02T09:39:07.869Z"
   },
   {
    "duration": 147,
    "start_time": "2023-08-02T09:39:11.480Z"
   },
   {
    "duration": 17,
    "start_time": "2023-08-02T09:40:57.309Z"
   },
   {
    "duration": 135,
    "start_time": "2023-08-02T09:42:32.634Z"
   },
   {
    "duration": 18,
    "start_time": "2023-08-02T09:54:23.099Z"
   },
   {
    "duration": 13,
    "start_time": "2023-08-02T09:55:16.025Z"
   },
   {
    "duration": 90,
    "start_time": "2023-08-02T09:55:23.639Z"
   },
   {
    "duration": 6,
    "start_time": "2023-08-02T09:55:30.150Z"
   },
   {
    "duration": 17,
    "start_time": "2023-08-02T09:55:40.805Z"
   },
   {
    "duration": 8,
    "start_time": "2023-08-02T10:06:10.237Z"
   },
   {
    "duration": 13,
    "start_time": "2023-08-02T10:06:22.430Z"
   },
   {
    "duration": 4,
    "start_time": "2023-08-02T10:06:41.498Z"
   },
   {
    "duration": 217,
    "start_time": "2023-08-02T10:06:44.080Z"
   },
   {
    "duration": 7,
    "start_time": "2023-08-02T10:17:35.760Z"
   },
   {
    "duration": 7,
    "start_time": "2023-08-02T11:41:52.188Z"
   },
   {
    "duration": 6,
    "start_time": "2023-08-02T11:46:53.458Z"
   },
   {
    "duration": 7,
    "start_time": "2023-08-02T11:48:07.247Z"
   },
   {
    "duration": 9,
    "start_time": "2023-08-02T11:49:00.447Z"
   },
   {
    "duration": 9,
    "start_time": "2023-08-02T11:49:31.601Z"
   },
   {
    "duration": 99,
    "start_time": "2023-08-02T11:52:17.384Z"
   },
   {
    "duration": 14,
    "start_time": "2023-08-02T11:56:05.790Z"
   },
   {
    "duration": 135,
    "start_time": "2023-08-02T11:59:14.574Z"
   },
   {
    "duration": 12,
    "start_time": "2023-08-02T11:59:17.442Z"
   },
   {
    "duration": 169,
    "start_time": "2023-08-02T12:00:27.192Z"
   },
   {
    "duration": 12,
    "start_time": "2023-08-02T12:00:32.106Z"
   },
   {
    "duration": 146,
    "start_time": "2023-08-02T12:08:07.437Z"
   },
   {
    "duration": 141,
    "start_time": "2023-08-02T12:08:37.407Z"
   },
   {
    "duration": 161,
    "start_time": "2023-08-02T12:24:04.855Z"
   },
   {
    "duration": 178,
    "start_time": "2023-08-02T12:24:16.510Z"
   },
   {
    "duration": 178,
    "start_time": "2023-08-02T12:24:48.899Z"
   },
   {
    "duration": 145,
    "start_time": "2023-08-02T12:25:03.734Z"
   },
   {
    "duration": 174,
    "start_time": "2023-08-02T12:27:00.608Z"
   },
   {
    "duration": 243,
    "start_time": "2023-08-02T12:27:27.622Z"
   },
   {
    "duration": 5,
    "start_time": "2023-08-02T12:31:55.523Z"
   },
   {
    "duration": 87,
    "start_time": "2023-08-02T12:31:58.061Z"
   },
   {
    "duration": 91,
    "start_time": "2023-08-02T12:42:47.153Z"
   },
   {
    "duration": 86,
    "start_time": "2023-08-02T12:43:17.848Z"
   },
   {
    "duration": 82,
    "start_time": "2023-08-02T12:43:47.448Z"
   },
   {
    "duration": 136,
    "start_time": "2023-08-02T12:55:30.465Z"
   },
   {
    "duration": 161,
    "start_time": "2023-08-02T12:57:36.576Z"
   },
   {
    "duration": 1056,
    "start_time": "2023-08-02T13:28:48.067Z"
   },
   {
    "duration": 591,
    "start_time": "2023-08-02T13:29:07.966Z"
   },
   {
    "duration": 373,
    "start_time": "2023-08-02T13:30:10.035Z"
   },
   {
    "duration": 250,
    "start_time": "2023-08-02T18:30:27.806Z"
   },
   {
    "duration": 192,
    "start_time": "2023-08-02T18:30:58.390Z"
   },
   {
    "duration": 193,
    "start_time": "2023-08-02T18:33:24.735Z"
   },
   {
    "duration": 263,
    "start_time": "2023-08-02T18:34:05.988Z"
   },
   {
    "duration": 233,
    "start_time": "2023-08-02T18:34:43.665Z"
   },
   {
    "duration": 17,
    "start_time": "2023-08-02T18:39:35.399Z"
   },
   {
    "duration": 405,
    "start_time": "2023-08-03T06:00:09.527Z"
   },
   {
    "duration": 133,
    "start_time": "2023-08-03T06:00:09.934Z"
   },
   {
    "duration": 16,
    "start_time": "2023-08-03T06:00:10.068Z"
   },
   {
    "duration": 67,
    "start_time": "2023-08-03T06:00:10.086Z"
   },
   {
    "duration": 81,
    "start_time": "2023-08-03T06:00:10.155Z"
   },
   {
    "duration": 44,
    "start_time": "2023-08-03T06:00:10.238Z"
   },
   {
    "duration": 24,
    "start_time": "2023-08-03T06:00:10.284Z"
   },
   {
    "duration": 47,
    "start_time": "2023-08-03T06:00:10.310Z"
   },
   {
    "duration": 22,
    "start_time": "2023-08-03T06:00:10.359Z"
   },
   {
    "duration": 51,
    "start_time": "2023-08-03T06:00:10.383Z"
   },
   {
    "duration": 45,
    "start_time": "2023-08-03T06:00:10.436Z"
   },
   {
    "duration": 15,
    "start_time": "2023-08-03T06:00:10.483Z"
   },
   {
    "duration": 11,
    "start_time": "2023-08-03T06:00:10.499Z"
   },
   {
    "duration": 31,
    "start_time": "2023-08-03T06:00:10.513Z"
   },
   {
    "duration": 74,
    "start_time": "2023-08-03T06:00:10.547Z"
   },
   {
    "duration": 37,
    "start_time": "2023-08-03T06:00:10.622Z"
   },
   {
    "duration": 60,
    "start_time": "2023-08-03T06:00:10.661Z"
   },
   {
    "duration": 29,
    "start_time": "2023-08-03T06:00:10.723Z"
   },
   {
    "duration": 24,
    "start_time": "2023-08-03T06:00:10.753Z"
   },
   {
    "duration": 706,
    "start_time": "2023-08-03T06:00:10.779Z"
   },
   {
    "duration": 9,
    "start_time": "2023-08-03T06:00:11.487Z"
   },
   {
    "duration": 131,
    "start_time": "2023-08-03T06:00:11.509Z"
   },
   {
    "duration": 9,
    "start_time": "2023-08-03T06:00:11.642Z"
   },
   {
    "duration": 134,
    "start_time": "2023-08-03T06:00:11.652Z"
   },
   {
    "duration": 9,
    "start_time": "2023-08-03T06:00:11.788Z"
   },
   {
    "duration": 18,
    "start_time": "2023-08-03T06:00:11.798Z"
   },
   {
    "duration": 23,
    "start_time": "2023-08-03T06:00:11.818Z"
   },
   {
    "duration": 15,
    "start_time": "2023-08-03T06:00:11.842Z"
   },
   {
    "duration": 16,
    "start_time": "2023-08-03T06:00:11.859Z"
   },
   {
    "duration": 148,
    "start_time": "2023-08-03T06:00:11.876Z"
   },
   {
    "duration": 5,
    "start_time": "2023-08-03T06:00:12.025Z"
   },
   {
    "duration": 104,
    "start_time": "2023-08-03T06:00:12.031Z"
   },
   {
    "duration": 147,
    "start_time": "2023-08-03T06:00:12.137Z"
   },
   {
    "duration": 0,
    "start_time": "2023-08-03T06:00:12.285Z"
   },
   {
    "duration": 0,
    "start_time": "2023-08-03T06:00:12.287Z"
   },
   {
    "duration": 0,
    "start_time": "2023-08-03T06:00:12.288Z"
   },
   {
    "duration": 0,
    "start_time": "2023-08-03T06:00:12.289Z"
   },
   {
    "duration": 407,
    "start_time": "2023-08-03T06:00:31.514Z"
   },
   {
    "duration": 76,
    "start_time": "2023-08-03T06:00:31.923Z"
   },
   {
    "duration": 20,
    "start_time": "2023-08-03T06:00:32.001Z"
   },
   {
    "duration": 122,
    "start_time": "2023-08-03T06:00:32.023Z"
   },
   {
    "duration": 106,
    "start_time": "2023-08-03T06:00:32.148Z"
   },
   {
    "duration": 140,
    "start_time": "2023-08-03T06:00:32.256Z"
   },
   {
    "duration": 104,
    "start_time": "2023-08-03T06:00:32.397Z"
   },
   {
    "duration": 131,
    "start_time": "2023-08-03T06:00:32.503Z"
   },
   {
    "duration": 14,
    "start_time": "2023-08-03T06:00:32.637Z"
   },
   {
    "duration": 11,
    "start_time": "2023-08-03T06:00:32.653Z"
   },
   {
    "duration": 11,
    "start_time": "2023-08-03T06:00:32.666Z"
   },
   {
    "duration": 6,
    "start_time": "2023-08-03T06:00:32.679Z"
   },
   {
    "duration": 12,
    "start_time": "2023-08-03T06:00:32.686Z"
   },
   {
    "duration": 27,
    "start_time": "2023-08-03T06:00:32.701Z"
   },
   {
    "duration": 22,
    "start_time": "2023-08-03T06:00:32.730Z"
   },
   {
    "duration": 12,
    "start_time": "2023-08-03T06:00:32.753Z"
   },
   {
    "duration": 7,
    "start_time": "2023-08-03T06:00:32.767Z"
   },
   {
    "duration": 8,
    "start_time": "2023-08-03T06:00:32.776Z"
   },
   {
    "duration": 9,
    "start_time": "2023-08-03T06:00:32.786Z"
   },
   {
    "duration": 453,
    "start_time": "2023-08-03T06:00:32.797Z"
   },
   {
    "duration": 8,
    "start_time": "2023-08-03T06:00:33.252Z"
   },
   {
    "duration": 136,
    "start_time": "2023-08-03T06:00:33.262Z"
   },
   {
    "duration": 10,
    "start_time": "2023-08-03T06:00:33.408Z"
   },
   {
    "duration": 171,
    "start_time": "2023-08-03T06:00:33.420Z"
   },
   {
    "duration": 23,
    "start_time": "2023-08-03T06:00:33.592Z"
   },
   {
    "duration": 9,
    "start_time": "2023-08-03T06:00:33.618Z"
   },
   {
    "duration": 20,
    "start_time": "2023-08-03T06:00:33.629Z"
   },
   {
    "duration": 7,
    "start_time": "2023-08-03T06:00:33.651Z"
   },
   {
    "duration": 8,
    "start_time": "2023-08-03T06:00:33.660Z"
   },
   {
    "duration": 167,
    "start_time": "2023-08-03T06:00:33.670Z"
   },
   {
    "duration": 5,
    "start_time": "2023-08-03T06:00:33.839Z"
   },
   {
    "duration": 104,
    "start_time": "2023-08-03T06:00:33.846Z"
   },
   {
    "duration": 249,
    "start_time": "2023-08-03T06:00:33.952Z"
   },
   {
    "duration": 228,
    "start_time": "2023-08-03T06:00:34.208Z"
   },
   {
    "duration": 256,
    "start_time": "2023-08-03T06:00:34.440Z"
   },
   {
    "duration": 22,
    "start_time": "2023-08-03T06:00:34.698Z"
   },
   {
    "duration": 12,
    "start_time": "2023-08-03T07:21:20.559Z"
   },
   {
    "duration": 15,
    "start_time": "2023-08-03T07:21:38.366Z"
   },
   {
    "duration": 14,
    "start_time": "2023-08-03T07:22:24.646Z"
   },
   {
    "duration": 14,
    "start_time": "2023-08-03T07:22:39.149Z"
   },
   {
    "duration": 145,
    "start_time": "2023-08-03T07:27:16.302Z"
   },
   {
    "duration": 30,
    "start_time": "2023-08-03T07:29:45.046Z"
   },
   {
    "duration": 11,
    "start_time": "2023-08-03T07:32:43.663Z"
   },
   {
    "duration": 10,
    "start_time": "2023-08-03T07:33:00.152Z"
   },
   {
    "duration": 15,
    "start_time": "2023-08-03T07:33:03.583Z"
   },
   {
    "duration": 14,
    "start_time": "2023-08-03T07:33:29.382Z"
   },
   {
    "duration": 2432,
    "start_time": "2023-08-03T07:39:31.043Z"
   },
   {
    "duration": 24,
    "start_time": "2023-08-03T07:39:45.682Z"
   },
   {
    "duration": 13,
    "start_time": "2023-08-03T07:40:18.806Z"
   },
   {
    "duration": 12,
    "start_time": "2023-08-03T07:40:37.795Z"
   },
   {
    "duration": 6,
    "start_time": "2023-08-03T07:41:49.765Z"
   },
   {
    "duration": 12,
    "start_time": "2023-08-03T07:42:03.947Z"
   },
   {
    "duration": 251,
    "start_time": "2023-08-03T08:05:36.907Z"
   },
   {
    "duration": 228,
    "start_time": "2023-08-03T08:07:49.564Z"
   },
   {
    "duration": 228,
    "start_time": "2023-08-03T08:08:20.023Z"
   },
   {
    "duration": 290,
    "start_time": "2023-08-03T08:08:25.631Z"
   },
   {
    "duration": 323,
    "start_time": "2023-08-03T08:08:33.179Z"
   },
   {
    "duration": 267,
    "start_time": "2023-08-03T08:08:39.364Z"
   },
   {
    "duration": 245,
    "start_time": "2023-08-03T08:16:40.206Z"
   },
   {
    "duration": 240,
    "start_time": "2023-08-03T08:18:30.984Z"
   },
   {
    "duration": 288,
    "start_time": "2023-08-03T08:20:15.758Z"
   },
   {
    "duration": 506,
    "start_time": "2023-08-03T08:22:59.532Z"
   },
   {
    "duration": 415,
    "start_time": "2023-08-03T08:23:53.958Z"
   },
   {
    "duration": 434,
    "start_time": "2023-08-03T08:24:19.931Z"
   },
   {
    "duration": 522,
    "start_time": "2023-08-03T08:30:43.709Z"
   },
   {
    "duration": 590,
    "start_time": "2023-08-03T08:32:09.562Z"
   },
   {
    "duration": 388,
    "start_time": "2023-08-03T08:34:14.246Z"
   },
   {
    "duration": 3,
    "start_time": "2023-08-03T08:36:39.643Z"
   },
   {
    "duration": 202,
    "start_time": "2023-08-03T08:36:54.543Z"
   },
   {
    "duration": 0,
    "start_time": "2023-08-03T08:36:54.750Z"
   },
   {
    "duration": 0,
    "start_time": "2023-08-03T08:36:54.751Z"
   },
   {
    "duration": 0,
    "start_time": "2023-08-03T08:36:54.753Z"
   },
   {
    "duration": 0,
    "start_time": "2023-08-03T08:36:54.755Z"
   },
   {
    "duration": 0,
    "start_time": "2023-08-03T08:36:54.756Z"
   },
   {
    "duration": 0,
    "start_time": "2023-08-03T08:36:54.757Z"
   },
   {
    "duration": 0,
    "start_time": "2023-08-03T08:36:54.758Z"
   },
   {
    "duration": 0,
    "start_time": "2023-08-03T08:36:54.759Z"
   },
   {
    "duration": 0,
    "start_time": "2023-08-03T08:36:54.760Z"
   },
   {
    "duration": 0,
    "start_time": "2023-08-03T08:36:54.761Z"
   },
   {
    "duration": 0,
    "start_time": "2023-08-03T08:36:54.762Z"
   },
   {
    "duration": 0,
    "start_time": "2023-08-03T08:36:54.763Z"
   },
   {
    "duration": 0,
    "start_time": "2023-08-03T08:36:54.764Z"
   },
   {
    "duration": 0,
    "start_time": "2023-08-03T08:36:54.765Z"
   },
   {
    "duration": 0,
    "start_time": "2023-08-03T08:36:54.766Z"
   },
   {
    "duration": 0,
    "start_time": "2023-08-03T08:36:54.767Z"
   },
   {
    "duration": 0,
    "start_time": "2023-08-03T08:36:54.768Z"
   },
   {
    "duration": 0,
    "start_time": "2023-08-03T08:36:54.769Z"
   },
   {
    "duration": 0,
    "start_time": "2023-08-03T08:36:54.770Z"
   },
   {
    "duration": 0,
    "start_time": "2023-08-03T08:36:54.771Z"
   },
   {
    "duration": 0,
    "start_time": "2023-08-03T08:36:54.772Z"
   },
   {
    "duration": 0,
    "start_time": "2023-08-03T08:36:54.773Z"
   },
   {
    "duration": 0,
    "start_time": "2023-08-03T08:36:54.774Z"
   },
   {
    "duration": 0,
    "start_time": "2023-08-03T08:36:54.775Z"
   },
   {
    "duration": 0,
    "start_time": "2023-08-03T08:36:54.777Z"
   },
   {
    "duration": 0,
    "start_time": "2023-08-03T08:36:54.778Z"
   },
   {
    "duration": 0,
    "start_time": "2023-08-03T08:36:54.779Z"
   },
   {
    "duration": 0,
    "start_time": "2023-08-03T08:36:54.781Z"
   },
   {
    "duration": 0,
    "start_time": "2023-08-03T08:36:54.782Z"
   },
   {
    "duration": 0,
    "start_time": "2023-08-03T08:36:54.783Z"
   },
   {
    "duration": 0,
    "start_time": "2023-08-03T08:36:54.784Z"
   },
   {
    "duration": 0,
    "start_time": "2023-08-03T08:36:54.810Z"
   },
   {
    "duration": 0,
    "start_time": "2023-08-03T08:36:54.811Z"
   },
   {
    "duration": 0,
    "start_time": "2023-08-03T08:36:54.813Z"
   },
   {
    "duration": 0,
    "start_time": "2023-08-03T08:36:54.816Z"
   },
   {
    "duration": 0,
    "start_time": "2023-08-03T08:36:54.818Z"
   },
   {
    "duration": 0,
    "start_time": "2023-08-03T08:36:54.819Z"
   },
   {
    "duration": 0,
    "start_time": "2023-08-03T08:36:54.820Z"
   },
   {
    "duration": 0,
    "start_time": "2023-08-03T08:36:54.821Z"
   },
   {
    "duration": 0,
    "start_time": "2023-08-03T08:36:54.823Z"
   },
   {
    "duration": 0,
    "start_time": "2023-08-03T08:36:54.824Z"
   },
   {
    "duration": 0,
    "start_time": "2023-08-03T08:36:54.825Z"
   },
   {
    "duration": 0,
    "start_time": "2023-08-03T08:36:54.826Z"
   },
   {
    "duration": 0,
    "start_time": "2023-08-03T08:36:54.827Z"
   },
   {
    "duration": 0,
    "start_time": "2023-08-03T08:36:54.828Z"
   },
   {
    "duration": 0,
    "start_time": "2023-08-03T08:36:54.829Z"
   },
   {
    "duration": 731,
    "start_time": "2023-08-03T08:38:43.378Z"
   },
   {
    "duration": 74,
    "start_time": "2023-08-03T08:38:44.112Z"
   },
   {
    "duration": 13,
    "start_time": "2023-08-03T08:38:44.187Z"
   },
   {
    "duration": 21,
    "start_time": "2023-08-03T08:38:44.203Z"
   },
   {
    "duration": 26,
    "start_time": "2023-08-03T08:38:44.227Z"
   },
   {
    "duration": 26,
    "start_time": "2023-08-03T08:38:44.256Z"
   },
   {
    "duration": 23,
    "start_time": "2023-08-03T08:38:44.284Z"
   },
   {
    "duration": 25,
    "start_time": "2023-08-03T08:38:44.309Z"
   },
   {
    "duration": 18,
    "start_time": "2023-08-03T08:38:44.336Z"
   },
   {
    "duration": 19,
    "start_time": "2023-08-03T08:38:44.357Z"
   },
   {
    "duration": 5,
    "start_time": "2023-08-03T08:38:44.377Z"
   },
   {
    "duration": 7,
    "start_time": "2023-08-03T08:38:44.383Z"
   },
   {
    "duration": 16,
    "start_time": "2023-08-03T08:38:44.391Z"
   },
   {
    "duration": 17,
    "start_time": "2023-08-03T08:38:44.409Z"
   },
   {
    "duration": 19,
    "start_time": "2023-08-03T08:38:44.428Z"
   },
   {
    "duration": 18,
    "start_time": "2023-08-03T08:38:44.450Z"
   },
   {
    "duration": 5,
    "start_time": "2023-08-03T08:38:44.470Z"
   },
   {
    "duration": 13,
    "start_time": "2023-08-03T08:38:44.477Z"
   },
   {
    "duration": 8,
    "start_time": "2023-08-03T08:38:44.492Z"
   },
   {
    "duration": 130,
    "start_time": "2023-08-03T08:38:44.501Z"
   },
   {
    "duration": 10,
    "start_time": "2023-08-03T08:38:44.634Z"
   },
   {
    "duration": 141,
    "start_time": "2023-08-03T08:38:44.647Z"
   },
   {
    "duration": 21,
    "start_time": "2023-08-03T08:38:44.790Z"
   },
   {
    "duration": 153,
    "start_time": "2023-08-03T08:38:44.813Z"
   },
   {
    "duration": 10,
    "start_time": "2023-08-03T08:38:44.968Z"
   },
   {
    "duration": 7,
    "start_time": "2023-08-03T08:38:44.979Z"
   },
   {
    "duration": 58,
    "start_time": "2023-08-03T08:38:44.987Z"
   },
   {
    "duration": 22,
    "start_time": "2023-08-03T08:38:45.049Z"
   },
   {
    "duration": 13,
    "start_time": "2023-08-03T08:38:45.073Z"
   },
   {
    "duration": 192,
    "start_time": "2023-08-03T08:38:45.088Z"
   },
   {
    "duration": 4,
    "start_time": "2023-08-03T08:38:45.282Z"
   },
   {
    "duration": 179,
    "start_time": "2023-08-03T08:38:45.287Z"
   },
   {
    "duration": 192,
    "start_time": "2023-08-03T08:38:45.468Z"
   },
   {
    "duration": 237,
    "start_time": "2023-08-03T08:38:45.661Z"
   },
   {
    "duration": 346,
    "start_time": "2023-08-03T08:38:45.899Z"
   },
   {
    "duration": 18,
    "start_time": "2023-08-03T08:38:46.247Z"
   },
   {
    "duration": 25,
    "start_time": "2023-08-03T08:38:46.267Z"
   },
   {
    "duration": 25,
    "start_time": "2023-08-03T08:38:46.295Z"
   },
   {
    "duration": 13,
    "start_time": "2023-08-03T08:38:46.323Z"
   },
   {
    "duration": 27,
    "start_time": "2023-08-03T08:38:46.338Z"
   },
   {
    "duration": 29,
    "start_time": "2023-08-03T08:38:46.367Z"
   },
   {
    "duration": 10,
    "start_time": "2023-08-03T08:38:46.408Z"
   },
   {
    "duration": 18,
    "start_time": "2023-08-03T08:38:46.420Z"
   },
   {
    "duration": 13,
    "start_time": "2023-08-03T08:38:46.441Z"
   },
   {
    "duration": 18,
    "start_time": "2023-08-03T08:38:46.456Z"
   },
   {
    "duration": 417,
    "start_time": "2023-08-03T08:38:46.475Z"
   },
   {
    "duration": 446,
    "start_time": "2023-08-03T08:38:46.893Z"
   },
   {
    "duration": 349,
    "start_time": "2023-08-03T08:39:28.770Z"
   },
   {
    "duration": 447,
    "start_time": "2023-08-03T08:42:06.523Z"
   },
   {
    "duration": 154,
    "start_time": "2023-08-03T08:49:16.010Z"
   },
   {
    "duration": 11,
    "start_time": "2023-08-03T08:50:45.569Z"
   },
   {
    "duration": 11,
    "start_time": "2023-08-03T08:51:03.476Z"
   },
   {
    "duration": 10,
    "start_time": "2023-08-03T08:51:39.852Z"
   },
   {
    "duration": 9,
    "start_time": "2023-08-03T08:51:42.284Z"
   },
   {
    "duration": 850,
    "start_time": "2023-08-03T09:19:07.641Z"
   },
   {
    "duration": 91,
    "start_time": "2023-08-03T09:19:08.494Z"
   },
   {
    "duration": 16,
    "start_time": "2023-08-03T09:19:08.587Z"
   },
   {
    "duration": 17,
    "start_time": "2023-08-03T09:19:08.605Z"
   },
   {
    "duration": 36,
    "start_time": "2023-08-03T09:19:08.625Z"
   },
   {
    "duration": 17,
    "start_time": "2023-08-03T09:19:08.664Z"
   },
   {
    "duration": 9,
    "start_time": "2023-08-03T09:19:08.683Z"
   },
   {
    "duration": 14,
    "start_time": "2023-08-03T09:19:08.694Z"
   },
   {
    "duration": 41,
    "start_time": "2023-08-03T09:19:08.712Z"
   },
   {
    "duration": 16,
    "start_time": "2023-08-03T09:19:08.755Z"
   },
   {
    "duration": 5,
    "start_time": "2023-08-03T09:19:08.773Z"
   },
   {
    "duration": 6,
    "start_time": "2023-08-03T09:19:08.780Z"
   },
   {
    "duration": 12,
    "start_time": "2023-08-03T09:19:08.788Z"
   },
   {
    "duration": 53,
    "start_time": "2023-08-03T09:19:08.803Z"
   },
   {
    "duration": 22,
    "start_time": "2023-08-03T09:19:08.858Z"
   },
   {
    "duration": 15,
    "start_time": "2023-08-03T09:19:08.883Z"
   },
   {
    "duration": 35,
    "start_time": "2023-08-03T09:19:08.900Z"
   },
   {
    "duration": 44,
    "start_time": "2023-08-03T09:19:08.937Z"
   },
   {
    "duration": 64,
    "start_time": "2023-08-03T09:19:08.983Z"
   },
   {
    "duration": 141,
    "start_time": "2023-08-03T09:19:09.049Z"
   },
   {
    "duration": 11,
    "start_time": "2023-08-03T09:19:09.192Z"
   },
   {
    "duration": 194,
    "start_time": "2023-08-03T09:19:09.211Z"
   },
   {
    "duration": 17,
    "start_time": "2023-08-03T09:19:09.407Z"
   },
   {
    "duration": 264,
    "start_time": "2023-08-03T09:19:09.427Z"
   },
   {
    "duration": 19,
    "start_time": "2023-08-03T09:19:09.693Z"
   },
   {
    "duration": 36,
    "start_time": "2023-08-03T09:19:09.714Z"
   },
   {
    "duration": 16,
    "start_time": "2023-08-03T09:19:09.752Z"
   },
   {
    "duration": 10,
    "start_time": "2023-08-03T09:19:09.770Z"
   },
   {
    "duration": 20,
    "start_time": "2023-08-03T09:19:09.781Z"
   },
   {
    "duration": 211,
    "start_time": "2023-08-03T09:19:09.803Z"
   },
   {
    "duration": 7,
    "start_time": "2023-08-03T09:19:10.016Z"
   },
   {
    "duration": 240,
    "start_time": "2023-08-03T09:19:10.025Z"
   },
   {
    "duration": 206,
    "start_time": "2023-08-03T09:19:10.268Z"
   },
   {
    "duration": 275,
    "start_time": "2023-08-03T09:19:10.476Z"
   },
   {
    "duration": 293,
    "start_time": "2023-08-03T09:19:10.753Z"
   },
   {
    "duration": 16,
    "start_time": "2023-08-03T09:19:11.048Z"
   },
   {
    "duration": 13,
    "start_time": "2023-08-03T09:19:11.066Z"
   },
   {
    "duration": 40,
    "start_time": "2023-08-03T09:19:11.081Z"
   },
   {
    "duration": 13,
    "start_time": "2023-08-03T09:19:11.123Z"
   },
   {
    "duration": 25,
    "start_time": "2023-08-03T09:19:11.138Z"
   },
   {
    "duration": 14,
    "start_time": "2023-08-03T09:19:11.167Z"
   },
   {
    "duration": 32,
    "start_time": "2023-08-03T09:19:11.183Z"
   },
   {
    "duration": 19,
    "start_time": "2023-08-03T09:19:11.217Z"
   },
   {
    "duration": 26,
    "start_time": "2023-08-03T09:19:11.238Z"
   },
   {
    "duration": 20,
    "start_time": "2023-08-03T09:19:11.266Z"
   },
   {
    "duration": 467,
    "start_time": "2023-08-03T09:19:11.288Z"
   },
   {
    "duration": 646,
    "start_time": "2023-08-03T09:19:11.757Z"
   },
   {
    "duration": 734,
    "start_time": "2023-08-03T09:38:51.759Z"
   },
   {
    "duration": 91,
    "start_time": "2023-08-03T09:38:52.495Z"
   },
   {
    "duration": 18,
    "start_time": "2023-08-03T09:38:52.589Z"
   },
   {
    "duration": 17,
    "start_time": "2023-08-03T09:38:52.610Z"
   },
   {
    "duration": 22,
    "start_time": "2023-08-03T09:38:52.630Z"
   },
   {
    "duration": 16,
    "start_time": "2023-08-03T09:38:52.654Z"
   },
   {
    "duration": 7,
    "start_time": "2023-08-03T09:38:52.672Z"
   },
   {
    "duration": 38,
    "start_time": "2023-08-03T09:38:52.681Z"
   },
   {
    "duration": 28,
    "start_time": "2023-08-03T09:38:52.721Z"
   },
   {
    "duration": 17,
    "start_time": "2023-08-03T09:38:52.752Z"
   },
   {
    "duration": 15,
    "start_time": "2023-08-03T09:38:52.771Z"
   },
   {
    "duration": 7,
    "start_time": "2023-08-03T09:38:52.788Z"
   },
   {
    "duration": 12,
    "start_time": "2023-08-03T09:38:52.797Z"
   },
   {
    "duration": 28,
    "start_time": "2023-08-03T09:38:52.814Z"
   },
   {
    "duration": 12,
    "start_time": "2023-08-03T09:38:52.844Z"
   },
   {
    "duration": 23,
    "start_time": "2023-08-03T09:38:52.858Z"
   },
   {
    "duration": 8,
    "start_time": "2023-08-03T09:38:52.884Z"
   },
   {
    "duration": 13,
    "start_time": "2023-08-03T09:38:52.894Z"
   },
   {
    "duration": 20,
    "start_time": "2023-08-03T09:38:52.915Z"
   },
   {
    "duration": 148,
    "start_time": "2023-08-03T09:38:52.938Z"
   },
   {
    "duration": 25,
    "start_time": "2023-08-03T09:38:53.088Z"
   },
   {
    "duration": 152,
    "start_time": "2023-08-03T09:38:53.116Z"
   },
   {
    "duration": 11,
    "start_time": "2023-08-03T09:38:53.270Z"
   },
   {
    "duration": 161,
    "start_time": "2023-08-03T09:38:53.283Z"
   },
   {
    "duration": 11,
    "start_time": "2023-08-03T09:38:53.446Z"
   },
   {
    "duration": 13,
    "start_time": "2023-08-03T09:38:53.459Z"
   },
   {
    "duration": 51,
    "start_time": "2023-08-03T09:38:53.474Z"
   },
   {
    "duration": 9,
    "start_time": "2023-08-03T09:38:53.527Z"
   },
   {
    "duration": 14,
    "start_time": "2023-08-03T09:38:53.538Z"
   },
   {
    "duration": 173,
    "start_time": "2023-08-03T09:38:53.554Z"
   },
   {
    "duration": 8,
    "start_time": "2023-08-03T09:38:53.729Z"
   },
   {
    "duration": 186,
    "start_time": "2023-08-03T09:38:53.739Z"
   },
   {
    "duration": 206,
    "start_time": "2023-08-03T09:38:53.927Z"
   },
   {
    "duration": 235,
    "start_time": "2023-08-03T09:38:54.135Z"
   },
   {
    "duration": 282,
    "start_time": "2023-08-03T09:38:54.372Z"
   },
   {
    "duration": 22,
    "start_time": "2023-08-03T09:38:54.656Z"
   },
   {
    "duration": 14,
    "start_time": "2023-08-03T09:38:54.681Z"
   },
   {
    "duration": 40,
    "start_time": "2023-08-03T09:38:54.712Z"
   },
   {
    "duration": 45,
    "start_time": "2023-08-03T09:38:54.754Z"
   },
   {
    "duration": 69,
    "start_time": "2023-08-03T09:38:54.802Z"
   },
   {
    "duration": 19,
    "start_time": "2023-08-03T09:38:54.876Z"
   },
   {
    "duration": 16,
    "start_time": "2023-08-03T09:38:54.897Z"
   },
   {
    "duration": 19,
    "start_time": "2023-08-03T09:38:54.920Z"
   },
   {
    "duration": 32,
    "start_time": "2023-08-03T09:38:54.942Z"
   },
   {
    "duration": 29,
    "start_time": "2023-08-03T09:38:54.976Z"
   },
   {
    "duration": 429,
    "start_time": "2023-08-03T09:38:55.008Z"
   },
   {
    "duration": 608,
    "start_time": "2023-08-03T09:38:55.439Z"
   },
   {
    "duration": 91,
    "start_time": "2023-08-03T14:46:46.827Z"
   },
   {
    "duration": 10,
    "start_time": "2023-08-03T14:47:40.424Z"
   },
   {
    "duration": 17,
    "start_time": "2023-08-03T14:55:41.368Z"
   },
   {
    "duration": 7,
    "start_time": "2023-08-03T14:57:15.203Z"
   },
   {
    "duration": 4,
    "start_time": "2023-08-03T14:58:57.753Z"
   },
   {
    "duration": 9,
    "start_time": "2023-08-03T15:10:43.498Z"
   },
   {
    "duration": 12,
    "start_time": "2023-08-03T15:13:01.466Z"
   },
   {
    "duration": 9,
    "start_time": "2023-08-03T15:13:22.547Z"
   },
   {
    "duration": 15,
    "start_time": "2023-08-03T15:13:43.710Z"
   },
   {
    "duration": 159,
    "start_time": "2023-08-03T15:16:33.229Z"
   },
   {
    "duration": 20,
    "start_time": "2023-08-03T15:16:54.793Z"
   },
   {
    "duration": 8,
    "start_time": "2023-08-03T15:19:51.891Z"
   },
   {
    "duration": 18,
    "start_time": "2023-08-03T15:20:07.233Z"
   },
   {
    "duration": 20,
    "start_time": "2023-08-03T15:21:14.407Z"
   },
   {
    "duration": 9,
    "start_time": "2023-08-03T15:23:17.090Z"
   },
   {
    "duration": 11,
    "start_time": "2023-08-03T15:26:03.391Z"
   },
   {
    "duration": 17,
    "start_time": "2023-08-03T15:26:33.183Z"
   },
   {
    "duration": 10,
    "start_time": "2023-08-03T15:26:36.574Z"
   },
   {
    "duration": 24,
    "start_time": "2023-08-03T15:26:43.306Z"
   },
   {
    "duration": 34,
    "start_time": "2023-08-03T15:27:48.004Z"
   },
   {
    "duration": 12,
    "start_time": "2023-08-03T15:27:50.954Z"
   },
   {
    "duration": 13,
    "start_time": "2023-08-03T15:27:56.545Z"
   },
   {
    "duration": 1009,
    "start_time": "2023-08-03T15:37:52.241Z"
   },
   {
    "duration": 803,
    "start_time": "2023-08-03T15:42:03.636Z"
   },
   {
    "duration": 110,
    "start_time": "2023-08-03T15:42:04.441Z"
   },
   {
    "duration": 14,
    "start_time": "2023-08-03T15:42:04.553Z"
   },
   {
    "duration": 28,
    "start_time": "2023-08-03T15:42:04.569Z"
   },
   {
    "duration": 53,
    "start_time": "2023-08-03T15:42:04.600Z"
   },
   {
    "duration": 39,
    "start_time": "2023-08-03T15:42:04.655Z"
   },
   {
    "duration": 58,
    "start_time": "2023-08-03T15:42:04.696Z"
   },
   {
    "duration": 26,
    "start_time": "2023-08-03T15:42:04.756Z"
   },
   {
    "duration": 59,
    "start_time": "2023-08-03T15:42:04.785Z"
   },
   {
    "duration": 37,
    "start_time": "2023-08-03T15:42:04.846Z"
   },
   {
    "duration": 20,
    "start_time": "2023-08-03T15:42:04.885Z"
   },
   {
    "duration": 61,
    "start_time": "2023-08-03T15:42:04.906Z"
   },
   {
    "duration": 36,
    "start_time": "2023-08-03T15:42:04.969Z"
   },
   {
    "duration": 58,
    "start_time": "2023-08-03T15:42:05.009Z"
   },
   {
    "duration": 21,
    "start_time": "2023-08-03T15:42:05.070Z"
   },
   {
    "duration": 62,
    "start_time": "2023-08-03T15:42:05.094Z"
   },
   {
    "duration": 35,
    "start_time": "2023-08-03T15:42:05.158Z"
   },
   {
    "duration": 58,
    "start_time": "2023-08-03T15:42:05.194Z"
   },
   {
    "duration": 26,
    "start_time": "2023-08-03T15:42:05.254Z"
   },
   {
    "duration": 197,
    "start_time": "2023-08-03T15:42:05.282Z"
   },
   {
    "duration": 9,
    "start_time": "2023-08-03T15:42:05.480Z"
   },
   {
    "duration": 183,
    "start_time": "2023-08-03T15:42:05.491Z"
   },
   {
    "duration": 9,
    "start_time": "2023-08-03T15:42:05.676Z"
   },
   {
    "duration": 187,
    "start_time": "2023-08-03T15:42:05.687Z"
   },
   {
    "duration": 12,
    "start_time": "2023-08-03T15:42:05.876Z"
   },
   {
    "duration": 61,
    "start_time": "2023-08-03T15:42:05.890Z"
   },
   {
    "duration": 32,
    "start_time": "2023-08-03T15:42:05.954Z"
   },
   {
    "duration": 16,
    "start_time": "2023-08-03T15:42:05.989Z"
   },
   {
    "duration": 91,
    "start_time": "2023-08-03T15:42:06.007Z"
   },
   {
    "duration": 248,
    "start_time": "2023-08-03T15:42:06.101Z"
   },
   {
    "duration": 6,
    "start_time": "2023-08-03T15:42:06.351Z"
   },
   {
    "duration": 188,
    "start_time": "2023-08-03T15:42:06.358Z"
   },
   {
    "duration": 196,
    "start_time": "2023-08-03T15:42:06.548Z"
   },
   {
    "duration": 251,
    "start_time": "2023-08-03T15:42:06.746Z"
   },
   {
    "duration": 279,
    "start_time": "2023-08-03T15:42:06.999Z"
   },
   {
    "duration": 38,
    "start_time": "2023-08-03T15:42:07.280Z"
   },
   {
    "duration": 15,
    "start_time": "2023-08-03T15:42:07.320Z"
   },
   {
    "duration": 39,
    "start_time": "2023-08-03T15:42:07.338Z"
   },
   {
    "duration": 17,
    "start_time": "2023-08-03T15:42:07.379Z"
   },
   {
    "duration": 58,
    "start_time": "2023-08-03T15:42:07.398Z"
   },
   {
    "duration": 29,
    "start_time": "2023-08-03T15:42:07.462Z"
   },
   {
    "duration": 21,
    "start_time": "2023-08-03T15:42:07.494Z"
   },
   {
    "duration": 82,
    "start_time": "2023-08-03T15:42:07.517Z"
   },
   {
    "duration": 52,
    "start_time": "2023-08-03T15:42:07.601Z"
   },
   {
    "duration": 25,
    "start_time": "2023-08-03T15:42:07.656Z"
   },
   {
    "duration": 480,
    "start_time": "2023-08-03T15:42:07.683Z"
   },
   {
    "duration": 581,
    "start_time": "2023-08-03T15:42:08.165Z"
   },
   {
    "duration": 18,
    "start_time": "2023-08-03T15:42:08.748Z"
   },
   {
    "duration": 41,
    "start_time": "2023-08-03T15:42:08.768Z"
   },
   {
    "duration": 36,
    "start_time": "2023-08-03T15:42:08.814Z"
   },
   {
    "duration": 18,
    "start_time": "2023-08-03T15:42:08.852Z"
   },
   {
    "duration": 19,
    "start_time": "2023-08-03T15:42:08.872Z"
   },
   {
    "duration": 6,
    "start_time": "2023-08-03T15:42:32.663Z"
   },
   {
    "duration": 33,
    "start_time": "2023-08-03T15:42:57.187Z"
   },
   {
    "duration": 37,
    "start_time": "2023-08-03T15:43:03.425Z"
   },
   {
    "duration": 29,
    "start_time": "2023-08-03T15:43:21.298Z"
   },
   {
    "duration": 23,
    "start_time": "2023-08-03T15:52:25.834Z"
   },
   {
    "duration": 14,
    "start_time": "2023-08-03T15:52:34.800Z"
   },
   {
    "duration": 15,
    "start_time": "2023-08-03T15:52:48.237Z"
   },
   {
    "duration": 6,
    "start_time": "2023-08-03T16:01:50.157Z"
   },
   {
    "duration": 13,
    "start_time": "2023-08-03T16:02:08.860Z"
   },
   {
    "duration": 895,
    "start_time": "2023-08-04T06:55:59.026Z"
   },
   {
    "duration": 211,
    "start_time": "2023-08-04T06:55:59.923Z"
   },
   {
    "duration": 14,
    "start_time": "2023-08-04T06:56:00.136Z"
   },
   {
    "duration": 74,
    "start_time": "2023-08-04T06:56:00.152Z"
   },
   {
    "duration": 44,
    "start_time": "2023-08-04T06:56:00.229Z"
   },
   {
    "duration": 30,
    "start_time": "2023-08-04T06:56:00.276Z"
   },
   {
    "duration": 34,
    "start_time": "2023-08-04T06:56:00.308Z"
   },
   {
    "duration": 42,
    "start_time": "2023-08-04T06:56:00.343Z"
   },
   {
    "duration": 54,
    "start_time": "2023-08-04T06:56:00.387Z"
   },
   {
    "duration": 76,
    "start_time": "2023-08-04T06:56:00.443Z"
   },
   {
    "duration": 169,
    "start_time": "2023-08-04T06:56:00.521Z"
   },
   {
    "duration": 40,
    "start_time": "2023-08-04T06:56:00.692Z"
   },
   {
    "duration": 55,
    "start_time": "2023-08-04T06:56:00.735Z"
   },
   {
    "duration": 28,
    "start_time": "2023-08-04T06:56:00.796Z"
   },
   {
    "duration": 72,
    "start_time": "2023-08-04T06:56:00.827Z"
   },
   {
    "duration": 85,
    "start_time": "2023-08-04T06:56:00.901Z"
   },
   {
    "duration": 61,
    "start_time": "2023-08-04T06:56:00.987Z"
   },
   {
    "duration": 60,
    "start_time": "2023-08-04T06:56:01.050Z"
   },
   {
    "duration": 49,
    "start_time": "2023-08-04T06:56:01.112Z"
   },
   {
    "duration": 149,
    "start_time": "2023-08-04T06:56:01.163Z"
   },
   {
    "duration": 9,
    "start_time": "2023-08-04T06:56:01.314Z"
   },
   {
    "duration": 187,
    "start_time": "2023-08-04T06:56:01.324Z"
   },
   {
    "duration": 9,
    "start_time": "2023-08-04T06:56:01.513Z"
   },
   {
    "duration": 225,
    "start_time": "2023-08-04T06:56:01.524Z"
   },
   {
    "duration": 8,
    "start_time": "2023-08-04T06:56:01.751Z"
   },
   {
    "duration": 44,
    "start_time": "2023-08-04T06:56:01.761Z"
   },
   {
    "duration": 55,
    "start_time": "2023-08-04T06:56:01.807Z"
   },
   {
    "duration": 32,
    "start_time": "2023-08-04T06:56:01.864Z"
   },
   {
    "duration": 28,
    "start_time": "2023-08-04T06:56:01.898Z"
   },
   {
    "duration": 182,
    "start_time": "2023-08-04T06:56:01.928Z"
   },
   {
    "duration": 5,
    "start_time": "2023-08-04T06:56:02.112Z"
   },
   {
    "duration": 173,
    "start_time": "2023-08-04T06:56:02.119Z"
   },
   {
    "duration": 187,
    "start_time": "2023-08-04T06:56:02.294Z"
   },
   {
    "duration": 240,
    "start_time": "2023-08-04T06:56:02.483Z"
   },
   {
    "duration": 240,
    "start_time": "2023-08-04T06:56:02.724Z"
   },
   {
    "duration": 15,
    "start_time": "2023-08-04T06:56:02.966Z"
   },
   {
    "duration": 10,
    "start_time": "2023-08-04T06:56:02.983Z"
   },
   {
    "duration": 14,
    "start_time": "2023-08-04T06:56:03.009Z"
   },
   {
    "duration": 15,
    "start_time": "2023-08-04T06:56:03.024Z"
   },
   {
    "duration": 21,
    "start_time": "2023-08-04T06:56:03.041Z"
   },
   {
    "duration": 24,
    "start_time": "2023-08-04T06:56:03.066Z"
   },
   {
    "duration": 17,
    "start_time": "2023-08-04T06:56:03.092Z"
   },
   {
    "duration": 18,
    "start_time": "2023-08-04T06:56:03.111Z"
   },
   {
    "duration": 16,
    "start_time": "2023-08-04T06:56:03.130Z"
   },
   {
    "duration": 40,
    "start_time": "2023-08-04T06:56:03.148Z"
   },
   {
    "duration": 389,
    "start_time": "2023-08-04T06:56:03.190Z"
   },
   {
    "duration": 494,
    "start_time": "2023-08-04T06:56:03.581Z"
   },
   {
    "duration": 31,
    "start_time": "2023-08-04T06:56:04.077Z"
   },
   {
    "duration": 11,
    "start_time": "2023-08-04T06:56:04.110Z"
   },
   {
    "duration": 19,
    "start_time": "2023-08-04T06:56:04.123Z"
   },
   {
    "duration": 35,
    "start_time": "2023-08-04T06:56:04.145Z"
   },
   {
    "duration": 10,
    "start_time": "2023-08-04T06:56:04.182Z"
   },
   {
    "duration": 23,
    "start_time": "2023-08-04T06:56:04.194Z"
   },
   {
    "duration": 7,
    "start_time": "2023-08-04T06:56:04.219Z"
   },
   {
    "duration": 13,
    "start_time": "2023-08-04T06:56:04.228Z"
   },
   {
    "duration": 1130,
    "start_time": "2023-08-04T13:04:42.957Z"
   },
   {
    "duration": 71,
    "start_time": "2023-08-04T13:04:44.089Z"
   },
   {
    "duration": 16,
    "start_time": "2023-08-04T13:04:44.162Z"
   },
   {
    "duration": 29,
    "start_time": "2023-08-04T13:04:44.180Z"
   },
   {
    "duration": 19,
    "start_time": "2023-08-04T13:04:44.211Z"
   },
   {
    "duration": 20,
    "start_time": "2023-08-04T13:04:44.232Z"
   },
   {
    "duration": 8,
    "start_time": "2023-08-04T13:04:44.254Z"
   },
   {
    "duration": 25,
    "start_time": "2023-08-04T13:04:44.264Z"
   },
   {
    "duration": 11,
    "start_time": "2023-08-04T13:04:44.290Z"
   },
   {
    "duration": 25,
    "start_time": "2023-08-04T13:04:44.303Z"
   },
   {
    "duration": 7,
    "start_time": "2023-08-04T13:04:44.330Z"
   },
   {
    "duration": 15,
    "start_time": "2023-08-04T13:04:44.338Z"
   },
   {
    "duration": 16,
    "start_time": "2023-08-04T13:04:44.354Z"
   },
   {
    "duration": 9,
    "start_time": "2023-08-04T13:04:44.372Z"
   },
   {
    "duration": 19,
    "start_time": "2023-08-04T13:04:44.382Z"
   },
   {
    "duration": 15,
    "start_time": "2023-08-04T13:04:44.403Z"
   },
   {
    "duration": 4,
    "start_time": "2023-08-04T13:04:44.420Z"
   },
   {
    "duration": 10,
    "start_time": "2023-08-04T13:04:44.426Z"
   },
   {
    "duration": 27,
    "start_time": "2023-08-04T13:04:44.437Z"
   },
   {
    "duration": 118,
    "start_time": "2023-08-04T13:04:44.466Z"
   },
   {
    "duration": 22,
    "start_time": "2023-08-04T13:04:44.586Z"
   },
   {
    "duration": 127,
    "start_time": "2023-08-04T13:04:44.610Z"
   },
   {
    "duration": 8,
    "start_time": "2023-08-04T13:04:44.739Z"
   },
   {
    "duration": 135,
    "start_time": "2023-08-04T13:04:44.749Z"
   },
   {
    "duration": 9,
    "start_time": "2023-08-04T13:04:44.886Z"
   },
   {
    "duration": 7,
    "start_time": "2023-08-04T13:04:44.909Z"
   },
   {
    "duration": 14,
    "start_time": "2023-08-04T13:04:44.917Z"
   },
   {
    "duration": 7,
    "start_time": "2023-08-04T13:04:44.934Z"
   },
   {
    "duration": 21,
    "start_time": "2023-08-04T13:04:44.942Z"
   },
   {
    "duration": 176,
    "start_time": "2023-08-04T13:04:44.964Z"
   },
   {
    "duration": 5,
    "start_time": "2023-08-04T13:04:45.142Z"
   },
   {
    "duration": 100,
    "start_time": "2023-08-04T13:04:45.148Z"
   },
   {
    "duration": 164,
    "start_time": "2023-08-04T13:04:45.250Z"
   },
   {
    "duration": 217,
    "start_time": "2023-08-04T13:04:45.416Z"
   },
   {
    "duration": 382,
    "start_time": "2023-08-04T13:04:45.635Z"
   },
   {
    "duration": 18,
    "start_time": "2023-08-04T13:04:46.019Z"
   },
   {
    "duration": 40,
    "start_time": "2023-08-04T13:04:46.039Z"
   },
   {
    "duration": 32,
    "start_time": "2023-08-04T13:04:46.081Z"
   },
   {
    "duration": 24,
    "start_time": "2023-08-04T13:04:46.115Z"
   },
   {
    "duration": 18,
    "start_time": "2023-08-04T13:04:46.140Z"
   },
   {
    "duration": 15,
    "start_time": "2023-08-04T13:04:46.160Z"
   },
   {
    "duration": 62,
    "start_time": "2023-08-04T13:04:46.176Z"
   },
   {
    "duration": 31,
    "start_time": "2023-08-04T13:04:46.240Z"
   },
   {
    "duration": 9,
    "start_time": "2023-08-04T13:04:46.273Z"
   },
   {
    "duration": 14,
    "start_time": "2023-08-04T13:04:46.284Z"
   },
   {
    "duration": 419,
    "start_time": "2023-08-04T13:04:46.299Z"
   },
   {
    "duration": 418,
    "start_time": "2023-08-04T13:04:46.721Z"
   },
   {
    "duration": 22,
    "start_time": "2023-08-04T13:04:47.140Z"
   },
   {
    "duration": 16,
    "start_time": "2023-08-04T13:04:47.163Z"
   },
   {
    "duration": 21,
    "start_time": "2023-08-04T13:04:47.181Z"
   },
   {
    "duration": 32,
    "start_time": "2023-08-04T13:04:47.209Z"
   },
   {
    "duration": 41,
    "start_time": "2023-08-04T13:04:47.243Z"
   },
   {
    "duration": 38,
    "start_time": "2023-08-04T13:04:47.285Z"
   },
   {
    "duration": 40,
    "start_time": "2023-08-04T13:04:47.325Z"
   },
   {
    "duration": 59,
    "start_time": "2023-08-04T13:04:47.366Z"
   },
   {
    "duration": 24,
    "start_time": "2023-08-04T13:04:47.427Z"
   },
   {
    "duration": 118,
    "start_time": "2023-08-04T13:04:47.453Z"
   },
   {
    "duration": 1126,
    "start_time": "2023-08-04T13:05:21.868Z"
   },
   {
    "duration": 76,
    "start_time": "2023-08-04T13:05:22.996Z"
   },
   {
    "duration": 13,
    "start_time": "2023-08-04T13:05:23.074Z"
   },
   {
    "duration": 21,
    "start_time": "2023-08-04T13:05:23.089Z"
   },
   {
    "duration": 22,
    "start_time": "2023-08-04T13:05:23.112Z"
   },
   {
    "duration": 21,
    "start_time": "2023-08-04T13:05:23.136Z"
   },
   {
    "duration": 22,
    "start_time": "2023-08-04T13:05:23.159Z"
   },
   {
    "duration": 21,
    "start_time": "2023-08-04T13:05:23.182Z"
   },
   {
    "duration": 24,
    "start_time": "2023-08-04T13:05:23.205Z"
   },
   {
    "duration": 14,
    "start_time": "2023-08-04T13:05:23.231Z"
   },
   {
    "duration": 8,
    "start_time": "2023-08-04T13:05:23.246Z"
   },
   {
    "duration": 10,
    "start_time": "2023-08-04T13:05:23.255Z"
   },
   {
    "duration": 8,
    "start_time": "2023-08-04T13:05:23.267Z"
   },
   {
    "duration": 9,
    "start_time": "2023-08-04T13:05:23.277Z"
   },
   {
    "duration": 7,
    "start_time": "2023-08-04T13:05:23.287Z"
   },
   {
    "duration": 13,
    "start_time": "2023-08-04T13:05:23.296Z"
   },
   {
    "duration": 5,
    "start_time": "2023-08-04T13:05:23.311Z"
   },
   {
    "duration": 9,
    "start_time": "2023-08-04T13:05:23.317Z"
   },
   {
    "duration": 45,
    "start_time": "2023-08-04T13:05:23.328Z"
   },
   {
    "duration": 121,
    "start_time": "2023-08-04T13:05:23.375Z"
   },
   {
    "duration": 10,
    "start_time": "2023-08-04T13:05:23.508Z"
   },
   {
    "duration": 128,
    "start_time": "2023-08-04T13:05:23.520Z"
   },
   {
    "duration": 10,
    "start_time": "2023-08-04T13:05:23.649Z"
   },
   {
    "duration": 149,
    "start_time": "2023-08-04T13:05:23.661Z"
   },
   {
    "duration": 9,
    "start_time": "2023-08-04T13:05:23.813Z"
   },
   {
    "duration": 32,
    "start_time": "2023-08-04T13:05:23.823Z"
   },
   {
    "duration": 23,
    "start_time": "2023-08-04T13:05:23.857Z"
   },
   {
    "duration": 18,
    "start_time": "2023-08-04T13:05:23.882Z"
   },
   {
    "duration": 24,
    "start_time": "2023-08-04T13:05:23.902Z"
   },
   {
    "duration": 160,
    "start_time": "2023-08-04T13:05:23.928Z"
   },
   {
    "duration": 5,
    "start_time": "2023-08-04T13:05:24.090Z"
   },
   {
    "duration": 97,
    "start_time": "2023-08-04T13:05:24.096Z"
   },
   {
    "duration": 167,
    "start_time": "2023-08-04T13:05:24.195Z"
   },
   {
    "duration": 236,
    "start_time": "2023-08-04T13:05:24.364Z"
   },
   {
    "duration": 331,
    "start_time": "2023-08-04T13:05:24.602Z"
   },
   {
    "duration": 15,
    "start_time": "2023-08-04T13:05:24.936Z"
   },
   {
    "duration": 18,
    "start_time": "2023-08-04T13:05:24.953Z"
   },
   {
    "duration": 22,
    "start_time": "2023-08-04T13:05:24.973Z"
   },
   {
    "duration": 28,
    "start_time": "2023-08-04T13:05:24.997Z"
   },
   {
    "duration": 16,
    "start_time": "2023-08-04T13:05:25.029Z"
   },
   {
    "duration": 35,
    "start_time": "2023-08-04T13:05:25.047Z"
   },
   {
    "duration": 19,
    "start_time": "2023-08-04T13:05:25.083Z"
   },
   {
    "duration": 25,
    "start_time": "2023-08-04T13:05:25.104Z"
   },
   {
    "duration": 12,
    "start_time": "2023-08-04T13:05:25.131Z"
   },
   {
    "duration": 29,
    "start_time": "2023-08-04T13:05:25.144Z"
   },
   {
    "duration": 445,
    "start_time": "2023-08-04T13:05:25.174Z"
   },
   {
    "duration": 567,
    "start_time": "2023-08-04T13:05:25.621Z"
   },
   {
    "duration": 40,
    "start_time": "2023-08-04T13:05:26.190Z"
   },
   {
    "duration": 13,
    "start_time": "2023-08-04T13:05:26.232Z"
   },
   {
    "duration": 20,
    "start_time": "2023-08-04T13:05:26.247Z"
   },
   {
    "duration": 82,
    "start_time": "2023-08-04T13:05:26.269Z"
   },
   {
    "duration": 20,
    "start_time": "2023-08-04T13:05:26.353Z"
   },
   {
    "duration": 47,
    "start_time": "2023-08-04T13:05:26.375Z"
   },
   {
    "duration": 30,
    "start_time": "2023-08-04T13:05:26.424Z"
   },
   {
    "duration": 23,
    "start_time": "2023-08-04T13:05:26.455Z"
   },
   {
    "duration": 10,
    "start_time": "2023-08-04T13:05:26.480Z"
   },
   {
    "duration": 25,
    "start_time": "2023-08-04T13:05:26.492Z"
   },
   {
    "duration": 6,
    "start_time": "2023-08-04T13:11:26.410Z"
   },
   {
    "duration": 8,
    "start_time": "2023-08-04T14:43:05.329Z"
   },
   {
    "duration": 7,
    "start_time": "2023-08-04T15:04:59.292Z"
   },
   {
    "duration": 5,
    "start_time": "2023-08-05T07:32:17.017Z"
   },
   {
    "duration": 9,
    "start_time": "2023-08-05T07:32:38.560Z"
   },
   {
    "duration": 9,
    "start_time": "2023-08-05T07:33:05.430Z"
   },
   {
    "duration": 5,
    "start_time": "2023-08-05T08:45:26.567Z"
   },
   {
    "duration": 6,
    "start_time": "2023-08-05T08:47:37.227Z"
   },
   {
    "duration": 169,
    "start_time": "2023-08-05T08:49:02.097Z"
   },
   {
    "duration": 105,
    "start_time": "2023-08-05T08:50:04.317Z"
   },
   {
    "duration": 121,
    "start_time": "2023-08-05T08:50:30.611Z"
   },
   {
    "duration": 1974,
    "start_time": "2023-08-05T08:51:57.098Z"
   },
   {
    "duration": 6,
    "start_time": "2023-08-05T08:52:15.263Z"
   },
   {
    "duration": 9,
    "start_time": "2023-08-05T09:04:14.496Z"
   },
   {
    "duration": 9,
    "start_time": "2023-08-05T17:29:26.210Z"
   },
   {
    "duration": 9,
    "start_time": "2023-08-05T17:29:40.896Z"
   },
   {
    "duration": 100,
    "start_time": "2023-08-05T17:30:56.412Z"
   },
   {
    "duration": 16,
    "start_time": "2023-08-05T17:31:07.414Z"
   },
   {
    "duration": 6,
    "start_time": "2023-08-05T17:38:24.685Z"
   },
   {
    "duration": 1085,
    "start_time": "2023-08-05T17:51:42.666Z"
   },
   {
    "duration": 71,
    "start_time": "2023-08-05T17:51:43.753Z"
   },
   {
    "duration": 12,
    "start_time": "2023-08-05T17:51:43.826Z"
   },
   {
    "duration": 11,
    "start_time": "2023-08-05T17:51:43.839Z"
   },
   {
    "duration": 10,
    "start_time": "2023-08-05T17:51:43.852Z"
   },
   {
    "duration": 13,
    "start_time": "2023-08-05T17:51:43.863Z"
   },
   {
    "duration": 6,
    "start_time": "2023-08-05T17:51:43.877Z"
   },
   {
    "duration": 28,
    "start_time": "2023-08-05T17:51:43.885Z"
   },
   {
    "duration": 8,
    "start_time": "2023-08-05T17:51:43.915Z"
   },
   {
    "duration": 12,
    "start_time": "2023-08-05T17:51:43.924Z"
   },
   {
    "duration": 5,
    "start_time": "2023-08-05T17:51:43.937Z"
   },
   {
    "duration": 4,
    "start_time": "2023-08-05T17:51:43.944Z"
   },
   {
    "duration": 11,
    "start_time": "2023-08-05T17:51:43.950Z"
   },
   {
    "duration": 12,
    "start_time": "2023-08-05T17:51:43.965Z"
   },
   {
    "duration": 31,
    "start_time": "2023-08-05T17:51:43.979Z"
   },
   {
    "duration": 10,
    "start_time": "2023-08-05T17:51:44.012Z"
   },
   {
    "duration": 6,
    "start_time": "2023-08-05T17:51:44.024Z"
   },
   {
    "duration": 5,
    "start_time": "2023-08-05T17:51:44.032Z"
   },
   {
    "duration": 6,
    "start_time": "2023-08-05T17:51:44.039Z"
   },
   {
    "duration": 133,
    "start_time": "2023-08-05T17:51:44.046Z"
   },
   {
    "duration": 8,
    "start_time": "2023-08-05T17:51:44.181Z"
   },
   {
    "duration": 123,
    "start_time": "2023-08-05T17:51:44.208Z"
   },
   {
    "duration": 10,
    "start_time": "2023-08-05T17:51:44.334Z"
   },
   {
    "duration": 136,
    "start_time": "2023-08-05T17:51:44.346Z"
   },
   {
    "duration": 10,
    "start_time": "2023-08-05T17:51:44.484Z"
   },
   {
    "duration": 8,
    "start_time": "2023-08-05T17:51:44.509Z"
   },
   {
    "duration": 13,
    "start_time": "2023-08-05T17:51:44.519Z"
   },
   {
    "duration": 8,
    "start_time": "2023-08-05T17:51:44.533Z"
   },
   {
    "duration": 7,
    "start_time": "2023-08-05T17:51:44.542Z"
   },
   {
    "duration": 144,
    "start_time": "2023-08-05T17:51:44.550Z"
   },
   {
    "duration": 14,
    "start_time": "2023-08-05T17:51:44.696Z"
   },
   {
    "duration": 79,
    "start_time": "2023-08-05T17:51:44.711Z"
   },
   {
    "duration": 179,
    "start_time": "2023-08-05T17:51:44.792Z"
   },
   {
    "duration": 204,
    "start_time": "2023-08-05T17:51:44.973Z"
   },
   {
    "duration": 311,
    "start_time": "2023-08-05T17:51:45.179Z"
   },
   {
    "duration": 24,
    "start_time": "2023-08-05T17:51:45.492Z"
   },
   {
    "duration": 12,
    "start_time": "2023-08-05T17:51:45.518Z"
   },
   {
    "duration": 15,
    "start_time": "2023-08-05T17:51:45.532Z"
   },
   {
    "duration": 10,
    "start_time": "2023-08-05T17:51:45.548Z"
   },
   {
    "duration": 18,
    "start_time": "2023-08-05T17:51:45.560Z"
   },
   {
    "duration": 12,
    "start_time": "2023-08-05T17:51:45.611Z"
   },
   {
    "duration": 9,
    "start_time": "2023-08-05T17:51:45.625Z"
   },
   {
    "duration": 14,
    "start_time": "2023-08-05T17:51:45.636Z"
   },
   {
    "duration": 17,
    "start_time": "2023-08-05T17:51:45.652Z"
   },
   {
    "duration": 14,
    "start_time": "2023-08-05T17:51:45.671Z"
   },
   {
    "duration": 381,
    "start_time": "2023-08-05T17:51:45.687Z"
   },
   {
    "duration": 385,
    "start_time": "2023-08-05T17:51:46.069Z"
   },
   {
    "duration": 21,
    "start_time": "2023-08-05T17:51:46.455Z"
   },
   {
    "duration": 10,
    "start_time": "2023-08-05T17:51:46.478Z"
   },
   {
    "duration": 38,
    "start_time": "2023-08-05T17:51:46.490Z"
   },
   {
    "duration": 70,
    "start_time": "2023-08-05T17:51:46.530Z"
   },
   {
    "duration": 9,
    "start_time": "2023-08-05T17:51:46.601Z"
   },
   {
    "duration": 17,
    "start_time": "2023-08-05T17:51:46.612Z"
   },
   {
    "duration": 5,
    "start_time": "2023-08-05T17:51:46.630Z"
   },
   {
    "duration": 13,
    "start_time": "2023-08-05T17:51:46.636Z"
   },
   {
    "duration": 17,
    "start_time": "2023-08-05T17:51:46.651Z"
   },
   {
    "duration": 5,
    "start_time": "2023-08-05T17:51:46.670Z"
   },
   {
    "duration": 5,
    "start_time": "2023-08-05T18:16:01.501Z"
   },
   {
    "duration": 4,
    "start_time": "2023-08-05T18:16:02.936Z"
   },
   {
    "duration": 10,
    "start_time": "2023-08-05T18:16:29.107Z"
   },
   {
    "duration": 10,
    "start_time": "2023-08-05T18:16:45.338Z"
   },
   {
    "duration": 9,
    "start_time": "2023-08-05T18:17:07.913Z"
   },
   {
    "duration": 9,
    "start_time": "2023-08-05T18:17:23.187Z"
   },
   {
    "duration": 11,
    "start_time": "2023-08-05T18:17:46.789Z"
   },
   {
    "duration": 10,
    "start_time": "2023-08-05T18:17:56.493Z"
   },
   {
    "duration": 6,
    "start_time": "2023-08-05T18:24:48.418Z"
   },
   {
    "duration": 6,
    "start_time": "2023-08-05T18:30:34.699Z"
   },
   {
    "duration": 5,
    "start_time": "2023-08-05T18:32:04.512Z"
   },
   {
    "duration": 6,
    "start_time": "2023-08-05T20:08:47.290Z"
   },
   {
    "duration": 1417,
    "start_time": "2023-08-06T10:25:05.862Z"
   },
   {
    "duration": 553,
    "start_time": "2023-08-06T10:25:07.284Z"
   },
   {
    "duration": 17,
    "start_time": "2023-08-06T10:25:07.839Z"
   },
   {
    "duration": 16,
    "start_time": "2023-08-06T10:25:07.857Z"
   },
   {
    "duration": 13,
    "start_time": "2023-08-06T10:25:07.878Z"
   },
   {
    "duration": 15,
    "start_time": "2023-08-06T10:25:07.893Z"
   },
   {
    "duration": 7,
    "start_time": "2023-08-06T10:25:07.911Z"
   },
   {
    "duration": 50,
    "start_time": "2023-08-06T10:25:07.920Z"
   },
   {
    "duration": 12,
    "start_time": "2023-08-06T10:25:07.973Z"
   },
   {
    "duration": 14,
    "start_time": "2023-08-06T10:25:07.988Z"
   },
   {
    "duration": 5,
    "start_time": "2023-08-06T10:25:08.004Z"
   },
   {
    "duration": 5,
    "start_time": "2023-08-06T10:25:08.011Z"
   },
   {
    "duration": 10,
    "start_time": "2023-08-06T10:25:08.057Z"
   },
   {
    "duration": 7,
    "start_time": "2023-08-06T10:25:08.072Z"
   },
   {
    "duration": 9,
    "start_time": "2023-08-06T10:25:08.082Z"
   },
   {
    "duration": 18,
    "start_time": "2023-08-06T10:25:08.093Z"
   },
   {
    "duration": 6,
    "start_time": "2023-08-06T10:25:08.113Z"
   },
   {
    "duration": 8,
    "start_time": "2023-08-06T10:25:08.165Z"
   },
   {
    "duration": 7,
    "start_time": "2023-08-06T10:25:08.175Z"
   },
   {
    "duration": 149,
    "start_time": "2023-08-06T10:25:08.184Z"
   },
   {
    "duration": 9,
    "start_time": "2023-08-06T10:25:08.335Z"
   },
   {
    "duration": 182,
    "start_time": "2023-08-06T10:25:08.357Z"
   },
   {
    "duration": 21,
    "start_time": "2023-08-06T10:25:08.541Z"
   },
   {
    "duration": 173,
    "start_time": "2023-08-06T10:25:08.564Z"
   },
   {
    "duration": 19,
    "start_time": "2023-08-06T10:25:08.738Z"
   },
   {
    "duration": 10,
    "start_time": "2023-08-06T10:25:08.760Z"
   },
   {
    "duration": 11,
    "start_time": "2023-08-06T10:25:08.773Z"
   },
   {
    "duration": 7,
    "start_time": "2023-08-06T10:25:08.787Z"
   },
   {
    "duration": 8,
    "start_time": "2023-08-06T10:25:08.797Z"
   },
   {
    "duration": 258,
    "start_time": "2023-08-06T10:25:08.806Z"
   },
   {
    "duration": 7,
    "start_time": "2023-08-06T10:25:09.067Z"
   },
   {
    "duration": 134,
    "start_time": "2023-08-06T10:25:09.077Z"
   },
   {
    "duration": 208,
    "start_time": "2023-08-06T10:25:09.213Z"
   },
   {
    "duration": 260,
    "start_time": "2023-08-06T10:25:09.423Z"
   },
   {
    "duration": 353,
    "start_time": "2023-08-06T10:25:09.685Z"
   },
   {
    "duration": 30,
    "start_time": "2023-08-06T10:25:10.040Z"
   },
   {
    "duration": 17,
    "start_time": "2023-08-06T10:25:10.072Z"
   },
   {
    "duration": 41,
    "start_time": "2023-08-06T10:25:10.091Z"
   },
   {
    "duration": 12,
    "start_time": "2023-08-06T10:25:10.135Z"
   },
   {
    "duration": 24,
    "start_time": "2023-08-06T10:25:10.149Z"
   },
   {
    "duration": 16,
    "start_time": "2023-08-06T10:25:10.179Z"
   },
   {
    "duration": 9,
    "start_time": "2023-08-06T10:25:10.198Z"
   },
   {
    "duration": 16,
    "start_time": "2023-08-06T10:25:10.210Z"
   },
   {
    "duration": 10,
    "start_time": "2023-08-06T10:25:10.259Z"
   },
   {
    "duration": 18,
    "start_time": "2023-08-06T10:25:10.272Z"
   },
   {
    "duration": 464,
    "start_time": "2023-08-06T10:25:10.292Z"
   },
   {
    "duration": 502,
    "start_time": "2023-08-06T10:25:10.760Z"
   },
   {
    "duration": 30,
    "start_time": "2023-08-06T10:25:11.265Z"
   },
   {
    "duration": 11,
    "start_time": "2023-08-06T10:25:11.296Z"
   },
   {
    "duration": 14,
    "start_time": "2023-08-06T10:25:11.308Z"
   },
   {
    "duration": 50,
    "start_time": "2023-08-06T10:25:11.324Z"
   },
   {
    "duration": 17,
    "start_time": "2023-08-06T10:25:11.377Z"
   },
   {
    "duration": 16,
    "start_time": "2023-08-06T10:25:11.396Z"
   },
   {
    "duration": 5,
    "start_time": "2023-08-06T10:25:11.413Z"
   },
   {
    "duration": 40,
    "start_time": "2023-08-06T10:25:11.419Z"
   },
   {
    "duration": 10,
    "start_time": "2023-08-06T10:25:11.461Z"
   },
   {
    "duration": 12,
    "start_time": "2023-08-06T10:25:11.473Z"
   },
   {
    "duration": 5,
    "start_time": "2023-08-06T10:25:11.488Z"
   },
   {
    "duration": 6,
    "start_time": "2023-08-06T10:25:11.495Z"
   },
   {
    "duration": 10,
    "start_time": "2023-08-06T10:25:11.502Z"
   },
   {
    "duration": 48,
    "start_time": "2023-08-06T10:25:11.515Z"
   },
   {
    "duration": 12,
    "start_time": "2023-08-06T10:25:11.565Z"
   },
   {
    "duration": 10,
    "start_time": "2023-08-06T11:52:42.241Z"
   },
   {
    "duration": 18,
    "start_time": "2023-08-06T12:43:38.714Z"
   },
   {
    "duration": 6,
    "start_time": "2023-08-06T12:44:34.801Z"
   },
   {
    "duration": 1579,
    "start_time": "2023-08-07T04:17:01.579Z"
   },
   {
    "duration": 282,
    "start_time": "2023-08-07T04:17:03.160Z"
   },
   {
    "duration": 13,
    "start_time": "2023-08-07T04:17:03.444Z"
   },
   {
    "duration": 13,
    "start_time": "2023-08-07T04:17:03.459Z"
   },
   {
    "duration": 13,
    "start_time": "2023-08-07T04:17:03.474Z"
   },
   {
    "duration": 49,
    "start_time": "2023-08-07T04:17:03.489Z"
   },
   {
    "duration": 27,
    "start_time": "2023-08-07T04:17:03.540Z"
   },
   {
    "duration": 13,
    "start_time": "2023-08-07T04:17:03.568Z"
   },
   {
    "duration": 21,
    "start_time": "2023-08-07T04:17:03.583Z"
   },
   {
    "duration": 51,
    "start_time": "2023-08-07T04:17:03.607Z"
   },
   {
    "duration": 9,
    "start_time": "2023-08-07T04:17:03.659Z"
   },
   {
    "duration": 14,
    "start_time": "2023-08-07T04:17:03.669Z"
   },
   {
    "duration": 9,
    "start_time": "2023-08-07T04:17:03.684Z"
   },
   {
    "duration": 31,
    "start_time": "2023-08-07T04:17:03.700Z"
   },
   {
    "duration": 13,
    "start_time": "2023-08-07T04:17:03.734Z"
   },
   {
    "duration": 17,
    "start_time": "2023-08-07T04:17:03.749Z"
   },
   {
    "duration": 5,
    "start_time": "2023-08-07T04:17:03.768Z"
   },
   {
    "duration": 9,
    "start_time": "2023-08-07T04:17:03.775Z"
   },
   {
    "duration": 7,
    "start_time": "2023-08-07T04:17:03.786Z"
   },
   {
    "duration": 166,
    "start_time": "2023-08-07T04:17:03.794Z"
   },
   {
    "duration": 7,
    "start_time": "2023-08-07T04:17:03.962Z"
   },
   {
    "duration": 158,
    "start_time": "2023-08-07T04:17:03.970Z"
   },
   {
    "duration": 10,
    "start_time": "2023-08-07T04:17:04.135Z"
   },
   {
    "duration": 142,
    "start_time": "2023-08-07T04:17:04.147Z"
   },
   {
    "duration": 44,
    "start_time": "2023-08-07T04:17:04.291Z"
   },
   {
    "duration": 19,
    "start_time": "2023-08-07T04:17:04.336Z"
   },
   {
    "duration": 10,
    "start_time": "2023-08-07T04:17:04.357Z"
   },
   {
    "duration": 6,
    "start_time": "2023-08-07T04:17:04.370Z"
   },
   {
    "duration": 5,
    "start_time": "2023-08-07T04:17:04.377Z"
   },
   {
    "duration": 182,
    "start_time": "2023-08-07T04:17:04.384Z"
   },
   {
    "duration": 4,
    "start_time": "2023-08-07T04:17:04.568Z"
   },
   {
    "duration": 126,
    "start_time": "2023-08-07T04:17:04.573Z"
   },
   {
    "duration": 203,
    "start_time": "2023-08-07T04:17:04.710Z"
   },
   {
    "duration": 263,
    "start_time": "2023-08-07T04:17:04.915Z"
   },
   {
    "duration": 378,
    "start_time": "2023-08-07T04:17:05.180Z"
   },
   {
    "duration": 14,
    "start_time": "2023-08-07T04:17:05.560Z"
   },
   {
    "duration": 65,
    "start_time": "2023-08-07T04:17:05.575Z"
   },
   {
    "duration": 26,
    "start_time": "2023-08-07T04:17:05.641Z"
   },
   {
    "duration": 9,
    "start_time": "2023-08-07T04:17:05.668Z"
   },
   {
    "duration": 37,
    "start_time": "2023-08-07T04:17:05.678Z"
   },
   {
    "duration": 29,
    "start_time": "2023-08-07T04:17:05.722Z"
   },
   {
    "duration": 31,
    "start_time": "2023-08-07T04:17:05.752Z"
   },
   {
    "duration": 40,
    "start_time": "2023-08-07T04:17:05.785Z"
   },
   {
    "duration": 26,
    "start_time": "2023-08-07T04:17:05.827Z"
   },
   {
    "duration": 35,
    "start_time": "2023-08-07T04:17:05.855Z"
   },
   {
    "duration": 550,
    "start_time": "2023-08-07T04:17:05.892Z"
   },
   {
    "duration": 576,
    "start_time": "2023-08-07T04:17:06.445Z"
   },
   {
    "duration": 24,
    "start_time": "2023-08-07T04:17:07.031Z"
   },
   {
    "duration": 10,
    "start_time": "2023-08-07T04:17:07.057Z"
   },
   {
    "duration": 10,
    "start_time": "2023-08-07T04:17:07.068Z"
   },
   {
    "duration": 41,
    "start_time": "2023-08-07T04:17:07.080Z"
   },
   {
    "duration": 16,
    "start_time": "2023-08-07T04:17:07.127Z"
   },
   {
    "duration": 17,
    "start_time": "2023-08-07T04:17:07.145Z"
   },
   {
    "duration": 5,
    "start_time": "2023-08-07T04:17:07.164Z"
   },
   {
    "duration": 10,
    "start_time": "2023-08-07T04:17:07.171Z"
   },
   {
    "duration": 14,
    "start_time": "2023-08-07T04:17:07.183Z"
   },
   {
    "duration": 10,
    "start_time": "2023-08-07T04:17:07.199Z"
   },
   {
    "duration": 34,
    "start_time": "2023-08-07T04:17:07.211Z"
   },
   {
    "duration": 9,
    "start_time": "2023-08-07T04:17:07.247Z"
   },
   {
    "duration": 13,
    "start_time": "2023-08-07T04:17:07.257Z"
   },
   {
    "duration": 11,
    "start_time": "2023-08-07T04:17:07.272Z"
   },
   {
    "duration": 8,
    "start_time": "2023-08-07T04:17:07.285Z"
   },
   {
    "duration": 1269,
    "start_time": "2023-08-07T04:18:29.741Z"
   },
   {
    "duration": 76,
    "start_time": "2023-08-07T04:18:31.013Z"
   },
   {
    "duration": 36,
    "start_time": "2023-08-07T04:18:31.091Z"
   },
   {
    "duration": 50,
    "start_time": "2023-08-07T04:18:31.130Z"
   },
   {
    "duration": 71,
    "start_time": "2023-08-07T04:18:31.183Z"
   },
   {
    "duration": 49,
    "start_time": "2023-08-07T04:18:31.256Z"
   },
   {
    "duration": 51,
    "start_time": "2023-08-07T04:18:31.308Z"
   },
   {
    "duration": 33,
    "start_time": "2023-08-07T04:18:31.361Z"
   },
   {
    "duration": 51,
    "start_time": "2023-08-07T04:18:31.397Z"
   },
   {
    "duration": 115,
    "start_time": "2023-08-07T04:18:31.450Z"
   },
   {
    "duration": 74,
    "start_time": "2023-08-07T04:18:31.566Z"
   },
   {
    "duration": 38,
    "start_time": "2023-08-07T04:18:31.641Z"
   },
   {
    "duration": 67,
    "start_time": "2023-08-07T04:18:31.681Z"
   },
   {
    "duration": 27,
    "start_time": "2023-08-07T04:18:31.751Z"
   },
   {
    "duration": 51,
    "start_time": "2023-08-07T04:18:31.780Z"
   },
   {
    "duration": 28,
    "start_time": "2023-08-07T04:18:31.835Z"
   },
   {
    "duration": 10,
    "start_time": "2023-08-07T04:18:31.865Z"
   },
   {
    "duration": 67,
    "start_time": "2023-08-07T04:18:31.876Z"
   },
   {
    "duration": 17,
    "start_time": "2023-08-07T04:18:31.945Z"
   },
   {
    "duration": 181,
    "start_time": "2023-08-07T04:18:31.963Z"
   },
   {
    "duration": 11,
    "start_time": "2023-08-07T04:18:32.146Z"
   },
   {
    "duration": 204,
    "start_time": "2023-08-07T04:18:32.158Z"
   },
   {
    "duration": 9,
    "start_time": "2023-08-07T04:18:32.363Z"
   },
   {
    "duration": 198,
    "start_time": "2023-08-07T04:18:32.374Z"
   },
   {
    "duration": 9,
    "start_time": "2023-08-07T04:18:32.575Z"
   },
   {
    "duration": 23,
    "start_time": "2023-08-07T04:18:32.586Z"
   },
   {
    "duration": 42,
    "start_time": "2023-08-07T04:18:32.612Z"
   },
   {
    "duration": 8,
    "start_time": "2023-08-07T04:18:32.656Z"
   },
   {
    "duration": 10,
    "start_time": "2023-08-07T04:18:32.665Z"
   },
   {
    "duration": 180,
    "start_time": "2023-08-07T04:18:32.677Z"
   },
   {
    "duration": 5,
    "start_time": "2023-08-07T04:18:32.858Z"
   },
   {
    "duration": 109,
    "start_time": "2023-08-07T04:18:32.864Z"
   },
   {
    "duration": 246,
    "start_time": "2023-08-07T04:18:32.975Z"
   },
   {
    "duration": 242,
    "start_time": "2023-08-07T04:18:33.224Z"
   },
   {
    "duration": 363,
    "start_time": "2023-08-07T04:18:33.468Z"
   },
   {
    "duration": 17,
    "start_time": "2023-08-07T04:18:33.835Z"
   },
   {
    "duration": 11,
    "start_time": "2023-08-07T04:18:33.853Z"
   },
   {
    "duration": 16,
    "start_time": "2023-08-07T04:18:33.866Z"
   },
   {
    "duration": 41,
    "start_time": "2023-08-07T04:18:33.884Z"
   },
   {
    "duration": 24,
    "start_time": "2023-08-07T04:18:33.928Z"
   },
   {
    "duration": 12,
    "start_time": "2023-08-07T04:18:33.956Z"
   },
   {
    "duration": 13,
    "start_time": "2023-08-07T04:18:33.970Z"
   },
   {
    "duration": 31,
    "start_time": "2023-08-07T04:18:33.984Z"
   },
   {
    "duration": 31,
    "start_time": "2023-08-07T04:18:34.021Z"
   },
   {
    "duration": 14,
    "start_time": "2023-08-07T04:18:34.054Z"
   },
   {
    "duration": 478,
    "start_time": "2023-08-07T04:18:34.070Z"
   },
   {
    "duration": 492,
    "start_time": "2023-08-07T04:18:34.550Z"
   },
   {
    "duration": 21,
    "start_time": "2023-08-07T04:18:35.045Z"
   },
   {
    "duration": 10,
    "start_time": "2023-08-07T04:18:35.068Z"
   },
   {
    "duration": 48,
    "start_time": "2023-08-07T04:18:35.080Z"
   },
   {
    "duration": 24,
    "start_time": "2023-08-07T04:18:35.133Z"
   },
   {
    "duration": 8,
    "start_time": "2023-08-07T04:18:35.159Z"
   },
   {
    "duration": 15,
    "start_time": "2023-08-07T04:18:35.168Z"
   },
   {
    "duration": 20,
    "start_time": "2023-08-07T04:18:35.185Z"
   },
   {
    "duration": 16,
    "start_time": "2023-08-07T04:18:35.208Z"
   },
   {
    "duration": 22,
    "start_time": "2023-08-07T04:18:35.226Z"
   },
   {
    "duration": 6,
    "start_time": "2023-08-07T04:18:35.250Z"
   },
   {
    "duration": 7,
    "start_time": "2023-08-07T04:18:35.257Z"
   },
   {
    "duration": 5,
    "start_time": "2023-08-07T04:18:35.265Z"
   },
   {
    "duration": 15,
    "start_time": "2023-08-07T04:18:35.272Z"
   },
   {
    "duration": 26,
    "start_time": "2023-08-07T04:18:35.288Z"
   },
   {
    "duration": 29,
    "start_time": "2023-08-07T04:18:35.316Z"
   },
   {
    "duration": 5,
    "start_time": "2023-08-07T05:13:30.953Z"
   },
   {
    "duration": 1258,
    "start_time": "2023-08-07T05:32:38.076Z"
   },
   {
    "duration": 89,
    "start_time": "2023-08-07T05:32:39.340Z"
   },
   {
    "duration": 16,
    "start_time": "2023-08-07T05:32:39.431Z"
   },
   {
    "duration": 11,
    "start_time": "2023-08-07T05:32:39.449Z"
   },
   {
    "duration": 10,
    "start_time": "2023-08-07T05:32:39.462Z"
   },
   {
    "duration": 14,
    "start_time": "2023-08-07T05:32:39.474Z"
   },
   {
    "duration": 12,
    "start_time": "2023-08-07T05:32:39.490Z"
   },
   {
    "duration": 35,
    "start_time": "2023-08-07T05:32:39.503Z"
   },
   {
    "duration": 9,
    "start_time": "2023-08-07T05:32:39.540Z"
   },
   {
    "duration": 14,
    "start_time": "2023-08-07T05:32:39.554Z"
   },
   {
    "duration": 10,
    "start_time": "2023-08-07T05:32:39.570Z"
   },
   {
    "duration": 5,
    "start_time": "2023-08-07T05:32:39.582Z"
   },
   {
    "duration": 46,
    "start_time": "2023-08-07T05:32:39.589Z"
   },
   {
    "duration": 7,
    "start_time": "2023-08-07T05:32:39.637Z"
   },
   {
    "duration": 6,
    "start_time": "2023-08-07T05:32:39.646Z"
   },
   {
    "duration": 9,
    "start_time": "2023-08-07T05:32:39.654Z"
   },
   {
    "duration": 5,
    "start_time": "2023-08-07T05:32:39.665Z"
   },
   {
    "duration": 10,
    "start_time": "2023-08-07T05:32:39.671Z"
   },
   {
    "duration": 7,
    "start_time": "2023-08-07T05:32:39.682Z"
   },
   {
    "duration": 6,
    "start_time": "2023-08-07T05:32:39.691Z"
   },
   {
    "duration": 163,
    "start_time": "2023-08-07T05:32:39.698Z"
   },
   {
    "duration": 9,
    "start_time": "2023-08-07T05:32:39.863Z"
   },
   {
    "duration": 168,
    "start_time": "2023-08-07T05:32:39.875Z"
   },
   {
    "duration": 9,
    "start_time": "2023-08-07T05:32:40.045Z"
   },
   {
    "duration": 175,
    "start_time": "2023-08-07T05:32:40.055Z"
   },
   {
    "duration": 11,
    "start_time": "2023-08-07T05:32:40.232Z"
   },
   {
    "duration": 10,
    "start_time": "2023-08-07T05:32:40.245Z"
   },
   {
    "duration": 22,
    "start_time": "2023-08-07T05:32:40.260Z"
   },
   {
    "duration": 41,
    "start_time": "2023-08-07T05:32:40.284Z"
   },
   {
    "duration": 9,
    "start_time": "2023-08-07T05:32:40.331Z"
   },
   {
    "duration": 167,
    "start_time": "2023-08-07T05:32:40.341Z"
   },
   {
    "duration": 10,
    "start_time": "2023-08-07T05:32:40.511Z"
   },
   {
    "duration": 140,
    "start_time": "2023-08-07T05:32:40.525Z"
   },
   {
    "duration": 206,
    "start_time": "2023-08-07T05:32:40.667Z"
   },
   {
    "duration": 261,
    "start_time": "2023-08-07T05:32:40.874Z"
   },
   {
    "duration": 351,
    "start_time": "2023-08-07T05:32:41.137Z"
   },
   {
    "duration": 38,
    "start_time": "2023-08-07T05:32:41.490Z"
   },
   {
    "duration": 15,
    "start_time": "2023-08-07T05:32:41.530Z"
   },
   {
    "duration": 14,
    "start_time": "2023-08-07T05:32:41.547Z"
   },
   {
    "duration": 10,
    "start_time": "2023-08-07T05:32:41.563Z"
   },
   {
    "duration": 38,
    "start_time": "2023-08-07T05:32:41.574Z"
   },
   {
    "duration": 20,
    "start_time": "2023-08-07T05:32:41.613Z"
   },
   {
    "duration": 13,
    "start_time": "2023-08-07T05:32:41.636Z"
   },
   {
    "duration": 17,
    "start_time": "2023-08-07T05:32:41.651Z"
   },
   {
    "duration": 10,
    "start_time": "2023-08-07T05:32:41.670Z"
   },
   {
    "duration": 49,
    "start_time": "2023-08-07T05:32:41.682Z"
   },
   {
    "duration": 431,
    "start_time": "2023-08-07T05:32:41.734Z"
   },
   {
    "duration": 500,
    "start_time": "2023-08-07T05:32:42.166Z"
   },
   {
    "duration": 46,
    "start_time": "2023-08-07T05:32:42.668Z"
   },
   {
    "duration": 19,
    "start_time": "2023-08-07T05:32:42.716Z"
   },
   {
    "duration": 38,
    "start_time": "2023-08-07T05:32:42.737Z"
   },
   {
    "duration": 21,
    "start_time": "2023-08-07T05:32:42.778Z"
   },
   {
    "duration": 17,
    "start_time": "2023-08-07T05:32:42.802Z"
   },
   {
    "duration": 20,
    "start_time": "2023-08-07T05:32:42.821Z"
   },
   {
    "duration": 6,
    "start_time": "2023-08-07T05:32:42.843Z"
   },
   {
    "duration": 12,
    "start_time": "2023-08-07T05:32:42.851Z"
   },
   {
    "duration": 7,
    "start_time": "2023-08-07T05:32:42.865Z"
   },
   {
    "duration": 25,
    "start_time": "2023-08-07T05:32:42.874Z"
   },
   {
    "duration": 39,
    "start_time": "2023-08-07T05:32:42.901Z"
   },
   {
    "duration": 6,
    "start_time": "2023-08-07T05:32:42.942Z"
   },
   {
    "duration": 14,
    "start_time": "2023-08-07T05:32:42.950Z"
   },
   {
    "duration": 10,
    "start_time": "2023-08-07T05:32:42.966Z"
   },
   {
    "duration": 8,
    "start_time": "2023-08-07T05:32:42.977Z"
   },
   {
    "duration": 1506,
    "start_time": "2023-08-07T08:43:21.615Z"
   },
   {
    "duration": 210,
    "start_time": "2023-08-07T08:43:23.124Z"
   },
   {
    "duration": 16,
    "start_time": "2023-08-07T08:43:23.336Z"
   },
   {
    "duration": 12,
    "start_time": "2023-08-07T08:43:23.354Z"
   },
   {
    "duration": 36,
    "start_time": "2023-08-07T08:43:23.368Z"
   },
   {
    "duration": 24,
    "start_time": "2023-08-07T08:43:23.406Z"
   },
   {
    "duration": 18,
    "start_time": "2023-08-07T08:43:23.432Z"
   },
   {
    "duration": 16,
    "start_time": "2023-08-07T08:43:23.451Z"
   },
   {
    "duration": 22,
    "start_time": "2023-08-07T08:43:23.469Z"
   },
   {
    "duration": 27,
    "start_time": "2023-08-07T08:43:23.492Z"
   },
   {
    "duration": 10,
    "start_time": "2023-08-07T08:43:23.520Z"
   },
   {
    "duration": 7,
    "start_time": "2023-08-07T08:43:23.532Z"
   },
   {
    "duration": 8,
    "start_time": "2023-08-07T08:43:23.541Z"
   },
   {
    "duration": 20,
    "start_time": "2023-08-07T08:43:23.551Z"
   },
   {
    "duration": 13,
    "start_time": "2023-08-07T08:43:23.572Z"
   },
   {
    "duration": 22,
    "start_time": "2023-08-07T08:43:23.587Z"
   },
   {
    "duration": 7,
    "start_time": "2023-08-07T08:43:23.611Z"
   },
   {
    "duration": 6,
    "start_time": "2023-08-07T08:43:23.620Z"
   },
   {
    "duration": 8,
    "start_time": "2023-08-07T08:43:23.627Z"
   },
   {
    "duration": 14,
    "start_time": "2023-08-07T08:43:23.636Z"
   },
   {
    "duration": 134,
    "start_time": "2023-08-07T08:43:23.651Z"
   },
   {
    "duration": 22,
    "start_time": "2023-08-07T08:43:23.787Z"
   },
   {
    "duration": 131,
    "start_time": "2023-08-07T08:43:23.811Z"
   },
   {
    "duration": 8,
    "start_time": "2023-08-07T08:43:23.944Z"
   },
   {
    "duration": 141,
    "start_time": "2023-08-07T08:43:23.954Z"
   },
   {
    "duration": 20,
    "start_time": "2023-08-07T08:43:24.097Z"
   },
   {
    "duration": 23,
    "start_time": "2023-08-07T08:43:24.119Z"
   },
   {
    "duration": 11,
    "start_time": "2023-08-07T08:43:24.144Z"
   },
   {
    "duration": 20,
    "start_time": "2023-08-07T08:43:24.157Z"
   },
   {
    "duration": 20,
    "start_time": "2023-08-07T08:43:24.179Z"
   },
   {
    "duration": 176,
    "start_time": "2023-08-07T08:43:24.201Z"
   },
   {
    "duration": 6,
    "start_time": "2023-08-07T08:43:24.379Z"
   },
   {
    "duration": 99,
    "start_time": "2023-08-07T08:43:24.387Z"
   },
   {
    "duration": 172,
    "start_time": "2023-08-07T08:43:24.487Z"
   },
   {
    "duration": 235,
    "start_time": "2023-08-07T08:43:24.662Z"
   },
   {
    "duration": 317,
    "start_time": "2023-08-07T08:43:24.899Z"
   },
   {
    "duration": 15,
    "start_time": "2023-08-07T08:43:25.217Z"
   },
   {
    "duration": 18,
    "start_time": "2023-08-07T08:43:25.233Z"
   },
   {
    "duration": 25,
    "start_time": "2023-08-07T08:43:25.253Z"
   },
   {
    "duration": 63,
    "start_time": "2023-08-07T08:43:25.280Z"
   },
   {
    "duration": 15,
    "start_time": "2023-08-07T08:43:25.347Z"
   },
   {
    "duration": 38,
    "start_time": "2023-08-07T08:43:25.364Z"
   },
   {
    "duration": 12,
    "start_time": "2023-08-07T08:43:25.404Z"
   },
   {
    "duration": 17,
    "start_time": "2023-08-07T08:43:25.418Z"
   },
   {
    "duration": 15,
    "start_time": "2023-08-07T08:43:25.438Z"
   },
   {
    "duration": 14,
    "start_time": "2023-08-07T08:43:25.455Z"
   },
   {
    "duration": 455,
    "start_time": "2023-08-07T08:43:25.471Z"
   },
   {
    "duration": 431,
    "start_time": "2023-08-07T08:43:25.928Z"
   },
   {
    "duration": 23,
    "start_time": "2023-08-07T08:43:26.361Z"
   },
   {
    "duration": 22,
    "start_time": "2023-08-07T08:43:26.386Z"
   },
   {
    "duration": 29,
    "start_time": "2023-08-07T08:43:26.411Z"
   },
   {
    "duration": 55,
    "start_time": "2023-08-07T08:43:26.443Z"
   },
   {
    "duration": 42,
    "start_time": "2023-08-07T08:43:26.500Z"
   },
   {
    "duration": 21,
    "start_time": "2023-08-07T08:43:26.544Z"
   },
   {
    "duration": 21,
    "start_time": "2023-08-07T08:43:26.567Z"
   },
   {
    "duration": 22,
    "start_time": "2023-08-07T08:43:26.589Z"
   },
   {
    "duration": 43,
    "start_time": "2023-08-07T08:43:26.613Z"
   },
   {
    "duration": 17,
    "start_time": "2023-08-07T08:43:26.658Z"
   },
   {
    "duration": 22,
    "start_time": "2023-08-07T08:43:26.677Z"
   },
   {
    "duration": 19,
    "start_time": "2023-08-07T08:43:26.700Z"
   },
   {
    "duration": 20,
    "start_time": "2023-08-07T08:43:26.720Z"
   },
   {
    "duration": 18,
    "start_time": "2023-08-07T08:43:26.742Z"
   },
   {
    "duration": 14,
    "start_time": "2023-08-07T08:43:26.762Z"
   },
   {
    "duration": 173,
    "start_time": "2023-08-07T08:46:05.722Z"
   },
   {
    "duration": 131,
    "start_time": "2023-08-07T08:48:25.720Z"
   },
   {
    "duration": 7,
    "start_time": "2023-08-07T08:53:25.422Z"
   },
   {
    "duration": 135,
    "start_time": "2023-08-07T09:39:21.894Z"
   },
   {
    "duration": 139,
    "start_time": "2023-08-07T09:42:10.994Z"
   },
   {
    "duration": 45,
    "start_time": "2023-08-07T09:42:27.110Z"
   },
   {
    "duration": 7,
    "start_time": "2023-08-07T09:42:38.828Z"
   },
   {
    "duration": 84,
    "start_time": "2023-08-07T09:43:28.296Z"
   },
   {
    "duration": 7,
    "start_time": "2023-08-07T09:54:59.265Z"
   },
   {
    "duration": 8,
    "start_time": "2023-08-07T09:55:39.080Z"
   },
   {
    "duration": 7,
    "start_time": "2023-08-07T10:15:03.857Z"
   },
   {
    "duration": 1304,
    "start_time": "2023-08-07T10:15:13.170Z"
   },
   {
    "duration": 204,
    "start_time": "2023-08-07T10:15:14.476Z"
   },
   {
    "duration": 13,
    "start_time": "2023-08-07T10:15:14.681Z"
   },
   {
    "duration": 37,
    "start_time": "2023-08-07T10:15:14.696Z"
   },
   {
    "duration": 31,
    "start_time": "2023-08-07T10:15:14.735Z"
   },
   {
    "duration": 32,
    "start_time": "2023-08-07T10:15:14.768Z"
   },
   {
    "duration": 26,
    "start_time": "2023-08-07T10:15:14.802Z"
   },
   {
    "duration": 37,
    "start_time": "2023-08-07T10:15:14.829Z"
   },
   {
    "duration": 22,
    "start_time": "2023-08-07T10:15:14.868Z"
   },
   {
    "duration": 29,
    "start_time": "2023-08-07T10:15:14.892Z"
   },
   {
    "duration": 37,
    "start_time": "2023-08-07T10:15:14.922Z"
   },
   {
    "duration": 44,
    "start_time": "2023-08-07T10:15:14.961Z"
   },
   {
    "duration": 72,
    "start_time": "2023-08-07T10:15:15.007Z"
   },
   {
    "duration": 47,
    "start_time": "2023-08-07T10:15:15.082Z"
   },
   {
    "duration": 48,
    "start_time": "2023-08-07T10:15:15.131Z"
   },
   {
    "duration": 83,
    "start_time": "2023-08-07T10:15:15.181Z"
   },
   {
    "duration": 24,
    "start_time": "2023-08-07T10:15:15.266Z"
   },
   {
    "duration": 25,
    "start_time": "2023-08-07T10:15:15.292Z"
   },
   {
    "duration": 24,
    "start_time": "2023-08-07T10:15:15.319Z"
   },
   {
    "duration": 38,
    "start_time": "2023-08-07T10:15:15.344Z"
   },
   {
    "duration": 204,
    "start_time": "2023-08-07T10:15:15.384Z"
   },
   {
    "duration": 19,
    "start_time": "2023-08-07T10:15:15.589Z"
   },
   {
    "duration": 132,
    "start_time": "2023-08-07T10:15:15.610Z"
   },
   {
    "duration": 9,
    "start_time": "2023-08-07T10:15:15.744Z"
   },
   {
    "duration": 188,
    "start_time": "2023-08-07T10:15:15.755Z"
   },
   {
    "duration": 12,
    "start_time": "2023-08-07T10:15:15.946Z"
   },
   {
    "duration": 93,
    "start_time": "2023-08-07T10:15:15.960Z"
   },
   {
    "duration": 46,
    "start_time": "2023-08-07T10:15:16.055Z"
   },
   {
    "duration": 47,
    "start_time": "2023-08-07T10:15:16.103Z"
   },
   {
    "duration": 26,
    "start_time": "2023-08-07T10:15:16.151Z"
   },
   {
    "duration": 191,
    "start_time": "2023-08-07T10:15:16.179Z"
   },
   {
    "duration": 148,
    "start_time": "2023-08-07T10:15:16.372Z"
   },
   {
    "duration": 5,
    "start_time": "2023-08-07T10:15:16.522Z"
   },
   {
    "duration": 102,
    "start_time": "2023-08-07T10:15:16.529Z"
   },
   {
    "duration": 168,
    "start_time": "2023-08-07T10:15:16.633Z"
   },
   {
    "duration": 209,
    "start_time": "2023-08-07T10:15:16.808Z"
   },
   {
    "duration": 322,
    "start_time": "2023-08-07T10:15:17.019Z"
   },
   {
    "duration": 17,
    "start_time": "2023-08-07T10:15:17.343Z"
   },
   {
    "duration": 42,
    "start_time": "2023-08-07T10:15:17.362Z"
   },
   {
    "duration": 53,
    "start_time": "2023-08-07T10:15:17.406Z"
   },
   {
    "duration": 31,
    "start_time": "2023-08-07T10:15:17.465Z"
   },
   {
    "duration": 24,
    "start_time": "2023-08-07T10:15:17.498Z"
   },
   {
    "duration": 23,
    "start_time": "2023-08-07T10:15:17.523Z"
   },
   {
    "duration": 31,
    "start_time": "2023-08-07T10:15:17.548Z"
   },
   {
    "duration": 53,
    "start_time": "2023-08-07T10:15:17.581Z"
   },
   {
    "duration": 37,
    "start_time": "2023-08-07T10:15:17.635Z"
   },
   {
    "duration": 36,
    "start_time": "2023-08-07T10:15:17.674Z"
   },
   {
    "duration": 410,
    "start_time": "2023-08-07T10:15:17.711Z"
   },
   {
    "duration": 410,
    "start_time": "2023-08-07T10:15:18.123Z"
   },
   {
    "duration": 21,
    "start_time": "2023-08-07T10:15:18.534Z"
   },
   {
    "duration": 82,
    "start_time": "2023-08-07T10:15:18.557Z"
   },
   {
    "duration": 28,
    "start_time": "2023-08-07T10:15:18.640Z"
   },
   {
    "duration": 46,
    "start_time": "2023-08-07T10:15:18.669Z"
   },
   {
    "duration": 39,
    "start_time": "2023-08-07T10:15:18.717Z"
   },
   {
    "duration": 41,
    "start_time": "2023-08-07T10:15:18.758Z"
   },
   {
    "duration": 15,
    "start_time": "2023-08-07T10:15:18.801Z"
   },
   {
    "duration": 30,
    "start_time": "2023-08-07T10:15:18.818Z"
   },
   {
    "duration": 38,
    "start_time": "2023-08-07T10:15:18.850Z"
   },
   {
    "duration": 23,
    "start_time": "2023-08-07T10:15:18.890Z"
   },
   {
    "duration": 61,
    "start_time": "2023-08-07T10:15:18.915Z"
   },
   {
    "duration": 20,
    "start_time": "2023-08-07T10:15:18.977Z"
   },
   {
    "duration": 43,
    "start_time": "2023-08-07T10:15:19.000Z"
   },
   {
    "duration": 41,
    "start_time": "2023-08-07T10:15:19.044Z"
   },
   {
    "duration": 18,
    "start_time": "2023-08-07T10:15:19.087Z"
   },
   {
    "duration": 24,
    "start_time": "2023-08-07T10:15:19.107Z"
   },
   {
    "duration": 146,
    "start_time": "2023-08-07T10:17:47.937Z"
   },
   {
    "duration": 145,
    "start_time": "2023-08-07T10:28:43.716Z"
   },
   {
    "duration": 6,
    "start_time": "2023-08-07T10:44:41.083Z"
   },
   {
    "duration": 150,
    "start_time": "2023-08-07T10:45:02.467Z"
   },
   {
    "duration": 4,
    "start_time": "2023-08-07T10:58:55.070Z"
   },
   {
    "duration": 4,
    "start_time": "2023-08-07T10:59:18.574Z"
   },
   {
    "duration": 4,
    "start_time": "2023-08-07T10:59:21.489Z"
   },
   {
    "duration": 150,
    "start_time": "2023-08-07T11:07:30.437Z"
   },
   {
    "duration": 133,
    "start_time": "2023-08-07T11:07:49.294Z"
   },
   {
    "duration": 93,
    "start_time": "2023-08-07T11:09:01.556Z"
   },
   {
    "duration": 100,
    "start_time": "2023-08-07T11:09:05.764Z"
   },
   {
    "duration": 344,
    "start_time": "2023-08-07T11:09:36.259Z"
   },
   {
    "duration": 113,
    "start_time": "2023-08-07T11:10:06.731Z"
   },
   {
    "duration": 137,
    "start_time": "2023-08-07T11:12:41.866Z"
   },
   {
    "duration": 269,
    "start_time": "2023-08-07T11:17:11.646Z"
   },
   {
    "duration": 208,
    "start_time": "2023-08-07T11:18:04.377Z"
   },
   {
    "duration": 236,
    "start_time": "2023-08-07T11:19:16.105Z"
   },
   {
    "duration": 237,
    "start_time": "2023-08-07T11:20:12.761Z"
   },
   {
    "duration": 151,
    "start_time": "2023-08-07T11:20:54.469Z"
   },
   {
    "duration": 231,
    "start_time": "2023-08-07T11:22:09.832Z"
   },
   {
    "duration": 240,
    "start_time": "2023-08-07T11:24:43.012Z"
   },
   {
    "duration": 415,
    "start_time": "2023-08-07T11:32:33.572Z"
   },
   {
    "duration": 341,
    "start_time": "2023-08-07T11:33:32.469Z"
   },
   {
    "duration": 374,
    "start_time": "2023-08-07T11:33:49.600Z"
   },
   {
    "duration": 389,
    "start_time": "2023-08-07T11:34:06.305Z"
   },
   {
    "duration": 204,
    "start_time": "2023-08-07T11:34:20.659Z"
   },
   {
    "duration": 269,
    "start_time": "2023-08-07T11:40:59.405Z"
   },
   {
    "duration": 303,
    "start_time": "2023-08-07T11:41:15.105Z"
   },
   {
    "duration": 158,
    "start_time": "2023-08-07T11:46:22.063Z"
   },
   {
    "duration": 166,
    "start_time": "2023-08-07T11:47:08.526Z"
   },
   {
    "duration": 4,
    "start_time": "2023-08-07T11:47:32.409Z"
   },
   {
    "duration": 175,
    "start_time": "2023-08-07T11:47:40.428Z"
   },
   {
    "duration": 174,
    "start_time": "2023-08-07T11:48:30.312Z"
   },
   {
    "duration": 176,
    "start_time": "2023-08-07T11:48:59.211Z"
   },
   {
    "duration": 180,
    "start_time": "2023-08-07T11:50:11.938Z"
   },
   {
    "duration": 215,
    "start_time": "2023-08-07T11:50:57.766Z"
   },
   {
    "duration": 214,
    "start_time": "2023-08-07T11:51:23.388Z"
   },
   {
    "duration": 381,
    "start_time": "2023-08-07T11:51:56.486Z"
   },
   {
    "duration": 514,
    "start_time": "2023-08-07T11:54:05.669Z"
   },
   {
    "duration": 427,
    "start_time": "2023-08-07T11:54:55.491Z"
   },
   {
    "duration": 5,
    "start_time": "2023-08-07T11:58:34.613Z"
   },
   {
    "duration": 5,
    "start_time": "2023-08-07T11:58:46.765Z"
   },
   {
    "duration": 178,
    "start_time": "2023-08-07T11:59:15.403Z"
   },
   {
    "duration": 199,
    "start_time": "2023-08-07T11:59:29.430Z"
   },
   {
    "duration": 160,
    "start_time": "2023-08-07T11:59:39.036Z"
   },
   {
    "duration": 316,
    "start_time": "2023-08-07T11:59:59.873Z"
   },
   {
    "duration": 168,
    "start_time": "2023-08-07T12:01:55.311Z"
   },
   {
    "duration": 159,
    "start_time": "2023-08-07T12:02:05.717Z"
   },
   {
    "duration": 165,
    "start_time": "2023-08-07T12:02:13.023Z"
   },
   {
    "duration": 162,
    "start_time": "2023-08-07T12:02:24.480Z"
   },
   {
    "duration": 214,
    "start_time": "2023-08-07T12:02:31.267Z"
   },
   {
    "duration": 158,
    "start_time": "2023-08-07T12:02:41.760Z"
   },
   {
    "duration": 168,
    "start_time": "2023-08-07T12:04:23.881Z"
   },
   {
    "duration": 217,
    "start_time": "2023-08-07T12:06:30.921Z"
   },
   {
    "duration": 244,
    "start_time": "2023-08-07T12:06:35.738Z"
   },
   {
    "duration": 181,
    "start_time": "2023-08-07T12:06:49.786Z"
   },
   {
    "duration": 190,
    "start_time": "2023-08-07T12:07:14.393Z"
   },
   {
    "duration": 146,
    "start_time": "2023-08-07T12:07:57.103Z"
   },
   {
    "duration": 156,
    "start_time": "2023-08-07T12:11:43.911Z"
   },
   {
    "duration": 162,
    "start_time": "2023-08-07T12:12:25.660Z"
   },
   {
    "duration": 302,
    "start_time": "2023-08-07T12:12:40.606Z"
   },
   {
    "duration": 150,
    "start_time": "2023-08-07T12:12:51.336Z"
   },
   {
    "duration": 171,
    "start_time": "2023-08-07T12:13:15.336Z"
   },
   {
    "duration": 156,
    "start_time": "2023-08-07T12:13:28.932Z"
   },
   {
    "duration": 171,
    "start_time": "2023-08-07T12:13:34.153Z"
   },
   {
    "duration": 160,
    "start_time": "2023-08-07T12:13:40.150Z"
   },
   {
    "duration": 161,
    "start_time": "2023-08-07T12:14:08.890Z"
   },
   {
    "duration": 201,
    "start_time": "2023-08-07T12:14:16.254Z"
   },
   {
    "duration": 155,
    "start_time": "2023-08-07T12:14:45.028Z"
   },
   {
    "duration": 187,
    "start_time": "2023-08-07T12:14:49.379Z"
   },
   {
    "duration": 168,
    "start_time": "2023-08-07T12:15:14.492Z"
   },
   {
    "duration": 172,
    "start_time": "2023-08-07T12:15:26.973Z"
   },
   {
    "duration": 166,
    "start_time": "2023-08-07T12:15:53.721Z"
   },
   {
    "duration": 170,
    "start_time": "2023-08-07T12:16:08.868Z"
   },
   {
    "duration": 210,
    "start_time": "2023-08-07T12:16:26.821Z"
   },
   {
    "duration": 335,
    "start_time": "2023-08-07T12:17:13.533Z"
   },
   {
    "duration": 9,
    "start_time": "2023-08-07T12:22:27.222Z"
   },
   {
    "duration": 1164,
    "start_time": "2023-08-07T12:23:31.575Z"
   },
   {
    "duration": 75,
    "start_time": "2023-08-07T12:23:32.741Z"
   },
   {
    "duration": 12,
    "start_time": "2023-08-07T12:23:32.818Z"
   },
   {
    "duration": 27,
    "start_time": "2023-08-07T12:23:32.832Z"
   },
   {
    "duration": 47,
    "start_time": "2023-08-07T12:23:32.862Z"
   },
   {
    "duration": 25,
    "start_time": "2023-08-07T12:23:32.911Z"
   },
   {
    "duration": 87,
    "start_time": "2023-08-07T12:23:32.938Z"
   },
   {
    "duration": 21,
    "start_time": "2023-08-07T12:23:33.027Z"
   },
   {
    "duration": 57,
    "start_time": "2023-08-07T12:23:33.049Z"
   },
   {
    "duration": 40,
    "start_time": "2023-08-07T12:23:33.108Z"
   },
   {
    "duration": 14,
    "start_time": "2023-08-07T12:23:33.149Z"
   },
   {
    "duration": 20,
    "start_time": "2023-08-07T12:23:33.164Z"
   },
   {
    "duration": 23,
    "start_time": "2023-08-07T12:23:33.186Z"
   },
   {
    "duration": 27,
    "start_time": "2023-08-07T12:23:33.212Z"
   },
   {
    "duration": 14,
    "start_time": "2023-08-07T12:23:33.241Z"
   },
   {
    "duration": 24,
    "start_time": "2023-08-07T12:23:33.256Z"
   },
   {
    "duration": 8,
    "start_time": "2023-08-07T12:23:33.282Z"
   },
   {
    "duration": 9,
    "start_time": "2023-08-07T12:23:33.292Z"
   },
   {
    "duration": 20,
    "start_time": "2023-08-07T12:23:33.302Z"
   },
   {
    "duration": 14,
    "start_time": "2023-08-07T12:23:33.324Z"
   },
   {
    "duration": 129,
    "start_time": "2023-08-07T12:23:33.340Z"
   },
   {
    "duration": 8,
    "start_time": "2023-08-07T12:23:33.471Z"
   },
   {
    "duration": 135,
    "start_time": "2023-08-07T12:23:33.481Z"
   },
   {
    "duration": 9,
    "start_time": "2023-08-07T12:23:33.617Z"
   },
   {
    "duration": 144,
    "start_time": "2023-08-07T12:23:33.627Z"
   },
   {
    "duration": 9,
    "start_time": "2023-08-07T12:23:33.772Z"
   },
   {
    "duration": 19,
    "start_time": "2023-08-07T12:23:33.783Z"
   },
   {
    "duration": 32,
    "start_time": "2023-08-07T12:23:33.803Z"
   },
   {
    "duration": 14,
    "start_time": "2023-08-07T12:23:33.837Z"
   },
   {
    "duration": 20,
    "start_time": "2023-08-07T12:23:33.853Z"
   },
   {
    "duration": 153,
    "start_time": "2023-08-07T12:23:33.874Z"
   },
   {
    "duration": 179,
    "start_time": "2023-08-07T12:23:34.028Z"
   },
   {
    "duration": 4,
    "start_time": "2023-08-07T12:23:34.209Z"
   },
   {
    "duration": 100,
    "start_time": "2023-08-07T12:23:34.215Z"
   },
   {
    "duration": 182,
    "start_time": "2023-08-07T12:23:34.317Z"
   },
   {
    "duration": 230,
    "start_time": "2023-08-07T12:23:34.501Z"
   },
   {
    "duration": 347,
    "start_time": "2023-08-07T12:23:34.732Z"
   },
   {
    "duration": 17,
    "start_time": "2023-08-07T12:23:35.081Z"
   },
   {
    "duration": 20,
    "start_time": "2023-08-07T12:23:35.109Z"
   },
   {
    "duration": 26,
    "start_time": "2023-08-07T12:23:35.130Z"
   },
   {
    "duration": 26,
    "start_time": "2023-08-07T12:23:35.161Z"
   },
   {
    "duration": 65,
    "start_time": "2023-08-07T12:23:35.189Z"
   },
   {
    "duration": 109,
    "start_time": "2023-08-07T12:23:35.256Z"
   },
   {
    "duration": 0,
    "start_time": "2023-08-07T12:23:35.367Z"
   },
   {
    "duration": 0,
    "start_time": "2023-08-07T12:23:35.369Z"
   },
   {
    "duration": 0,
    "start_time": "2023-08-07T12:23:35.371Z"
   },
   {
    "duration": 0,
    "start_time": "2023-08-07T12:23:35.372Z"
   },
   {
    "duration": 0,
    "start_time": "2023-08-07T12:23:35.373Z"
   },
   {
    "duration": 0,
    "start_time": "2023-08-07T12:23:35.375Z"
   },
   {
    "duration": 0,
    "start_time": "2023-08-07T12:23:35.376Z"
   },
   {
    "duration": 0,
    "start_time": "2023-08-07T12:23:35.377Z"
   },
   {
    "duration": 0,
    "start_time": "2023-08-07T12:23:35.379Z"
   },
   {
    "duration": 0,
    "start_time": "2023-08-07T12:23:35.381Z"
   },
   {
    "duration": 0,
    "start_time": "2023-08-07T12:23:35.382Z"
   },
   {
    "duration": 0,
    "start_time": "2023-08-07T12:23:35.408Z"
   },
   {
    "duration": 0,
    "start_time": "2023-08-07T12:23:35.411Z"
   },
   {
    "duration": 0,
    "start_time": "2023-08-07T12:23:35.412Z"
   },
   {
    "duration": 0,
    "start_time": "2023-08-07T12:23:35.414Z"
   },
   {
    "duration": 0,
    "start_time": "2023-08-07T12:23:35.415Z"
   },
   {
    "duration": 0,
    "start_time": "2023-08-07T12:23:35.416Z"
   },
   {
    "duration": 0,
    "start_time": "2023-08-07T12:23:35.418Z"
   },
   {
    "duration": 0,
    "start_time": "2023-08-07T12:23:35.419Z"
   },
   {
    "duration": 0,
    "start_time": "2023-08-07T12:23:35.421Z"
   },
   {
    "duration": 0,
    "start_time": "2023-08-07T12:23:35.422Z"
   },
   {
    "duration": 0,
    "start_time": "2023-08-07T12:23:35.424Z"
   },
   {
    "duration": 0,
    "start_time": "2023-08-07T12:23:35.425Z"
   },
   {
    "duration": 0,
    "start_time": "2023-08-07T12:23:35.427Z"
   },
   {
    "duration": 0,
    "start_time": "2023-08-07T12:23:35.428Z"
   },
   {
    "duration": 1240,
    "start_time": "2023-08-07T12:27:05.082Z"
   },
   {
    "duration": 73,
    "start_time": "2023-08-07T12:27:06.324Z"
   },
   {
    "duration": 14,
    "start_time": "2023-08-07T12:27:06.399Z"
   },
   {
    "duration": 45,
    "start_time": "2023-08-07T12:27:06.414Z"
   },
   {
    "duration": 23,
    "start_time": "2023-08-07T12:27:06.462Z"
   },
   {
    "duration": 33,
    "start_time": "2023-08-07T12:27:06.487Z"
   },
   {
    "duration": 48,
    "start_time": "2023-08-07T12:27:06.522Z"
   },
   {
    "duration": 45,
    "start_time": "2023-08-07T12:27:06.572Z"
   },
   {
    "duration": 40,
    "start_time": "2023-08-07T12:27:06.619Z"
   },
   {
    "duration": 39,
    "start_time": "2023-08-07T12:27:06.660Z"
   },
   {
    "duration": 11,
    "start_time": "2023-08-07T12:27:06.701Z"
   },
   {
    "duration": 14,
    "start_time": "2023-08-07T12:27:06.714Z"
   },
   {
    "duration": 23,
    "start_time": "2023-08-07T12:27:06.730Z"
   },
   {
    "duration": 13,
    "start_time": "2023-08-07T12:27:06.757Z"
   },
   {
    "duration": 8,
    "start_time": "2023-08-07T12:27:06.772Z"
   },
   {
    "duration": 21,
    "start_time": "2023-08-07T12:27:06.782Z"
   },
   {
    "duration": 33,
    "start_time": "2023-08-07T12:27:06.806Z"
   },
   {
    "duration": 36,
    "start_time": "2023-08-07T12:27:06.841Z"
   },
   {
    "duration": 30,
    "start_time": "2023-08-07T12:27:06.879Z"
   },
   {
    "duration": 38,
    "start_time": "2023-08-07T12:27:06.911Z"
   },
   {
    "duration": 137,
    "start_time": "2023-08-07T12:27:06.952Z"
   },
   {
    "duration": 19,
    "start_time": "2023-08-07T12:27:07.091Z"
   },
   {
    "duration": 143,
    "start_time": "2023-08-07T12:27:07.111Z"
   },
   {
    "duration": 9,
    "start_time": "2023-08-07T12:27:07.255Z"
   },
   {
    "duration": 144,
    "start_time": "2023-08-07T12:27:07.266Z"
   },
   {
    "duration": 8,
    "start_time": "2023-08-07T12:27:07.412Z"
   },
   {
    "duration": 15,
    "start_time": "2023-08-07T12:27:07.422Z"
   },
   {
    "duration": 41,
    "start_time": "2023-08-07T12:27:07.439Z"
   },
   {
    "duration": 15,
    "start_time": "2023-08-07T12:27:07.482Z"
   },
   {
    "duration": 43,
    "start_time": "2023-08-07T12:27:07.499Z"
   },
   {
    "duration": 169,
    "start_time": "2023-08-07T12:27:07.544Z"
   },
   {
    "duration": 189,
    "start_time": "2023-08-07T12:27:07.715Z"
   },
   {
    "duration": 4,
    "start_time": "2023-08-07T12:27:07.908Z"
   },
   {
    "duration": 105,
    "start_time": "2023-08-07T12:27:07.914Z"
   },
   {
    "duration": 190,
    "start_time": "2023-08-07T12:27:08.021Z"
   },
   {
    "duration": 266,
    "start_time": "2023-08-07T12:27:08.212Z"
   },
   {
    "duration": 344,
    "start_time": "2023-08-07T12:27:08.479Z"
   },
   {
    "duration": 15,
    "start_time": "2023-08-07T12:27:08.825Z"
   },
   {
    "duration": 70,
    "start_time": "2023-08-07T12:27:08.842Z"
   },
   {
    "duration": 51,
    "start_time": "2023-08-07T12:27:08.914Z"
   },
   {
    "duration": 9,
    "start_time": "2023-08-07T12:27:08.970Z"
   },
   {
    "duration": 31,
    "start_time": "2023-08-07T12:27:08.980Z"
   },
   {
    "duration": 33,
    "start_time": "2023-08-07T12:27:09.013Z"
   },
   {
    "duration": 39,
    "start_time": "2023-08-07T12:27:09.047Z"
   },
   {
    "duration": 36,
    "start_time": "2023-08-07T12:27:09.088Z"
   },
   {
    "duration": 61,
    "start_time": "2023-08-07T12:27:09.126Z"
   },
   {
    "duration": 56,
    "start_time": "2023-08-07T12:27:09.189Z"
   },
   {
    "duration": 40,
    "start_time": "2023-08-07T12:27:09.247Z"
   },
   {
    "duration": 25,
    "start_time": "2023-08-07T12:27:09.288Z"
   },
   {
    "duration": 425,
    "start_time": "2023-08-07T12:27:09.314Z"
   },
   {
    "duration": 417,
    "start_time": "2023-08-07T12:27:09.740Z"
   },
   {
    "duration": 21,
    "start_time": "2023-08-07T12:27:10.158Z"
   },
   {
    "duration": 22,
    "start_time": "2023-08-07T12:27:10.180Z"
   },
   {
    "duration": 83,
    "start_time": "2023-08-07T12:27:10.204Z"
   },
   {
    "duration": 31,
    "start_time": "2023-08-07T12:27:10.288Z"
   },
   {
    "duration": 9,
    "start_time": "2023-08-07T12:27:10.321Z"
   },
   {
    "duration": 18,
    "start_time": "2023-08-07T12:27:10.332Z"
   },
   {
    "duration": 5,
    "start_time": "2023-08-07T12:27:10.351Z"
   },
   {
    "duration": 32,
    "start_time": "2023-08-07T12:27:10.357Z"
   },
   {
    "duration": 20,
    "start_time": "2023-08-07T12:27:10.391Z"
   },
   {
    "duration": 29,
    "start_time": "2023-08-07T12:27:10.413Z"
   },
   {
    "duration": 18,
    "start_time": "2023-08-07T12:27:10.443Z"
   },
   {
    "duration": 13,
    "start_time": "2023-08-07T12:27:10.463Z"
   },
   {
    "duration": 10,
    "start_time": "2023-08-07T12:27:10.478Z"
   },
   {
    "duration": 26,
    "start_time": "2023-08-07T12:27:10.489Z"
   },
   {
    "duration": 27,
    "start_time": "2023-08-07T12:27:10.517Z"
   },
   {
    "duration": 34,
    "start_time": "2023-08-07T12:27:10.545Z"
   },
   {
    "duration": 1137,
    "start_time": "2023-08-07T16:35:53.552Z"
   },
   {
    "duration": 536,
    "start_time": "2023-08-07T16:35:54.691Z"
   },
   {
    "duration": 14,
    "start_time": "2023-08-07T16:35:55.228Z"
   },
   {
    "duration": 21,
    "start_time": "2023-08-07T16:35:55.244Z"
   },
   {
    "duration": 34,
    "start_time": "2023-08-07T16:35:55.267Z"
   },
   {
    "duration": 34,
    "start_time": "2023-08-07T16:35:55.302Z"
   },
   {
    "duration": 16,
    "start_time": "2023-08-07T16:35:55.338Z"
   },
   {
    "duration": 28,
    "start_time": "2023-08-07T16:35:55.355Z"
   },
   {
    "duration": 27,
    "start_time": "2023-08-07T16:35:55.385Z"
   },
   {
    "duration": 10,
    "start_time": "2023-08-07T16:35:55.415Z"
   },
   {
    "duration": 24,
    "start_time": "2023-08-07T16:35:55.426Z"
   },
   {
    "duration": 8,
    "start_time": "2023-08-07T16:35:55.452Z"
   },
   {
    "duration": 19,
    "start_time": "2023-08-07T16:35:55.461Z"
   },
   {
    "duration": 12,
    "start_time": "2023-08-07T16:35:55.481Z"
   },
   {
    "duration": 16,
    "start_time": "2023-08-07T16:35:55.494Z"
   },
   {
    "duration": 33,
    "start_time": "2023-08-07T16:35:55.511Z"
   },
   {
    "duration": 6,
    "start_time": "2023-08-07T16:35:55.546Z"
   },
   {
    "duration": 21,
    "start_time": "2023-08-07T16:35:55.554Z"
   },
   {
    "duration": 13,
    "start_time": "2023-08-07T16:35:55.576Z"
   },
   {
    "duration": 29,
    "start_time": "2023-08-07T16:35:55.590Z"
   },
   {
    "duration": 145,
    "start_time": "2023-08-07T16:35:55.621Z"
   },
   {
    "duration": 13,
    "start_time": "2023-08-07T16:35:55.768Z"
   },
   {
    "duration": 129,
    "start_time": "2023-08-07T16:35:55.782Z"
   },
   {
    "duration": 10,
    "start_time": "2023-08-07T16:35:55.913Z"
   },
   {
    "duration": 140,
    "start_time": "2023-08-07T16:35:55.925Z"
   },
   {
    "duration": 15,
    "start_time": "2023-08-07T16:35:56.067Z"
   },
   {
    "duration": 35,
    "start_time": "2023-08-07T16:35:56.083Z"
   },
   {
    "duration": 33,
    "start_time": "2023-08-07T16:35:56.121Z"
   },
   {
    "duration": 28,
    "start_time": "2023-08-07T16:35:56.156Z"
   },
   {
    "duration": 16,
    "start_time": "2023-08-07T16:35:56.186Z"
   },
   {
    "duration": 129,
    "start_time": "2023-08-07T16:35:56.204Z"
   },
   {
    "duration": 169,
    "start_time": "2023-08-07T16:35:56.335Z"
   },
   {
    "duration": 4,
    "start_time": "2023-08-07T16:35:56.505Z"
   },
   {
    "duration": 90,
    "start_time": "2023-08-07T16:35:56.511Z"
   },
   {
    "duration": 161,
    "start_time": "2023-08-07T16:35:56.603Z"
   },
   {
    "duration": 205,
    "start_time": "2023-08-07T16:35:56.765Z"
   },
   {
    "duration": 288,
    "start_time": "2023-08-07T16:35:56.973Z"
   },
   {
    "duration": 17,
    "start_time": "2023-08-07T16:35:57.262Z"
   },
   {
    "duration": 13,
    "start_time": "2023-08-07T16:35:57.280Z"
   },
   {
    "duration": 14,
    "start_time": "2023-08-07T16:35:57.295Z"
   },
   {
    "duration": 16,
    "start_time": "2023-08-07T16:35:57.311Z"
   },
   {
    "duration": 12,
    "start_time": "2023-08-07T16:35:57.328Z"
   },
   {
    "duration": 11,
    "start_time": "2023-08-07T16:35:57.341Z"
   },
   {
    "duration": 21,
    "start_time": "2023-08-07T16:35:57.354Z"
   },
   {
    "duration": 6,
    "start_time": "2023-08-07T16:35:57.376Z"
   },
   {
    "duration": 12,
    "start_time": "2023-08-07T16:35:57.383Z"
   },
   {
    "duration": 6,
    "start_time": "2023-08-07T16:35:57.397Z"
   },
   {
    "duration": 6,
    "start_time": "2023-08-07T16:35:57.405Z"
   },
   {
    "duration": 7,
    "start_time": "2023-08-07T16:35:57.412Z"
   },
   {
    "duration": 367,
    "start_time": "2023-08-07T16:35:57.420Z"
   },
   {
    "duration": 407,
    "start_time": "2023-08-07T16:35:57.790Z"
   },
   {
    "duration": 21,
    "start_time": "2023-08-07T16:35:58.198Z"
   },
   {
    "duration": 11,
    "start_time": "2023-08-07T16:35:58.220Z"
   },
   {
    "duration": 22,
    "start_time": "2023-08-07T16:35:58.232Z"
   },
   {
    "duration": 25,
    "start_time": "2023-08-07T16:35:58.256Z"
   },
   {
    "duration": 7,
    "start_time": "2023-08-07T16:35:58.283Z"
   },
   {
    "duration": 16,
    "start_time": "2023-08-07T16:35:58.291Z"
   },
   {
    "duration": 7,
    "start_time": "2023-08-07T16:35:58.308Z"
   },
   {
    "duration": 9,
    "start_time": "2023-08-07T16:35:58.317Z"
   },
   {
    "duration": 10,
    "start_time": "2023-08-07T16:35:58.327Z"
   },
   {
    "duration": 9,
    "start_time": "2023-08-07T16:35:58.338Z"
   },
   {
    "duration": 11,
    "start_time": "2023-08-07T16:35:58.349Z"
   },
   {
    "duration": 4,
    "start_time": "2023-08-07T16:35:58.374Z"
   },
   {
    "duration": 5,
    "start_time": "2023-08-07T16:35:58.379Z"
   },
   {
    "duration": 14,
    "start_time": "2023-08-07T16:35:58.385Z"
   },
   {
    "duration": 12,
    "start_time": "2023-08-07T16:35:58.400Z"
   },
   {
    "duration": 6,
    "start_time": "2023-08-07T16:35:58.413Z"
   },
   {
    "duration": 1025,
    "start_time": "2023-08-14T08:26:16.836Z"
   },
   {
    "duration": 196,
    "start_time": "2023-08-14T08:26:17.863Z"
   },
   {
    "duration": 11,
    "start_time": "2023-08-14T08:26:18.061Z"
   },
   {
    "duration": 30,
    "start_time": "2023-08-14T08:26:18.073Z"
   },
   {
    "duration": 65,
    "start_time": "2023-08-14T08:26:18.106Z"
   },
   {
    "duration": 41,
    "start_time": "2023-08-14T08:26:18.172Z"
   },
   {
    "duration": 8,
    "start_time": "2023-08-14T08:26:18.215Z"
   },
   {
    "duration": 10,
    "start_time": "2023-08-14T08:26:18.224Z"
   },
   {
    "duration": 29,
    "start_time": "2023-08-14T08:26:18.236Z"
   },
   {
    "duration": 30,
    "start_time": "2023-08-14T08:26:18.266Z"
   },
   {
    "duration": 8,
    "start_time": "2023-08-14T08:26:18.298Z"
   },
   {
    "duration": 6,
    "start_time": "2023-08-14T08:26:18.308Z"
   },
   {
    "duration": 17,
    "start_time": "2023-08-14T08:26:18.315Z"
   },
   {
    "duration": 10,
    "start_time": "2023-08-14T08:26:18.336Z"
   },
   {
    "duration": 21,
    "start_time": "2023-08-14T08:26:18.348Z"
   },
   {
    "duration": 15,
    "start_time": "2023-08-14T08:26:18.370Z"
   },
   {
    "duration": 9,
    "start_time": "2023-08-14T08:26:18.387Z"
   },
   {
    "duration": 13,
    "start_time": "2023-08-14T08:26:18.398Z"
   },
   {
    "duration": 11,
    "start_time": "2023-08-14T08:26:18.413Z"
   },
   {
    "duration": 6,
    "start_time": "2023-08-14T08:26:18.425Z"
   },
   {
    "duration": 130,
    "start_time": "2023-08-14T08:26:18.432Z"
   },
   {
    "duration": 9,
    "start_time": "2023-08-14T08:26:18.563Z"
   },
   {
    "duration": 156,
    "start_time": "2023-08-14T08:26:18.573Z"
   },
   {
    "duration": 7,
    "start_time": "2023-08-14T08:26:18.730Z"
   },
   {
    "duration": 136,
    "start_time": "2023-08-14T08:26:18.738Z"
   },
   {
    "duration": 8,
    "start_time": "2023-08-14T08:26:18.875Z"
   },
   {
    "duration": 5,
    "start_time": "2023-08-14T08:26:18.884Z"
   },
   {
    "duration": 13,
    "start_time": "2023-08-14T08:26:18.891Z"
   },
   {
    "duration": 27,
    "start_time": "2023-08-14T08:26:18.905Z"
   },
   {
    "duration": 22,
    "start_time": "2023-08-14T08:26:18.933Z"
   },
   {
    "duration": 8,
    "start_time": "2023-08-14T08:26:18.956Z"
   },
   {
    "duration": 216,
    "start_time": "2023-08-14T08:26:18.966Z"
   },
   {
    "duration": 373,
    "start_time": "2023-08-14T08:26:19.184Z"
   },
   {
    "duration": 3,
    "start_time": "2023-08-14T08:26:19.559Z"
   },
   {
    "duration": 203,
    "start_time": "2023-08-14T08:26:19.563Z"
   },
   {
    "duration": 497,
    "start_time": "2023-08-14T08:26:19.767Z"
   },
   {
    "duration": 402,
    "start_time": "2023-08-14T08:26:20.266Z"
   },
   {
    "duration": 382,
    "start_time": "2023-08-14T08:26:20.669Z"
   },
   {
    "duration": 14,
    "start_time": "2023-08-14T08:26:21.052Z"
   },
   {
    "duration": 13,
    "start_time": "2023-08-14T08:26:21.068Z"
   },
   {
    "duration": 13,
    "start_time": "2023-08-14T08:26:21.084Z"
   },
   {
    "duration": 8,
    "start_time": "2023-08-14T08:26:21.098Z"
   },
   {
    "duration": 45,
    "start_time": "2023-08-14T08:26:21.107Z"
   },
   {
    "duration": 7,
    "start_time": "2023-08-14T08:26:21.154Z"
   },
   {
    "duration": 15,
    "start_time": "2023-08-14T08:26:21.163Z"
   },
   {
    "duration": 14,
    "start_time": "2023-08-14T08:26:21.180Z"
   },
   {
    "duration": 12,
    "start_time": "2023-08-14T08:26:21.195Z"
   },
   {
    "duration": 6,
    "start_time": "2023-08-14T08:26:21.208Z"
   },
   {
    "duration": 7,
    "start_time": "2023-08-14T08:26:21.215Z"
   },
   {
    "duration": 7,
    "start_time": "2023-08-14T08:26:21.223Z"
   },
   {
    "duration": 343,
    "start_time": "2023-08-14T08:26:21.231Z"
   },
   {
    "duration": 419,
    "start_time": "2023-08-14T08:26:21.575Z"
   },
   {
    "duration": 21,
    "start_time": "2023-08-14T08:26:21.996Z"
   },
   {
    "duration": 24,
    "start_time": "2023-08-14T08:26:22.018Z"
   },
   {
    "duration": 21,
    "start_time": "2023-08-14T08:26:22.043Z"
   },
   {
    "duration": 29,
    "start_time": "2023-08-14T08:26:22.065Z"
   },
   {
    "duration": 7,
    "start_time": "2023-08-14T08:26:22.096Z"
   },
   {
    "duration": 15,
    "start_time": "2023-08-14T08:26:22.104Z"
   },
   {
    "duration": 5,
    "start_time": "2023-08-14T08:26:22.120Z"
   },
   {
    "duration": 22,
    "start_time": "2023-08-14T08:26:22.126Z"
   },
   {
    "duration": 26,
    "start_time": "2023-08-14T08:26:22.149Z"
   },
   {
    "duration": 10,
    "start_time": "2023-08-14T08:26:22.176Z"
   },
   {
    "duration": 15,
    "start_time": "2023-08-14T08:26:22.188Z"
   },
   {
    "duration": 10,
    "start_time": "2023-08-14T08:26:22.205Z"
   },
   {
    "duration": 5,
    "start_time": "2023-08-14T08:26:22.217Z"
   },
   {
    "duration": 29,
    "start_time": "2023-08-14T08:26:22.223Z"
   },
   {
    "duration": 30,
    "start_time": "2023-08-14T08:26:22.254Z"
   },
   {
    "duration": 12,
    "start_time": "2023-08-14T08:26:22.286Z"
   },
   {
    "duration": 43,
    "start_time": "2023-10-19T12:31:33.999Z"
   },
   {
    "duration": 0,
    "start_time": "2023-10-19T12:34:20.187Z"
   },
   {
    "duration": 1029,
    "start_time": "2023-10-19T12:34:20.262Z"
   },
   {
    "duration": 194,
    "start_time": "2023-10-19T12:34:21.293Z"
   },
   {
    "duration": 14,
    "start_time": "2023-10-19T12:34:21.488Z"
   },
   {
    "duration": 9,
    "start_time": "2023-10-19T12:34:21.504Z"
   },
   {
    "duration": 13,
    "start_time": "2023-10-19T12:34:21.515Z"
   },
   {
    "duration": 12,
    "start_time": "2023-10-19T12:34:21.529Z"
   },
   {
    "duration": 25,
    "start_time": "2023-10-19T12:34:21.542Z"
   },
   {
    "duration": 28,
    "start_time": "2023-10-19T12:34:21.569Z"
   },
   {
    "duration": 10,
    "start_time": "2023-10-19T12:34:21.599Z"
   },
   {
    "duration": 29,
    "start_time": "2023-10-19T12:34:21.612Z"
   },
   {
    "duration": 11,
    "start_time": "2023-10-19T12:34:21.643Z"
   },
   {
    "duration": 10,
    "start_time": "2023-10-19T12:34:21.655Z"
   },
   {
    "duration": 6,
    "start_time": "2023-10-19T12:34:21.666Z"
   },
   {
    "duration": 5,
    "start_time": "2023-10-19T12:34:21.673Z"
   },
   {
    "duration": 6,
    "start_time": "2023-10-19T12:34:21.679Z"
   },
   {
    "duration": 9,
    "start_time": "2023-10-19T12:34:21.686Z"
   },
   {
    "duration": 7,
    "start_time": "2023-10-19T12:34:21.696Z"
   },
   {
    "duration": 11,
    "start_time": "2023-10-19T12:34:21.704Z"
   },
   {
    "duration": 24,
    "start_time": "2023-10-19T12:34:21.716Z"
   },
   {
    "duration": 5,
    "start_time": "2023-10-19T12:34:21.741Z"
   },
   {
    "duration": 110,
    "start_time": "2023-10-19T12:34:21.747Z"
   },
   {
    "duration": 7,
    "start_time": "2023-10-19T12:34:21.858Z"
   },
   {
    "duration": 114,
    "start_time": "2023-10-19T12:34:21.867Z"
   },
   {
    "duration": 8,
    "start_time": "2023-10-19T12:34:21.982Z"
   },
   {
    "duration": 119,
    "start_time": "2023-10-19T12:34:21.991Z"
   },
   {
    "duration": 7,
    "start_time": "2023-10-19T12:34:22.112Z"
   },
   {
    "duration": 6,
    "start_time": "2023-10-19T12:34:22.120Z"
   },
   {
    "duration": 6,
    "start_time": "2023-10-19T12:34:22.141Z"
   },
   {
    "duration": 6,
    "start_time": "2023-10-19T12:34:22.148Z"
   },
   {
    "duration": 5,
    "start_time": "2023-10-19T12:34:22.155Z"
   },
   {
    "duration": 6,
    "start_time": "2023-10-19T12:34:22.161Z"
   },
   {
    "duration": 147,
    "start_time": "2023-10-19T12:34:22.168Z"
   },
   {
    "duration": 186,
    "start_time": "2023-10-19T12:34:22.317Z"
   },
   {
    "duration": 5,
    "start_time": "2023-10-19T12:34:22.505Z"
   },
   {
    "duration": 101,
    "start_time": "2023-10-19T12:34:22.512Z"
   },
   {
    "duration": 162,
    "start_time": "2023-10-19T12:34:22.615Z"
   },
   {
    "duration": 193,
    "start_time": "2023-10-19T12:34:22.779Z"
   },
   {
    "duration": 275,
    "start_time": "2023-10-19T12:34:22.973Z"
   },
   {
    "duration": 12,
    "start_time": "2023-10-19T12:34:23.250Z"
   },
   {
    "duration": 16,
    "start_time": "2023-10-19T12:34:23.263Z"
   },
   {
    "duration": 13,
    "start_time": "2023-10-19T12:34:23.280Z"
   },
   {
    "duration": 8,
    "start_time": "2023-10-19T12:34:23.294Z"
   },
   {
    "duration": 16,
    "start_time": "2023-10-19T12:34:23.303Z"
   },
   {
    "duration": 22,
    "start_time": "2023-10-19T12:34:23.321Z"
   },
   {
    "duration": 13,
    "start_time": "2023-10-19T12:34:23.345Z"
   },
   {
    "duration": 7,
    "start_time": "2023-10-19T12:34:23.359Z"
   },
   {
    "duration": 22,
    "start_time": "2023-10-19T12:34:23.367Z"
   },
   {
    "duration": 4,
    "start_time": "2023-10-19T12:34:23.391Z"
   },
   {
    "duration": 4,
    "start_time": "2023-10-19T12:34:23.396Z"
   },
   {
    "duration": 4,
    "start_time": "2023-10-19T12:34:23.402Z"
   },
   {
    "duration": 361,
    "start_time": "2023-10-19T12:34:23.407Z"
   },
   {
    "duration": 363,
    "start_time": "2023-10-19T12:34:23.770Z"
   },
   {
    "duration": 21,
    "start_time": "2023-10-19T12:34:24.135Z"
   },
   {
    "duration": 9,
    "start_time": "2023-10-19T12:34:24.157Z"
   },
   {
    "duration": 15,
    "start_time": "2023-10-19T12:34:24.167Z"
   },
   {
    "duration": 14,
    "start_time": "2023-10-19T12:34:24.183Z"
   },
   {
    "duration": 8,
    "start_time": "2023-10-19T12:34:24.199Z"
   },
   {
    "duration": 32,
    "start_time": "2023-10-19T12:34:24.208Z"
   },
   {
    "duration": 5,
    "start_time": "2023-10-19T12:34:24.241Z"
   },
   {
    "duration": 20,
    "start_time": "2023-10-19T12:34:24.247Z"
   },
   {
    "duration": 15,
    "start_time": "2023-10-19T12:34:24.268Z"
   },
   {
    "duration": 5,
    "start_time": "2023-10-19T12:34:24.284Z"
   },
   {
    "duration": 5,
    "start_time": "2023-10-19T12:34:24.291Z"
   },
   {
    "duration": 10,
    "start_time": "2023-10-19T12:34:24.297Z"
   },
   {
    "duration": 8,
    "start_time": "2023-10-19T12:34:24.308Z"
   },
   {
    "duration": 10,
    "start_time": "2023-10-19T12:34:24.317Z"
   },
   {
    "duration": 21,
    "start_time": "2023-10-19T12:34:24.328Z"
   },
   {
    "duration": 7,
    "start_time": "2023-10-19T12:34:24.351Z"
   },
   {
    "duration": 8,
    "start_time": "2023-10-19T12:34:40.152Z"
   },
   {
    "duration": 58,
    "start_time": "2023-10-19T12:36:36.708Z"
   }
  ],
  "kernelspec": {
   "display_name": "Python 3 (ipykernel)",
   "language": "python",
   "name": "python3"
  },
  "language_info": {
   "codemirror_mode": {
    "name": "ipython",
    "version": 3
   },
   "file_extension": ".py",
   "mimetype": "text/x-python",
   "name": "python",
   "nbconvert_exporter": "python",
   "pygments_lexer": "ipython3",
   "version": "3.9.18"
  },
  "toc": {
   "base_numbering": 1,
   "nav_menu": {},
   "number_sections": true,
   "sideBar": true,
   "skip_h1_title": true,
   "title_cell": "Table of Contents",
   "title_sidebar": "Contents",
   "toc_cell": false,
   "toc_position": {
    "height": "calc(100% - 180px)",
    "left": "10px",
    "top": "150px",
    "width": "234.236px"
   },
   "toc_section_display": true,
   "toc_window_display": true
  }
 },
 "nbformat": 4,
 "nbformat_minor": 5
}
